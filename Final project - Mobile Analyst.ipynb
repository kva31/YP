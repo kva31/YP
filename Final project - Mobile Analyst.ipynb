{
  "cells": [
    {
      "cell_type": "markdown",
      "metadata": {
        "id": "MUgWl-3fqQoE"
      },
      "source": [
        "<div style=\"border:solid green 2px; padding: 20px\">\n",
        "    \n",
        "<b>Вадим, привет! Это Александр</b> Я рад тебя видеть на финальном спринте (Основной проект).\n",
        "\n",
        "---\n",
        "\n",
        "Я буду красить комментарии цветом, пожалуйста, не удаляй их:\n",
        "\n",
        "<div class=\"alert alert-block alert-danger\">✍\n",
        "    \n",
        "\n",
        "__Комментарий от тимлида №1__\n",
        "\n",
        "Такой комментарий нужно исправить обязательно, он критически влияет на удачное выполнение проекта.\n",
        "</div>\n",
        "    \n",
        "---\n",
        "\n",
        "<div class=\"alert alert-block alert-warning\">📝\n",
        "    \n",
        "\n",
        "__Комментарий от тимлида №1__\n",
        "\n",
        "\n",
        "Такой комментарий является рекомендацией или советом. Можешь использовать их на своё усмотрение.\n",
        "</div>\n",
        "\n",
        "---\n",
        "\n",
        "<div class=\"alert alert-block alert-success\">✔️\n",
        "    \n",
        "\n",
        "__Комментарий от тимлида №1__\n",
        "\n",
        "Такой комментарий  говорит о том, что было сделано что-то качественное и правильное =)\n",
        "</div>\n",
        "    \n",
        "---\n",
        "    \n",
        "Предлагаю работать над проектом в диалоге: если у тебя возникают вопросы — пиши об этом в слаке, не стесняйся. Так же, мне будет легче отследить изменения, если ты выделишь свои комментарии:   \n",
        "    \n",
        "<div class=\"alert alert-info\"> <b>Комментарии студента:</b> Например, вот так.</div>\n",
        "    \n",
        "    \n",
        "---"
      ]
    },
    {
      "cell_type": "markdown",
      "metadata": {
        "id": "fpxQfi4dqQoG"
      },
      "source": [
        "# Мобильное приложение \"Ненужные вещи\" - Выделение групп пользователей на основе поведения\n",
        "\n",
        "**Описание данных**\n",
        "\n",
        "Датасет содержит данные о событиях, совершенных в мобильном приложении \"Ненужные вещи\". В нем пользователи продают свои ненужные вещи, размещая их на доске объявлений.\n",
        "\n",
        "В датасете содержатся данные пользователей, впервые совершивших действия в приложении после 7 октября 2019 года.\n",
        "\n",
        "Датасет mobile_dataset.csv содержит колонки:\n",
        "\n",
        "event.time — время совершения\n",
        "\n",
        "event.name — название события\n",
        "\n",
        "user.id — идентификатор пользователя\n",
        "\n",
        "Датасет mobile_sources.csv содержит колонки:\n",
        "\n",
        "userId — идентификатор пользователя\n",
        "\n",
        "source — источник, с которого пользователь установил приложение\n",
        "\n",
        "\n",
        "**Расшифровки событий:**\n",
        "\n",
        "advert_open — открытие карточки объявления\n",
        "\n",
        "photos_show — просмотр фотографий в объявлении\n",
        "\n",
        "tips_show — пользователь увидел рекомендованные объявления\n",
        "\n",
        "tips_click — пользователь кликнул по рекомендованному объявлению\n",
        "\n",
        "contacts_show и show_contacts — пользователь нажал на кнопку \"посмотреть номер телефона\" на карточке объявления\n",
        "\n",
        "contacts_call — пользователь позвонил по номеру телефона на карточке объявления\n",
        "\n",
        "map — пользователь открыл карту размещенных объявлений\n",
        "\n",
        "search_1 — search_7 — разные события, связанные с поиском по сайту\n",
        "\n",
        "favorites_add — добавление объявления в избранное"
      ]
    },
    {
      "cell_type": "markdown",
      "metadata": {
        "id": "KD2BdlBUqQoH"
      },
      "source": [
        "# Декомпозиция\n",
        "\n",
        "###  Предобработка\n",
        "\n",
        "1.1 Проверка на дубликаты\n",
        "\n",
        "1.2 Приведение данных в порядок (настройка времени, приведение переменных к единому стилю, приведение типов данных)\n",
        "\n",
        "1.3 Проверка на пропуски\n",
        "\n",
        "\n",
        "### Исследовательский анализ данных - общее поведение пользователей\n",
        "\n",
        "2.1 Изучение общей информации о данных\n",
        "\n",
        "2.2 Изучение распределения признаков\n",
        "\n",
        "2.3 Анализ числа событий и пользователей\n",
        "\n",
        "2.4 Анализ воронки событий\n",
        "\n",
        "2.5 Анализ влияния событий на совершение целевого события\n",
        "\n",
        "### Сегментация пользователей на основе действий\n",
        "3.1 Необходимо выделить группы пользователей\n",
        "\n",
        "3.2 Определить, пользователи какой группы склонны часто возвращаться в мобильное приложение (retention rate)\n",
        "\n",
        "3.3 Определить, пользователи какой группы часто делают целевое событие (конверсия в целевое действие)\n",
        "\n",
        "### Проверка гипотез\n",
        "\n",
        "4.1 Одни пользователи совершают действия tips_show и tips_click, другие — только tips_show.\n",
        "\n",
        "Проверить гипотезу: конверсия в просмотры контактов различается у этих двух групп.\n",
        "\n",
        "4.2 Проверить гипотезу: У разных групп пользователей примерно одинаковое время сессий в приложении\n",
        "\n",
        "4.3 Конверсии в просмотры контактов среднеактивных и активных пользователей одинаковы\n",
        "\n",
        "### Выводы\n",
        "\n",
        "### Ссылка на дашборд\n",
        "\n",
        "### Ссылка на презентацию"
      ]
    },
    {
      "cell_type": "markdown",
      "metadata": {
        "id": "hQfujYzmqQoI"
      },
      "source": [
        "<div class=\"alert alert-block alert-danger\">✍\n",
        "    \n",
        "\n",
        "__Комментарий от тимлида №1__\n",
        "\n",
        "\n",
        "Хорошей практикой является - наличие в проекте описания данных и цели работы, это позволит читателям быстро понять, о чём исследование.\n",
        "\n",
        "Также желательно давать работе какое-то ёмкое наименование (заголовок), о чём она, если ты будешь составлять портфолио проектов, то будет важно показать с первых секунд, какая задача тут решалась.\n",
        "</div>"
      ]
    },
    {
      "cell_type": "markdown",
      "metadata": {
        "id": "yvCxWG5RqQoI"
      },
      "source": []
    },
    {
      "cell_type": "markdown",
      "metadata": {
        "id": "5n7lBSWKqQoI"
      },
      "source": []
    },
    {
      "cell_type": "markdown",
      "metadata": {
        "id": "45kvOu-kqQoJ"
      },
      "source": [
        "<div class=\"alert alert-block alert-danger\">✍\n",
        "    \n",
        "\n",
        "__Комментарий от тимлида №1__\n",
        "\n",
        "\n",
        "Твой проект тяжело читать, т.к. в нем нет заголовков/подзаголовков. Где начинается раздел, шаги и где они заканчиваются. Поправь, пожалуйста, оформление проекта"
      ]
    },
    {
      "cell_type": "markdown",
      "metadata": {
        "id": "FVtUkNViqQoJ"
      },
      "source": [
        "<div class=\"alert alert-block alert-success\">✔️\n",
        "    \n",
        "\n",
        "__Комментарий от тимлида №1__\n",
        "\n",
        "\n",
        "Отличная практика - расписывать цель и основные этапы перед началом проекта"
      ]
    },
    {
      "cell_type": "markdown",
      "metadata": {
        "id": "478gJZq2qQoJ"
      },
      "source": []
    },
    {
      "cell_type": "markdown",
      "metadata": {
        "id": "gMhWzjCnqQoJ"
      },
      "source": [
        "***Предобработка данных***"
      ]
    },
    {
      "cell_type": "markdown",
      "metadata": {
        "id": "V2sckTrvqQoJ"
      },
      "source": [
        "Подгрузим нужные библиотеки"
      ]
    },
    {
      "cell_type": "code",
      "execution_count": null,
      "metadata": {
        "id": "zOz7Bs15qQoJ"
      },
      "outputs": [],
      "source": [
        "import pandas as pd\n",
        "import numpy as np\n",
        "import seaborn as sns\n",
        "sns.set(rc={'figure.figsize':(14, 7)})\n",
        "import plotly.express as px\n",
        "import math as mth\n",
        "import matplotlib.pyplot as plt\n",
        "import warnings\n",
        "warnings.filterwarnings('ignore')\n",
        "import datetime as dt\n",
        "from scipy import stats as st"
      ]
    },
    {
      "cell_type": "code",
      "execution_count": null,
      "metadata": {
        "id": "5U5p9ldhqQoK"
      },
      "outputs": [],
      "source": [
        "mobile_sourсes = pd.read_csv('https://code.s3.yandex.net/datasets/mobile_sources.csv')\n",
        "mobile_dataset = pd.read_csv('https://code.s3.yandex.net/datasets/mobile_dataset.csv')"
      ]
    },
    {
      "cell_type": "markdown",
      "metadata": {
        "id": "GV850Rs4qQoK"
      },
      "source": [
        "Посмотрим первичную информацию о mobile_sourсes"
      ]
    },
    {
      "cell_type": "code",
      "execution_count": null,
      "metadata": {
        "id": "HkOQJKXlqQoK",
        "outputId": "db78f494-9505-440f-e23e-3eb101a53327"
      },
      "outputs": [
        {
          "data": {
            "text/html": [
              "<div>\n",
              "<style scoped>\n",
              "    .dataframe tbody tr th:only-of-type {\n",
              "        vertical-align: middle;\n",
              "    }\n",
              "\n",
              "    .dataframe tbody tr th {\n",
              "        vertical-align: top;\n",
              "    }\n",
              "\n",
              "    .dataframe thead th {\n",
              "        text-align: right;\n",
              "    }\n",
              "</style>\n",
              "<table border=\"1\" class=\"dataframe\">\n",
              "  <thead>\n",
              "    <tr style=\"text-align: right;\">\n",
              "      <th></th>\n",
              "      <th>userId</th>\n",
              "      <th>source</th>\n",
              "    </tr>\n",
              "  </thead>\n",
              "  <tbody>\n",
              "    <tr>\n",
              "      <th>0</th>\n",
              "      <td>020292ab-89bc-4156-9acf-68bc2783f894</td>\n",
              "      <td>other</td>\n",
              "    </tr>\n",
              "    <tr>\n",
              "      <th>1</th>\n",
              "      <td>cf7eda61-9349-469f-ac27-e5b6f5ec475c</td>\n",
              "      <td>yandex</td>\n",
              "    </tr>\n",
              "    <tr>\n",
              "      <th>2</th>\n",
              "      <td>8c356c42-3ba9-4cb6-80b8-3f868d0192c3</td>\n",
              "      <td>yandex</td>\n",
              "    </tr>\n",
              "    <tr>\n",
              "      <th>3</th>\n",
              "      <td>d9b06b47-0f36-419b-bbb0-3533e582a6cb</td>\n",
              "      <td>other</td>\n",
              "    </tr>\n",
              "    <tr>\n",
              "      <th>4</th>\n",
              "      <td>f32e1e2a-3027-4693-b793-b7b3ff274439</td>\n",
              "      <td>google</td>\n",
              "    </tr>\n",
              "  </tbody>\n",
              "</table>\n",
              "</div>"
            ],
            "text/plain": [
              "                                 userId  source\n",
              "0  020292ab-89bc-4156-9acf-68bc2783f894   other\n",
              "1  cf7eda61-9349-469f-ac27-e5b6f5ec475c  yandex\n",
              "2  8c356c42-3ba9-4cb6-80b8-3f868d0192c3  yandex\n",
              "3  d9b06b47-0f36-419b-bbb0-3533e582a6cb   other\n",
              "4  f32e1e2a-3027-4693-b793-b7b3ff274439  google"
            ]
          },
          "execution_count": 3,
          "metadata": {},
          "output_type": "execute_result"
        }
      ],
      "source": [
        "mobile_sourсes.head()"
      ]
    },
    {
      "cell_type": "code",
      "execution_count": null,
      "metadata": {
        "id": "tfqju6h8qQoL",
        "outputId": "f685bf67-d623-414b-b875-1337d903c5ab"
      },
      "outputs": [
        {
          "name": "stdout",
          "output_type": "stream",
          "text": [
            "<class 'pandas.core.frame.DataFrame'>\n",
            "RangeIndex: 4293 entries, 0 to 4292\n",
            "Data columns (total 2 columns):\n",
            " #   Column  Non-Null Count  Dtype \n",
            "---  ------  --------------  ----- \n",
            " 0   userId  4293 non-null   object\n",
            " 1   source  4293 non-null   object\n",
            "dtypes: object(2)\n",
            "memory usage: 67.2+ KB\n"
          ]
        }
      ],
      "source": [
        "mobile_sourсes.info()"
      ]
    },
    {
      "cell_type": "code",
      "execution_count": null,
      "metadata": {
        "scrolled": false,
        "id": "2l5bz7y2qQoL",
        "outputId": "a7c70e71-f442-42c3-f5f7-2368e0a01925"
      },
      "outputs": [
        {
          "data": {
            "text/html": [
              "<div>\n",
              "<style scoped>\n",
              "    .dataframe tbody tr th:only-of-type {\n",
              "        vertical-align: middle;\n",
              "    }\n",
              "\n",
              "    .dataframe tbody tr th {\n",
              "        vertical-align: top;\n",
              "    }\n",
              "\n",
              "    .dataframe thead th {\n",
              "        text-align: right;\n",
              "    }\n",
              "</style>\n",
              "<table border=\"1\" class=\"dataframe\">\n",
              "  <thead>\n",
              "    <tr style=\"text-align: right;\">\n",
              "      <th></th>\n",
              "      <th>userId</th>\n",
              "      <th>source</th>\n",
              "    </tr>\n",
              "  </thead>\n",
              "  <tbody>\n",
              "    <tr>\n",
              "      <th>4288</th>\n",
              "      <td>b86fe56e-f2de-4f8a-b192-cd89a37ecd41</td>\n",
              "      <td>yandex</td>\n",
              "    </tr>\n",
              "    <tr>\n",
              "      <th>4289</th>\n",
              "      <td>424c0ae1-3ea3-4f1e-a814-6bac73e48ab1</td>\n",
              "      <td>yandex</td>\n",
              "    </tr>\n",
              "    <tr>\n",
              "      <th>4290</th>\n",
              "      <td>437a4cd4-9ba9-457f-8614-d142bc48fbeb</td>\n",
              "      <td>yandex</td>\n",
              "    </tr>\n",
              "    <tr>\n",
              "      <th>4291</th>\n",
              "      <td>c10055f0-0b47-477a-869e-d391b31fdf8f</td>\n",
              "      <td>yandex</td>\n",
              "    </tr>\n",
              "    <tr>\n",
              "      <th>4292</th>\n",
              "      <td>d157bffc-264d-4464-8220-1cc0c42f43a9</td>\n",
              "      <td>google</td>\n",
              "    </tr>\n",
              "  </tbody>\n",
              "</table>\n",
              "</div>"
            ],
            "text/plain": [
              "                                    userId  source\n",
              "4288  b86fe56e-f2de-4f8a-b192-cd89a37ecd41  yandex\n",
              "4289  424c0ae1-3ea3-4f1e-a814-6bac73e48ab1  yandex\n",
              "4290  437a4cd4-9ba9-457f-8614-d142bc48fbeb  yandex\n",
              "4291  c10055f0-0b47-477a-869e-d391b31fdf8f  yandex\n",
              "4292  d157bffc-264d-4464-8220-1cc0c42f43a9  google"
            ]
          },
          "execution_count": 5,
          "metadata": {},
          "output_type": "execute_result"
        }
      ],
      "source": [
        "mobile_sourсes.tail()"
      ]
    },
    {
      "cell_type": "markdown",
      "metadata": {
        "id": "MvOWwCLoqQoM"
      },
      "source": [
        "Приведем названия столбцов в датасетах к стандартному виду"
      ]
    },
    {
      "cell_type": "code",
      "execution_count": null,
      "metadata": {
        "id": "6zKceEyBqQoM"
      },
      "outputs": [],
      "source": [
        "mobile_sourсes.columns = ['user_id', 'source']\n",
        "mobile_dataset.columns = ['event_time', 'event_name', 'user_id']"
      ]
    },
    {
      "cell_type": "code",
      "execution_count": null,
      "metadata": {
        "scrolled": true,
        "id": "muTtmYKNqQoM",
        "outputId": "17e44fb8-818e-4e23-e2ac-f0ae96fc0deb"
      },
      "outputs": [
        {
          "data": {
            "text/plain": [
              "tips_show        40055\n",
              "photos_show      10012\n",
              "advert_open       6164\n",
              "contacts_show     4450\n",
              "map               3881\n",
              "search_1          3506\n",
              "favorites_add     1417\n",
              "search_5          1049\n",
              "tips_click         814\n",
              "search_4           701\n",
              "contacts_call      541\n",
              "search_3           522\n",
              "search_6           460\n",
              "search_2           324\n",
              "search_7           222\n",
              "show_contacts       79\n",
              "Name: event_name, dtype: int64"
            ]
          },
          "execution_count": 7,
          "metadata": {},
          "output_type": "execute_result"
        }
      ],
      "source": [
        "mobile_dataset['event_name'].value_counts()"
      ]
    },
    {
      "cell_type": "code",
      "execution_count": null,
      "metadata": {
        "id": "QnWl3K6bqQoM"
      },
      "outputs": [],
      "source": [
        "mobile_dataset['event_time'] = pd.to_datetime(mobile_dataset['event_time'], format = '%Y-%m-%d %H:%M:%S')"
      ]
    },
    {
      "cell_type": "code",
      "execution_count": null,
      "metadata": {
        "id": "GWCO22BKqQoM",
        "outputId": "fe5fef79-eceb-4920-c88f-8beaeb464ad4"
      },
      "outputs": [
        {
          "data": {
            "text/html": [
              "<div>\n",
              "<style scoped>\n",
              "    .dataframe tbody tr th:only-of-type {\n",
              "        vertical-align: middle;\n",
              "    }\n",
              "\n",
              "    .dataframe tbody tr th {\n",
              "        vertical-align: top;\n",
              "    }\n",
              "\n",
              "    .dataframe thead th {\n",
              "        text-align: right;\n",
              "    }\n",
              "</style>\n",
              "<table border=\"1\" class=\"dataframe\">\n",
              "  <thead>\n",
              "    <tr style=\"text-align: right;\">\n",
              "      <th></th>\n",
              "      <th>event_time</th>\n",
              "      <th>event_name</th>\n",
              "      <th>user_id</th>\n",
              "    </tr>\n",
              "  </thead>\n",
              "  <tbody>\n",
              "    <tr>\n",
              "      <th>0</th>\n",
              "      <td>2019-10-07 00:00:00</td>\n",
              "      <td>advert_open</td>\n",
              "      <td>020292ab-89bc-4156-9acf-68bc2783f894</td>\n",
              "    </tr>\n",
              "    <tr>\n",
              "      <th>1</th>\n",
              "      <td>2019-10-07 00:00:01</td>\n",
              "      <td>tips_show</td>\n",
              "      <td>020292ab-89bc-4156-9acf-68bc2783f894</td>\n",
              "    </tr>\n",
              "    <tr>\n",
              "      <th>2</th>\n",
              "      <td>2019-10-07 00:00:02</td>\n",
              "      <td>tips_show</td>\n",
              "      <td>cf7eda61-9349-469f-ac27-e5b6f5ec475c</td>\n",
              "    </tr>\n",
              "    <tr>\n",
              "      <th>3</th>\n",
              "      <td>2019-10-07 00:00:07</td>\n",
              "      <td>tips_show</td>\n",
              "      <td>020292ab-89bc-4156-9acf-68bc2783f894</td>\n",
              "    </tr>\n",
              "    <tr>\n",
              "      <th>4</th>\n",
              "      <td>2019-10-07 00:00:56</td>\n",
              "      <td>advert_open</td>\n",
              "      <td>cf7eda61-9349-469f-ac27-e5b6f5ec475c</td>\n",
              "    </tr>\n",
              "  </tbody>\n",
              "</table>\n",
              "</div>"
            ],
            "text/plain": [
              "           event_time   event_name                               user_id\n",
              "0 2019-10-07 00:00:00  advert_open  020292ab-89bc-4156-9acf-68bc2783f894\n",
              "1 2019-10-07 00:00:01    tips_show  020292ab-89bc-4156-9acf-68bc2783f894\n",
              "2 2019-10-07 00:00:02    tips_show  cf7eda61-9349-469f-ac27-e5b6f5ec475c\n",
              "3 2019-10-07 00:00:07    tips_show  020292ab-89bc-4156-9acf-68bc2783f894\n",
              "4 2019-10-07 00:00:56  advert_open  cf7eda61-9349-469f-ac27-e5b6f5ec475c"
            ]
          },
          "execution_count": 9,
          "metadata": {},
          "output_type": "execute_result"
        }
      ],
      "source": [
        "mobile_dataset['event_time'] = pd.to_datetime(mobile_dataset['event_time']).dt.floor(\"S\")\n",
        "mobile_dataset.head()"
      ]
    },
    {
      "cell_type": "markdown",
      "metadata": {
        "id": "4z52RtmQqQoN"
      },
      "source": [
        "Проверим на наличие пропусков"
      ]
    },
    {
      "cell_type": "code",
      "execution_count": null,
      "metadata": {
        "id": "iBziySRTqQoN",
        "outputId": "ed9cc63f-14aa-49ae-ce7d-51bda513fbc6"
      },
      "outputs": [
        {
          "data": {
            "text/plain": [
              "user_id    0\n",
              "source     0\n",
              "dtype: int64"
            ]
          },
          "execution_count": 10,
          "metadata": {},
          "output_type": "execute_result"
        }
      ],
      "source": [
        "mobile_sourсes.isna().sum()"
      ]
    },
    {
      "cell_type": "code",
      "execution_count": null,
      "metadata": {
        "id": "BgwDmBraqQoN",
        "outputId": "cdc6d4d3-7b27-41d6-d17e-7e4c9f6aa5d9"
      },
      "outputs": [
        {
          "data": {
            "text/plain": [
              "event_time    0\n",
              "event_name    0\n",
              "user_id       0\n",
              "dtype: int64"
            ]
          },
          "execution_count": 11,
          "metadata": {},
          "output_type": "execute_result"
        }
      ],
      "source": [
        "mobile_dataset.isna().sum()"
      ]
    },
    {
      "cell_type": "code",
      "execution_count": null,
      "metadata": {
        "scrolled": true,
        "id": "6wAkxfdgqQoN",
        "outputId": "4af516e9-db8b-4a44-d99b-fe7bba1288f3"
      },
      "outputs": [
        {
          "data": {
            "text/plain": [
              "array(['advert_open', 'tips_show', 'map', 'contacts_show', 'search_4',\n",
              "       'search_5', 'tips_click', 'photos_show', 'search_1', 'search_2',\n",
              "       'search_3', 'favorites_add', 'contacts_call', 'search_6',\n",
              "       'search_7', 'show_contacts'], dtype=object)"
            ]
          },
          "execution_count": 12,
          "metadata": {},
          "output_type": "execute_result"
        }
      ],
      "source": [
        "mobile_dataset['event_name'].unique()"
      ]
    },
    {
      "cell_type": "markdown",
      "metadata": {
        "id": "h_zhPCwmqQoN"
      },
      "source": [
        "Проверим на дубликаты"
      ]
    },
    {
      "cell_type": "code",
      "execution_count": null,
      "metadata": {
        "id": "a3NnkwROqQoO",
        "outputId": "91a9f00a-af87-4c3d-a15e-ff9849d8ba54"
      },
      "outputs": [
        {
          "data": {
            "text/plain": [
              "0"
            ]
          },
          "execution_count": 13,
          "metadata": {},
          "output_type": "execute_result"
        }
      ],
      "source": [
        "mobile_sourсes.duplicated().sum()"
      ]
    },
    {
      "cell_type": "code",
      "execution_count": null,
      "metadata": {
        "id": "x5kq1v2YqQoO",
        "outputId": "01edfa0e-7b51-4a43-b024-0811f1e8eeb3"
      },
      "outputs": [
        {
          "data": {
            "text/plain": [
              "1143"
            ]
          },
          "execution_count": 14,
          "metadata": {},
          "output_type": "execute_result"
        }
      ],
      "source": [
        "mobile_dataset.duplicated().sum()"
      ]
    },
    {
      "cell_type": "markdown",
      "metadata": {
        "id": "wR_1l2fsqQoO"
      },
      "source": [
        "<div class=\"alert alert-block alert-success\">✔️\n",
        "    \n",
        "\n",
        "__Комментарий от тимлида №1__\n",
        "\n",
        "    \n",
        "Проверка на дубликаты - основа предобработки данных"
      ]
    },
    {
      "cell_type": "code",
      "execution_count": null,
      "metadata": {
        "scrolled": true,
        "id": "xFwTw7GnqQoO",
        "outputId": "40212a74-b2ad-452f-d5b0-95322e5eacf2"
      },
      "outputs": [
        {
          "data": {
            "text/html": [
              "<div>\n",
              "<style scoped>\n",
              "    .dataframe tbody tr th:only-of-type {\n",
              "        vertical-align: middle;\n",
              "    }\n",
              "\n",
              "    .dataframe tbody tr th {\n",
              "        vertical-align: top;\n",
              "    }\n",
              "\n",
              "    .dataframe thead th {\n",
              "        text-align: right;\n",
              "    }\n",
              "</style>\n",
              "<table border=\"1\" class=\"dataframe\">\n",
              "  <thead>\n",
              "    <tr style=\"text-align: right;\">\n",
              "      <th></th>\n",
              "      <th>event_time</th>\n",
              "      <th>event_name</th>\n",
              "      <th>user_id</th>\n",
              "    </tr>\n",
              "  </thead>\n",
              "  <tbody>\n",
              "    <tr>\n",
              "      <th>0</th>\n",
              "      <td>2019-10-07 00:00:00</td>\n",
              "      <td>advert_open</td>\n",
              "      <td>020292ab-89bc-4156-9acf-68bc2783f894</td>\n",
              "    </tr>\n",
              "    <tr>\n",
              "      <th>1</th>\n",
              "      <td>2019-10-07 00:00:01</td>\n",
              "      <td>tips_show</td>\n",
              "      <td>020292ab-89bc-4156-9acf-68bc2783f894</td>\n",
              "    </tr>\n",
              "    <tr>\n",
              "      <th>2</th>\n",
              "      <td>2019-10-07 00:00:02</td>\n",
              "      <td>tips_show</td>\n",
              "      <td>cf7eda61-9349-469f-ac27-e5b6f5ec475c</td>\n",
              "    </tr>\n",
              "    <tr>\n",
              "      <th>3</th>\n",
              "      <td>2019-10-07 00:00:07</td>\n",
              "      <td>tips_show</td>\n",
              "      <td>020292ab-89bc-4156-9acf-68bc2783f894</td>\n",
              "    </tr>\n",
              "    <tr>\n",
              "      <th>4</th>\n",
              "      <td>2019-10-07 00:00:56</td>\n",
              "      <td>advert_open</td>\n",
              "      <td>cf7eda61-9349-469f-ac27-e5b6f5ec475c</td>\n",
              "    </tr>\n",
              "    <tr>\n",
              "      <th>...</th>\n",
              "      <td>...</td>\n",
              "      <td>...</td>\n",
              "      <td>...</td>\n",
              "    </tr>\n",
              "    <tr>\n",
              "      <th>74192</th>\n",
              "      <td>2019-11-03 23:53:29</td>\n",
              "      <td>tips_show</td>\n",
              "      <td>28fccdf4-7b9e-42f5-bc73-439a265f20e9</td>\n",
              "    </tr>\n",
              "    <tr>\n",
              "      <th>74193</th>\n",
              "      <td>2019-11-03 23:54:00</td>\n",
              "      <td>tips_show</td>\n",
              "      <td>28fccdf4-7b9e-42f5-bc73-439a265f20e9</td>\n",
              "    </tr>\n",
              "    <tr>\n",
              "      <th>74194</th>\n",
              "      <td>2019-11-03 23:56:57</td>\n",
              "      <td>search_1</td>\n",
              "      <td>20850c8f-4135-4059-b13b-198d3ac59902</td>\n",
              "    </tr>\n",
              "    <tr>\n",
              "      <th>74195</th>\n",
              "      <td>2019-11-03 23:57:06</td>\n",
              "      <td>tips_show</td>\n",
              "      <td>28fccdf4-7b9e-42f5-bc73-439a265f20e9</td>\n",
              "    </tr>\n",
              "    <tr>\n",
              "      <th>74196</th>\n",
              "      <td>2019-11-03 23:58:12</td>\n",
              "      <td>tips_show</td>\n",
              "      <td>28fccdf4-7b9e-42f5-bc73-439a265f20e9</td>\n",
              "    </tr>\n",
              "  </tbody>\n",
              "</table>\n",
              "<p>73054 rows × 3 columns</p>\n",
              "</div>"
            ],
            "text/plain": [
              "               event_time   event_name                               user_id\n",
              "0     2019-10-07 00:00:00  advert_open  020292ab-89bc-4156-9acf-68bc2783f894\n",
              "1     2019-10-07 00:00:01    tips_show  020292ab-89bc-4156-9acf-68bc2783f894\n",
              "2     2019-10-07 00:00:02    tips_show  cf7eda61-9349-469f-ac27-e5b6f5ec475c\n",
              "3     2019-10-07 00:00:07    tips_show  020292ab-89bc-4156-9acf-68bc2783f894\n",
              "4     2019-10-07 00:00:56  advert_open  cf7eda61-9349-469f-ac27-e5b6f5ec475c\n",
              "...                   ...          ...                                   ...\n",
              "74192 2019-11-03 23:53:29    tips_show  28fccdf4-7b9e-42f5-bc73-439a265f20e9\n",
              "74193 2019-11-03 23:54:00    tips_show  28fccdf4-7b9e-42f5-bc73-439a265f20e9\n",
              "74194 2019-11-03 23:56:57     search_1  20850c8f-4135-4059-b13b-198d3ac59902\n",
              "74195 2019-11-03 23:57:06    tips_show  28fccdf4-7b9e-42f5-bc73-439a265f20e9\n",
              "74196 2019-11-03 23:58:12    tips_show  28fccdf4-7b9e-42f5-bc73-439a265f20e9\n",
              "\n",
              "[73054 rows x 3 columns]"
            ]
          },
          "execution_count": 15,
          "metadata": {},
          "output_type": "execute_result"
        }
      ],
      "source": [
        "mob_df = mobile_dataset.drop_duplicates()\n",
        "mob_df"
      ]
    },
    {
      "cell_type": "markdown",
      "metadata": {
        "id": "AtshqtdxqQoO"
      },
      "source": [
        "Объединим два датасета в один"
      ]
    },
    {
      "cell_type": "code",
      "execution_count": null,
      "metadata": {
        "id": "GAjzsZcxqQoO",
        "outputId": "62240349-f63c-4857-acfe-1c8f5a53f4ed"
      },
      "outputs": [
        {
          "data": {
            "text/html": [
              "<div>\n",
              "<style scoped>\n",
              "    .dataframe tbody tr th:only-of-type {\n",
              "        vertical-align: middle;\n",
              "    }\n",
              "\n",
              "    .dataframe tbody tr th {\n",
              "        vertical-align: top;\n",
              "    }\n",
              "\n",
              "    .dataframe thead th {\n",
              "        text-align: right;\n",
              "    }\n",
              "</style>\n",
              "<table border=\"1\" class=\"dataframe\">\n",
              "  <thead>\n",
              "    <tr style=\"text-align: right;\">\n",
              "      <th></th>\n",
              "      <th>event_time</th>\n",
              "      <th>event_name</th>\n",
              "      <th>user_id</th>\n",
              "      <th>source</th>\n",
              "    </tr>\n",
              "  </thead>\n",
              "  <tbody>\n",
              "    <tr>\n",
              "      <th>0</th>\n",
              "      <td>2019-10-07 00:00:00</td>\n",
              "      <td>advert_open</td>\n",
              "      <td>020292ab-89bc-4156-9acf-68bc2783f894</td>\n",
              "      <td>other</td>\n",
              "    </tr>\n",
              "    <tr>\n",
              "      <th>1</th>\n",
              "      <td>2019-10-07 00:00:01</td>\n",
              "      <td>tips_show</td>\n",
              "      <td>020292ab-89bc-4156-9acf-68bc2783f894</td>\n",
              "      <td>other</td>\n",
              "    </tr>\n",
              "    <tr>\n",
              "      <th>2</th>\n",
              "      <td>2019-10-07 00:00:02</td>\n",
              "      <td>tips_show</td>\n",
              "      <td>cf7eda61-9349-469f-ac27-e5b6f5ec475c</td>\n",
              "      <td>yandex</td>\n",
              "    </tr>\n",
              "    <tr>\n",
              "      <th>3</th>\n",
              "      <td>2019-10-07 00:00:07</td>\n",
              "      <td>tips_show</td>\n",
              "      <td>020292ab-89bc-4156-9acf-68bc2783f894</td>\n",
              "      <td>other</td>\n",
              "    </tr>\n",
              "    <tr>\n",
              "      <th>4</th>\n",
              "      <td>2019-10-07 00:00:56</td>\n",
              "      <td>advert_open</td>\n",
              "      <td>cf7eda61-9349-469f-ac27-e5b6f5ec475c</td>\n",
              "      <td>yandex</td>\n",
              "    </tr>\n",
              "    <tr>\n",
              "      <th>...</th>\n",
              "      <td>...</td>\n",
              "      <td>...</td>\n",
              "      <td>...</td>\n",
              "      <td>...</td>\n",
              "    </tr>\n",
              "    <tr>\n",
              "      <th>73049</th>\n",
              "      <td>2019-11-03 23:53:29</td>\n",
              "      <td>tips_show</td>\n",
              "      <td>28fccdf4-7b9e-42f5-bc73-439a265f20e9</td>\n",
              "      <td>google</td>\n",
              "    </tr>\n",
              "    <tr>\n",
              "      <th>73050</th>\n",
              "      <td>2019-11-03 23:54:00</td>\n",
              "      <td>tips_show</td>\n",
              "      <td>28fccdf4-7b9e-42f5-bc73-439a265f20e9</td>\n",
              "      <td>google</td>\n",
              "    </tr>\n",
              "    <tr>\n",
              "      <th>73051</th>\n",
              "      <td>2019-11-03 23:56:57</td>\n",
              "      <td>search_1</td>\n",
              "      <td>20850c8f-4135-4059-b13b-198d3ac59902</td>\n",
              "      <td>google</td>\n",
              "    </tr>\n",
              "    <tr>\n",
              "      <th>73052</th>\n",
              "      <td>2019-11-03 23:57:06</td>\n",
              "      <td>tips_show</td>\n",
              "      <td>28fccdf4-7b9e-42f5-bc73-439a265f20e9</td>\n",
              "      <td>google</td>\n",
              "    </tr>\n",
              "    <tr>\n",
              "      <th>73053</th>\n",
              "      <td>2019-11-03 23:58:12</td>\n",
              "      <td>tips_show</td>\n",
              "      <td>28fccdf4-7b9e-42f5-bc73-439a265f20e9</td>\n",
              "      <td>google</td>\n",
              "    </tr>\n",
              "  </tbody>\n",
              "</table>\n",
              "<p>73054 rows × 4 columns</p>\n",
              "</div>"
            ],
            "text/plain": [
              "               event_time   event_name                               user_id  \\\n",
              "0     2019-10-07 00:00:00  advert_open  020292ab-89bc-4156-9acf-68bc2783f894   \n",
              "1     2019-10-07 00:00:01    tips_show  020292ab-89bc-4156-9acf-68bc2783f894   \n",
              "2     2019-10-07 00:00:02    tips_show  cf7eda61-9349-469f-ac27-e5b6f5ec475c   \n",
              "3     2019-10-07 00:00:07    tips_show  020292ab-89bc-4156-9acf-68bc2783f894   \n",
              "4     2019-10-07 00:00:56  advert_open  cf7eda61-9349-469f-ac27-e5b6f5ec475c   \n",
              "...                   ...          ...                                   ...   \n",
              "73049 2019-11-03 23:53:29    tips_show  28fccdf4-7b9e-42f5-bc73-439a265f20e9   \n",
              "73050 2019-11-03 23:54:00    tips_show  28fccdf4-7b9e-42f5-bc73-439a265f20e9   \n",
              "73051 2019-11-03 23:56:57     search_1  20850c8f-4135-4059-b13b-198d3ac59902   \n",
              "73052 2019-11-03 23:57:06    tips_show  28fccdf4-7b9e-42f5-bc73-439a265f20e9   \n",
              "73053 2019-11-03 23:58:12    tips_show  28fccdf4-7b9e-42f5-bc73-439a265f20e9   \n",
              "\n",
              "       source  \n",
              "0       other  \n",
              "1       other  \n",
              "2      yandex  \n",
              "3       other  \n",
              "4      yandex  \n",
              "...       ...  \n",
              "73049  google  \n",
              "73050  google  \n",
              "73051  google  \n",
              "73052  google  \n",
              "73053  google  \n",
              "\n",
              "[73054 rows x 4 columns]"
            ]
          },
          "execution_count": 16,
          "metadata": {},
          "output_type": "execute_result"
        }
      ],
      "source": [
        "df = mob_df.merge(mobile_sourсes, on='user_id', how='left')\n",
        "df"
      ]
    },
    {
      "cell_type": "code",
      "execution_count": null,
      "metadata": {
        "id": "HPIwt82RqQoO",
        "outputId": "44ffd0fe-9087-4e4c-9bc8-0260424a34f1"
      },
      "outputs": [
        {
          "data": {
            "text/plain": [
              "yandex    33845\n",
              "google    20158\n",
              "other     19051\n",
              "Name: source, dtype: int64"
            ]
          },
          "execution_count": 17,
          "metadata": {},
          "output_type": "execute_result"
        }
      ],
      "source": [
        "df['source'].value_counts()"
      ]
    },
    {
      "cell_type": "markdown",
      "metadata": {
        "id": "WET-6V0BqQoP"
      },
      "source": [
        "В данных всего 3 источника: Яндекс, Гугл и все остальные"
      ]
    },
    {
      "cell_type": "code",
      "execution_count": null,
      "metadata": {
        "id": "qITTyK4UqQoP",
        "outputId": "4556f786-fad0-4a84-8ef7-6f5ceb9d4c97"
      },
      "outputs": [
        {
          "name": "stdout",
          "output_type": "stream",
          "text": [
            "Количество уникальных пользователей: 4293\n"
          ]
        }
      ],
      "source": [
        "print('Количество уникальных пользователей:', df['user_id'].nunique())"
      ]
    },
    {
      "cell_type": "code",
      "execution_count": null,
      "metadata": {
        "id": "LuEWbZSSqQoP",
        "outputId": "706cb3a1-ac08-4e82-c690-fe3aa42be223"
      },
      "outputs": [
        {
          "data": {
            "text/plain": [
              "count                   73054\n",
              "unique                  71291\n",
              "top       2019-10-22 13:00:04\n",
              "freq                        4\n",
              "first     2019-10-07 00:00:00\n",
              "last      2019-11-03 23:58:12\n",
              "Name: event_time, dtype: object"
            ]
          },
          "execution_count": 19,
          "metadata": {},
          "output_type": "execute_result"
        }
      ],
      "source": [
        "df['event_time'].describe()"
      ]
    },
    {
      "cell_type": "code",
      "execution_count": null,
      "metadata": {
        "id": "TV_n2fZYqQoP",
        "outputId": "4b417c87-42f4-4f55-9919-b19b55953f88"
      },
      "outputs": [
        {
          "name": "stdout",
          "output_type": "stream",
          "text": [
            "Располагаем данными за: 27 days 23:58:12\n"
          ]
        }
      ],
      "source": [
        "print('Располагаем данными за:', df['event_time'].max() - df['event_time'].min())"
      ]
    },
    {
      "cell_type": "markdown",
      "metadata": {
        "id": "c-xZ76EWqQoP"
      },
      "source": [
        "У нас имеются данные с 07 октября по 03 ноября 2019 года, почти 28 дней"
      ]
    },
    {
      "cell_type": "code",
      "execution_count": null,
      "metadata": {
        "id": "n-XUTEfvqQoQ",
        "outputId": "b6a75271-5c7e-47a9-b793-b41af2107599"
      },
      "outputs": [
        {
          "data": {
            "text/plain": [
              "tips_show        39907\n",
              "photos_show       9352\n",
              "advert_open       6146\n",
              "contacts_show     4297\n",
              "map               3749\n",
              "search_1          3488\n",
              "favorites_add     1414\n",
              "search_5          1049\n",
              "tips_click         811\n",
              "search_4           701\n",
              "contacts_call      534\n",
              "search_3           521\n",
              "search_6           460\n",
              "search_2           324\n",
              "search_7           222\n",
              "show_contacts       79\n",
              "Name: event_name, dtype: int64"
            ]
          },
          "execution_count": 21,
          "metadata": {},
          "output_type": "execute_result"
        }
      ],
      "source": [
        "df['event_name'].value_counts()"
      ]
    },
    {
      "cell_type": "code",
      "execution_count": null,
      "metadata": {
        "id": "g_EW5cMfqQoQ"
      },
      "outputs": [],
      "source": [
        "df.loc[df['event_name']=='show_contacts', 'event_name'] = 'contacts_show'"
      ]
    },
    {
      "cell_type": "markdown",
      "metadata": {
        "id": "IyqXGGUhqQoQ"
      },
      "source": [
        "<div class=\"alert alert-block alert-success\">✔️\n",
        "    \n",
        "\n",
        "__Комментарий от тимлида №1__\n",
        "\n",
        "Действительно, данные события можно объединить\n",
        "</div>"
      ]
    },
    {
      "cell_type": "markdown",
      "metadata": {
        "id": "-iz-jv13qQoQ"
      },
      "source": []
    },
    {
      "cell_type": "code",
      "execution_count": null,
      "metadata": {
        "scrolled": true,
        "id": "DeJ3czH7qQoQ",
        "outputId": "1d993902-43da-410e-d766-507edaa70364"
      },
      "outputs": [
        {
          "data": {
            "text/plain": [
              "0"
            ]
          },
          "execution_count": 23,
          "metadata": {},
          "output_type": "execute_result"
        }
      ],
      "source": [
        "df.duplicated().sum()"
      ]
    },
    {
      "cell_type": "markdown",
      "metadata": {
        "id": "XiUH8gbnqQoQ"
      },
      "source": [
        "События contacts_show и show_contacts по техническому заданию - это одно и тоже событие, поэтому объединим их"
      ]
    },
    {
      "cell_type": "code",
      "execution_count": null,
      "metadata": {
        "id": "BfgG0gWCqQoR"
      },
      "outputs": [],
      "source": [
        "def rename(name):\n",
        "    if 'search_' in name:\n",
        "        return 'search'\n",
        "    else:\n",
        "        return name"
      ]
    },
    {
      "cell_type": "code",
      "execution_count": null,
      "metadata": {
        "id": "5hZSQ8IZqQoR"
      },
      "outputs": [],
      "source": [
        "df['event_name']=df['event_name'].apply(rename)"
      ]
    },
    {
      "cell_type": "code",
      "execution_count": null,
      "metadata": {
        "id": "e1e9aYmFqQoR",
        "outputId": "9f48f497-c2ce-42a3-87a4-8d78cb00b5cd"
      },
      "outputs": [
        {
          "data": {
            "text/plain": [
              "tips_show        39907\n",
              "photos_show       9352\n",
              "search            6765\n",
              "advert_open       6146\n",
              "contacts_show     4376\n",
              "map               3749\n",
              "favorites_add     1414\n",
              "tips_click         811\n",
              "contacts_call      534\n",
              "Name: event_name, dtype: int64"
            ]
          },
          "execution_count": 26,
          "metadata": {},
          "output_type": "execute_result"
        }
      ],
      "source": [
        "df['event_name'].value_counts()"
      ]
    },
    {
      "cell_type": "code",
      "execution_count": null,
      "metadata": {
        "id": "6QuNr4fZqQoR",
        "outputId": "301d0889-bf14-4727-abb5-bbd69c9ffc99"
      },
      "outputs": [
        {
          "data": {
            "text/plain": [
              "81"
            ]
          },
          "execution_count": 27,
          "metadata": {},
          "output_type": "execute_result"
        }
      ],
      "source": [
        "df.duplicated().sum()"
      ]
    },
    {
      "cell_type": "markdown",
      "metadata": {
        "id": "7_3iLFCGqQoR"
      },
      "source": [
        "После объединения поисков снова появились дубликаты, можно их удалить, так как их очень мало в общей массе"
      ]
    },
    {
      "cell_type": "code",
      "execution_count": null,
      "metadata": {
        "scrolled": true,
        "id": "1Rms_tZ6qQoR",
        "outputId": "ad56139a-e4e8-438c-ec75-0eea56186c3d"
      },
      "outputs": [
        {
          "data": {
            "text/html": [
              "<div>\n",
              "<style scoped>\n",
              "    .dataframe tbody tr th:only-of-type {\n",
              "        vertical-align: middle;\n",
              "    }\n",
              "\n",
              "    .dataframe tbody tr th {\n",
              "        vertical-align: top;\n",
              "    }\n",
              "\n",
              "    .dataframe thead th {\n",
              "        text-align: right;\n",
              "    }\n",
              "</style>\n",
              "<table border=\"1\" class=\"dataframe\">\n",
              "  <thead>\n",
              "    <tr style=\"text-align: right;\">\n",
              "      <th></th>\n",
              "      <th>event_time</th>\n",
              "      <th>event_name</th>\n",
              "      <th>user_id</th>\n",
              "      <th>source</th>\n",
              "    </tr>\n",
              "  </thead>\n",
              "  <tbody>\n",
              "    <tr>\n",
              "      <th>0</th>\n",
              "      <td>2019-10-07 00:00:00</td>\n",
              "      <td>advert_open</td>\n",
              "      <td>020292ab-89bc-4156-9acf-68bc2783f894</td>\n",
              "      <td>other</td>\n",
              "    </tr>\n",
              "    <tr>\n",
              "      <th>1</th>\n",
              "      <td>2019-10-07 00:00:01</td>\n",
              "      <td>tips_show</td>\n",
              "      <td>020292ab-89bc-4156-9acf-68bc2783f894</td>\n",
              "      <td>other</td>\n",
              "    </tr>\n",
              "    <tr>\n",
              "      <th>2</th>\n",
              "      <td>2019-10-07 00:00:02</td>\n",
              "      <td>tips_show</td>\n",
              "      <td>cf7eda61-9349-469f-ac27-e5b6f5ec475c</td>\n",
              "      <td>yandex</td>\n",
              "    </tr>\n",
              "    <tr>\n",
              "      <th>3</th>\n",
              "      <td>2019-10-07 00:00:07</td>\n",
              "      <td>tips_show</td>\n",
              "      <td>020292ab-89bc-4156-9acf-68bc2783f894</td>\n",
              "      <td>other</td>\n",
              "    </tr>\n",
              "    <tr>\n",
              "      <th>4</th>\n",
              "      <td>2019-10-07 00:00:56</td>\n",
              "      <td>advert_open</td>\n",
              "      <td>cf7eda61-9349-469f-ac27-e5b6f5ec475c</td>\n",
              "      <td>yandex</td>\n",
              "    </tr>\n",
              "    <tr>\n",
              "      <th>...</th>\n",
              "      <td>...</td>\n",
              "      <td>...</td>\n",
              "      <td>...</td>\n",
              "      <td>...</td>\n",
              "    </tr>\n",
              "    <tr>\n",
              "      <th>73049</th>\n",
              "      <td>2019-11-03 23:53:29</td>\n",
              "      <td>tips_show</td>\n",
              "      <td>28fccdf4-7b9e-42f5-bc73-439a265f20e9</td>\n",
              "      <td>google</td>\n",
              "    </tr>\n",
              "    <tr>\n",
              "      <th>73050</th>\n",
              "      <td>2019-11-03 23:54:00</td>\n",
              "      <td>tips_show</td>\n",
              "      <td>28fccdf4-7b9e-42f5-bc73-439a265f20e9</td>\n",
              "      <td>google</td>\n",
              "    </tr>\n",
              "    <tr>\n",
              "      <th>73051</th>\n",
              "      <td>2019-11-03 23:56:57</td>\n",
              "      <td>search</td>\n",
              "      <td>20850c8f-4135-4059-b13b-198d3ac59902</td>\n",
              "      <td>google</td>\n",
              "    </tr>\n",
              "    <tr>\n",
              "      <th>73052</th>\n",
              "      <td>2019-11-03 23:57:06</td>\n",
              "      <td>tips_show</td>\n",
              "      <td>28fccdf4-7b9e-42f5-bc73-439a265f20e9</td>\n",
              "      <td>google</td>\n",
              "    </tr>\n",
              "    <tr>\n",
              "      <th>73053</th>\n",
              "      <td>2019-11-03 23:58:12</td>\n",
              "      <td>tips_show</td>\n",
              "      <td>28fccdf4-7b9e-42f5-bc73-439a265f20e9</td>\n",
              "      <td>google</td>\n",
              "    </tr>\n",
              "  </tbody>\n",
              "</table>\n",
              "<p>72973 rows × 4 columns</p>\n",
              "</div>"
            ],
            "text/plain": [
              "               event_time   event_name                               user_id  \\\n",
              "0     2019-10-07 00:00:00  advert_open  020292ab-89bc-4156-9acf-68bc2783f894   \n",
              "1     2019-10-07 00:00:01    tips_show  020292ab-89bc-4156-9acf-68bc2783f894   \n",
              "2     2019-10-07 00:00:02    tips_show  cf7eda61-9349-469f-ac27-e5b6f5ec475c   \n",
              "3     2019-10-07 00:00:07    tips_show  020292ab-89bc-4156-9acf-68bc2783f894   \n",
              "4     2019-10-07 00:00:56  advert_open  cf7eda61-9349-469f-ac27-e5b6f5ec475c   \n",
              "...                   ...          ...                                   ...   \n",
              "73049 2019-11-03 23:53:29    tips_show  28fccdf4-7b9e-42f5-bc73-439a265f20e9   \n",
              "73050 2019-11-03 23:54:00    tips_show  28fccdf4-7b9e-42f5-bc73-439a265f20e9   \n",
              "73051 2019-11-03 23:56:57       search  20850c8f-4135-4059-b13b-198d3ac59902   \n",
              "73052 2019-11-03 23:57:06    tips_show  28fccdf4-7b9e-42f5-bc73-439a265f20e9   \n",
              "73053 2019-11-03 23:58:12    tips_show  28fccdf4-7b9e-42f5-bc73-439a265f20e9   \n",
              "\n",
              "       source  \n",
              "0       other  \n",
              "1       other  \n",
              "2      yandex  \n",
              "3       other  \n",
              "4      yandex  \n",
              "...       ...  \n",
              "73049  google  \n",
              "73050  google  \n",
              "73051  google  \n",
              "73052  google  \n",
              "73053  google  \n",
              "\n",
              "[72973 rows x 4 columns]"
            ]
          },
          "execution_count": 28,
          "metadata": {},
          "output_type": "execute_result"
        }
      ],
      "source": [
        "df = df.drop_duplicates()\n",
        "df"
      ]
    },
    {
      "cell_type": "code",
      "execution_count": null,
      "metadata": {
        "scrolled": true,
        "id": "Tybd73GCqQoR",
        "outputId": "54c0d2af-9762-49ef-a6c3-8c44607e284b"
      },
      "outputs": [
        {
          "data": {
            "text/plain": [
              "0"
            ]
          },
          "execution_count": 29,
          "metadata": {},
          "output_type": "execute_result"
        }
      ],
      "source": [
        "df.duplicated().sum()"
      ]
    },
    {
      "cell_type": "code",
      "execution_count": null,
      "metadata": {
        "id": "cNXtPdPzqQoS",
        "outputId": "319b8aa7-ab66-4df8-a60a-7ae698b8ae71"
      },
      "outputs": [
        {
          "data": {
            "text/html": [
              "<div>\n",
              "<style scoped>\n",
              "    .dataframe tbody tr th:only-of-type {\n",
              "        vertical-align: middle;\n",
              "    }\n",
              "\n",
              "    .dataframe tbody tr th {\n",
              "        vertical-align: top;\n",
              "    }\n",
              "\n",
              "    .dataframe thead th {\n",
              "        text-align: right;\n",
              "    }\n",
              "</style>\n",
              "<table border=\"1\" class=\"dataframe\">\n",
              "  <thead>\n",
              "    <tr style=\"text-align: right;\">\n",
              "      <th></th>\n",
              "      <th>event_time</th>\n",
              "      <th>event_name</th>\n",
              "      <th>user_id</th>\n",
              "      <th>source</th>\n",
              "      <th>event_date</th>\n",
              "    </tr>\n",
              "  </thead>\n",
              "  <tbody>\n",
              "    <tr>\n",
              "      <th>0</th>\n",
              "      <td>2019-10-07 00:00:00</td>\n",
              "      <td>advert_open</td>\n",
              "      <td>020292ab-89bc-4156-9acf-68bc2783f894</td>\n",
              "      <td>other</td>\n",
              "      <td>2019-10-07</td>\n",
              "    </tr>\n",
              "    <tr>\n",
              "      <th>1</th>\n",
              "      <td>2019-10-07 00:00:01</td>\n",
              "      <td>tips_show</td>\n",
              "      <td>020292ab-89bc-4156-9acf-68bc2783f894</td>\n",
              "      <td>other</td>\n",
              "      <td>2019-10-07</td>\n",
              "    </tr>\n",
              "    <tr>\n",
              "      <th>2</th>\n",
              "      <td>2019-10-07 00:00:02</td>\n",
              "      <td>tips_show</td>\n",
              "      <td>cf7eda61-9349-469f-ac27-e5b6f5ec475c</td>\n",
              "      <td>yandex</td>\n",
              "      <td>2019-10-07</td>\n",
              "    </tr>\n",
              "    <tr>\n",
              "      <th>3</th>\n",
              "      <td>2019-10-07 00:00:07</td>\n",
              "      <td>tips_show</td>\n",
              "      <td>020292ab-89bc-4156-9acf-68bc2783f894</td>\n",
              "      <td>other</td>\n",
              "      <td>2019-10-07</td>\n",
              "    </tr>\n",
              "    <tr>\n",
              "      <th>4</th>\n",
              "      <td>2019-10-07 00:00:56</td>\n",
              "      <td>advert_open</td>\n",
              "      <td>cf7eda61-9349-469f-ac27-e5b6f5ec475c</td>\n",
              "      <td>yandex</td>\n",
              "      <td>2019-10-07</td>\n",
              "    </tr>\n",
              "    <tr>\n",
              "      <th>...</th>\n",
              "      <td>...</td>\n",
              "      <td>...</td>\n",
              "      <td>...</td>\n",
              "      <td>...</td>\n",
              "      <td>...</td>\n",
              "    </tr>\n",
              "    <tr>\n",
              "      <th>73049</th>\n",
              "      <td>2019-11-03 23:53:29</td>\n",
              "      <td>tips_show</td>\n",
              "      <td>28fccdf4-7b9e-42f5-bc73-439a265f20e9</td>\n",
              "      <td>google</td>\n",
              "      <td>2019-11-03</td>\n",
              "    </tr>\n",
              "    <tr>\n",
              "      <th>73050</th>\n",
              "      <td>2019-11-03 23:54:00</td>\n",
              "      <td>tips_show</td>\n",
              "      <td>28fccdf4-7b9e-42f5-bc73-439a265f20e9</td>\n",
              "      <td>google</td>\n",
              "      <td>2019-11-03</td>\n",
              "    </tr>\n",
              "    <tr>\n",
              "      <th>73051</th>\n",
              "      <td>2019-11-03 23:56:57</td>\n",
              "      <td>search</td>\n",
              "      <td>20850c8f-4135-4059-b13b-198d3ac59902</td>\n",
              "      <td>google</td>\n",
              "      <td>2019-11-03</td>\n",
              "    </tr>\n",
              "    <tr>\n",
              "      <th>73052</th>\n",
              "      <td>2019-11-03 23:57:06</td>\n",
              "      <td>tips_show</td>\n",
              "      <td>28fccdf4-7b9e-42f5-bc73-439a265f20e9</td>\n",
              "      <td>google</td>\n",
              "      <td>2019-11-03</td>\n",
              "    </tr>\n",
              "    <tr>\n",
              "      <th>73053</th>\n",
              "      <td>2019-11-03 23:58:12</td>\n",
              "      <td>tips_show</td>\n",
              "      <td>28fccdf4-7b9e-42f5-bc73-439a265f20e9</td>\n",
              "      <td>google</td>\n",
              "      <td>2019-11-03</td>\n",
              "    </tr>\n",
              "  </tbody>\n",
              "</table>\n",
              "<p>72973 rows × 5 columns</p>\n",
              "</div>"
            ],
            "text/plain": [
              "               event_time   event_name                               user_id  \\\n",
              "0     2019-10-07 00:00:00  advert_open  020292ab-89bc-4156-9acf-68bc2783f894   \n",
              "1     2019-10-07 00:00:01    tips_show  020292ab-89bc-4156-9acf-68bc2783f894   \n",
              "2     2019-10-07 00:00:02    tips_show  cf7eda61-9349-469f-ac27-e5b6f5ec475c   \n",
              "3     2019-10-07 00:00:07    tips_show  020292ab-89bc-4156-9acf-68bc2783f894   \n",
              "4     2019-10-07 00:00:56  advert_open  cf7eda61-9349-469f-ac27-e5b6f5ec475c   \n",
              "...                   ...          ...                                   ...   \n",
              "73049 2019-11-03 23:53:29    tips_show  28fccdf4-7b9e-42f5-bc73-439a265f20e9   \n",
              "73050 2019-11-03 23:54:00    tips_show  28fccdf4-7b9e-42f5-bc73-439a265f20e9   \n",
              "73051 2019-11-03 23:56:57       search  20850c8f-4135-4059-b13b-198d3ac59902   \n",
              "73052 2019-11-03 23:57:06    tips_show  28fccdf4-7b9e-42f5-bc73-439a265f20e9   \n",
              "73053 2019-11-03 23:58:12    tips_show  28fccdf4-7b9e-42f5-bc73-439a265f20e9   \n",
              "\n",
              "       source event_date  \n",
              "0       other 2019-10-07  \n",
              "1       other 2019-10-07  \n",
              "2      yandex 2019-10-07  \n",
              "3       other 2019-10-07  \n",
              "4      yandex 2019-10-07  \n",
              "...       ...        ...  \n",
              "73049  google 2019-11-03  \n",
              "73050  google 2019-11-03  \n",
              "73051  google 2019-11-03  \n",
              "73052  google 2019-11-03  \n",
              "73053  google 2019-11-03  \n",
              "\n",
              "[72973 rows x 5 columns]"
            ]
          },
          "execution_count": 30,
          "metadata": {},
          "output_type": "execute_result"
        }
      ],
      "source": [
        "df['event_date'] = df['event_time'].astype('datetime64[D]')\n",
        "df"
      ]
    },
    {
      "cell_type": "code",
      "execution_count": null,
      "metadata": {
        "scrolled": true,
        "id": "0fuVNnRKqQoS",
        "outputId": "01481772-a234-46ae-e886-ec64bbce4685"
      },
      "outputs": [
        {
          "name": "stdout",
          "output_type": "stream",
          "text": [
            "<class 'pandas.core.frame.DataFrame'>\n",
            "Int64Index: 72973 entries, 0 to 73053\n",
            "Data columns (total 5 columns):\n",
            " #   Column      Non-Null Count  Dtype         \n",
            "---  ------      --------------  -----         \n",
            " 0   event_time  72973 non-null  datetime64[ns]\n",
            " 1   event_name  72973 non-null  object        \n",
            " 2   user_id     72973 non-null  object        \n",
            " 3   source      72973 non-null  object        \n",
            " 4   event_date  72973 non-null  datetime64[ns]\n",
            "dtypes: datetime64[ns](2), object(3)\n",
            "memory usage: 3.3+ MB\n"
          ]
        }
      ],
      "source": [
        "df.info()"
      ]
    },
    {
      "cell_type": "markdown",
      "metadata": {
        "id": "DmPaTBKxqQoS"
      },
      "source": [
        "***Вывод:***\n",
        "\n",
        "Проверили на корректность наименований, на типы данных, на дубликаты и пропуски - привели их в соответствие.\n",
        "\n",
        "У нас имеются данные с 07 октября по 03 ноября 2019 года, почти 28 дней.\n",
        "\n",
        "4293 уникальных пользователей.\n",
        "\n",
        "События среди пользователей распределены равномерно по дням исследования."
      ]
    },
    {
      "cell_type": "markdown",
      "metadata": {
        "id": "yWfDC7FsqQoS"
      },
      "source": [
        "<div class=\"alert alert-block alert-success\">✔️\n",
        "    \n",
        "\n",
        "__Комментарий от тимлида №1__\n",
        "\n",
        "На этом этапе всё хорошо. Ты корректно выгрузила данные и посмотрела их содержимое. Выполнила первичную проверку на пропуски и дубликаты. Можно приступать к следующему шагу\n",
        "</div>"
      ]
    },
    {
      "cell_type": "markdown",
      "metadata": {
        "id": "q8YqQCzXqQoS"
      },
      "source": [
        "***Предварительный анализ***\n",
        "\n",
        "\n",
        "Количество событий, количество пользователей, среднее количество событий на пользователя"
      ]
    },
    {
      "cell_type": "code",
      "execution_count": null,
      "metadata": {
        "id": "eLabd4XRqQoS",
        "outputId": "6f7e603c-4bbb-4b2a-dd70-90e767423574"
      },
      "outputs": [
        {
          "name": "stdout",
          "output_type": "stream",
          "text": [
            "Количество пользователей: 4293\n"
          ]
        }
      ],
      "source": [
        "users = len(df.groupby('user_id').agg({'user_id': 'nunique'}))\n",
        "print('Количество пользователей:', users)"
      ]
    },
    {
      "cell_type": "code",
      "execution_count": null,
      "metadata": {
        "id": "JCcAi1RlqQoT",
        "outputId": "284b9187-4359-4721-d03f-4be8b4d12e54"
      },
      "outputs": [
        {
          "name": "stdout",
          "output_type": "stream",
          "text": [
            "Количество событий: 72973\n"
          ]
        }
      ],
      "source": [
        "events = len(df)\n",
        "print('Количество событий:', events)"
      ]
    },
    {
      "cell_type": "code",
      "execution_count": null,
      "metadata": {
        "id": "Gp8urXDcqQoT",
        "outputId": "1abe3ce7-880c-45e0-9fd5-deda0324b7cf"
      },
      "outputs": [
        {
          "name": "stdout",
          "output_type": "stream",
          "text": [
            "Cреднее количество событий на пользователя: 17.0\n"
          ]
        }
      ],
      "source": [
        "event_per_user = events/users\n",
        "print ('Cреднее количество событий на пользователя:', round(event_per_user,2))"
      ]
    },
    {
      "cell_type": "code",
      "execution_count": null,
      "metadata": {
        "id": "3um1vWe1qQoT"
      },
      "outputs": [],
      "source": [
        "df['date'] = df['event_time'].dt.date"
      ]
    },
    {
      "cell_type": "code",
      "execution_count": null,
      "metadata": {
        "id": "awlxyAHCqQoT",
        "outputId": "9b8f7e24-9086-4b7e-a9ab-a0736a4091ea"
      },
      "outputs": [
        {
          "name": "stdout",
          "output_type": "stream",
          "text": [
            "Начало регистрации данных: 2019-10-07\n"
          ]
        }
      ],
      "source": [
        "print('Начало регистрации данных:',df['date'].min())"
      ]
    },
    {
      "cell_type": "code",
      "execution_count": null,
      "metadata": {
        "id": "l3WQ9SHkqQoT",
        "outputId": "a77b71e0-1058-48d9-941a-0645d6c06bcd"
      },
      "outputs": [
        {
          "name": "stdout",
          "output_type": "stream",
          "text": [
            "Конец регистрации данных: 2019-11-03\n"
          ]
        }
      ],
      "source": [
        "print('Конец регистрации данных:',df['date'].max())"
      ]
    },
    {
      "cell_type": "code",
      "execution_count": null,
      "metadata": {
        "scrolled": false,
        "id": "fF3GjBKHqQoT",
        "outputId": "7801264a-268e-4576-de41-01fc3f4a4e49"
      },
      "outputs": [
        {
          "data": {
            "image/png": "[encoded data removed]",
            "text/plain": [
              "<Figure size 1080x432 with 1 Axes>"
            ]
          },
          "metadata": {},
          "output_type": "display_data"
        }
      ],
      "source": [
        "df['event_time'].hist(bins=7*24, figsize=(15, 6))\n",
        "\n",
        "plt.title('Распределение событий по датам', size='15')\n",
        "plt.ylabel('Количество событий', size='15')\n",
        "plt.xlabel(None);"
      ]
    },
    {
      "cell_type": "markdown",
      "metadata": {
        "id": "NzsIVQezqQoT"
      },
      "source": [
        "<div class=\"alert alert-block alert-success\">✔️\n",
        "    \n",
        "\n",
        "__Комментарий от тимлида №1__\n",
        "\n",
        "Все верно"
      ]
    },
    {
      "cell_type": "code",
      "execution_count": null,
      "metadata": {
        "id": "H2hvbVCRqQoU",
        "outputId": "74ed1e10-2b26-48fb-98c6-8954387159b5"
      },
      "outputs": [
        {
          "data": {
            "text/html": [
              "<div>\n",
              "<style scoped>\n",
              "    .dataframe tbody tr th:only-of-type {\n",
              "        vertical-align: middle;\n",
              "    }\n",
              "\n",
              "    .dataframe tbody tr th {\n",
              "        vertical-align: top;\n",
              "    }\n",
              "\n",
              "    .dataframe thead th {\n",
              "        text-align: right;\n",
              "    }\n",
              "</style>\n",
              "<table border=\"1\" class=\"dataframe\">\n",
              "  <thead>\n",
              "    <tr style=\"text-align: right;\">\n",
              "      <th></th>\n",
              "      <th>event_time</th>\n",
              "      <th>event_name</th>\n",
              "      <th>user_id</th>\n",
              "      <th>source</th>\n",
              "      <th>event_date</th>\n",
              "      <th>date</th>\n",
              "      <th>ts_prev</th>\n",
              "      <th>sec_diff_gt900</th>\n",
              "      <th>session_for_user</th>\n",
              "      <th>num_sess_for_user</th>\n",
              "    </tr>\n",
              "  </thead>\n",
              "  <tbody>\n",
              "    <tr>\n",
              "      <th>792</th>\n",
              "      <td>2019-10-07 13:39:45</td>\n",
              "      <td>tips_show</td>\n",
              "      <td>0001b1d5-b74a-4cbf-aeb0-7df5947bf349</td>\n",
              "      <td>other</td>\n",
              "      <td>2019-10-07</td>\n",
              "      <td>2019-10-07</td>\n",
              "      <td>NaT</td>\n",
              "      <td>0</td>\n",
              "      <td>0</td>\n",
              "      <td>1</td>\n",
              "    </tr>\n",
              "    <tr>\n",
              "      <th>793</th>\n",
              "      <td>2019-10-07 13:40:31</td>\n",
              "      <td>tips_show</td>\n",
              "      <td>0001b1d5-b74a-4cbf-aeb0-7df5947bf349</td>\n",
              "      <td>other</td>\n",
              "      <td>2019-10-07</td>\n",
              "      <td>2019-10-07</td>\n",
              "      <td>2019-10-07 13:39:45</td>\n",
              "      <td>0</td>\n",
              "      <td>0</td>\n",
              "      <td>1</td>\n",
              "    </tr>\n",
              "    <tr>\n",
              "      <th>796</th>\n",
              "      <td>2019-10-07 13:41:05</td>\n",
              "      <td>tips_show</td>\n",
              "      <td>0001b1d5-b74a-4cbf-aeb0-7df5947bf349</td>\n",
              "      <td>other</td>\n",
              "      <td>2019-10-07</td>\n",
              "      <td>2019-10-07</td>\n",
              "      <td>2019-10-07 13:40:31</td>\n",
              "      <td>0</td>\n",
              "      <td>0</td>\n",
              "      <td>1</td>\n",
              "    </tr>\n",
              "    <tr>\n",
              "      <th>807</th>\n",
              "      <td>2019-10-07 13:43:20</td>\n",
              "      <td>tips_show</td>\n",
              "      <td>0001b1d5-b74a-4cbf-aeb0-7df5947bf349</td>\n",
              "      <td>other</td>\n",
              "      <td>2019-10-07</td>\n",
              "      <td>2019-10-07</td>\n",
              "      <td>2019-10-07 13:41:05</td>\n",
              "      <td>0</td>\n",
              "      <td>0</td>\n",
              "      <td>1</td>\n",
              "    </tr>\n",
              "    <tr>\n",
              "      <th>816</th>\n",
              "      <td>2019-10-07 13:45:30</td>\n",
              "      <td>tips_show</td>\n",
              "      <td>0001b1d5-b74a-4cbf-aeb0-7df5947bf349</td>\n",
              "      <td>other</td>\n",
              "      <td>2019-10-07</td>\n",
              "      <td>2019-10-07</td>\n",
              "      <td>2019-10-07 13:43:20</td>\n",
              "      <td>0</td>\n",
              "      <td>0</td>\n",
              "      <td>1</td>\n",
              "    </tr>\n",
              "    <tr>\n",
              "      <th>...</th>\n",
              "      <td>...</td>\n",
              "      <td>...</td>\n",
              "      <td>...</td>\n",
              "      <td>...</td>\n",
              "      <td>...</td>\n",
              "      <td>...</td>\n",
              "      <td>...</td>\n",
              "      <td>...</td>\n",
              "      <td>...</td>\n",
              "      <td>...</td>\n",
              "    </tr>\n",
              "    <tr>\n",
              "      <th>71463</th>\n",
              "      <td>2019-11-03 15:51:23</td>\n",
              "      <td>tips_show</td>\n",
              "      <td>fffb9e79-b927-4dbb-9b48-7fd09b23a62b</td>\n",
              "      <td>google</td>\n",
              "      <td>2019-11-03</td>\n",
              "      <td>2019-11-03</td>\n",
              "      <td>2019-11-03 15:50:56</td>\n",
              "      <td>0</td>\n",
              "      <td>35</td>\n",
              "      <td>36</td>\n",
              "    </tr>\n",
              "    <tr>\n",
              "      <th>71468</th>\n",
              "      <td>2019-11-03 15:51:57</td>\n",
              "      <td>contacts_show</td>\n",
              "      <td>fffb9e79-b927-4dbb-9b48-7fd09b23a62b</td>\n",
              "      <td>google</td>\n",
              "      <td>2019-11-03</td>\n",
              "      <td>2019-11-03</td>\n",
              "      <td>2019-11-03 15:51:23</td>\n",
              "      <td>0</td>\n",
              "      <td>35</td>\n",
              "      <td>36</td>\n",
              "    </tr>\n",
              "    <tr>\n",
              "      <th>71556</th>\n",
              "      <td>2019-11-03 16:07:40</td>\n",
              "      <td>tips_show</td>\n",
              "      <td>fffb9e79-b927-4dbb-9b48-7fd09b23a62b</td>\n",
              "      <td>google</td>\n",
              "      <td>2019-11-03</td>\n",
              "      <td>2019-11-03</td>\n",
              "      <td>2019-11-03 15:51:57</td>\n",
              "      <td>1</td>\n",
              "      <td>36</td>\n",
              "      <td>37</td>\n",
              "    </tr>\n",
              "    <tr>\n",
              "      <th>71560</th>\n",
              "      <td>2019-11-03 16:08:18</td>\n",
              "      <td>tips_show</td>\n",
              "      <td>fffb9e79-b927-4dbb-9b48-7fd09b23a62b</td>\n",
              "      <td>google</td>\n",
              "      <td>2019-11-03</td>\n",
              "      <td>2019-11-03</td>\n",
              "      <td>2019-11-03 16:07:40</td>\n",
              "      <td>0</td>\n",
              "      <td>36</td>\n",
              "      <td>37</td>\n",
              "    </tr>\n",
              "    <tr>\n",
              "      <th>71561</th>\n",
              "      <td>2019-11-03 16:08:25</td>\n",
              "      <td>tips_show</td>\n",
              "      <td>fffb9e79-b927-4dbb-9b48-7fd09b23a62b</td>\n",
              "      <td>google</td>\n",
              "      <td>2019-11-03</td>\n",
              "      <td>2019-11-03</td>\n",
              "      <td>2019-11-03 16:08:18</td>\n",
              "      <td>0</td>\n",
              "      <td>36</td>\n",
              "      <td>37</td>\n",
              "    </tr>\n",
              "  </tbody>\n",
              "</table>\n",
              "<p>72973 rows × 10 columns</p>\n",
              "</div>"
            ],
            "text/plain": [
              "               event_time     event_name  \\\n",
              "792   2019-10-07 13:39:45      tips_show   \n",
              "793   2019-10-07 13:40:31      tips_show   \n",
              "796   2019-10-07 13:41:05      tips_show   \n",
              "807   2019-10-07 13:43:20      tips_show   \n",
              "816   2019-10-07 13:45:30      tips_show   \n",
              "...                   ...            ...   \n",
              "71463 2019-11-03 15:51:23      tips_show   \n",
              "71468 2019-11-03 15:51:57  contacts_show   \n",
              "71556 2019-11-03 16:07:40      tips_show   \n",
              "71560 2019-11-03 16:08:18      tips_show   \n",
              "71561 2019-11-03 16:08:25      tips_show   \n",
              "\n",
              "                                    user_id  source event_date        date  \\\n",
              "792    0001b1d5-b74a-4cbf-aeb0-7df5947bf349   other 2019-10-07  2019-10-07   \n",
              "793    0001b1d5-b74a-4cbf-aeb0-7df5947bf349   other 2019-10-07  2019-10-07   \n",
              "796    0001b1d5-b74a-4cbf-aeb0-7df5947bf349   other 2019-10-07  2019-10-07   \n",
              "807    0001b1d5-b74a-4cbf-aeb0-7df5947bf349   other 2019-10-07  2019-10-07   \n",
              "816    0001b1d5-b74a-4cbf-aeb0-7df5947bf349   other 2019-10-07  2019-10-07   \n",
              "...                                     ...     ...        ...         ...   \n",
              "71463  fffb9e79-b927-4dbb-9b48-7fd09b23a62b  google 2019-11-03  2019-11-03   \n",
              "71468  fffb9e79-b927-4dbb-9b48-7fd09b23a62b  google 2019-11-03  2019-11-03   \n",
              "71556  fffb9e79-b927-4dbb-9b48-7fd09b23a62b  google 2019-11-03  2019-11-03   \n",
              "71560  fffb9e79-b927-4dbb-9b48-7fd09b23a62b  google 2019-11-03  2019-11-03   \n",
              "71561  fffb9e79-b927-4dbb-9b48-7fd09b23a62b  google 2019-11-03  2019-11-03   \n",
              "\n",
              "                  ts_prev  sec_diff_gt900  session_for_user  num_sess_for_user  \n",
              "792                   NaT               0                 0                  1  \n",
              "793   2019-10-07 13:39:45               0                 0                  1  \n",
              "796   2019-10-07 13:40:31               0                 0                  1  \n",
              "807   2019-10-07 13:41:05               0                 0                  1  \n",
              "816   2019-10-07 13:43:20               0                 0                  1  \n",
              "...                   ...             ...               ...                ...  \n",
              "71463 2019-11-03 15:50:56               0                35                 36  \n",
              "71468 2019-11-03 15:51:23               0                35                 36  \n",
              "71556 2019-11-03 15:51:57               1                36                 37  \n",
              "71560 2019-11-03 16:07:40               0                36                 37  \n",
              "71561 2019-11-03 16:08:18               0                36                 37  \n",
              "\n",
              "[72973 rows x 10 columns]"
            ]
          },
          "execution_count": 39,
          "metadata": {},
          "output_type": "execute_result"
        }
      ],
      "source": [
        "df = df.sort_values(by = ['user_id', 'event_time'])\n",
        "df['ts_prev'] = df.groupby('user_id').event_time.shift(1)\n",
        "\n",
        "df['sec_diff_gt900'] = ((df.event_time - df.ts_prev) / np.timedelta64(1, 's') > 900).astype('int')\n",
        "df['session_for_user'] = df.groupby('user_id').sec_diff_gt900.cumsum()\n",
        "df['num_sess_for_user'] = df['session_for_user']+1\n",
        "df"
      ]
    },
    {
      "cell_type": "code",
      "execution_count": null,
      "metadata": {
        "id": "1P1-gMfVqQoU"
      },
      "outputs": [],
      "source": [
        "df.drop({'ts_prev','sec_diff_gt900', 'session_for_user'},inplace = True, axis = 1) #удалим вспмогательные столбцы"
      ]
    },
    {
      "cell_type": "code",
      "execution_count": null,
      "metadata": {
        "id": "H-UffAAJqQoU",
        "outputId": "3c6451a1-dc87-4d54-9804-d9e258097bfe"
      },
      "outputs": [
        {
          "data": {
            "text/html": [
              "<div>\n",
              "<style scoped>\n",
              "    .dataframe tbody tr th:only-of-type {\n",
              "        vertical-align: middle;\n",
              "    }\n",
              "\n",
              "    .dataframe tbody tr th {\n",
              "        vertical-align: top;\n",
              "    }\n",
              "\n",
              "    .dataframe thead th {\n",
              "        text-align: right;\n",
              "    }\n",
              "</style>\n",
              "<table border=\"1\" class=\"dataframe\">\n",
              "  <thead>\n",
              "    <tr style=\"text-align: right;\">\n",
              "      <th></th>\n",
              "      <th>event_time</th>\n",
              "      <th>event_name</th>\n",
              "      <th>user_id</th>\n",
              "      <th>source</th>\n",
              "      <th>event_date</th>\n",
              "      <th>date</th>\n",
              "      <th>num_sess_for_user</th>\n",
              "    </tr>\n",
              "  </thead>\n",
              "  <tbody>\n",
              "    <tr>\n",
              "      <th>37160</th>\n",
              "      <td>2019-10-22 11:59:58</td>\n",
              "      <td>tips_show</td>\n",
              "      <td>6b5fca5f-92ef-43f6-a52a-9f73b5e53c8f</td>\n",
              "      <td>google</td>\n",
              "      <td>2019-10-22</td>\n",
              "      <td>2019-10-22</td>\n",
              "      <td>1</td>\n",
              "    </tr>\n",
              "    <tr>\n",
              "      <th>32854</th>\n",
              "      <td>2019-10-20 17:44:03</td>\n",
              "      <td>photos_show</td>\n",
              "      <td>9f95c9ee-750c-4dd5-8b2a-275105f9c9e7</td>\n",
              "      <td>other</td>\n",
              "      <td>2019-10-20</td>\n",
              "      <td>2019-10-20</td>\n",
              "      <td>13</td>\n",
              "    </tr>\n",
              "    <tr>\n",
              "      <th>7034</th>\n",
              "      <td>2019-10-10 00:48:55</td>\n",
              "      <td>tips_show</td>\n",
              "      <td>c82e1b55-3a66-4945-abf3-79de495bd57e</td>\n",
              "      <td>yandex</td>\n",
              "      <td>2019-10-10</td>\n",
              "      <td>2019-10-10</td>\n",
              "      <td>1</td>\n",
              "    </tr>\n",
              "    <tr>\n",
              "      <th>44465</th>\n",
              "      <td>2019-10-24 18:05:48</td>\n",
              "      <td>tips_show</td>\n",
              "      <td>f1568c90-ab2f-43d9-a029-6f0a2086c9ae</td>\n",
              "      <td>google</td>\n",
              "      <td>2019-10-24</td>\n",
              "      <td>2019-10-24</td>\n",
              "      <td>1</td>\n",
              "    </tr>\n",
              "    <tr>\n",
              "      <th>5473</th>\n",
              "      <td>2019-10-09 11:25:55</td>\n",
              "      <td>tips_show</td>\n",
              "      <td>164f8b3c-4ed2-4d61-a1db-6d6d1de677a9</td>\n",
              "      <td>other</td>\n",
              "      <td>2019-10-09</td>\n",
              "      <td>2019-10-09</td>\n",
              "      <td>1</td>\n",
              "    </tr>\n",
              "    <tr>\n",
              "      <th>67561</th>\n",
              "      <td>2019-11-01 18:23:18</td>\n",
              "      <td>tips_show</td>\n",
              "      <td>1574e291-0dee-4abb-8b72-79d1cafc358a</td>\n",
              "      <td>other</td>\n",
              "      <td>2019-11-01</td>\n",
              "      <td>2019-11-01</td>\n",
              "      <td>1</td>\n",
              "    </tr>\n",
              "    <tr>\n",
              "      <th>19904</th>\n",
              "      <td>2019-10-15 15:44:46</td>\n",
              "      <td>tips_show</td>\n",
              "      <td>dfd5756c-255d-46ec-a443-fbc4a9784d64</td>\n",
              "      <td>other</td>\n",
              "      <td>2019-10-15</td>\n",
              "      <td>2019-10-15</td>\n",
              "      <td>2</td>\n",
              "    </tr>\n",
              "    <tr>\n",
              "      <th>11827</th>\n",
              "      <td>2019-10-12 15:45:45</td>\n",
              "      <td>tips_show</td>\n",
              "      <td>95e6817d-7b08-4943-b363-133f86e1840e</td>\n",
              "      <td>other</td>\n",
              "      <td>2019-10-12</td>\n",
              "      <td>2019-10-12</td>\n",
              "      <td>1</td>\n",
              "    </tr>\n",
              "    <tr>\n",
              "      <th>18346</th>\n",
              "      <td>2019-10-14 22:28:49</td>\n",
              "      <td>photos_show</td>\n",
              "      <td>f8c6e74c-4161-4f6c-9468-7e55697dbd30</td>\n",
              "      <td>google</td>\n",
              "      <td>2019-10-14</td>\n",
              "      <td>2019-10-14</td>\n",
              "      <td>1</td>\n",
              "    </tr>\n",
              "    <tr>\n",
              "      <th>45878</th>\n",
              "      <td>2019-10-25 11:01:14</td>\n",
              "      <td>tips_show</td>\n",
              "      <td>ef91fbdf-f8fb-486e-8bd4-8985d8aab020</td>\n",
              "      <td>google</td>\n",
              "      <td>2019-10-25</td>\n",
              "      <td>2019-10-25</td>\n",
              "      <td>1</td>\n",
              "    </tr>\n",
              "  </tbody>\n",
              "</table>\n",
              "</div>"
            ],
            "text/plain": [
              "               event_time   event_name                               user_id  \\\n",
              "37160 2019-10-22 11:59:58    tips_show  6b5fca5f-92ef-43f6-a52a-9f73b5e53c8f   \n",
              "32854 2019-10-20 17:44:03  photos_show  9f95c9ee-750c-4dd5-8b2a-275105f9c9e7   \n",
              "7034  2019-10-10 00:48:55    tips_show  c82e1b55-3a66-4945-abf3-79de495bd57e   \n",
              "44465 2019-10-24 18:05:48    tips_show  f1568c90-ab2f-43d9-a029-6f0a2086c9ae   \n",
              "5473  2019-10-09 11:25:55    tips_show  164f8b3c-4ed2-4d61-a1db-6d6d1de677a9   \n",
              "67561 2019-11-01 18:23:18    tips_show  1574e291-0dee-4abb-8b72-79d1cafc358a   \n",
              "19904 2019-10-15 15:44:46    tips_show  dfd5756c-255d-46ec-a443-fbc4a9784d64   \n",
              "11827 2019-10-12 15:45:45    tips_show  95e6817d-7b08-4943-b363-133f86e1840e   \n",
              "18346 2019-10-14 22:28:49  photos_show  f8c6e74c-4161-4f6c-9468-7e55697dbd30   \n",
              "45878 2019-10-25 11:01:14    tips_show  ef91fbdf-f8fb-486e-8bd4-8985d8aab020   \n",
              "\n",
              "       source event_date        date  num_sess_for_user  \n",
              "37160  google 2019-10-22  2019-10-22                  1  \n",
              "32854   other 2019-10-20  2019-10-20                 13  \n",
              "7034   yandex 2019-10-10  2019-10-10                  1  \n",
              "44465  google 2019-10-24  2019-10-24                  1  \n",
              "5473    other 2019-10-09  2019-10-09                  1  \n",
              "67561   other 2019-11-01  2019-11-01                  1  \n",
              "19904   other 2019-10-15  2019-10-15                  2  \n",
              "11827   other 2019-10-12  2019-10-12                  1  \n",
              "18346  google 2019-10-14  2019-10-14                  1  \n",
              "45878  google 2019-10-25  2019-10-25                  1  "
            ]
          },
          "execution_count": 41,
          "metadata": {},
          "output_type": "execute_result"
        }
      ],
      "source": [
        "df.sample(10)"
      ]
    },
    {
      "cell_type": "code",
      "execution_count": null,
      "metadata": {
        "id": "OPUq3cDhqQoU",
        "outputId": "76eddd11-0e40-4856-a91b-96ae9eef972d"
      },
      "outputs": [
        {
          "name": "stdout",
          "output_type": "stream",
          "text": [
            "<class 'pandas.core.frame.DataFrame'>\n",
            "Int64Index: 72973 entries, 792 to 71561\n",
            "Data columns (total 7 columns):\n",
            " #   Column             Non-Null Count  Dtype         \n",
            "---  ------             --------------  -----         \n",
            " 0   event_time         72973 non-null  datetime64[ns]\n",
            " 1   event_name         72973 non-null  object        \n",
            " 2   user_id            72973 non-null  object        \n",
            " 3   source             72973 non-null  object        \n",
            " 4   event_date         72973 non-null  datetime64[ns]\n",
            " 5   date               72973 non-null  object        \n",
            " 6   num_sess_for_user  72973 non-null  int64         \n",
            "dtypes: datetime64[ns](2), int64(1), object(4)\n",
            "memory usage: 4.5+ MB\n"
          ]
        }
      ],
      "source": [
        "df.info()"
      ]
    },
    {
      "cell_type": "code",
      "execution_count": null,
      "metadata": {
        "id": "ispsIJigqQoU",
        "outputId": "06b389c2-1431-4255-fe5a-cbd7a12678fe"
      },
      "outputs": [
        {
          "data": {
            "text/html": [
              "<div>\n",
              "<style scoped>\n",
              "    .dataframe tbody tr th:only-of-type {\n",
              "        vertical-align: middle;\n",
              "    }\n",
              "\n",
              "    .dataframe tbody tr th {\n",
              "        vertical-align: top;\n",
              "    }\n",
              "\n",
              "    .dataframe thead th {\n",
              "        text-align: right;\n",
              "    }\n",
              "</style>\n",
              "<table border=\"1\" class=\"dataframe\">\n",
              "  <thead>\n",
              "    <tr style=\"text-align: right;\">\n",
              "      <th></th>\n",
              "      <th>user_id</th>\n",
              "      <th>number_of_sessions</th>\n",
              "      <th>number_of_events</th>\n",
              "      <th>events_per_session</th>\n",
              "      <th>sessions_per_day</th>\n",
              "      <th>sessions_per_week</th>\n",
              "    </tr>\n",
              "  </thead>\n",
              "  <tbody>\n",
              "    <tr>\n",
              "      <th>861</th>\n",
              "      <td>321298ad-7c8c-438f-b170-32c777d39c65</td>\n",
              "      <td>2</td>\n",
              "      <td>4</td>\n",
              "      <td>2.00</td>\n",
              "      <td>0.07</td>\n",
              "      <td>0.50</td>\n",
              "    </tr>\n",
              "    <tr>\n",
              "      <th>2645</th>\n",
              "      <td>9db002f7-41e7-4eaf-892c-3249834c0d73</td>\n",
              "      <td>6</td>\n",
              "      <td>6</td>\n",
              "      <td>1.00</td>\n",
              "      <td>0.21</td>\n",
              "      <td>1.50</td>\n",
              "    </tr>\n",
              "    <tr>\n",
              "      <th>2959</th>\n",
              "      <td>b088c790-c70b-473c-a774-7f440365aa82</td>\n",
              "      <td>1</td>\n",
              "      <td>2</td>\n",
              "      <td>2.00</td>\n",
              "      <td>0.04</td>\n",
              "      <td>0.25</td>\n",
              "    </tr>\n",
              "    <tr>\n",
              "      <th>2671</th>\n",
              "      <td>9f3f3ae3-8397-4ca0-b1f9-a280b298dbac</td>\n",
              "      <td>1</td>\n",
              "      <td>13</td>\n",
              "      <td>13.00</td>\n",
              "      <td>0.04</td>\n",
              "      <td>0.25</td>\n",
              "    </tr>\n",
              "    <tr>\n",
              "      <th>3474</th>\n",
              "      <td>cf753c69-59cd-4648-b540-309f02a0b5a6</td>\n",
              "      <td>6</td>\n",
              "      <td>61</td>\n",
              "      <td>10.17</td>\n",
              "      <td>0.21</td>\n",
              "      <td>1.50</td>\n",
              "    </tr>\n",
              "    <tr>\n",
              "      <th>1818</th>\n",
              "      <td>6d5f7d73-51f0-42d6-bd4d-6d205342e5f3</td>\n",
              "      <td>3</td>\n",
              "      <td>4</td>\n",
              "      <td>1.33</td>\n",
              "      <td>0.11</td>\n",
              "      <td>0.75</td>\n",
              "    </tr>\n",
              "    <tr>\n",
              "      <th>51</th>\n",
              "      <td>03739d15-7212-415c-9c88-4dfc24b8d3b5</td>\n",
              "      <td>2</td>\n",
              "      <td>10</td>\n",
              "      <td>5.00</td>\n",
              "      <td>0.07</td>\n",
              "      <td>0.50</td>\n",
              "    </tr>\n",
              "    <tr>\n",
              "      <th>386</th>\n",
              "      <td>146c6d31-d314-4704-acac-b06c82dd13cd</td>\n",
              "      <td>2</td>\n",
              "      <td>9</td>\n",
              "      <td>4.50</td>\n",
              "      <td>0.07</td>\n",
              "      <td>0.50</td>\n",
              "    </tr>\n",
              "    <tr>\n",
              "      <th>1197</th>\n",
              "      <td>462e16f2-10fa-49d1-8bc5-ebebc2710b80</td>\n",
              "      <td>1</td>\n",
              "      <td>9</td>\n",
              "      <td>9.00</td>\n",
              "      <td>0.04</td>\n",
              "      <td>0.25</td>\n",
              "    </tr>\n",
              "    <tr>\n",
              "      <th>298</th>\n",
              "      <td>10b07842-8dd0-4a5b-8c70-4edbf4d3116a</td>\n",
              "      <td>1</td>\n",
              "      <td>4</td>\n",
              "      <td>4.00</td>\n",
              "      <td>0.04</td>\n",
              "      <td>0.25</td>\n",
              "    </tr>\n",
              "  </tbody>\n",
              "</table>\n",
              "</div>"
            ],
            "text/plain": [
              "                                   user_id  number_of_sessions  \\\n",
              "861   321298ad-7c8c-438f-b170-32c777d39c65                   2   \n",
              "2645  9db002f7-41e7-4eaf-892c-3249834c0d73                   6   \n",
              "2959  b088c790-c70b-473c-a774-7f440365aa82                   1   \n",
              "2671  9f3f3ae3-8397-4ca0-b1f9-a280b298dbac                   1   \n",
              "3474  cf753c69-59cd-4648-b540-309f02a0b5a6                   6   \n",
              "1818  6d5f7d73-51f0-42d6-bd4d-6d205342e5f3                   3   \n",
              "51    03739d15-7212-415c-9c88-4dfc24b8d3b5                   2   \n",
              "386   146c6d31-d314-4704-acac-b06c82dd13cd                   2   \n",
              "1197  462e16f2-10fa-49d1-8bc5-ebebc2710b80                   1   \n",
              "298   10b07842-8dd0-4a5b-8c70-4edbf4d3116a                   1   \n",
              "\n",
              "      number_of_events  events_per_session  sessions_per_day  \\\n",
              "861                  4                2.00              0.07   \n",
              "2645                 6                1.00              0.21   \n",
              "2959                 2                2.00              0.04   \n",
              "2671                13               13.00              0.04   \n",
              "3474                61               10.17              0.21   \n",
              "1818                 4                1.33              0.11   \n",
              "51                  10                5.00              0.07   \n",
              "386                  9                4.50              0.07   \n",
              "1197                 9                9.00              0.04   \n",
              "298                  4                4.00              0.04   \n",
              "\n",
              "      sessions_per_week  \n",
              "861                0.50  \n",
              "2645               1.50  \n",
              "2959               0.25  \n",
              "2671               0.25  \n",
              "3474               1.50  \n",
              "1818               0.75  \n",
              "51                 0.50  \n",
              "386                0.50  \n",
              "1197               0.25  \n",
              "298                0.25  "
            ]
          },
          "execution_count": 43,
          "metadata": {},
          "output_type": "execute_result"
        }
      ],
      "source": [
        "sessions = df.groupby('user_id').agg({'num_sess_for_user':'max', 'event_name':'count'}).reset_index()\n",
        "sessions.columns = ['user_id', 'number_of_sessions','number_of_events']\n",
        "sessions['events_per_session'] = round(sessions['number_of_events']/sessions['number_of_sessions'],2)\n",
        "sessions['sessions_per_day'] = round(sessions['number_of_sessions']/28,2)\n",
        "sessions['sessions_per_week'] = round(sessions['number_of_sessions']/4,2)\n",
        "sessions.sample(10)"
      ]
    },
    {
      "cell_type": "code",
      "execution_count": null,
      "metadata": {
        "scrolled": false,
        "id": "q6Ys1gNjqQoU",
        "outputId": "bac0e574-3ead-4cc9-8b44-50a31e0fecb6"
      },
      "outputs": [
        {
          "data": {
            "text/html": [
              "<div>\n",
              "<style scoped>\n",
              "    .dataframe tbody tr th:only-of-type {\n",
              "        vertical-align: middle;\n",
              "    }\n",
              "\n",
              "    .dataframe tbody tr th {\n",
              "        vertical-align: top;\n",
              "    }\n",
              "\n",
              "    .dataframe thead th {\n",
              "        text-align: right;\n",
              "    }\n",
              "</style>\n",
              "<table border=\"1\" class=\"dataframe\">\n",
              "  <thead>\n",
              "    <tr style=\"text-align: right;\">\n",
              "      <th></th>\n",
              "      <th>number_of_sessions</th>\n",
              "      <th>number_of_events</th>\n",
              "      <th>events_per_session</th>\n",
              "      <th>sessions_per_day</th>\n",
              "      <th>sessions_per_week</th>\n",
              "    </tr>\n",
              "  </thead>\n",
              "  <tbody>\n",
              "    <tr>\n",
              "      <th>count</th>\n",
              "      <td>4293.000000</td>\n",
              "      <td>4293.000000</td>\n",
              "      <td>4293.000000</td>\n",
              "      <td>4293.000000</td>\n",
              "      <td>4293.000000</td>\n",
              "    </tr>\n",
              "    <tr>\n",
              "      <th>mean</th>\n",
              "      <td>2.687398</td>\n",
              "      <td>16.998137</td>\n",
              "      <td>7.543392</td>\n",
              "      <td>0.097864</td>\n",
              "      <td>0.671850</td>\n",
              "    </tr>\n",
              "    <tr>\n",
              "      <th>std</th>\n",
              "      <td>4.173946</td>\n",
              "      <td>28.587157</td>\n",
              "      <td>7.703807</td>\n",
              "      <td>0.148206</td>\n",
              "      <td>1.043487</td>\n",
              "    </tr>\n",
              "    <tr>\n",
              "      <th>min</th>\n",
              "      <td>1.000000</td>\n",
              "      <td>1.000000</td>\n",
              "      <td>1.000000</td>\n",
              "      <td>0.040000</td>\n",
              "      <td>0.250000</td>\n",
              "    </tr>\n",
              "    <tr>\n",
              "      <th>25%</th>\n",
              "      <td>1.000000</td>\n",
              "      <td>5.000000</td>\n",
              "      <td>3.000000</td>\n",
              "      <td>0.040000</td>\n",
              "      <td>0.250000</td>\n",
              "    </tr>\n",
              "    <tr>\n",
              "      <th>50%</th>\n",
              "      <td>2.000000</td>\n",
              "      <td>9.000000</td>\n",
              "      <td>5.000000</td>\n",
              "      <td>0.070000</td>\n",
              "      <td>0.500000</td>\n",
              "    </tr>\n",
              "    <tr>\n",
              "      <th>75%</th>\n",
              "      <td>3.000000</td>\n",
              "      <td>17.000000</td>\n",
              "      <td>9.000000</td>\n",
              "      <td>0.110000</td>\n",
              "      <td>0.750000</td>\n",
              "    </tr>\n",
              "    <tr>\n",
              "      <th>max</th>\n",
              "      <td>116.000000</td>\n",
              "      <td>470.000000</td>\n",
              "      <td>103.000000</td>\n",
              "      <td>4.140000</td>\n",
              "      <td>29.000000</td>\n",
              "    </tr>\n",
              "  </tbody>\n",
              "</table>\n",
              "</div>"
            ],
            "text/plain": [
              "       number_of_sessions  number_of_events  events_per_session  \\\n",
              "count         4293.000000       4293.000000         4293.000000   \n",
              "mean             2.687398         16.998137            7.543392   \n",
              "std              4.173946         28.587157            7.703807   \n",
              "min              1.000000          1.000000            1.000000   \n",
              "25%              1.000000          5.000000            3.000000   \n",
              "50%              2.000000          9.000000            5.000000   \n",
              "75%              3.000000         17.000000            9.000000   \n",
              "max            116.000000        470.000000          103.000000   \n",
              "\n",
              "       sessions_per_day  sessions_per_week  \n",
              "count       4293.000000        4293.000000  \n",
              "mean           0.097864           0.671850  \n",
              "std            0.148206           1.043487  \n",
              "min            0.040000           0.250000  \n",
              "25%            0.040000           0.250000  \n",
              "50%            0.070000           0.500000  \n",
              "75%            0.110000           0.750000  \n",
              "max            4.140000          29.000000  "
            ]
          },
          "execution_count": 44,
          "metadata": {},
          "output_type": "execute_result"
        }
      ],
      "source": [
        "sessions.describe()"
      ]
    },
    {
      "cell_type": "markdown",
      "metadata": {
        "id": "-_RmEj5eqQoV"
      },
      "source": [
        "Устранение выбросов"
      ]
    },
    {
      "cell_type": "code",
      "execution_count": null,
      "metadata": {
        "id": "1ivrcDcSqQoV",
        "outputId": "8a8fa2ea-49b5-44a4-99e9-9177d48a850c"
      },
      "outputs": [
        {
          "data": {
            "image/png": "[encoded data removed]",
            "text/plain": [
              "<Figure size 1080x360 with 1 Axes>"
            ]
          },
          "metadata": {},
          "output_type": "display_data"
        }
      ],
      "source": [
        "x_values = pd.Series(range(0,sessions['user_id'].count()))\n",
        "plt.figure(figsize=(15, 5))\n",
        "sns.scatterplot(x=x_values, y=\"events_per_session\", data=sessions)\n",
        "plt.grid()\n",
        "plt.title('Точечный график среднего количества событий за сеанс пользователей приложения')\n",
        "plt.ylabel('Среднее количество событий за сеанс');"
      ]
    },
    {
      "cell_type": "code",
      "execution_count": null,
      "metadata": {
        "id": "gxbHltviqQoV",
        "outputId": "6c290f25-23c9-457a-9417-650467c21115"
      },
      "outputs": [
        {
          "data": {
            "image/png": "[encoded data removed]",
            "text/plain": [
              "<Figure size 864x504 with 1 Axes>"
            ]
          },
          "metadata": {},
          "output_type": "display_data"
        }
      ],
      "source": [
        "sessions.boxplot(column='events_per_session', figsize=(12, 7))\n",
        "\n",
        "plt.title('Распределение среднего количества событий за сеанс')\n",
        "plt.ylabel('Среднее количество событий за сеанс')\n",
        "\n",
        "plt.show()"
      ]
    },
    {
      "cell_type": "code",
      "execution_count": null,
      "metadata": {
        "id": "OLx949kMqQoV",
        "outputId": "1c584759-a350-4994-faf3-679d229010c4"
      },
      "outputs": [
        {
          "name": "stdout",
          "output_type": "stream",
          "text": [
            "0.9 квантиль = 15.0\n",
            "0.91 квантиль = 16.0\n",
            "0.92 квантиль = 17.0\n",
            "0.93 квантиль = 18.0\n",
            "0.94 квантиль = 19.0\n",
            "0.95 квантиль = 21.0\n",
            "0.96 квантиль = 23.0\n",
            "0.97 квантиль = 26.0\n",
            "0.98 квантиль = 30.0\n",
            "0.99 квантиль = 37.0\n"
          ]
        }
      ],
      "source": [
        "for q in range(90, 100, 1):\n",
        "    print(f\"{q / 100} квантиль = {sessions['events_per_session'].quantile(q=(q / 100))}\")"
      ]
    },
    {
      "cell_type": "markdown",
      "metadata": {
        "id": "iCW4BHCKqQoV"
      },
      "source": [
        "Судя по квантилям, если мы уберем пользователей, которые в среднем за исследуемый период совершали больше 37-ми событий за сеанс, то потеряем примерно один процент исследуемых пользователей. Можно убрать"
      ]
    },
    {
      "cell_type": "code",
      "execution_count": null,
      "metadata": {
        "id": "YTXxiGrLqQoV"
      },
      "outputs": [],
      "source": [
        "sessions = sessions.query('events_per_session < 37')"
      ]
    },
    {
      "cell_type": "code",
      "execution_count": null,
      "metadata": {
        "scrolled": true,
        "id": "QMPLOcHqqQoW",
        "outputId": "b711845a-27c7-43cb-a8dd-c652f9a02e6d"
      },
      "outputs": [
        {
          "name": "stdout",
          "output_type": "stream",
          "text": [
            "0.9 квантиль = 5.0\n",
            "0.91 квантиль = 5.0\n",
            "0.92 квантиль = 6.0\n",
            "0.93 квантиль = 6.0\n",
            "0.94 квантиль = 7.0\n",
            "0.95 квантиль = 8.0\n",
            "0.96 квантиль = 9.0\n",
            "0.97 квантиль = 10.0\n",
            "0.98 квантиль = 13.0\n",
            "0.99 квантиль = 19.0\n"
          ]
        }
      ],
      "source": [
        "for q in range(90, 100, 1):\n",
        "    print(f\"{q / 100} квантиль = {sessions['number_of_sessions'].quantile(q=(q / 100))}\")"
      ]
    },
    {
      "cell_type": "markdown",
      "metadata": {
        "id": "kamuxpFfqQoW"
      },
      "source": [
        "Вывод:\n",
        "\n",
        "Убрали пользователей, которые совершили больше сорока сеансов. Устранив выбросы мы сможем продуктивнее сегментировать пользователей"
      ]
    },
    {
      "cell_type": "markdown",
      "metadata": {
        "id": "1eDXJgjCqQoW"
      },
      "source": [
        "Выделение сегментов пользователей по среднему количеству событий за сеанс"
      ]
    },
    {
      "cell_type": "code",
      "execution_count": null,
      "metadata": {
        "id": "LPv_fjZiqQoW",
        "outputId": "f5aa362c-ec50-4c37-f6b9-73db7a74abdb"
      },
      "outputs": [
        {
          "data": {
            "text/html": [
              "<div>\n",
              "<style scoped>\n",
              "    .dataframe tbody tr th:only-of-type {\n",
              "        vertical-align: middle;\n",
              "    }\n",
              "\n",
              "    .dataframe tbody tr th {\n",
              "        vertical-align: top;\n",
              "    }\n",
              "\n",
              "    .dataframe thead th {\n",
              "        text-align: right;\n",
              "    }\n",
              "</style>\n",
              "<table border=\"1\" class=\"dataframe\">\n",
              "  <thead>\n",
              "    <tr style=\"text-align: right;\">\n",
              "      <th></th>\n",
              "      <th>number_of_sessions</th>\n",
              "      <th>number_of_events</th>\n",
              "      <th>events_per_session</th>\n",
              "      <th>sessions_per_day</th>\n",
              "      <th>sessions_per_week</th>\n",
              "    </tr>\n",
              "  </thead>\n",
              "  <tbody>\n",
              "    <tr>\n",
              "      <th>count</th>\n",
              "      <td>4244.000000</td>\n",
              "      <td>4244.000000</td>\n",
              "      <td>4244.000000</td>\n",
              "      <td>4244.000000</td>\n",
              "      <td>4244.000000</td>\n",
              "    </tr>\n",
              "    <tr>\n",
              "      <th>mean</th>\n",
              "      <td>2.703346</td>\n",
              "      <td>16.409991</td>\n",
              "      <td>7.022349</td>\n",
              "      <td>0.098414</td>\n",
              "      <td>0.675836</td>\n",
              "    </tr>\n",
              "    <tr>\n",
              "      <th>std</th>\n",
              "      <td>4.194413</td>\n",
              "      <td>27.784068</td>\n",
              "      <td>5.743949</td>\n",
              "      <td>0.148940</td>\n",
              "      <td>1.048603</td>\n",
              "    </tr>\n",
              "    <tr>\n",
              "      <th>min</th>\n",
              "      <td>1.000000</td>\n",
              "      <td>1.000000</td>\n",
              "      <td>1.000000</td>\n",
              "      <td>0.040000</td>\n",
              "      <td>0.250000</td>\n",
              "    </tr>\n",
              "    <tr>\n",
              "      <th>25%</th>\n",
              "      <td>1.000000</td>\n",
              "      <td>5.000000</td>\n",
              "      <td>3.000000</td>\n",
              "      <td>0.040000</td>\n",
              "      <td>0.250000</td>\n",
              "    </tr>\n",
              "    <tr>\n",
              "      <th>50%</th>\n",
              "      <td>2.000000</td>\n",
              "      <td>9.000000</td>\n",
              "      <td>5.000000</td>\n",
              "      <td>0.070000</td>\n",
              "      <td>0.500000</td>\n",
              "    </tr>\n",
              "    <tr>\n",
              "      <th>75%</th>\n",
              "      <td>3.000000</td>\n",
              "      <td>17.000000</td>\n",
              "      <td>9.000000</td>\n",
              "      <td>0.110000</td>\n",
              "      <td>0.750000</td>\n",
              "    </tr>\n",
              "    <tr>\n",
              "      <th>max</th>\n",
              "      <td>116.000000</td>\n",
              "      <td>470.000000</td>\n",
              "      <td>36.500000</td>\n",
              "      <td>4.140000</td>\n",
              "      <td>29.000000</td>\n",
              "    </tr>\n",
              "  </tbody>\n",
              "</table>\n",
              "</div>"
            ],
            "text/plain": [
              "       number_of_sessions  number_of_events  events_per_session  \\\n",
              "count         4244.000000       4244.000000         4244.000000   \n",
              "mean             2.703346         16.409991            7.022349   \n",
              "std              4.194413         27.784068            5.743949   \n",
              "min              1.000000          1.000000            1.000000   \n",
              "25%              1.000000          5.000000            3.000000   \n",
              "50%              2.000000          9.000000            5.000000   \n",
              "75%              3.000000         17.000000            9.000000   \n",
              "max            116.000000        470.000000           36.500000   \n",
              "\n",
              "       sessions_per_day  sessions_per_week  \n",
              "count       4244.000000        4244.000000  \n",
              "mean           0.098414           0.675836  \n",
              "std            0.148940           1.048603  \n",
              "min            0.040000           0.250000  \n",
              "25%            0.040000           0.250000  \n",
              "50%            0.070000           0.500000  \n",
              "75%            0.110000           0.750000  \n",
              "max            4.140000          29.000000  "
            ]
          },
          "execution_count": 50,
          "metadata": {},
          "output_type": "execute_result"
        }
      ],
      "source": [
        "sessions.describe()"
      ]
    },
    {
      "cell_type": "markdown",
      "metadata": {
        "id": "uUnEUp2bqQoX"
      },
      "source": [
        "Удалим показатели, на которые мы не будем опираться"
      ]
    },
    {
      "cell_type": "code",
      "execution_count": null,
      "metadata": {
        "id": "Tjdw6VzXqQoX"
      },
      "outputs": [],
      "source": [
        "sessions.drop({'number_of_events', 'sessions_per_day', 'sessions_per_week'},inplace = True, axis = 1)"
      ]
    },
    {
      "cell_type": "code",
      "execution_count": null,
      "metadata": {
        "scrolled": true,
        "id": "0mrNn_F5qQoX",
        "outputId": "4cfc293e-b7ae-45d5-fb1c-efc9e884e999"
      },
      "outputs": [
        {
          "data": {
            "image/png": "[encoded data removed]",
            "text/plain": [
              "<Figure size 1080x720 with 1 Axes>"
            ]
          },
          "metadata": {},
          "output_type": "display_data"
        }
      ],
      "source": [
        "sessions.hist(column='number_of_sessions', figsize=(15, 10), bins=10)\n",
        "\n",
        "plt.title('Распределение срока продажи')\n",
        "plt.xlabel('Кол-во дней')\n",
        "plt.ylabel('Кол-во закрытых объявлений')\n",
        "\n",
        "plt.show()"
      ]
    },
    {
      "cell_type": "markdown",
      "metadata": {
        "id": "phQHZdLlqQoX"
      },
      "source": [
        "Выделим 4 сегмента пользователей:\n",
        "- Новички\n",
        "- Малоактивные\n",
        "- Среднеактивные\n",
        "- Активные"
      ]
    },
    {
      "cell_type": "markdown",
      "metadata": {
        "id": "1-K1xxu6qQoX"
      },
      "source": [
        "<div class=\"alert alert-block alert-danger\">✍\n",
        "    \n",
        "\n",
        "__Комментарий от тимлида №1__\n",
        "    \n",
        "В реальной практике тебе придется обосновать почему именно такое разделение. Чем полезно будет исследовать такие группы пользователей для заказчика? Было бы неплохо развернуто расписать свою идею) Предположить какие результаты получишь и сравнивать ожидание\\реальность\n",
        "\n",
        "</div>"
      ]
    },
    {
      "cell_type": "markdown",
      "metadata": {
        "id": "BKQn1Ov1qQoX"
      },
      "source": [
        "<div>\n",
        "    <span style=\"color:blue\">\n",
        "\n",
        "__Комментарий от студента №1__\n",
        "\n",
        "Изменения №1 (Сегментация)\n",
        "</div>"
      ]
    },
    {
      "cell_type": "markdown",
      "metadata": {
        "id": "4T-12KuhqQoX"
      },
      "source": [
        "Я выбрал разделение на активность пользователей, так как считаю данную метрику самой оптимальной относительно приложения.\\\n",
        "\n",
        "Нам необходимо знать нашу целевую аудиторию, а так же знать, на каких этапах и в каком виде активна новая аудитория, какой отток клиентов каждого сегмента и насколько по времени задерживается пользователь каждой группы в нашем приложении. Если мы будем знать, как ведут себя 4 группы пользователей, то нам будет проще прогнозировать дальнейшие наши действия , что бы оказывать полезное влияние на все сегменты точечно"
      ]
    },
    {
      "cell_type": "markdown",
      "metadata": {
        "id": "DVCJ6aYLqQoY"
      },
      "source": [
        "<div class=\"alert alert-block alert-success\">✔️\n",
        "    \n",
        "\n",
        "__Комментарий от тимлида №2__\n",
        "\n",
        "Очень хорошо, что обосновал свой выбор сегментации\n",
        "</div>"
      ]
    },
    {
      "cell_type": "markdown",
      "metadata": {
        "id": "42goIbwZqQoZ"
      },
      "source": []
    },
    {
      "cell_type": "markdown",
      "metadata": {
        "id": "Hoocd4jPqQoZ"
      },
      "source": [
        "Новички приложения"
      ]
    },
    {
      "cell_type": "code",
      "execution_count": null,
      "metadata": {
        "id": "m4Xw7ikkqQoa",
        "outputId": "a3fec444-62e1-4c2e-b8fd-861a1c4776a3"
      },
      "outputs": [
        {
          "name": "stdout",
          "output_type": "stream",
          "text": [
            "Количество пользователей в сегменте новичков: 2036\n"
          ]
        },
        {
          "data": {
            "text/html": [
              "<div>\n",
              "<style scoped>\n",
              "    .dataframe tbody tr th:only-of-type {\n",
              "        vertical-align: middle;\n",
              "    }\n",
              "\n",
              "    .dataframe tbody tr th {\n",
              "        vertical-align: top;\n",
              "    }\n",
              "\n",
              "    .dataframe thead th {\n",
              "        text-align: right;\n",
              "    }\n",
              "</style>\n",
              "<table border=\"1\" class=\"dataframe\">\n",
              "  <thead>\n",
              "    <tr style=\"text-align: right;\">\n",
              "      <th></th>\n",
              "      <th>index</th>\n",
              "      <th>user_id</th>\n",
              "      <th>number_of_sessions</th>\n",
              "      <th>events_per_session</th>\n",
              "    </tr>\n",
              "  </thead>\n",
              "  <tbody>\n",
              "    <tr>\n",
              "      <th>0</th>\n",
              "      <td>2</td>\n",
              "      <td>00463033-5717-4bf1-91b4-09183923b9df</td>\n",
              "      <td>1</td>\n",
              "      <td>10.0</td>\n",
              "    </tr>\n",
              "    <tr>\n",
              "      <th>1</th>\n",
              "      <td>6</td>\n",
              "      <td>005fbea5-2678-406f-88a6-fbe9787e2268</td>\n",
              "      <td>1</td>\n",
              "      <td>5.0</td>\n",
              "    </tr>\n",
              "    <tr>\n",
              "      <th>2</th>\n",
              "      <td>7</td>\n",
              "      <td>00653802-5ff1-4071-bc17-347fc4cef569</td>\n",
              "      <td>1</td>\n",
              "      <td>5.0</td>\n",
              "    </tr>\n",
              "    <tr>\n",
              "      <th>3</th>\n",
              "      <td>8</td>\n",
              "      <td>006a32d4-ee10-40dc-b237-11e0fde81cbc</td>\n",
              "      <td>1</td>\n",
              "      <td>6.0</td>\n",
              "    </tr>\n",
              "    <tr>\n",
              "      <th>4</th>\n",
              "      <td>9</td>\n",
              "      <td>006f6ced-225b-4f9c-9f17-23404bc6835f</td>\n",
              "      <td>1</td>\n",
              "      <td>5.0</td>\n",
              "    </tr>\n",
              "    <tr>\n",
              "      <th>5</th>\n",
              "      <td>11</td>\n",
              "      <td>007d031d-5018-4e02-b7ee-72a30609173f</td>\n",
              "      <td>1</td>\n",
              "      <td>8.0</td>\n",
              "    </tr>\n",
              "    <tr>\n",
              "      <th>6</th>\n",
              "      <td>12</td>\n",
              "      <td>009c0f37-8556-4c72-a007-100e28a37373</td>\n",
              "      <td>1</td>\n",
              "      <td>8.0</td>\n",
              "    </tr>\n",
              "    <tr>\n",
              "      <th>7</th>\n",
              "      <td>14</td>\n",
              "      <td>00aa4003-366b-4788-ad1f-506f2b51b8cb</td>\n",
              "      <td>1</td>\n",
              "      <td>6.0</td>\n",
              "    </tr>\n",
              "    <tr>\n",
              "      <th>8</th>\n",
              "      <td>15</td>\n",
              "      <td>00af35c4-2045-4960-96b8-7fd5f1978a88</td>\n",
              "      <td>1</td>\n",
              "      <td>5.0</td>\n",
              "    </tr>\n",
              "    <tr>\n",
              "      <th>9</th>\n",
              "      <td>17</td>\n",
              "      <td>00ba2474-01c3-481a-8cf2-6d4636a8a1ca</td>\n",
              "      <td>1</td>\n",
              "      <td>13.0</td>\n",
              "    </tr>\n",
              "  </tbody>\n",
              "</table>\n",
              "</div>"
            ],
            "text/plain": [
              "   index                               user_id  number_of_sessions  \\\n",
              "0      2  00463033-5717-4bf1-91b4-09183923b9df                   1   \n",
              "1      6  005fbea5-2678-406f-88a6-fbe9787e2268                   1   \n",
              "2      7  00653802-5ff1-4071-bc17-347fc4cef569                   1   \n",
              "3      8  006a32d4-ee10-40dc-b237-11e0fde81cbc                   1   \n",
              "4      9  006f6ced-225b-4f9c-9f17-23404bc6835f                   1   \n",
              "5     11  007d031d-5018-4e02-b7ee-72a30609173f                   1   \n",
              "6     12  009c0f37-8556-4c72-a007-100e28a37373                   1   \n",
              "7     14  00aa4003-366b-4788-ad1f-506f2b51b8cb                   1   \n",
              "8     15  00af35c4-2045-4960-96b8-7fd5f1978a88                   1   \n",
              "9     17  00ba2474-01c3-481a-8cf2-6d4636a8a1ca                   1   \n",
              "\n",
              "   events_per_session  \n",
              "0                10.0  \n",
              "1                 5.0  \n",
              "2                 5.0  \n",
              "3                 6.0  \n",
              "4                 5.0  \n",
              "5                 8.0  \n",
              "6                 8.0  \n",
              "7                 6.0  \n",
              "8                 5.0  \n",
              "9                13.0  "
            ]
          },
          "execution_count": 53,
          "metadata": {},
          "output_type": "execute_result"
        }
      ],
      "source": [
        "new_users = sessions.query('number_of_sessions == 1').reset_index()\n",
        "print ('Количество пользователей в сегменте новичков:', len(new_users))\n",
        "new_users.head(10)"
      ]
    },
    {
      "cell_type": "code",
      "execution_count": null,
      "metadata": {
        "id": "RTNvfmA3qQoa"
      },
      "outputs": [],
      "source": [
        "sessions = sessions.query('number_of_sessions > 1')"
      ]
    },
    {
      "cell_type": "markdown",
      "metadata": {
        "id": "f25ZNvbvqQoa"
      },
      "source": [
        "Сегмент малоактивных пользователей"
      ]
    },
    {
      "cell_type": "code",
      "execution_count": null,
      "metadata": {
        "id": "3KPaTPCCqQoa",
        "outputId": "aab78c34-0ec0-483d-fd8d-96bfa9ede498"
      },
      "outputs": [
        {
          "data": {
            "text/html": [
              "<div>\n",
              "<style scoped>\n",
              "    .dataframe tbody tr th:only-of-type {\n",
              "        vertical-align: middle;\n",
              "    }\n",
              "\n",
              "    .dataframe tbody tr th {\n",
              "        vertical-align: top;\n",
              "    }\n",
              "\n",
              "    .dataframe thead th {\n",
              "        text-align: right;\n",
              "    }\n",
              "</style>\n",
              "<table border=\"1\" class=\"dataframe\">\n",
              "  <thead>\n",
              "    <tr style=\"text-align: right;\">\n",
              "      <th></th>\n",
              "      <th>number_of_sessions</th>\n",
              "      <th>events_per_session</th>\n",
              "    </tr>\n",
              "  </thead>\n",
              "  <tbody>\n",
              "    <tr>\n",
              "      <th>count</th>\n",
              "      <td>2208.000000</td>\n",
              "      <td>2208.000000</td>\n",
              "    </tr>\n",
              "    <tr>\n",
              "      <th>mean</th>\n",
              "      <td>4.274004</td>\n",
              "      <td>5.693773</td>\n",
              "    </tr>\n",
              "    <tr>\n",
              "      <th>std</th>\n",
              "      <td>5.355222</td>\n",
              "      <td>5.005517</td>\n",
              "    </tr>\n",
              "    <tr>\n",
              "      <th>min</th>\n",
              "      <td>2.000000</td>\n",
              "      <td>1.000000</td>\n",
              "    </tr>\n",
              "    <tr>\n",
              "      <th>25%</th>\n",
              "      <td>2.000000</td>\n",
              "      <td>2.500000</td>\n",
              "    </tr>\n",
              "    <tr>\n",
              "      <th>50%</th>\n",
              "      <td>3.000000</td>\n",
              "      <td>4.000000</td>\n",
              "    </tr>\n",
              "    <tr>\n",
              "      <th>75%</th>\n",
              "      <td>4.000000</td>\n",
              "      <td>7.000000</td>\n",
              "    </tr>\n",
              "    <tr>\n",
              "      <th>max</th>\n",
              "      <td>116.000000</td>\n",
              "      <td>36.500000</td>\n",
              "    </tr>\n",
              "  </tbody>\n",
              "</table>\n",
              "</div>"
            ],
            "text/plain": [
              "       number_of_sessions  events_per_session\n",
              "count         2208.000000         2208.000000\n",
              "mean             4.274004            5.693773\n",
              "std              5.355222            5.005517\n",
              "min              2.000000            1.000000\n",
              "25%              2.000000            2.500000\n",
              "50%              3.000000            4.000000\n",
              "75%              4.000000            7.000000\n",
              "max            116.000000           36.500000"
            ]
          },
          "execution_count": 55,
          "metadata": {},
          "output_type": "execute_result"
        }
      ],
      "source": [
        "sessions.describe()"
      ]
    },
    {
      "cell_type": "markdown",
      "metadata": {
        "id": "eWlqN1FHqQoa"
      },
      "source": [
        "Теперь выделим сегмент малоактивных пользователей - в среднем до четырех событий за сеанс"
      ]
    },
    {
      "cell_type": "code",
      "execution_count": null,
      "metadata": {
        "id": "U-w4TnM5qQoa",
        "outputId": "2995e2d3-54b9-4e96-f53a-f51c99ebbd3b"
      },
      "outputs": [
        {
          "name": "stdout",
          "output_type": "stream",
          "text": [
            "Количество малоактивных пользователей: 1155\n"
          ]
        },
        {
          "data": {
            "text/html": [
              "<div>\n",
              "<style scoped>\n",
              "    .dataframe tbody tr th:only-of-type {\n",
              "        vertical-align: middle;\n",
              "    }\n",
              "\n",
              "    .dataframe tbody tr th {\n",
              "        vertical-align: top;\n",
              "    }\n",
              "\n",
              "    .dataframe thead th {\n",
              "        text-align: right;\n",
              "    }\n",
              "</style>\n",
              "<table border=\"1\" class=\"dataframe\">\n",
              "  <thead>\n",
              "    <tr style=\"text-align: right;\">\n",
              "      <th></th>\n",
              "      <th>user_id</th>\n",
              "      <th>number_of_sessions</th>\n",
              "      <th>events_per_session</th>\n",
              "    </tr>\n",
              "  </thead>\n",
              "  <tbody>\n",
              "    <tr>\n",
              "      <th>3</th>\n",
              "      <td>004690c3-5a84-4bb7-a8af-e0c8f8fca64e</td>\n",
              "      <td>9</td>\n",
              "      <td>3.56</td>\n",
              "    </tr>\n",
              "    <tr>\n",
              "      <th>4</th>\n",
              "      <td>00551e79-152e-4441-9cf7-565d7eb04090</td>\n",
              "      <td>3</td>\n",
              "      <td>2.67</td>\n",
              "    </tr>\n",
              "    <tr>\n",
              "      <th>16</th>\n",
              "      <td>00b59e77-3dc8-4193-a217-c50b9fe849bf</td>\n",
              "      <td>2</td>\n",
              "      <td>3.50</td>\n",
              "    </tr>\n",
              "    <tr>\n",
              "      <th>22</th>\n",
              "      <td>013bbb57-ca6f-4af3-b586-4a046d3d3dee</td>\n",
              "      <td>6</td>\n",
              "      <td>2.50</td>\n",
              "    </tr>\n",
              "    <tr>\n",
              "      <th>26</th>\n",
              "      <td>0164902d-7393-47e1-9d5b-0ec4c0171cdc</td>\n",
              "      <td>3</td>\n",
              "      <td>2.33</td>\n",
              "    </tr>\n",
              "    <tr>\n",
              "      <th>34</th>\n",
              "      <td>01d283e1-cb1c-407a-a4e0-9f72f3deecca</td>\n",
              "      <td>5</td>\n",
              "      <td>1.20</td>\n",
              "    </tr>\n",
              "    <tr>\n",
              "      <th>39</th>\n",
              "      <td>0216e1bd-0984-4ba4-a2b2-c186bf56b6f9</td>\n",
              "      <td>2</td>\n",
              "      <td>1.50</td>\n",
              "    </tr>\n",
              "    <tr>\n",
              "      <th>40</th>\n",
              "      <td>0236feca-f39b-45c1-9de5-b5ee51e0aa9b</td>\n",
              "      <td>2</td>\n",
              "      <td>4.00</td>\n",
              "    </tr>\n",
              "    <tr>\n",
              "      <th>41</th>\n",
              "      <td>024828cf-c873-43e6-8c7e-96aeb348699e</td>\n",
              "      <td>5</td>\n",
              "      <td>2.00</td>\n",
              "    </tr>\n",
              "    <tr>\n",
              "      <th>42</th>\n",
              "      <td>02945421-8f8c-4823-8e8b-3e9aca9eee59</td>\n",
              "      <td>3</td>\n",
              "      <td>3.67</td>\n",
              "    </tr>\n",
              "  </tbody>\n",
              "</table>\n",
              "</div>"
            ],
            "text/plain": [
              "                                 user_id  number_of_sessions  \\\n",
              "3   004690c3-5a84-4bb7-a8af-e0c8f8fca64e                   9   \n",
              "4   00551e79-152e-4441-9cf7-565d7eb04090                   3   \n",
              "16  00b59e77-3dc8-4193-a217-c50b9fe849bf                   2   \n",
              "22  013bbb57-ca6f-4af3-b586-4a046d3d3dee                   6   \n",
              "26  0164902d-7393-47e1-9d5b-0ec4c0171cdc                   3   \n",
              "34  01d283e1-cb1c-407a-a4e0-9f72f3deecca                   5   \n",
              "39  0216e1bd-0984-4ba4-a2b2-c186bf56b6f9                   2   \n",
              "40  0236feca-f39b-45c1-9de5-b5ee51e0aa9b                   2   \n",
              "41  024828cf-c873-43e6-8c7e-96aeb348699e                   5   \n",
              "42  02945421-8f8c-4823-8e8b-3e9aca9eee59                   3   \n",
              "\n",
              "    events_per_session  \n",
              "3                 3.56  \n",
              "4                 2.67  \n",
              "16                3.50  \n",
              "22                2.50  \n",
              "26                2.33  \n",
              "34                1.20  \n",
              "39                1.50  \n",
              "40                4.00  \n",
              "41                2.00  \n",
              "42                3.67  "
            ]
          },
          "execution_count": 56,
          "metadata": {},
          "output_type": "execute_result"
        }
      ],
      "source": [
        "inactive_users = sessions.query('events_per_session <= 4')\n",
        "print ('Количество малоактивных пользователей:', len(inactive_users))\n",
        "inactive_users.head(10)"
      ]
    },
    {
      "cell_type": "code",
      "execution_count": null,
      "metadata": {
        "id": "9S2cbpdMqQoa"
      },
      "outputs": [],
      "source": [
        "sessions = sessions.query('events_per_session > 4')"
      ]
    },
    {
      "cell_type": "markdown",
      "metadata": {
        "id": "6y_uCdR2qQob"
      },
      "source": [
        "Сегмент среднеактивных пользователей"
      ]
    },
    {
      "cell_type": "code",
      "execution_count": null,
      "metadata": {
        "id": "9wvdcyn_qQob",
        "outputId": "358b8d4e-6760-464d-8114-19523de5a8c9"
      },
      "outputs": [
        {
          "data": {
            "text/html": [
              "<div>\n",
              "<style scoped>\n",
              "    .dataframe tbody tr th:only-of-type {\n",
              "        vertical-align: middle;\n",
              "    }\n",
              "\n",
              "    .dataframe tbody tr th {\n",
              "        vertical-align: top;\n",
              "    }\n",
              "\n",
              "    .dataframe thead th {\n",
              "        text-align: right;\n",
              "    }\n",
              "</style>\n",
              "<table border=\"1\" class=\"dataframe\">\n",
              "  <thead>\n",
              "    <tr style=\"text-align: right;\">\n",
              "      <th></th>\n",
              "      <th>number_of_sessions</th>\n",
              "      <th>events_per_session</th>\n",
              "    </tr>\n",
              "  </thead>\n",
              "  <tbody>\n",
              "    <tr>\n",
              "      <th>count</th>\n",
              "      <td>1053.000000</td>\n",
              "      <td>1053.000000</td>\n",
              "    </tr>\n",
              "    <tr>\n",
              "      <th>mean</th>\n",
              "      <td>4.460589</td>\n",
              "      <td>9.094549</td>\n",
              "    </tr>\n",
              "    <tr>\n",
              "      <th>std</th>\n",
              "      <td>5.557307</td>\n",
              "      <td>5.447626</td>\n",
              "    </tr>\n",
              "    <tr>\n",
              "      <th>min</th>\n",
              "      <td>2.000000</td>\n",
              "      <td>4.100000</td>\n",
              "    </tr>\n",
              "    <tr>\n",
              "      <th>25%</th>\n",
              "      <td>2.000000</td>\n",
              "      <td>5.500000</td>\n",
              "    </tr>\n",
              "    <tr>\n",
              "      <th>50%</th>\n",
              "      <td>3.000000</td>\n",
              "      <td>7.330000</td>\n",
              "    </tr>\n",
              "    <tr>\n",
              "      <th>75%</th>\n",
              "      <td>4.000000</td>\n",
              "      <td>10.580000</td>\n",
              "    </tr>\n",
              "    <tr>\n",
              "      <th>max</th>\n",
              "      <td>79.000000</td>\n",
              "      <td>36.500000</td>\n",
              "    </tr>\n",
              "  </tbody>\n",
              "</table>\n",
              "</div>"
            ],
            "text/plain": [
              "       number_of_sessions  events_per_session\n",
              "count         1053.000000         1053.000000\n",
              "mean             4.460589            9.094549\n",
              "std              5.557307            5.447626\n",
              "min              2.000000            4.100000\n",
              "25%              2.000000            5.500000\n",
              "50%              3.000000            7.330000\n",
              "75%              4.000000           10.580000\n",
              "max             79.000000           36.500000"
            ]
          },
          "execution_count": 58,
          "metadata": {},
          "output_type": "execute_result"
        }
      ],
      "source": [
        "sessions.describe()"
      ]
    },
    {
      "cell_type": "markdown",
      "metadata": {
        "id": "JLNoQQj7qQob"
      },
      "source": [
        "Среднеактивными пользователями примем тех, кто в среднем совершает до десяти событий за сеанс (75-ый квантиль)"
      ]
    },
    {
      "cell_type": "code",
      "execution_count": null,
      "metadata": {
        "id": "f75sUGiXqQob",
        "outputId": "826bc829-afa9-47c2-80c8-ee89d3df956d"
      },
      "outputs": [
        {
          "name": "stdout",
          "output_type": "stream",
          "text": [
            "Количество среднеактивных пользователей: 760\n"
          ]
        },
        {
          "data": {
            "text/html": [
              "<div>\n",
              "<style scoped>\n",
              "    .dataframe tbody tr th:only-of-type {\n",
              "        vertical-align: middle;\n",
              "    }\n",
              "\n",
              "    .dataframe tbody tr th {\n",
              "        vertical-align: top;\n",
              "    }\n",
              "\n",
              "    .dataframe thead th {\n",
              "        text-align: right;\n",
              "    }\n",
              "</style>\n",
              "<table border=\"1\" class=\"dataframe\">\n",
              "  <thead>\n",
              "    <tr style=\"text-align: right;\">\n",
              "      <th></th>\n",
              "      <th>user_id</th>\n",
              "      <th>number_of_sessions</th>\n",
              "      <th>events_per_session</th>\n",
              "    </tr>\n",
              "  </thead>\n",
              "  <tbody>\n",
              "    <tr>\n",
              "      <th>0</th>\n",
              "      <td>0001b1d5-b74a-4cbf-aeb0-7df5947bf349</td>\n",
              "      <td>4</td>\n",
              "      <td>8.75</td>\n",
              "    </tr>\n",
              "    <tr>\n",
              "      <th>1</th>\n",
              "      <td>00157779-810c-4498-9e05-a1e9e3cedf93</td>\n",
              "      <td>9</td>\n",
              "      <td>7.89</td>\n",
              "    </tr>\n",
              "    <tr>\n",
              "      <th>5</th>\n",
              "      <td>00554293-7e00-4122-b898-4e892c4a7c53</td>\n",
              "      <td>2</td>\n",
              "      <td>5.50</td>\n",
              "    </tr>\n",
              "    <tr>\n",
              "      <th>10</th>\n",
              "      <td>00753c79-ea81-4456-acd0-a47a23ca2fb9</td>\n",
              "      <td>4</td>\n",
              "      <td>4.25</td>\n",
              "    </tr>\n",
              "    <tr>\n",
              "      <th>13</th>\n",
              "      <td>00a93a72-3bbc-4ee7-8a81-7134f45ae009</td>\n",
              "      <td>3</td>\n",
              "      <td>5.00</td>\n",
              "    </tr>\n",
              "    <tr>\n",
              "      <th>33</th>\n",
              "      <td>01b80a0a-f51b-4061-a485-8ceeb626a3f9</td>\n",
              "      <td>3</td>\n",
              "      <td>5.00</td>\n",
              "    </tr>\n",
              "    <tr>\n",
              "      <th>36</th>\n",
              "      <td>02012123-f8ee-40f4-8ccd-c5859f3fbc41</td>\n",
              "      <td>4</td>\n",
              "      <td>5.75</td>\n",
              "    </tr>\n",
              "    <tr>\n",
              "      <th>44</th>\n",
              "      <td>02c90994-8de8-49e8-a384-415fb1602ac5</td>\n",
              "      <td>8</td>\n",
              "      <td>5.00</td>\n",
              "    </tr>\n",
              "    <tr>\n",
              "      <th>45</th>\n",
              "      <td>02d68ba9-300f-44cd-aefb-b9905cc550a0</td>\n",
              "      <td>2</td>\n",
              "      <td>7.50</td>\n",
              "    </tr>\n",
              "    <tr>\n",
              "      <th>51</th>\n",
              "      <td>03739d15-7212-415c-9c88-4dfc24b8d3b5</td>\n",
              "      <td>2</td>\n",
              "      <td>5.00</td>\n",
              "    </tr>\n",
              "  </tbody>\n",
              "</table>\n",
              "</div>"
            ],
            "text/plain": [
              "                                 user_id  number_of_sessions  \\\n",
              "0   0001b1d5-b74a-4cbf-aeb0-7df5947bf349                   4   \n",
              "1   00157779-810c-4498-9e05-a1e9e3cedf93                   9   \n",
              "5   00554293-7e00-4122-b898-4e892c4a7c53                   2   \n",
              "10  00753c79-ea81-4456-acd0-a47a23ca2fb9                   4   \n",
              "13  00a93a72-3bbc-4ee7-8a81-7134f45ae009                   3   \n",
              "33  01b80a0a-f51b-4061-a485-8ceeb626a3f9                   3   \n",
              "36  02012123-f8ee-40f4-8ccd-c5859f3fbc41                   4   \n",
              "44  02c90994-8de8-49e8-a384-415fb1602ac5                   8   \n",
              "45  02d68ba9-300f-44cd-aefb-b9905cc550a0                   2   \n",
              "51  03739d15-7212-415c-9c88-4dfc24b8d3b5                   2   \n",
              "\n",
              "    events_per_session  \n",
              "0                 8.75  \n",
              "1                 7.89  \n",
              "5                 5.50  \n",
              "10                4.25  \n",
              "13                5.00  \n",
              "33                5.00  \n",
              "36                5.75  \n",
              "44                5.00  \n",
              "45                7.50  \n",
              "51                5.00  "
            ]
          },
          "execution_count": 59,
          "metadata": {},
          "output_type": "execute_result"
        }
      ],
      "source": [
        "medium_active_users = sessions.query('events_per_session <= 10')\n",
        "print ('Количество среднеактивных пользователей:', len(medium_active_users))\n",
        "medium_active_users.head(10)"
      ]
    },
    {
      "cell_type": "markdown",
      "metadata": {
        "id": "xMHPH7otqQob"
      },
      "source": [
        "Сегмент активных пользователей"
      ]
    },
    {
      "cell_type": "markdown",
      "metadata": {
        "id": "x6Bjvv0OqQob"
      },
      "source": [
        "Активными пользователями будем считать тех, кто совершает в среднем более десяти событий за сеанс"
      ]
    },
    {
      "cell_type": "code",
      "execution_count": null,
      "metadata": {
        "id": "LH45AaaAqQoc",
        "outputId": "7d66fcec-6e60-44cb-955b-0b6f024284cb"
      },
      "outputs": [
        {
          "name": "stdout",
          "output_type": "stream",
          "text": [
            "Количество активных пользователей: 293\n"
          ]
        },
        {
          "data": {
            "text/html": [
              "<div>\n",
              "<style scoped>\n",
              "    .dataframe tbody tr th:only-of-type {\n",
              "        vertical-align: middle;\n",
              "    }\n",
              "\n",
              "    .dataframe tbody tr th {\n",
              "        vertical-align: top;\n",
              "    }\n",
              "\n",
              "    .dataframe thead th {\n",
              "        text-align: right;\n",
              "    }\n",
              "</style>\n",
              "<table border=\"1\" class=\"dataframe\">\n",
              "  <thead>\n",
              "    <tr style=\"text-align: right;\">\n",
              "      <th></th>\n",
              "      <th>user_id</th>\n",
              "      <th>number_of_sessions</th>\n",
              "      <th>events_per_session</th>\n",
              "    </tr>\n",
              "  </thead>\n",
              "  <tbody>\n",
              "    <tr>\n",
              "      <th>67</th>\n",
              "      <td>04adf25e-cb60-4cbd-bedc-ddc1057cde06</td>\n",
              "      <td>8</td>\n",
              "      <td>13.75</td>\n",
              "    </tr>\n",
              "    <tr>\n",
              "      <th>76</th>\n",
              "      <td>04fb9b01-30bb-49f4-bbaa-e095c0bbff18</td>\n",
              "      <td>3</td>\n",
              "      <td>11.00</td>\n",
              "    </tr>\n",
              "    <tr>\n",
              "      <th>77</th>\n",
              "      <td>050311ed-1ddd-48d8-8195-ae327f905427</td>\n",
              "      <td>2</td>\n",
              "      <td>14.00</td>\n",
              "    </tr>\n",
              "    <tr>\n",
              "      <th>84</th>\n",
              "      <td>056dec65-545a-4123-b95d-3ca96ed31133</td>\n",
              "      <td>3</td>\n",
              "      <td>11.67</td>\n",
              "    </tr>\n",
              "    <tr>\n",
              "      <th>91</th>\n",
              "      <td>05b35678-bbc6-47f0-b552-ab639249a0d4</td>\n",
              "      <td>6</td>\n",
              "      <td>13.17</td>\n",
              "    </tr>\n",
              "    <tr>\n",
              "      <th>121</th>\n",
              "      <td>076f2de3-268b-4cf1-ade7-73d09752e3b3</td>\n",
              "      <td>3</td>\n",
              "      <td>14.33</td>\n",
              "    </tr>\n",
              "    <tr>\n",
              "      <th>151</th>\n",
              "      <td>08b25050-2a3d-48af-bb45-ac437ec7ed3d</td>\n",
              "      <td>2</td>\n",
              "      <td>19.00</td>\n",
              "    </tr>\n",
              "    <tr>\n",
              "      <th>162</th>\n",
              "      <td>094abcd3-4022-4e55-94f9-e416a4416752</td>\n",
              "      <td>2</td>\n",
              "      <td>23.00</td>\n",
              "    </tr>\n",
              "    <tr>\n",
              "      <th>181</th>\n",
              "      <td>0a59892f-3578-484b-af84-eb3b2298fb8c</td>\n",
              "      <td>6</td>\n",
              "      <td>10.83</td>\n",
              "    </tr>\n",
              "    <tr>\n",
              "      <th>189</th>\n",
              "      <td>0b090b44-12c0-4292-8f4b-bee2424512b6</td>\n",
              "      <td>3</td>\n",
              "      <td>13.00</td>\n",
              "    </tr>\n",
              "  </tbody>\n",
              "</table>\n",
              "</div>"
            ],
            "text/plain": [
              "                                  user_id  number_of_sessions  \\\n",
              "67   04adf25e-cb60-4cbd-bedc-ddc1057cde06                   8   \n",
              "76   04fb9b01-30bb-49f4-bbaa-e095c0bbff18                   3   \n",
              "77   050311ed-1ddd-48d8-8195-ae327f905427                   2   \n",
              "84   056dec65-545a-4123-b95d-3ca96ed31133                   3   \n",
              "91   05b35678-bbc6-47f0-b552-ab639249a0d4                   6   \n",
              "121  076f2de3-268b-4cf1-ade7-73d09752e3b3                   3   \n",
              "151  08b25050-2a3d-48af-bb45-ac437ec7ed3d                   2   \n",
              "162  094abcd3-4022-4e55-94f9-e416a4416752                   2   \n",
              "181  0a59892f-3578-484b-af84-eb3b2298fb8c                   6   \n",
              "189  0b090b44-12c0-4292-8f4b-bee2424512b6                   3   \n",
              "\n",
              "     events_per_session  \n",
              "67                13.75  \n",
              "76                11.00  \n",
              "77                14.00  \n",
              "84                11.67  \n",
              "91                13.17  \n",
              "121               14.33  \n",
              "151               19.00  \n",
              "162               23.00  \n",
              "181               10.83  \n",
              "189               13.00  "
            ]
          },
          "execution_count": 60,
          "metadata": {},
          "output_type": "execute_result"
        }
      ],
      "source": [
        "active_users = sessions.query('events_per_session > 10')\n",
        "print ('Количество активных пользователей:', len(active_users))\n",
        "active_users.head(10)"
      ]
    },
    {
      "cell_type": "markdown",
      "metadata": {
        "id": "t69EzCmoqQoc"
      },
      "source": [
        "Вывод:\n",
        "\n",
        "Сегментировали пользователей по среднему количеству событий за сессию на четыре группы:\n",
        "\n",
        "Пользователи-новички. Один сеанс в приложении. Самое большое число пользователей. Всего: 2034 (почти 50% пользователей).\n",
        "\n",
        "Малоактивные пользователи. В среднем совершают до четырех событий за сеанс. Всего: 1138.\n",
        "\n",
        "Среднеактивные пользователи. В среднем совершают от четырех до десяти событий за сеанс. По сути целевая аудитория. Всего: 768\n",
        "\n",
        "Активные пользователи. Больше десяти действий за сеанс. Активно пользуются приложением. Всего: 301."
      ]
    },
    {
      "cell_type": "markdown",
      "metadata": {
        "id": "l1hkeQwtqQoc"
      },
      "source": [
        "<div class=\"alert alert-block alert-success\">✔️\n",
        "    \n",
        "\n",
        "__Комментарий от тимлида №1__\n",
        "\n",
        "Корректная реализация, молодец)"
      ]
    },
    {
      "cell_type": "markdown",
      "metadata": {
        "id": "dyo8vf_ZqQoc"
      },
      "source": [
        "***Исследовательский анализ***\n",
        "\n",
        "Рассчитаем метрики внутри выделенных сегментов"
      ]
    },
    {
      "cell_type": "markdown",
      "metadata": {
        "id": "4GhGpoZ1qQoc"
      },
      "source": [
        "Retantion Rate «коэффициент удержания»"
      ]
    },
    {
      "cell_type": "markdown",
      "metadata": {
        "id": "kkXn0ddEqQod"
      },
      "source": [
        "Сформируем когорты по данным за неделю:"
      ]
    },
    {
      "cell_type": "code",
      "execution_count": null,
      "metadata": {
        "id": "SZOtmDA8qQod",
        "outputId": "81c0a430-93f1-431b-a1fd-6eb0313d571f"
      },
      "outputs": [
        {
          "data": {
            "text/html": [
              "<div>\n",
              "<style scoped>\n",
              "    .dataframe tbody tr th:only-of-type {\n",
              "        vertical-align: middle;\n",
              "    }\n",
              "\n",
              "    .dataframe tbody tr th {\n",
              "        vertical-align: top;\n",
              "    }\n",
              "\n",
              "    .dataframe thead th {\n",
              "        text-align: right;\n",
              "    }\n",
              "</style>\n",
              "<table border=\"1\" class=\"dataframe\">\n",
              "  <thead>\n",
              "    <tr style=\"text-align: right;\">\n",
              "      <th></th>\n",
              "      <th>event_time</th>\n",
              "      <th>event_name</th>\n",
              "      <th>user_id</th>\n",
              "      <th>source</th>\n",
              "      <th>event_date</th>\n",
              "      <th>date</th>\n",
              "      <th>num_sess_for_user</th>\n",
              "      <th>first_activity_date</th>\n",
              "    </tr>\n",
              "  </thead>\n",
              "  <tbody>\n",
              "    <tr>\n",
              "      <th>0</th>\n",
              "      <td>2019-10-07 13:39:45</td>\n",
              "      <td>tips_show</td>\n",
              "      <td>0001b1d5-b74a-4cbf-aeb0-7df5947bf349</td>\n",
              "      <td>other</td>\n",
              "      <td>2019-10-07</td>\n",
              "      <td>2019-10-07</td>\n",
              "      <td>1</td>\n",
              "      <td>2019-10-07 13:39:45</td>\n",
              "    </tr>\n",
              "    <tr>\n",
              "      <th>1</th>\n",
              "      <td>2019-10-07 13:40:31</td>\n",
              "      <td>tips_show</td>\n",
              "      <td>0001b1d5-b74a-4cbf-aeb0-7df5947bf349</td>\n",
              "      <td>other</td>\n",
              "      <td>2019-10-07</td>\n",
              "      <td>2019-10-07</td>\n",
              "      <td>1</td>\n",
              "      <td>2019-10-07 13:39:45</td>\n",
              "    </tr>\n",
              "    <tr>\n",
              "      <th>2</th>\n",
              "      <td>2019-10-07 13:41:05</td>\n",
              "      <td>tips_show</td>\n",
              "      <td>0001b1d5-b74a-4cbf-aeb0-7df5947bf349</td>\n",
              "      <td>other</td>\n",
              "      <td>2019-10-07</td>\n",
              "      <td>2019-10-07</td>\n",
              "      <td>1</td>\n",
              "      <td>2019-10-07 13:39:45</td>\n",
              "    </tr>\n",
              "    <tr>\n",
              "      <th>3</th>\n",
              "      <td>2019-10-07 13:43:20</td>\n",
              "      <td>tips_show</td>\n",
              "      <td>0001b1d5-b74a-4cbf-aeb0-7df5947bf349</td>\n",
              "      <td>other</td>\n",
              "      <td>2019-10-07</td>\n",
              "      <td>2019-10-07</td>\n",
              "      <td>1</td>\n",
              "      <td>2019-10-07 13:39:45</td>\n",
              "    </tr>\n",
              "    <tr>\n",
              "      <th>4</th>\n",
              "      <td>2019-10-07 13:45:30</td>\n",
              "      <td>tips_show</td>\n",
              "      <td>0001b1d5-b74a-4cbf-aeb0-7df5947bf349</td>\n",
              "      <td>other</td>\n",
              "      <td>2019-10-07</td>\n",
              "      <td>2019-10-07</td>\n",
              "      <td>1</td>\n",
              "      <td>2019-10-07 13:39:45</td>\n",
              "    </tr>\n",
              "  </tbody>\n",
              "</table>\n",
              "</div>"
            ],
            "text/plain": [
              "           event_time event_name                               user_id source  \\\n",
              "0 2019-10-07 13:39:45  tips_show  0001b1d5-b74a-4cbf-aeb0-7df5947bf349  other   \n",
              "1 2019-10-07 13:40:31  tips_show  0001b1d5-b74a-4cbf-aeb0-7df5947bf349  other   \n",
              "2 2019-10-07 13:41:05  tips_show  0001b1d5-b74a-4cbf-aeb0-7df5947bf349  other   \n",
              "3 2019-10-07 13:43:20  tips_show  0001b1d5-b74a-4cbf-aeb0-7df5947bf349  other   \n",
              "4 2019-10-07 13:45:30  tips_show  0001b1d5-b74a-4cbf-aeb0-7df5947bf349  other   \n",
              "\n",
              "  event_date        date  num_sess_for_user first_activity_date  \n",
              "0 2019-10-07  2019-10-07                  1 2019-10-07 13:39:45  \n",
              "1 2019-10-07  2019-10-07                  1 2019-10-07 13:39:45  \n",
              "2 2019-10-07  2019-10-07                  1 2019-10-07 13:39:45  \n",
              "3 2019-10-07  2019-10-07                  1 2019-10-07 13:39:45  \n",
              "4 2019-10-07  2019-10-07                  1 2019-10-07 13:39:45  "
            ]
          },
          "execution_count": 61,
          "metadata": {},
          "output_type": "execute_result"
        }
      ],
      "source": [
        "first_activity_date = df.groupby(['user_id'])['event_time'].min()\n",
        "first_activity_date.name = 'first_activity_date'\n",
        "df = df.merge(first_activity_date, on='user_id', how='inner')\n",
        "df.head()"
      ]
    },
    {
      "cell_type": "code",
      "execution_count": null,
      "metadata": {
        "id": "0NmcuKQGqQod",
        "outputId": "df40a395-6571-4d35-b061-d8d337ab9555"
      },
      "outputs": [
        {
          "data": {
            "text/html": [
              "<div>\n",
              "<style scoped>\n",
              "    .dataframe tbody tr th:only-of-type {\n",
              "        vertical-align: middle;\n",
              "    }\n",
              "\n",
              "    .dataframe tbody tr th {\n",
              "        vertical-align: top;\n",
              "    }\n",
              "\n",
              "    .dataframe thead th {\n",
              "        text-align: right;\n",
              "    }\n",
              "</style>\n",
              "<table border=\"1\" class=\"dataframe\">\n",
              "  <thead>\n",
              "    <tr style=\"text-align: right;\">\n",
              "      <th></th>\n",
              "      <th>event_time</th>\n",
              "      <th>event_name</th>\n",
              "      <th>user_id</th>\n",
              "      <th>source</th>\n",
              "      <th>event_date</th>\n",
              "      <th>date</th>\n",
              "      <th>num_sess_for_user</th>\n",
              "      <th>first_activity_date</th>\n",
              "      <th>activity_week</th>\n",
              "      <th>first_activity_week</th>\n",
              "    </tr>\n",
              "  </thead>\n",
              "  <tbody>\n",
              "    <tr>\n",
              "      <th>0</th>\n",
              "      <td>2019-10-07 13:39:45</td>\n",
              "      <td>tips_show</td>\n",
              "      <td>0001b1d5-b74a-4cbf-aeb0-7df5947bf349</td>\n",
              "      <td>other</td>\n",
              "      <td>2019-10-07</td>\n",
              "      <td>2019-10-07</td>\n",
              "      <td>1</td>\n",
              "      <td>2019-10-07 13:39:45</td>\n",
              "      <td>2019-10-03</td>\n",
              "      <td>2019-10-03</td>\n",
              "    </tr>\n",
              "    <tr>\n",
              "      <th>1</th>\n",
              "      <td>2019-10-07 13:40:31</td>\n",
              "      <td>tips_show</td>\n",
              "      <td>0001b1d5-b74a-4cbf-aeb0-7df5947bf349</td>\n",
              "      <td>other</td>\n",
              "      <td>2019-10-07</td>\n",
              "      <td>2019-10-07</td>\n",
              "      <td>1</td>\n",
              "      <td>2019-10-07 13:39:45</td>\n",
              "      <td>2019-10-03</td>\n",
              "      <td>2019-10-03</td>\n",
              "    </tr>\n",
              "    <tr>\n",
              "      <th>2</th>\n",
              "      <td>2019-10-07 13:41:05</td>\n",
              "      <td>tips_show</td>\n",
              "      <td>0001b1d5-b74a-4cbf-aeb0-7df5947bf349</td>\n",
              "      <td>other</td>\n",
              "      <td>2019-10-07</td>\n",
              "      <td>2019-10-07</td>\n",
              "      <td>1</td>\n",
              "      <td>2019-10-07 13:39:45</td>\n",
              "      <td>2019-10-03</td>\n",
              "      <td>2019-10-03</td>\n",
              "    </tr>\n",
              "    <tr>\n",
              "      <th>3</th>\n",
              "      <td>2019-10-07 13:43:20</td>\n",
              "      <td>tips_show</td>\n",
              "      <td>0001b1d5-b74a-4cbf-aeb0-7df5947bf349</td>\n",
              "      <td>other</td>\n",
              "      <td>2019-10-07</td>\n",
              "      <td>2019-10-07</td>\n",
              "      <td>1</td>\n",
              "      <td>2019-10-07 13:39:45</td>\n",
              "      <td>2019-10-03</td>\n",
              "      <td>2019-10-03</td>\n",
              "    </tr>\n",
              "    <tr>\n",
              "      <th>4</th>\n",
              "      <td>2019-10-07 13:45:30</td>\n",
              "      <td>tips_show</td>\n",
              "      <td>0001b1d5-b74a-4cbf-aeb0-7df5947bf349</td>\n",
              "      <td>other</td>\n",
              "      <td>2019-10-07</td>\n",
              "      <td>2019-10-07</td>\n",
              "      <td>1</td>\n",
              "      <td>2019-10-07 13:39:45</td>\n",
              "      <td>2019-10-03</td>\n",
              "      <td>2019-10-03</td>\n",
              "    </tr>\n",
              "  </tbody>\n",
              "</table>\n",
              "</div>"
            ],
            "text/plain": [
              "           event_time event_name                               user_id source  \\\n",
              "0 2019-10-07 13:39:45  tips_show  0001b1d5-b74a-4cbf-aeb0-7df5947bf349  other   \n",
              "1 2019-10-07 13:40:31  tips_show  0001b1d5-b74a-4cbf-aeb0-7df5947bf349  other   \n",
              "2 2019-10-07 13:41:05  tips_show  0001b1d5-b74a-4cbf-aeb0-7df5947bf349  other   \n",
              "3 2019-10-07 13:43:20  tips_show  0001b1d5-b74a-4cbf-aeb0-7df5947bf349  other   \n",
              "4 2019-10-07 13:45:30  tips_show  0001b1d5-b74a-4cbf-aeb0-7df5947bf349  other   \n",
              "\n",
              "  event_date        date  num_sess_for_user first_activity_date activity_week  \\\n",
              "0 2019-10-07  2019-10-07                  1 2019-10-07 13:39:45    2019-10-03   \n",
              "1 2019-10-07  2019-10-07                  1 2019-10-07 13:39:45    2019-10-03   \n",
              "2 2019-10-07  2019-10-07                  1 2019-10-07 13:39:45    2019-10-03   \n",
              "3 2019-10-07  2019-10-07                  1 2019-10-07 13:39:45    2019-10-03   \n",
              "4 2019-10-07  2019-10-07                  1 2019-10-07 13:39:45    2019-10-03   \n",
              "\n",
              "  first_activity_week  \n",
              "0          2019-10-03  \n",
              "1          2019-10-03  \n",
              "2          2019-10-03  \n",
              "3          2019-10-03  \n",
              "4          2019-10-03  "
            ]
          },
          "execution_count": 62,
          "metadata": {},
          "output_type": "execute_result"
        }
      ],
      "source": [
        "df['activity_week'] = df['event_time'].astype('datetime64[W]')\n",
        "df['first_activity_week'] = df['first_activity_date'].astype('datetime64[W]')\n",
        "df.head()"
      ]
    },
    {
      "cell_type": "markdown",
      "metadata": {
        "id": "ibbLPYscqQod"
      },
      "source": [
        "Рассчитаем lifetime каждого пользователя в рамках когорты."
      ]
    },
    {
      "cell_type": "code",
      "execution_count": null,
      "metadata": {
        "id": "LJGqnf_IqQod"
      },
      "outputs": [],
      "source": [
        "df['cohort_lifetime'] = df['activity_week'] - df['first_activity_week']\n",
        "df['cohort_lifetime'] = df['cohort_lifetime'] / np.timedelta64(1,'W')\n",
        "df['cohort_lifetime'] = df['cohort_lifetime'].astype('int')"
      ]
    },
    {
      "cell_type": "markdown",
      "metadata": {
        "id": "LA5V1laCqQod"
      },
      "source": [
        "Дальше будем рассмотривать Retantion Rate внутри каждого сегмента по отдельности"
      ]
    },
    {
      "cell_type": "markdown",
      "metadata": {
        "id": "seytOL4pqQod"
      },
      "source": [
        "Новички приложения\n",
        "\n",
        "Retantion Rate - коэфициент удержания, который показывает сколько пользователей из когорты относительно их изначального числа вернулись в приложение еще раз. Но про пользователей-новичков мы знаем, что они совершили только один сеанс и больше в приложении не возвращались, так что рассчитывать эту метрику для данного сегмента нецелесообразно"
      ]
    },
    {
      "cell_type": "markdown",
      "metadata": {
        "id": "RFMobcb2qQoe"
      },
      "source": [
        "Малоактивные пользователи"
      ]
    },
    {
      "cell_type": "code",
      "execution_count": null,
      "metadata": {
        "id": "4WW1gUcuqQoe"
      },
      "outputs": [],
      "source": [
        "inactive_users_1 = df.merge(inactive_users, on='user_id', how='inner')"
      ]
    },
    {
      "cell_type": "code",
      "execution_count": null,
      "metadata": {
        "id": "EELvRvGIqQoe",
        "outputId": "91abd44f-3156-4287-b788-cadcf11753b2"
      },
      "outputs": [
        {
          "data": {
            "text/html": [
              "<div>\n",
              "<style scoped>\n",
              "    .dataframe tbody tr th:only-of-type {\n",
              "        vertical-align: middle;\n",
              "    }\n",
              "\n",
              "    .dataframe tbody tr th {\n",
              "        vertical-align: top;\n",
              "    }\n",
              "\n",
              "    .dataframe thead th {\n",
              "        text-align: right;\n",
              "    }\n",
              "</style>\n",
              "<table border=\"1\" class=\"dataframe\">\n",
              "  <thead>\n",
              "    <tr style=\"text-align: right;\">\n",
              "      <th></th>\n",
              "      <th>event_time</th>\n",
              "      <th>event_name</th>\n",
              "      <th>user_id</th>\n",
              "      <th>source</th>\n",
              "      <th>event_date</th>\n",
              "      <th>date</th>\n",
              "      <th>num_sess_for_user</th>\n",
              "      <th>first_activity_date</th>\n",
              "      <th>activity_week</th>\n",
              "      <th>first_activity_week</th>\n",
              "      <th>cohort_lifetime</th>\n",
              "      <th>number_of_sessions</th>\n",
              "      <th>events_per_session</th>\n",
              "    </tr>\n",
              "  </thead>\n",
              "  <tbody>\n",
              "    <tr>\n",
              "      <th>1586</th>\n",
              "      <td>2019-10-11 11:43:01</td>\n",
              "      <td>contacts_show</td>\n",
              "      <td>21230dd9-2f7f-4b77-a436-43d4d10388e0</td>\n",
              "      <td>yandex</td>\n",
              "      <td>2019-10-11</td>\n",
              "      <td>2019-10-11</td>\n",
              "      <td>8</td>\n",
              "      <td>2019-10-10 13:09:40</td>\n",
              "      <td>2019-10-10</td>\n",
              "      <td>2019-10-10</td>\n",
              "      <td>0</td>\n",
              "      <td>116</td>\n",
              "      <td>3.43</td>\n",
              "    </tr>\n",
              "    <tr>\n",
              "      <th>8659</th>\n",
              "      <td>2019-10-25 14:50:50</td>\n",
              "      <td>favorites_add</td>\n",
              "      <td>b7e6a860-5ec7-4ba8-9a92-95b8246ff015</td>\n",
              "      <td>yandex</td>\n",
              "      <td>2019-10-25</td>\n",
              "      <td>2019-10-25</td>\n",
              "      <td>1</td>\n",
              "      <td>2019-10-25 14:50:50</td>\n",
              "      <td>2019-10-24</td>\n",
              "      <td>2019-10-24</td>\n",
              "      <td>0</td>\n",
              "      <td>4</td>\n",
              "      <td>2.75</td>\n",
              "    </tr>\n",
              "    <tr>\n",
              "      <th>4848</th>\n",
              "      <td>2019-10-21 15:04:49</td>\n",
              "      <td>contacts_call</td>\n",
              "      <td>680a667f-8cee-4b1d-9272-aa01d633dca9</td>\n",
              "      <td>other</td>\n",
              "      <td>2019-10-21</td>\n",
              "      <td>2019-10-21</td>\n",
              "      <td>2</td>\n",
              "      <td>2019-10-21 14:19:52</td>\n",
              "      <td>2019-10-17</td>\n",
              "      <td>2019-10-17</td>\n",
              "      <td>0</td>\n",
              "      <td>4</td>\n",
              "      <td>2.25</td>\n",
              "    </tr>\n",
              "    <tr>\n",
              "      <th>572</th>\n",
              "      <td>2019-10-18 19:34:36</td>\n",
              "      <td>photos_show</td>\n",
              "      <td>0c01df72-689e-4a2c-bb76-518a8d1d22b1</td>\n",
              "      <td>google</td>\n",
              "      <td>2019-10-18</td>\n",
              "      <td>2019-10-18</td>\n",
              "      <td>9</td>\n",
              "      <td>2019-10-12 14:13:37</td>\n",
              "      <td>2019-10-17</td>\n",
              "      <td>2019-10-10</td>\n",
              "      <td>1</td>\n",
              "      <td>23</td>\n",
              "      <td>2.30</td>\n",
              "    </tr>\n",
              "    <tr>\n",
              "      <th>7757</th>\n",
              "      <td>2019-10-26 14:48:28</td>\n",
              "      <td>photos_show</td>\n",
              "      <td>a171a5e2-0d57-40df-8903-06dd17e177cf</td>\n",
              "      <td>google</td>\n",
              "      <td>2019-10-26</td>\n",
              "      <td>2019-10-26</td>\n",
              "      <td>3</td>\n",
              "      <td>2019-10-11 13:37:31</td>\n",
              "      <td>2019-10-24</td>\n",
              "      <td>2019-10-10</td>\n",
              "      <td>2</td>\n",
              "      <td>5</td>\n",
              "      <td>2.80</td>\n",
              "    </tr>\n",
              "  </tbody>\n",
              "</table>\n",
              "</div>"
            ],
            "text/plain": [
              "              event_time     event_name                               user_id  \\\n",
              "1586 2019-10-11 11:43:01  contacts_show  21230dd9-2f7f-4b77-a436-43d4d10388e0   \n",
              "8659 2019-10-25 14:50:50  favorites_add  b7e6a860-5ec7-4ba8-9a92-95b8246ff015   \n",
              "4848 2019-10-21 15:04:49  contacts_call  680a667f-8cee-4b1d-9272-aa01d633dca9   \n",
              "572  2019-10-18 19:34:36    photos_show  0c01df72-689e-4a2c-bb76-518a8d1d22b1   \n",
              "7757 2019-10-26 14:48:28    photos_show  a171a5e2-0d57-40df-8903-06dd17e177cf   \n",
              "\n",
              "      source event_date        date  num_sess_for_user first_activity_date  \\\n",
              "1586  yandex 2019-10-11  2019-10-11                  8 2019-10-10 13:09:40   \n",
              "8659  yandex 2019-10-25  2019-10-25                  1 2019-10-25 14:50:50   \n",
              "4848   other 2019-10-21  2019-10-21                  2 2019-10-21 14:19:52   \n",
              "572   google 2019-10-18  2019-10-18                  9 2019-10-12 14:13:37   \n",
              "7757  google 2019-10-26  2019-10-26                  3 2019-10-11 13:37:31   \n",
              "\n",
              "     activity_week first_activity_week  cohort_lifetime  number_of_sessions  \\\n",
              "1586    2019-10-10          2019-10-10                0                 116   \n",
              "8659    2019-10-24          2019-10-24                0                   4   \n",
              "4848    2019-10-17          2019-10-17                0                   4   \n",
              "572     2019-10-17          2019-10-10                1                  23   \n",
              "7757    2019-10-24          2019-10-10                2                   5   \n",
              "\n",
              "      events_per_session  \n",
              "1586                3.43  \n",
              "8659                2.75  \n",
              "4848                2.25  \n",
              "572                 2.30  \n",
              "7757                2.80  "
            ]
          },
          "execution_count": 65,
          "metadata": {},
          "output_type": "execute_result"
        }
      ],
      "source": [
        "inactive_users_1.sample(5)"
      ]
    },
    {
      "cell_type": "markdown",
      "metadata": {
        "id": "_zx-bvEeqQoe"
      },
      "source": [
        "Посчитаем для каждой когорты количество активных пользователей на определённую «неделю жизни»"
      ]
    },
    {
      "cell_type": "code",
      "execution_count": null,
      "metadata": {
        "id": "MCpYF032qQoe",
        "outputId": "4563f819-0229-41b7-ec1c-2c8e96961808"
      },
      "outputs": [
        {
          "name": "stdout",
          "output_type": "stream",
          "text": [
            "<class 'pandas.core.frame.DataFrame'>\n",
            "Int64Index: 12246 entries, 0 to 12245\n",
            "Data columns (total 13 columns):\n",
            " #   Column               Non-Null Count  Dtype         \n",
            "---  ------               --------------  -----         \n",
            " 0   event_time           12246 non-null  datetime64[ns]\n",
            " 1   event_name           12246 non-null  object        \n",
            " 2   user_id              12246 non-null  object        \n",
            " 3   source               12246 non-null  object        \n",
            " 4   event_date           12246 non-null  datetime64[ns]\n",
            " 5   date                 12246 non-null  object        \n",
            " 6   num_sess_for_user    12246 non-null  int64         \n",
            " 7   first_activity_date  12246 non-null  datetime64[ns]\n",
            " 8   activity_week        12246 non-null  datetime64[ns]\n",
            " 9   first_activity_week  12246 non-null  datetime64[ns]\n",
            " 10  cohort_lifetime      12246 non-null  int64         \n",
            " 11  number_of_sessions   12246 non-null  int64         \n",
            " 12  events_per_session   12246 non-null  float64       \n",
            "dtypes: datetime64[ns](5), float64(1), int64(3), object(4)\n",
            "memory usage: 1.3+ MB\n"
          ]
        }
      ],
      "source": [
        "inactive_users_1.info()"
      ]
    },
    {
      "cell_type": "code",
      "execution_count": null,
      "metadata": {
        "id": "lYKqn7zvqQoe",
        "outputId": "ac79f99c-2d28-4839-a43e-6b21089e5882"
      },
      "outputs": [
        {
          "data": {
            "text/html": [
              "<div>\n",
              "<style scoped>\n",
              "    .dataframe tbody tr th:only-of-type {\n",
              "        vertical-align: middle;\n",
              "    }\n",
              "\n",
              "    .dataframe tbody tr th {\n",
              "        vertical-align: top;\n",
              "    }\n",
              "\n",
              "    .dataframe thead th {\n",
              "        text-align: right;\n",
              "    }\n",
              "</style>\n",
              "<table border=\"1\" class=\"dataframe\">\n",
              "  <thead>\n",
              "    <tr style=\"text-align: right;\">\n",
              "      <th></th>\n",
              "      <th>first_activity_week</th>\n",
              "      <th>cohort_lifetime</th>\n",
              "      <th>user_id</th>\n",
              "    </tr>\n",
              "  </thead>\n",
              "  <tbody>\n",
              "    <tr>\n",
              "      <th>0</th>\n",
              "      <td>2019-10-03</td>\n",
              "      <td>0</td>\n",
              "      <td>159</td>\n",
              "    </tr>\n",
              "    <tr>\n",
              "      <th>1</th>\n",
              "      <td>2019-10-03</td>\n",
              "      <td>1</td>\n",
              "      <td>78</td>\n",
              "    </tr>\n",
              "    <tr>\n",
              "      <th>2</th>\n",
              "      <td>2019-10-03</td>\n",
              "      <td>2</td>\n",
              "      <td>49</td>\n",
              "    </tr>\n",
              "    <tr>\n",
              "      <th>3</th>\n",
              "      <td>2019-10-03</td>\n",
              "      <td>3</td>\n",
              "      <td>30</td>\n",
              "    </tr>\n",
              "    <tr>\n",
              "      <th>4</th>\n",
              "      <td>2019-10-03</td>\n",
              "      <td>4</td>\n",
              "      <td>19</td>\n",
              "    </tr>\n",
              "    <tr>\n",
              "      <th>5</th>\n",
              "      <td>2019-10-10</td>\n",
              "      <td>0</td>\n",
              "      <td>325</td>\n",
              "    </tr>\n",
              "    <tr>\n",
              "      <th>6</th>\n",
              "      <td>2019-10-10</td>\n",
              "      <td>1</td>\n",
              "      <td>140</td>\n",
              "    </tr>\n",
              "    <tr>\n",
              "      <th>7</th>\n",
              "      <td>2019-10-10</td>\n",
              "      <td>2</td>\n",
              "      <td>97</td>\n",
              "    </tr>\n",
              "    <tr>\n",
              "      <th>8</th>\n",
              "      <td>2019-10-10</td>\n",
              "      <td>3</td>\n",
              "      <td>45</td>\n",
              "    </tr>\n",
              "    <tr>\n",
              "      <th>9</th>\n",
              "      <td>2019-10-17</td>\n",
              "      <td>0</td>\n",
              "      <td>331</td>\n",
              "    </tr>\n",
              "    <tr>\n",
              "      <th>10</th>\n",
              "      <td>2019-10-17</td>\n",
              "      <td>1</td>\n",
              "      <td>141</td>\n",
              "    </tr>\n",
              "    <tr>\n",
              "      <th>11</th>\n",
              "      <td>2019-10-17</td>\n",
              "      <td>2</td>\n",
              "      <td>52</td>\n",
              "    </tr>\n",
              "    <tr>\n",
              "      <th>12</th>\n",
              "      <td>2019-10-24</td>\n",
              "      <td>0</td>\n",
              "      <td>243</td>\n",
              "    </tr>\n",
              "    <tr>\n",
              "      <th>13</th>\n",
              "      <td>2019-10-24</td>\n",
              "      <td>1</td>\n",
              "      <td>88</td>\n",
              "    </tr>\n",
              "    <tr>\n",
              "      <th>14</th>\n",
              "      <td>2019-10-31</td>\n",
              "      <td>0</td>\n",
              "      <td>97</td>\n",
              "    </tr>\n",
              "  </tbody>\n",
              "</table>\n",
              "</div>"
            ],
            "text/plain": [
              "   first_activity_week  cohort_lifetime  user_id\n",
              "0           2019-10-03                0      159\n",
              "1           2019-10-03                1       78\n",
              "2           2019-10-03                2       49\n",
              "3           2019-10-03                3       30\n",
              "4           2019-10-03                4       19\n",
              "5           2019-10-10                0      325\n",
              "6           2019-10-10                1      140\n",
              "7           2019-10-10                2       97\n",
              "8           2019-10-10                3       45\n",
              "9           2019-10-17                0      331\n",
              "10          2019-10-17                1      141\n",
              "11          2019-10-17                2       52\n",
              "12          2019-10-24                0      243\n",
              "13          2019-10-24                1       88\n",
              "14          2019-10-31                0       97"
            ]
          },
          "execution_count": 67,
          "metadata": {},
          "output_type": "execute_result"
        }
      ],
      "source": [
        "cohorts = inactive_users_1.groupby(['first_activity_week','cohort_lifetime']).agg({'user_id':'nunique'}).reset_index()\n",
        "cohorts"
      ]
    },
    {
      "cell_type": "code",
      "execution_count": null,
      "metadata": {
        "id": "8ygVa5vOqQoe",
        "outputId": "e129cbfc-ce14-4bc1-d78e-57200b1befc6"
      },
      "outputs": [
        {
          "data": {
            "text/html": [
              "<div>\n",
              "<style scoped>\n",
              "    .dataframe tbody tr th:only-of-type {\n",
              "        vertical-align: middle;\n",
              "    }\n",
              "\n",
              "    .dataframe tbody tr th {\n",
              "        vertical-align: top;\n",
              "    }\n",
              "\n",
              "    .dataframe thead th {\n",
              "        text-align: right;\n",
              "    }\n",
              "</style>\n",
              "<table border=\"1\" class=\"dataframe\">\n",
              "  <thead>\n",
              "    <tr style=\"text-align: right;\">\n",
              "      <th></th>\n",
              "      <th>first_activity_week</th>\n",
              "      <th>cohort_users</th>\n",
              "    </tr>\n",
              "  </thead>\n",
              "  <tbody>\n",
              "    <tr>\n",
              "      <th>0</th>\n",
              "      <td>2019-10-03</td>\n",
              "      <td>159</td>\n",
              "    </tr>\n",
              "    <tr>\n",
              "      <th>5</th>\n",
              "      <td>2019-10-10</td>\n",
              "      <td>325</td>\n",
              "    </tr>\n",
              "    <tr>\n",
              "      <th>9</th>\n",
              "      <td>2019-10-17</td>\n",
              "      <td>331</td>\n",
              "    </tr>\n",
              "    <tr>\n",
              "      <th>12</th>\n",
              "      <td>2019-10-24</td>\n",
              "      <td>243</td>\n",
              "    </tr>\n",
              "    <tr>\n",
              "      <th>14</th>\n",
              "      <td>2019-10-31</td>\n",
              "      <td>97</td>\n",
              "    </tr>\n",
              "  </tbody>\n",
              "</table>\n",
              "</div>"
            ],
            "text/plain": [
              "   first_activity_week  cohort_users\n",
              "0           2019-10-03           159\n",
              "5           2019-10-10           325\n",
              "9           2019-10-17           331\n",
              "12          2019-10-24           243\n",
              "14          2019-10-31            97"
            ]
          },
          "execution_count": 68,
          "metadata": {},
          "output_type": "execute_result"
        }
      ],
      "source": [
        "initial_users_count = cohorts[cohorts['cohort_lifetime'] == 0][['first_activity_week','user_id']]\n",
        "initial_users_count = initial_users_count.rename(columns={'user_id':'cohort_users'})\n",
        "initial_users_count"
      ]
    },
    {
      "cell_type": "markdown",
      "metadata": {
        "id": "q3xKc3XDqQoe"
      },
      "source": [
        "Наконец-то можем посчитать Retention Rate:"
      ]
    },
    {
      "cell_type": "code",
      "execution_count": null,
      "metadata": {
        "id": "D3WnmjN0qQof",
        "outputId": "e6e5c2e2-ee3e-4992-95e8-92953a487ecf"
      },
      "outputs": [
        {
          "data": {
            "text/html": [
              "<div>\n",
              "<style scoped>\n",
              "    .dataframe tbody tr th:only-of-type {\n",
              "        vertical-align: middle;\n",
              "    }\n",
              "\n",
              "    .dataframe tbody tr th {\n",
              "        vertical-align: top;\n",
              "    }\n",
              "\n",
              "    .dataframe thead th {\n",
              "        text-align: right;\n",
              "    }\n",
              "</style>\n",
              "<table border=\"1\" class=\"dataframe\">\n",
              "  <thead>\n",
              "    <tr style=\"text-align: right;\">\n",
              "      <th></th>\n",
              "      <th>first_activity_week</th>\n",
              "      <th>cohort_lifetime</th>\n",
              "      <th>user_id</th>\n",
              "      <th>cohort_users</th>\n",
              "      <th>retention</th>\n",
              "    </tr>\n",
              "  </thead>\n",
              "  <tbody>\n",
              "    <tr>\n",
              "      <th>0</th>\n",
              "      <td>2019-10-03</td>\n",
              "      <td>0</td>\n",
              "      <td>159</td>\n",
              "      <td>159</td>\n",
              "      <td>1.00</td>\n",
              "    </tr>\n",
              "    <tr>\n",
              "      <th>1</th>\n",
              "      <td>2019-10-03</td>\n",
              "      <td>1</td>\n",
              "      <td>78</td>\n",
              "      <td>159</td>\n",
              "      <td>0.49</td>\n",
              "    </tr>\n",
              "    <tr>\n",
              "      <th>2</th>\n",
              "      <td>2019-10-03</td>\n",
              "      <td>2</td>\n",
              "      <td>49</td>\n",
              "      <td>159</td>\n",
              "      <td>0.31</td>\n",
              "    </tr>\n",
              "    <tr>\n",
              "      <th>3</th>\n",
              "      <td>2019-10-03</td>\n",
              "      <td>3</td>\n",
              "      <td>30</td>\n",
              "      <td>159</td>\n",
              "      <td>0.19</td>\n",
              "    </tr>\n",
              "    <tr>\n",
              "      <th>4</th>\n",
              "      <td>2019-10-03</td>\n",
              "      <td>4</td>\n",
              "      <td>19</td>\n",
              "      <td>159</td>\n",
              "      <td>0.12</td>\n",
              "    </tr>\n",
              "    <tr>\n",
              "      <th>5</th>\n",
              "      <td>2019-10-10</td>\n",
              "      <td>0</td>\n",
              "      <td>325</td>\n",
              "      <td>325</td>\n",
              "      <td>1.00</td>\n",
              "    </tr>\n",
              "    <tr>\n",
              "      <th>6</th>\n",
              "      <td>2019-10-10</td>\n",
              "      <td>1</td>\n",
              "      <td>140</td>\n",
              "      <td>325</td>\n",
              "      <td>0.43</td>\n",
              "    </tr>\n",
              "    <tr>\n",
              "      <th>7</th>\n",
              "      <td>2019-10-10</td>\n",
              "      <td>2</td>\n",
              "      <td>97</td>\n",
              "      <td>325</td>\n",
              "      <td>0.30</td>\n",
              "    </tr>\n",
              "    <tr>\n",
              "      <th>8</th>\n",
              "      <td>2019-10-10</td>\n",
              "      <td>3</td>\n",
              "      <td>45</td>\n",
              "      <td>325</td>\n",
              "      <td>0.14</td>\n",
              "    </tr>\n",
              "    <tr>\n",
              "      <th>9</th>\n",
              "      <td>2019-10-17</td>\n",
              "      <td>0</td>\n",
              "      <td>331</td>\n",
              "      <td>331</td>\n",
              "      <td>1.00</td>\n",
              "    </tr>\n",
              "    <tr>\n",
              "      <th>10</th>\n",
              "      <td>2019-10-17</td>\n",
              "      <td>1</td>\n",
              "      <td>141</td>\n",
              "      <td>331</td>\n",
              "      <td>0.43</td>\n",
              "    </tr>\n",
              "    <tr>\n",
              "      <th>11</th>\n",
              "      <td>2019-10-17</td>\n",
              "      <td>2</td>\n",
              "      <td>52</td>\n",
              "      <td>331</td>\n",
              "      <td>0.16</td>\n",
              "    </tr>\n",
              "    <tr>\n",
              "      <th>12</th>\n",
              "      <td>2019-10-24</td>\n",
              "      <td>0</td>\n",
              "      <td>243</td>\n",
              "      <td>243</td>\n",
              "      <td>1.00</td>\n",
              "    </tr>\n",
              "    <tr>\n",
              "      <th>13</th>\n",
              "      <td>2019-10-24</td>\n",
              "      <td>1</td>\n",
              "      <td>88</td>\n",
              "      <td>243</td>\n",
              "      <td>0.36</td>\n",
              "    </tr>\n",
              "    <tr>\n",
              "      <th>14</th>\n",
              "      <td>2019-10-31</td>\n",
              "      <td>0</td>\n",
              "      <td>97</td>\n",
              "      <td>97</td>\n",
              "      <td>1.00</td>\n",
              "    </tr>\n",
              "  </tbody>\n",
              "</table>\n",
              "</div>"
            ],
            "text/plain": [
              "   first_activity_week  cohort_lifetime  user_id  cohort_users  retention\n",
              "0           2019-10-03                0      159           159       1.00\n",
              "1           2019-10-03                1       78           159       0.49\n",
              "2           2019-10-03                2       49           159       0.31\n",
              "3           2019-10-03                3       30           159       0.19\n",
              "4           2019-10-03                4       19           159       0.12\n",
              "5           2019-10-10                0      325           325       1.00\n",
              "6           2019-10-10                1      140           325       0.43\n",
              "7           2019-10-10                2       97           325       0.30\n",
              "8           2019-10-10                3       45           325       0.14\n",
              "9           2019-10-17                0      331           331       1.00\n",
              "10          2019-10-17                1      141           331       0.43\n",
              "11          2019-10-17                2       52           331       0.16\n",
              "12          2019-10-24                0      243           243       1.00\n",
              "13          2019-10-24                1       88           243       0.36\n",
              "14          2019-10-31                0       97            97       1.00"
            ]
          },
          "execution_count": 69,
          "metadata": {},
          "output_type": "execute_result"
        }
      ],
      "source": [
        "cohorts = cohorts.merge(initial_users_count, on='first_activity_week')\n",
        "cohorts['retention'] = round(cohorts['user_id']/cohorts['cohort_users'], 2)\n",
        "cohorts"
      ]
    },
    {
      "cell_type": "markdown",
      "metadata": {
        "id": "DdLppHtRqQof"
      },
      "source": [
        "Построим тепловую карту"
      ]
    },
    {
      "cell_type": "code",
      "execution_count": null,
      "metadata": {
        "id": "mMPAgz27qQof"
      },
      "outputs": [],
      "source": [
        "retention_pivot = cohorts.pivot_table(index='first_activity_week',columns='cohort_lifetime',values='retention',aggfunc='sum')"
      ]
    },
    {
      "cell_type": "code",
      "execution_count": null,
      "metadata": {
        "id": "eqwAL10oqQof",
        "outputId": "080546f9-ad67-4336-f5ef-ee0d832125a9"
      },
      "outputs": [
        {
          "data": {
            "image/png": "[encoded data removed]",
            "text/plain": [
              "<Figure size 720x504 with 2 Axes>"
            ]
          },
          "metadata": {},
          "output_type": "display_data"
        }
      ],
      "source": [
        "sns.set(style=\"darkgrid\")\n",
        "plt.figure(figsize=(10, 7))\n",
        "plt.title('Retention Rate (по недельным когортам) для малоактивных пользователей')\n",
        "sns.heatmap(retention_pivot, annot=True, fmt='.2f', linewidths=0.2, linecolor='orange')\n",
        "plt.gca().set(xlabel='lifetime', ylabel='первая неделя активности')\n",
        "plt.show()"
      ]
    },
    {
      "cell_type": "markdown",
      "metadata": {
        "id": "V9DDWn84qQof"
      },
      "source": [
        "Вывод:\n",
        "Коэффциент удержания за исследуемый период с 49-ти % упал до 12-ти. Для первой и второй когорты неплохие показатели на втором лайфтайме. Больше гордиться нечем."
      ]
    },
    {
      "cell_type": "markdown",
      "metadata": {
        "id": "pjSdoglQqQog"
      },
      "source": [
        "<div class=\"alert alert-block alert-success\">✔️\n",
        "    \n",
        "\n",
        "__Комментарий от тимлида №1__\n",
        "\n",
        "Отлично! Retention rate рассчитан верно и тепловая карта оформлена корректно\n",
        "</div>"
      ]
    },
    {
      "cell_type": "markdown",
      "metadata": {
        "id": "HV6S1o_JqQog"
      },
      "source": []
    },
    {
      "cell_type": "markdown",
      "metadata": {
        "id": "tgLiWQbSqQog"
      },
      "source": [
        "Среднеактивные пользователи"
      ]
    },
    {
      "cell_type": "code",
      "execution_count": null,
      "metadata": {
        "id": "X9hJQqYaqQog"
      },
      "outputs": [],
      "source": [
        "medium_active_users_1 = df.merge(medium_active_users, on='user_id', how='inner')"
      ]
    },
    {
      "cell_type": "code",
      "execution_count": null,
      "metadata": {
        "id": "i3eR9UVcqQog",
        "outputId": "11a68399-d072-47da-cb1f-3e04939085f2"
      },
      "outputs": [
        {
          "data": {
            "text/html": [
              "<div>\n",
              "<style scoped>\n",
              "    .dataframe tbody tr th:only-of-type {\n",
              "        vertical-align: middle;\n",
              "    }\n",
              "\n",
              "    .dataframe tbody tr th {\n",
              "        vertical-align: top;\n",
              "    }\n",
              "\n",
              "    .dataframe thead th {\n",
              "        text-align: right;\n",
              "    }\n",
              "</style>\n",
              "<table border=\"1\" class=\"dataframe\">\n",
              "  <thead>\n",
              "    <tr style=\"text-align: right;\">\n",
              "      <th></th>\n",
              "      <th>first_activity_week</th>\n",
              "      <th>cohort_lifetime</th>\n",
              "      <th>user_id</th>\n",
              "    </tr>\n",
              "  </thead>\n",
              "  <tbody>\n",
              "    <tr>\n",
              "      <th>0</th>\n",
              "      <td>2019-10-03</td>\n",
              "      <td>0</td>\n",
              "      <td>107</td>\n",
              "    </tr>\n",
              "    <tr>\n",
              "      <th>1</th>\n",
              "      <td>2019-10-03</td>\n",
              "      <td>1</td>\n",
              "      <td>51</td>\n",
              "    </tr>\n",
              "    <tr>\n",
              "      <th>2</th>\n",
              "      <td>2019-10-03</td>\n",
              "      <td>2</td>\n",
              "      <td>32</td>\n",
              "    </tr>\n",
              "    <tr>\n",
              "      <th>3</th>\n",
              "      <td>2019-10-03</td>\n",
              "      <td>3</td>\n",
              "      <td>22</td>\n",
              "    </tr>\n",
              "    <tr>\n",
              "      <th>4</th>\n",
              "      <td>2019-10-03</td>\n",
              "      <td>4</td>\n",
              "      <td>18</td>\n",
              "    </tr>\n",
              "    <tr>\n",
              "      <th>5</th>\n",
              "      <td>2019-10-10</td>\n",
              "      <td>0</td>\n",
              "      <td>220</td>\n",
              "    </tr>\n",
              "    <tr>\n",
              "      <th>6</th>\n",
              "      <td>2019-10-10</td>\n",
              "      <td>1</td>\n",
              "      <td>88</td>\n",
              "    </tr>\n",
              "    <tr>\n",
              "      <th>7</th>\n",
              "      <td>2019-10-10</td>\n",
              "      <td>2</td>\n",
              "      <td>58</td>\n",
              "    </tr>\n",
              "    <tr>\n",
              "      <th>8</th>\n",
              "      <td>2019-10-10</td>\n",
              "      <td>3</td>\n",
              "      <td>26</td>\n",
              "    </tr>\n",
              "    <tr>\n",
              "      <th>9</th>\n",
              "      <td>2019-10-17</td>\n",
              "      <td>0</td>\n",
              "      <td>203</td>\n",
              "    </tr>\n",
              "    <tr>\n",
              "      <th>10</th>\n",
              "      <td>2019-10-17</td>\n",
              "      <td>1</td>\n",
              "      <td>99</td>\n",
              "    </tr>\n",
              "    <tr>\n",
              "      <th>11</th>\n",
              "      <td>2019-10-17</td>\n",
              "      <td>2</td>\n",
              "      <td>36</td>\n",
              "    </tr>\n",
              "    <tr>\n",
              "      <th>12</th>\n",
              "      <td>2019-10-24</td>\n",
              "      <td>0</td>\n",
              "      <td>174</td>\n",
              "    </tr>\n",
              "    <tr>\n",
              "      <th>13</th>\n",
              "      <td>2019-10-24</td>\n",
              "      <td>1</td>\n",
              "      <td>62</td>\n",
              "    </tr>\n",
              "    <tr>\n",
              "      <th>14</th>\n",
              "      <td>2019-10-31</td>\n",
              "      <td>0</td>\n",
              "      <td>56</td>\n",
              "    </tr>\n",
              "  </tbody>\n",
              "</table>\n",
              "</div>"
            ],
            "text/plain": [
              "   first_activity_week  cohort_lifetime  user_id\n",
              "0           2019-10-03                0      107\n",
              "1           2019-10-03                1       51\n",
              "2           2019-10-03                2       32\n",
              "3           2019-10-03                3       22\n",
              "4           2019-10-03                4       18\n",
              "5           2019-10-10                0      220\n",
              "6           2019-10-10                1       88\n",
              "7           2019-10-10                2       58\n",
              "8           2019-10-10                3       26\n",
              "9           2019-10-17                0      203\n",
              "10          2019-10-17                1       99\n",
              "11          2019-10-17                2       36\n",
              "12          2019-10-24                0      174\n",
              "13          2019-10-24                1       62\n",
              "14          2019-10-31                0       56"
            ]
          },
          "execution_count": 73,
          "metadata": {},
          "output_type": "execute_result"
        }
      ],
      "source": [
        "cohorts = medium_active_users_1.groupby(['first_activity_week','cohort_lifetime']).agg({'user_id':'nunique'}).reset_index()\n",
        "cohorts"
      ]
    },
    {
      "cell_type": "code",
      "execution_count": null,
      "metadata": {
        "id": "xrtg1NekqQog",
        "outputId": "49d1f7ec-c0f4-4933-f1af-c8ce423d80ff"
      },
      "outputs": [
        {
          "data": {
            "text/html": [
              "<div>\n",
              "<style scoped>\n",
              "    .dataframe tbody tr th:only-of-type {\n",
              "        vertical-align: middle;\n",
              "    }\n",
              "\n",
              "    .dataframe tbody tr th {\n",
              "        vertical-align: top;\n",
              "    }\n",
              "\n",
              "    .dataframe thead th {\n",
              "        text-align: right;\n",
              "    }\n",
              "</style>\n",
              "<table border=\"1\" class=\"dataframe\">\n",
              "  <thead>\n",
              "    <tr style=\"text-align: right;\">\n",
              "      <th></th>\n",
              "      <th>first_activity_week</th>\n",
              "      <th>cohort_users</th>\n",
              "    </tr>\n",
              "  </thead>\n",
              "  <tbody>\n",
              "    <tr>\n",
              "      <th>0</th>\n",
              "      <td>2019-10-03</td>\n",
              "      <td>107</td>\n",
              "    </tr>\n",
              "    <tr>\n",
              "      <th>5</th>\n",
              "      <td>2019-10-10</td>\n",
              "      <td>220</td>\n",
              "    </tr>\n",
              "    <tr>\n",
              "      <th>9</th>\n",
              "      <td>2019-10-17</td>\n",
              "      <td>203</td>\n",
              "    </tr>\n",
              "    <tr>\n",
              "      <th>12</th>\n",
              "      <td>2019-10-24</td>\n",
              "      <td>174</td>\n",
              "    </tr>\n",
              "    <tr>\n",
              "      <th>14</th>\n",
              "      <td>2019-10-31</td>\n",
              "      <td>56</td>\n",
              "    </tr>\n",
              "  </tbody>\n",
              "</table>\n",
              "</div>"
            ],
            "text/plain": [
              "   first_activity_week  cohort_users\n",
              "0           2019-10-03           107\n",
              "5           2019-10-10           220\n",
              "9           2019-10-17           203\n",
              "12          2019-10-24           174\n",
              "14          2019-10-31            56"
            ]
          },
          "execution_count": 74,
          "metadata": {},
          "output_type": "execute_result"
        }
      ],
      "source": [
        "initial_users_count = cohorts[cohorts['cohort_lifetime'] == 0][['first_activity_week','user_id']]\n",
        "initial_users_count = initial_users_count.rename(columns={'user_id':'cohort_users'})\n",
        "initial_users_count"
      ]
    },
    {
      "cell_type": "code",
      "execution_count": null,
      "metadata": {
        "id": "oijgQUbKqQog",
        "outputId": "880ea4a7-416d-4cf5-92ed-6433c3b81b5c"
      },
      "outputs": [
        {
          "data": {
            "text/html": [
              "<div>\n",
              "<style scoped>\n",
              "    .dataframe tbody tr th:only-of-type {\n",
              "        vertical-align: middle;\n",
              "    }\n",
              "\n",
              "    .dataframe tbody tr th {\n",
              "        vertical-align: top;\n",
              "    }\n",
              "\n",
              "    .dataframe thead th {\n",
              "        text-align: right;\n",
              "    }\n",
              "</style>\n",
              "<table border=\"1\" class=\"dataframe\">\n",
              "  <thead>\n",
              "    <tr style=\"text-align: right;\">\n",
              "      <th></th>\n",
              "      <th>first_activity_week</th>\n",
              "      <th>cohort_lifetime</th>\n",
              "      <th>user_id</th>\n",
              "      <th>cohort_users</th>\n",
              "      <th>retention</th>\n",
              "    </tr>\n",
              "  </thead>\n",
              "  <tbody>\n",
              "    <tr>\n",
              "      <th>0</th>\n",
              "      <td>2019-10-03</td>\n",
              "      <td>0</td>\n",
              "      <td>107</td>\n",
              "      <td>107</td>\n",
              "      <td>1.00</td>\n",
              "    </tr>\n",
              "    <tr>\n",
              "      <th>1</th>\n",
              "      <td>2019-10-03</td>\n",
              "      <td>1</td>\n",
              "      <td>51</td>\n",
              "      <td>107</td>\n",
              "      <td>0.48</td>\n",
              "    </tr>\n",
              "    <tr>\n",
              "      <th>2</th>\n",
              "      <td>2019-10-03</td>\n",
              "      <td>2</td>\n",
              "      <td>32</td>\n",
              "      <td>107</td>\n",
              "      <td>0.30</td>\n",
              "    </tr>\n",
              "    <tr>\n",
              "      <th>3</th>\n",
              "      <td>2019-10-03</td>\n",
              "      <td>3</td>\n",
              "      <td>22</td>\n",
              "      <td>107</td>\n",
              "      <td>0.21</td>\n",
              "    </tr>\n",
              "    <tr>\n",
              "      <th>4</th>\n",
              "      <td>2019-10-03</td>\n",
              "      <td>4</td>\n",
              "      <td>18</td>\n",
              "      <td>107</td>\n",
              "      <td>0.17</td>\n",
              "    </tr>\n",
              "    <tr>\n",
              "      <th>5</th>\n",
              "      <td>2019-10-10</td>\n",
              "      <td>0</td>\n",
              "      <td>220</td>\n",
              "      <td>220</td>\n",
              "      <td>1.00</td>\n",
              "    </tr>\n",
              "    <tr>\n",
              "      <th>6</th>\n",
              "      <td>2019-10-10</td>\n",
              "      <td>1</td>\n",
              "      <td>88</td>\n",
              "      <td>220</td>\n",
              "      <td>0.40</td>\n",
              "    </tr>\n",
              "    <tr>\n",
              "      <th>7</th>\n",
              "      <td>2019-10-10</td>\n",
              "      <td>2</td>\n",
              "      <td>58</td>\n",
              "      <td>220</td>\n",
              "      <td>0.26</td>\n",
              "    </tr>\n",
              "    <tr>\n",
              "      <th>8</th>\n",
              "      <td>2019-10-10</td>\n",
              "      <td>3</td>\n",
              "      <td>26</td>\n",
              "      <td>220</td>\n",
              "      <td>0.12</td>\n",
              "    </tr>\n",
              "    <tr>\n",
              "      <th>9</th>\n",
              "      <td>2019-10-17</td>\n",
              "      <td>0</td>\n",
              "      <td>203</td>\n",
              "      <td>203</td>\n",
              "      <td>1.00</td>\n",
              "    </tr>\n",
              "    <tr>\n",
              "      <th>10</th>\n",
              "      <td>2019-10-17</td>\n",
              "      <td>1</td>\n",
              "      <td>99</td>\n",
              "      <td>203</td>\n",
              "      <td>0.49</td>\n",
              "    </tr>\n",
              "    <tr>\n",
              "      <th>11</th>\n",
              "      <td>2019-10-17</td>\n",
              "      <td>2</td>\n",
              "      <td>36</td>\n",
              "      <td>203</td>\n",
              "      <td>0.18</td>\n",
              "    </tr>\n",
              "    <tr>\n",
              "      <th>12</th>\n",
              "      <td>2019-10-24</td>\n",
              "      <td>0</td>\n",
              "      <td>174</td>\n",
              "      <td>174</td>\n",
              "      <td>1.00</td>\n",
              "    </tr>\n",
              "    <tr>\n",
              "      <th>13</th>\n",
              "      <td>2019-10-24</td>\n",
              "      <td>1</td>\n",
              "      <td>62</td>\n",
              "      <td>174</td>\n",
              "      <td>0.36</td>\n",
              "    </tr>\n",
              "    <tr>\n",
              "      <th>14</th>\n",
              "      <td>2019-10-31</td>\n",
              "      <td>0</td>\n",
              "      <td>56</td>\n",
              "      <td>56</td>\n",
              "      <td>1.00</td>\n",
              "    </tr>\n",
              "  </tbody>\n",
              "</table>\n",
              "</div>"
            ],
            "text/plain": [
              "   first_activity_week  cohort_lifetime  user_id  cohort_users  retention\n",
              "0           2019-10-03                0      107           107       1.00\n",
              "1           2019-10-03                1       51           107       0.48\n",
              "2           2019-10-03                2       32           107       0.30\n",
              "3           2019-10-03                3       22           107       0.21\n",
              "4           2019-10-03                4       18           107       0.17\n",
              "5           2019-10-10                0      220           220       1.00\n",
              "6           2019-10-10                1       88           220       0.40\n",
              "7           2019-10-10                2       58           220       0.26\n",
              "8           2019-10-10                3       26           220       0.12\n",
              "9           2019-10-17                0      203           203       1.00\n",
              "10          2019-10-17                1       99           203       0.49\n",
              "11          2019-10-17                2       36           203       0.18\n",
              "12          2019-10-24                0      174           174       1.00\n",
              "13          2019-10-24                1       62           174       0.36\n",
              "14          2019-10-31                0       56            56       1.00"
            ]
          },
          "execution_count": 75,
          "metadata": {},
          "output_type": "execute_result"
        }
      ],
      "source": [
        "cohorts = cohorts.merge(initial_users_count, on='first_activity_week')\n",
        "cohorts['retention'] = round(cohorts['user_id']/cohorts['cohort_users'], 2)\n",
        "cohorts"
      ]
    },
    {
      "cell_type": "code",
      "execution_count": null,
      "metadata": {
        "id": "R1cbV06FqQoh"
      },
      "outputs": [],
      "source": [
        "retention_pivot = cohorts.pivot_table(index='first_activity_week', columns='cohort_lifetime', values='retention', aggfunc='sum')"
      ]
    },
    {
      "cell_type": "code",
      "execution_count": null,
      "metadata": {
        "scrolled": true,
        "id": "rVIWBriiqQoh",
        "outputId": "15619c60-8151-42f1-c537-c0d99a3b058b"
      },
      "outputs": [
        {
          "data": {
            "image/png": "[encoded data removed]",
            "text/plain": [
              "<Figure size 720x504 with 2 Axes>"
            ]
          },
          "metadata": {},
          "output_type": "display_data"
        }
      ],
      "source": [
        "sns.set(style=\"darkgrid\")\n",
        "plt.figure(figsize=(10, 7))\n",
        "plt.title('Retention Rate (по недельным когортам) для среднеактивных пользователей')\n",
        "sns.heatmap(retention_pivot, annot=True, fmt='.2f', linewidths=1, linecolor='orange')\n",
        "plt.gca().set(xlabel='lifetime', ylabel='первая неделя активности')\n",
        "plt.show()"
      ]
    },
    {
      "cell_type": "markdown",
      "metadata": {
        "id": "mL2DoqaOqQoh"
      },
      "source": [
        "Вывод:\n",
        "В третей когорте начальные коэффициент чуть-чуть выше, чем в первой. Опять неплохие показатели для первой и второй когорты на втором лайфтайме."
      ]
    },
    {
      "cell_type": "markdown",
      "metadata": {
        "id": "IRg7wQx8qQoh"
      },
      "source": [
        "Активные пользователи"
      ]
    },
    {
      "cell_type": "code",
      "execution_count": null,
      "metadata": {
        "id": "6Fj6JW3UqQoh"
      },
      "outputs": [],
      "source": [
        "active_users_1 = df.merge(active_users, on='user_id', how='inner')"
      ]
    },
    {
      "cell_type": "code",
      "execution_count": null,
      "metadata": {
        "id": "dAnIkZ3gqQoh",
        "outputId": "d92f5724-5448-480b-8e3d-cb4a06c2d616"
      },
      "outputs": [
        {
          "data": {
            "text/html": [
              "<div>\n",
              "<style scoped>\n",
              "    .dataframe tbody tr th:only-of-type {\n",
              "        vertical-align: middle;\n",
              "    }\n",
              "\n",
              "    .dataframe tbody tr th {\n",
              "        vertical-align: top;\n",
              "    }\n",
              "\n",
              "    .dataframe thead th {\n",
              "        text-align: right;\n",
              "    }\n",
              "</style>\n",
              "<table border=\"1\" class=\"dataframe\">\n",
              "  <thead>\n",
              "    <tr style=\"text-align: right;\">\n",
              "      <th></th>\n",
              "      <th>first_activity_week</th>\n",
              "      <th>cohort_lifetime</th>\n",
              "      <th>user_id</th>\n",
              "    </tr>\n",
              "  </thead>\n",
              "  <tbody>\n",
              "    <tr>\n",
              "      <th>0</th>\n",
              "      <td>2019-10-03</td>\n",
              "      <td>0</td>\n",
              "      <td>45</td>\n",
              "    </tr>\n",
              "    <tr>\n",
              "      <th>1</th>\n",
              "      <td>2019-10-03</td>\n",
              "      <td>1</td>\n",
              "      <td>18</td>\n",
              "    </tr>\n",
              "    <tr>\n",
              "      <th>2</th>\n",
              "      <td>2019-10-03</td>\n",
              "      <td>2</td>\n",
              "      <td>11</td>\n",
              "    </tr>\n",
              "    <tr>\n",
              "      <th>3</th>\n",
              "      <td>2019-10-03</td>\n",
              "      <td>3</td>\n",
              "      <td>8</td>\n",
              "    </tr>\n",
              "    <tr>\n",
              "      <th>4</th>\n",
              "      <td>2019-10-03</td>\n",
              "      <td>4</td>\n",
              "      <td>1</td>\n",
              "    </tr>\n",
              "    <tr>\n",
              "      <th>5</th>\n",
              "      <td>2019-10-10</td>\n",
              "      <td>0</td>\n",
              "      <td>87</td>\n",
              "    </tr>\n",
              "    <tr>\n",
              "      <th>6</th>\n",
              "      <td>2019-10-10</td>\n",
              "      <td>1</td>\n",
              "      <td>32</td>\n",
              "    </tr>\n",
              "    <tr>\n",
              "      <th>7</th>\n",
              "      <td>2019-10-10</td>\n",
              "      <td>2</td>\n",
              "      <td>18</td>\n",
              "    </tr>\n",
              "    <tr>\n",
              "      <th>8</th>\n",
              "      <td>2019-10-10</td>\n",
              "      <td>3</td>\n",
              "      <td>8</td>\n",
              "    </tr>\n",
              "    <tr>\n",
              "      <th>9</th>\n",
              "      <td>2019-10-17</td>\n",
              "      <td>0</td>\n",
              "      <td>68</td>\n",
              "    </tr>\n",
              "    <tr>\n",
              "      <th>10</th>\n",
              "      <td>2019-10-17</td>\n",
              "      <td>1</td>\n",
              "      <td>32</td>\n",
              "    </tr>\n",
              "    <tr>\n",
              "      <th>11</th>\n",
              "      <td>2019-10-17</td>\n",
              "      <td>2</td>\n",
              "      <td>13</td>\n",
              "    </tr>\n",
              "    <tr>\n",
              "      <th>12</th>\n",
              "      <td>2019-10-24</td>\n",
              "      <td>0</td>\n",
              "      <td>72</td>\n",
              "    </tr>\n",
              "    <tr>\n",
              "      <th>13</th>\n",
              "      <td>2019-10-24</td>\n",
              "      <td>1</td>\n",
              "      <td>26</td>\n",
              "    </tr>\n",
              "    <tr>\n",
              "      <th>14</th>\n",
              "      <td>2019-10-31</td>\n",
              "      <td>0</td>\n",
              "      <td>21</td>\n",
              "    </tr>\n",
              "  </tbody>\n",
              "</table>\n",
              "</div>"
            ],
            "text/plain": [
              "   first_activity_week  cohort_lifetime  user_id\n",
              "0           2019-10-03                0       45\n",
              "1           2019-10-03                1       18\n",
              "2           2019-10-03                2       11\n",
              "3           2019-10-03                3        8\n",
              "4           2019-10-03                4        1\n",
              "5           2019-10-10                0       87\n",
              "6           2019-10-10                1       32\n",
              "7           2019-10-10                2       18\n",
              "8           2019-10-10                3        8\n",
              "9           2019-10-17                0       68\n",
              "10          2019-10-17                1       32\n",
              "11          2019-10-17                2       13\n",
              "12          2019-10-24                0       72\n",
              "13          2019-10-24                1       26\n",
              "14          2019-10-31                0       21"
            ]
          },
          "execution_count": 79,
          "metadata": {},
          "output_type": "execute_result"
        }
      ],
      "source": [
        "cohorts = active_users_1.groupby(['first_activity_week','cohort_lifetime']).agg({'user_id':'nunique'}).reset_index()\n",
        "cohorts"
      ]
    },
    {
      "cell_type": "code",
      "execution_count": null,
      "metadata": {
        "id": "WrD__0ZYqQoh",
        "outputId": "141dab75-b880-4ea0-868e-c5a8a32e5051"
      },
      "outputs": [
        {
          "data": {
            "text/html": [
              "<div>\n",
              "<style scoped>\n",
              "    .dataframe tbody tr th:only-of-type {\n",
              "        vertical-align: middle;\n",
              "    }\n",
              "\n",
              "    .dataframe tbody tr th {\n",
              "        vertical-align: top;\n",
              "    }\n",
              "\n",
              "    .dataframe thead th {\n",
              "        text-align: right;\n",
              "    }\n",
              "</style>\n",
              "<table border=\"1\" class=\"dataframe\">\n",
              "  <thead>\n",
              "    <tr style=\"text-align: right;\">\n",
              "      <th></th>\n",
              "      <th>first_activity_week</th>\n",
              "      <th>cohort_users</th>\n",
              "    </tr>\n",
              "  </thead>\n",
              "  <tbody>\n",
              "    <tr>\n",
              "      <th>0</th>\n",
              "      <td>2019-10-03</td>\n",
              "      <td>45</td>\n",
              "    </tr>\n",
              "    <tr>\n",
              "      <th>5</th>\n",
              "      <td>2019-10-10</td>\n",
              "      <td>87</td>\n",
              "    </tr>\n",
              "    <tr>\n",
              "      <th>9</th>\n",
              "      <td>2019-10-17</td>\n",
              "      <td>68</td>\n",
              "    </tr>\n",
              "    <tr>\n",
              "      <th>12</th>\n",
              "      <td>2019-10-24</td>\n",
              "      <td>72</td>\n",
              "    </tr>\n",
              "    <tr>\n",
              "      <th>14</th>\n",
              "      <td>2019-10-31</td>\n",
              "      <td>21</td>\n",
              "    </tr>\n",
              "  </tbody>\n",
              "</table>\n",
              "</div>"
            ],
            "text/plain": [
              "   first_activity_week  cohort_users\n",
              "0           2019-10-03            45\n",
              "5           2019-10-10            87\n",
              "9           2019-10-17            68\n",
              "12          2019-10-24            72\n",
              "14          2019-10-31            21"
            ]
          },
          "execution_count": 80,
          "metadata": {},
          "output_type": "execute_result"
        }
      ],
      "source": [
        "initial_users_count = cohorts[cohorts['cohort_lifetime'] == 0][['first_activity_week','user_id']]\n",
        "initial_users_count = initial_users_count.rename(columns={'user_id':'cohort_users'})\n",
        "initial_users_count"
      ]
    },
    {
      "cell_type": "code",
      "execution_count": null,
      "metadata": {
        "id": "EJj1LBGNqQoh",
        "outputId": "09506026-006c-46f9-8aa0-b0034c37945e"
      },
      "outputs": [
        {
          "data": {
            "text/html": [
              "<div>\n",
              "<style scoped>\n",
              "    .dataframe tbody tr th:only-of-type {\n",
              "        vertical-align: middle;\n",
              "    }\n",
              "\n",
              "    .dataframe tbody tr th {\n",
              "        vertical-align: top;\n",
              "    }\n",
              "\n",
              "    .dataframe thead th {\n",
              "        text-align: right;\n",
              "    }\n",
              "</style>\n",
              "<table border=\"1\" class=\"dataframe\">\n",
              "  <thead>\n",
              "    <tr style=\"text-align: right;\">\n",
              "      <th></th>\n",
              "      <th>first_activity_week</th>\n",
              "      <th>cohort_lifetime</th>\n",
              "      <th>user_id</th>\n",
              "      <th>cohort_users</th>\n",
              "      <th>retention</th>\n",
              "    </tr>\n",
              "  </thead>\n",
              "  <tbody>\n",
              "    <tr>\n",
              "      <th>0</th>\n",
              "      <td>2019-10-03</td>\n",
              "      <td>0</td>\n",
              "      <td>45</td>\n",
              "      <td>45</td>\n",
              "      <td>1.00</td>\n",
              "    </tr>\n",
              "    <tr>\n",
              "      <th>1</th>\n",
              "      <td>2019-10-03</td>\n",
              "      <td>1</td>\n",
              "      <td>18</td>\n",
              "      <td>45</td>\n",
              "      <td>0.40</td>\n",
              "    </tr>\n",
              "    <tr>\n",
              "      <th>2</th>\n",
              "      <td>2019-10-03</td>\n",
              "      <td>2</td>\n",
              "      <td>11</td>\n",
              "      <td>45</td>\n",
              "      <td>0.24</td>\n",
              "    </tr>\n",
              "    <tr>\n",
              "      <th>3</th>\n",
              "      <td>2019-10-03</td>\n",
              "      <td>3</td>\n",
              "      <td>8</td>\n",
              "      <td>45</td>\n",
              "      <td>0.18</td>\n",
              "    </tr>\n",
              "    <tr>\n",
              "      <th>4</th>\n",
              "      <td>2019-10-03</td>\n",
              "      <td>4</td>\n",
              "      <td>1</td>\n",
              "      <td>45</td>\n",
              "      <td>0.02</td>\n",
              "    </tr>\n",
              "    <tr>\n",
              "      <th>5</th>\n",
              "      <td>2019-10-10</td>\n",
              "      <td>0</td>\n",
              "      <td>87</td>\n",
              "      <td>87</td>\n",
              "      <td>1.00</td>\n",
              "    </tr>\n",
              "    <tr>\n",
              "      <th>6</th>\n",
              "      <td>2019-10-10</td>\n",
              "      <td>1</td>\n",
              "      <td>32</td>\n",
              "      <td>87</td>\n",
              "      <td>0.37</td>\n",
              "    </tr>\n",
              "    <tr>\n",
              "      <th>7</th>\n",
              "      <td>2019-10-10</td>\n",
              "      <td>2</td>\n",
              "      <td>18</td>\n",
              "      <td>87</td>\n",
              "      <td>0.21</td>\n",
              "    </tr>\n",
              "    <tr>\n",
              "      <th>8</th>\n",
              "      <td>2019-10-10</td>\n",
              "      <td>3</td>\n",
              "      <td>8</td>\n",
              "      <td>87</td>\n",
              "      <td>0.09</td>\n",
              "    </tr>\n",
              "    <tr>\n",
              "      <th>9</th>\n",
              "      <td>2019-10-17</td>\n",
              "      <td>0</td>\n",
              "      <td>68</td>\n",
              "      <td>68</td>\n",
              "      <td>1.00</td>\n",
              "    </tr>\n",
              "    <tr>\n",
              "      <th>10</th>\n",
              "      <td>2019-10-17</td>\n",
              "      <td>1</td>\n",
              "      <td>32</td>\n",
              "      <td>68</td>\n",
              "      <td>0.47</td>\n",
              "    </tr>\n",
              "    <tr>\n",
              "      <th>11</th>\n",
              "      <td>2019-10-17</td>\n",
              "      <td>2</td>\n",
              "      <td>13</td>\n",
              "      <td>68</td>\n",
              "      <td>0.19</td>\n",
              "    </tr>\n",
              "    <tr>\n",
              "      <th>12</th>\n",
              "      <td>2019-10-24</td>\n",
              "      <td>0</td>\n",
              "      <td>72</td>\n",
              "      <td>72</td>\n",
              "      <td>1.00</td>\n",
              "    </tr>\n",
              "    <tr>\n",
              "      <th>13</th>\n",
              "      <td>2019-10-24</td>\n",
              "      <td>1</td>\n",
              "      <td>26</td>\n",
              "      <td>72</td>\n",
              "      <td>0.36</td>\n",
              "    </tr>\n",
              "    <tr>\n",
              "      <th>14</th>\n",
              "      <td>2019-10-31</td>\n",
              "      <td>0</td>\n",
              "      <td>21</td>\n",
              "      <td>21</td>\n",
              "      <td>1.00</td>\n",
              "    </tr>\n",
              "  </tbody>\n",
              "</table>\n",
              "</div>"
            ],
            "text/plain": [
              "   first_activity_week  cohort_lifetime  user_id  cohort_users  retention\n",
              "0           2019-10-03                0       45            45       1.00\n",
              "1           2019-10-03                1       18            45       0.40\n",
              "2           2019-10-03                2       11            45       0.24\n",
              "3           2019-10-03                3        8            45       0.18\n",
              "4           2019-10-03                4        1            45       0.02\n",
              "5           2019-10-10                0       87            87       1.00\n",
              "6           2019-10-10                1       32            87       0.37\n",
              "7           2019-10-10                2       18            87       0.21\n",
              "8           2019-10-10                3        8            87       0.09\n",
              "9           2019-10-17                0       68            68       1.00\n",
              "10          2019-10-17                1       32            68       0.47\n",
              "11          2019-10-17                2       13            68       0.19\n",
              "12          2019-10-24                0       72            72       1.00\n",
              "13          2019-10-24                1       26            72       0.36\n",
              "14          2019-10-31                0       21            21       1.00"
            ]
          },
          "execution_count": 81,
          "metadata": {},
          "output_type": "execute_result"
        }
      ],
      "source": [
        "cohorts = cohorts.merge(initial_users_count, on='first_activity_week')\n",
        "cohorts['retention'] = round(cohorts['user_id']/cohorts['cohort_users'], 2)\n",
        "cohorts"
      ]
    },
    {
      "cell_type": "code",
      "execution_count": null,
      "metadata": {
        "id": "b-UYvhEAqQoi"
      },
      "outputs": [],
      "source": [
        "retention_pivot = cohorts.pivot_table(index='first_activity_week', columns='cohort_lifetime', values='retention', aggfunc='sum')"
      ]
    },
    {
      "cell_type": "code",
      "execution_count": null,
      "metadata": {
        "id": "rQOkyeWkqQoi",
        "outputId": "e622316e-2d29-43e5-a2d7-4bc2cc803bda"
      },
      "outputs": [
        {
          "data": {
            "image/png": "[encoded data removed]",
            "text/plain": [
              "<Figure size 720x504 with 2 Axes>"
            ]
          },
          "metadata": {},
          "output_type": "display_data"
        }
      ],
      "source": [
        "sns.set(style=\"darkgrid\")\n",
        "plt.figure(figsize=(10, 7))\n",
        "plt.title('Retention Rate (по недельным когортам) для активных пользователей')\n",
        "sns.heatmap(retention_pivot, annot=True, fmt='.2f', linewidths=1, linecolor='orange')\n",
        "plt.gca().set(xlabel='lifetime', ylabel='первая неделя активности')\n",
        "plt.show()"
      ]
    },
    {
      "cell_type": "markdown",
      "metadata": {
        "id": "3Iih_W-5qQoi"
      },
      "source": [
        "Вывод:\n",
        "Начальный коэфициент в третьей когорте выше, чем в первой. С каждым лайфтаймом коэфциент все ниже и для первой когорты снизился до 2%."
      ]
    },
    {
      "cell_type": "markdown",
      "metadata": {
        "id": "iH6gE1UwqQoi"
      },
      "source": [
        "Общий вывод о Retention Rate:\n",
        "Малоактивные и среднеактивные пользователи более-менее регулярно пользуются приложением. Активные пользователи очень непостоянны. Во всех сегментах с каждой новой когортой поведение покупателей меняется."
      ]
    },
    {
      "cell_type": "markdown",
      "metadata": {
        "id": "iZiFdnolqQoi"
      },
      "source": [
        "<div class=\"alert alert-block alert-success\">✔️\n",
        "    \n",
        "\n",
        "__Комментарий от тимлида №1__\n",
        "\n",
        "Да, результаты получились интересными\n",
        "</div>"
      ]
    },
    {
      "cell_type": "markdown",
      "metadata": {
        "id": "ndKkg-5wqQoi"
      },
      "source": [
        "Время проведенное в приложении"
      ]
    },
    {
      "cell_type": "markdown",
      "metadata": {
        "id": "m-BZB-3vqQoi"
      },
      "source": [
        "Заведем столбец active_session, где будет отображаться длительность сеанса"
      ]
    },
    {
      "cell_type": "code",
      "execution_count": null,
      "metadata": {
        "id": "AlrWWzdaqQoj",
        "outputId": "eaa31592-7dc0-4df3-daf9-be88abf70f63"
      },
      "outputs": [
        {
          "data": {
            "text/html": [
              "<div>\n",
              "<style scoped>\n",
              "    .dataframe tbody tr th:only-of-type {\n",
              "        vertical-align: middle;\n",
              "    }\n",
              "\n",
              "    .dataframe tbody tr th {\n",
              "        vertical-align: top;\n",
              "    }\n",
              "\n",
              "    .dataframe thead th {\n",
              "        text-align: right;\n",
              "    }\n",
              "</style>\n",
              "<table border=\"1\" class=\"dataframe\">\n",
              "  <thead>\n",
              "    <tr style=\"text-align: right;\">\n",
              "      <th></th>\n",
              "      <th>num_sess_for_user</th>\n",
              "      <th>event_time</th>\n",
              "      <th>user_id</th>\n",
              "    </tr>\n",
              "  </thead>\n",
              "  <tbody>\n",
              "    <tr>\n",
              "      <th>0</th>\n",
              "      <td>1</td>\n",
              "      <td>2019-10-07 13:39:45</td>\n",
              "      <td>0001b1d5-b74a-4cbf-aeb0-7df5947bf349</td>\n",
              "    </tr>\n",
              "    <tr>\n",
              "      <th>1</th>\n",
              "      <td>1</td>\n",
              "      <td>2019-10-07 13:40:31</td>\n",
              "      <td>0001b1d5-b74a-4cbf-aeb0-7df5947bf349</td>\n",
              "    </tr>\n",
              "    <tr>\n",
              "      <th>2</th>\n",
              "      <td>1</td>\n",
              "      <td>2019-10-07 13:41:05</td>\n",
              "      <td>0001b1d5-b74a-4cbf-aeb0-7df5947bf349</td>\n",
              "    </tr>\n",
              "    <tr>\n",
              "      <th>3</th>\n",
              "      <td>1</td>\n",
              "      <td>2019-10-07 13:43:20</td>\n",
              "      <td>0001b1d5-b74a-4cbf-aeb0-7df5947bf349</td>\n",
              "    </tr>\n",
              "    <tr>\n",
              "      <th>4</th>\n",
              "      <td>1</td>\n",
              "      <td>2019-10-07 13:45:30</td>\n",
              "      <td>0001b1d5-b74a-4cbf-aeb0-7df5947bf349</td>\n",
              "    </tr>\n",
              "  </tbody>\n",
              "</table>\n",
              "</div>"
            ],
            "text/plain": [
              "   num_sess_for_user          event_time                               user_id\n",
              "0                  1 2019-10-07 13:39:45  0001b1d5-b74a-4cbf-aeb0-7df5947bf349\n",
              "1                  1 2019-10-07 13:40:31  0001b1d5-b74a-4cbf-aeb0-7df5947bf349\n",
              "2                  1 2019-10-07 13:41:05  0001b1d5-b74a-4cbf-aeb0-7df5947bf349\n",
              "3                  1 2019-10-07 13:43:20  0001b1d5-b74a-4cbf-aeb0-7df5947bf349\n",
              "4                  1 2019-10-07 13:45:30  0001b1d5-b74a-4cbf-aeb0-7df5947bf349"
            ]
          },
          "execution_count": 84,
          "metadata": {},
          "output_type": "execute_result"
        }
      ],
      "source": [
        "time = df[{'user_id','num_sess_for_user','event_time'}]\n",
        "time.head()"
      ]
    },
    {
      "cell_type": "code",
      "execution_count": null,
      "metadata": {
        "id": "uuaYoinfqQoj",
        "outputId": "6cccb2bf-0103-4b9f-a1ac-03cc95d67773"
      },
      "outputs": [
        {
          "data": {
            "text/html": [
              "<div>\n",
              "<style scoped>\n",
              "    .dataframe tbody tr th:only-of-type {\n",
              "        vertical-align: middle;\n",
              "    }\n",
              "\n",
              "    .dataframe tbody tr th {\n",
              "        vertical-align: top;\n",
              "    }\n",
              "\n",
              "    .dataframe thead th {\n",
              "        text-align: right;\n",
              "    }\n",
              "</style>\n",
              "<table border=\"1\" class=\"dataframe\">\n",
              "  <thead>\n",
              "    <tr style=\"text-align: right;\">\n",
              "      <th></th>\n",
              "      <th>num_sess_for_user</th>\n",
              "      <th>event_time</th>\n",
              "      <th>user_id</th>\n",
              "      <th>pre_action_time</th>\n",
              "      <th>time_of_event</th>\n",
              "    </tr>\n",
              "  </thead>\n",
              "  <tbody>\n",
              "    <tr>\n",
              "      <th>0</th>\n",
              "      <td>1</td>\n",
              "      <td>2019-10-07 13:39:45</td>\n",
              "      <td>0001b1d5-b74a-4cbf-aeb0-7df5947bf349</td>\n",
              "      <td>NaT</td>\n",
              "      <td>NaT</td>\n",
              "    </tr>\n",
              "    <tr>\n",
              "      <th>1</th>\n",
              "      <td>1</td>\n",
              "      <td>2019-10-07 13:40:31</td>\n",
              "      <td>0001b1d5-b74a-4cbf-aeb0-7df5947bf349</td>\n",
              "      <td>2019-10-07 13:39:45</td>\n",
              "      <td>0 days 00:00:46</td>\n",
              "    </tr>\n",
              "    <tr>\n",
              "      <th>2</th>\n",
              "      <td>1</td>\n",
              "      <td>2019-10-07 13:41:05</td>\n",
              "      <td>0001b1d5-b74a-4cbf-aeb0-7df5947bf349</td>\n",
              "      <td>2019-10-07 13:40:31</td>\n",
              "      <td>0 days 00:00:34</td>\n",
              "    </tr>\n",
              "    <tr>\n",
              "      <th>3</th>\n",
              "      <td>1</td>\n",
              "      <td>2019-10-07 13:43:20</td>\n",
              "      <td>0001b1d5-b74a-4cbf-aeb0-7df5947bf349</td>\n",
              "      <td>2019-10-07 13:41:05</td>\n",
              "      <td>0 days 00:02:15</td>\n",
              "    </tr>\n",
              "    <tr>\n",
              "      <th>4</th>\n",
              "      <td>1</td>\n",
              "      <td>2019-10-07 13:45:30</td>\n",
              "      <td>0001b1d5-b74a-4cbf-aeb0-7df5947bf349</td>\n",
              "      <td>2019-10-07 13:43:20</td>\n",
              "      <td>0 days 00:02:10</td>\n",
              "    </tr>\n",
              "  </tbody>\n",
              "</table>\n",
              "</div>"
            ],
            "text/plain": [
              "   num_sess_for_user          event_time  \\\n",
              "0                  1 2019-10-07 13:39:45   \n",
              "1                  1 2019-10-07 13:40:31   \n",
              "2                  1 2019-10-07 13:41:05   \n",
              "3                  1 2019-10-07 13:43:20   \n",
              "4                  1 2019-10-07 13:45:30   \n",
              "\n",
              "                                user_id     pre_action_time   time_of_event  \n",
              "0  0001b1d5-b74a-4cbf-aeb0-7df5947bf349                 NaT             NaT  \n",
              "1  0001b1d5-b74a-4cbf-aeb0-7df5947bf349 2019-10-07 13:39:45 0 days 00:00:46  \n",
              "2  0001b1d5-b74a-4cbf-aeb0-7df5947bf349 2019-10-07 13:40:31 0 days 00:00:34  \n",
              "3  0001b1d5-b74a-4cbf-aeb0-7df5947bf349 2019-10-07 13:41:05 0 days 00:02:15  \n",
              "4  0001b1d5-b74a-4cbf-aeb0-7df5947bf349 2019-10-07 13:43:20 0 days 00:02:10  "
            ]
          },
          "execution_count": 85,
          "metadata": {},
          "output_type": "execute_result"
        }
      ],
      "source": [
        "time['pre_action_time'] = time.groupby(['user_id','num_sess_for_user'])['event_time'].shift(1)\n",
        "time['time_of_event'] = time['event_time'] - time['pre_action_time']\n",
        "time.head()"
      ]
    },
    {
      "cell_type": "markdown",
      "metadata": {
        "id": "ezLsesxYqQoj"
      },
      "source": [
        "Заведем таблицу с данными о длительности сеанса"
      ]
    },
    {
      "cell_type": "code",
      "execution_count": null,
      "metadata": {
        "id": "iUdaTPdIqQoj",
        "outputId": "32fab3a9-43bd-4a61-91e3-a024fedcd2ba"
      },
      "outputs": [
        {
          "data": {
            "text/html": [
              "<div>\n",
              "<style scoped>\n",
              "    .dataframe tbody tr th:only-of-type {\n",
              "        vertical-align: middle;\n",
              "    }\n",
              "\n",
              "    .dataframe tbody tr th {\n",
              "        vertical-align: top;\n",
              "    }\n",
              "\n",
              "    .dataframe thead th {\n",
              "        text-align: right;\n",
              "    }\n",
              "</style>\n",
              "<table border=\"1\" class=\"dataframe\">\n",
              "  <thead>\n",
              "    <tr style=\"text-align: right;\">\n",
              "      <th></th>\n",
              "      <th>user_id</th>\n",
              "      <th>num_sess_for_user</th>\n",
              "      <th>active_session</th>\n",
              "    </tr>\n",
              "  </thead>\n",
              "  <tbody>\n",
              "    <tr>\n",
              "      <th>0</th>\n",
              "      <td>0001b1d5-b74a-4cbf-aeb0-7df5947bf349</td>\n",
              "      <td>1</td>\n",
              "      <td>0 days 00:09:56</td>\n",
              "    </tr>\n",
              "    <tr>\n",
              "      <th>1</th>\n",
              "      <td>0001b1d5-b74a-4cbf-aeb0-7df5947bf349</td>\n",
              "      <td>2</td>\n",
              "      <td>0 days 00:08:27</td>\n",
              "    </tr>\n",
              "    <tr>\n",
              "      <th>2</th>\n",
              "      <td>0001b1d5-b74a-4cbf-aeb0-7df5947bf349</td>\n",
              "      <td>3</td>\n",
              "      <td>0 days 00:15:00</td>\n",
              "    </tr>\n",
              "    <tr>\n",
              "      <th>3</th>\n",
              "      <td>0001b1d5-b74a-4cbf-aeb0-7df5947bf349</td>\n",
              "      <td>4</td>\n",
              "      <td>0 days 00:12:38</td>\n",
              "    </tr>\n",
              "    <tr>\n",
              "      <th>4</th>\n",
              "      <td>00157779-810c-4498-9e05-a1e9e3cedf93</td>\n",
              "      <td>1</td>\n",
              "      <td>0 days 00:25:21</td>\n",
              "    </tr>\n",
              "    <tr>\n",
              "      <th>...</th>\n",
              "      <td>...</td>\n",
              "      <td>...</td>\n",
              "      <td>...</td>\n",
              "    </tr>\n",
              "    <tr>\n",
              "      <th>11532</th>\n",
              "      <td>fffb9e79-b927-4dbb-9b48-7fd09b23a62b</td>\n",
              "      <td>33</td>\n",
              "      <td>0 days 00:00:00</td>\n",
              "    </tr>\n",
              "    <tr>\n",
              "      <th>11533</th>\n",
              "      <td>fffb9e79-b927-4dbb-9b48-7fd09b23a62b</td>\n",
              "      <td>34</td>\n",
              "      <td>0 days 00:04:57</td>\n",
              "    </tr>\n",
              "    <tr>\n",
              "      <th>11534</th>\n",
              "      <td>fffb9e79-b927-4dbb-9b48-7fd09b23a62b</td>\n",
              "      <td>35</td>\n",
              "      <td>0 days 00:15:49</td>\n",
              "    </tr>\n",
              "    <tr>\n",
              "      <th>11535</th>\n",
              "      <td>fffb9e79-b927-4dbb-9b48-7fd09b23a62b</td>\n",
              "      <td>36</td>\n",
              "      <td>0 days 00:15:56</td>\n",
              "    </tr>\n",
              "    <tr>\n",
              "      <th>11536</th>\n",
              "      <td>fffb9e79-b927-4dbb-9b48-7fd09b23a62b</td>\n",
              "      <td>37</td>\n",
              "      <td>0 days 00:00:45</td>\n",
              "    </tr>\n",
              "  </tbody>\n",
              "</table>\n",
              "<p>11537 rows × 3 columns</p>\n",
              "</div>"
            ],
            "text/plain": [
              "                                    user_id  num_sess_for_user  active_session\n",
              "0      0001b1d5-b74a-4cbf-aeb0-7df5947bf349                  1 0 days 00:09:56\n",
              "1      0001b1d5-b74a-4cbf-aeb0-7df5947bf349                  2 0 days 00:08:27\n",
              "2      0001b1d5-b74a-4cbf-aeb0-7df5947bf349                  3 0 days 00:15:00\n",
              "3      0001b1d5-b74a-4cbf-aeb0-7df5947bf349                  4 0 days 00:12:38\n",
              "4      00157779-810c-4498-9e05-a1e9e3cedf93                  1 0 days 00:25:21\n",
              "...                                     ...                ...             ...\n",
              "11532  fffb9e79-b927-4dbb-9b48-7fd09b23a62b                 33 0 days 00:00:00\n",
              "11533  fffb9e79-b927-4dbb-9b48-7fd09b23a62b                 34 0 days 00:04:57\n",
              "11534  fffb9e79-b927-4dbb-9b48-7fd09b23a62b                 35 0 days 00:15:49\n",
              "11535  fffb9e79-b927-4dbb-9b48-7fd09b23a62b                 36 0 days 00:15:56\n",
              "11536  fffb9e79-b927-4dbb-9b48-7fd09b23a62b                 37 0 days 00:00:45\n",
              "\n",
              "[11537 rows x 3 columns]"
            ]
          },
          "execution_count": 86,
          "metadata": {},
          "output_type": "execute_result"
        }
      ],
      "source": [
        "sess_time = time.groupby(['user_id','num_sess_for_user'])['event_time'].max() - time.groupby(['user_id','num_sess_for_user'])['event_time'].min()\n",
        "sess_time = pd.DataFrame(sess_time).reset_index()\n",
        "sess_time = sess_time.rename(columns={'event_time':'active_session'})\n",
        "sess_time"
      ]
    },
    {
      "cell_type": "code",
      "execution_count": null,
      "metadata": {
        "id": "K9lJ8b_iqQoj",
        "outputId": "74176395-532b-4ae3-f553-2f2d66b90749"
      },
      "outputs": [
        {
          "data": {
            "text/plain": [
              "count                        11537\n",
              "mean     0 days 00:09:26.451417179\n",
              "std      0 days 00:14:11.184423881\n",
              "min                0 days 00:00:00\n",
              "25%                0 days 00:00:05\n",
              "50%                0 days 00:04:19\n",
              "75%                0 days 00:13:03\n",
              "max                0 days 03:53:39\n",
              "Name: active_session, dtype: object"
            ]
          },
          "execution_count": 87,
          "metadata": {},
          "output_type": "execute_result"
        }
      ],
      "source": [
        "sess_time['active_session'].describe()"
      ]
    },
    {
      "cell_type": "markdown",
      "metadata": {
        "id": "yYmt3ruiqQoj"
      },
      "source": [
        "Среднее значение длительности сессии среди всех пользователей составляет 9 минуту 26 секунды, медианное - 4 минуты 19 секунд."
      ]
    },
    {
      "cell_type": "markdown",
      "metadata": {
        "id": "eZVcKm8BqQoj"
      },
      "source": [
        "<div class=\"alert alert-block alert-warning\">📝\n",
        "    \n",
        "\n",
        "__Комментарий от тимлида №1__\n",
        "\n",
        "\n",
        "Здесь еще бы посмотреть что за события были в нулевой сессии. Возможно пользователь просто открыл приложение, появилась рекомендация `tips_show` и на этом его активность закончилась, тогда это не программный сбой.\n",
        "</div>"
      ]
    },
    {
      "cell_type": "markdown",
      "metadata": {
        "id": "KfThysmYqQoj"
      },
      "source": []
    },
    {
      "cell_type": "markdown",
      "metadata": {
        "id": "dvxWCRuGqQok"
      },
      "source": [
        "Общее время для всех пользователей в приложении за используемый период:"
      ]
    },
    {
      "cell_type": "code",
      "execution_count": null,
      "metadata": {
        "id": "qJaMRAyOqQok",
        "outputId": "62a2a040-1799-467c-bfe1-2f7e8d2121bc"
      },
      "outputs": [
        {
          "data": {
            "text/html": [
              "<div>\n",
              "<style scoped>\n",
              "    .dataframe tbody tr th:only-of-type {\n",
              "        vertical-align: middle;\n",
              "    }\n",
              "\n",
              "    .dataframe tbody tr th {\n",
              "        vertical-align: top;\n",
              "    }\n",
              "\n",
              "    .dataframe thead th {\n",
              "        text-align: right;\n",
              "    }\n",
              "</style>\n",
              "<table border=\"1\" class=\"dataframe\">\n",
              "  <thead>\n",
              "    <tr style=\"text-align: right;\">\n",
              "      <th></th>\n",
              "      <th>user_id</th>\n",
              "      <th>all_sess_time</th>\n",
              "    </tr>\n",
              "  </thead>\n",
              "  <tbody>\n",
              "    <tr>\n",
              "      <th>0</th>\n",
              "      <td>0001b1d5-b74a-4cbf-aeb0-7df5947bf349</td>\n",
              "      <td>0 days 00:46:01</td>\n",
              "    </tr>\n",
              "    <tr>\n",
              "      <th>1</th>\n",
              "      <td>00157779-810c-4498-9e05-a1e9e3cedf93</td>\n",
              "      <td>0 days 02:07:52</td>\n",
              "    </tr>\n",
              "    <tr>\n",
              "      <th>2</th>\n",
              "      <td>00463033-5717-4bf1-91b4-09183923b9df</td>\n",
              "      <td>0 days 00:24:42</td>\n",
              "    </tr>\n",
              "    <tr>\n",
              "      <th>3</th>\n",
              "      <td>004690c3-5a84-4bb7-a8af-e0c8f8fca64e</td>\n",
              "      <td>0 days 00:48:04</td>\n",
              "    </tr>\n",
              "    <tr>\n",
              "      <th>4</th>\n",
              "      <td>00551e79-152e-4441-9cf7-565d7eb04090</td>\n",
              "      <td>0 days 00:09:19</td>\n",
              "    </tr>\n",
              "    <tr>\n",
              "      <th>...</th>\n",
              "      <td>...</td>\n",
              "      <td>...</td>\n",
              "    </tr>\n",
              "    <tr>\n",
              "      <th>4288</th>\n",
              "      <td>ffab8d8a-30bb-424a-a3ab-0b63ebbf7b07</td>\n",
              "      <td>0 days 00:49:25</td>\n",
              "    </tr>\n",
              "    <tr>\n",
              "      <th>4289</th>\n",
              "      <td>ffc01466-fdb1-4460-ae94-e800f52eb136</td>\n",
              "      <td>0 days 00:00:53</td>\n",
              "    </tr>\n",
              "    <tr>\n",
              "      <th>4290</th>\n",
              "      <td>ffcf50d9-293c-4254-8243-4890b030b238</td>\n",
              "      <td>0 days 00:01:20</td>\n",
              "    </tr>\n",
              "    <tr>\n",
              "      <th>4291</th>\n",
              "      <td>ffe68f10-e48e-470e-be9b-eeb93128ff1a</td>\n",
              "      <td>0 days 00:38:54</td>\n",
              "    </tr>\n",
              "    <tr>\n",
              "      <th>4292</th>\n",
              "      <td>fffb9e79-b927-4dbb-9b48-7fd09b23a62b</td>\n",
              "      <td>0 days 06:49:15</td>\n",
              "    </tr>\n",
              "  </tbody>\n",
              "</table>\n",
              "<p>4293 rows × 2 columns</p>\n",
              "</div>"
            ],
            "text/plain": [
              "                                   user_id   all_sess_time\n",
              "0     0001b1d5-b74a-4cbf-aeb0-7df5947bf349 0 days 00:46:01\n",
              "1     00157779-810c-4498-9e05-a1e9e3cedf93 0 days 02:07:52\n",
              "2     00463033-5717-4bf1-91b4-09183923b9df 0 days 00:24:42\n",
              "3     004690c3-5a84-4bb7-a8af-e0c8f8fca64e 0 days 00:48:04\n",
              "4     00551e79-152e-4441-9cf7-565d7eb04090 0 days 00:09:19\n",
              "...                                    ...             ...\n",
              "4288  ffab8d8a-30bb-424a-a3ab-0b63ebbf7b07 0 days 00:49:25\n",
              "4289  ffc01466-fdb1-4460-ae94-e800f52eb136 0 days 00:00:53\n",
              "4290  ffcf50d9-293c-4254-8243-4890b030b238 0 days 00:01:20\n",
              "4291  ffe68f10-e48e-470e-be9b-eeb93128ff1a 0 days 00:38:54\n",
              "4292  fffb9e79-b927-4dbb-9b48-7fd09b23a62b 0 days 06:49:15\n",
              "\n",
              "[4293 rows x 2 columns]"
            ]
          },
          "execution_count": 88,
          "metadata": {},
          "output_type": "execute_result"
        }
      ],
      "source": [
        "all_time = sess_time.groupby('user_id')['active_session'].sum()\n",
        "all_time = pd.DataFrame(all_time).reset_index()\n",
        "all_time = all_time.rename(columns={'active_session':'all_sess_time'})\n",
        "all_time"
      ]
    },
    {
      "cell_type": "code",
      "execution_count": null,
      "metadata": {
        "id": "UvJUeNq6qQok",
        "outputId": "cd0849c5-c7a5-41c9-b620-a479725ab422"
      },
      "outputs": [
        {
          "data": {
            "text/plain": [
              "count                         4293\n",
              "mean     0 days 00:25:22.280456557\n",
              "std      0 days 00:47:16.290927616\n",
              "min                0 days 00:00:00\n",
              "25%                0 days 00:05:32\n",
              "50%                0 days 00:12:58\n",
              "75%                0 days 00:27:28\n",
              "max                0 days 18:08:56\n",
              "Name: all_sess_time, dtype: object"
            ]
          },
          "execution_count": 89,
          "metadata": {},
          "output_type": "execute_result"
        }
      ],
      "source": [
        "all_time['all_sess_time'].describe()"
      ]
    },
    {
      "cell_type": "markdown",
      "metadata": {
        "id": "RMw0o0YDqQok"
      },
      "source": [
        "Среднее значение общего времени в приложении всех пользователей составляет 25 минуту 22 секунды, медианное - 12 минуты 57 секунд."
      ]
    },
    {
      "cell_type": "markdown",
      "metadata": {
        "id": "Djg_E_ojqQok"
      },
      "source": [
        "Посмотрим на среднюю продолжительность сессий внутри каждого сегмента"
      ]
    },
    {
      "cell_type": "markdown",
      "metadata": {
        "id": "HcEbi_U7qQok"
      },
      "source": [
        "Новички приложения"
      ]
    },
    {
      "cell_type": "code",
      "execution_count": null,
      "metadata": {
        "id": "u-E_IcDhqQok"
      },
      "outputs": [],
      "source": [
        "new_users_2 = sess_time.merge(new_users, on='user_id', how='inner')"
      ]
    },
    {
      "cell_type": "code",
      "execution_count": null,
      "metadata": {
        "id": "cgzkpRkOqQok",
        "outputId": "7be6c2b7-82a1-40e9-8b65-f3624995721e"
      },
      "outputs": [
        {
          "data": {
            "text/plain": [
              "count                         2036\n",
              "mean     0 days 00:12:43.979862475\n",
              "std      0 days 00:12:21.013679234\n",
              "min                0 days 00:00:00\n",
              "25%         0 days 00:04:29.500000\n",
              "50%                0 days 00:09:09\n",
              "75%         0 days 00:17:30.250000\n",
              "max                0 days 02:04:10\n",
              "Name: active_session, dtype: object"
            ]
          },
          "execution_count": 91,
          "metadata": {},
          "output_type": "execute_result"
        }
      ],
      "source": [
        "new_users_2['active_session'].describe()"
      ]
    },
    {
      "cell_type": "markdown",
      "metadata": {
        "id": "zDn846fSqQol"
      },
      "source": [
        "Вывод:\n",
        "\n",
        "Новички приложения совершают всего одну сессию и средняя её продолжительность составляет 12 минут 43 секунды"
      ]
    },
    {
      "cell_type": "markdown",
      "metadata": {
        "id": "vXwCoIPdqQol"
      },
      "source": [
        "Малоактивные пользователи"
      ]
    },
    {
      "cell_type": "code",
      "execution_count": null,
      "metadata": {
        "id": "g8oqJ12qqQol",
        "outputId": "fa4bad9a-6dee-497b-9243-95ed7caac860"
      },
      "outputs": [
        {
          "data": {
            "text/html": [
              "<div>\n",
              "<style scoped>\n",
              "    .dataframe tbody tr th:only-of-type {\n",
              "        vertical-align: middle;\n",
              "    }\n",
              "\n",
              "    .dataframe tbody tr th {\n",
              "        vertical-align: top;\n",
              "    }\n",
              "\n",
              "    .dataframe thead th {\n",
              "        text-align: right;\n",
              "    }\n",
              "</style>\n",
              "<table border=\"1\" class=\"dataframe\">\n",
              "  <thead>\n",
              "    <tr style=\"text-align: right;\">\n",
              "      <th></th>\n",
              "      <th>user_id</th>\n",
              "      <th>num_sess_for_user</th>\n",
              "      <th>active_session</th>\n",
              "      <th>number_of_sessions</th>\n",
              "      <th>events_per_session</th>\n",
              "    </tr>\n",
              "  </thead>\n",
              "  <tbody>\n",
              "    <tr>\n",
              "      <th>0</th>\n",
              "      <td>004690c3-5a84-4bb7-a8af-e0c8f8fca64e</td>\n",
              "      <td>1</td>\n",
              "      <td>0 days 00:03:35</td>\n",
              "      <td>9</td>\n",
              "      <td>3.56</td>\n",
              "    </tr>\n",
              "    <tr>\n",
              "      <th>1</th>\n",
              "      <td>004690c3-5a84-4bb7-a8af-e0c8f8fca64e</td>\n",
              "      <td>2</td>\n",
              "      <td>0 days 00:01:24</td>\n",
              "      <td>9</td>\n",
              "      <td>3.56</td>\n",
              "    </tr>\n",
              "    <tr>\n",
              "      <th>2</th>\n",
              "      <td>004690c3-5a84-4bb7-a8af-e0c8f8fca64e</td>\n",
              "      <td>3</td>\n",
              "      <td>0 days 00:07:38</td>\n",
              "      <td>9</td>\n",
              "      <td>3.56</td>\n",
              "    </tr>\n",
              "    <tr>\n",
              "      <th>3</th>\n",
              "      <td>004690c3-5a84-4bb7-a8af-e0c8f8fca64e</td>\n",
              "      <td>4</td>\n",
              "      <td>0 days 00:05:37</td>\n",
              "      <td>9</td>\n",
              "      <td>3.56</td>\n",
              "    </tr>\n",
              "    <tr>\n",
              "      <th>4</th>\n",
              "      <td>004690c3-5a84-4bb7-a8af-e0c8f8fca64e</td>\n",
              "      <td>5</td>\n",
              "      <td>0 days 00:10:00</td>\n",
              "      <td>9</td>\n",
              "      <td>3.56</td>\n",
              "    </tr>\n",
              "  </tbody>\n",
              "</table>\n",
              "</div>"
            ],
            "text/plain": [
              "                                user_id  num_sess_for_user  active_session  \\\n",
              "0  004690c3-5a84-4bb7-a8af-e0c8f8fca64e                  1 0 days 00:03:35   \n",
              "1  004690c3-5a84-4bb7-a8af-e0c8f8fca64e                  2 0 days 00:01:24   \n",
              "2  004690c3-5a84-4bb7-a8af-e0c8f8fca64e                  3 0 days 00:07:38   \n",
              "3  004690c3-5a84-4bb7-a8af-e0c8f8fca64e                  4 0 days 00:05:37   \n",
              "4  004690c3-5a84-4bb7-a8af-e0c8f8fca64e                  5 0 days 00:10:00   \n",
              "\n",
              "   number_of_sessions  events_per_session  \n",
              "0                   9                3.56  \n",
              "1                   9                3.56  \n",
              "2                   9                3.56  \n",
              "3                   9                3.56  \n",
              "4                   9                3.56  "
            ]
          },
          "execution_count": 92,
          "metadata": {},
          "output_type": "execute_result"
        }
      ],
      "source": [
        "inactive_users_2 = sess_time.merge(inactive_users, on='user_id', how='inner')\n",
        "inactive_users_2.head()"
      ]
    },
    {
      "cell_type": "markdown",
      "metadata": {
        "id": "7joDSARsqQol"
      },
      "source": [
        "На сеансах с продолжительностью 0 совершилось только одно действие."
      ]
    },
    {
      "cell_type": "markdown",
      "metadata": {
        "id": "zkCW366TqQol"
      },
      "source": [
        "Средняя продолжительность сеансов пользователей:"
      ]
    },
    {
      "cell_type": "code",
      "execution_count": null,
      "metadata": {
        "id": "FLw00aw8qQol",
        "outputId": "bbacb49f-07b5-4eb9-cf76-22da3c18d35b"
      },
      "outputs": [
        {
          "data": {
            "text/plain": [
              "count                         4740\n",
              "mean     0 days 00:03:47.949156118\n",
              "std      0 days 00:06:30.448559209\n",
              "min                0 days 00:00:00\n",
              "25%                0 days 00:00:00\n",
              "50%                0 days 00:00:41\n",
              "75%                0 days 00:04:57\n",
              "max                0 days 01:04:01\n",
              "Name: active_session, dtype: object"
            ]
          },
          "execution_count": 93,
          "metadata": {},
          "output_type": "execute_result"
        }
      ],
      "source": [
        "inactive_users_2['active_session'].describe()"
      ]
    },
    {
      "cell_type": "markdown",
      "metadata": {
        "id": "iM4O10lvqQol"
      },
      "source": [
        "Общая продолжительность проведенного времени в приложении отдельно по пользователям"
      ]
    },
    {
      "cell_type": "code",
      "execution_count": null,
      "metadata": {
        "id": "sVUqwKp_qQol"
      },
      "outputs": [],
      "source": [
        "inactive_users_2 = all_time.merge(inactive_users, on='user_id', how='inner')"
      ]
    },
    {
      "cell_type": "code",
      "execution_count": null,
      "metadata": {
        "id": "yuchW_UUqQom",
        "outputId": "94149a42-764e-4caf-e8e8-5e3df6f89908"
      },
      "outputs": [
        {
          "data": {
            "text/plain": [
              "count                         1155\n",
              "mean     0 days 00:15:35.479653679\n",
              "std      0 days 00:29:44.144162799\n",
              "min                0 days 00:00:00\n",
              "25%                0 days 00:03:20\n",
              "50%                0 days 00:08:46\n",
              "75%         0 days 00:17:53.500000\n",
              "max                0 days 10:56:43\n",
              "Name: all_sess_time, dtype: object"
            ]
          },
          "execution_count": 95,
          "metadata": {},
          "output_type": "execute_result"
        }
      ],
      "source": [
        "inactive_users_2['all_sess_time'].describe()"
      ]
    },
    {
      "cell_type": "markdown",
      "metadata": {
        "id": "YwadF2KWqQom"
      },
      "source": [
        "Вывод:\n",
        "\n",
        "Средняя продолжительность сеанса малоактивного пользователя составляет 3 минуты 46 секунд. Среднее от общего времени пользователей, проведенного в приложении, составляет 15 минут 21 секунду."
      ]
    },
    {
      "cell_type": "markdown",
      "metadata": {
        "id": "QdQLsgkCqQom"
      },
      "source": [
        "Среднеактивные пользователи"
      ]
    },
    {
      "cell_type": "code",
      "execution_count": null,
      "metadata": {
        "id": "Zplf5lx4qQom",
        "outputId": "516a2269-ca8a-42ee-a817-5e75e51a0d18"
      },
      "outputs": [
        {
          "data": {
            "text/html": [
              "<div>\n",
              "<style scoped>\n",
              "    .dataframe tbody tr th:only-of-type {\n",
              "        vertical-align: middle;\n",
              "    }\n",
              "\n",
              "    .dataframe tbody tr th {\n",
              "        vertical-align: top;\n",
              "    }\n",
              "\n",
              "    .dataframe thead th {\n",
              "        text-align: right;\n",
              "    }\n",
              "</style>\n",
              "<table border=\"1\" class=\"dataframe\">\n",
              "  <thead>\n",
              "    <tr style=\"text-align: right;\">\n",
              "      <th></th>\n",
              "      <th>user_id</th>\n",
              "      <th>num_sess_for_user</th>\n",
              "      <th>active_session</th>\n",
              "      <th>number_of_sessions</th>\n",
              "      <th>events_per_session</th>\n",
              "    </tr>\n",
              "  </thead>\n",
              "  <tbody>\n",
              "    <tr>\n",
              "      <th>0</th>\n",
              "      <td>0001b1d5-b74a-4cbf-aeb0-7df5947bf349</td>\n",
              "      <td>1</td>\n",
              "      <td>0 days 00:09:56</td>\n",
              "      <td>4</td>\n",
              "      <td>8.75</td>\n",
              "    </tr>\n",
              "    <tr>\n",
              "      <th>1</th>\n",
              "      <td>0001b1d5-b74a-4cbf-aeb0-7df5947bf349</td>\n",
              "      <td>2</td>\n",
              "      <td>0 days 00:08:27</td>\n",
              "      <td>4</td>\n",
              "      <td>8.75</td>\n",
              "    </tr>\n",
              "    <tr>\n",
              "      <th>2</th>\n",
              "      <td>0001b1d5-b74a-4cbf-aeb0-7df5947bf349</td>\n",
              "      <td>3</td>\n",
              "      <td>0 days 00:15:00</td>\n",
              "      <td>4</td>\n",
              "      <td>8.75</td>\n",
              "    </tr>\n",
              "    <tr>\n",
              "      <th>3</th>\n",
              "      <td>0001b1d5-b74a-4cbf-aeb0-7df5947bf349</td>\n",
              "      <td>4</td>\n",
              "      <td>0 days 00:12:38</td>\n",
              "      <td>4</td>\n",
              "      <td>8.75</td>\n",
              "    </tr>\n",
              "    <tr>\n",
              "      <th>4</th>\n",
              "      <td>00157779-810c-4498-9e05-a1e9e3cedf93</td>\n",
              "      <td>1</td>\n",
              "      <td>0 days 00:25:21</td>\n",
              "      <td>9</td>\n",
              "      <td>7.89</td>\n",
              "    </tr>\n",
              "  </tbody>\n",
              "</table>\n",
              "</div>"
            ],
            "text/plain": [
              "                                user_id  num_sess_for_user  active_session  \\\n",
              "0  0001b1d5-b74a-4cbf-aeb0-7df5947bf349                  1 0 days 00:09:56   \n",
              "1  0001b1d5-b74a-4cbf-aeb0-7df5947bf349                  2 0 days 00:08:27   \n",
              "2  0001b1d5-b74a-4cbf-aeb0-7df5947bf349                  3 0 days 00:15:00   \n",
              "3  0001b1d5-b74a-4cbf-aeb0-7df5947bf349                  4 0 days 00:12:38   \n",
              "4  00157779-810c-4498-9e05-a1e9e3cedf93                  1 0 days 00:25:21   \n",
              "\n",
              "   number_of_sessions  events_per_session  \n",
              "0                   4                8.75  \n",
              "1                   4                8.75  \n",
              "2                   4                8.75  \n",
              "3                   4                8.75  \n",
              "4                   9                7.89  "
            ]
          },
          "execution_count": 96,
          "metadata": {},
          "output_type": "execute_result"
        }
      ],
      "source": [
        "medium_active_users_2 = sess_time.merge(medium_active_users, on='user_id', how='inner')\n",
        "medium_active_users_2.head()"
      ]
    },
    {
      "cell_type": "markdown",
      "metadata": {
        "id": "UJmFPK3UqQom"
      },
      "source": [
        "Средняя продолжительность сеансов пользователей:"
      ]
    },
    {
      "cell_type": "code",
      "execution_count": null,
      "metadata": {
        "id": "sdOMiAtAqQon",
        "outputId": "239bfe4b-0a50-453b-b5f9-dfc25d43d3ea"
      },
      "outputs": [
        {
          "data": {
            "text/plain": [
              "count                         3505\n",
              "mean     0 days 00:10:16.087874465\n",
              "std      0 days 00:12:45.429167329\n",
              "min                0 days 00:00:00\n",
              "25%                0 days 00:00:42\n",
              "50%                0 days 00:05:53\n",
              "75%                0 days 00:14:59\n",
              "max                0 days 02:34:57\n",
              "Name: active_session, dtype: object"
            ]
          },
          "execution_count": 97,
          "metadata": {},
          "output_type": "execute_result"
        }
      ],
      "source": [
        "medium_active_users_2['active_session'].describe()"
      ]
    },
    {
      "cell_type": "markdown",
      "metadata": {
        "id": "uX9Y4iQIqQon"
      },
      "source": [
        "Общая продолжительность проведенного времени в приложении отдельно по пользователям:"
      ]
    },
    {
      "cell_type": "code",
      "execution_count": null,
      "metadata": {
        "id": "75lvvJfjqQon",
        "outputId": "c65b9517-7073-4b96-e8f9-b0c6f7fe3c32"
      },
      "outputs": [
        {
          "data": {
            "text/plain": [
              "count                          760\n",
              "mean        0 days 00:47:21.300000\n",
              "std      0 days 01:07:48.098859601\n",
              "min                0 days 00:02:49\n",
              "25%         0 days 00:17:54.750000\n",
              "50%         0 days 00:29:22.500000\n",
              "75%         0 days 00:51:38.500000\n",
              "max                0 days 18:08:56\n",
              "Name: all_sess_time, dtype: object"
            ]
          },
          "execution_count": 98,
          "metadata": {},
          "output_type": "execute_result"
        }
      ],
      "source": [
        "medium_active_users_2 = all_time.merge(medium_active_users, on='user_id', how='inner')\n",
        "medium_active_users_2['all_sess_time'].describe()"
      ]
    },
    {
      "cell_type": "markdown",
      "metadata": {
        "id": "nCYj2qeiqQon"
      },
      "source": [
        "Вывод:\n",
        "\n",
        "Средняя продолжительность сеанса среднеактивного пользователя составляет 10 минут и 8 секунд. Среднее от общего времени пользователей, проведенного в приложении, составляет практически 47 минут."
      ]
    },
    {
      "cell_type": "markdown",
      "metadata": {
        "id": "E8CyO7dgqQon"
      },
      "source": [
        "Активные пользователи"
      ]
    },
    {
      "cell_type": "markdown",
      "metadata": {
        "id": "A-ZPljtPqQon"
      },
      "source": [
        "Средняя продолжительность сеансов пользователей:"
      ]
    },
    {
      "cell_type": "code",
      "execution_count": null,
      "metadata": {
        "id": "TVqLYii6qQon",
        "outputId": "fa3d8383-209e-47d8-a280-a5a83431bea6"
      },
      "outputs": [
        {
          "data": {
            "text/plain": [
              "count                         1192\n",
              "mean     0 days 00:21:11.041946308\n",
              "std      0 days 00:23:22.068244344\n",
              "min                0 days 00:00:00\n",
              "25%         0 days 00:03:58.750000\n",
              "50%         0 days 00:14:40.500000\n",
              "75%         0 days 00:30:27.500000\n",
              "max                0 days 03:12:23\n",
              "Name: active_session, dtype: object"
            ]
          },
          "execution_count": 99,
          "metadata": {},
          "output_type": "execute_result"
        }
      ],
      "source": [
        "active_users_2 = sess_time.merge(active_users, on='user_id', how='inner')\n",
        "active_users_2['active_session'].describe()"
      ]
    },
    {
      "cell_type": "markdown",
      "metadata": {
        "id": "I49hqt9PqQoo"
      },
      "source": [
        "Общая продолжительность проведенного времени в приложении отдельно по пользователям:"
      ]
    },
    {
      "cell_type": "code",
      "execution_count": null,
      "metadata": {
        "id": "qbkta2kSqQoo",
        "outputId": "eca19e83-429e-4a91-aa98-16d1104a1c45"
      },
      "outputs": [
        {
          "data": {
            "text/plain": [
              "count                          293\n",
              "mean     0 days 01:26:10.928327645\n",
              "std      0 days 01:31:15.700388520\n",
              "min                0 days 00:11:28\n",
              "25%                0 days 00:38:02\n",
              "50%                0 days 01:00:18\n",
              "75%                0 days 01:36:22\n",
              "max                0 days 13:47:41\n",
              "Name: all_sess_time, dtype: object"
            ]
          },
          "execution_count": 100,
          "metadata": {},
          "output_type": "execute_result"
        }
      ],
      "source": [
        "active_users_2 = all_time.merge(active_users, on='user_id', how='inner')\n",
        "active_users_2['all_sess_time'].describe()"
      ]
    },
    {
      "cell_type": "markdown",
      "metadata": {
        "id": "TIoF3vBWqQoo"
      },
      "source": [
        "Вывод:\n",
        "\n",
        "\n",
        "Средняя продолжительность сеанса активного пользователя составляет 20 минут и 38 секунд. Среднее от общего времени пользователей, проведенного в приложении, составляет практически 1 час 25 минут."
      ]
    },
    {
      "cell_type": "markdown",
      "metadata": {
        "id": "B9kXCG4yqQoo"
      },
      "source": [
        "Общий вывод о времени проведенном в приложении:\n",
        "\n",
        "Очевидно, что в выделенных нами сегментах показатели времени в приложении будут выше у активных пользователя, а у малоактивных - наоборот.\n",
        "\n",
        "Новички приложения. Среднее время сеанса - 1 минута 44 секунды. Достаточно, чтобы изучить пару объявлений.\n",
        "Малоактивные пользователи. Средняя продолжительность сеанса - 3 минуты 46 секунд. Среднее от общего времени - 15 минут 21 секунда. Пользователи, которые ищут определенное и точечно.\n",
        "\n",
        "Среденеактивные пользователи. Средняя продолжительность сеанса - 10 минут и 8 секунд. Среднее от общего времени - 47 минут. Достаточно много времени проводят в приложении, просматривают различный ассортимент.\n",
        "\n",
        "Активные пользователи. Средняя продолжительность сеанса - 20 минут и 38 секунд. Среднее от общего времени - 1 час 25 минут. Проводят очень много времени в приложении. Или долго выбирают и сравнивают или сами выставляют на площадку товар"
      ]
    },
    {
      "cell_type": "markdown",
      "metadata": {
        "id": "ZHi0toZgqQoo"
      },
      "source": [
        "Частота действий и конверсия в целевое действие"
      ]
    },
    {
      "cell_type": "markdown",
      "metadata": {
        "id": "Nb2tMOJlqQoo"
      },
      "source": [
        "<div>\n",
        "    <span style=\"color:blue\">\n",
        "\n",
        "__Комментарий от студента №1__\n",
        "\n",
        "Изменения №1 (конверсии)\n",
        "</div>"
      ]
    },
    {
      "cell_type": "code",
      "execution_count": null,
      "metadata": {
        "id": "RjOhxSAeqQoo",
        "outputId": "48739649-aceb-4963-b125-b8ea9e8b0893"
      },
      "outputs": [
        {
          "data": {
            "text/html": [
              "<div>\n",
              "<style scoped>\n",
              "    .dataframe tbody tr th:only-of-type {\n",
              "        vertical-align: middle;\n",
              "    }\n",
              "\n",
              "    .dataframe tbody tr th {\n",
              "        vertical-align: top;\n",
              "    }\n",
              "\n",
              "    .dataframe thead th {\n",
              "        text-align: right;\n",
              "    }\n",
              "</style>\n",
              "<table border=\"1\" class=\"dataframe\">\n",
              "  <thead>\n",
              "    <tr style=\"text-align: right;\">\n",
              "      <th></th>\n",
              "      <th>user_id</th>\n",
              "      <th>visits</th>\n",
              "    </tr>\n",
              "  </thead>\n",
              "  <tbody>\n",
              "    <tr>\n",
              "      <th>0</th>\n",
              "      <td>0001b1d5-b74a-4cbf-aeb0-7df5947bf349</td>\n",
              "      <td>35</td>\n",
              "    </tr>\n",
              "    <tr>\n",
              "      <th>1</th>\n",
              "      <td>00157779-810c-4498-9e05-a1e9e3cedf93</td>\n",
              "      <td>71</td>\n",
              "    </tr>\n",
              "    <tr>\n",
              "      <th>2</th>\n",
              "      <td>00463033-5717-4bf1-91b4-09183923b9df</td>\n",
              "      <td>10</td>\n",
              "    </tr>\n",
              "    <tr>\n",
              "      <th>3</th>\n",
              "      <td>004690c3-5a84-4bb7-a8af-e0c8f8fca64e</td>\n",
              "      <td>32</td>\n",
              "    </tr>\n",
              "    <tr>\n",
              "      <th>4</th>\n",
              "      <td>00551e79-152e-4441-9cf7-565d7eb04090</td>\n",
              "      <td>8</td>\n",
              "    </tr>\n",
              "  </tbody>\n",
              "</table>\n",
              "</div>"
            ],
            "text/plain": [
              "                                user_id  visits\n",
              "0  0001b1d5-b74a-4cbf-aeb0-7df5947bf349      35\n",
              "1  00157779-810c-4498-9e05-a1e9e3cedf93      71\n",
              "2  00463033-5717-4bf1-91b4-09183923b9df      10\n",
              "3  004690c3-5a84-4bb7-a8af-e0c8f8fca64e      32\n",
              "4  00551e79-152e-4441-9cf7-565d7eb04090       8"
            ]
          },
          "execution_count": 101,
          "metadata": {},
          "output_type": "execute_result"
        }
      ],
      "source": [
        "visits = df.groupby('user_id', as_index=False)\\\n",
        ".agg({'event_date':'count'})\\\n",
        ".rename(columns={'event_date':'visits'})\n",
        "visits.head()"
      ]
    },
    {
      "cell_type": "code",
      "execution_count": null,
      "metadata": {
        "id": "V9rdNGaNqQop",
        "outputId": "c6aa4b4a-6f54-4c52-9d0f-25ea90b8080a"
      },
      "outputs": [
        {
          "data": {
            "text/html": [
              "<div>\n",
              "<style scoped>\n",
              "    .dataframe tbody tr th:only-of-type {\n",
              "        vertical-align: middle;\n",
              "    }\n",
              "\n",
              "    .dataframe tbody tr th {\n",
              "        vertical-align: top;\n",
              "    }\n",
              "\n",
              "    .dataframe thead th {\n",
              "        text-align: right;\n",
              "    }\n",
              "</style>\n",
              "<table border=\"1\" class=\"dataframe\">\n",
              "  <thead>\n",
              "    <tr style=\"text-align: right;\">\n",
              "      <th></th>\n",
              "      <th>user_id</th>\n",
              "      <th>conversions</th>\n",
              "    </tr>\n",
              "  </thead>\n",
              "  <tbody>\n",
              "    <tr>\n",
              "      <th>0</th>\n",
              "      <td>00157779-810c-4498-9e05-a1e9e3cedf93</td>\n",
              "      <td>11</td>\n",
              "    </tr>\n",
              "    <tr>\n",
              "      <th>1</th>\n",
              "      <td>00551e79-152e-4441-9cf7-565d7eb04090</td>\n",
              "      <td>3</td>\n",
              "    </tr>\n",
              "    <tr>\n",
              "      <th>2</th>\n",
              "      <td>005fbea5-2678-406f-88a6-fbe9787e2268</td>\n",
              "      <td>3</td>\n",
              "    </tr>\n",
              "    <tr>\n",
              "      <th>3</th>\n",
              "      <td>00753c79-ea81-4456-acd0-a47a23ca2fb9</td>\n",
              "      <td>1</td>\n",
              "    </tr>\n",
              "    <tr>\n",
              "      <th>4</th>\n",
              "      <td>007d031d-5018-4e02-b7ee-72a30609173f</td>\n",
              "      <td>2</td>\n",
              "    </tr>\n",
              "    <tr>\n",
              "      <th>...</th>\n",
              "      <td>...</td>\n",
              "      <td>...</td>\n",
              "    </tr>\n",
              "    <tr>\n",
              "      <th>976</th>\n",
              "      <td>fee3ba1c-16f4-46f7-bf56-4bf80cc4e2f5</td>\n",
              "      <td>17</td>\n",
              "    </tr>\n",
              "    <tr>\n",
              "      <th>977</th>\n",
              "      <td>ff1554b5-919e-40b1-90bb-ee1f7f6d5846</td>\n",
              "      <td>1</td>\n",
              "    </tr>\n",
              "    <tr>\n",
              "      <th>978</th>\n",
              "      <td>ffc01466-fdb1-4460-ae94-e800f52eb136</td>\n",
              "      <td>1</td>\n",
              "    </tr>\n",
              "    <tr>\n",
              "      <th>979</th>\n",
              "      <td>ffe68f10-e48e-470e-be9b-eeb93128ff1a</td>\n",
              "      <td>1</td>\n",
              "    </tr>\n",
              "    <tr>\n",
              "      <th>980</th>\n",
              "      <td>fffb9e79-b927-4dbb-9b48-7fd09b23a62b</td>\n",
              "      <td>68</td>\n",
              "    </tr>\n",
              "  </tbody>\n",
              "</table>\n",
              "<p>981 rows × 2 columns</p>\n",
              "</div>"
            ],
            "text/plain": [
              "                                  user_id  conversions\n",
              "0    00157779-810c-4498-9e05-a1e9e3cedf93           11\n",
              "1    00551e79-152e-4441-9cf7-565d7eb04090            3\n",
              "2    005fbea5-2678-406f-88a6-fbe9787e2268            3\n",
              "3    00753c79-ea81-4456-acd0-a47a23ca2fb9            1\n",
              "4    007d031d-5018-4e02-b7ee-72a30609173f            2\n",
              "..                                    ...          ...\n",
              "976  fee3ba1c-16f4-46f7-bf56-4bf80cc4e2f5           17\n",
              "977  ff1554b5-919e-40b1-90bb-ee1f7f6d5846            1\n",
              "978  ffc01466-fdb1-4460-ae94-e800f52eb136            1\n",
              "979  ffe68f10-e48e-470e-be9b-eeb93128ff1a            1\n",
              "980  fffb9e79-b927-4dbb-9b48-7fd09b23a62b           68\n",
              "\n",
              "[981 rows x 2 columns]"
            ]
          },
          "execution_count": 102,
          "metadata": {},
          "output_type": "execute_result"
        }
      ],
      "source": [
        "conversion = df.query('event_name==\"contacts_show\"')\\\n",
        ".groupby('user_id', as_index=False)\\\n",
        ".agg({'event_name':'count'})\\\n",
        ".rename(columns={'event_name':'conversions'})\n",
        "conversion\n"
      ]
    },
    {
      "cell_type": "code",
      "execution_count": null,
      "metadata": {
        "id": "Bm6wMLS0qQot"
      },
      "outputs": [],
      "source": [
        "visits = pd.merge(visits, conversion, on='user_id', how='left')"
      ]
    },
    {
      "cell_type": "code",
      "execution_count": null,
      "metadata": {
        "id": "ED45OTCWqQov",
        "outputId": "a864fc2a-e111-4bfa-9441-0f0b6e2e509f"
      },
      "outputs": [
        {
          "data": {
            "text/html": [
              "<div>\n",
              "<style scoped>\n",
              "    .dataframe tbody tr th:only-of-type {\n",
              "        vertical-align: middle;\n",
              "    }\n",
              "\n",
              "    .dataframe tbody tr th {\n",
              "        vertical-align: top;\n",
              "    }\n",
              "\n",
              "    .dataframe thead th {\n",
              "        text-align: right;\n",
              "    }\n",
              "</style>\n",
              "<table border=\"1\" class=\"dataframe\">\n",
              "  <thead>\n",
              "    <tr style=\"text-align: right;\">\n",
              "      <th></th>\n",
              "      <th>user_id</th>\n",
              "      <th>visits</th>\n",
              "      <th>conversions</th>\n",
              "    </tr>\n",
              "  </thead>\n",
              "  <tbody>\n",
              "    <tr>\n",
              "      <th>0</th>\n",
              "      <td>0001b1d5-b74a-4cbf-aeb0-7df5947bf349</td>\n",
              "      <td>35</td>\n",
              "      <td>NaN</td>\n",
              "    </tr>\n",
              "    <tr>\n",
              "      <th>1</th>\n",
              "      <td>00157779-810c-4498-9e05-a1e9e3cedf93</td>\n",
              "      <td>71</td>\n",
              "      <td>11.0</td>\n",
              "    </tr>\n",
              "    <tr>\n",
              "      <th>2</th>\n",
              "      <td>00463033-5717-4bf1-91b4-09183923b9df</td>\n",
              "      <td>10</td>\n",
              "      <td>NaN</td>\n",
              "    </tr>\n",
              "    <tr>\n",
              "      <th>3</th>\n",
              "      <td>004690c3-5a84-4bb7-a8af-e0c8f8fca64e</td>\n",
              "      <td>32</td>\n",
              "      <td>NaN</td>\n",
              "    </tr>\n",
              "    <tr>\n",
              "      <th>4</th>\n",
              "      <td>00551e79-152e-4441-9cf7-565d7eb04090</td>\n",
              "      <td>8</td>\n",
              "      <td>3.0</td>\n",
              "    </tr>\n",
              "    <tr>\n",
              "      <th>...</th>\n",
              "      <td>...</td>\n",
              "      <td>...</td>\n",
              "      <td>...</td>\n",
              "    </tr>\n",
              "    <tr>\n",
              "      <th>4288</th>\n",
              "      <td>ffab8d8a-30bb-424a-a3ab-0b63ebbf7b07</td>\n",
              "      <td>17</td>\n",
              "      <td>NaN</td>\n",
              "    </tr>\n",
              "    <tr>\n",
              "      <th>4289</th>\n",
              "      <td>ffc01466-fdb1-4460-ae94-e800f52eb136</td>\n",
              "      <td>7</td>\n",
              "      <td>1.0</td>\n",
              "    </tr>\n",
              "    <tr>\n",
              "      <th>4290</th>\n",
              "      <td>ffcf50d9-293c-4254-8243-4890b030b238</td>\n",
              "      <td>2</td>\n",
              "      <td>NaN</td>\n",
              "    </tr>\n",
              "    <tr>\n",
              "      <th>4291</th>\n",
              "      <td>ffe68f10-e48e-470e-be9b-eeb93128ff1a</td>\n",
              "      <td>13</td>\n",
              "      <td>1.0</td>\n",
              "    </tr>\n",
              "    <tr>\n",
              "      <th>4292</th>\n",
              "      <td>fffb9e79-b927-4dbb-9b48-7fd09b23a62b</td>\n",
              "      <td>302</td>\n",
              "      <td>68.0</td>\n",
              "    </tr>\n",
              "  </tbody>\n",
              "</table>\n",
              "<p>4293 rows × 3 columns</p>\n",
              "</div>"
            ],
            "text/plain": [
              "                                   user_id  visits  conversions\n",
              "0     0001b1d5-b74a-4cbf-aeb0-7df5947bf349      35          NaN\n",
              "1     00157779-810c-4498-9e05-a1e9e3cedf93      71         11.0\n",
              "2     00463033-5717-4bf1-91b4-09183923b9df      10          NaN\n",
              "3     004690c3-5a84-4bb7-a8af-e0c8f8fca64e      32          NaN\n",
              "4     00551e79-152e-4441-9cf7-565d7eb04090       8          3.0\n",
              "...                                    ...     ...          ...\n",
              "4288  ffab8d8a-30bb-424a-a3ab-0b63ebbf7b07      17          NaN\n",
              "4289  ffc01466-fdb1-4460-ae94-e800f52eb136       7          1.0\n",
              "4290  ffcf50d9-293c-4254-8243-4890b030b238       2          NaN\n",
              "4291  ffe68f10-e48e-470e-be9b-eeb93128ff1a      13          1.0\n",
              "4292  fffb9e79-b927-4dbb-9b48-7fd09b23a62b     302         68.0\n",
              "\n",
              "[4293 rows x 3 columns]"
            ]
          },
          "execution_count": 104,
          "metadata": {},
          "output_type": "execute_result"
        }
      ],
      "source": [
        "visits"
      ]
    },
    {
      "cell_type": "code",
      "execution_count": null,
      "metadata": {
        "id": "qY-d1T3vqQow"
      },
      "outputs": [],
      "source": [
        "visits['conversions'] = visits['conversions'].fillna(0)"
      ]
    },
    {
      "cell_type": "code",
      "execution_count": null,
      "metadata": {
        "id": "bLZf_TnFqQoy"
      },
      "outputs": [],
      "source": [
        "contacts_show_df = df.query('event_name == \"contacts_show\"')"
      ]
    },
    {
      "cell_type": "code",
      "execution_count": null,
      "metadata": {
        "id": "hptAmAdPqQoz",
        "outputId": "98b0febd-ea03-4123-85eb-bcc4b2dbbd5f"
      },
      "outputs": [
        {
          "data": {
            "text/plain": [
              "981"
            ]
          },
          "execution_count": 107,
          "metadata": {},
          "output_type": "execute_result"
        }
      ],
      "source": [
        "contacts_show_df['user_id'].nunique()"
      ]
    },
    {
      "cell_type": "code",
      "execution_count": null,
      "metadata": {
        "id": "tGlcITZbqQoz",
        "outputId": "5ebf2fde-a290-4952-fe96-cfc91c8f1a98"
      },
      "outputs": [
        {
          "data": {
            "text/plain": [
              "22.851153039832283"
            ]
          },
          "execution_count": 108,
          "metadata": {},
          "output_type": "execute_result"
        }
      ],
      "source": [
        "(contacts_show_df['user_id'].nunique() / df['user_id'].nunique()) * 100"
      ]
    },
    {
      "cell_type": "markdown",
      "metadata": {
        "id": "6K3uOl-RqQo0"
      },
      "source": [
        "***Промежуточный вывод:***\n",
        "\n",
        "По полученным вычислениям конверсии, до события contacts_show доходят ~23% пользователей. 77% -  отток от общего количества пришедших пользователей. Возможно это связано с неудобным поиском и неинтуитивно понятным расположением рекомендаций"
      ]
    },
    {
      "cell_type": "markdown",
      "metadata": {
        "id": "bE0flNlGqQo0"
      },
      "source": [
        "<div class=\"alert alert-block alert-success\">✔️\n",
        "    \n",
        "\n",
        "__Комментарий от тимлида №2__\n",
        "\n",
        "Конверсия рассчитана корректно"
      ]
    },
    {
      "cell_type": "markdown",
      "metadata": {
        "id": "LNI3k7pgqQo0"
      },
      "source": [
        "Посмотрим, как обстоят дела по сегментированным группам"
      ]
    },
    {
      "cell_type": "code",
      "execution_count": null,
      "metadata": {
        "id": "cRcmj7myqQo0"
      },
      "outputs": [],
      "source": [
        "new_users = df.merge(new_users, on='user_id', how='inner')"
      ]
    },
    {
      "cell_type": "code",
      "execution_count": null,
      "metadata": {
        "scrolled": true,
        "id": "9HKE6eBwqQo1",
        "outputId": "87cc2459-c595-4f9d-ce32-516ee6c07a64"
      },
      "outputs": [
        {
          "data": {
            "text/html": [
              "<div>\n",
              "<style scoped>\n",
              "    .dataframe tbody tr th:only-of-type {\n",
              "        vertical-align: middle;\n",
              "    }\n",
              "\n",
              "    .dataframe tbody tr th {\n",
              "        vertical-align: top;\n",
              "    }\n",
              "\n",
              "    .dataframe thead th {\n",
              "        text-align: right;\n",
              "    }\n",
              "</style>\n",
              "<table border=\"1\" class=\"dataframe\">\n",
              "  <thead>\n",
              "    <tr style=\"text-align: right;\">\n",
              "      <th></th>\n",
              "      <th>Событие</th>\n",
              "      <th>Количество событий</th>\n",
              "      <th>Количество пользователей</th>\n",
              "      <th>% событий</th>\n",
              "      <th>% пользователей</th>\n",
              "      <th>шаговый % пользователей</th>\n",
              "    </tr>\n",
              "  </thead>\n",
              "  <tbody>\n",
              "    <tr>\n",
              "      <th>8</th>\n",
              "      <td>tips_show</td>\n",
              "      <td>9529</td>\n",
              "      <td>1404</td>\n",
              "      <td>468.03</td>\n",
              "      <td>8.15</td>\n",
              "      <td>NaN</td>\n",
              "    </tr>\n",
              "    <tr>\n",
              "      <th>5</th>\n",
              "      <td>photos_show</td>\n",
              "      <td>2204</td>\n",
              "      <td>388</td>\n",
              "      <td>108.25</td>\n",
              "      <td>2.25</td>\n",
              "      <td>57.06</td>\n",
              "    </tr>\n",
              "    <tr>\n",
              "      <th>6</th>\n",
              "      <td>search</td>\n",
              "      <td>1797</td>\n",
              "      <td>700</td>\n",
              "      <td>88.26</td>\n",
              "      <td>4.06</td>\n",
              "      <td>49.86</td>\n",
              "    </tr>\n",
              "    <tr>\n",
              "      <th>0</th>\n",
              "      <td>advert_open</td>\n",
              "      <td>1390</td>\n",
              "      <td>328</td>\n",
              "      <td>68.27</td>\n",
              "      <td>1.90</td>\n",
              "      <td>84.54</td>\n",
              "    </tr>\n",
              "    <tr>\n",
              "      <th>4</th>\n",
              "      <td>map</td>\n",
              "      <td>1111</td>\n",
              "      <td>680</td>\n",
              "      <td>54.57</td>\n",
              "      <td>3.95</td>\n",
              "      <td>97.14</td>\n",
              "    </tr>\n",
              "    <tr>\n",
              "      <th>2</th>\n",
              "      <td>contacts_show</td>\n",
              "      <td>709</td>\n",
              "      <td>281</td>\n",
              "      <td>34.82</td>\n",
              "      <td>1.63</td>\n",
              "      <td>85.67</td>\n",
              "    </tr>\n",
              "    <tr>\n",
              "      <th>3</th>\n",
              "      <td>favorites_add</td>\n",
              "      <td>248</td>\n",
              "      <td>85</td>\n",
              "      <td>12.18</td>\n",
              "      <td>0.49</td>\n",
              "      <td>91.40</td>\n",
              "    </tr>\n",
              "    <tr>\n",
              "      <th>7</th>\n",
              "      <td>tips_click</td>\n",
              "      <td>162</td>\n",
              "      <td>93</td>\n",
              "      <td>7.96</td>\n",
              "      <td>0.54</td>\n",
              "      <td>33.10</td>\n",
              "    </tr>\n",
              "    <tr>\n",
              "      <th>1</th>\n",
              "      <td>contacts_call</td>\n",
              "      <td>81</td>\n",
              "      <td>36</td>\n",
              "      <td>3.98</td>\n",
              "      <td>0.21</td>\n",
              "      <td>42.35</td>\n",
              "    </tr>\n",
              "  </tbody>\n",
              "</table>\n",
              "</div>"
            ],
            "text/plain": [
              "         Событие  Количество событий  Количество пользователей  % событий  \\\n",
              "8      tips_show                9529                      1404     468.03   \n",
              "5    photos_show                2204                       388     108.25   \n",
              "6         search                1797                       700      88.26   \n",
              "0    advert_open                1390                       328      68.27   \n",
              "4            map                1111                       680      54.57   \n",
              "2  contacts_show                 709                       281      34.82   \n",
              "3  favorites_add                 248                        85      12.18   \n",
              "7     tips_click                 162                        93       7.96   \n",
              "1  contacts_call                  81                        36       3.98   \n",
              "\n",
              "   % пользователей  шаговый % пользователей  \n",
              "8             8.15                      NaN  \n",
              "5             2.25                    57.06  \n",
              "6             4.06                    49.86  \n",
              "0             1.90                    84.54  \n",
              "4             3.95                    97.14  \n",
              "2             1.63                    85.67  \n",
              "3             0.49                    91.40  \n",
              "7             0.54                    33.10  \n",
              "1             0.21                    42.35  "
            ]
          },
          "execution_count": 110,
          "metadata": {},
          "output_type": "execute_result"
        }
      ],
      "source": [
        "event_funnel = new_users.groupby('event_name').agg({'user_id': ['count', 'nunique']}).reset_index()\n",
        "event_funnel.columns = ['Событие', 'Количество событий', 'Количество пользователей']\n",
        "event_funnel['% событий'] = round(100*event_funnel['Количество событий'] / len(new_users_2),2)\n",
        "event_funnel['% пользователей'] = round(100*event_funnel['Количество пользователей'] / len(new_users),2)\n",
        "event_funnel =event_funnel.sort_values(by='Количество пользователей', ascending=False)\n",
        "event_funnel['шаговый % пользователей'] = round(100*event_funnel['Количество пользователей']/event_funnel['Количество пользователей'].shift(1),2)\n",
        "event_funnel.sort_values(by = 'Количество событий', ascending = False)"
      ]
    },
    {
      "cell_type": "code",
      "execution_count": null,
      "metadata": {
        "id": "vK814spwqQo1",
        "outputId": "c9c238e6-1556-4298-a12c-c69825eeb623"
      },
      "outputs": [
        {
          "data": {
            "text/plain": [
              "47.426042394595854"
            ]
          },
          "execution_count": 111,
          "metadata": {},
          "output_type": "execute_result"
        }
      ],
      "source": [
        "(new_users['user_id'].nunique() / df['user_id'].nunique()) * 100"
      ]
    },
    {
      "cell_type": "markdown",
      "metadata": {
        "id": "gI4CJiY7qQo2"
      },
      "source": [
        "Вывод:\n",
        "\n",
        "69% пользователей новичков приложения видят рекомендованные объявления (55% всех событий), всего 5% переходят по рекомендованному объявлению. 19% пользователей открывают фотографии объявления (13% всех событий). 16% переходят на карточку объявления, 14% смотрят на контакты продавца. Конверсия 47%"
      ]
    },
    {
      "cell_type": "markdown",
      "metadata": {
        "id": "RQ_5gg8tqQo2"
      },
      "source": [
        "<div class=\"alert alert-block alert-danger\">✍\n",
        "    \n",
        "\n",
        "__Комментарий от тимлида №1__\n",
        "\n",
        "Конверсия рассчитывается так:\n",
        "    \n",
        "`количество уникальных пользователей совершившие целевое действие / общее количество уникальных пользователей в конкретной группе`\n",
        "</div>"
      ]
    },
    {
      "cell_type": "markdown",
      "metadata": {
        "id": "FxtP5RLmqQo2"
      },
      "source": []
    },
    {
      "cell_type": "markdown",
      "metadata": {
        "id": "DCtpeWJ1qQo2"
      },
      "source": [
        "Малоактивные пользователи"
      ]
    },
    {
      "cell_type": "code",
      "execution_count": null,
      "metadata": {
        "id": "Z1as2DtYqQo3"
      },
      "outputs": [],
      "source": [
        "inactive_users_3 = df.merge(inactive_users, on='user_id', how='inner')"
      ]
    },
    {
      "cell_type": "code",
      "execution_count": null,
      "metadata": {
        "id": "eC7HRVuXqQo3",
        "outputId": "6a620837-02f9-4d28-faa3-23900b2f6550"
      },
      "outputs": [
        {
          "data": {
            "text/html": [
              "<div>\n",
              "<style scoped>\n",
              "    .dataframe tbody tr th:only-of-type {\n",
              "        vertical-align: middle;\n",
              "    }\n",
              "\n",
              "    .dataframe tbody tr th {\n",
              "        vertical-align: top;\n",
              "    }\n",
              "\n",
              "    .dataframe thead th {\n",
              "        text-align: right;\n",
              "    }\n",
              "</style>\n",
              "<table border=\"1\" class=\"dataframe\">\n",
              "  <thead>\n",
              "    <tr style=\"text-align: right;\">\n",
              "      <th></th>\n",
              "      <th>Событие</th>\n",
              "      <th>Количество событий</th>\n",
              "      <th>Количество пользователей</th>\n",
              "      <th>% событий</th>\n",
              "      <th>% пользователей</th>\n",
              "      <th>шаговый % пользователей</th>\n",
              "    </tr>\n",
              "  </thead>\n",
              "  <tbody>\n",
              "    <tr>\n",
              "      <th>8</th>\n",
              "      <td>tips_show</td>\n",
              "      <td>4252</td>\n",
              "      <td>527</td>\n",
              "      <td>34.72</td>\n",
              "      <td>45.63</td>\n",
              "      <td>NaN</td>\n",
              "    </tr>\n",
              "    <tr>\n",
              "      <th>5</th>\n",
              "      <td>photos_show</td>\n",
              "      <td>3274</td>\n",
              "      <td>502</td>\n",
              "      <td>26.74</td>\n",
              "      <td>43.46</td>\n",
              "      <td>95.26</td>\n",
              "    </tr>\n",
              "    <tr>\n",
              "      <th>6</th>\n",
              "      <td>search</td>\n",
              "      <td>2186</td>\n",
              "      <td>485</td>\n",
              "      <td>17.85</td>\n",
              "      <td>41.99</td>\n",
              "      <td>96.61</td>\n",
              "    </tr>\n",
              "    <tr>\n",
              "      <th>2</th>\n",
              "      <td>contacts_show</td>\n",
              "      <td>1009</td>\n",
              "      <td>338</td>\n",
              "      <td>8.24</td>\n",
              "      <td>29.26</td>\n",
              "      <td>69.69</td>\n",
              "    </tr>\n",
              "    <tr>\n",
              "      <th>4</th>\n",
              "      <td>map</td>\n",
              "      <td>435</td>\n",
              "      <td>207</td>\n",
              "      <td>3.55</td>\n",
              "      <td>17.92</td>\n",
              "      <td>61.24</td>\n",
              "    </tr>\n",
              "    <tr>\n",
              "      <th>0</th>\n",
              "      <td>advert_open</td>\n",
              "      <td>412</td>\n",
              "      <td>111</td>\n",
              "      <td>3.36</td>\n",
              "      <td>9.61</td>\n",
              "      <td>94.07</td>\n",
              "    </tr>\n",
              "    <tr>\n",
              "      <th>3</th>\n",
              "      <td>favorites_add</td>\n",
              "      <td>298</td>\n",
              "      <td>125</td>\n",
              "      <td>2.43</td>\n",
              "      <td>10.82</td>\n",
              "      <td>60.39</td>\n",
              "    </tr>\n",
              "    <tr>\n",
              "      <th>1</th>\n",
              "      <td>contacts_call</td>\n",
              "      <td>254</td>\n",
              "      <td>118</td>\n",
              "      <td>2.07</td>\n",
              "      <td>10.22</td>\n",
              "      <td>94.40</td>\n",
              "    </tr>\n",
              "    <tr>\n",
              "      <th>7</th>\n",
              "      <td>tips_click</td>\n",
              "      <td>126</td>\n",
              "      <td>60</td>\n",
              "      <td>1.03</td>\n",
              "      <td>5.19</td>\n",
              "      <td>54.05</td>\n",
              "    </tr>\n",
              "  </tbody>\n",
              "</table>\n",
              "</div>"
            ],
            "text/plain": [
              "         Событие  Количество событий  Количество пользователей  % событий  \\\n",
              "8      tips_show                4252                       527      34.72   \n",
              "5    photos_show                3274                       502      26.74   \n",
              "6         search                2186                       485      17.85   \n",
              "2  contacts_show                1009                       338       8.24   \n",
              "4            map                 435                       207       3.55   \n",
              "0    advert_open                 412                       111       3.36   \n",
              "3  favorites_add                 298                       125       2.43   \n",
              "1  contacts_call                 254                       118       2.07   \n",
              "7     tips_click                 126                        60       1.03   \n",
              "\n",
              "   % пользователей  шаговый % пользователей  \n",
              "8            45.63                      NaN  \n",
              "5            43.46                    95.26  \n",
              "6            41.99                    96.61  \n",
              "2            29.26                    69.69  \n",
              "4            17.92                    61.24  \n",
              "0             9.61                    94.07  \n",
              "3            10.82                    60.39  \n",
              "1            10.22                    94.40  \n",
              "7             5.19                    54.05  "
            ]
          },
          "execution_count": 113,
          "metadata": {},
          "output_type": "execute_result"
        }
      ],
      "source": [
        "event_funnel = inactive_users_3.groupby('event_name').agg({'user_id': ['count', 'nunique']}).reset_index()\n",
        "event_funnel.columns = ['Событие', 'Количество событий', 'Количество пользователей']\n",
        "event_funnel['% событий'] = round(100*event_funnel['Количество событий'] / len(inactive_users_3),2)\n",
        "event_funnel['% пользователей'] = round(100*event_funnel['Количество пользователей'] / len(inactive_users),2)\n",
        "event_funnel =event_funnel.sort_values(by='Количество пользователей', ascending=False)\n",
        "event_funnel['шаговый % пользователей'] = round(100*event_funnel['Количество пользователей']/event_funnel['Количество пользователей'].shift(1),2)\n",
        "event_funnel.sort_values(by = 'Количество событий', ascending = False)"
      ]
    },
    {
      "cell_type": "code",
      "execution_count": null,
      "metadata": {
        "id": "tepyzY5OqQo4",
        "outputId": "7b0e53ef-6ca2-424d-fb19-8682e7586948"
      },
      "outputs": [
        {
          "data": {
            "text/plain": [
              "26.904262753319358"
            ]
          },
          "execution_count": 114,
          "metadata": {},
          "output_type": "execute_result"
        }
      ],
      "source": [
        "(inactive_users['user_id'].nunique() / df['user_id'].nunique()) * 100"
      ]
    },
    {
      "cell_type": "markdown",
      "metadata": {
        "id": "iniSNlLqqQo4"
      },
      "source": [
        "Вывод:\n",
        "\n",
        "46% малоактивных пользователей видят рекомендованные объявления. 43% пользователей открывают фотографии объявления (26% всех событий). 10% переходят на карточку объявления, 8% смотрят на контакты продавца. Конверсия 27%"
      ]
    },
    {
      "cell_type": "markdown",
      "metadata": {
        "id": "GBLYLc-aqQo5"
      },
      "source": [
        "Среднеактивные пользователи"
      ]
    },
    {
      "cell_type": "code",
      "execution_count": null,
      "metadata": {
        "id": "5-DsTMxzqQo5"
      },
      "outputs": [],
      "source": [
        "medium_active_users_3 = df.merge(medium_active_users, on='user_id', how='inner')"
      ]
    },
    {
      "cell_type": "code",
      "execution_count": null,
      "metadata": {
        "id": "vDh6zVQSqQo5",
        "outputId": "d4cc9978-d52f-4352-f8c1-7c64068261f3"
      },
      "outputs": [
        {
          "data": {
            "text/html": [
              "<div>\n",
              "<style scoped>\n",
              "    .dataframe tbody tr th:only-of-type {\n",
              "        vertical-align: middle;\n",
              "    }\n",
              "\n",
              "    .dataframe tbody tr th {\n",
              "        vertical-align: top;\n",
              "    }\n",
              "\n",
              "    .dataframe thead th {\n",
              "        text-align: right;\n",
              "    }\n",
              "</style>\n",
              "<table border=\"1\" class=\"dataframe\">\n",
              "  <thead>\n",
              "    <tr style=\"text-align: right;\">\n",
              "      <th></th>\n",
              "      <th>Событие</th>\n",
              "      <th>Количество событий</th>\n",
              "      <th>Количество пользователей</th>\n",
              "      <th>% событий</th>\n",
              "      <th>% пользователей</th>\n",
              "      <th>шаговый % пользователей</th>\n",
              "    </tr>\n",
              "  </thead>\n",
              "  <tbody>\n",
              "    <tr>\n",
              "      <th>8</th>\n",
              "      <td>tips_show</td>\n",
              "      <td>12531</td>\n",
              "      <td>562</td>\n",
              "      <td>55.52</td>\n",
              "      <td>73.95</td>\n",
              "      <td>NaN</td>\n",
              "    </tr>\n",
              "    <tr>\n",
              "      <th>5</th>\n",
              "      <td>photos_show</td>\n",
              "      <td>2722</td>\n",
              "      <td>174</td>\n",
              "      <td>12.06</td>\n",
              "      <td>22.89</td>\n",
              "      <td>94.05</td>\n",
              "    </tr>\n",
              "    <tr>\n",
              "      <th>6</th>\n",
              "      <td>search</td>\n",
              "      <td>1897</td>\n",
              "      <td>329</td>\n",
              "      <td>8.40</td>\n",
              "      <td>43.29</td>\n",
              "      <td>92.68</td>\n",
              "    </tr>\n",
              "    <tr>\n",
              "      <th>2</th>\n",
              "      <td>contacts_show</td>\n",
              "      <td>1695</td>\n",
              "      <td>257</td>\n",
              "      <td>7.51</td>\n",
              "      <td>33.82</td>\n",
              "      <td>78.12</td>\n",
              "    </tr>\n",
              "    <tr>\n",
              "      <th>0</th>\n",
              "      <td>advert_open</td>\n",
              "      <td>1570</td>\n",
              "      <td>185</td>\n",
              "      <td>6.96</td>\n",
              "      <td>24.34</td>\n",
              "      <td>71.98</td>\n",
              "    </tr>\n",
              "    <tr>\n",
              "      <th>4</th>\n",
              "      <td>map</td>\n",
              "      <td>1214</td>\n",
              "      <td>355</td>\n",
              "      <td>5.38</td>\n",
              "      <td>46.71</td>\n",
              "      <td>63.17</td>\n",
              "    </tr>\n",
              "    <tr>\n",
              "      <th>3</th>\n",
              "      <td>favorites_add</td>\n",
              "      <td>453</td>\n",
              "      <td>93</td>\n",
              "      <td>2.01</td>\n",
              "      <td>12.24</td>\n",
              "      <td>80.87</td>\n",
              "    </tr>\n",
              "    <tr>\n",
              "      <th>7</th>\n",
              "      <td>tips_click</td>\n",
              "      <td>329</td>\n",
              "      <td>115</td>\n",
              "      <td>1.46</td>\n",
              "      <td>15.13</td>\n",
              "      <td>66.09</td>\n",
              "    </tr>\n",
              "    <tr>\n",
              "      <th>1</th>\n",
              "      <td>contacts_call</td>\n",
              "      <td>160</td>\n",
              "      <td>52</td>\n",
              "      <td>0.71</td>\n",
              "      <td>6.84</td>\n",
              "      <td>55.91</td>\n",
              "    </tr>\n",
              "  </tbody>\n",
              "</table>\n",
              "</div>"
            ],
            "text/plain": [
              "         Событие  Количество событий  Количество пользователей  % событий  \\\n",
              "8      tips_show               12531                       562      55.52   \n",
              "5    photos_show                2722                       174      12.06   \n",
              "6         search                1897                       329       8.40   \n",
              "2  contacts_show                1695                       257       7.51   \n",
              "0    advert_open                1570                       185       6.96   \n",
              "4            map                1214                       355       5.38   \n",
              "3  favorites_add                 453                        93       2.01   \n",
              "7     tips_click                 329                       115       1.46   \n",
              "1  contacts_call                 160                        52       0.71   \n",
              "\n",
              "   % пользователей  шаговый % пользователей  \n",
              "8            73.95                      NaN  \n",
              "5            22.89                    94.05  \n",
              "6            43.29                    92.68  \n",
              "2            33.82                    78.12  \n",
              "0            24.34                    71.98  \n",
              "4            46.71                    63.17  \n",
              "3            12.24                    80.87  \n",
              "7            15.13                    66.09  \n",
              "1             6.84                    55.91  "
            ]
          },
          "execution_count": 116,
          "metadata": {},
          "output_type": "execute_result"
        }
      ],
      "source": [
        "event_funnel = medium_active_users_3.groupby('event_name').agg({'user_id': ['count', 'nunique']}).reset_index()\n",
        "event_funnel.columns = ['Событие', 'Количество событий', 'Количество пользователей']\n",
        "event_funnel['% событий'] = round(100*event_funnel['Количество событий'] / len(medium_active_users_3),2)\n",
        "event_funnel['% пользователей'] = round(100*event_funnel['Количество пользователей'] / len(medium_active_users),2)\n",
        "event_funnel =event_funnel.sort_values(by='Количество пользователей', ascending=False)\n",
        "event_funnel['шаговый % пользователей'] = round(100*event_funnel['Количество пользователей']/event_funnel['Количество пользователей'].shift(1),2)\n",
        "event_funnel.sort_values(by = 'Количество событий', ascending = False)"
      ]
    },
    {
      "cell_type": "code",
      "execution_count": null,
      "metadata": {
        "id": "H1P_o554qQo6",
        "outputId": "25c02dc4-027b-4cd2-848f-44e53e425b1c"
      },
      "outputs": [
        {
          "data": {
            "text/plain": [
              "17.703237829023994"
            ]
          },
          "execution_count": 117,
          "metadata": {},
          "output_type": "execute_result"
        }
      ],
      "source": [
        "(medium_active_users['user_id'].nunique() / df['user_id'].nunique()) * 100"
      ]
    },
    {
      "cell_type": "markdown",
      "metadata": {
        "id": "RkOq7wzoqQo6"
      },
      "source": [
        "Вывод:\n",
        "\n",
        "73% среднеалоактивных пользователей приложения видят рекомендованные объявления (54% всех событий). 23% пользователей открывают фотографии объявления (13% всех событий). 23% переходят на карточку объявления. 33% смотрят контакты продавца - хороший показатель. Конверсия 18%"
      ]
    },
    {
      "cell_type": "markdown",
      "metadata": {
        "id": "rAw5DrMpqQo7"
      },
      "source": [
        "Активные пользователи"
      ]
    },
    {
      "cell_type": "code",
      "execution_count": null,
      "metadata": {
        "id": "J-VZ8vG0qQo7"
      },
      "outputs": [],
      "source": [
        "active_users_3 = df.merge(active_users, on='user_id', how='inner')"
      ]
    },
    {
      "cell_type": "code",
      "execution_count": null,
      "metadata": {
        "id": "R6E2cao-qQo7",
        "outputId": "71ab9c01-c29c-4451-b763-9279895de448"
      },
      "outputs": [
        {
          "data": {
            "text/html": [
              "<div>\n",
              "<style scoped>\n",
              "    .dataframe tbody tr th:only-of-type {\n",
              "        vertical-align: middle;\n",
              "    }\n",
              "\n",
              "    .dataframe tbody tr th {\n",
              "        vertical-align: top;\n",
              "    }\n",
              "\n",
              "    .dataframe thead th {\n",
              "        text-align: right;\n",
              "    }\n",
              "</style>\n",
              "<table border=\"1\" class=\"dataframe\">\n",
              "  <thead>\n",
              "    <tr style=\"text-align: right;\">\n",
              "      <th></th>\n",
              "      <th>Событие</th>\n",
              "      <th>Количество событий</th>\n",
              "      <th>Количество пользователей</th>\n",
              "      <th>% событий</th>\n",
              "      <th>% пользователей</th>\n",
              "      <th>шаговый % пользователей</th>\n",
              "    </tr>\n",
              "  </thead>\n",
              "  <tbody>\n",
              "    <tr>\n",
              "      <th>8</th>\n",
              "      <td>tips_show</td>\n",
              "      <td>11313</td>\n",
              "      <td>260</td>\n",
              "      <td>64.29</td>\n",
              "      <td>88.74</td>\n",
              "      <td>NaN</td>\n",
              "    </tr>\n",
              "    <tr>\n",
              "      <th>0</th>\n",
              "      <td>advert_open</td>\n",
              "      <td>2253</td>\n",
              "      <td>105</td>\n",
              "      <td>12.80</td>\n",
              "      <td>35.84</td>\n",
              "      <td>79.55</td>\n",
              "    </tr>\n",
              "    <tr>\n",
              "      <th>5</th>\n",
              "      <td>photos_show</td>\n",
              "      <td>1107</td>\n",
              "      <td>30</td>\n",
              "      <td>6.29</td>\n",
              "      <td>10.24</td>\n",
              "      <td>71.43</td>\n",
              "    </tr>\n",
              "    <tr>\n",
              "      <th>2</th>\n",
              "      <td>contacts_show</td>\n",
              "      <td>796</td>\n",
              "      <td>93</td>\n",
              "      <td>4.52</td>\n",
              "      <td>31.74</td>\n",
              "      <td>88.57</td>\n",
              "    </tr>\n",
              "    <tr>\n",
              "      <th>4</th>\n",
              "      <td>map</td>\n",
              "      <td>790</td>\n",
              "      <td>180</td>\n",
              "      <td>4.49</td>\n",
              "      <td>61.43</td>\n",
              "      <td>69.23</td>\n",
              "    </tr>\n",
              "    <tr>\n",
              "      <th>6</th>\n",
              "      <td>search</td>\n",
              "      <td>747</td>\n",
              "      <td>132</td>\n",
              "      <td>4.25</td>\n",
              "      <td>45.05</td>\n",
              "      <td>73.33</td>\n",
              "    </tr>\n",
              "    <tr>\n",
              "      <th>3</th>\n",
              "      <td>favorites_add</td>\n",
              "      <td>376</td>\n",
              "      <td>42</td>\n",
              "      <td>2.14</td>\n",
              "      <td>14.33</td>\n",
              "      <td>84.00</td>\n",
              "    </tr>\n",
              "    <tr>\n",
              "      <th>7</th>\n",
              "      <td>tips_click</td>\n",
              "      <td>175</td>\n",
              "      <td>50</td>\n",
              "      <td>0.99</td>\n",
              "      <td>17.06</td>\n",
              "      <td>53.76</td>\n",
              "    </tr>\n",
              "    <tr>\n",
              "      <th>1</th>\n",
              "      <td>contacts_call</td>\n",
              "      <td>39</td>\n",
              "      <td>7</td>\n",
              "      <td>0.22</td>\n",
              "      <td>2.39</td>\n",
              "      <td>23.33</td>\n",
              "    </tr>\n",
              "  </tbody>\n",
              "</table>\n",
              "</div>"
            ],
            "text/plain": [
              "         Событие  Количество событий  Количество пользователей  % событий  \\\n",
              "8      tips_show               11313                       260      64.29   \n",
              "0    advert_open                2253                       105      12.80   \n",
              "5    photos_show                1107                        30       6.29   \n",
              "2  contacts_show                 796                        93       4.52   \n",
              "4            map                 790                       180       4.49   \n",
              "6         search                 747                       132       4.25   \n",
              "3  favorites_add                 376                        42       2.14   \n",
              "7     tips_click                 175                        50       0.99   \n",
              "1  contacts_call                  39                         7       0.22   \n",
              "\n",
              "   % пользователей  шаговый % пользователей  \n",
              "8            88.74                      NaN  \n",
              "0            35.84                    79.55  \n",
              "5            10.24                    71.43  \n",
              "2            31.74                    88.57  \n",
              "4            61.43                    69.23  \n",
              "6            45.05                    73.33  \n",
              "3            14.33                    84.00  \n",
              "7            17.06                    53.76  \n",
              "1             2.39                    23.33  "
            ]
          },
          "execution_count": 119,
          "metadata": {},
          "output_type": "execute_result"
        }
      ],
      "source": [
        "event_funnel = active_users_3.groupby('event_name').agg({'user_id': ['count', 'nunique']}).reset_index()\n",
        "event_funnel.columns = ['Событие', 'Количество событий', 'Количество пользователей']\n",
        "event_funnel['% событий'] = round(100*event_funnel['Количество событий'] / len(active_users_3),2)\n",
        "event_funnel['% пользователей'] = round(100*event_funnel['Количество пользователей'] / len(active_users),2)\n",
        "event_funnel =event_funnel.sort_values(by='Количество пользователей', ascending=False)\n",
        "event_funnel['шаговый % пользователей'] = round(100*event_funnel['Количество пользователей']/event_funnel['Количество пользователей'].shift(1),2)\n",
        "event_funnel.sort_values(by = 'Количество событий', ascending = False)"
      ]
    },
    {
      "cell_type": "code",
      "execution_count": null,
      "metadata": {
        "id": "cIN1nUnaqQo8",
        "outputId": "cb25bf27-5957-42ce-d1eb-3a047adea15f"
      },
      "outputs": [
        {
          "data": {
            "text/plain": [
              "6.82506405776846"
            ]
          },
          "execution_count": 120,
          "metadata": {},
          "output_type": "execute_result"
        }
      ],
      "source": [
        "(active_users['user_id'].nunique() / df['user_id'].nunique()) * 100"
      ]
    },
    {
      "cell_type": "markdown",
      "metadata": {
        "id": "MaZZb28AqQo9"
      },
      "source": [
        "Вывод:\n",
        "\n",
        "\n",
        "87% среднеалоактивных пользователей видят рекомендованные объявления (63% всех событий). 12% пользователей открывают фотографии объявления (8% всех событий). 36% переходят на карточку объявления. 32% смотрят контакты продавца. Конверсия 7%"
      ]
    },
    {
      "cell_type": "markdown",
      "metadata": {
        "id": "dtvLuKhRqQo-"
      },
      "source": [
        "Общий вывод:\n",
        "\n",
        "Частоте действий:\n",
        "\n",
        "Новички приложения. Можно сказать случайные пользователи. Всего 13% интересуются контактами продавца, но 33% смотрят на карту размещения объявления.\n",
        "\n",
        "Малоактивные пользователи. Самый низкий процент просмотра рекомендованных объявлений - 46%. Самый низкий процент просмотра карты размещения объявления - 18%. Зато самый высокий процент пользователей, которые звонят прям внутри приложения - 10%.\n",
        "\n",
        "Среднеактивные пользователи. Более-менее вовлеченные пользователи. По сравнению с предыдущим сегментом возрос процент пользователей, которые открывают карточки объявлений - 23%, и переходят по рекомендованным объявлениям - 15% пользователей.\n",
        "\n",
        "Активные пользователи. Из интересного стоит отметить, что очень мало пользователей смотрят на фотографии в объявлении 12% (слабо интересуются состоянием товара?), высокий процент просмотра карты объявления - 60%.\n",
        "\n",
        "Конверсия в целевое действие\n",
        "\n",
        "У всех сегментов, кроме новичков, приемерно одинаковый показатель пользовательской конверсии в целевое действие (пользователи, которые посмотрели контакты в объявлении/общее количество пользователей) - примерно 30%."
      ]
    },
    {
      "cell_type": "markdown",
      "metadata": {
        "id": "FwKhjpCJqQo_"
      },
      "source": [
        "***Проверка статистических гипотез***"
      ]
    },
    {
      "cell_type": "markdown",
      "metadata": {
        "id": "7iAHKSwEqQpA"
      },
      "source": [
        "**Гипотеза 1**\n",
        "\n",
        "***Конверсии пользователей yandex и google***"
      ]
    },
    {
      "cell_type": "markdown",
      "metadata": {
        "id": "eXdG9yCnqQpA"
      },
      "source": [
        "Некоторые пользователи установили приложение по ссылке из yandex, другие — из google. Проверим гипотезу о разности между конверсиями в просмотры контактов среди этих двух групп.\n",
        "\n",
        "Выбираем метод z-теста, так как нам необходимо проверить гипотезы для долей (конверсия - доля пользователей, совершивших contacts_show).\n",
        "\n",
        "H0: Конверсии в просмотры контактов пользователей google и yandex одинаковы\n",
        "\n",
        "H1: Между конверсией пользователей google и yandex есть значимая разница.\n",
        "\n",
        "alpha = 0.05\n",
        "\n",
        "Всего пользователей:"
      ]
    },
    {
      "cell_type": "markdown",
      "metadata": {
        "id": "X-XKpO53qQpB"
      },
      "source": [
        "<div class=\"alert alert-block alert-success\">✔️\n",
        "    \n",
        "\n",
        "__Комментарий от тимлида №1__\n",
        "\n",
        "Верная интерпритация нулевой и альтернативной гипотез\n",
        "</div>"
      ]
    },
    {
      "cell_type": "code",
      "execution_count": null,
      "metadata": {
        "id": "t4PUhA4RqQpB",
        "outputId": "42f85ce5-46f1-450a-b867-c4d4a2b286d6"
      },
      "outputs": [
        {
          "data": {
            "text/html": [
              "<div>\n",
              "<style scoped>\n",
              "    .dataframe tbody tr th:only-of-type {\n",
              "        vertical-align: middle;\n",
              "    }\n",
              "\n",
              "    .dataframe tbody tr th {\n",
              "        vertical-align: top;\n",
              "    }\n",
              "\n",
              "    .dataframe thead th {\n",
              "        text-align: right;\n",
              "    }\n",
              "</style>\n",
              "<table border=\"1\" class=\"dataframe\">\n",
              "  <thead>\n",
              "    <tr style=\"text-align: right;\">\n",
              "      <th></th>\n",
              "      <th>source</th>\n",
              "      <th>user_id</th>\n",
              "    </tr>\n",
              "  </thead>\n",
              "  <tbody>\n",
              "    <tr>\n",
              "      <th>0</th>\n",
              "      <td>google</td>\n",
              "      <td>1129</td>\n",
              "    </tr>\n",
              "    <tr>\n",
              "      <th>1</th>\n",
              "      <td>other</td>\n",
              "      <td>1230</td>\n",
              "    </tr>\n",
              "    <tr>\n",
              "      <th>2</th>\n",
              "      <td>yandex</td>\n",
              "      <td>1934</td>\n",
              "    </tr>\n",
              "  </tbody>\n",
              "</table>\n",
              "</div>"
            ],
            "text/plain": [
              "   source  user_id\n",
              "0  google     1129\n",
              "1   other     1230\n",
              "2  yandex     1934"
            ]
          },
          "execution_count": 121,
          "metadata": {},
          "output_type": "execute_result"
        }
      ],
      "source": [
        "source = df.groupby('source').user_id.nunique().reset_index()\n",
        "source"
      ]
    },
    {
      "cell_type": "code",
      "execution_count": null,
      "metadata": {
        "id": "l-BLh_iWqQpC",
        "outputId": "a07162e3-26ff-435d-f904-a822ec4cef3d"
      },
      "outputs": [
        {
          "data": {
            "text/plain": [
              "2    1934\n",
              "Name: user_id, dtype: int64"
            ]
          },
          "execution_count": 122,
          "metadata": {},
          "output_type": "execute_result"
        }
      ],
      "source": [
        "yandex_all = source.loc[source['source']=='yandex']['user_id']\n",
        "yandex_all"
      ]
    },
    {
      "cell_type": "code",
      "execution_count": null,
      "metadata": {
        "id": "es4ibLesqQpC",
        "outputId": "ca0b0bd0-8d62-47b6-c68d-a651efb93012"
      },
      "outputs": [
        {
          "data": {
            "text/plain": [
              "0    1129\n",
              "Name: user_id, dtype: int64"
            ]
          },
          "execution_count": 123,
          "metadata": {},
          "output_type": "execute_result"
        }
      ],
      "source": [
        "google_all = source.loc[source['source']=='google']['user_id']\n",
        "google_all"
      ]
    },
    {
      "cell_type": "code",
      "execution_count": null,
      "metadata": {
        "id": "orqFi-5wqQpD",
        "outputId": "92686cfa-f7c9-4d09-fc13-c53bf132058f"
      },
      "outputs": [
        {
          "data": {
            "text/html": [
              "<div>\n",
              "<style scoped>\n",
              "    .dataframe tbody tr th:only-of-type {\n",
              "        vertical-align: middle;\n",
              "    }\n",
              "\n",
              "    .dataframe tbody tr th {\n",
              "        vertical-align: top;\n",
              "    }\n",
              "\n",
              "    .dataframe thead th {\n",
              "        text-align: right;\n",
              "    }\n",
              "</style>\n",
              "<table border=\"1\" class=\"dataframe\">\n",
              "  <thead>\n",
              "    <tr style=\"text-align: right;\">\n",
              "      <th></th>\n",
              "      <th>source</th>\n",
              "      <th>user_id</th>\n",
              "    </tr>\n",
              "  </thead>\n",
              "  <tbody>\n",
              "    <tr>\n",
              "      <th>0</th>\n",
              "      <td>google</td>\n",
              "      <td>275</td>\n",
              "    </tr>\n",
              "    <tr>\n",
              "      <th>1</th>\n",
              "      <td>other</td>\n",
              "      <td>228</td>\n",
              "    </tr>\n",
              "    <tr>\n",
              "      <th>2</th>\n",
              "      <td>yandex</td>\n",
              "      <td>478</td>\n",
              "    </tr>\n",
              "  </tbody>\n",
              "</table>\n",
              "</div>"
            ],
            "text/plain": [
              "   source  user_id\n",
              "0  google      275\n",
              "1   other      228\n",
              "2  yandex      478"
            ]
          },
          "execution_count": 124,
          "metadata": {},
          "output_type": "execute_result"
        }
      ],
      "source": [
        "contacts_show = df[df.event_name=='contacts_show'].groupby('source').user_id.nunique().reset_index()\n",
        "contacts_show"
      ]
    },
    {
      "cell_type": "code",
      "execution_count": null,
      "metadata": {
        "id": "vPvYkOwjqQpD",
        "outputId": "56b3681e-dfc3-4a8e-a79b-7b567b21a0e4"
      },
      "outputs": [
        {
          "data": {
            "text/plain": [
              "0    275\n",
              "Name: user_id, dtype: int64"
            ]
          },
          "execution_count": 125,
          "metadata": {},
          "output_type": "execute_result"
        }
      ],
      "source": [
        "contacts_google = contacts_show.loc[contacts_show['source']=='google']['user_id']\n",
        "contacts_google"
      ]
    },
    {
      "cell_type": "code",
      "execution_count": null,
      "metadata": {
        "id": "ED7ItfMFqQpE",
        "outputId": "9d301526-c71e-4ae1-b7aa-3fd9cb5f69a0"
      },
      "outputs": [
        {
          "data": {
            "text/plain": [
              "2    478\n",
              "Name: user_id, dtype: int64"
            ]
          },
          "execution_count": 126,
          "metadata": {},
          "output_type": "execute_result"
        }
      ],
      "source": [
        "contacts_yandex = contacts_show.loc[contacts_show['source']=='yandex']['user_id']\n",
        "contacts_yandex"
      ]
    },
    {
      "cell_type": "code",
      "execution_count": null,
      "metadata": {
        "id": "nhfjwiQDqQpF",
        "outputId": "964b1400-acd5-4f6e-b30d-1782462bfa84"
      },
      "outputs": [
        {
          "name": "stdout",
          "output_type": "stream",
          "text": [
            "p-значение:  [0.8244316]\n",
            "Не получилось отвергнуть нулевую гипотезу, нет оснований считать доли разными\n"
          ]
        }
      ],
      "source": [
        "alpha = .05 # критический уровень статистической значимости\n",
        "\n",
        "successes = np.array([contacts_google, contacts_yandex]) # к-во пользователеЙ совершивших contacts_show в каждой группе\n",
        "trials = np.array([google_all, yandex_all]) # к-во пользователейв каждой группе\n",
        "\n",
        "# пропорция успехов в первой группе:\n",
        "p1 = successes[0]/trials[0]\n",
        "\n",
        "# пропорция успехов во второй группе:\n",
        "p2 = successes[1]/trials[1]\n",
        "\n",
        "# пропорция успехов в комбинированном датасете:\n",
        "p_combined = (successes[0] + successes[1]) / (trials[0] + trials[1])\n",
        "\n",
        "# разница пропорций в датасетах\n",
        "difference = p1 - p2\n",
        "\n",
        "# считаем z-статистику и задаем стандартное нормальное распределение, где среднее 0, а ст-ное отклонение 1\n",
        "z_value = difference / mth.sqrt(p_combined * (1 - p_combined) * (1/trials[0] + 1/trials[1]))\n",
        "distr = st.norm(0, 1)\n",
        "\n",
        "p_value = (1 - distr.cdf(abs(z_value))) * 2\n",
        "print('p-значение: ', p_value)\n",
        "\n",
        "# проверка гипотезы о равенстве долей\n",
        "if (p_value < alpha):\n",
        "    print(\"Отвергаем нулевую гипотезу: между долями есть значимая разница\")\n",
        "else:\n",
        "    print(\"Не получилось отвергнуть нулевую гипотезу, нет оснований считать доли разными\")"
      ]
    },
    {
      "cell_type": "markdown",
      "metadata": {
        "id": "NLxRqIFJqQpG"
      },
      "source": [
        "Вывод:\n",
        "\n",
        "Статистически значимой разницы между конверсиями пользователей google и yandex нет."
      ]
    },
    {
      "cell_type": "markdown",
      "metadata": {
        "id": "6cAHi2ebqQpG"
      },
      "source": [
        "**Можно ли сменить 2 гипотезу? Спасибо**"
      ]
    },
    {
      "cell_type": "markdown",
      "metadata": {
        "id": "t0cOujjxqQpH"
      },
      "source": [
        "<div class=\"alert alert-block alert-danger\">✍\n",
        "    \n",
        "\n",
        "__Комментарий от тимлида №1__\n",
        "\n",
        "Можно. А где она?)"
      ]
    },
    {
      "cell_type": "markdown",
      "metadata": {
        "id": "tk-62SGWqQpH"
      },
      "source": [
        "<div>\n",
        "    <span style=\"color:blue\">\n",
        "\n",
        "__Комментарий от студента №1__\n",
        "\n",
        "Изменения №1 (гипотеза 2)\n",
        "</div>"
      ]
    },
    {
      "cell_type": "markdown",
      "metadata": {
        "id": "qoIq02vkqQpI"
      },
      "source": [
        "**Гипотеза 2**\n",
        "\n",
        "***Конверсии среднеактивных и активных пользователей***\n",
        "\n",
        "Внутри работы мы выделели четыре сегмента от общего числа пользователей. Проверим гипотезу о разности между конверсиями в просмотры контактов среднеактивных и активных пользователей.\n",
        "\n",
        "H0: Конверсии в просмотры контактов среднеактивных и активных пользователей одинаковы\n",
        "\n",
        "H1: Между конверсией среднеактивных и активных пользователей есть значимая разница.\n",
        "\n",
        "alpha = 0.05"
      ]
    },
    {
      "cell_type": "code",
      "execution_count": null,
      "metadata": {
        "id": "Ml2H6pBUqQpI"
      },
      "outputs": [],
      "source": [
        "medium_active_events = df.merge(medium_active_users, how = 'inner')"
      ]
    },
    {
      "cell_type": "code",
      "execution_count": null,
      "metadata": {
        "scrolled": true,
        "id": "KH5sJSKNqQpI",
        "outputId": "2b29b852-bd50-4947-e51d-f8b9e6e70d44"
      },
      "outputs": [
        {
          "name": "stdout",
          "output_type": "stream",
          "text": [
            "Всего среднеактивных пользователей: 760\n",
            "Cреднеактивных пользователей, совершивших contacts_show: 1695\n"
          ]
        }
      ],
      "source": [
        "print ('Всего среднеактивных пользователей:', len(medium_active_users))\n",
        "print ('Cреднеактивных пользователей, совершивших contacts_show:', len(medium_active_events.loc[medium_active_events['event_name']=='contacts_show']))"
      ]
    },
    {
      "cell_type": "code",
      "execution_count": null,
      "metadata": {
        "id": "TUy13o-pqQpJ"
      },
      "outputs": [],
      "source": [
        "medium_users = len(medium_active_users)\n",
        "medium_contact_users = len(medium_active_events.loc[medium_active_events['event_name']=='contacts_show'])"
      ]
    },
    {
      "cell_type": "code",
      "execution_count": null,
      "metadata": {
        "id": "AZf_n_88qQpJ"
      },
      "outputs": [],
      "source": [
        "active_events = df.merge(active_users, how = 'inner')"
      ]
    },
    {
      "cell_type": "code",
      "execution_count": null,
      "metadata": {
        "id": "mHRd2CC_qQpJ",
        "outputId": "0c8a32d1-6fc2-4908-8aee-7362c2ff8dc2"
      },
      "outputs": [
        {
          "name": "stdout",
          "output_type": "stream",
          "text": [
            "Всего активных пользователей: 293\n",
            "Активных пользователей, совершивших contacts_show: 796\n"
          ]
        }
      ],
      "source": [
        "print ('Всего активных пользователей:', len(active_users))\n",
        "print ('Активных пользователей, совершивших contacts_show:', len(active_events.loc[active_events['event_name']=='contacts_show']))"
      ]
    },
    {
      "cell_type": "code",
      "execution_count": null,
      "metadata": {
        "id": "Spv4MNxaqQpJ"
      },
      "outputs": [],
      "source": [
        "all_active_users = len(active_users)\n",
        "active_contact_users = len(active_events.loc[active_events['event_name']=='contacts_show'])"
      ]
    },
    {
      "cell_type": "code",
      "execution_count": null,
      "metadata": {
        "id": "xXt9FwMHqQpK",
        "outputId": "11b273a3-3308-4513-8825-adce4ee946bd"
      },
      "outputs": [
        {
          "name": "stdout",
          "output_type": "stream",
          "text": [
            "p-значение:  0.00015525233877533573\n",
            "Отвергаем нулевую гипотезу: между долями есть значимая разница\n"
          ]
        }
      ],
      "source": [
        "alpha = .05 # критический уровень статистической значимости\n",
        "\n",
        "successes = np.array([all_active_users, medium_users]) # к-во пользователеЙ совершивших contacts_show в каждой группе\n",
        "trials = np.array([active_contact_users, medium_contact_users]) # к-во пользователейв каждой группе\n",
        "\n",
        "# пропорция успехов в первой группе:\n",
        "p1 = successes[0]/trials[0]\n",
        "\n",
        "# пропорция успехов во второй группе:\n",
        "p2 = successes[1]/trials[1]\n",
        "\n",
        "# пропорция успехов в комбинированном датасете:\n",
        "p_combined = (successes[0] + successes[1]) / (trials[0] + trials[1])\n",
        "\n",
        "# разница пропорций в датасетах\n",
        "difference = p1 - p2\n",
        "\n",
        "# считаем z-статистику и задаем стандартное нормальное распределение, где среднее 0, а ст-ное отклонение 1\n",
        "z_value = difference / mth.sqrt(p_combined * (1 - p_combined) * (1/trials[0] + 1/trials[1]))\n",
        "distr = st.norm(0, 1)\n",
        "\n",
        "p_value = (1 - distr.cdf(abs(z_value))) * 2\n",
        "print('p-значение: ', p_value)\n",
        "\n",
        "# проверка гипотезы о равенстве долей\n",
        "if (p_value < alpha):\n",
        "    print(\"Отвергаем нулевую гипотезу: между долями есть значимая разница\")\n",
        "else:\n",
        "    print(\"Не получилось отвергнуть нулевую гипотезу, нет оснований считать доли разными\")"
      ]
    },
    {
      "cell_type": "markdown",
      "metadata": {
        "id": "qgdWy7wfqQpK"
      },
      "source": [
        "Вывод по 2 гипотезе:\n",
        "\n",
        "Результат теста показал, что есть статистически значимая разница между конверсиями среднеактивных и активных пользователей"
      ]
    },
    {
      "cell_type": "markdown",
      "metadata": {
        "id": "Pmb71gnzqQpK"
      },
      "source": [
        "Вывод:\n",
        "Результаты z-тестов на проверке гипотез показали:\n",
        "\n",
        "В конверсии между пользователями google и yandex нет статистически значимой разницы.\n",
        "\n",
        "Есть статистически значимая разница между конверсиями среднеактивных и активных пользователей"
      ]
    },
    {
      "cell_type": "markdown",
      "metadata": {
        "id": "0FZyJexjqQpK"
      },
      "source": [
        "<div class=\"alert alert-block alert-success\">✔️\n",
        "    \n",
        "\n",
        "__Комментарий от тимлида №1__\n",
        "\n",
        "Методологически проверка гипотез проведена верно и наглядный вывод результатов. Так держать!\n",
        "</div>"
      ]
    },
    {
      "cell_type": "markdown",
      "metadata": {
        "id": "RBgu1nUiqQpK"
      },
      "source": []
    },
    {
      "cell_type": "markdown",
      "metadata": {
        "id": "NzBFOlQOqQpK"
      },
      "source": [
        "***Общие выводы и рекомендации по проекту***\n",
        "\n",
        "Подводя итоги ответим на главные вопросы:\n",
        "\n",
        "Пользователи какой группы склонны возвращаться в приложение?\n",
        "Коэффициент удрежания retention rate во всех сегментах более-менее одинаковый. Можно отметить, что хуже в приложение возвращаются как раз активные пользователи. Они видимо сидят в приложении по принципу \"редко, но метко\". Среднеактивные пользователи чаще возвращаются.\n",
        "\n",
        "Пользователи какой группы чаще делает целевое событие?\n",
        "По полученным вычислениям конверсии, до события contacts_show доходят ~23% пользователей. 77% - отток от общего количества пришедших пользователей.\n",
        "\n",
        "Рекомендации:\n",
        "\n",
        "Большое количество пользователей состоит из новичков, которые провели в приложении всего один сеанс. Необходимо потратить больше сил на вовлечение их в наше приложение.\n",
        "\n",
        "Показатель retention rate во всех сегментах и во всех когортах с каждым лайфтаймом сильно падает. Стоит поработать над удержанием посещения приложения пользователями. (Дополнительные рассылки, различные поощрения)\n",
        "\n",
        "Очень малый процент пользователей смотрят фотографии объявления. Возможно они плохого качества или их вовсе нет. Стимулировать продавцов красиво оформлять свой товар.\n",
        "\n",
        "Упростить процесс поиска в приложении. Некоторые пользователи достаточно много проводят время в приложении, но количество contacts_show от этого не растет. Возможно проблемы с навигацией.\n",
        "\n",
        "Возможно интерфейс приложения неинтуитивно понятный, нужно провести тест для обновление оболочки. Пользователь может путаться в большом количестве рекомендаций.\n",
        "\n",
        "Так же необходимо визуально завлечь пользователей на колонку \"поиск\" (возможно увеличить кнопку). Скорее всего человек чаще смотрит по рекомендациям чем по поиску"
      ]
    },
    {
      "cell_type": "markdown",
      "metadata": {
        "id": "E8dpmMPNqQpL"
      },
      "source": [
        "<div class=\"alert alert-block alert-warning\">📝\n",
        "    \n",
        "\n",
        "__Комментарий от тимлида №1__\n",
        "\n",
        "Итоговый вывод завершает твое исследование. Представлены основные результаты полученные в ходе анализа, но самое главное - даны рекомендации по  развитию приложения. Это важное качество для аналитика. Развивай его и дальше\n",
        "    \n",
        "    \n",
        "---\n",
        "    \n",
        "Не забудь подкорректировать вывод после исправлений\n",
        "\n",
        "</div>\n",
        "\n"
      ]
    },
    {
      "cell_type": "markdown",
      "metadata": {
        "id": "GdGIxa1JqQpL"
      },
      "source": []
    },
    {
      "cell_type": "markdown",
      "metadata": {
        "id": "ZVpbjpMUqQpL"
      },
      "source": []
    },
    {
      "cell_type": "markdown",
      "metadata": {
        "id": "o6vXVTu4qQpL"
      },
      "source": [
        "<div class=\"alert alert-block alert-warning\">📝\n",
        "Комментарий от тимлида №1 </b>\n",
        "\n",
        "\n",
        "\n",
        "У тебя получилась очень сильная и хорошая работа. Здорово, что расчеты ты сопровождаешь иллюстрациями, а так же не забываешь про комментарии, твой проект интересно проверять.\n",
        "\n",
        "---\n",
        "\n",
        "Нужно поправить:\n",
        "\n",
        "1) Расчёт конверсии по проекту и по ссегментам\n",
        "\n",
        "2) Обоснование сегментации\n",
        "\n",
        "3) Собственная гипотеза\n",
        "\n",
        "4) Подправить выводы, после изменений\n",
        "\n",
        "----\n",
        "</div>"
      ]
    },
    {
      "cell_type": "markdown",
      "metadata": {
        "id": "a7ZsgMroqQpM"
      },
      "source": []
    },
    {
      "cell_type": "markdown",
      "metadata": {
        "id": "wurFpgVPqQpM"
      },
      "source": [
        "<div class=\"alert alert-block alert-success\">✔️\n",
        "    \n",
        "\n",
        "__Комментарий от тимлида №2__\n",
        "    \n",
        "ЗЫ. Презентацию присылай вместе с дашбордом. Но перед этим лучше покажи её в пачке\n",
        "\n",
        "От себя хочу порекомендовать тебе отличную книгу про язык Python. Она очень классная (можно купить как новую, так и на Авито попадается. Вот ссылка на pdf этой книги)\n",
        "    \n",
        "https://monster-book.com/avtomatizaciya-zadach-s-python\n",
        "    \n",
        "---\n",
        "    \n",
        "\n",
        "\n",
        "Все замечания учтены. Успехов на АВ тесте!\n",
        "</div>"
      ]
    },
    {
      "cell_type": "code",
      "execution_count": null,
      "metadata": {
        "id": "QbEZGvBpqQpM"
      },
      "outputs": [],
      "source": []
    }
  ],
  "metadata": {
    "ExecuteTimeLog": [
      {
        "duration": 1388,
        "start_time": "2023-06-22T17:04:12.543Z"
      },
      {
        "duration": 341,
        "start_time": "2023-06-22T17:04:25.350Z"
      },
      {
        "duration": 1219,
        "start_time": "2023-06-22T17:04:32.461Z"
      },
      {
        "duration": 327,
        "start_time": "2023-06-22T17:04:33.682Z"
      },
      {
        "duration": 11,
        "start_time": "2023-06-22T17:12:56.964Z"
      },
      {
        "duration": 14,
        "start_time": "2023-06-22T17:13:45.307Z"
      },
      {
        "duration": 7,
        "start_time": "2023-06-22T17:14:00.992Z"
      },
      {
        "duration": 3,
        "start_time": "2023-06-22T17:20:20.693Z"
      },
      {
        "duration": 27,
        "start_time": "2023-06-22T17:20:31.086Z"
      },
      {
        "duration": 6,
        "start_time": "2023-06-22T17:20:40.462Z"
      },
      {
        "duration": 10,
        "start_time": "2023-06-22T17:20:49.870Z"
      },
      {
        "duration": 6,
        "start_time": "2023-06-22T17:21:00.671Z"
      },
      {
        "duration": 21,
        "start_time": "2023-06-22T17:21:07.167Z"
      },
      {
        "duration": 41,
        "start_time": "2023-06-22T17:22:02.375Z"
      },
      {
        "duration": 24,
        "start_time": "2023-06-22T17:22:15.472Z"
      },
      {
        "duration": 10,
        "start_time": "2023-06-22T17:22:38.386Z"
      },
      {
        "duration": 13,
        "start_time": "2023-06-22T17:22:48.451Z"
      },
      {
        "duration": 14,
        "start_time": "2023-06-22T17:22:56.502Z"
      },
      {
        "duration": 5,
        "start_time": "2023-06-22T17:23:04.524Z"
      },
      {
        "duration": 10,
        "start_time": "2023-06-22T17:23:12.901Z"
      },
      {
        "duration": 9,
        "start_time": "2023-06-22T17:23:19.758Z"
      },
      {
        "duration": 24,
        "start_time": "2023-06-22T17:23:25.689Z"
      },
      {
        "duration": 3,
        "start_time": "2023-06-22T17:24:06.958Z"
      },
      {
        "duration": 13,
        "start_time": "2023-06-22T17:24:13.463Z"
      },
      {
        "duration": 10,
        "start_time": "2023-06-22T17:24:19.743Z"
      },
      {
        "duration": 1544,
        "start_time": "2023-06-23T03:20:24.448Z"
      },
      {
        "duration": 361,
        "start_time": "2023-06-23T03:20:25.994Z"
      },
      {
        "duration": 14,
        "start_time": "2023-06-23T03:20:26.357Z"
      },
      {
        "duration": 12,
        "start_time": "2023-06-23T03:20:26.373Z"
      },
      {
        "duration": 10,
        "start_time": "2023-06-23T03:20:26.388Z"
      },
      {
        "duration": 7,
        "start_time": "2023-06-23T03:20:26.400Z"
      },
      {
        "duration": 52,
        "start_time": "2023-06-23T03:20:26.409Z"
      },
      {
        "duration": 14,
        "start_time": "2023-06-23T03:20:26.463Z"
      },
      {
        "duration": 21,
        "start_time": "2023-06-23T03:20:26.479Z"
      },
      {
        "duration": 6,
        "start_time": "2023-06-23T03:20:26.502Z"
      },
      {
        "duration": 24,
        "start_time": "2023-06-23T03:20:26.510Z"
      },
      {
        "duration": 49,
        "start_time": "2023-06-23T03:20:26.535Z"
      },
      {
        "duration": 56,
        "start_time": "2023-06-23T03:20:26.586Z"
      },
      {
        "duration": 11,
        "start_time": "2023-06-23T03:20:26.645Z"
      },
      {
        "duration": 33,
        "start_time": "2023-06-23T03:20:26.657Z"
      },
      {
        "duration": 15,
        "start_time": "2023-06-23T03:20:26.692Z"
      },
      {
        "duration": 6,
        "start_time": "2023-06-23T03:20:26.709Z"
      },
      {
        "duration": 15,
        "start_time": "2023-06-23T03:20:26.716Z"
      },
      {
        "duration": 20,
        "start_time": "2023-06-23T03:20:26.732Z"
      },
      {
        "duration": 43,
        "start_time": "2023-06-23T03:20:26.753Z"
      },
      {
        "duration": 3,
        "start_time": "2023-06-23T03:20:26.798Z"
      },
      {
        "duration": 24,
        "start_time": "2023-06-23T03:20:26.804Z"
      },
      {
        "duration": 14,
        "start_time": "2023-06-23T03:20:26.830Z"
      },
      {
        "duration": 1535,
        "start_time": "2023-06-23T03:41:38.972Z"
      },
      {
        "duration": 1589,
        "start_time": "2023-06-23T03:41:59.514Z"
      },
      {
        "duration": 1441,
        "start_time": "2023-06-23T03:42:11.261Z"
      },
      {
        "duration": 17,
        "start_time": "2023-06-23T03:42:24.405Z"
      },
      {
        "duration": 8,
        "start_time": "2023-06-23T04:23:17.959Z"
      },
      {
        "duration": 12,
        "start_time": "2023-06-23T04:23:49.966Z"
      },
      {
        "duration": 18,
        "start_time": "2023-06-23T04:23:57.136Z"
      },
      {
        "duration": 27,
        "start_time": "2023-06-23T04:25:11.666Z"
      },
      {
        "duration": 3,
        "start_time": "2023-06-23T04:25:19.147Z"
      },
      {
        "duration": 3,
        "start_time": "2023-06-23T04:25:25.714Z"
      },
      {
        "duration": 24,
        "start_time": "2023-06-23T05:38:42.591Z"
      },
      {
        "duration": 8,
        "start_time": "2023-06-23T05:38:49.102Z"
      },
      {
        "duration": 1324,
        "start_time": "2023-06-23T07:12:27.896Z"
      },
      {
        "duration": 451,
        "start_time": "2023-06-23T07:12:29.222Z"
      },
      {
        "duration": 13,
        "start_time": "2023-06-23T07:12:29.675Z"
      },
      {
        "duration": 16,
        "start_time": "2023-06-23T07:12:29.690Z"
      },
      {
        "duration": 21,
        "start_time": "2023-06-23T07:12:29.709Z"
      },
      {
        "duration": 15,
        "start_time": "2023-06-23T07:12:29.732Z"
      },
      {
        "duration": 54,
        "start_time": "2023-06-23T07:12:29.749Z"
      },
      {
        "duration": 70,
        "start_time": "2023-06-23T07:12:29.805Z"
      },
      {
        "duration": 26,
        "start_time": "2023-06-23T07:12:29.877Z"
      },
      {
        "duration": 7,
        "start_time": "2023-06-23T07:12:29.905Z"
      },
      {
        "duration": 48,
        "start_time": "2023-06-23T07:12:29.913Z"
      },
      {
        "duration": 31,
        "start_time": "2023-06-23T07:12:29.963Z"
      },
      {
        "duration": 31,
        "start_time": "2023-06-23T07:12:29.996Z"
      },
      {
        "duration": 67,
        "start_time": "2023-06-23T07:12:30.030Z"
      },
      {
        "duration": 40,
        "start_time": "2023-06-23T07:12:30.099Z"
      },
      {
        "duration": 39,
        "start_time": "2023-06-23T07:12:30.141Z"
      },
      {
        "duration": 40,
        "start_time": "2023-06-23T07:12:30.182Z"
      },
      {
        "duration": 41,
        "start_time": "2023-06-23T07:12:30.224Z"
      },
      {
        "duration": 60,
        "start_time": "2023-06-23T07:12:30.267Z"
      },
      {
        "duration": 21,
        "start_time": "2023-06-23T07:12:30.328Z"
      },
      {
        "duration": 68,
        "start_time": "2023-06-23T07:12:30.351Z"
      },
      {
        "duration": 37,
        "start_time": "2023-06-23T07:12:30.421Z"
      },
      {
        "duration": 111,
        "start_time": "2023-06-23T07:12:30.461Z"
      },
      {
        "duration": 32,
        "start_time": "2023-06-23T07:12:30.574Z"
      },
      {
        "duration": 76,
        "start_time": "2023-06-23T07:12:30.607Z"
      },
      {
        "duration": 82,
        "start_time": "2023-06-23T07:12:30.685Z"
      },
      {
        "duration": 58,
        "start_time": "2023-06-23T07:12:30.769Z"
      },
      {
        "duration": 9,
        "start_time": "2023-06-23T07:12:30.829Z"
      },
      {
        "duration": 76,
        "start_time": "2023-06-23T07:12:30.840Z"
      },
      {
        "duration": 163,
        "start_time": "2023-06-23T07:12:30.918Z"
      },
      {
        "duration": 81,
        "start_time": "2023-06-23T07:12:31.084Z"
      },
      {
        "duration": 78,
        "start_time": "2023-06-23T15:15:10.966Z"
      },
      {
        "duration": 8,
        "start_time": "2023-06-23T15:15:39.140Z"
      },
      {
        "duration": 1761,
        "start_time": "2023-06-23T15:15:43.420Z"
      },
      {
        "duration": 391,
        "start_time": "2023-06-23T15:15:45.184Z"
      },
      {
        "duration": 12,
        "start_time": "2023-06-23T15:15:45.578Z"
      },
      {
        "duration": 52,
        "start_time": "2023-06-23T15:15:45.604Z"
      },
      {
        "duration": 10,
        "start_time": "2023-06-23T15:15:45.658Z"
      },
      {
        "duration": 18,
        "start_time": "2023-06-23T15:15:45.671Z"
      },
      {
        "duration": 61,
        "start_time": "2023-06-23T15:15:45.691Z"
      },
      {
        "duration": 38,
        "start_time": "2023-06-23T15:15:45.754Z"
      },
      {
        "duration": 87,
        "start_time": "2023-06-23T15:15:45.794Z"
      },
      {
        "duration": 7,
        "start_time": "2023-06-23T15:15:45.885Z"
      },
      {
        "duration": 50,
        "start_time": "2023-06-23T15:15:45.895Z"
      },
      {
        "duration": 18,
        "start_time": "2023-06-23T15:15:45.947Z"
      },
      {
        "duration": 11,
        "start_time": "2023-06-23T15:15:45.967Z"
      },
      {
        "duration": 50,
        "start_time": "2023-06-23T15:15:45.979Z"
      },
      {
        "duration": 46,
        "start_time": "2023-06-23T15:15:46.036Z"
      },
      {
        "duration": 34,
        "start_time": "2023-06-23T15:15:46.084Z"
      },
      {
        "duration": 26,
        "start_time": "2023-06-23T15:15:46.120Z"
      },
      {
        "duration": 32,
        "start_time": "2023-06-23T15:15:46.149Z"
      },
      {
        "duration": 70,
        "start_time": "2023-06-23T15:15:46.184Z"
      },
      {
        "duration": 6,
        "start_time": "2023-06-23T15:15:46.257Z"
      },
      {
        "duration": 13,
        "start_time": "2023-06-23T15:15:46.264Z"
      },
      {
        "duration": 66,
        "start_time": "2023-06-23T15:15:46.279Z"
      },
      {
        "duration": 43,
        "start_time": "2023-06-23T15:15:46.347Z"
      },
      {
        "duration": 3,
        "start_time": "2023-06-23T15:15:46.393Z"
      },
      {
        "duration": 62,
        "start_time": "2023-06-23T15:15:46.398Z"
      },
      {
        "duration": 29,
        "start_time": "2023-06-23T15:15:46.462Z"
      },
      {
        "duration": 43,
        "start_time": "2023-06-23T15:15:46.493Z"
      },
      {
        "duration": 53,
        "start_time": "2023-06-23T15:15:46.540Z"
      },
      {
        "duration": 6,
        "start_time": "2023-06-23T15:15:46.595Z"
      },
      {
        "duration": 40,
        "start_time": "2023-06-23T15:15:46.612Z"
      },
      {
        "duration": 34,
        "start_time": "2023-06-23T15:15:46.655Z"
      },
      {
        "duration": 13,
        "start_time": "2023-06-23T15:15:46.691Z"
      },
      {
        "duration": 23,
        "start_time": "2023-06-23T15:16:04.769Z"
      },
      {
        "duration": 23,
        "start_time": "2023-06-23T15:36:17.238Z"
      },
      {
        "duration": 796,
        "start_time": "2023-06-23T15:36:24.714Z"
      },
      {
        "duration": 175,
        "start_time": "2023-06-23T15:37:38.320Z"
      },
      {
        "duration": 144,
        "start_time": "2023-06-23T15:37:46.974Z"
      },
      {
        "duration": 17,
        "start_time": "2023-06-23T15:37:56.428Z"
      },
      {
        "duration": 18,
        "start_time": "2023-06-23T15:38:03.121Z"
      },
      {
        "duration": 23,
        "start_time": "2023-06-23T15:38:10.069Z"
      },
      {
        "duration": 36,
        "start_time": "2023-06-23T15:38:18.749Z"
      },
      {
        "duration": 35,
        "start_time": "2023-06-23T15:38:24.816Z"
      },
      {
        "duration": 295,
        "start_time": "2023-06-23T15:38:38.923Z"
      },
      {
        "duration": 33,
        "start_time": "2023-06-23T15:38:42.228Z"
      },
      {
        "duration": 182,
        "start_time": "2023-06-23T15:39:04.848Z"
      },
      {
        "duration": 18,
        "start_time": "2023-06-23T15:39:12.442Z"
      },
      {
        "duration": 7,
        "start_time": "2023-06-23T15:39:28.742Z"
      },
      {
        "duration": 16,
        "start_time": "2023-06-23T15:39:34.940Z"
      },
      {
        "duration": 49,
        "start_time": "2023-06-23T15:40:56.664Z"
      },
      {
        "duration": 1700,
        "start_time": "2023-06-24T06:54:17.343Z"
      },
      {
        "duration": 515,
        "start_time": "2023-06-24T06:54:19.048Z"
      },
      {
        "duration": 14,
        "start_time": "2023-06-24T06:54:19.569Z"
      },
      {
        "duration": 36,
        "start_time": "2023-06-24T06:54:19.585Z"
      },
      {
        "duration": 63,
        "start_time": "2023-06-24T06:54:19.629Z"
      },
      {
        "duration": 20,
        "start_time": "2023-06-24T06:54:19.694Z"
      },
      {
        "duration": 36,
        "start_time": "2023-06-24T06:54:19.717Z"
      },
      {
        "duration": 47,
        "start_time": "2023-06-24T06:54:19.755Z"
      },
      {
        "duration": 34,
        "start_time": "2023-06-24T06:54:19.804Z"
      },
      {
        "duration": 18,
        "start_time": "2023-06-24T06:54:19.850Z"
      },
      {
        "duration": 24,
        "start_time": "2023-06-24T06:54:19.872Z"
      },
      {
        "duration": 18,
        "start_time": "2023-06-24T06:54:19.898Z"
      },
      {
        "duration": 20,
        "start_time": "2023-06-24T06:54:19.920Z"
      },
      {
        "duration": 38,
        "start_time": "2023-06-24T06:54:19.942Z"
      },
      {
        "duration": 50,
        "start_time": "2023-06-24T06:54:19.987Z"
      },
      {
        "duration": 47,
        "start_time": "2023-06-24T06:54:20.039Z"
      },
      {
        "duration": 16,
        "start_time": "2023-06-24T06:54:20.088Z"
      },
      {
        "duration": 30,
        "start_time": "2023-06-24T06:54:20.106Z"
      },
      {
        "duration": 20,
        "start_time": "2023-06-24T06:54:20.138Z"
      },
      {
        "duration": 5,
        "start_time": "2023-06-24T06:54:20.160Z"
      },
      {
        "duration": 25,
        "start_time": "2023-06-24T06:54:20.167Z"
      },
      {
        "duration": 10,
        "start_time": "2023-06-24T06:54:20.194Z"
      },
      {
        "duration": 71,
        "start_time": "2023-06-24T06:54:20.214Z"
      },
      {
        "duration": 4,
        "start_time": "2023-06-24T06:54:20.287Z"
      },
      {
        "duration": 33,
        "start_time": "2023-06-24T06:54:20.293Z"
      },
      {
        "duration": 35,
        "start_time": "2023-06-24T06:54:20.328Z"
      },
      {
        "duration": 43,
        "start_time": "2023-06-24T06:54:20.370Z"
      },
      {
        "duration": 46,
        "start_time": "2023-06-24T06:54:20.429Z"
      },
      {
        "duration": 41,
        "start_time": "2023-06-24T06:54:20.482Z"
      },
      {
        "duration": 15,
        "start_time": "2023-06-24T06:54:20.534Z"
      },
      {
        "duration": 10,
        "start_time": "2023-06-24T06:54:20.554Z"
      },
      {
        "duration": 40,
        "start_time": "2023-06-24T06:54:20.571Z"
      },
      {
        "duration": 22,
        "start_time": "2023-06-24T06:54:20.615Z"
      },
      {
        "duration": 35,
        "start_time": "2023-06-24T06:54:20.639Z"
      },
      {
        "duration": 750,
        "start_time": "2023-06-24T06:54:20.676Z"
      },
      {
        "duration": 111,
        "start_time": "2023-06-24T06:54:21.428Z"
      },
      {
        "duration": 16,
        "start_time": "2023-06-24T06:54:21.541Z"
      },
      {
        "duration": 24,
        "start_time": "2023-06-24T06:54:21.559Z"
      },
      {
        "duration": 42,
        "start_time": "2023-06-24T06:54:21.585Z"
      },
      {
        "duration": 60,
        "start_time": "2023-06-24T06:54:21.633Z"
      },
      {
        "duration": 31,
        "start_time": "2023-06-24T06:54:21.698Z"
      },
      {
        "duration": 333,
        "start_time": "2023-06-24T06:54:21.731Z"
      },
      {
        "duration": 192,
        "start_time": "2023-06-24T06:54:22.067Z"
      },
      {
        "duration": 20,
        "start_time": "2023-06-24T06:54:22.269Z"
      },
      {
        "duration": 18,
        "start_time": "2023-06-24T06:54:22.291Z"
      },
      {
        "duration": 36,
        "start_time": "2023-06-24T06:54:22.311Z"
      },
      {
        "duration": 40,
        "start_time": "2023-06-24T06:54:22.350Z"
      },
      {
        "duration": 4,
        "start_time": "2023-06-24T06:57:54.903Z"
      },
      {
        "duration": 305,
        "start_time": "2023-06-24T06:58:01.398Z"
      },
      {
        "duration": 56,
        "start_time": "2023-06-24T06:59:39.794Z"
      },
      {
        "duration": 7,
        "start_time": "2023-06-24T06:59:46.977Z"
      },
      {
        "duration": 20,
        "start_time": "2023-06-24T07:00:02.168Z"
      },
      {
        "duration": 15,
        "start_time": "2023-06-24T07:00:34.362Z"
      },
      {
        "duration": 6,
        "start_time": "2023-06-24T07:00:48.783Z"
      },
      {
        "duration": 23,
        "start_time": "2023-06-24T07:01:04.165Z"
      },
      {
        "duration": 13,
        "start_time": "2023-06-24T07:01:25.590Z"
      },
      {
        "duration": 14,
        "start_time": "2023-06-24T07:01:47.396Z"
      },
      {
        "duration": 91,
        "start_time": "2023-06-24T07:07:30.412Z"
      },
      {
        "duration": 228,
        "start_time": "2023-06-24T07:07:38.100Z"
      },
      {
        "duration": 7,
        "start_time": "2023-06-24T07:08:05.502Z"
      },
      {
        "duration": 43,
        "start_time": "2023-06-24T07:12:13.832Z"
      },
      {
        "duration": 262,
        "start_time": "2023-06-24T07:12:22.767Z"
      },
      {
        "duration": 48,
        "start_time": "2023-06-24T07:12:33.703Z"
      },
      {
        "duration": 14,
        "start_time": "2023-06-24T07:12:43.687Z"
      },
      {
        "duration": 1493,
        "start_time": "2023-06-25T07:50:50.188Z"
      },
      {
        "duration": 250,
        "start_time": "2023-06-25T07:50:51.683Z"
      },
      {
        "duration": 11,
        "start_time": "2023-06-25T07:50:51.935Z"
      },
      {
        "duration": 29,
        "start_time": "2023-06-25T07:50:51.948Z"
      },
      {
        "duration": 14,
        "start_time": "2023-06-25T07:50:51.980Z"
      },
      {
        "duration": 11,
        "start_time": "2023-06-25T07:50:51.995Z"
      },
      {
        "duration": 19,
        "start_time": "2023-06-25T07:50:52.007Z"
      },
      {
        "duration": 25,
        "start_time": "2023-06-25T07:50:52.028Z"
      },
      {
        "duration": 25,
        "start_time": "2023-06-25T07:50:52.054Z"
      },
      {
        "duration": 6,
        "start_time": "2023-06-25T07:50:52.081Z"
      },
      {
        "duration": 16,
        "start_time": "2023-06-25T07:50:52.089Z"
      },
      {
        "duration": 14,
        "start_time": "2023-06-25T07:50:52.107Z"
      },
      {
        "duration": 8,
        "start_time": "2023-06-25T07:50:52.123Z"
      },
      {
        "duration": 23,
        "start_time": "2023-06-25T07:50:52.135Z"
      },
      {
        "duration": 50,
        "start_time": "2023-06-25T07:50:52.161Z"
      },
      {
        "duration": 26,
        "start_time": "2023-06-25T07:50:52.213Z"
      },
      {
        "duration": 9,
        "start_time": "2023-06-25T07:50:52.241Z"
      },
      {
        "duration": 28,
        "start_time": "2023-06-25T07:50:52.251Z"
      },
      {
        "duration": 32,
        "start_time": "2023-06-25T07:50:52.281Z"
      },
      {
        "duration": 5,
        "start_time": "2023-06-25T07:50:52.314Z"
      },
      {
        "duration": 41,
        "start_time": "2023-06-25T07:50:52.320Z"
      },
      {
        "duration": 22,
        "start_time": "2023-06-25T07:50:52.363Z"
      },
      {
        "duration": 42,
        "start_time": "2023-06-25T07:50:52.386Z"
      },
      {
        "duration": 3,
        "start_time": "2023-06-25T07:50:52.429Z"
      },
      {
        "duration": 27,
        "start_time": "2023-06-25T07:50:52.434Z"
      },
      {
        "duration": 23,
        "start_time": "2023-06-25T07:50:52.463Z"
      },
      {
        "duration": 36,
        "start_time": "2023-06-25T07:50:52.488Z"
      },
      {
        "duration": 15,
        "start_time": "2023-06-25T07:50:52.526Z"
      },
      {
        "duration": 31,
        "start_time": "2023-06-25T07:50:52.543Z"
      },
      {
        "duration": 19,
        "start_time": "2023-06-25T07:50:52.575Z"
      },
      {
        "duration": 13,
        "start_time": "2023-06-25T07:50:52.595Z"
      },
      {
        "duration": 37,
        "start_time": "2023-06-25T07:50:52.609Z"
      },
      {
        "duration": 20,
        "start_time": "2023-06-25T07:50:52.648Z"
      },
      {
        "duration": 12,
        "start_time": "2023-06-25T07:50:52.669Z"
      },
      {
        "duration": 526,
        "start_time": "2023-06-25T07:50:52.682Z"
      },
      {
        "duration": 81,
        "start_time": "2023-06-25T07:50:53.209Z"
      },
      {
        "duration": 18,
        "start_time": "2023-06-25T07:50:53.292Z"
      },
      {
        "duration": 11,
        "start_time": "2023-06-25T07:50:53.312Z"
      },
      {
        "duration": 33,
        "start_time": "2023-06-25T07:50:53.324Z"
      },
      {
        "duration": 43,
        "start_time": "2023-06-25T07:50:53.359Z"
      },
      {
        "duration": 22,
        "start_time": "2023-06-25T07:50:53.406Z"
      },
      {
        "duration": 228,
        "start_time": "2023-06-25T07:50:53.430Z"
      },
      {
        "duration": 140,
        "start_time": "2023-06-25T07:50:53.660Z"
      },
      {
        "duration": 14,
        "start_time": "2023-06-25T07:50:53.803Z"
      },
      {
        "duration": 7,
        "start_time": "2023-06-25T07:50:53.819Z"
      },
      {
        "duration": 23,
        "start_time": "2023-06-25T07:50:53.827Z"
      },
      {
        "duration": 24,
        "start_time": "2023-06-25T07:50:53.852Z"
      },
      {
        "duration": 4,
        "start_time": "2023-06-25T07:50:53.903Z"
      },
      {
        "duration": 257,
        "start_time": "2023-06-25T07:50:53.909Z"
      },
      {
        "duration": 13,
        "start_time": "2023-06-25T07:50:54.167Z"
      },
      {
        "duration": 20,
        "start_time": "2023-06-25T07:50:54.182Z"
      },
      {
        "duration": 18,
        "start_time": "2023-06-25T07:50:54.203Z"
      },
      {
        "duration": 12,
        "start_time": "2023-06-25T07:50:54.222Z"
      },
      {
        "duration": 19,
        "start_time": "2023-06-25T07:50:54.236Z"
      },
      {
        "duration": 22,
        "start_time": "2023-06-25T07:50:54.257Z"
      },
      {
        "duration": 24,
        "start_time": "2023-06-25T07:50:54.280Z"
      },
      {
        "duration": 18,
        "start_time": "2023-06-25T07:50:54.306Z"
      },
      {
        "duration": 130,
        "start_time": "2023-06-25T07:50:54.326Z"
      },
      {
        "duration": 20,
        "start_time": "2023-06-25T07:50:54.457Z"
      },
      {
        "duration": 9,
        "start_time": "2023-06-25T07:50:54.479Z"
      },
      {
        "duration": 25,
        "start_time": "2023-06-25T07:50:54.490Z"
      },
      {
        "duration": 16,
        "start_time": "2023-06-25T07:50:54.516Z"
      },
      {
        "duration": 12,
        "start_time": "2023-06-25T07:50:54.534Z"
      },
      {
        "duration": 15,
        "start_time": "2023-06-25T07:51:39.422Z"
      },
      {
        "duration": 15,
        "start_time": "2023-06-25T07:52:01.452Z"
      },
      {
        "duration": 440,
        "start_time": "2023-06-25T07:52:08.418Z"
      },
      {
        "duration": 17,
        "start_time": "2023-06-25T07:52:38.891Z"
      },
      {
        "duration": 17,
        "start_time": "2023-06-25T07:52:45.703Z"
      },
      {
        "duration": 104,
        "start_time": "2023-06-25T07:53:02.714Z"
      },
      {
        "duration": 10,
        "start_time": "2023-06-25T07:53:29.996Z"
      },
      {
        "duration": 15,
        "start_time": "2023-06-25T07:53:38.779Z"
      },
      {
        "duration": 13,
        "start_time": "2023-06-25T07:53:48.020Z"
      },
      {
        "duration": 389,
        "start_time": "2023-06-25T07:53:56.550Z"
      },
      {
        "duration": 16,
        "start_time": "2023-06-25T07:54:25.651Z"
      },
      {
        "duration": 15,
        "start_time": "2023-06-25T07:54:31.106Z"
      },
      {
        "duration": 10,
        "start_time": "2023-06-25T07:54:38.367Z"
      },
      {
        "duration": 14,
        "start_time": "2023-06-25T07:54:44.930Z"
      },
      {
        "duration": 13,
        "start_time": "2023-06-25T07:54:51.932Z"
      },
      {
        "duration": 402,
        "start_time": "2023-06-25T07:54:57.555Z"
      },
      {
        "duration": 23,
        "start_time": "2023-06-25T07:55:47.576Z"
      },
      {
        "duration": 27,
        "start_time": "2023-06-25T07:55:58.215Z"
      },
      {
        "duration": 41,
        "start_time": "2023-06-25T07:56:12.652Z"
      },
      {
        "duration": 9,
        "start_time": "2023-06-25T07:56:28.101Z"
      },
      {
        "duration": 470,
        "start_time": "2023-06-25T07:59:00.944Z"
      },
      {
        "duration": 9,
        "start_time": "2023-06-25T07:59:09.624Z"
      },
      {
        "duration": 8,
        "start_time": "2023-06-25T07:59:41.983Z"
      },
      {
        "duration": 10,
        "start_time": "2023-06-25T07:59:51.482Z"
      },
      {
        "duration": 17,
        "start_time": "2023-06-25T08:01:31.286Z"
      },
      {
        "duration": 10,
        "start_time": "2023-06-25T08:02:02.054Z"
      },
      {
        "duration": 8,
        "start_time": "2023-06-25T08:02:21.182Z"
      },
      {
        "duration": 8,
        "start_time": "2023-06-25T08:02:27.387Z"
      },
      {
        "duration": 26,
        "start_time": "2023-06-25T08:03:08.695Z"
      },
      {
        "duration": 129,
        "start_time": "2023-06-25T08:03:17.717Z"
      },
      {
        "duration": 11,
        "start_time": "2023-06-25T08:03:28.787Z"
      },
      {
        "duration": 13,
        "start_time": "2023-06-25T08:03:47.649Z"
      },
      {
        "duration": 15,
        "start_time": "2023-06-25T08:04:22.275Z"
      },
      {
        "duration": 14,
        "start_time": "2023-06-25T08:04:38.402Z"
      },
      {
        "duration": 18,
        "start_time": "2023-06-25T08:05:28.344Z"
      },
      {
        "duration": 27,
        "start_time": "2023-06-25T08:05:33.807Z"
      },
      {
        "duration": 20,
        "start_time": "2023-06-25T08:06:02.226Z"
      },
      {
        "duration": 26,
        "start_time": "2023-06-25T08:06:09.731Z"
      },
      {
        "duration": 24,
        "start_time": "2023-06-25T08:06:40.381Z"
      },
      {
        "duration": 27,
        "start_time": "2023-06-25T08:06:45.927Z"
      },
      {
        "duration": 19,
        "start_time": "2023-06-25T08:07:44.807Z"
      },
      {
        "duration": 24,
        "start_time": "2023-06-25T08:07:51.122Z"
      },
      {
        "duration": 24,
        "start_time": "2023-06-25T08:09:13.000Z"
      },
      {
        "duration": 6,
        "start_time": "2023-06-25T08:09:18.690Z"
      },
      {
        "duration": 8,
        "start_time": "2023-06-25T08:09:24.102Z"
      },
      {
        "duration": 15,
        "start_time": "2023-06-25T08:09:29.601Z"
      },
      {
        "duration": 7,
        "start_time": "2023-06-25T08:09:35.607Z"
      },
      {
        "duration": 6,
        "start_time": "2023-06-25T08:09:44.839Z"
      },
      {
        "duration": 9,
        "start_time": "2023-06-25T08:09:56.853Z"
      },
      {
        "duration": 1322,
        "start_time": "2023-06-25T09:26:24.360Z"
      },
      {
        "duration": 354,
        "start_time": "2023-06-25T09:26:25.684Z"
      },
      {
        "duration": 13,
        "start_time": "2023-06-25T09:26:26.040Z"
      },
      {
        "duration": 11,
        "start_time": "2023-06-25T09:26:26.055Z"
      },
      {
        "duration": 15,
        "start_time": "2023-06-25T09:26:26.068Z"
      },
      {
        "duration": 28,
        "start_time": "2023-06-25T09:26:26.085Z"
      },
      {
        "duration": 13,
        "start_time": "2023-06-25T09:26:26.115Z"
      },
      {
        "duration": 21,
        "start_time": "2023-06-25T09:26:26.130Z"
      },
      {
        "duration": 28,
        "start_time": "2023-06-25T09:26:26.153Z"
      },
      {
        "duration": 25,
        "start_time": "2023-06-25T09:26:26.184Z"
      },
      {
        "duration": 18,
        "start_time": "2023-06-25T09:26:26.210Z"
      },
      {
        "duration": 10,
        "start_time": "2023-06-25T09:26:26.230Z"
      },
      {
        "duration": 11,
        "start_time": "2023-06-25T09:26:26.242Z"
      },
      {
        "duration": 29,
        "start_time": "2023-06-25T09:26:26.254Z"
      },
      {
        "duration": 37,
        "start_time": "2023-06-25T09:26:26.284Z"
      },
      {
        "duration": 27,
        "start_time": "2023-06-25T09:26:26.323Z"
      },
      {
        "duration": 9,
        "start_time": "2023-06-25T09:26:26.352Z"
      },
      {
        "duration": 50,
        "start_time": "2023-06-25T09:26:26.363Z"
      },
      {
        "duration": 14,
        "start_time": "2023-06-25T09:26:26.415Z"
      },
      {
        "duration": 4,
        "start_time": "2023-06-25T09:26:26.431Z"
      },
      {
        "duration": 11,
        "start_time": "2023-06-25T09:26:26.437Z"
      },
      {
        "duration": 15,
        "start_time": "2023-06-25T09:26:26.450Z"
      },
      {
        "duration": 36,
        "start_time": "2023-06-25T09:26:26.467Z"
      },
      {
        "duration": 4,
        "start_time": "2023-06-25T09:26:26.505Z"
      },
      {
        "duration": 20,
        "start_time": "2023-06-25T09:26:26.510Z"
      },
      {
        "duration": 10,
        "start_time": "2023-06-25T09:26:26.531Z"
      },
      {
        "duration": 26,
        "start_time": "2023-06-25T09:26:26.542Z"
      },
      {
        "duration": 45,
        "start_time": "2023-06-25T09:26:26.573Z"
      },
      {
        "duration": 25,
        "start_time": "2023-06-25T09:26:26.619Z"
      },
      {
        "duration": 3,
        "start_time": "2023-06-25T09:26:26.646Z"
      },
      {
        "duration": 22,
        "start_time": "2023-06-25T09:26:26.650Z"
      },
      {
        "duration": 48,
        "start_time": "2023-06-25T09:26:26.675Z"
      },
      {
        "duration": 36,
        "start_time": "2023-06-25T09:26:26.724Z"
      },
      {
        "duration": 21,
        "start_time": "2023-06-25T09:26:26.762Z"
      },
      {
        "duration": 605,
        "start_time": "2023-06-25T09:26:26.785Z"
      },
      {
        "duration": 92,
        "start_time": "2023-06-25T09:26:27.392Z"
      },
      {
        "duration": 8,
        "start_time": "2023-06-25T09:26:27.486Z"
      },
      {
        "duration": 24,
        "start_time": "2023-06-25T09:26:27.505Z"
      },
      {
        "duration": 31,
        "start_time": "2023-06-25T09:26:27.531Z"
      },
      {
        "duration": 33,
        "start_time": "2023-06-25T09:26:27.564Z"
      },
      {
        "duration": 32,
        "start_time": "2023-06-25T09:26:27.598Z"
      },
      {
        "duration": 230,
        "start_time": "2023-06-25T09:26:27.632Z"
      },
      {
        "duration": 151,
        "start_time": "2023-06-25T09:26:27.864Z"
      },
      {
        "duration": 13,
        "start_time": "2023-06-25T09:26:28.017Z"
      },
      {
        "duration": 6,
        "start_time": "2023-06-25T09:26:28.031Z"
      },
      {
        "duration": 16,
        "start_time": "2023-06-25T09:26:28.038Z"
      },
      {
        "duration": 25,
        "start_time": "2023-06-25T09:26:28.056Z"
      },
      {
        "duration": 31,
        "start_time": "2023-06-25T09:26:28.083Z"
      },
      {
        "duration": 233,
        "start_time": "2023-06-25T09:26:28.116Z"
      },
      {
        "duration": 13,
        "start_time": "2023-06-25T09:26:28.351Z"
      },
      {
        "duration": 9,
        "start_time": "2023-06-25T09:26:28.366Z"
      },
      {
        "duration": 37,
        "start_time": "2023-06-25T09:26:28.376Z"
      },
      {
        "duration": 12,
        "start_time": "2023-06-25T09:26:28.415Z"
      },
      {
        "duration": 7,
        "start_time": "2023-06-25T09:26:28.429Z"
      },
      {
        "duration": 19,
        "start_time": "2023-06-25T09:26:28.437Z"
      },
      {
        "duration": 96,
        "start_time": "2023-06-25T09:26:28.458Z"
      },
      {
        "duration": 24,
        "start_time": "2023-06-25T09:26:28.556Z"
      },
      {
        "duration": 49,
        "start_time": "2023-06-25T09:26:28.582Z"
      },
      {
        "duration": 20,
        "start_time": "2023-06-25T09:26:28.633Z"
      },
      {
        "duration": 7,
        "start_time": "2023-06-25T09:26:28.654Z"
      },
      {
        "duration": 14,
        "start_time": "2023-06-25T09:26:28.663Z"
      },
      {
        "duration": 45,
        "start_time": "2023-06-25T09:26:28.678Z"
      },
      {
        "duration": 10,
        "start_time": "2023-06-25T09:26:28.724Z"
      },
      {
        "duration": 19,
        "start_time": "2023-06-25T09:26:28.735Z"
      },
      {
        "duration": 30,
        "start_time": "2023-06-25T09:26:28.756Z"
      },
      {
        "duration": 444,
        "start_time": "2023-06-25T09:26:28.788Z"
      },
      {
        "duration": 17,
        "start_time": "2023-06-25T09:26:29.234Z"
      },
      {
        "duration": 17,
        "start_time": "2023-06-25T09:26:29.252Z"
      },
      {
        "duration": 42,
        "start_time": "2023-06-25T09:26:29.271Z"
      },
      {
        "duration": 26,
        "start_time": "2023-06-25T09:26:29.315Z"
      },
      {
        "duration": 28,
        "start_time": "2023-06-25T09:26:29.343Z"
      },
      {
        "duration": 446,
        "start_time": "2023-06-25T09:26:29.373Z"
      },
      {
        "duration": 15,
        "start_time": "2023-06-25T09:26:29.821Z"
      },
      {
        "duration": 27,
        "start_time": "2023-06-25T09:26:29.838Z"
      },
      {
        "duration": 18,
        "start_time": "2023-06-25T09:26:29.867Z"
      },
      {
        "duration": 40,
        "start_time": "2023-06-25T09:26:29.887Z"
      },
      {
        "duration": 31,
        "start_time": "2023-06-25T09:26:29.929Z"
      },
      {
        "duration": 431,
        "start_time": "2023-06-25T09:26:29.962Z"
      },
      {
        "duration": 26,
        "start_time": "2023-06-25T09:26:30.409Z"
      },
      {
        "duration": 80,
        "start_time": "2023-06-25T09:26:30.437Z"
      },
      {
        "duration": 153,
        "start_time": "2023-06-25T09:26:30.519Z"
      },
      {
        "duration": 10,
        "start_time": "2023-06-25T09:26:30.679Z"
      },
      {
        "duration": 519,
        "start_time": "2023-06-25T09:26:30.691Z"
      },
      {
        "duration": 14,
        "start_time": "2023-06-25T09:26:31.212Z"
      },
      {
        "duration": 32,
        "start_time": "2023-06-25T09:26:31.227Z"
      },
      {
        "duration": 34,
        "start_time": "2023-06-25T09:26:31.261Z"
      },
      {
        "duration": 60,
        "start_time": "2023-06-25T09:26:31.297Z"
      },
      {
        "duration": 31,
        "start_time": "2023-06-25T09:26:31.359Z"
      },
      {
        "duration": 61,
        "start_time": "2023-06-25T09:26:31.392Z"
      },
      {
        "duration": 105,
        "start_time": "2023-06-25T09:26:31.455Z"
      },
      {
        "duration": 40,
        "start_time": "2023-06-25T09:26:31.561Z"
      },
      {
        "duration": 43,
        "start_time": "2023-06-25T09:26:31.614Z"
      },
      {
        "duration": 54,
        "start_time": "2023-06-25T09:26:31.659Z"
      },
      {
        "duration": 35,
        "start_time": "2023-06-25T09:26:31.715Z"
      },
      {
        "duration": 34,
        "start_time": "2023-06-25T09:26:31.752Z"
      },
      {
        "duration": 42,
        "start_time": "2023-06-25T09:26:31.788Z"
      },
      {
        "duration": 48,
        "start_time": "2023-06-25T09:26:31.831Z"
      },
      {
        "duration": 34,
        "start_time": "2023-06-25T09:26:31.881Z"
      },
      {
        "duration": 50,
        "start_time": "2023-06-25T09:26:31.916Z"
      },
      {
        "duration": 18,
        "start_time": "2023-06-25T09:26:31.968Z"
      },
      {
        "duration": 64,
        "start_time": "2023-06-25T09:26:31.987Z"
      },
      {
        "duration": 19,
        "start_time": "2023-06-25T09:26:32.053Z"
      },
      {
        "duration": 43,
        "start_time": "2023-06-25T09:26:32.074Z"
      },
      {
        "duration": 24,
        "start_time": "2023-06-25T09:26:32.118Z"
      },
      {
        "duration": 6,
        "start_time": "2023-06-25T09:26:32.144Z"
      },
      {
        "duration": 41,
        "start_time": "2023-06-25T09:26:32.151Z"
      },
      {
        "duration": 49,
        "start_time": "2023-06-25T09:26:32.194Z"
      },
      {
        "duration": 8,
        "start_time": "2023-06-25T09:26:32.245Z"
      },
      {
        "duration": 21,
        "start_time": "2023-06-25T09:26:32.255Z"
      },
      {
        "duration": 30,
        "start_time": "2023-06-25T09:26:32.277Z"
      },
      {
        "duration": 1341,
        "start_time": "2023-06-25T10:38:36.094Z"
      },
      {
        "duration": 296,
        "start_time": "2023-06-25T10:38:37.437Z"
      },
      {
        "duration": 17,
        "start_time": "2023-06-25T10:38:37.735Z"
      },
      {
        "duration": 14,
        "start_time": "2023-06-25T10:38:37.755Z"
      },
      {
        "duration": 9,
        "start_time": "2023-06-25T10:38:37.771Z"
      },
      {
        "duration": 21,
        "start_time": "2023-06-25T10:38:37.782Z"
      },
      {
        "duration": 13,
        "start_time": "2023-06-25T10:38:37.805Z"
      },
      {
        "duration": 23,
        "start_time": "2023-06-25T10:38:37.820Z"
      },
      {
        "duration": 18,
        "start_time": "2023-06-25T10:38:37.845Z"
      },
      {
        "duration": 6,
        "start_time": "2023-06-25T10:38:37.865Z"
      },
      {
        "duration": 38,
        "start_time": "2023-06-25T10:38:37.872Z"
      },
      {
        "duration": 9,
        "start_time": "2023-06-25T10:38:37.912Z"
      },
      {
        "duration": 7,
        "start_time": "2023-06-25T10:38:37.923Z"
      },
      {
        "duration": 22,
        "start_time": "2023-06-25T10:38:37.934Z"
      },
      {
        "duration": 49,
        "start_time": "2023-06-25T10:38:37.971Z"
      },
      {
        "duration": 26,
        "start_time": "2023-06-25T10:38:38.021Z"
      },
      {
        "duration": 10,
        "start_time": "2023-06-25T10:38:38.048Z"
      },
      {
        "duration": 47,
        "start_time": "2023-06-25T10:38:38.060Z"
      },
      {
        "duration": 15,
        "start_time": "2023-06-25T10:38:38.109Z"
      },
      {
        "duration": 4,
        "start_time": "2023-06-25T10:38:38.126Z"
      },
      {
        "duration": 14,
        "start_time": "2023-06-25T10:38:38.132Z"
      },
      {
        "duration": 13,
        "start_time": "2023-06-25T10:38:38.147Z"
      },
      {
        "duration": 62,
        "start_time": "2023-06-25T10:38:38.162Z"
      },
      {
        "duration": 3,
        "start_time": "2023-06-25T10:38:38.226Z"
      },
      {
        "duration": 19,
        "start_time": "2023-06-25T10:38:38.231Z"
      },
      {
        "duration": 37,
        "start_time": "2023-06-25T10:38:38.251Z"
      },
      {
        "duration": 31,
        "start_time": "2023-06-25T10:38:38.289Z"
      },
      {
        "duration": 18,
        "start_time": "2023-06-25T10:38:38.321Z"
      },
      {
        "duration": 25,
        "start_time": "2023-06-25T10:38:38.340Z"
      },
      {
        "duration": 3,
        "start_time": "2023-06-25T10:38:38.367Z"
      },
      {
        "duration": 34,
        "start_time": "2023-06-25T10:38:38.371Z"
      },
      {
        "duration": 27,
        "start_time": "2023-06-25T10:38:38.406Z"
      },
      {
        "duration": 10,
        "start_time": "2023-06-25T10:38:38.434Z"
      },
      {
        "duration": 10,
        "start_time": "2023-06-25T10:38:38.446Z"
      },
      {
        "duration": 582,
        "start_time": "2023-06-25T10:38:38.458Z"
      },
      {
        "duration": 95,
        "start_time": "2023-06-25T10:38:39.042Z"
      },
      {
        "duration": 11,
        "start_time": "2023-06-25T10:38:39.140Z"
      },
      {
        "duration": 36,
        "start_time": "2023-06-25T10:38:39.152Z"
      },
      {
        "duration": 48,
        "start_time": "2023-06-25T10:38:39.190Z"
      },
      {
        "duration": 59,
        "start_time": "2023-06-25T10:38:39.241Z"
      },
      {
        "duration": 26,
        "start_time": "2023-06-25T10:38:39.306Z"
      },
      {
        "duration": 241,
        "start_time": "2023-06-25T10:38:39.334Z"
      },
      {
        "duration": 142,
        "start_time": "2023-06-25T10:38:39.577Z"
      },
      {
        "duration": 14,
        "start_time": "2023-06-25T10:38:39.721Z"
      },
      {
        "duration": 90,
        "start_time": "2023-06-25T10:38:39.736Z"
      },
      {
        "duration": 20,
        "start_time": "2023-06-25T10:38:39.828Z"
      },
      {
        "duration": 25,
        "start_time": "2023-06-25T10:38:39.850Z"
      },
      {
        "duration": 4,
        "start_time": "2023-06-25T10:38:39.877Z"
      },
      {
        "duration": 232,
        "start_time": "2023-06-25T10:38:39.883Z"
      },
      {
        "duration": 13,
        "start_time": "2023-06-25T10:38:40.117Z"
      },
      {
        "duration": 5,
        "start_time": "2023-06-25T10:38:40.131Z"
      },
      {
        "duration": 19,
        "start_time": "2023-06-25T10:38:40.138Z"
      },
      {
        "duration": 49,
        "start_time": "2023-06-25T10:38:40.158Z"
      },
      {
        "duration": 5,
        "start_time": "2023-06-25T10:38:40.208Z"
      },
      {
        "duration": 18,
        "start_time": "2023-06-25T10:38:40.214Z"
      },
      {
        "duration": 12,
        "start_time": "2023-06-25T10:38:40.234Z"
      },
      {
        "duration": 134,
        "start_time": "2023-06-25T10:38:40.249Z"
      },
      {
        "duration": 60,
        "start_time": "2023-06-25T10:38:40.385Z"
      },
      {
        "duration": 28,
        "start_time": "2023-06-25T10:38:40.447Z"
      },
      {
        "duration": 9,
        "start_time": "2023-06-25T10:38:40.477Z"
      },
      {
        "duration": 22,
        "start_time": "2023-06-25T10:38:40.503Z"
      },
      {
        "duration": 20,
        "start_time": "2023-06-25T10:38:40.528Z"
      },
      {
        "duration": 11,
        "start_time": "2023-06-25T10:38:40.551Z"
      },
      {
        "duration": 64,
        "start_time": "2023-06-25T10:38:40.564Z"
      },
      {
        "duration": 26,
        "start_time": "2023-06-25T10:38:40.630Z"
      },
      {
        "duration": 420,
        "start_time": "2023-06-25T10:38:40.658Z"
      },
      {
        "duration": 24,
        "start_time": "2023-06-25T10:38:41.080Z"
      },
      {
        "duration": 17,
        "start_time": "2023-06-25T10:38:41.106Z"
      },
      {
        "duration": 9,
        "start_time": "2023-06-25T10:38:41.124Z"
      },
      {
        "duration": 40,
        "start_time": "2023-06-25T10:38:41.134Z"
      },
      {
        "duration": 34,
        "start_time": "2023-06-25T10:38:41.176Z"
      },
      {
        "duration": 410,
        "start_time": "2023-06-25T10:38:41.212Z"
      },
      {
        "duration": 18,
        "start_time": "2023-06-25T10:38:41.624Z"
      },
      {
        "duration": 15,
        "start_time": "2023-06-25T10:38:41.644Z"
      },
      {
        "duration": 10,
        "start_time": "2023-06-25T10:38:41.660Z"
      },
      {
        "duration": 41,
        "start_time": "2023-06-25T10:38:41.671Z"
      },
      {
        "duration": 18,
        "start_time": "2023-06-25T10:38:41.714Z"
      },
      {
        "duration": 390,
        "start_time": "2023-06-25T10:38:41.734Z"
      },
      {
        "duration": 24,
        "start_time": "2023-06-25T10:38:42.125Z"
      },
      {
        "duration": 53,
        "start_time": "2023-06-25T10:38:42.150Z"
      },
      {
        "duration": 41,
        "start_time": "2023-06-25T10:38:42.205Z"
      },
      {
        "duration": 8,
        "start_time": "2023-06-25T10:38:42.247Z"
      },
      {
        "duration": 483,
        "start_time": "2023-06-25T10:38:42.257Z"
      },
      {
        "duration": 8,
        "start_time": "2023-06-25T10:38:42.741Z"
      },
      {
        "duration": 17,
        "start_time": "2023-06-25T10:38:42.751Z"
      },
      {
        "duration": 13,
        "start_time": "2023-06-25T10:38:42.770Z"
      },
      {
        "duration": 30,
        "start_time": "2023-06-25T10:38:42.784Z"
      },
      {
        "duration": 8,
        "start_time": "2023-06-25T10:38:42.816Z"
      },
      {
        "duration": 8,
        "start_time": "2023-06-25T10:38:42.826Z"
      },
      {
        "duration": 8,
        "start_time": "2023-06-25T10:38:42.836Z"
      },
      {
        "duration": 24,
        "start_time": "2023-06-25T10:38:42.846Z"
      },
      {
        "duration": 34,
        "start_time": "2023-06-25T10:38:42.872Z"
      },
      {
        "duration": 13,
        "start_time": "2023-06-25T10:38:42.908Z"
      },
      {
        "duration": 13,
        "start_time": "2023-06-25T10:38:42.923Z"
      },
      {
        "duration": 20,
        "start_time": "2023-06-25T10:38:42.938Z"
      },
      {
        "duration": 17,
        "start_time": "2023-06-25T10:38:42.960Z"
      },
      {
        "duration": 49,
        "start_time": "2023-06-25T10:38:42.979Z"
      },
      {
        "duration": 16,
        "start_time": "2023-06-25T10:38:43.030Z"
      },
      {
        "duration": 26,
        "start_time": "2023-06-25T10:38:43.048Z"
      },
      {
        "duration": 42,
        "start_time": "2023-06-25T10:38:43.076Z"
      },
      {
        "duration": 28,
        "start_time": "2023-06-25T10:38:43.120Z"
      },
      {
        "duration": 29,
        "start_time": "2023-06-25T10:38:43.150Z"
      },
      {
        "duration": 58,
        "start_time": "2023-06-25T10:38:43.183Z"
      },
      {
        "duration": 23,
        "start_time": "2023-06-25T10:38:43.243Z"
      },
      {
        "duration": 6,
        "start_time": "2023-06-25T10:38:43.268Z"
      },
      {
        "duration": 33,
        "start_time": "2023-06-25T10:38:43.276Z"
      },
      {
        "duration": 21,
        "start_time": "2023-06-25T10:38:43.311Z"
      },
      {
        "duration": 6,
        "start_time": "2023-06-25T10:38:43.334Z"
      },
      {
        "duration": 13,
        "start_time": "2023-06-25T10:38:43.341Z"
      },
      {
        "duration": 23,
        "start_time": "2023-06-25T10:38:43.356Z"
      },
      {
        "duration": 16,
        "start_time": "2023-06-25T10:40:10.295Z"
      },
      {
        "duration": 14,
        "start_time": "2023-06-25T10:40:37.997Z"
      },
      {
        "duration": 442,
        "start_time": "2023-06-25T10:41:33.661Z"
      },
      {
        "duration": 433,
        "start_time": "2023-06-25T10:42:04.859Z"
      },
      {
        "duration": 395,
        "start_time": "2023-06-25T10:42:17.011Z"
      },
      {
        "duration": 105,
        "start_time": "2023-06-25T10:42:36.790Z"
      },
      {
        "duration": 15,
        "start_time": "2023-06-25T10:42:43.199Z"
      },
      {
        "duration": 405,
        "start_time": "2023-06-25T10:42:52.266Z"
      },
      {
        "duration": 418,
        "start_time": "2023-06-25T10:43:13.856Z"
      },
      {
        "duration": 406,
        "start_time": "2023-06-25T10:43:39.554Z"
      },
      {
        "duration": 513,
        "start_time": "2023-06-25T10:44:18.240Z"
      },
      {
        "duration": 419,
        "start_time": "2023-06-25T10:44:23.890Z"
      },
      {
        "duration": 1574,
        "start_time": "2023-06-25T10:46:16.569Z"
      },
      {
        "duration": 5,
        "start_time": "2023-06-25T10:48:48.587Z"
      },
      {
        "duration": 172,
        "start_time": "2023-06-25T10:48:56.155Z"
      },
      {
        "duration": 403,
        "start_time": "2023-06-25T13:51:01.550Z"
      },
      {
        "duration": 1495,
        "start_time": "2023-06-25T14:47:02.449Z"
      },
      {
        "duration": 304,
        "start_time": "2023-06-25T14:47:03.946Z"
      },
      {
        "duration": 11,
        "start_time": "2023-06-25T14:47:04.252Z"
      },
      {
        "duration": 10,
        "start_time": "2023-06-25T14:47:04.265Z"
      },
      {
        "duration": 10,
        "start_time": "2023-06-25T14:47:04.277Z"
      },
      {
        "duration": 18,
        "start_time": "2023-06-25T14:47:04.288Z"
      },
      {
        "duration": 39,
        "start_time": "2023-06-25T14:47:04.308Z"
      },
      {
        "duration": 38,
        "start_time": "2023-06-25T14:47:04.348Z"
      },
      {
        "duration": 33,
        "start_time": "2023-06-25T14:47:04.387Z"
      },
      {
        "duration": 5,
        "start_time": "2023-06-25T14:47:04.422Z"
      },
      {
        "duration": 10,
        "start_time": "2023-06-25T14:47:04.429Z"
      },
      {
        "duration": 8,
        "start_time": "2023-06-25T14:47:04.440Z"
      },
      {
        "duration": 10,
        "start_time": "2023-06-25T14:47:04.450Z"
      },
      {
        "duration": 21,
        "start_time": "2023-06-25T14:47:04.463Z"
      },
      {
        "duration": 26,
        "start_time": "2023-06-25T14:47:04.485Z"
      },
      {
        "duration": 24,
        "start_time": "2023-06-25T14:47:04.512Z"
      },
      {
        "duration": 27,
        "start_time": "2023-06-25T14:47:04.538Z"
      },
      {
        "duration": 14,
        "start_time": "2023-06-25T14:47:04.567Z"
      },
      {
        "duration": 13,
        "start_time": "2023-06-25T14:47:04.582Z"
      },
      {
        "duration": 4,
        "start_time": "2023-06-25T14:47:04.596Z"
      },
      {
        "duration": 9,
        "start_time": "2023-06-25T14:47:04.602Z"
      },
      {
        "duration": 9,
        "start_time": "2023-06-25T14:47:04.613Z"
      },
      {
        "duration": 59,
        "start_time": "2023-06-25T14:47:04.624Z"
      },
      {
        "duration": 3,
        "start_time": "2023-06-25T14:47:04.684Z"
      },
      {
        "duration": 20,
        "start_time": "2023-06-25T14:47:04.689Z"
      },
      {
        "duration": 9,
        "start_time": "2023-06-25T14:47:04.711Z"
      },
      {
        "duration": 38,
        "start_time": "2023-06-25T14:47:04.722Z"
      },
      {
        "duration": 15,
        "start_time": "2023-06-25T14:47:04.762Z"
      },
      {
        "duration": 28,
        "start_time": "2023-06-25T14:47:04.779Z"
      },
      {
        "duration": 3,
        "start_time": "2023-06-25T14:47:04.809Z"
      },
      {
        "duration": 4,
        "start_time": "2023-06-25T14:47:04.814Z"
      },
      {
        "duration": 48,
        "start_time": "2023-06-25T14:47:04.820Z"
      },
      {
        "duration": 11,
        "start_time": "2023-06-25T14:47:04.869Z"
      },
      {
        "duration": 8,
        "start_time": "2023-06-25T14:47:04.882Z"
      },
      {
        "duration": 547,
        "start_time": "2023-06-25T14:47:04.892Z"
      },
      {
        "duration": 92,
        "start_time": "2023-06-25T14:47:05.441Z"
      },
      {
        "duration": 9,
        "start_time": "2023-06-25T14:47:05.534Z"
      },
      {
        "duration": 21,
        "start_time": "2023-06-25T14:47:05.545Z"
      },
      {
        "duration": 28,
        "start_time": "2023-06-25T14:47:05.568Z"
      },
      {
        "duration": 38,
        "start_time": "2023-06-25T14:47:05.598Z"
      },
      {
        "duration": 35,
        "start_time": "2023-06-25T14:47:05.641Z"
      },
      {
        "duration": 230,
        "start_time": "2023-06-25T14:47:05.678Z"
      },
      {
        "duration": 138,
        "start_time": "2023-06-25T14:47:05.910Z"
      },
      {
        "duration": 20,
        "start_time": "2023-06-25T14:47:06.050Z"
      },
      {
        "duration": 6,
        "start_time": "2023-06-25T14:47:06.072Z"
      },
      {
        "duration": 14,
        "start_time": "2023-06-25T14:47:06.080Z"
      },
      {
        "duration": 23,
        "start_time": "2023-06-25T14:47:06.096Z"
      },
      {
        "duration": 4,
        "start_time": "2023-06-25T14:47:06.121Z"
      },
      {
        "duration": 240,
        "start_time": "2023-06-25T14:47:06.159Z"
      },
      {
        "duration": 14,
        "start_time": "2023-06-25T14:47:06.401Z"
      },
      {
        "duration": 105,
        "start_time": "2023-06-25T14:47:06.417Z"
      },
      {
        "duration": 16,
        "start_time": "2023-06-25T14:47:06.525Z"
      },
      {
        "duration": 15,
        "start_time": "2023-06-25T14:47:06.542Z"
      },
      {
        "duration": 7,
        "start_time": "2023-06-25T14:47:06.559Z"
      },
      {
        "duration": 18,
        "start_time": "2023-06-25T14:47:06.567Z"
      },
      {
        "duration": 12,
        "start_time": "2023-06-25T14:47:06.586Z"
      },
      {
        "duration": 109,
        "start_time": "2023-06-25T14:47:06.599Z"
      },
      {
        "duration": 39,
        "start_time": "2023-06-25T14:47:06.710Z"
      },
      {
        "duration": 21,
        "start_time": "2023-06-25T14:47:06.759Z"
      },
      {
        "duration": 6,
        "start_time": "2023-06-25T14:47:06.782Z"
      },
      {
        "duration": 18,
        "start_time": "2023-06-25T14:47:06.790Z"
      },
      {
        "duration": 15,
        "start_time": "2023-06-25T14:47:06.809Z"
      },
      {
        "duration": 34,
        "start_time": "2023-06-25T14:47:06.826Z"
      },
      {
        "duration": 19,
        "start_time": "2023-06-25T14:47:06.862Z"
      },
      {
        "duration": 13,
        "start_time": "2023-06-25T14:47:06.884Z"
      },
      {
        "duration": 13,
        "start_time": "2023-06-25T14:47:06.899Z"
      },
      {
        "duration": 15,
        "start_time": "2023-06-25T14:47:06.914Z"
      },
      {
        "duration": 434,
        "start_time": "2023-06-25T14:47:06.958Z"
      },
      {
        "duration": 16,
        "start_time": "2023-06-25T14:47:07.394Z"
      },
      {
        "duration": 15,
        "start_time": "2023-06-25T14:47:07.411Z"
      },
      {
        "duration": 10,
        "start_time": "2023-06-25T14:47:07.428Z"
      },
      {
        "duration": 30,
        "start_time": "2023-06-25T14:47:07.439Z"
      },
      {
        "duration": 17,
        "start_time": "2023-06-25T14:47:07.471Z"
      },
      {
        "duration": 411,
        "start_time": "2023-06-25T14:47:07.490Z"
      },
      {
        "duration": 15,
        "start_time": "2023-06-25T14:47:07.903Z"
      },
      {
        "duration": 15,
        "start_time": "2023-06-25T14:47:07.920Z"
      },
      {
        "duration": 24,
        "start_time": "2023-06-25T14:47:07.937Z"
      },
      {
        "duration": 27,
        "start_time": "2023-06-25T14:47:07.963Z"
      },
      {
        "duration": 20,
        "start_time": "2023-06-25T14:47:07.992Z"
      },
      {
        "duration": 385,
        "start_time": "2023-06-25T14:47:08.014Z"
      },
      {
        "duration": 22,
        "start_time": "2023-06-25T14:47:08.401Z"
      },
      {
        "duration": 36,
        "start_time": "2023-06-25T14:47:08.425Z"
      },
      {
        "duration": 39,
        "start_time": "2023-06-25T14:47:08.463Z"
      },
      {
        "duration": 11,
        "start_time": "2023-06-25T14:47:08.504Z"
      },
      {
        "duration": 463,
        "start_time": "2023-06-25T14:47:08.517Z"
      },
      {
        "duration": 9,
        "start_time": "2023-06-25T14:47:08.982Z"
      },
      {
        "duration": 10,
        "start_time": "2023-06-25T14:47:08.993Z"
      },
      {
        "duration": 9,
        "start_time": "2023-06-25T14:47:09.005Z"
      },
      {
        "duration": 16,
        "start_time": "2023-06-25T14:47:09.016Z"
      },
      {
        "duration": 34,
        "start_time": "2023-06-25T14:47:09.033Z"
      },
      {
        "duration": 9,
        "start_time": "2023-06-25T14:47:09.069Z"
      },
      {
        "duration": 9,
        "start_time": "2023-06-25T14:47:09.079Z"
      },
      {
        "duration": 29,
        "start_time": "2023-06-25T14:47:09.089Z"
      },
      {
        "duration": 8,
        "start_time": "2023-06-25T14:47:09.120Z"
      },
      {
        "duration": 44,
        "start_time": "2023-06-25T14:47:09.130Z"
      },
      {
        "duration": 12,
        "start_time": "2023-06-25T14:47:09.176Z"
      },
      {
        "duration": 14,
        "start_time": "2023-06-25T14:47:09.189Z"
      },
      {
        "duration": 19,
        "start_time": "2023-06-25T14:47:09.204Z"
      },
      {
        "duration": 53,
        "start_time": "2023-06-25T14:47:09.226Z"
      },
      {
        "duration": 20,
        "start_time": "2023-06-25T14:47:09.281Z"
      },
      {
        "duration": 26,
        "start_time": "2023-06-25T14:47:09.303Z"
      },
      {
        "duration": 41,
        "start_time": "2023-06-25T14:47:09.331Z"
      },
      {
        "duration": 27,
        "start_time": "2023-06-25T14:47:09.373Z"
      },
      {
        "duration": 17,
        "start_time": "2023-06-25T14:47:09.402Z"
      },
      {
        "duration": 53,
        "start_time": "2023-06-25T14:47:09.421Z"
      },
      {
        "duration": 31,
        "start_time": "2023-06-25T14:47:09.476Z"
      },
      {
        "duration": 5,
        "start_time": "2023-06-25T14:47:09.509Z"
      },
      {
        "duration": 12,
        "start_time": "2023-06-25T14:47:09.515Z"
      },
      {
        "duration": 38,
        "start_time": "2023-06-25T14:47:09.528Z"
      },
      {
        "duration": 5,
        "start_time": "2023-06-25T14:47:09.568Z"
      },
      {
        "duration": 7,
        "start_time": "2023-06-25T14:47:09.576Z"
      },
      {
        "duration": 10,
        "start_time": "2023-06-25T14:47:09.585Z"
      },
      {
        "duration": 90,
        "start_time": "2023-06-26T06:57:33.818Z"
      },
      {
        "duration": 1849,
        "start_time": "2023-06-26T06:57:45.434Z"
      },
      {
        "duration": 414,
        "start_time": "2023-06-26T06:57:47.293Z"
      },
      {
        "duration": 13,
        "start_time": "2023-06-26T06:57:47.709Z"
      },
      {
        "duration": 12,
        "start_time": "2023-06-26T06:57:47.724Z"
      },
      {
        "duration": 14,
        "start_time": "2023-06-26T06:57:47.737Z"
      },
      {
        "duration": 15,
        "start_time": "2023-06-26T06:57:47.753Z"
      },
      {
        "duration": 18,
        "start_time": "2023-06-26T06:57:47.770Z"
      },
      {
        "duration": 78,
        "start_time": "2023-06-26T06:57:47.790Z"
      },
      {
        "duration": 43,
        "start_time": "2023-06-26T06:57:47.871Z"
      },
      {
        "duration": 52,
        "start_time": "2023-06-26T06:57:47.918Z"
      },
      {
        "duration": 18,
        "start_time": "2023-06-26T06:57:47.972Z"
      },
      {
        "duration": 18,
        "start_time": "2023-06-26T06:57:47.993Z"
      },
      {
        "duration": 13,
        "start_time": "2023-06-26T06:57:48.013Z"
      },
      {
        "duration": 43,
        "start_time": "2023-06-26T06:57:48.072Z"
      },
      {
        "duration": 92,
        "start_time": "2023-06-26T06:57:48.117Z"
      },
      {
        "duration": 97,
        "start_time": "2023-06-26T06:57:48.217Z"
      },
      {
        "duration": 58,
        "start_time": "2023-06-26T06:57:48.317Z"
      },
      {
        "duration": 32,
        "start_time": "2023-06-26T06:57:48.380Z"
      },
      {
        "duration": 61,
        "start_time": "2023-06-26T06:57:48.414Z"
      },
      {
        "duration": 10,
        "start_time": "2023-06-26T06:57:48.477Z"
      },
      {
        "duration": 83,
        "start_time": "2023-06-26T06:57:48.489Z"
      },
      {
        "duration": 30,
        "start_time": "2023-06-26T06:57:48.577Z"
      },
      {
        "duration": 83,
        "start_time": "2023-06-26T06:57:48.610Z"
      },
      {
        "duration": 4,
        "start_time": "2023-06-26T06:57:48.699Z"
      },
      {
        "duration": 73,
        "start_time": "2023-06-26T06:57:48.705Z"
      },
      {
        "duration": 23,
        "start_time": "2023-06-26T06:57:48.780Z"
      },
      {
        "duration": 100,
        "start_time": "2023-06-26T06:57:48.807Z"
      },
      {
        "duration": 61,
        "start_time": "2023-06-26T06:57:48.910Z"
      },
      {
        "duration": 103,
        "start_time": "2023-06-26T06:57:48.978Z"
      },
      {
        "duration": 9,
        "start_time": "2023-06-26T06:57:49.086Z"
      },
      {
        "duration": 35,
        "start_time": "2023-06-26T06:57:49.103Z"
      },
      {
        "duration": 128,
        "start_time": "2023-06-26T06:57:49.140Z"
      },
      {
        "duration": 20,
        "start_time": "2023-06-26T06:57:49.270Z"
      },
      {
        "duration": 26,
        "start_time": "2023-06-26T06:57:49.292Z"
      },
      {
        "duration": 1369,
        "start_time": "2023-06-26T06:57:49.320Z"
      },
      {
        "duration": 111,
        "start_time": "2023-06-26T06:57:50.691Z"
      },
      {
        "duration": 10,
        "start_time": "2023-06-26T06:57:50.805Z"
      },
      {
        "duration": 20,
        "start_time": "2023-06-26T06:57:50.817Z"
      },
      {
        "duration": 65,
        "start_time": "2023-06-26T06:57:50.839Z"
      },
      {
        "duration": 70,
        "start_time": "2023-06-26T06:57:50.909Z"
      },
      {
        "duration": 29,
        "start_time": "2023-06-26T06:57:50.986Z"
      },
      {
        "duration": 384,
        "start_time": "2023-06-26T06:57:51.018Z"
      },
      {
        "duration": 165,
        "start_time": "2023-06-26T06:57:51.404Z"
      },
      {
        "duration": 23,
        "start_time": "2023-06-26T06:57:51.575Z"
      },
      {
        "duration": 14,
        "start_time": "2023-06-26T06:57:51.601Z"
      },
      {
        "duration": 27,
        "start_time": "2023-06-26T06:57:51.617Z"
      },
      {
        "duration": 31,
        "start_time": "2023-06-26T06:57:51.646Z"
      },
      {
        "duration": 6,
        "start_time": "2023-06-26T06:57:51.679Z"
      },
      {
        "duration": 303,
        "start_time": "2023-06-26T06:57:51.686Z"
      },
      {
        "duration": 18,
        "start_time": "2023-06-26T06:57:51.993Z"
      },
      {
        "duration": 39,
        "start_time": "2023-06-26T06:57:52.013Z"
      },
      {
        "duration": 55,
        "start_time": "2023-06-26T06:57:52.054Z"
      },
      {
        "duration": 27,
        "start_time": "2023-06-26T06:57:52.111Z"
      },
      {
        "duration": 46,
        "start_time": "2023-06-26T06:57:52.140Z"
      },
      {
        "duration": 62,
        "start_time": "2023-06-26T06:57:52.188Z"
      },
      {
        "duration": 43,
        "start_time": "2023-06-26T06:57:52.252Z"
      },
      {
        "duration": 144,
        "start_time": "2023-06-26T06:57:52.302Z"
      },
      {
        "duration": 59,
        "start_time": "2023-06-26T06:57:52.448Z"
      },
      {
        "duration": 23,
        "start_time": "2023-06-26T06:57:52.508Z"
      },
      {
        "duration": 8,
        "start_time": "2023-06-26T06:57:52.532Z"
      },
      {
        "duration": 41,
        "start_time": "2023-06-26T06:57:52.542Z"
      },
      {
        "duration": 28,
        "start_time": "2023-06-26T06:57:52.587Z"
      },
      {
        "duration": 40,
        "start_time": "2023-06-26T06:57:52.617Z"
      },
      {
        "duration": 21,
        "start_time": "2023-06-26T06:57:52.659Z"
      },
      {
        "duration": 31,
        "start_time": "2023-06-26T06:57:52.682Z"
      },
      {
        "duration": 21,
        "start_time": "2023-06-26T06:57:52.716Z"
      },
      {
        "duration": 38,
        "start_time": "2023-06-26T06:57:52.738Z"
      },
      {
        "duration": 539,
        "start_time": "2023-06-26T06:57:52.781Z"
      },
      {
        "duration": 24,
        "start_time": "2023-06-26T06:57:53.323Z"
      },
      {
        "duration": 37,
        "start_time": "2023-06-26T06:57:53.349Z"
      },
      {
        "duration": 20,
        "start_time": "2023-06-26T06:57:53.388Z"
      },
      {
        "duration": 37,
        "start_time": "2023-06-26T06:57:53.410Z"
      },
      {
        "duration": 37,
        "start_time": "2023-06-26T06:57:53.450Z"
      },
      {
        "duration": 531,
        "start_time": "2023-06-26T06:57:53.489Z"
      },
      {
        "duration": 20,
        "start_time": "2023-06-26T06:57:54.023Z"
      },
      {
        "duration": 36,
        "start_time": "2023-06-26T06:57:54.046Z"
      },
      {
        "duration": 25,
        "start_time": "2023-06-26T06:57:54.084Z"
      },
      {
        "duration": 36,
        "start_time": "2023-06-26T06:57:54.112Z"
      },
      {
        "duration": 26,
        "start_time": "2023-06-26T06:57:54.151Z"
      },
      {
        "duration": 535,
        "start_time": "2023-06-26T06:57:54.185Z"
      },
      {
        "duration": 32,
        "start_time": "2023-06-26T06:57:54.722Z"
      },
      {
        "duration": 65,
        "start_time": "2023-06-26T06:57:54.756Z"
      },
      {
        "duration": 61,
        "start_time": "2023-06-26T06:57:54.825Z"
      },
      {
        "duration": 19,
        "start_time": "2023-06-26T06:57:54.888Z"
      },
      {
        "duration": 623,
        "start_time": "2023-06-26T06:57:54.908Z"
      },
      {
        "duration": 11,
        "start_time": "2023-06-26T06:57:55.534Z"
      },
      {
        "duration": 32,
        "start_time": "2023-06-26T06:57:55.547Z"
      },
      {
        "duration": 17,
        "start_time": "2023-06-26T06:57:55.587Z"
      },
      {
        "duration": 23,
        "start_time": "2023-06-26T06:57:55.608Z"
      },
      {
        "duration": 10,
        "start_time": "2023-06-26T06:57:55.633Z"
      },
      {
        "duration": 8,
        "start_time": "2023-06-26T06:57:55.645Z"
      },
      {
        "duration": 20,
        "start_time": "2023-06-26T06:57:55.655Z"
      },
      {
        "duration": 31,
        "start_time": "2023-06-26T06:57:55.677Z"
      },
      {
        "duration": 18,
        "start_time": "2023-06-26T06:57:55.711Z"
      },
      {
        "duration": 41,
        "start_time": "2023-06-26T06:57:55.731Z"
      },
      {
        "duration": 27,
        "start_time": "2023-06-26T06:57:55.780Z"
      },
      {
        "duration": 28,
        "start_time": "2023-06-26T06:57:55.811Z"
      },
      {
        "duration": 28,
        "start_time": "2023-06-26T06:57:55.841Z"
      },
      {
        "duration": 42,
        "start_time": "2023-06-26T06:57:55.871Z"
      },
      {
        "duration": 23,
        "start_time": "2023-06-26T06:57:55.915Z"
      },
      {
        "duration": 61,
        "start_time": "2023-06-26T06:57:55.940Z"
      },
      {
        "duration": 24,
        "start_time": "2023-06-26T06:57:56.003Z"
      },
      {
        "duration": 58,
        "start_time": "2023-06-26T06:57:56.029Z"
      },
      {
        "duration": 26,
        "start_time": "2023-06-26T06:57:56.093Z"
      },
      {
        "duration": 33,
        "start_time": "2023-06-26T06:57:56.121Z"
      },
      {
        "duration": 35,
        "start_time": "2023-06-26T06:57:56.156Z"
      },
      {
        "duration": 14,
        "start_time": "2023-06-26T06:57:56.193Z"
      },
      {
        "duration": 14,
        "start_time": "2023-06-26T06:57:56.217Z"
      },
      {
        "duration": 54,
        "start_time": "2023-06-26T06:57:56.233Z"
      },
      {
        "duration": 21,
        "start_time": "2023-06-26T06:57:56.289Z"
      },
      {
        "duration": 11,
        "start_time": "2023-06-26T06:57:56.314Z"
      },
      {
        "duration": 21,
        "start_time": "2023-06-26T06:57:56.327Z"
      },
      {
        "duration": 11,
        "start_time": "2023-06-26T07:08:12.627Z"
      },
      {
        "duration": 56,
        "start_time": "2023-06-26T07:08:28.346Z"
      },
      {
        "duration": 1452,
        "start_time": "2023-06-26T07:08:49.256Z"
      },
      {
        "duration": 412,
        "start_time": "2023-06-26T07:08:50.710Z"
      },
      {
        "duration": 12,
        "start_time": "2023-06-26T07:08:51.124Z"
      },
      {
        "duration": 23,
        "start_time": "2023-06-26T07:08:51.138Z"
      },
      {
        "duration": 26,
        "start_time": "2023-06-26T07:08:51.163Z"
      },
      {
        "duration": 14,
        "start_time": "2023-06-26T07:08:51.190Z"
      },
      {
        "duration": 13,
        "start_time": "2023-06-26T07:08:51.208Z"
      },
      {
        "duration": 30,
        "start_time": "2023-06-26T07:08:51.222Z"
      },
      {
        "duration": 39,
        "start_time": "2023-06-26T07:08:51.254Z"
      },
      {
        "duration": 15,
        "start_time": "2023-06-26T07:08:51.295Z"
      },
      {
        "duration": 15,
        "start_time": "2023-06-26T07:08:51.312Z"
      },
      {
        "duration": 14,
        "start_time": "2023-06-26T07:08:51.329Z"
      },
      {
        "duration": 50,
        "start_time": "2023-06-26T07:08:51.345Z"
      },
      {
        "duration": 24,
        "start_time": "2023-06-26T07:08:51.405Z"
      },
      {
        "duration": 60,
        "start_time": "2023-06-26T07:08:51.431Z"
      },
      {
        "duration": 40,
        "start_time": "2023-06-26T07:08:51.497Z"
      },
      {
        "duration": 10,
        "start_time": "2023-06-26T07:08:51.539Z"
      },
      {
        "duration": 28,
        "start_time": "2023-06-26T07:08:51.550Z"
      },
      {
        "duration": 26,
        "start_time": "2023-06-26T07:08:51.583Z"
      },
      {
        "duration": 4,
        "start_time": "2023-06-26T07:08:51.611Z"
      },
      {
        "duration": 25,
        "start_time": "2023-06-26T07:08:51.617Z"
      },
      {
        "duration": 14,
        "start_time": "2023-06-26T07:08:51.643Z"
      },
      {
        "duration": 70,
        "start_time": "2023-06-26T07:08:51.659Z"
      },
      {
        "duration": 3,
        "start_time": "2023-06-26T07:08:51.730Z"
      },
      {
        "duration": 34,
        "start_time": "2023-06-26T07:08:51.735Z"
      },
      {
        "duration": 34,
        "start_time": "2023-06-26T07:08:51.774Z"
      },
      {
        "duration": 49,
        "start_time": "2023-06-26T07:08:51.811Z"
      },
      {
        "duration": 42,
        "start_time": "2023-06-26T07:08:51.862Z"
      },
      {
        "duration": 34,
        "start_time": "2023-06-26T07:08:51.912Z"
      },
      {
        "duration": 4,
        "start_time": "2023-06-26T07:08:51.948Z"
      },
      {
        "duration": 15,
        "start_time": "2023-06-26T07:08:51.954Z"
      },
      {
        "duration": 60,
        "start_time": "2023-06-26T07:08:51.971Z"
      },
      {
        "duration": 15,
        "start_time": "2023-06-26T07:08:52.032Z"
      },
      {
        "duration": 15,
        "start_time": "2023-06-26T07:08:52.049Z"
      },
      {
        "duration": 733,
        "start_time": "2023-06-26T07:08:52.065Z"
      },
      {
        "duration": 111,
        "start_time": "2023-06-26T07:08:52.804Z"
      },
      {
        "duration": 15,
        "start_time": "2023-06-26T07:08:52.918Z"
      },
      {
        "duration": 20,
        "start_time": "2023-06-26T07:08:52.935Z"
      },
      {
        "duration": 52,
        "start_time": "2023-06-26T07:08:52.957Z"
      },
      {
        "duration": 33,
        "start_time": "2023-06-26T07:08:53.013Z"
      },
      {
        "duration": 35,
        "start_time": "2023-06-26T07:08:53.052Z"
      },
      {
        "duration": 313,
        "start_time": "2023-06-26T07:08:53.088Z"
      },
      {
        "duration": 160,
        "start_time": "2023-06-26T07:08:53.407Z"
      },
      {
        "duration": 19,
        "start_time": "2023-06-26T07:08:53.569Z"
      },
      {
        "duration": 26,
        "start_time": "2023-06-26T07:08:53.590Z"
      },
      {
        "duration": 21,
        "start_time": "2023-06-26T07:08:53.618Z"
      },
      {
        "duration": 34,
        "start_time": "2023-06-26T07:08:53.641Z"
      },
      {
        "duration": 5,
        "start_time": "2023-06-26T07:08:53.682Z"
      },
      {
        "duration": 302,
        "start_time": "2023-06-26T07:08:53.689Z"
      },
      {
        "duration": 24,
        "start_time": "2023-06-26T07:08:53.996Z"
      },
      {
        "duration": 7,
        "start_time": "2023-06-26T07:08:54.022Z"
      },
      {
        "duration": 37,
        "start_time": "2023-06-26T07:08:54.031Z"
      },
      {
        "duration": 20,
        "start_time": "2023-06-26T07:08:54.069Z"
      },
      {
        "duration": 25,
        "start_time": "2023-06-26T07:08:54.092Z"
      },
      {
        "duration": 32,
        "start_time": "2023-06-26T07:08:54.123Z"
      },
      {
        "duration": 33,
        "start_time": "2023-06-26T07:08:54.158Z"
      },
      {
        "duration": 154,
        "start_time": "2023-06-26T07:08:54.193Z"
      },
      {
        "duration": 72,
        "start_time": "2023-06-26T07:08:54.349Z"
      },
      {
        "duration": 55,
        "start_time": "2023-06-26T07:08:54.423Z"
      },
      {
        "duration": 41,
        "start_time": "2023-06-26T07:08:54.480Z"
      },
      {
        "duration": 90,
        "start_time": "2023-06-26T07:08:54.523Z"
      },
      {
        "duration": 38,
        "start_time": "2023-06-26T07:08:54.616Z"
      },
      {
        "duration": 18,
        "start_time": "2023-06-26T07:08:54.656Z"
      },
      {
        "duration": 31,
        "start_time": "2023-06-26T07:08:54.678Z"
      },
      {
        "duration": 18,
        "start_time": "2023-06-26T07:08:54.713Z"
      },
      {
        "duration": 20,
        "start_time": "2023-06-26T07:08:54.733Z"
      },
      {
        "duration": 43,
        "start_time": "2023-06-26T07:08:54.755Z"
      },
      {
        "duration": 544,
        "start_time": "2023-06-26T07:08:54.803Z"
      },
      {
        "duration": 51,
        "start_time": "2023-06-26T07:08:55.349Z"
      },
      {
        "duration": 31,
        "start_time": "2023-06-26T07:08:55.402Z"
      },
      {
        "duration": 10,
        "start_time": "2023-06-26T07:08:55.435Z"
      },
      {
        "duration": 32,
        "start_time": "2023-06-26T07:08:55.447Z"
      },
      {
        "duration": 33,
        "start_time": "2023-06-26T07:08:55.481Z"
      },
      {
        "duration": 490,
        "start_time": "2023-06-26T07:08:55.528Z"
      },
      {
        "duration": 18,
        "start_time": "2023-06-26T07:08:56.026Z"
      },
      {
        "duration": 32,
        "start_time": "2023-06-26T07:08:56.045Z"
      },
      {
        "duration": 14,
        "start_time": "2023-06-26T07:08:56.079Z"
      },
      {
        "duration": 30,
        "start_time": "2023-06-26T07:08:56.094Z"
      },
      {
        "duration": 16,
        "start_time": "2023-06-26T07:08:56.127Z"
      },
      {
        "duration": 473,
        "start_time": "2023-06-26T07:08:56.145Z"
      },
      {
        "duration": 18,
        "start_time": "2023-06-26T07:08:56.620Z"
      },
      {
        "duration": 48,
        "start_time": "2023-06-26T07:08:56.640Z"
      },
      {
        "duration": 62,
        "start_time": "2023-06-26T07:08:56.689Z"
      },
      {
        "duration": 29,
        "start_time": "2023-06-26T07:08:56.753Z"
      },
      {
        "duration": 555,
        "start_time": "2023-06-26T07:08:56.784Z"
      },
      {
        "duration": 9,
        "start_time": "2023-06-26T07:08:57.341Z"
      },
      {
        "duration": 38,
        "start_time": "2023-06-26T07:08:57.352Z"
      },
      {
        "duration": 44,
        "start_time": "2023-06-26T07:08:57.400Z"
      },
      {
        "duration": 58,
        "start_time": "2023-06-26T07:08:57.446Z"
      },
      {
        "duration": 12,
        "start_time": "2023-06-26T07:08:57.509Z"
      },
      {
        "duration": 26,
        "start_time": "2023-06-26T07:08:57.523Z"
      },
      {
        "duration": 12,
        "start_time": "2023-06-26T07:08:57.551Z"
      },
      {
        "duration": 51,
        "start_time": "2023-06-26T07:08:57.565Z"
      },
      {
        "duration": 12,
        "start_time": "2023-06-26T07:08:57.618Z"
      },
      {
        "duration": 24,
        "start_time": "2023-06-26T07:08:57.632Z"
      },
      {
        "duration": 29,
        "start_time": "2023-06-26T07:08:57.658Z"
      },
      {
        "duration": 16,
        "start_time": "2023-06-26T07:08:57.689Z"
      },
      {
        "duration": 20,
        "start_time": "2023-06-26T07:08:57.707Z"
      },
      {
        "duration": 28,
        "start_time": "2023-06-26T07:08:57.729Z"
      },
      {
        "duration": 27,
        "start_time": "2023-06-26T07:08:57.759Z"
      },
      {
        "duration": 34,
        "start_time": "2023-06-26T07:08:57.794Z"
      },
      {
        "duration": 19,
        "start_time": "2023-06-26T07:08:57.830Z"
      },
      {
        "duration": 40,
        "start_time": "2023-06-26T07:08:57.851Z"
      },
      {
        "duration": 21,
        "start_time": "2023-06-26T07:08:57.893Z"
      },
      {
        "duration": 27,
        "start_time": "2023-06-26T07:08:57.916Z"
      },
      {
        "duration": 44,
        "start_time": "2023-06-26T07:08:57.945Z"
      },
      {
        "duration": 8,
        "start_time": "2023-06-26T07:08:58.000Z"
      },
      {
        "duration": 37,
        "start_time": "2023-06-26T07:08:58.010Z"
      },
      {
        "duration": 52,
        "start_time": "2023-06-26T07:08:58.049Z"
      },
      {
        "duration": 35,
        "start_time": "2023-06-26T07:08:58.102Z"
      },
      {
        "duration": 15,
        "start_time": "2023-06-26T07:08:58.140Z"
      },
      {
        "duration": 21,
        "start_time": "2023-06-26T07:08:58.157Z"
      },
      {
        "duration": 86,
        "start_time": "2023-06-26T07:10:21.849Z"
      },
      {
        "duration": 48,
        "start_time": "2023-06-26T07:10:37.311Z"
      },
      {
        "duration": 1465,
        "start_time": "2023-06-26T07:15:44.410Z"
      },
      {
        "duration": 440,
        "start_time": "2023-06-26T07:15:45.878Z"
      },
      {
        "duration": 12,
        "start_time": "2023-06-26T07:15:46.320Z"
      },
      {
        "duration": 13,
        "start_time": "2023-06-26T07:15:46.334Z"
      },
      {
        "duration": 25,
        "start_time": "2023-06-26T07:15:46.350Z"
      },
      {
        "duration": 15,
        "start_time": "2023-06-26T07:15:46.379Z"
      },
      {
        "duration": 19,
        "start_time": "2023-06-26T07:15:46.402Z"
      },
      {
        "duration": 32,
        "start_time": "2023-06-26T07:15:46.423Z"
      },
      {
        "duration": 49,
        "start_time": "2023-06-26T07:15:46.457Z"
      },
      {
        "duration": 9,
        "start_time": "2023-06-26T07:15:46.507Z"
      },
      {
        "duration": 12,
        "start_time": "2023-06-26T07:15:46.518Z"
      },
      {
        "duration": 11,
        "start_time": "2023-06-26T07:15:46.532Z"
      },
      {
        "duration": 13,
        "start_time": "2023-06-26T07:15:46.545Z"
      },
      {
        "duration": 37,
        "start_time": "2023-06-26T07:15:46.570Z"
      },
      {
        "duration": 32,
        "start_time": "2023-06-26T07:15:46.611Z"
      },
      {
        "duration": 45,
        "start_time": "2023-06-26T07:15:46.644Z"
      },
      {
        "duration": 20,
        "start_time": "2023-06-26T07:15:46.691Z"
      },
      {
        "duration": 16,
        "start_time": "2023-06-26T07:15:46.713Z"
      },
      {
        "duration": 15,
        "start_time": "2023-06-26T07:15:46.731Z"
      },
      {
        "duration": 50,
        "start_time": "2023-06-26T07:15:46.748Z"
      },
      {
        "duration": 23,
        "start_time": "2023-06-26T07:15:46.800Z"
      },
      {
        "duration": 14,
        "start_time": "2023-06-26T07:15:46.825Z"
      },
      {
        "duration": 45,
        "start_time": "2023-06-26T07:15:46.841Z"
      },
      {
        "duration": 8,
        "start_time": "2023-06-26T07:15:46.888Z"
      },
      {
        "duration": 31,
        "start_time": "2023-06-26T07:15:46.898Z"
      },
      {
        "duration": 20,
        "start_time": "2023-06-26T07:15:46.930Z"
      },
      {
        "duration": 59,
        "start_time": "2023-06-26T07:15:46.952Z"
      },
      {
        "duration": 40,
        "start_time": "2023-06-26T07:15:47.013Z"
      },
      {
        "duration": 35,
        "start_time": "2023-06-26T07:15:47.055Z"
      },
      {
        "duration": 30,
        "start_time": "2023-06-26T07:15:47.092Z"
      },
      {
        "duration": 27,
        "start_time": "2023-06-26T07:15:47.124Z"
      },
      {
        "duration": 11,
        "start_time": "2023-06-26T07:15:47.167Z"
      },
      {
        "duration": 19,
        "start_time": "2023-06-26T07:15:47.184Z"
      },
      {
        "duration": 41,
        "start_time": "2023-06-26T07:15:47.204Z"
      },
      {
        "duration": 27,
        "start_time": "2023-06-26T07:15:47.246Z"
      },
      {
        "duration": 36,
        "start_time": "2023-06-26T07:15:47.275Z"
      },
      {
        "duration": 714,
        "start_time": "2023-06-26T07:15:47.314Z"
      },
      {
        "duration": 105,
        "start_time": "2023-06-26T07:15:48.030Z"
      },
      {
        "duration": 13,
        "start_time": "2023-06-26T07:15:48.137Z"
      },
      {
        "duration": 28,
        "start_time": "2023-06-26T07:15:48.152Z"
      },
      {
        "duration": 46,
        "start_time": "2023-06-26T07:15:48.187Z"
      },
      {
        "duration": 53,
        "start_time": "2023-06-26T07:15:48.235Z"
      },
      {
        "duration": 34,
        "start_time": "2023-06-26T07:15:48.292Z"
      },
      {
        "duration": 287,
        "start_time": "2023-06-26T07:15:48.328Z"
      },
      {
        "duration": 197,
        "start_time": "2023-06-26T07:15:48.618Z"
      },
      {
        "duration": 17,
        "start_time": "2023-06-26T07:15:48.817Z"
      },
      {
        "duration": 9,
        "start_time": "2023-06-26T07:15:48.835Z"
      },
      {
        "duration": 28,
        "start_time": "2023-06-26T07:15:48.845Z"
      },
      {
        "duration": 62,
        "start_time": "2023-06-26T07:15:48.875Z"
      },
      {
        "duration": 7,
        "start_time": "2023-06-26T07:15:48.940Z"
      },
      {
        "duration": 301,
        "start_time": "2023-06-26T07:15:48.950Z"
      },
      {
        "duration": 22,
        "start_time": "2023-06-26T07:15:49.253Z"
      },
      {
        "duration": 5,
        "start_time": "2023-06-26T07:15:49.277Z"
      },
      {
        "duration": 38,
        "start_time": "2023-06-26T07:15:49.284Z"
      },
      {
        "duration": 12,
        "start_time": "2023-06-26T07:15:49.324Z"
      },
      {
        "duration": 15,
        "start_time": "2023-06-26T07:15:49.338Z"
      },
      {
        "duration": 34,
        "start_time": "2023-06-26T07:15:49.354Z"
      },
      {
        "duration": 19,
        "start_time": "2023-06-26T07:15:49.402Z"
      },
      {
        "duration": 113,
        "start_time": "2023-06-26T07:15:49.423Z"
      },
      {
        "duration": 48,
        "start_time": "2023-06-26T07:15:49.538Z"
      },
      {
        "duration": 32,
        "start_time": "2023-06-26T07:15:49.587Z"
      },
      {
        "duration": 8,
        "start_time": "2023-06-26T07:15:49.621Z"
      },
      {
        "duration": 44,
        "start_time": "2023-06-26T07:15:49.632Z"
      },
      {
        "duration": 22,
        "start_time": "2023-06-26T07:15:49.678Z"
      },
      {
        "duration": 17,
        "start_time": "2023-06-26T07:15:49.702Z"
      },
      {
        "duration": 22,
        "start_time": "2023-06-26T07:15:49.721Z"
      },
      {
        "duration": 11,
        "start_time": "2023-06-26T07:15:49.745Z"
      },
      {
        "duration": 39,
        "start_time": "2023-06-26T07:15:49.779Z"
      },
      {
        "duration": 29,
        "start_time": "2023-06-26T07:15:49.824Z"
      },
      {
        "duration": 489,
        "start_time": "2023-06-26T07:15:49.856Z"
      },
      {
        "duration": 28,
        "start_time": "2023-06-26T07:15:50.347Z"
      },
      {
        "duration": 34,
        "start_time": "2023-06-26T07:15:50.382Z"
      },
      {
        "duration": 28,
        "start_time": "2023-06-26T07:15:50.418Z"
      },
      {
        "duration": 65,
        "start_time": "2023-06-26T07:15:50.448Z"
      },
      {
        "duration": 22,
        "start_time": "2023-06-26T07:15:50.517Z"
      },
      {
        "duration": 472,
        "start_time": "2023-06-26T07:15:50.542Z"
      },
      {
        "duration": 17,
        "start_time": "2023-06-26T07:15:51.016Z"
      },
      {
        "duration": 41,
        "start_time": "2023-06-26T07:15:51.035Z"
      },
      {
        "duration": 26,
        "start_time": "2023-06-26T07:15:51.085Z"
      },
      {
        "duration": 21,
        "start_time": "2023-06-26T07:15:51.113Z"
      },
      {
        "duration": 28,
        "start_time": "2023-06-26T07:15:51.136Z"
      },
      {
        "duration": 431,
        "start_time": "2023-06-26T07:15:51.166Z"
      },
      {
        "duration": 17,
        "start_time": "2023-06-26T07:15:51.600Z"
      },
      {
        "duration": 62,
        "start_time": "2023-06-26T07:15:51.619Z"
      },
      {
        "duration": 52,
        "start_time": "2023-06-26T07:15:51.683Z"
      },
      {
        "duration": 8,
        "start_time": "2023-06-26T07:15:51.737Z"
      },
      {
        "duration": 563,
        "start_time": "2023-06-26T07:15:51.746Z"
      },
      {
        "duration": 11,
        "start_time": "2023-06-26T07:15:52.315Z"
      },
      {
        "duration": 13,
        "start_time": "2023-06-26T07:15:52.328Z"
      },
      {
        "duration": 12,
        "start_time": "2023-06-26T07:15:52.344Z"
      },
      {
        "duration": 37,
        "start_time": "2023-06-26T07:15:52.358Z"
      },
      {
        "duration": 20,
        "start_time": "2023-06-26T07:15:52.401Z"
      },
      {
        "duration": 10,
        "start_time": "2023-06-26T07:15:52.424Z"
      },
      {
        "duration": 14,
        "start_time": "2023-06-26T07:15:52.436Z"
      },
      {
        "duration": 37,
        "start_time": "2023-06-26T07:15:52.452Z"
      },
      {
        "duration": 12,
        "start_time": "2023-06-26T07:15:52.493Z"
      },
      {
        "duration": 47,
        "start_time": "2023-06-26T07:15:52.507Z"
      },
      {
        "duration": 61,
        "start_time": "2023-06-26T07:15:52.555Z"
      },
      {
        "duration": 17,
        "start_time": "2023-06-26T07:15:52.618Z"
      },
      {
        "duration": 30,
        "start_time": "2023-06-26T07:15:52.637Z"
      },
      {
        "duration": 60,
        "start_time": "2023-06-26T07:15:52.669Z"
      },
      {
        "duration": 18,
        "start_time": "2023-06-26T07:15:52.731Z"
      },
      {
        "duration": 62,
        "start_time": "2023-06-26T07:15:52.752Z"
      },
      {
        "duration": 18,
        "start_time": "2023-06-26T07:15:52.816Z"
      },
      {
        "duration": 59,
        "start_time": "2023-06-26T07:15:52.837Z"
      },
      {
        "duration": 22,
        "start_time": "2023-06-26T07:15:52.908Z"
      },
      {
        "duration": 27,
        "start_time": "2023-06-26T07:15:52.932Z"
      },
      {
        "duration": 52,
        "start_time": "2023-06-26T07:15:52.962Z"
      },
      {
        "duration": 7,
        "start_time": "2023-06-26T07:15:53.019Z"
      },
      {
        "duration": 36,
        "start_time": "2023-06-26T07:15:53.028Z"
      },
      {
        "duration": 40,
        "start_time": "2023-06-26T07:15:53.066Z"
      },
      {
        "duration": 9,
        "start_time": "2023-06-26T07:15:53.108Z"
      },
      {
        "duration": 17,
        "start_time": "2023-06-26T07:15:53.119Z"
      },
      {
        "duration": 21,
        "start_time": "2023-06-26T07:15:53.137Z"
      },
      {
        "duration": 1311,
        "start_time": "2023-06-26T12:26:16.797Z"
      },
      {
        "duration": 298,
        "start_time": "2023-06-26T12:26:18.110Z"
      },
      {
        "duration": 12,
        "start_time": "2023-06-26T12:26:18.410Z"
      },
      {
        "duration": 15,
        "start_time": "2023-06-26T12:26:18.424Z"
      },
      {
        "duration": 17,
        "start_time": "2023-06-26T12:26:18.457Z"
      },
      {
        "duration": 25,
        "start_time": "2023-06-26T12:26:18.476Z"
      },
      {
        "duration": 34,
        "start_time": "2023-06-26T12:26:18.503Z"
      },
      {
        "duration": 44,
        "start_time": "2023-06-26T12:26:18.539Z"
      },
      {
        "duration": 36,
        "start_time": "2023-06-26T12:26:18.585Z"
      },
      {
        "duration": 25,
        "start_time": "2023-06-26T12:26:18.623Z"
      },
      {
        "duration": 27,
        "start_time": "2023-06-26T12:26:18.650Z"
      },
      {
        "duration": 16,
        "start_time": "2023-06-26T12:26:18.679Z"
      },
      {
        "duration": 15,
        "start_time": "2023-06-26T12:26:18.697Z"
      },
      {
        "duration": 34,
        "start_time": "2023-06-26T12:26:18.715Z"
      },
      {
        "duration": 49,
        "start_time": "2023-06-26T12:26:18.750Z"
      },
      {
        "duration": 26,
        "start_time": "2023-06-26T12:26:18.801Z"
      },
      {
        "duration": 20,
        "start_time": "2023-06-26T12:26:18.828Z"
      },
      {
        "duration": 30,
        "start_time": "2023-06-26T12:26:18.850Z"
      },
      {
        "duration": 16,
        "start_time": "2023-06-26T12:26:18.882Z"
      },
      {
        "duration": 10,
        "start_time": "2023-06-26T12:26:18.899Z"
      },
      {
        "duration": 27,
        "start_time": "2023-06-26T12:26:18.910Z"
      },
      {
        "duration": 9,
        "start_time": "2023-06-26T12:26:18.939Z"
      },
      {
        "duration": 44,
        "start_time": "2023-06-26T12:26:18.950Z"
      },
      {
        "duration": 3,
        "start_time": "2023-06-26T12:26:18.996Z"
      },
      {
        "duration": 24,
        "start_time": "2023-06-26T12:26:19.001Z"
      },
      {
        "duration": 23,
        "start_time": "2023-06-26T12:26:19.026Z"
      },
      {
        "duration": 50,
        "start_time": "2023-06-26T12:26:19.051Z"
      },
      {
        "duration": 39,
        "start_time": "2023-06-26T12:26:19.103Z"
      },
      {
        "duration": 35,
        "start_time": "2023-06-26T12:26:19.144Z"
      },
      {
        "duration": 94,
        "start_time": "2023-06-26T12:26:19.180Z"
      },
      {
        "duration": 116,
        "start_time": "2023-06-26T12:26:19.276Z"
      },
      {
        "duration": 10,
        "start_time": "2023-06-26T12:26:19.394Z"
      },
      {
        "duration": 17,
        "start_time": "2023-06-26T12:26:19.405Z"
      },
      {
        "duration": 28,
        "start_time": "2023-06-26T12:26:19.423Z"
      },
      {
        "duration": 29,
        "start_time": "2023-06-26T12:26:19.453Z"
      },
      {
        "duration": 20,
        "start_time": "2023-06-26T12:26:19.484Z"
      },
      {
        "duration": 618,
        "start_time": "2023-06-26T12:26:19.506Z"
      },
      {
        "duration": 95,
        "start_time": "2023-06-26T12:26:20.126Z"
      },
      {
        "duration": 11,
        "start_time": "2023-06-26T12:26:20.222Z"
      },
      {
        "duration": 34,
        "start_time": "2023-06-26T12:26:20.235Z"
      },
      {
        "duration": 53,
        "start_time": "2023-06-26T12:26:20.274Z"
      },
      {
        "duration": 70,
        "start_time": "2023-06-26T12:26:20.329Z"
      },
      {
        "duration": 68,
        "start_time": "2023-06-26T12:26:20.401Z"
      },
      {
        "duration": 226,
        "start_time": "2023-06-26T12:26:20.471Z"
      },
      {
        "duration": 170,
        "start_time": "2023-06-26T12:26:20.699Z"
      },
      {
        "duration": 14,
        "start_time": "2023-06-26T12:26:20.871Z"
      },
      {
        "duration": 6,
        "start_time": "2023-06-26T12:26:20.887Z"
      },
      {
        "duration": 55,
        "start_time": "2023-06-26T12:26:20.894Z"
      },
      {
        "duration": 58,
        "start_time": "2023-06-26T12:26:20.951Z"
      },
      {
        "duration": 18,
        "start_time": "2023-06-26T12:26:21.011Z"
      },
      {
        "duration": 277,
        "start_time": "2023-06-26T12:26:21.031Z"
      },
      {
        "duration": 14,
        "start_time": "2023-06-26T12:26:21.310Z"
      },
      {
        "duration": 41,
        "start_time": "2023-06-26T12:26:21.325Z"
      },
      {
        "duration": 54,
        "start_time": "2023-06-26T12:26:21.368Z"
      },
      {
        "duration": 35,
        "start_time": "2023-06-26T12:26:21.423Z"
      },
      {
        "duration": 15,
        "start_time": "2023-06-26T12:26:21.465Z"
      },
      {
        "duration": 44,
        "start_time": "2023-06-26T12:26:21.482Z"
      },
      {
        "duration": 54,
        "start_time": "2023-06-26T12:26:21.528Z"
      },
      {
        "duration": 107,
        "start_time": "2023-06-26T12:26:21.583Z"
      },
      {
        "duration": 43,
        "start_time": "2023-06-26T12:26:21.691Z"
      },
      {
        "duration": 33,
        "start_time": "2023-06-26T12:26:21.736Z"
      },
      {
        "duration": 11,
        "start_time": "2023-06-26T12:26:21.771Z"
      },
      {
        "duration": 35,
        "start_time": "2023-06-26T12:26:21.783Z"
      },
      {
        "duration": 26,
        "start_time": "2023-06-26T12:26:21.820Z"
      },
      {
        "duration": 20,
        "start_time": "2023-06-26T12:26:21.848Z"
      },
      {
        "duration": 44,
        "start_time": "2023-06-26T12:26:21.870Z"
      },
      {
        "duration": 14,
        "start_time": "2023-06-26T12:26:21.916Z"
      },
      {
        "duration": 22,
        "start_time": "2023-06-26T12:26:21.932Z"
      },
      {
        "duration": 23,
        "start_time": "2023-06-26T12:26:21.963Z"
      },
      {
        "duration": 472,
        "start_time": "2023-06-26T12:26:21.988Z"
      },
      {
        "duration": 22,
        "start_time": "2023-06-26T12:26:22.463Z"
      },
      {
        "duration": 20,
        "start_time": "2023-06-26T12:26:22.487Z"
      },
      {
        "duration": 13,
        "start_time": "2023-06-26T12:26:22.509Z"
      },
      {
        "duration": 42,
        "start_time": "2023-06-26T12:26:22.524Z"
      },
      {
        "duration": 30,
        "start_time": "2023-06-26T12:26:22.571Z"
      },
      {
        "duration": 496,
        "start_time": "2023-06-26T12:26:22.603Z"
      },
      {
        "duration": 16,
        "start_time": "2023-06-26T12:26:23.100Z"
      },
      {
        "duration": 25,
        "start_time": "2023-06-26T12:26:23.118Z"
      },
      {
        "duration": 27,
        "start_time": "2023-06-26T12:26:23.145Z"
      },
      {
        "duration": 21,
        "start_time": "2023-06-26T12:26:23.173Z"
      },
      {
        "duration": 13,
        "start_time": "2023-06-26T12:26:23.196Z"
      },
      {
        "duration": 455,
        "start_time": "2023-06-26T12:26:23.211Z"
      },
      {
        "duration": 15,
        "start_time": "2023-06-26T12:26:23.670Z"
      },
      {
        "duration": 31,
        "start_time": "2023-06-26T12:26:23.687Z"
      },
      {
        "duration": 67,
        "start_time": "2023-06-26T12:26:23.720Z"
      },
      {
        "duration": 9,
        "start_time": "2023-06-26T12:26:23.789Z"
      },
      {
        "duration": 511,
        "start_time": "2023-06-26T12:26:23.800Z"
      },
      {
        "duration": 11,
        "start_time": "2023-06-26T12:26:24.312Z"
      },
      {
        "duration": 9,
        "start_time": "2023-06-26T12:26:24.324Z"
      },
      {
        "duration": 35,
        "start_time": "2023-06-26T12:26:24.335Z"
      },
      {
        "duration": 15,
        "start_time": "2023-06-26T12:26:24.371Z"
      },
      {
        "duration": 8,
        "start_time": "2023-06-26T12:26:24.387Z"
      },
      {
        "duration": 12,
        "start_time": "2023-06-26T12:26:24.397Z"
      },
      {
        "duration": 8,
        "start_time": "2023-06-26T12:26:24.410Z"
      },
      {
        "duration": 14,
        "start_time": "2023-06-26T12:26:24.420Z"
      },
      {
        "duration": 30,
        "start_time": "2023-06-26T12:26:24.436Z"
      },
      {
        "duration": 31,
        "start_time": "2023-06-26T12:26:24.468Z"
      },
      {
        "duration": 21,
        "start_time": "2023-06-26T12:26:24.501Z"
      },
      {
        "duration": 16,
        "start_time": "2023-06-26T12:26:24.524Z"
      },
      {
        "duration": 53,
        "start_time": "2023-06-26T12:26:24.542Z"
      },
      {
        "duration": 34,
        "start_time": "2023-06-26T12:26:24.597Z"
      },
      {
        "duration": 19,
        "start_time": "2023-06-26T12:26:24.633Z"
      },
      {
        "duration": 39,
        "start_time": "2023-06-26T12:26:24.653Z"
      },
      {
        "duration": 20,
        "start_time": "2023-06-26T12:26:24.693Z"
      },
      {
        "duration": 31,
        "start_time": "2023-06-26T12:26:24.715Z"
      },
      {
        "duration": 23,
        "start_time": "2023-06-26T12:26:24.748Z"
      },
      {
        "duration": 52,
        "start_time": "2023-06-26T12:26:24.773Z"
      },
      {
        "duration": 24,
        "start_time": "2023-06-26T12:26:24.827Z"
      },
      {
        "duration": 12,
        "start_time": "2023-06-26T12:26:24.854Z"
      },
      {
        "duration": 20,
        "start_time": "2023-06-26T12:26:24.870Z"
      },
      {
        "duration": 43,
        "start_time": "2023-06-26T12:26:24.891Z"
      },
      {
        "duration": 15,
        "start_time": "2023-06-26T12:26:24.936Z"
      },
      {
        "duration": 35,
        "start_time": "2023-06-26T12:26:24.953Z"
      },
      {
        "duration": 39,
        "start_time": "2023-06-26T12:26:24.990Z"
      },
      {
        "duration": 50,
        "start_time": "2023-06-27T02:09:27.748Z"
      },
      {
        "duration": 7,
        "start_time": "2023-06-27T02:09:44.903Z"
      },
      {
        "duration": 6,
        "start_time": "2023-06-27T02:11:05.914Z"
      },
      {
        "duration": 6,
        "start_time": "2023-06-27T02:12:19.073Z"
      },
      {
        "duration": 1592,
        "start_time": "2023-06-27T02:12:36.626Z"
      },
      {
        "duration": 368,
        "start_time": "2023-06-27T02:12:38.221Z"
      },
      {
        "duration": 12,
        "start_time": "2023-06-27T02:12:38.591Z"
      },
      {
        "duration": 12,
        "start_time": "2023-06-27T02:12:38.605Z"
      },
      {
        "duration": 9,
        "start_time": "2023-06-27T02:12:38.618Z"
      },
      {
        "duration": 23,
        "start_time": "2023-06-27T02:12:38.629Z"
      },
      {
        "duration": 13,
        "start_time": "2023-06-27T02:12:38.654Z"
      },
      {
        "duration": 23,
        "start_time": "2023-06-27T02:12:38.669Z"
      },
      {
        "duration": 20,
        "start_time": "2023-06-27T02:12:38.694Z"
      },
      {
        "duration": 6,
        "start_time": "2023-06-27T02:12:38.716Z"
      },
      {
        "duration": 32,
        "start_time": "2023-06-27T02:12:38.724Z"
      },
      {
        "duration": 9,
        "start_time": "2023-06-27T02:12:38.758Z"
      },
      {
        "duration": 6,
        "start_time": "2023-06-27T02:12:38.769Z"
      },
      {
        "duration": 25,
        "start_time": "2023-06-27T02:12:38.777Z"
      },
      {
        "duration": 67,
        "start_time": "2023-06-27T02:12:38.804Z"
      },
      {
        "duration": 28,
        "start_time": "2023-06-27T02:12:38.873Z"
      },
      {
        "duration": 10,
        "start_time": "2023-06-27T02:12:38.903Z"
      },
      {
        "duration": 41,
        "start_time": "2023-06-27T02:12:38.915Z"
      },
      {
        "duration": 17,
        "start_time": "2023-06-27T02:12:38.958Z"
      },
      {
        "duration": 5,
        "start_time": "2023-06-27T02:12:38.978Z"
      },
      {
        "duration": 15,
        "start_time": "2023-06-27T02:12:38.985Z"
      },
      {
        "duration": 18,
        "start_time": "2023-06-27T02:12:39.002Z"
      },
      {
        "duration": 55,
        "start_time": "2023-06-27T02:12:39.022Z"
      },
      {
        "duration": 4,
        "start_time": "2023-06-27T02:12:39.079Z"
      },
      {
        "duration": 94,
        "start_time": "2023-06-27T02:12:39.085Z"
      },
      {
        "duration": 13,
        "start_time": "2023-06-27T02:12:39.181Z"
      },
      {
        "duration": 30,
        "start_time": "2023-06-27T02:12:39.196Z"
      },
      {
        "duration": 38,
        "start_time": "2023-06-27T02:12:39.230Z"
      },
      {
        "duration": 28,
        "start_time": "2023-06-27T02:12:39.270Z"
      },
      {
        "duration": 17,
        "start_time": "2023-06-27T02:12:39.300Z"
      },
      {
        "duration": 41,
        "start_time": "2023-06-27T02:12:39.319Z"
      },
      {
        "duration": 28,
        "start_time": "2023-06-27T02:12:39.362Z"
      },
      {
        "duration": 4,
        "start_time": "2023-06-27T02:12:39.392Z"
      },
      {
        "duration": 9,
        "start_time": "2023-06-27T02:12:39.397Z"
      },
      {
        "duration": 50,
        "start_time": "2023-06-27T02:12:39.407Z"
      },
      {
        "duration": 7,
        "start_time": "2023-06-27T02:12:39.459Z"
      },
      {
        "duration": 14,
        "start_time": "2023-06-27T02:12:39.468Z"
      },
      {
        "duration": 554,
        "start_time": "2023-06-27T02:12:39.483Z"
      },
      {
        "duration": 93,
        "start_time": "2023-06-27T02:12:40.039Z"
      },
      {
        "duration": 18,
        "start_time": "2023-06-27T02:12:40.134Z"
      },
      {
        "duration": 13,
        "start_time": "2023-06-27T02:12:40.154Z"
      },
      {
        "duration": 30,
        "start_time": "2023-06-27T02:12:40.169Z"
      },
      {
        "duration": 51,
        "start_time": "2023-06-27T02:12:40.201Z"
      },
      {
        "duration": 27,
        "start_time": "2023-06-27T02:12:40.254Z"
      },
      {
        "duration": 256,
        "start_time": "2023-06-27T02:12:40.283Z"
      },
      {
        "duration": 141,
        "start_time": "2023-06-27T02:12:40.541Z"
      },
      {
        "duration": 16,
        "start_time": "2023-06-27T02:12:40.683Z"
      },
      {
        "duration": 6,
        "start_time": "2023-06-27T02:12:40.700Z"
      },
      {
        "duration": 15,
        "start_time": "2023-06-27T02:12:40.708Z"
      },
      {
        "duration": 48,
        "start_time": "2023-06-27T02:12:40.725Z"
      },
      {
        "duration": 4,
        "start_time": "2023-06-27T02:12:40.775Z"
      },
      {
        "duration": 242,
        "start_time": "2023-06-27T02:12:40.780Z"
      },
      {
        "duration": 14,
        "start_time": "2023-06-27T02:12:41.024Z"
      },
      {
        "duration": 6,
        "start_time": "2023-06-27T02:12:41.051Z"
      },
      {
        "duration": 21,
        "start_time": "2023-06-27T02:12:41.059Z"
      },
      {
        "duration": 13,
        "start_time": "2023-06-27T02:12:41.082Z"
      },
      {
        "duration": 11,
        "start_time": "2023-06-27T02:12:41.097Z"
      },
      {
        "duration": 21,
        "start_time": "2023-06-27T02:12:41.110Z"
      },
      {
        "duration": 107,
        "start_time": "2023-06-27T02:12:41.153Z"
      },
      {
        "duration": 13,
        "start_time": "2023-06-27T02:12:41.262Z"
      },
      {
        "duration": 42,
        "start_time": "2023-06-27T02:12:41.276Z"
      },
      {
        "duration": 52,
        "start_time": "2023-06-27T02:12:41.320Z"
      },
      {
        "duration": 7,
        "start_time": "2023-06-27T02:12:41.374Z"
      },
      {
        "duration": 18,
        "start_time": "2023-06-27T02:12:41.383Z"
      },
      {
        "duration": 16,
        "start_time": "2023-06-27T02:12:41.403Z"
      },
      {
        "duration": 37,
        "start_time": "2023-06-27T02:12:41.420Z"
      },
      {
        "duration": 15,
        "start_time": "2023-06-27T02:12:41.458Z"
      },
      {
        "duration": 9,
        "start_time": "2023-06-27T02:12:41.475Z"
      },
      {
        "duration": 17,
        "start_time": "2023-06-27T02:12:41.486Z"
      },
      {
        "duration": 22,
        "start_time": "2023-06-27T02:12:41.505Z"
      },
      {
        "duration": 467,
        "start_time": "2023-06-27T02:12:41.529Z"
      },
      {
        "duration": 19,
        "start_time": "2023-06-27T02:12:41.998Z"
      },
      {
        "duration": 17,
        "start_time": "2023-06-27T02:12:42.018Z"
      },
      {
        "duration": 19,
        "start_time": "2023-06-27T02:12:42.037Z"
      },
      {
        "duration": 14,
        "start_time": "2023-06-27T02:12:42.058Z"
      },
      {
        "duration": 13,
        "start_time": "2023-06-27T02:12:42.074Z"
      },
      {
        "duration": 454,
        "start_time": "2023-06-27T02:12:42.089Z"
      },
      {
        "duration": 21,
        "start_time": "2023-06-27T02:12:42.545Z"
      },
      {
        "duration": 14,
        "start_time": "2023-06-27T02:12:42.568Z"
      },
      {
        "duration": 9,
        "start_time": "2023-06-27T02:12:42.584Z"
      },
      {
        "duration": 23,
        "start_time": "2023-06-27T02:12:42.594Z"
      },
      {
        "duration": 36,
        "start_time": "2023-06-27T02:12:42.623Z"
      },
      {
        "duration": 485,
        "start_time": "2023-06-27T02:12:42.660Z"
      },
      {
        "duration": 28,
        "start_time": "2023-06-27T02:12:43.147Z"
      },
      {
        "duration": 28,
        "start_time": "2023-06-27T02:12:43.177Z"
      },
      {
        "duration": 68,
        "start_time": "2023-06-27T02:12:43.207Z"
      },
      {
        "duration": 31,
        "start_time": "2023-06-27T02:12:43.277Z"
      },
      {
        "duration": 486,
        "start_time": "2023-06-27T02:12:43.310Z"
      },
      {
        "duration": 10,
        "start_time": "2023-06-27T02:12:43.798Z"
      },
      {
        "duration": 12,
        "start_time": "2023-06-27T02:12:43.810Z"
      },
      {
        "duration": 32,
        "start_time": "2023-06-27T02:12:43.824Z"
      },
      {
        "duration": 18,
        "start_time": "2023-06-27T02:12:43.858Z"
      },
      {
        "duration": 10,
        "start_time": "2023-06-27T02:12:43.878Z"
      },
      {
        "duration": 9,
        "start_time": "2023-06-27T02:12:43.890Z"
      },
      {
        "duration": 23,
        "start_time": "2023-06-27T02:12:43.901Z"
      },
      {
        "duration": 33,
        "start_time": "2023-06-27T02:12:43.926Z"
      },
      {
        "duration": 11,
        "start_time": "2023-06-27T02:12:43.960Z"
      },
      {
        "duration": 13,
        "start_time": "2023-06-27T02:12:43.973Z"
      },
      {
        "duration": 13,
        "start_time": "2023-06-27T02:12:43.987Z"
      },
      {
        "duration": 60,
        "start_time": "2023-06-27T02:12:44.002Z"
      },
      {
        "duration": 25,
        "start_time": "2023-06-27T02:12:44.064Z"
      },
      {
        "duration": 19,
        "start_time": "2023-06-27T02:12:44.090Z"
      },
      {
        "duration": 7,
        "start_time": "2023-06-27T02:12:44.110Z"
      },
      {
        "duration": 16,
        "start_time": "2023-06-27T02:12:44.119Z"
      },
      {
        "duration": 12,
        "start_time": "2023-06-27T02:12:44.136Z"
      },
      {
        "duration": 13,
        "start_time": "2023-06-27T02:12:44.150Z"
      },
      {
        "duration": 8,
        "start_time": "2023-06-27T02:12:44.164Z"
      },
      {
        "duration": 17,
        "start_time": "2023-06-27T02:12:44.174Z"
      },
      {
        "duration": 17,
        "start_time": "2023-06-27T02:12:44.192Z"
      },
      {
        "duration": 115,
        "start_time": "2023-06-27T02:12:44.211Z"
      },
      {
        "duration": 0,
        "start_time": "2023-06-27T02:12:44.328Z"
      },
      {
        "duration": 0,
        "start_time": "2023-06-27T02:12:44.329Z"
      },
      {
        "duration": 0,
        "start_time": "2023-06-27T02:12:44.331Z"
      },
      {
        "duration": 0,
        "start_time": "2023-06-27T02:12:44.332Z"
      },
      {
        "duration": 0,
        "start_time": "2023-06-27T02:12:44.333Z"
      },
      {
        "duration": 0,
        "start_time": "2023-06-27T02:12:44.334Z"
      },
      {
        "duration": 0,
        "start_time": "2023-06-27T02:12:44.336Z"
      },
      {
        "duration": 0,
        "start_time": "2023-06-27T02:12:44.337Z"
      },
      {
        "duration": 0,
        "start_time": "2023-06-27T02:12:44.338Z"
      },
      {
        "duration": 0,
        "start_time": "2023-06-27T02:12:44.339Z"
      },
      {
        "duration": 0,
        "start_time": "2023-06-27T02:12:44.340Z"
      },
      {
        "duration": 0,
        "start_time": "2023-06-27T02:12:44.341Z"
      },
      {
        "duration": 0,
        "start_time": "2023-06-27T02:12:44.351Z"
      },
      {
        "duration": 0,
        "start_time": "2023-06-27T02:12:44.353Z"
      },
      {
        "duration": 18,
        "start_time": "2023-06-27T02:13:02.056Z"
      },
      {
        "duration": 13,
        "start_time": "2023-06-27T02:13:16.576Z"
      },
      {
        "duration": 27,
        "start_time": "2023-06-27T02:13:28.176Z"
      },
      {
        "duration": 176,
        "start_time": "2023-06-27T02:15:06.751Z"
      },
      {
        "duration": 94,
        "start_time": "2023-06-27T02:18:11.012Z"
      },
      {
        "duration": 9,
        "start_time": "2023-06-27T02:24:22.490Z"
      },
      {
        "duration": 16,
        "start_time": "2023-06-27T02:28:54.991Z"
      },
      {
        "duration": 16,
        "start_time": "2023-06-27T02:29:18.039Z"
      },
      {
        "duration": 12,
        "start_time": "2023-06-27T02:29:33.886Z"
      },
      {
        "duration": 15,
        "start_time": "2023-06-27T02:29:47.822Z"
      },
      {
        "duration": 1335,
        "start_time": "2023-06-27T02:32:08.306Z"
      },
      {
        "duration": 364,
        "start_time": "2023-06-27T02:32:09.644Z"
      },
      {
        "duration": 13,
        "start_time": "2023-06-27T02:32:10.010Z"
      },
      {
        "duration": 12,
        "start_time": "2023-06-27T02:32:10.026Z"
      },
      {
        "duration": 8,
        "start_time": "2023-06-27T02:32:10.052Z"
      },
      {
        "duration": 7,
        "start_time": "2023-06-27T02:32:10.062Z"
      },
      {
        "duration": 32,
        "start_time": "2023-06-27T02:32:10.070Z"
      },
      {
        "duration": 32,
        "start_time": "2023-06-27T02:32:10.103Z"
      },
      {
        "duration": 20,
        "start_time": "2023-06-27T02:32:10.136Z"
      },
      {
        "duration": 7,
        "start_time": "2023-06-27T02:32:10.160Z"
      },
      {
        "duration": 24,
        "start_time": "2023-06-27T02:32:10.168Z"
      },
      {
        "duration": 8,
        "start_time": "2023-06-27T02:32:10.194Z"
      },
      {
        "duration": 7,
        "start_time": "2023-06-27T02:32:10.204Z"
      },
      {
        "duration": 43,
        "start_time": "2023-06-27T02:32:10.213Z"
      },
      {
        "duration": 28,
        "start_time": "2023-06-27T02:32:10.258Z"
      },
      {
        "duration": 25,
        "start_time": "2023-06-27T02:32:10.288Z"
      },
      {
        "duration": 10,
        "start_time": "2023-06-27T02:32:10.315Z"
      },
      {
        "duration": 14,
        "start_time": "2023-06-27T02:32:10.352Z"
      },
      {
        "duration": 17,
        "start_time": "2023-06-27T02:32:10.368Z"
      },
      {
        "duration": 8,
        "start_time": "2023-06-27T02:32:10.387Z"
      },
      {
        "duration": 19,
        "start_time": "2023-06-27T02:32:10.396Z"
      },
      {
        "duration": 21,
        "start_time": "2023-06-27T02:32:10.417Z"
      },
      {
        "duration": 38,
        "start_time": "2023-06-27T02:32:10.440Z"
      },
      {
        "duration": 3,
        "start_time": "2023-06-27T02:32:10.479Z"
      },
      {
        "duration": 20,
        "start_time": "2023-06-27T02:32:10.483Z"
      },
      {
        "duration": 10,
        "start_time": "2023-06-27T02:32:10.505Z"
      },
      {
        "duration": 50,
        "start_time": "2023-06-27T02:32:10.516Z"
      },
      {
        "duration": 36,
        "start_time": "2023-06-27T02:32:10.570Z"
      },
      {
        "duration": 27,
        "start_time": "2023-06-27T02:32:10.608Z"
      },
      {
        "duration": 18,
        "start_time": "2023-06-27T02:32:10.653Z"
      },
      {
        "duration": 17,
        "start_time": "2023-06-27T02:32:10.672Z"
      },
      {
        "duration": 26,
        "start_time": "2023-06-27T02:32:10.691Z"
      },
      {
        "duration": 3,
        "start_time": "2023-06-27T02:32:10.719Z"
      },
      {
        "duration": 28,
        "start_time": "2023-06-27T02:32:10.724Z"
      },
      {
        "duration": 49,
        "start_time": "2023-06-27T02:32:10.754Z"
      },
      {
        "duration": 13,
        "start_time": "2023-06-27T02:32:10.805Z"
      },
      {
        "duration": 12,
        "start_time": "2023-06-27T02:32:10.820Z"
      },
      {
        "duration": 580,
        "start_time": "2023-06-27T02:32:10.833Z"
      },
      {
        "duration": 89,
        "start_time": "2023-06-27T02:32:11.414Z"
      },
      {
        "duration": 58,
        "start_time": "2023-06-27T02:32:11.505Z"
      },
      {
        "duration": 29,
        "start_time": "2023-06-27T02:32:11.565Z"
      },
      {
        "duration": 39,
        "start_time": "2023-06-27T02:32:11.596Z"
      },
      {
        "duration": 31,
        "start_time": "2023-06-27T02:32:11.637Z"
      },
      {
        "duration": 22,
        "start_time": "2023-06-27T02:32:11.670Z"
      },
      {
        "duration": 257,
        "start_time": "2023-06-27T02:32:11.694Z"
      },
      {
        "duration": 150,
        "start_time": "2023-06-27T02:32:11.953Z"
      },
      {
        "duration": 15,
        "start_time": "2023-06-27T02:32:12.105Z"
      },
      {
        "duration": 5,
        "start_time": "2023-06-27T02:32:12.122Z"
      },
      {
        "duration": 16,
        "start_time": "2023-06-27T02:32:12.151Z"
      },
      {
        "duration": 23,
        "start_time": "2023-06-27T02:32:12.169Z"
      },
      {
        "duration": 4,
        "start_time": "2023-06-27T02:32:12.194Z"
      },
      {
        "duration": 256,
        "start_time": "2023-06-27T02:32:12.200Z"
      },
      {
        "duration": 13,
        "start_time": "2023-06-27T02:32:12.458Z"
      },
      {
        "duration": 5,
        "start_time": "2023-06-27T02:32:12.473Z"
      },
      {
        "duration": 16,
        "start_time": "2023-06-27T02:32:12.479Z"
      },
      {
        "duration": 12,
        "start_time": "2023-06-27T02:32:12.497Z"
      },
      {
        "duration": 7,
        "start_time": "2023-06-27T02:32:12.510Z"
      },
      {
        "duration": 47,
        "start_time": "2023-06-27T02:32:12.519Z"
      },
      {
        "duration": 19,
        "start_time": "2023-06-27T02:32:12.568Z"
      },
      {
        "duration": 125,
        "start_time": "2023-06-27T02:32:12.589Z"
      },
      {
        "duration": 55,
        "start_time": "2023-06-27T02:32:12.716Z"
      },
      {
        "duration": 22,
        "start_time": "2023-06-27T02:32:12.773Z"
      },
      {
        "duration": 7,
        "start_time": "2023-06-27T02:32:12.796Z"
      },
      {
        "duration": 31,
        "start_time": "2023-06-27T02:32:12.804Z"
      },
      {
        "duration": 28,
        "start_time": "2023-06-27T02:32:12.836Z"
      },
      {
        "duration": 27,
        "start_time": "2023-06-27T02:32:12.866Z"
      },
      {
        "duration": 17,
        "start_time": "2023-06-27T02:32:12.895Z"
      },
      {
        "duration": 9,
        "start_time": "2023-06-27T02:32:12.914Z"
      },
      {
        "duration": 32,
        "start_time": "2023-06-27T02:32:12.925Z"
      },
      {
        "duration": 16,
        "start_time": "2023-06-27T02:32:12.959Z"
      },
      {
        "duration": 406,
        "start_time": "2023-06-27T02:32:12.976Z"
      },
      {
        "duration": 18,
        "start_time": "2023-06-27T02:32:13.384Z"
      },
      {
        "duration": 17,
        "start_time": "2023-06-27T02:32:13.404Z"
      },
      {
        "duration": 34,
        "start_time": "2023-06-27T02:32:13.423Z"
      },
      {
        "duration": 15,
        "start_time": "2023-06-27T02:32:13.459Z"
      },
      {
        "duration": 19,
        "start_time": "2023-06-27T02:32:13.475Z"
      },
      {
        "duration": 440,
        "start_time": "2023-06-27T02:32:13.496Z"
      },
      {
        "duration": 23,
        "start_time": "2023-06-27T02:32:13.938Z"
      },
      {
        "duration": 19,
        "start_time": "2023-06-27T02:32:13.963Z"
      },
      {
        "duration": 10,
        "start_time": "2023-06-27T02:32:13.984Z"
      },
      {
        "duration": 18,
        "start_time": "2023-06-27T02:32:13.996Z"
      },
      {
        "duration": 40,
        "start_time": "2023-06-27T02:32:14.020Z"
      },
      {
        "duration": 380,
        "start_time": "2023-06-27T02:32:14.062Z"
      },
      {
        "duration": 27,
        "start_time": "2023-06-27T02:32:14.443Z"
      },
      {
        "duration": 26,
        "start_time": "2023-06-27T02:32:14.472Z"
      },
      {
        "duration": 63,
        "start_time": "2023-06-27T02:32:14.499Z"
      },
      {
        "duration": 9,
        "start_time": "2023-06-27T02:32:14.563Z"
      },
      {
        "duration": 447,
        "start_time": "2023-06-27T02:32:14.574Z"
      },
      {
        "duration": 10,
        "start_time": "2023-06-27T02:32:15.023Z"
      },
      {
        "duration": 47,
        "start_time": "2023-06-27T02:32:15.034Z"
      },
      {
        "duration": 9,
        "start_time": "2023-06-27T02:32:15.083Z"
      },
      {
        "duration": 24,
        "start_time": "2023-06-27T02:32:15.093Z"
      },
      {
        "duration": 14,
        "start_time": "2023-06-27T02:32:15.119Z"
      },
      {
        "duration": 8,
        "start_time": "2023-06-27T02:32:15.135Z"
      },
      {
        "duration": 11,
        "start_time": "2023-06-27T02:32:15.145Z"
      },
      {
        "duration": 15,
        "start_time": "2023-06-27T02:32:15.158Z"
      },
      {
        "duration": 9,
        "start_time": "2023-06-27T02:32:15.174Z"
      },
      {
        "duration": 14,
        "start_time": "2023-06-27T02:32:15.184Z"
      },
      {
        "duration": 12,
        "start_time": "2023-06-27T02:32:15.200Z"
      },
      {
        "duration": 40,
        "start_time": "2023-06-27T02:32:15.213Z"
      },
      {
        "duration": 24,
        "start_time": "2023-06-27T02:32:15.254Z"
      },
      {
        "duration": 20,
        "start_time": "2023-06-27T02:32:15.279Z"
      },
      {
        "duration": 8,
        "start_time": "2023-06-27T02:32:15.301Z"
      },
      {
        "duration": 18,
        "start_time": "2023-06-27T02:32:15.311Z"
      },
      {
        "duration": 11,
        "start_time": "2023-06-27T02:32:15.353Z"
      },
      {
        "duration": 14,
        "start_time": "2023-06-27T02:32:15.366Z"
      },
      {
        "duration": 10,
        "start_time": "2023-06-27T02:32:15.382Z"
      },
      {
        "duration": 21,
        "start_time": "2023-06-27T02:32:15.394Z"
      },
      {
        "duration": 34,
        "start_time": "2023-06-27T02:32:15.417Z"
      },
      {
        "duration": 26,
        "start_time": "2023-06-27T02:32:15.454Z"
      },
      {
        "duration": 18,
        "start_time": "2023-06-27T02:32:15.481Z"
      },
      {
        "duration": 18,
        "start_time": "2023-06-27T02:32:15.500Z"
      },
      {
        "duration": 46,
        "start_time": "2023-06-27T02:32:15.520Z"
      },
      {
        "duration": 15,
        "start_time": "2023-06-27T02:32:15.567Z"
      },
      {
        "duration": 18,
        "start_time": "2023-06-27T02:32:15.584Z"
      },
      {
        "duration": 53,
        "start_time": "2023-06-27T02:32:15.604Z"
      },
      {
        "duration": 17,
        "start_time": "2023-06-27T02:32:15.658Z"
      },
      {
        "duration": 18,
        "start_time": "2023-06-27T02:32:15.677Z"
      },
      {
        "duration": 25,
        "start_time": "2023-06-27T02:32:15.696Z"
      },
      {
        "duration": 40,
        "start_time": "2023-06-27T02:32:15.722Z"
      },
      {
        "duration": 21,
        "start_time": "2023-06-27T02:32:15.764Z"
      },
      {
        "duration": 5,
        "start_time": "2023-06-27T02:32:15.787Z"
      },
      {
        "duration": 7,
        "start_time": "2023-06-27T02:32:15.794Z"
      },
      {
        "duration": 18,
        "start_time": "2023-06-27T02:32:15.803Z"
      },
      {
        "duration": 32,
        "start_time": "2023-06-27T02:32:15.822Z"
      },
      {
        "duration": 8,
        "start_time": "2023-06-27T02:32:15.855Z"
      },
      {
        "duration": 11,
        "start_time": "2023-06-27T02:32:15.865Z"
      },
      {
        "duration": 20,
        "start_time": "2023-06-27T02:38:54.753Z"
      },
      {
        "duration": 12,
        "start_time": "2023-06-27T02:39:04.352Z"
      },
      {
        "duration": 10,
        "start_time": "2023-06-27T02:39:16.648Z"
      },
      {
        "duration": 21,
        "start_time": "2023-06-27T02:39:29.055Z"
      },
      {
        "duration": 10,
        "start_time": "2023-06-27T02:39:30.001Z"
      },
      {
        "duration": 6,
        "start_time": "2023-06-27T02:39:42.176Z"
      },
      {
        "duration": 5,
        "start_time": "2023-06-27T02:39:45.704Z"
      },
      {
        "duration": 8,
        "start_time": "2023-06-27T02:39:57.145Z"
      },
      {
        "duration": 107,
        "start_time": "2023-06-27T02:41:31.383Z"
      },
      {
        "duration": 87,
        "start_time": "2023-06-27T02:47:33.219Z"
      },
      {
        "duration": 81,
        "start_time": "2023-06-27T02:49:03.739Z"
      },
      {
        "duration": 1161,
        "start_time": "2023-06-27T05:42:20.689Z"
      },
      {
        "duration": 306,
        "start_time": "2023-06-27T05:42:21.852Z"
      },
      {
        "duration": 9,
        "start_time": "2023-06-27T05:42:22.159Z"
      },
      {
        "duration": 32,
        "start_time": "2023-06-27T05:42:22.170Z"
      },
      {
        "duration": 14,
        "start_time": "2023-06-27T05:42:22.204Z"
      },
      {
        "duration": 16,
        "start_time": "2023-06-27T05:42:22.220Z"
      },
      {
        "duration": 18,
        "start_time": "2023-06-27T05:42:22.238Z"
      },
      {
        "duration": 30,
        "start_time": "2023-06-27T05:42:22.257Z"
      },
      {
        "duration": 29,
        "start_time": "2023-06-27T05:42:22.288Z"
      },
      {
        "duration": 10,
        "start_time": "2023-06-27T05:42:22.318Z"
      },
      {
        "duration": 40,
        "start_time": "2023-06-27T05:42:22.329Z"
      },
      {
        "duration": 36,
        "start_time": "2023-06-27T05:42:22.370Z"
      },
      {
        "duration": 24,
        "start_time": "2023-06-27T05:42:22.407Z"
      },
      {
        "duration": 28,
        "start_time": "2023-06-27T05:42:22.433Z"
      },
      {
        "duration": 50,
        "start_time": "2023-06-27T05:42:22.462Z"
      },
      {
        "duration": 19,
        "start_time": "2023-06-27T05:42:22.514Z"
      },
      {
        "duration": 8,
        "start_time": "2023-06-27T05:42:22.535Z"
      },
      {
        "duration": 26,
        "start_time": "2023-06-27T05:42:22.544Z"
      },
      {
        "duration": 19,
        "start_time": "2023-06-27T05:42:22.571Z"
      },
      {
        "duration": 9,
        "start_time": "2023-06-27T05:42:22.591Z"
      },
      {
        "duration": 29,
        "start_time": "2023-06-27T05:42:22.602Z"
      },
      {
        "duration": 21,
        "start_time": "2023-06-27T05:42:22.632Z"
      },
      {
        "duration": 43,
        "start_time": "2023-06-27T05:42:22.654Z"
      },
      {
        "duration": 2,
        "start_time": "2023-06-27T05:42:22.699Z"
      },
      {
        "duration": 23,
        "start_time": "2023-06-27T05:42:22.702Z"
      },
      {
        "duration": 12,
        "start_time": "2023-06-27T05:42:22.726Z"
      },
      {
        "duration": 28,
        "start_time": "2023-06-27T05:42:22.739Z"
      },
      {
        "duration": 54,
        "start_time": "2023-06-27T05:42:22.769Z"
      },
      {
        "duration": 23,
        "start_time": "2023-06-27T05:42:22.824Z"
      },
      {
        "duration": 15,
        "start_time": "2023-06-27T05:42:22.848Z"
      },
      {
        "duration": 20,
        "start_time": "2023-06-27T05:42:22.865Z"
      },
      {
        "duration": 32,
        "start_time": "2023-06-27T05:42:22.886Z"
      },
      {
        "duration": 2,
        "start_time": "2023-06-27T05:42:22.920Z"
      },
      {
        "duration": 13,
        "start_time": "2023-06-27T05:42:22.924Z"
      },
      {
        "duration": 42,
        "start_time": "2023-06-27T05:42:22.938Z"
      },
      {
        "duration": 28,
        "start_time": "2023-06-27T05:42:22.982Z"
      },
      {
        "duration": 8,
        "start_time": "2023-06-27T05:42:23.011Z"
      },
      {
        "duration": 437,
        "start_time": "2023-06-27T05:42:23.020Z"
      },
      {
        "duration": 78,
        "start_time": "2023-06-27T05:42:23.458Z"
      },
      {
        "duration": 9,
        "start_time": "2023-06-27T05:42:23.537Z"
      },
      {
        "duration": 10,
        "start_time": "2023-06-27T05:42:23.550Z"
      },
      {
        "duration": 32,
        "start_time": "2023-06-27T05:42:23.562Z"
      },
      {
        "duration": 27,
        "start_time": "2023-06-27T05:42:23.595Z"
      },
      {
        "duration": 17,
        "start_time": "2023-06-27T05:42:23.623Z"
      },
      {
        "duration": 205,
        "start_time": "2023-06-27T05:42:23.641Z"
      },
      {
        "duration": 119,
        "start_time": "2023-06-27T05:42:23.848Z"
      },
      {
        "duration": 10,
        "start_time": "2023-06-27T05:42:23.968Z"
      },
      {
        "duration": 13,
        "start_time": "2023-06-27T05:42:23.979Z"
      },
      {
        "duration": 44,
        "start_time": "2023-06-27T05:42:23.993Z"
      },
      {
        "duration": 36,
        "start_time": "2023-06-27T05:42:24.038Z"
      },
      {
        "duration": 20,
        "start_time": "2023-06-27T05:42:24.076Z"
      },
      {
        "duration": 234,
        "start_time": "2023-06-27T05:42:24.098Z"
      },
      {
        "duration": 11,
        "start_time": "2023-06-27T05:42:24.333Z"
      },
      {
        "duration": 7,
        "start_time": "2023-06-27T05:42:24.345Z"
      },
      {
        "duration": 12,
        "start_time": "2023-06-27T05:42:24.354Z"
      },
      {
        "duration": 8,
        "start_time": "2023-06-27T05:42:24.368Z"
      },
      {
        "duration": 22,
        "start_time": "2023-06-27T05:42:24.377Z"
      },
      {
        "duration": 59,
        "start_time": "2023-06-27T05:42:24.401Z"
      },
      {
        "duration": 67,
        "start_time": "2023-06-27T05:42:24.461Z"
      },
      {
        "duration": 10,
        "start_time": "2023-06-27T05:42:24.529Z"
      },
      {
        "duration": 46,
        "start_time": "2023-06-27T05:42:24.541Z"
      },
      {
        "duration": 27,
        "start_time": "2023-06-27T05:42:24.588Z"
      },
      {
        "duration": 7,
        "start_time": "2023-06-27T05:42:24.616Z"
      },
      {
        "duration": 28,
        "start_time": "2023-06-27T05:42:24.624Z"
      },
      {
        "duration": 12,
        "start_time": "2023-06-27T05:42:24.654Z"
      },
      {
        "duration": 18,
        "start_time": "2023-06-27T05:42:24.668Z"
      },
      {
        "duration": 20,
        "start_time": "2023-06-27T05:42:24.688Z"
      },
      {
        "duration": 19,
        "start_time": "2023-06-27T05:42:24.709Z"
      },
      {
        "duration": 31,
        "start_time": "2023-06-27T05:42:24.729Z"
      },
      {
        "duration": 37,
        "start_time": "2023-06-27T05:42:24.761Z"
      },
      {
        "duration": 352,
        "start_time": "2023-06-27T05:42:24.800Z"
      },
      {
        "duration": 14,
        "start_time": "2023-06-27T05:42:25.154Z"
      },
      {
        "duration": 16,
        "start_time": "2023-06-27T05:42:25.169Z"
      },
      {
        "duration": 8,
        "start_time": "2023-06-27T05:42:25.199Z"
      },
      {
        "duration": 21,
        "start_time": "2023-06-27T05:42:25.208Z"
      },
      {
        "duration": 34,
        "start_time": "2023-06-27T05:42:25.230Z"
      },
      {
        "duration": 374,
        "start_time": "2023-06-27T05:42:25.266Z"
      },
      {
        "duration": 13,
        "start_time": "2023-06-27T05:42:25.641Z"
      },
      {
        "duration": 17,
        "start_time": "2023-06-27T05:42:25.655Z"
      },
      {
        "duration": 8,
        "start_time": "2023-06-27T05:42:25.673Z"
      },
      {
        "duration": 26,
        "start_time": "2023-06-27T05:42:25.683Z"
      },
      {
        "duration": 25,
        "start_time": "2023-06-27T05:42:25.711Z"
      },
      {
        "duration": 362,
        "start_time": "2023-06-27T05:42:25.738Z"
      },
      {
        "duration": 20,
        "start_time": "2023-06-27T05:42:26.102Z"
      },
      {
        "duration": 22,
        "start_time": "2023-06-27T05:42:26.123Z"
      },
      {
        "duration": 55,
        "start_time": "2023-06-27T05:42:26.146Z"
      },
      {
        "duration": 7,
        "start_time": "2023-06-27T05:42:26.203Z"
      },
      {
        "duration": 398,
        "start_time": "2023-06-27T05:42:26.211Z"
      },
      {
        "duration": 8,
        "start_time": "2023-06-27T05:42:26.610Z"
      },
      {
        "duration": 7,
        "start_time": "2023-06-27T05:42:26.619Z"
      },
      {
        "duration": 16,
        "start_time": "2023-06-27T05:42:26.627Z"
      },
      {
        "duration": 19,
        "start_time": "2023-06-27T05:42:26.645Z"
      },
      {
        "duration": 7,
        "start_time": "2023-06-27T05:42:26.666Z"
      },
      {
        "duration": 9,
        "start_time": "2023-06-27T05:42:26.674Z"
      },
      {
        "duration": 16,
        "start_time": "2023-06-27T05:42:26.684Z"
      },
      {
        "duration": 18,
        "start_time": "2023-06-27T05:42:26.701Z"
      },
      {
        "duration": 7,
        "start_time": "2023-06-27T05:42:26.721Z"
      },
      {
        "duration": 28,
        "start_time": "2023-06-27T05:42:26.730Z"
      },
      {
        "duration": 21,
        "start_time": "2023-06-27T05:42:26.760Z"
      },
      {
        "duration": 12,
        "start_time": "2023-06-27T05:42:26.782Z"
      },
      {
        "duration": 20,
        "start_time": "2023-06-27T05:42:26.795Z"
      },
      {
        "duration": 27,
        "start_time": "2023-06-27T05:42:26.816Z"
      },
      {
        "duration": 13,
        "start_time": "2023-06-27T05:42:26.844Z"
      },
      {
        "duration": 15,
        "start_time": "2023-06-27T05:42:26.859Z"
      },
      {
        "duration": 6,
        "start_time": "2023-06-27T05:42:26.875Z"
      },
      {
        "duration": 9,
        "start_time": "2023-06-27T05:42:26.882Z"
      },
      {
        "duration": 8,
        "start_time": "2023-06-27T05:42:26.892Z"
      },
      {
        "duration": 18,
        "start_time": "2023-06-27T05:42:26.901Z"
      },
      {
        "duration": 19,
        "start_time": "2023-06-27T05:42:26.921Z"
      },
      {
        "duration": 51,
        "start_time": "2023-06-27T05:42:26.941Z"
      },
      {
        "duration": 14,
        "start_time": "2023-06-27T05:42:26.993Z"
      },
      {
        "duration": 13,
        "start_time": "2023-06-27T05:42:27.009Z"
      },
      {
        "duration": 35,
        "start_time": "2023-06-27T05:42:27.023Z"
      },
      {
        "duration": 12,
        "start_time": "2023-06-27T05:42:27.060Z"
      },
      {
        "duration": 38,
        "start_time": "2023-06-27T05:42:27.074Z"
      },
      {
        "duration": 21,
        "start_time": "2023-06-27T05:42:27.113Z"
      },
      {
        "duration": 13,
        "start_time": "2023-06-27T05:42:27.135Z"
      },
      {
        "duration": 17,
        "start_time": "2023-06-27T05:42:27.150Z"
      },
      {
        "duration": 33,
        "start_time": "2023-06-27T05:42:27.168Z"
      },
      {
        "duration": 13,
        "start_time": "2023-06-27T05:42:27.202Z"
      },
      {
        "duration": 25,
        "start_time": "2023-06-27T05:42:27.216Z"
      },
      {
        "duration": 5,
        "start_time": "2023-06-27T05:42:27.247Z"
      },
      {
        "duration": 16,
        "start_time": "2023-06-27T05:42:27.253Z"
      },
      {
        "duration": 19,
        "start_time": "2023-06-27T05:42:27.271Z"
      },
      {
        "duration": 17,
        "start_time": "2023-06-27T05:42:27.291Z"
      },
      {
        "duration": 10,
        "start_time": "2023-06-27T05:42:27.309Z"
      },
      {
        "duration": 9,
        "start_time": "2023-06-27T05:42:27.320Z"
      },
      {
        "duration": 20,
        "start_time": "2023-06-27T05:42:27.330Z"
      },
      {
        "duration": 15,
        "start_time": "2023-06-27T05:42:27.352Z"
      },
      {
        "duration": 5,
        "start_time": "2023-06-27T05:42:27.368Z"
      },
      {
        "duration": 39,
        "start_time": "2023-06-27T05:42:27.375Z"
      },
      {
        "duration": 8,
        "start_time": "2023-06-27T05:42:27.415Z"
      },
      {
        "duration": 4,
        "start_time": "2023-06-27T05:42:27.425Z"
      },
      {
        "duration": 17,
        "start_time": "2023-06-27T05:42:27.431Z"
      },
      {
        "duration": 54,
        "start_time": "2023-06-27T20:36:49.429Z"
      },
      {
        "duration": 1520,
        "start_time": "2023-06-27T20:36:57.351Z"
      },
      {
        "duration": 1209,
        "start_time": "2023-06-27T20:36:58.874Z"
      },
      {
        "duration": 12,
        "start_time": "2023-06-27T20:37:00.085Z"
      },
      {
        "duration": 40,
        "start_time": "2023-06-27T20:37:00.099Z"
      },
      {
        "duration": 51,
        "start_time": "2023-06-27T20:37:00.142Z"
      },
      {
        "duration": 32,
        "start_time": "2023-06-27T20:37:00.195Z"
      },
      {
        "duration": 40,
        "start_time": "2023-06-27T20:37:00.228Z"
      },
      {
        "duration": 55,
        "start_time": "2023-06-27T20:37:00.270Z"
      },
      {
        "duration": 57,
        "start_time": "2023-06-27T20:37:00.327Z"
      },
      {
        "duration": 45,
        "start_time": "2023-06-27T20:37:00.385Z"
      },
      {
        "duration": 37,
        "start_time": "2023-06-27T20:37:00.433Z"
      },
      {
        "duration": 49,
        "start_time": "2023-06-27T20:37:00.472Z"
      },
      {
        "duration": 44,
        "start_time": "2023-06-27T20:37:00.524Z"
      },
      {
        "duration": 59,
        "start_time": "2023-06-27T20:37:00.572Z"
      },
      {
        "duration": 52,
        "start_time": "2023-06-27T20:37:00.632Z"
      },
      {
        "duration": 30,
        "start_time": "2023-06-27T20:37:00.686Z"
      },
      {
        "duration": 33,
        "start_time": "2023-06-27T20:37:00.718Z"
      },
      {
        "duration": 58,
        "start_time": "2023-06-27T20:37:00.753Z"
      },
      {
        "duration": 40,
        "start_time": "2023-06-27T20:37:00.813Z"
      },
      {
        "duration": 41,
        "start_time": "2023-06-27T20:37:00.855Z"
      },
      {
        "duration": 49,
        "start_time": "2023-06-27T20:37:00.897Z"
      },
      {
        "duration": 61,
        "start_time": "2023-06-27T20:37:00.948Z"
      },
      {
        "duration": 80,
        "start_time": "2023-06-27T20:37:01.010Z"
      },
      {
        "duration": 56,
        "start_time": "2023-06-27T20:37:01.092Z"
      },
      {
        "duration": 75,
        "start_time": "2023-06-27T20:37:01.150Z"
      },
      {
        "duration": 56,
        "start_time": "2023-06-27T20:37:01.227Z"
      },
      {
        "duration": 75,
        "start_time": "2023-06-27T20:37:01.285Z"
      },
      {
        "duration": 67,
        "start_time": "2023-06-27T20:37:01.361Z"
      },
      {
        "duration": 35,
        "start_time": "2023-06-27T20:37:01.430Z"
      },
      {
        "duration": 37,
        "start_time": "2023-06-27T20:37:01.467Z"
      },
      {
        "duration": 43,
        "start_time": "2023-06-27T20:37:01.506Z"
      },
      {
        "duration": 82,
        "start_time": "2023-06-27T20:37:01.551Z"
      },
      {
        "duration": 30,
        "start_time": "2023-06-27T20:37:01.635Z"
      },
      {
        "duration": 22,
        "start_time": "2023-06-27T20:37:01.667Z"
      },
      {
        "duration": 62,
        "start_time": "2023-06-27T20:37:01.691Z"
      },
      {
        "duration": 30,
        "start_time": "2023-06-27T20:37:01.755Z"
      },
      {
        "duration": 40,
        "start_time": "2023-06-27T20:37:01.787Z"
      },
      {
        "duration": 673,
        "start_time": "2023-06-27T20:37:01.829Z"
      },
      {
        "duration": 105,
        "start_time": "2023-06-27T20:37:02.504Z"
      },
      {
        "duration": 11,
        "start_time": "2023-06-27T20:37:02.611Z"
      },
      {
        "duration": 13,
        "start_time": "2023-06-27T20:37:02.627Z"
      },
      {
        "duration": 21,
        "start_time": "2023-06-27T20:37:02.659Z"
      },
      {
        "duration": 30,
        "start_time": "2023-06-27T20:37:02.682Z"
      },
      {
        "duration": 46,
        "start_time": "2023-06-27T20:37:02.714Z"
      },
      {
        "duration": 283,
        "start_time": "2023-06-27T20:37:02.762Z"
      },
      {
        "duration": 137,
        "start_time": "2023-06-27T20:37:03.047Z"
      },
      {
        "duration": 14,
        "start_time": "2023-06-27T20:37:03.186Z"
      },
      {
        "duration": 6,
        "start_time": "2023-06-27T20:37:03.202Z"
      },
      {
        "duration": 18,
        "start_time": "2023-06-27T20:37:03.210Z"
      },
      {
        "duration": 48,
        "start_time": "2023-06-27T20:37:03.230Z"
      },
      {
        "duration": 4,
        "start_time": "2023-06-27T20:37:03.281Z"
      },
      {
        "duration": 273,
        "start_time": "2023-06-27T20:37:03.287Z"
      },
      {
        "duration": 13,
        "start_time": "2023-06-27T20:37:03.562Z"
      },
      {
        "duration": 31,
        "start_time": "2023-06-27T20:37:03.576Z"
      },
      {
        "duration": 19,
        "start_time": "2023-06-27T20:37:03.608Z"
      },
      {
        "duration": 12,
        "start_time": "2023-06-27T20:37:03.629Z"
      },
      {
        "duration": 16,
        "start_time": "2023-06-27T20:37:03.643Z"
      },
      {
        "duration": 14,
        "start_time": "2023-06-27T20:37:03.661Z"
      },
      {
        "duration": 105,
        "start_time": "2023-06-27T20:37:03.677Z"
      },
      {
        "duration": 13,
        "start_time": "2023-06-27T20:37:03.784Z"
      },
      {
        "duration": 62,
        "start_time": "2023-06-27T20:37:03.799Z"
      },
      {
        "duration": 24,
        "start_time": "2023-06-27T20:37:03.863Z"
      },
      {
        "duration": 7,
        "start_time": "2023-06-27T20:37:03.889Z"
      },
      {
        "duration": 17,
        "start_time": "2023-06-27T20:37:03.898Z"
      },
      {
        "duration": 45,
        "start_time": "2023-06-27T20:37:03.917Z"
      },
      {
        "duration": 16,
        "start_time": "2023-06-27T20:37:03.963Z"
      },
      {
        "duration": 15,
        "start_time": "2023-06-27T20:37:03.981Z"
      },
      {
        "duration": 14,
        "start_time": "2023-06-27T20:37:03.997Z"
      },
      {
        "duration": 32,
        "start_time": "2023-06-27T20:37:04.013Z"
      },
      {
        "duration": 23,
        "start_time": "2023-06-27T20:37:04.061Z"
      },
      {
        "duration": 481,
        "start_time": "2023-06-27T20:37:04.086Z"
      },
      {
        "duration": 25,
        "start_time": "2023-06-27T20:37:04.569Z"
      },
      {
        "duration": 22,
        "start_time": "2023-06-27T20:37:04.595Z"
      },
      {
        "duration": 13,
        "start_time": "2023-06-27T20:37:04.619Z"
      },
      {
        "duration": 41,
        "start_time": "2023-06-27T20:37:04.634Z"
      },
      {
        "duration": 13,
        "start_time": "2023-06-27T20:37:04.677Z"
      },
      {
        "duration": 392,
        "start_time": "2023-06-27T20:37:04.692Z"
      },
      {
        "duration": 21,
        "start_time": "2023-06-27T20:37:05.087Z"
      },
      {
        "duration": 20,
        "start_time": "2023-06-27T20:37:05.110Z"
      },
      {
        "duration": 28,
        "start_time": "2023-06-27T20:37:05.132Z"
      },
      {
        "duration": 37,
        "start_time": "2023-06-27T20:37:05.162Z"
      },
      {
        "duration": 29,
        "start_time": "2023-06-27T20:37:05.201Z"
      },
      {
        "duration": 431,
        "start_time": "2023-06-27T20:37:05.232Z"
      },
      {
        "duration": 24,
        "start_time": "2023-06-27T20:37:05.665Z"
      },
      {
        "duration": 26,
        "start_time": "2023-06-27T20:37:05.691Z"
      },
      {
        "duration": 64,
        "start_time": "2023-06-27T20:37:05.718Z"
      },
      {
        "duration": 9,
        "start_time": "2023-06-27T20:37:05.783Z"
      },
      {
        "duration": 433,
        "start_time": "2023-06-27T20:37:05.793Z"
      },
      {
        "duration": 9,
        "start_time": "2023-06-27T20:37:06.228Z"
      },
      {
        "duration": 26,
        "start_time": "2023-06-27T20:37:06.238Z"
      },
      {
        "duration": 8,
        "start_time": "2023-06-27T20:37:06.266Z"
      },
      {
        "duration": 18,
        "start_time": "2023-06-27T20:37:06.276Z"
      },
      {
        "duration": 10,
        "start_time": "2023-06-27T20:37:06.296Z"
      },
      {
        "duration": 8,
        "start_time": "2023-06-27T20:37:06.308Z"
      },
      {
        "duration": 46,
        "start_time": "2023-06-27T20:37:06.318Z"
      },
      {
        "duration": 14,
        "start_time": "2023-06-27T20:37:06.366Z"
      },
      {
        "duration": 9,
        "start_time": "2023-06-27T20:37:06.381Z"
      },
      {
        "duration": 11,
        "start_time": "2023-06-27T20:37:06.392Z"
      },
      {
        "duration": 12,
        "start_time": "2023-06-27T20:37:06.405Z"
      },
      {
        "duration": 43,
        "start_time": "2023-06-27T20:37:06.419Z"
      },
      {
        "duration": 19,
        "start_time": "2023-06-27T20:37:06.464Z"
      },
      {
        "duration": 22,
        "start_time": "2023-06-27T20:37:06.485Z"
      },
      {
        "duration": 8,
        "start_time": "2023-06-27T20:37:06.508Z"
      },
      {
        "duration": 42,
        "start_time": "2023-06-27T20:37:06.518Z"
      },
      {
        "duration": 8,
        "start_time": "2023-06-27T20:37:06.563Z"
      },
      {
        "duration": 10,
        "start_time": "2023-06-27T20:37:06.573Z"
      },
      {
        "duration": 6,
        "start_time": "2023-06-27T20:37:06.586Z"
      },
      {
        "duration": 19,
        "start_time": "2023-06-27T20:37:06.594Z"
      },
      {
        "duration": 47,
        "start_time": "2023-06-27T20:37:06.615Z"
      },
      {
        "duration": 33,
        "start_time": "2023-06-27T20:37:06.665Z"
      },
      {
        "duration": 15,
        "start_time": "2023-06-27T20:37:06.700Z"
      },
      {
        "duration": 16,
        "start_time": "2023-06-27T20:37:06.717Z"
      },
      {
        "duration": 25,
        "start_time": "2023-06-27T20:37:06.758Z"
      },
      {
        "duration": 15,
        "start_time": "2023-06-27T20:37:06.785Z"
      },
      {
        "duration": 19,
        "start_time": "2023-06-27T20:37:06.802Z"
      },
      {
        "duration": 54,
        "start_time": "2023-06-27T20:37:06.823Z"
      },
      {
        "duration": 16,
        "start_time": "2023-06-27T20:37:06.879Z"
      },
      {
        "duration": 17,
        "start_time": "2023-06-27T20:37:06.896Z"
      },
      {
        "duration": 48,
        "start_time": "2023-06-27T20:37:06.914Z"
      },
      {
        "duration": 23,
        "start_time": "2023-06-27T20:37:06.964Z"
      },
      {
        "duration": 27,
        "start_time": "2023-06-27T20:37:06.988Z"
      },
      {
        "duration": 5,
        "start_time": "2023-06-27T20:37:07.022Z"
      },
      {
        "duration": 31,
        "start_time": "2023-06-27T20:37:07.029Z"
      },
      {
        "duration": 19,
        "start_time": "2023-06-27T20:37:07.062Z"
      },
      {
        "duration": 6,
        "start_time": "2023-06-27T20:37:07.083Z"
      },
      {
        "duration": 13,
        "start_time": "2023-06-27T20:37:07.091Z"
      },
      {
        "duration": 10,
        "start_time": "2023-06-27T20:37:07.106Z"
      },
      {
        "duration": 51,
        "start_time": "2023-06-27T20:37:07.118Z"
      },
      {
        "duration": 14,
        "start_time": "2023-06-27T20:37:07.171Z"
      },
      {
        "duration": 7,
        "start_time": "2023-06-27T20:37:07.188Z"
      },
      {
        "duration": 28,
        "start_time": "2023-06-27T20:37:07.197Z"
      },
      {
        "duration": 32,
        "start_time": "2023-06-27T20:37:07.227Z"
      },
      {
        "duration": 6,
        "start_time": "2023-06-27T20:37:07.261Z"
      },
      {
        "duration": 10,
        "start_time": "2023-06-27T20:37:07.269Z"
      }
    ],
    "kernelspec": {
      "display_name": "Python 3 (ipykernel)",
      "language": "python",
      "name": "python3"
    },
    "language_info": {
      "codemirror_mode": {
        "name": "ipython",
        "version": 3
      },
      "file_extension": ".py",
      "mimetype": "text/x-python",
      "name": "python",
      "nbconvert_exporter": "python",
      "pygments_lexer": "ipython3",
      "version": "3.9.5"
    },
    "toc": {
      "base_numbering": 1,
      "nav_menu": {},
      "number_sections": true,
      "sideBar": true,
      "skip_h1_title": true,
      "title_cell": "Table of Contents",
      "title_sidebar": "Contents",
      "toc_cell": false,
      "toc_position": {
        "height": "calc(100% - 180px)",
        "left": "10px",
        "top": "150px",
        "width": "294px"
      },
      "toc_section_display": true,
      "toc_window_display": true
    },
    "colab": {
      "provenance": []
    }
  },
  "nbformat": 4,
  "nbformat_minor": 0
}