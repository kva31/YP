{
  "cells": [
    {
      "cell_type": "markdown",
      "metadata": {
        "id": "k3hYNQPo6ywU"
      },
      "source": [
        "<div style=\"border:solid Chocolate 2px; padding: 40px\">\n",
        "\n",
        "<b> Вадим, привет!👋</b>\n",
        "\n",
        "Меня зовут Алексей Гриб, и я буду ревьюером твоего проекта.\n",
        "\n",
        "Сразу хочу предложить в дальнейшем общаться на \"ты\" - надеюсь, так будет комфортнее:) Но если это неудобно, обязательно дай знать, и мы придумаем что-нибудь ещё!\n",
        "    \n",
        "Цель ревью - не искать ошибки в твоём проекте, а помочь тебе сделать твою работу ещё лучше, устранив недочёты и приблизив её к реальным задачам аналитика. Поэтому не расстраивайся, если что-то не получилось с первого раза - это нормально, и это поможет тебе вырасти!\n",
        "    \n",
        "Ты можешь найти мои комментарии, обозначенные <font color='green'>зеленым</font>, <font color='gold'>желтым</font> и <font color='red'>красным</font> цветами, например:\n",
        "\n",
        "<br/>\n",
        "\n",
        "<div class=\"alert alert-success\">\n",
        "<h2> Комментарий ревьюера <a class=\"tocSkip\"> </h2>\n",
        "\n",
        "<b>Все отлично!👍:</b> похвала, рекомендации «со звёздочкой», полезные лайфхаки, которые сделают и без того красивое решение ещё более элегантным.\n",
        "</div>\n",
        "\n",
        "<br/>\n",
        "\n",
        "<div class=\"alert alert-warning\">\n",
        "    <h2> Комментарий ревьюера <a class=\"tocSkip\"> </h2>\n",
        "    \n",
        "<b>Некоторые замечания и рекомендации⚠️:</b> некритичные ошибки или развивающие рекомендации на будущее.\n",
        "</div>\n",
        "\n",
        "\n",
        "<br/>\n",
        "<div class=\"alert alert-block alert-danger\">\n",
        "<h2> Комментарий ревьюера <a class=\"tocSkip\"></h2>\n",
        "\n",
        "    \n",
        "<b>На доработку❌:</b>\n",
        "Критичные ошибки, которые обязательно нужно исправить.\n",
        "</div>\n",
        "\n",
        "Я не смогу принять проект, если в нём будет хотя бы одна критичная ошибка или несколько некритичных ошибок - тогда проект нужно будет немного доработать. Но это нестрашно - я обязательно дам тебе подсказку или укажу верное направление.\n",
        "    \n",
        "Пожалуйста, не удаляй мои комментарии, они будут особенно полезны для нашей работы в случае повторной проверки проекта.\n",
        "    \n",
        "Ты также можешь задавать свои вопросы, реагировать на мои комментарии, делать пометки и пояснения - полная творческая свобода! Но маленькая просьба - пускай они будут отличаться от моих комментариев, это поможет избежать путаницы в нашем общении:)\n",
        "Например, вот так:\n",
        "    \n",
        "<div class=\"alert alert-info\">\n",
        "<h2> Комментарий студента <a class=\"tocSkip\"> </h2>\n",
        "\n",
        "*твой текст*\n",
        "</div>\n",
        "    \n",
        "Давай посмотрим на твой проект!"
      ]
    },
    {
      "cell_type": "markdown",
      "metadata": {
        "id": "PlVru2bf6ywW"
      },
      "source": [
        "В общем доступе 9 гипотез по увеличению прибыли магазина.\n",
        "\n",
        "Цель исследования:\n",
        "- Проанализировать и найти достоверные гипотезы, которые поспособствуют росту прибыли магазина.\n",
        "\n",
        "- Провести A/B тест\n",
        "\n",
        "Ход исследования\n",
        "\n",
        "Данные я получу из файлов '/datasets/hypothesis.csv', '/datasets/orders.csv', '/datasets/visitors.csv'.\n",
        "\n",
        "Я проверю данные на наличие ошибок и оценю их влияние на исследование. Потом, на этапе предобработки обработки,я проанализирую возможности исправить любые ошибки в данных.\n",
        "\n",
        "Таким образом, мое исследование пройдет в 5 этапов:\n",
        "\n",
        "- Просмотр исходных данных\n",
        "\n",
        "- Предобработка данных\n",
        "\n",
        "- Оценивание гипотез\n",
        "\n",
        "- A/B тест\n",
        "\n",
        "- Выводы"
      ]
    },
    {
      "cell_type": "markdown",
      "metadata": {
        "id": "KShaVsTW6ywW"
      },
      "source": [
        "<div class=\"alert alert-success\">\n",
        "<h2> Комментарий ревьюера <a class=\"tocSkip\"> </h2>\n",
        "\n",
        "<b>Все отлично!👍:</b> Есть небольшое вступление - хороший старт."
      ]
    },
    {
      "cell_type": "markdown",
      "metadata": {
        "id": "7mfp2fk96ywX"
      },
      "source": [
        "<div class=\"alert alert-warning\">\n",
        "    <h2> Комментарий ревьюера <a class=\"tocSkip\"> </h2>\n",
        "    \n",
        "<b>Некоторые замечания и рекомендации⚠️:</b>\n",
        "\n",
        "Твой проект станет намного удобней в использовании, если ты добавишь интерактивное оглавление — с помощью гиперссылок или в плагине toc. Материал об этом есть в блоке курса Полезные инструкции для учёбы - Оформление проекта - Изменения в Jupyter: автоматическое оглавление и горячие клавиши."
      ]
    },
    {
      "cell_type": "markdown",
      "metadata": {
        "id": "2k9npvb56ywX"
      },
      "source": [
        "<div class=\"alert alert-warning\">\n",
        "    <h2> Комментарий ревьюера v.2 <a class=\"tocSkip\"> </h2>\n",
        "    \n",
        "<b>Некоторые замечания и рекомендации⚠️:</b>\n",
        "\n",
        "Не учтено."
      ]
    },
    {
      "cell_type": "markdown",
      "metadata": {
        "id": "N5Uodsuv6ywX"
      },
      "source": [
        "Посмотрим общую информацию из 3 файлов"
      ]
    },
    {
      "cell_type": "code",
      "execution_count": null,
      "metadata": {
        "id": "Pnf_LmND6ywX"
      },
      "outputs": [],
      "source": [
        "# Импортирую библиотеки\n",
        "import pandas as pd\n",
        "import numpy as np\n",
        "import matplotlib.pyplot as plt\n",
        "import seaborn as sns\n",
        "import math\n",
        "import datetime as dt\n",
        "import scipy.stats as st\n",
        "import warnings"
      ]
    },
    {
      "cell_type": "markdown",
      "metadata": {
        "id": "QNC4Bcjj6ywY"
      },
      "source": [
        "<div class=\"alert alert-success\">\n",
        "<h2> Комментарий ревьюера <a class=\"tocSkip\"> </h2>\n",
        "\n",
        "<b>Все отлично!👍:</b> Библиотеки импортировали - отлично! Спасибо, что перезапускаешь проект перед отправкой на ревью - это важный шаг, который поможет избежать простых и досадных ошибок при воспроизведении решнеия:)\n",
        "</div>"
      ]
    },
    {
      "cell_type": "markdown",
      "metadata": {
        "id": "XjAsjmEN6ywZ"
      },
      "source": [
        " Считаю файлы с данными и сохраню в переменные. Сделаю это через try-except для исключения ошибок при загрузке данных"
      ]
    },
    {
      "cell_type": "code",
      "execution_count": null,
      "metadata": {
        "id": "DjrbkxDT6ywZ"
      },
      "outputs": [],
      "source": [
        "try:\n",
        "    hyp=pd.read_csv('/datasets/hypothesis.csv', sep=',')\n",
        "    orders=pd.read_csv('/datasets/orders.csv', sep=',')\n",
        "    visitors=pd.read_csv('/datasets/visitors.csv', sep=',')\n",
        "except:\n",
        "    hyp=pd.read_csv(r'C:\\hypothesis.csv', sep=',')\n",
        "    orders=pd.read_csv(r'C:\\orders.csv', sep=',')\n",
        "    visitors=pd.read_csv(r'C:\\visitors.csv', sep=',')"
      ]
    },
    {
      "cell_type": "markdown",
      "metadata": {
        "id": "LmI4Xvvz6ywZ"
      },
      "source": [
        "<div class=\"alert alert-success\">\n",
        "<h2> Комментарий ревьюера <a class=\"tocSkip\"> </h2>\n",
        "\n",
        "<b>Все отлично!👍:</b>\n",
        "\n",
        "Данные загрузили - отлично!\n",
        "    \n",
        "Здорово, что ты используешь конструкцию ``try-except`` для путей файлов. Но еще лучше использовать библиотеку `os` - её использование позволит тебе проверять существование указанных директорий (что может быть актуально при одновременной работа на локальном и сетевом окружении) и загружать данные из существующей директории, избегая ошибок. Как пример:\n",
        "    \n",
        "    import os\n",
        "\n",
        "    pth1 = '/folder_1/data.csv'\n",
        "    pth2 = '/folder_2/data.csv'\n",
        "    \n",
        "    if os.path.exists(pth1):\n",
        "        query_1 = pd.read_csv(pth1)\n",
        "    elif os.path.exists(pth2):\n",
        "        query_1 = pd.read_csv(pth2)\n",
        "    else:\n",
        "        print('Something is wrong')\n",
        "    \n",
        "Ещё на этапе считывания данных можно спарсить дату: за это действие отвечает параметр `parse_dates` метода `read_csv()`, в него нужно передать список с названием полей-дат, и в большинстве случаев дата будет корректно преобразована в нужный формат сразу:)\n",
        "\n",
        "Также на этапе считывания данных задать индекс-столбец- за это действие отвечает параметр `index_col`."
      ]
    },
    {
      "cell_type": "markdown",
      "metadata": {
        "id": "g9CFBMsZ6ywZ"
      },
      "source": [
        "<div class=\"alert alert-warning\">\n",
        "    <h2> Комментарий ревьюера <a class=\"tocSkip\"> </h2>\n",
        "    \n",
        "<b>Некоторые замечания и рекомендации⚠️:</b>\n",
        "\n",
        "Не нужно делать блок `try-except` на каждую таблицу - достаточно поместить в блок `try` загрузку всех таблиц из одного источника, в `except` - из другого."
      ]
    },
    {
      "cell_type": "markdown",
      "metadata": {
        "id": "VEzo8htj6ywZ"
      },
      "source": [
        "<div class=\"alert alert-warning\">\n",
        "    <h2> Комментарий ревьюера v.2 <a class=\"tocSkip\"> </h2>\n",
        "    \n",
        "<b>Некоторые замечания и рекомендации⚠️:</b>\n",
        "\n",
        "Не учтено."
      ]
    },
    {
      "cell_type": "code",
      "execution_count": null,
      "metadata": {
        "id": "5iXBtKLC6ywZ"
      },
      "outputs": [],
      "source": [
        "# снимаем ограничение на количество столбцов\n",
        "pd.set_option('display.max_columns', None)\n",
        "\n",
        "# снимаем ограничение на ширину столбцов\n",
        "pd.set_option('display.max_colwidth', None)\n",
        "\n",
        "# игнорируем предупреждения\n",
        "warnings.filterwarnings(action='ignore')\n",
        "\n",
        "# выставляем ограничение на показ знаков после запятой\n",
        "pd.options.display.float_format = '{:,.3f}'.format\n",
        "\n",
        "# задаем размер графика\n",
        "sns.set(rc={'figure.figsize':(9,5)})"
      ]
    },
    {
      "cell_type": "markdown",
      "metadata": {
        "id": "tN8xTObJ6ywa"
      },
      "source": [
        "Посмотрю общие данные из каждой переменной, что я обозначила"
      ]
    },
    {
      "cell_type": "code",
      "execution_count": null,
      "metadata": {
        "id": "IS_Ioja36ywa",
        "outputId": "e2ad05bd-69cc-4baa-c8d8-3b804a17ec76"
      },
      "outputs": [
        {
          "data": {
            "text/html": [
              "<div>\n",
              "<style scoped>\n",
              "    .dataframe tbody tr th:only-of-type {\n",
              "        vertical-align: middle;\n",
              "    }\n",
              "\n",
              "    .dataframe tbody tr th {\n",
              "        vertical-align: top;\n",
              "    }\n",
              "\n",
              "    .dataframe thead th {\n",
              "        text-align: right;\n",
              "    }\n",
              "</style>\n",
              "<table border=\"1\" class=\"dataframe\">\n",
              "  <thead>\n",
              "    <tr style=\"text-align: right;\">\n",
              "      <th></th>\n",
              "      <th>Hypothesis</th>\n",
              "      <th>Reach</th>\n",
              "      <th>Impact</th>\n",
              "      <th>Confidence</th>\n",
              "      <th>Efforts</th>\n",
              "    </tr>\n",
              "  </thead>\n",
              "  <tbody>\n",
              "    <tr>\n",
              "      <th>0</th>\n",
              "      <td>Добавить два новых канала привлечения трафика, что позволит привлекать на 30% больше пользователей</td>\n",
              "      <td>3</td>\n",
              "      <td>10</td>\n",
              "      <td>8</td>\n",
              "      <td>6</td>\n",
              "    </tr>\n",
              "    <tr>\n",
              "      <th>1</th>\n",
              "      <td>Запустить собственную службу доставки, что сократит срок доставки заказов</td>\n",
              "      <td>2</td>\n",
              "      <td>5</td>\n",
              "      <td>4</td>\n",
              "      <td>10</td>\n",
              "    </tr>\n",
              "    <tr>\n",
              "      <th>2</th>\n",
              "      <td>Добавить блоки рекомендаций товаров на сайт интернет магазина, чтобы повысить конверсию и средний чек заказа</td>\n",
              "      <td>8</td>\n",
              "      <td>3</td>\n",
              "      <td>7</td>\n",
              "      <td>3</td>\n",
              "    </tr>\n",
              "    <tr>\n",
              "      <th>3</th>\n",
              "      <td>Изменить структура категорий, что увеличит конверсию, т.к. пользователи быстрее найдут нужный товар</td>\n",
              "      <td>8</td>\n",
              "      <td>3</td>\n",
              "      <td>3</td>\n",
              "      <td>8</td>\n",
              "    </tr>\n",
              "    <tr>\n",
              "      <th>4</th>\n",
              "      <td>Изменить цвет фона главной страницы, чтобы увеличить вовлеченность пользователей</td>\n",
              "      <td>3</td>\n",
              "      <td>1</td>\n",
              "      <td>1</td>\n",
              "      <td>1</td>\n",
              "    </tr>\n",
              "    <tr>\n",
              "      <th>5</th>\n",
              "      <td>Добавить страницу отзывов клиентов о магазине, что позволит увеличить количество заказов</td>\n",
              "      <td>3</td>\n",
              "      <td>2</td>\n",
              "      <td>2</td>\n",
              "      <td>3</td>\n",
              "    </tr>\n",
              "    <tr>\n",
              "      <th>6</th>\n",
              "      <td>Показать на главной странице баннеры с актуальными акциями и распродажами, чтобы увеличить конверсию</td>\n",
              "      <td>5</td>\n",
              "      <td>3</td>\n",
              "      <td>8</td>\n",
              "      <td>3</td>\n",
              "    </tr>\n",
              "    <tr>\n",
              "      <th>7</th>\n",
              "      <td>Добавить форму подписки на все основные страницы, чтобы собрать базу клиентов для email-рассылок</td>\n",
              "      <td>10</td>\n",
              "      <td>7</td>\n",
              "      <td>8</td>\n",
              "      <td>5</td>\n",
              "    </tr>\n",
              "    <tr>\n",
              "      <th>8</th>\n",
              "      <td>Запустить акцию, дающую скидку на товар в день рождения</td>\n",
              "      <td>1</td>\n",
              "      <td>9</td>\n",
              "      <td>9</td>\n",
              "      <td>5</td>\n",
              "    </tr>\n",
              "  </tbody>\n",
              "</table>\n",
              "</div>"
            ],
            "text/plain": [
              "                                                                                                     Hypothesis  \\\n",
              "0            Добавить два новых канала привлечения трафика, что позволит привлекать на 30% больше пользователей   \n",
              "1                                     Запустить собственную службу доставки, что сократит срок доставки заказов   \n",
              "2  Добавить блоки рекомендаций товаров на сайт интернет магазина, чтобы повысить конверсию и средний чек заказа   \n",
              "3           Изменить структура категорий, что увеличит конверсию, т.к. пользователи быстрее найдут нужный товар   \n",
              "4                              Изменить цвет фона главной страницы, чтобы увеличить вовлеченность пользователей   \n",
              "5                      Добавить страницу отзывов клиентов о магазине, что позволит увеличить количество заказов   \n",
              "6          Показать на главной странице баннеры с актуальными акциями и распродажами, чтобы увеличить конверсию   \n",
              "7              Добавить форму подписки на все основные страницы, чтобы собрать базу клиентов для email-рассылок   \n",
              "8                                                       Запустить акцию, дающую скидку на товар в день рождения   \n",
              "\n",
              "   Reach  Impact  Confidence  Efforts  \n",
              "0      3      10           8        6  \n",
              "1      2       5           4       10  \n",
              "2      8       3           7        3  \n",
              "3      8       3           3        8  \n",
              "4      3       1           1        1  \n",
              "5      3       2           2        3  \n",
              "6      5       3           8        3  \n",
              "7     10       7           8        5  \n",
              "8      1       9           9        5  "
            ]
          },
          "execution_count": 4,
          "metadata": {},
          "output_type": "execute_result"
        }
      ],
      "source": [
        "hyp.head(9)"
      ]
    },
    {
      "cell_type": "code",
      "execution_count": null,
      "metadata": {
        "id": "ZTUBV8vw6ywa",
        "outputId": "65b9c3d3-a6d6-4e5e-da4e-26f52dac9cce"
      },
      "outputs": [
        {
          "name": "stdout",
          "output_type": "stream",
          "text": [
            "<class 'pandas.core.frame.DataFrame'>\n",
            "RangeIndex: 9 entries, 0 to 8\n",
            "Data columns (total 5 columns):\n",
            " #   Column      Non-Null Count  Dtype \n",
            "---  ------      --------------  ----- \n",
            " 0   Hypothesis  9 non-null      object\n",
            " 1   Reach       9 non-null      int64 \n",
            " 2   Impact      9 non-null      int64 \n",
            " 3   Confidence  9 non-null      int64 \n",
            " 4   Efforts     9 non-null      int64 \n",
            "dtypes: int64(4), object(1)\n",
            "memory usage: 488.0+ bytes\n"
          ]
        }
      ],
      "source": [
        "hyp.info()"
      ]
    },
    {
      "cell_type": "markdown",
      "metadata": {
        "id": "s-8-Cnz86ywa"
      },
      "source": [
        "Итак, в датафрейме hyp нам представлены следующие параметры:\n",
        "\n",
        "- Hypothesis — наименование и описание гипотезы;\n",
        "- Reach — охват клиентов по 10-балльной шкале оценивания;\n",
        "- Impact — влияние на клиентов по 10-балльной шкале оценивания;\n",
        "- Confidence — уверенность в гипотезе по 10-балльной шкале оценивания;\n",
        "- Efforts — затраты ресурсов на проверку гипотезы по 10-балльной шкале оценивания."
      ]
    },
    {
      "cell_type": "code",
      "execution_count": null,
      "metadata": {
        "id": "jHygM7Pg6ywb",
        "outputId": "9c4654b8-1681-4211-bdb1-43656cdf2969"
      },
      "outputs": [
        {
          "data": {
            "text/html": [
              "<div>\n",
              "<style scoped>\n",
              "    .dataframe tbody tr th:only-of-type {\n",
              "        vertical-align: middle;\n",
              "    }\n",
              "\n",
              "    .dataframe tbody tr th {\n",
              "        vertical-align: top;\n",
              "    }\n",
              "\n",
              "    .dataframe thead th {\n",
              "        text-align: right;\n",
              "    }\n",
              "</style>\n",
              "<table border=\"1\" class=\"dataframe\">\n",
              "  <thead>\n",
              "    <tr style=\"text-align: right;\">\n",
              "      <th></th>\n",
              "      <th>transactionId</th>\n",
              "      <th>visitorId</th>\n",
              "      <th>date</th>\n",
              "      <th>revenue</th>\n",
              "      <th>group</th>\n",
              "    </tr>\n",
              "  </thead>\n",
              "  <tbody>\n",
              "    <tr>\n",
              "      <th>0</th>\n",
              "      <td>3667963787</td>\n",
              "      <td>3312258926</td>\n",
              "      <td>2019-08-15</td>\n",
              "      <td>1650</td>\n",
              "      <td>B</td>\n",
              "    </tr>\n",
              "    <tr>\n",
              "      <th>1</th>\n",
              "      <td>2804400009</td>\n",
              "      <td>3642806036</td>\n",
              "      <td>2019-08-15</td>\n",
              "      <td>730</td>\n",
              "      <td>B</td>\n",
              "    </tr>\n",
              "    <tr>\n",
              "      <th>2</th>\n",
              "      <td>2961555356</td>\n",
              "      <td>4069496402</td>\n",
              "      <td>2019-08-15</td>\n",
              "      <td>400</td>\n",
              "      <td>A</td>\n",
              "    </tr>\n",
              "    <tr>\n",
              "      <th>3</th>\n",
              "      <td>3797467345</td>\n",
              "      <td>1196621759</td>\n",
              "      <td>2019-08-15</td>\n",
              "      <td>9759</td>\n",
              "      <td>B</td>\n",
              "    </tr>\n",
              "    <tr>\n",
              "      <th>4</th>\n",
              "      <td>2282983706</td>\n",
              "      <td>2322279887</td>\n",
              "      <td>2019-08-15</td>\n",
              "      <td>2308</td>\n",
              "      <td>B</td>\n",
              "    </tr>\n",
              "    <tr>\n",
              "      <th>5</th>\n",
              "      <td>182168103</td>\n",
              "      <td>935554773</td>\n",
              "      <td>2019-08-15</td>\n",
              "      <td>2210</td>\n",
              "      <td>B</td>\n",
              "    </tr>\n",
              "    <tr>\n",
              "      <th>6</th>\n",
              "      <td>398296753</td>\n",
              "      <td>2900797465</td>\n",
              "      <td>2019-08-15</td>\n",
              "      <td>1860</td>\n",
              "      <td>B</td>\n",
              "    </tr>\n",
              "    <tr>\n",
              "      <th>7</th>\n",
              "      <td>2626614568</td>\n",
              "      <td>78758296</td>\n",
              "      <td>2019-08-15</td>\n",
              "      <td>1044</td>\n",
              "      <td>A</td>\n",
              "    </tr>\n",
              "    <tr>\n",
              "      <th>8</th>\n",
              "      <td>1576988021</td>\n",
              "      <td>295230930</td>\n",
              "      <td>2019-08-15</td>\n",
              "      <td>13710</td>\n",
              "      <td>A</td>\n",
              "    </tr>\n",
              "    <tr>\n",
              "      <th>9</th>\n",
              "      <td>1506739906</td>\n",
              "      <td>1882260405</td>\n",
              "      <td>2019-08-15</td>\n",
              "      <td>1855</td>\n",
              "      <td>B</td>\n",
              "    </tr>\n",
              "    <tr>\n",
              "      <th>10</th>\n",
              "      <td>3649131742</td>\n",
              "      <td>879864040</td>\n",
              "      <td>2019-08-15</td>\n",
              "      <td>4008</td>\n",
              "      <td>A</td>\n",
              "    </tr>\n",
              "    <tr>\n",
              "      <th>11</th>\n",
              "      <td>1919444843</td>\n",
              "      <td>927791387</td>\n",
              "      <td>2019-08-15</td>\n",
              "      <td>4499</td>\n",
              "      <td>B</td>\n",
              "    </tr>\n",
              "    <tr>\n",
              "      <th>12</th>\n",
              "      <td>2809384911</td>\n",
              "      <td>3213223594</td>\n",
              "      <td>2019-08-15</td>\n",
              "      <td>7370</td>\n",
              "      <td>A</td>\n",
              "    </tr>\n",
              "    <tr>\n",
              "      <th>13</th>\n",
              "      <td>3044797713</td>\n",
              "      <td>728063420</td>\n",
              "      <td>2019-08-15</td>\n",
              "      <td>11985</td>\n",
              "      <td>B</td>\n",
              "    </tr>\n",
              "    <tr>\n",
              "      <th>14</th>\n",
              "      <td>3859315276</td>\n",
              "      <td>1565034404</td>\n",
              "      <td>2019-08-15</td>\n",
              "      <td>10980</td>\n",
              "      <td>A</td>\n",
              "    </tr>\n",
              "  </tbody>\n",
              "</table>\n",
              "</div>"
            ],
            "text/plain": [
              "    transactionId   visitorId        date  revenue group\n",
              "0      3667963787  3312258926  2019-08-15     1650     B\n",
              "1      2804400009  3642806036  2019-08-15      730     B\n",
              "2      2961555356  4069496402  2019-08-15      400     A\n",
              "3      3797467345  1196621759  2019-08-15     9759     B\n",
              "4      2282983706  2322279887  2019-08-15     2308     B\n",
              "5       182168103   935554773  2019-08-15     2210     B\n",
              "6       398296753  2900797465  2019-08-15     1860     B\n",
              "7      2626614568    78758296  2019-08-15     1044     A\n",
              "8      1576988021   295230930  2019-08-15    13710     A\n",
              "9      1506739906  1882260405  2019-08-15     1855     B\n",
              "10     3649131742   879864040  2019-08-15     4008     A\n",
              "11     1919444843   927791387  2019-08-15     4499     B\n",
              "12     2809384911  3213223594  2019-08-15     7370     A\n",
              "13     3044797713   728063420  2019-08-15    11985     B\n",
              "14     3859315276  1565034404  2019-08-15    10980     A"
            ]
          },
          "execution_count": 6,
          "metadata": {},
          "output_type": "execute_result"
        }
      ],
      "source": [
        "orders.head(15)"
      ]
    },
    {
      "cell_type": "code",
      "execution_count": null,
      "metadata": {
        "id": "RkY7qT326ywb",
        "outputId": "641cd832-113a-46d5-9b37-1609557ec858"
      },
      "outputs": [
        {
          "name": "stdout",
          "output_type": "stream",
          "text": [
            "<class 'pandas.core.frame.DataFrame'>\n",
            "RangeIndex: 1197 entries, 0 to 1196\n",
            "Data columns (total 5 columns):\n",
            " #   Column         Non-Null Count  Dtype \n",
            "---  ------         --------------  ----- \n",
            " 0   transactionId  1197 non-null   int64 \n",
            " 1   visitorId      1197 non-null   int64 \n",
            " 2   date           1197 non-null   object\n",
            " 3   revenue        1197 non-null   int64 \n",
            " 4   group          1197 non-null   object\n",
            "dtypes: int64(3), object(2)\n",
            "memory usage: 46.9+ KB\n"
          ]
        }
      ],
      "source": [
        "orders.info()"
      ]
    },
    {
      "cell_type": "code",
      "execution_count": null,
      "metadata": {
        "id": "yU7iBWXR6ywb",
        "outputId": "c301d6a6-af91-4fb3-8243-3bfd471602bc"
      },
      "outputs": [
        {
          "name": "stdout",
          "output_type": "stream",
          "text": [
            "максимальная дата: 2019-08-31\n",
            "минимальная дата: 2019-08-01\n"
          ]
        }
      ],
      "source": [
        "print('максимальная дата:', max(orders['date']))\n",
        "print('минимальная дата:', min(orders['date']))"
      ]
    },
    {
      "cell_type": "code",
      "execution_count": null,
      "metadata": {
        "id": "1PqhhXxt6ywb",
        "outputId": "60730d53-a364-4132-ee58-6a500de275fd"
      },
      "outputs": [
        {
          "data": {
            "text/html": [
              "<div>\n",
              "<style scoped>\n",
              "    .dataframe tbody tr th:only-of-type {\n",
              "        vertical-align: middle;\n",
              "    }\n",
              "\n",
              "    .dataframe tbody tr th {\n",
              "        vertical-align: top;\n",
              "    }\n",
              "\n",
              "    .dataframe thead th {\n",
              "        text-align: right;\n",
              "    }\n",
              "</style>\n",
              "<table border=\"1\" class=\"dataframe\">\n",
              "  <thead>\n",
              "    <tr style=\"text-align: right;\">\n",
              "      <th></th>\n",
              "      <th>date</th>\n",
              "      <th>group</th>\n",
              "      <th>visitors</th>\n",
              "    </tr>\n",
              "  </thead>\n",
              "  <tbody>\n",
              "    <tr>\n",
              "      <th>0</th>\n",
              "      <td>2019-08-01</td>\n",
              "      <td>A</td>\n",
              "      <td>719</td>\n",
              "    </tr>\n",
              "    <tr>\n",
              "      <th>1</th>\n",
              "      <td>2019-08-02</td>\n",
              "      <td>A</td>\n",
              "      <td>619</td>\n",
              "    </tr>\n",
              "    <tr>\n",
              "      <th>2</th>\n",
              "      <td>2019-08-03</td>\n",
              "      <td>A</td>\n",
              "      <td>507</td>\n",
              "    </tr>\n",
              "    <tr>\n",
              "      <th>3</th>\n",
              "      <td>2019-08-04</td>\n",
              "      <td>A</td>\n",
              "      <td>717</td>\n",
              "    </tr>\n",
              "    <tr>\n",
              "      <th>4</th>\n",
              "      <td>2019-08-05</td>\n",
              "      <td>A</td>\n",
              "      <td>756</td>\n",
              "    </tr>\n",
              "    <tr>\n",
              "      <th>5</th>\n",
              "      <td>2019-08-06</td>\n",
              "      <td>A</td>\n",
              "      <td>667</td>\n",
              "    </tr>\n",
              "    <tr>\n",
              "      <th>6</th>\n",
              "      <td>2019-08-07</td>\n",
              "      <td>A</td>\n",
              "      <td>644</td>\n",
              "    </tr>\n",
              "    <tr>\n",
              "      <th>7</th>\n",
              "      <td>2019-08-08</td>\n",
              "      <td>A</td>\n",
              "      <td>610</td>\n",
              "    </tr>\n",
              "    <tr>\n",
              "      <th>8</th>\n",
              "      <td>2019-08-09</td>\n",
              "      <td>A</td>\n",
              "      <td>617</td>\n",
              "    </tr>\n",
              "    <tr>\n",
              "      <th>9</th>\n",
              "      <td>2019-08-10</td>\n",
              "      <td>A</td>\n",
              "      <td>406</td>\n",
              "    </tr>\n",
              "    <tr>\n",
              "      <th>10</th>\n",
              "      <td>2019-08-11</td>\n",
              "      <td>A</td>\n",
              "      <td>718</td>\n",
              "    </tr>\n",
              "    <tr>\n",
              "      <th>11</th>\n",
              "      <td>2019-08-12</td>\n",
              "      <td>A</td>\n",
              "      <td>595</td>\n",
              "    </tr>\n",
              "    <tr>\n",
              "      <th>12</th>\n",
              "      <td>2019-08-13</td>\n",
              "      <td>A</td>\n",
              "      <td>748</td>\n",
              "    </tr>\n",
              "    <tr>\n",
              "      <th>13</th>\n",
              "      <td>2019-08-14</td>\n",
              "      <td>A</td>\n",
              "      <td>735</td>\n",
              "    </tr>\n",
              "    <tr>\n",
              "      <th>14</th>\n",
              "      <td>2019-08-15</td>\n",
              "      <td>A</td>\n",
              "      <td>628</td>\n",
              "    </tr>\n",
              "  </tbody>\n",
              "</table>\n",
              "</div>"
            ],
            "text/plain": [
              "          date group  visitors\n",
              "0   2019-08-01     A       719\n",
              "1   2019-08-02     A       619\n",
              "2   2019-08-03     A       507\n",
              "3   2019-08-04     A       717\n",
              "4   2019-08-05     A       756\n",
              "5   2019-08-06     A       667\n",
              "6   2019-08-07     A       644\n",
              "7   2019-08-08     A       610\n",
              "8   2019-08-09     A       617\n",
              "9   2019-08-10     A       406\n",
              "10  2019-08-11     A       718\n",
              "11  2019-08-12     A       595\n",
              "12  2019-08-13     A       748\n",
              "13  2019-08-14     A       735\n",
              "14  2019-08-15     A       628"
            ]
          },
          "execution_count": 9,
          "metadata": {},
          "output_type": "execute_result"
        }
      ],
      "source": [
        "visitors.head(15)"
      ]
    },
    {
      "cell_type": "code",
      "execution_count": null,
      "metadata": {
        "id": "c_VnAvYS6ywb",
        "outputId": "37cad699-8934-418f-b1b9-db0eb53ebee4"
      },
      "outputs": [
        {
          "name": "stdout",
          "output_type": "stream",
          "text": [
            "<class 'pandas.core.frame.DataFrame'>\n",
            "RangeIndex: 62 entries, 0 to 61\n",
            "Data columns (total 3 columns):\n",
            " #   Column    Non-Null Count  Dtype \n",
            "---  ------    --------------  ----- \n",
            " 0   date      62 non-null     object\n",
            " 1   group     62 non-null     object\n",
            " 2   visitors  62 non-null     int64 \n",
            "dtypes: int64(1), object(2)\n",
            "memory usage: 1.6+ KB\n"
          ]
        }
      ],
      "source": [
        "visitors.info()"
      ]
    },
    {
      "cell_type": "code",
      "execution_count": null,
      "metadata": {
        "id": "UTJW7f0r6ywc",
        "outputId": "fd6b1a8d-8e83-4065-b16d-2df18fed4163"
      },
      "outputs": [
        {
          "name": "stdout",
          "output_type": "stream",
          "text": [
            "максимальная дата: 2019-08-31\n",
            "минимальная дата: 2019-08-01\n"
          ]
        }
      ],
      "source": [
        "print('максимальная дата:', max(visitors['date']))\n",
        "print('минимальная дата:', min(visitors['date']))"
      ]
    },
    {
      "cell_type": "markdown",
      "metadata": {
        "id": "vly_i8j76ywc"
      },
      "source": [
        "В датафрейме orders нам представлены следующая информация о клиентов:\n",
        "\n",
        " date — дата;\n",
        "\n",
        " group — группа A/B-теста;\n",
        "\n",
        " visitors — количество клиентов в указанную дату в указанной группе A/B-теста"
      ]
    },
    {
      "cell_type": "markdown",
      "metadata": {
        "id": "q3Ak3xlH6ywc"
      },
      "source": [
        "Предобработка полученных данных"
      ]
    },
    {
      "cell_type": "code",
      "execution_count": null,
      "metadata": {
        "id": "qyyqsnS_6ywc"
      },
      "outputs": [],
      "source": [
        "hyp.columns=hyp.columns.str.lower()\n",
        "orders=orders.rename(columns = {'transactionId':'transaction_id', 'visitorId':'visitor_id'})"
      ]
    },
    {
      "cell_type": "markdown",
      "metadata": {
        "id": "Vs7DVd166ywc"
      },
      "source": [
        "Проверим на наличие дубликатов:"
      ]
    },
    {
      "cell_type": "code",
      "execution_count": null,
      "metadata": {
        "id": "mhH7esrU6ywc",
        "outputId": "67f2c9a1-c062-4ae4-fbfc-01ae4bca57ef"
      },
      "outputs": [
        {
          "data": {
            "text/plain": [
              "0"
            ]
          },
          "execution_count": 13,
          "metadata": {},
          "output_type": "execute_result"
        }
      ],
      "source": [
        "hyp.duplicated().sum()\n",
        "orders.duplicated().sum()\n",
        "visitors.duplicated().sum()"
      ]
    },
    {
      "cell_type": "markdown",
      "metadata": {
        "id": "Fiwy2AQ-6ywd"
      },
      "source": [
        "Проверим на наличие пропусков:"
      ]
    },
    {
      "cell_type": "code",
      "execution_count": null,
      "metadata": {
        "id": "3rnqVAez6ywd",
        "outputId": "d887b538-ecfc-4fb5-e664-b67888ae26cb"
      },
      "outputs": [
        {
          "data": {
            "text/plain": [
              "date        0\n",
              "group       0\n",
              "visitors    0\n",
              "dtype: int64"
            ]
          },
          "execution_count": 14,
          "metadata": {},
          "output_type": "execute_result"
        }
      ],
      "source": [
        "hyp.isna().sum()\n",
        "orders.isna().sum()\n",
        "visitors.isna().sum()"
      ]
    },
    {
      "cell_type": "markdown",
      "metadata": {
        "id": "_HYsUwWz6ywd"
      },
      "source": [
        "Переведем столбцы с датой в нужный тип для удобства работы с ними:"
      ]
    },
    {
      "cell_type": "code",
      "execution_count": null,
      "metadata": {
        "id": "Pp3cRLoG6ywd"
      },
      "outputs": [],
      "source": [
        "visitors['date'] = pd.to_datetime(visitors['date'])\n",
        "orders['date'] = pd.to_datetime(orders['date'])"
      ]
    },
    {
      "cell_type": "markdown",
      "metadata": {
        "id": "Fw0pACAO6ywd"
      },
      "source": [
        "<div class=\"alert alert-success\">\n",
        "<h2> Комментарий ревьюера <a class=\"tocSkip\"> </h2>\n",
        "\n",
        "<b>Все отлично!👍:</b> Данные осмотрели, проверили пропуски и дубликаты, преобразовали дату и столбцы - отлично!"
      ]
    },
    {
      "cell_type": "markdown",
      "metadata": {
        "id": "6AKHAynB6ywd"
      },
      "source": [
        "Исключим также тех пользователей, которые попали в две группы одновременно, чтобы выводы были максимально точными"
      ]
    },
    {
      "cell_type": "code",
      "execution_count": null,
      "metadata": {
        "id": "ZxxXDHxD6ywd"
      },
      "outputs": [],
      "source": [
        "dubls = orders.groupby('visitor_id').agg(\n",
        "    {'group': 'nunique'}).query('group == 2').reset_index()['visitor_id'].tolist()"
      ]
    },
    {
      "cell_type": "code",
      "execution_count": null,
      "metadata": {
        "id": "JZ25W0wN6ywd"
      },
      "outputs": [],
      "source": [
        "orders = orders.query('visitor_id not in @dubls').copy()"
      ]
    },
    {
      "cell_type": "markdown",
      "metadata": {
        "id": "XeWA7APw6ywd"
      },
      "source": [
        "Посчитаем количество пользователей, которые попали в две группы одновременно"
      ]
    },
    {
      "cell_type": "code",
      "execution_count": null,
      "metadata": {
        "id": "YtLZ1Z0S6ywe"
      },
      "outputs": [],
      "source": [
        "sum_dubls = len(dubls)"
      ]
    },
    {
      "cell_type": "code",
      "execution_count": null,
      "metadata": {
        "scrolled": true,
        "id": "_tQeB9cz6ywh",
        "outputId": "298a88f8-d8fc-4a7e-b325-6145e826574b"
      },
      "outputs": [
        {
          "name": "stdout",
          "output_type": "stream",
          "text": [
            "58\n"
          ]
        }
      ],
      "source": [
        "print(sum_dubls)"
      ]
    },
    {
      "cell_type": "markdown",
      "metadata": {
        "id": "Cd6fFoDD6ywh"
      },
      "source": [
        "Посчитаем общее количество уникальных пользователей"
      ]
    },
    {
      "cell_type": "code",
      "execution_count": null,
      "metadata": {
        "id": "ePaJWMAK6ywh"
      },
      "outputs": [],
      "source": [
        "unique_orders = len(orders['visitor_id'].unique())"
      ]
    },
    {
      "cell_type": "code",
      "execution_count": null,
      "metadata": {
        "scrolled": true,
        "id": "SOO5DI4h6ywi",
        "outputId": "7b9bab81-b8f0-4e3e-ecbd-c8ffb4e0c97c"
      },
      "outputs": [
        {
          "name": "stdout",
          "output_type": "stream",
          "text": [
            "973\n"
          ]
        }
      ],
      "source": [
        "print(unique_orders)"
      ]
    },
    {
      "cell_type": "markdown",
      "metadata": {
        "id": "yDmPvQGc6ywi"
      },
      "source": [
        "Посчитаем долю пользователей из 2 групп одновременно,  от общего количества пользователей"
      ]
    },
    {
      "cell_type": "code",
      "execution_count": null,
      "metadata": {
        "id": "fPnNECYK6ywi"
      },
      "outputs": [],
      "source": [
        "share_dubls = (sum_dubls / unique_orders) * 100"
      ]
    },
    {
      "cell_type": "code",
      "execution_count": null,
      "metadata": {
        "id": "a0Yr6lfw6ywi",
        "outputId": "98ea72ab-7071-4279-9cf4-eb2ee052c944"
      },
      "outputs": [
        {
          "name": "stdout",
          "output_type": "stream",
          "text": [
            "5.960945529290853\n"
          ]
        }
      ],
      "source": [
        "print (share_dubls)"
      ]
    },
    {
      "cell_type": "markdown",
      "metadata": {
        "id": "r9UklADp6ywi"
      },
      "source": [
        "Количество пользователей, который попали в две группы одновременно - 58, что составило 6% от общего количества уникальных пользователей"
      ]
    },
    {
      "cell_type": "markdown",
      "metadata": {
        "id": "nnmpXlYv6ywi"
      },
      "source": [
        "<div class=\"alert alert-success\">\n",
        "<h2> Комментарий ревьюера <a class=\"tocSkip\"> </h2>\n",
        "\n",
        "<b>Все отлично!👍:</b> Исключили пересечение пользоваетелей между группами - отлично!"
      ]
    },
    {
      "cell_type": "markdown",
      "metadata": {
        "id": "6dz5BKaX6ywj"
      },
      "source": [
        "<div class=\"alert alert-block alert-danger\">\n",
        "<h2> Комментарий ревьюера <a class=\"tocSkip\"></h2>\n",
        "\n",
        "    \n",
        "<b>На доработку❌:</b>\n",
        "\n",
        "Тут важно:\n",
        "- посчитать их количество и долю от общего количества пользователей для понимания масштаба трагедии;\n",
        "- прокомментировать, почему удаляем, потому что равно как за удаление, так и за сохранение есть свои аргументы."
      ]
    },
    {
      "cell_type": "markdown",
      "metadata": {
        "id": "nbeuHWl76ywj"
      },
      "source": [
        "Не совсем понимаю первый пункт замечания..."
      ]
    },
    {
      "cell_type": "markdown",
      "metadata": {
        "id": "CLV-OQqf6ywj"
      },
      "source": [
        "<div class=\"alert alert-block alert-danger\">\n",
        "<h2> Комментарий ревьюера v.2 <a class=\"tocSkip\"></h2>\n",
        "\n",
        "    \n",
        "<b>На доработку❌:</b>\n",
        "\n",
        "В переменной `dubls` у тебя хранятся пользователи, которые участвуют сразу в двух группах теста. Нужно:\n",
        "- вывести их количество;\n",
        "- посчитать долю этих пользователей от общего количества пользователей (поделить их количество на общее количество уникальных пользователей `orders`)."
      ]
    },
    {
      "cell_type": "markdown",
      "metadata": {
        "id": "AoidT0RX6ywj"
      },
      "source": [
        "<div class=\"alert alert-success\">\n",
        "<h2> Комментарий ревьюера v.3 <a class=\"tocSkip\"> </h2>\n",
        "\n",
        "<b>Все отлично!👍:</b> Учтено."
      ]
    },
    {
      "cell_type": "markdown",
      "metadata": {
        "id": "EgpkItK_6ywj"
      },
      "source": [
        "Выводы:\n",
        "- Посмотрел общие данные, с которыми предстоит работать\n",
        "- Привел названия столбцов к нижнему регистру и поменяла названия некоторых столбцов\n",
        "- Поменял тип данных в столбцах с датой\n",
        "- Исключил пользователей, которые находятся в двух группах сразу, что исключить \"наложение\" пользователей и исключить \"искажения\" статистических данных (влияние на точность). Таких пользователей было 58, что составляет 6% от общей группы уникальных пользователей"
      ]
    },
    {
      "cell_type": "markdown",
      "metadata": {
        "id": "BqmuI0pS6ywj"
      },
      "source": [
        "<div class=\"alert alert-success\">\n",
        "<h2> Комментарий ревьюера <a class=\"tocSkip\"> </h2>\n",
        "\n",
        "<b>Все отлично!👍:</b> Тут всё хорошо."
      ]
    },
    {
      "cell_type": "markdown",
      "metadata": {
        "id": "yQKZMi4S6ywj"
      },
      "source": [
        "<div class=\"alert alert-warning\">\n",
        "    <h2> Комментарий ревьюера <a class=\"tocSkip\"> </h2>\n",
        "    \n",
        "<b>Некоторые замечания и рекомендации⚠️:</b>\n",
        "\n",
        "При анализе А/В тестов очень важно проверить, сколько уникальных пользователей в каждой группе (по таблице с заказами) - поможет сделать вывод о сбалансированности групп по числу пользователей.\n",
        "         \n",
        "</div>"
      ]
    },
    {
      "cell_type": "markdown",
      "metadata": {
        "id": "kuVEKjQQ6ywj"
      },
      "source": [
        "<div class=\"alert alert-warning\">\n",
        "    <h2> Комментарий ревьюера v.2 <a class=\"tocSkip\"> </h2>\n",
        "    \n",
        "<b>Некоторые замечания и рекомендации⚠️:</b>\n",
        "\n",
        "Не учтено."
      ]
    },
    {
      "cell_type": "markdown",
      "metadata": {
        "id": "6jCyNHuo6ywk"
      },
      "source": [
        "Это лучше делать через цикл for, или через unique? ну что бы я учла на будущее)"
      ]
    },
    {
      "cell_type": "markdown",
      "metadata": {
        "id": "Fbk-PJVZ6ywk"
      },
      "source": [
        "<div class=\"alert alert-success\">\n",
        "<h2> Комментарий ревьюера v.3 <a class=\"tocSkip\"> </h2>\n",
        "\n",
        "<b>Все отлично!👍:</b> Лучше через `nunique()`:)"
      ]
    },
    {
      "cell_type": "markdown",
      "metadata": {
        "id": "jOMlOHnX6ywk"
      },
      "source": [
        "Часть 1\n",
        "\n",
        "Приступим к приоритизации гипотез."
      ]
    },
    {
      "cell_type": "markdown",
      "metadata": {
        "id": "KlojhJVf6ywk"
      },
      "source": [
        "Для начала применим фреймворк ICE и отсортируем результат по убыванию приоритета."
      ]
    },
    {
      "cell_type": "code",
      "execution_count": null,
      "metadata": {
        "id": "T9nGAfU66ywk",
        "outputId": "a01a4776-85e6-4117-f425-18d74a874b10"
      },
      "outputs": [
        {
          "name": "stdout",
          "output_type": "stream",
          "text": [
            "                                                                                                     hypothesis  \\\n",
            "8                                                       Запустить акцию, дающую скидку на товар в день рождения   \n",
            "0            Добавить два новых канала привлечения трафика, что позволит привлекать на 30% больше пользователей   \n",
            "7              Добавить форму подписки на все основные страницы, чтобы собрать базу клиентов для email-рассылок   \n",
            "6          Показать на главной странице баннеры с актуальными акциями и распродажами, чтобы увеличить конверсию   \n",
            "2  Добавить блоки рекомендаций товаров на сайт интернет магазина, чтобы повысить конверсию и средний чек заказа   \n",
            "1                                     Запустить собственную службу доставки, что сократит срок доставки заказов   \n",
            "5                      Добавить страницу отзывов клиентов о магазине, что позволит увеличить количество заказов   \n",
            "3           Изменить структура категорий, что увеличит конверсию, т.к. пользователи быстрее найдут нужный товар   \n",
            "4                              Изменить цвет фона главной страницы, чтобы увеличить вовлеченность пользователей   \n",
            "\n",
            "     ICE  \n",
            "8 16.200  \n",
            "0 13.333  \n",
            "7 11.200  \n",
            "6  8.000  \n",
            "2  7.000  \n",
            "1  2.000  \n",
            "5  1.333  \n",
            "3  1.125  \n",
            "4  1.000  \n"
          ]
        }
      ],
      "source": [
        "hyp['ICE']=hyp['impact']*hyp['confidence']/hyp['efforts']\n",
        "print(hyp[['hypothesis','ICE']].sort_values(by='ICE', ascending=False))"
      ]
    },
    {
      "cell_type": "markdown",
      "metadata": {
        "id": "v9ZIcbDd6ywk"
      },
      "source": [
        "Из всех гипотез (исходя из параметра ICE), логично будет приоритезировать гипотезу номер 8. Выглядит более приоритетно, так как влияние у нее довольно большое, как и уверенность в данной гипотезе, а затраты ресурсов относительно маленькие."
      ]
    },
    {
      "cell_type": "markdown",
      "metadata": {
        "id": "ILQenedQ6ywk"
      },
      "source": [
        "<div class=\"alert alert-success\">\n",
        "<h2> Комментарий ревьюера <a class=\"tocSkip\"> </h2>\n",
        "\n",
        "<b>Все отлично!👍:</b> Приоритизация по ICE в порядке!"
      ]
    },
    {
      "cell_type": "markdown",
      "metadata": {
        "id": "fjhv2r8h6ywl"
      },
      "source": [
        "<div class=\"alert alert-warning\">\n",
        "    <h2> Комментарий ревьюера <a class=\"tocSkip\"> </h2>\n",
        "    \n",
        "<b>Некоторые замечания и рекомендации⚠️:</b>\n",
        "\n",
        "1. Значение метрики стоит округлить до двух знаков после запятой.\n",
        "2. Метод `.print()` не очень подходит для работы с таблицами типа `pd.DataFrame`, так как выводит их на экран просто как отформатированный текст. Для отображения небольших таблиц можно воспользоваться методом `.head()`, для таблиц побольше - модулем `display`."
      ]
    },
    {
      "cell_type": "markdown",
      "metadata": {
        "id": "yKR6UdC46ywl"
      },
      "source": [
        "<div class=\"alert alert-warning\">\n",
        "    <h2> Комментарий ревьюера v.2 <a class=\"tocSkip\"> </h2>\n",
        "    \n",
        "<b>Некоторые замечания и рекомендации⚠️:</b>\n",
        "\n",
        "Не учтено."
      ]
    },
    {
      "cell_type": "markdown",
      "metadata": {
        "id": "iZNPF8UX6ywl"
      },
      "source": [
        "Далее применим фреймворк RICE и также отсортируем результат по убыванию приоритета."
      ]
    },
    {
      "cell_type": "code",
      "execution_count": null,
      "metadata": {
        "id": "aXgkYpKU6ywl",
        "outputId": "9c2c1223-5dfb-4bb3-a769-03265fe44952"
      },
      "outputs": [
        {
          "name": "stdout",
          "output_type": "stream",
          "text": [
            "                                                                                                     hypothesis  \\\n",
            "7              Добавить форму подписки на все основные страницы, чтобы собрать базу клиентов для email-рассылок   \n",
            "2  Добавить блоки рекомендаций товаров на сайт интернет магазина, чтобы повысить конверсию и средний чек заказа   \n",
            "0            Добавить два новых канала привлечения трафика, что позволит привлекать на 30% больше пользователей   \n",
            "6          Показать на главной странице баннеры с актуальными акциями и распродажами, чтобы увеличить конверсию   \n",
            "8                                                       Запустить акцию, дающую скидку на товар в день рождения   \n",
            "3           Изменить структура категорий, что увеличит конверсию, т.к. пользователи быстрее найдут нужный товар   \n",
            "1                                     Запустить собственную службу доставки, что сократит срок доставки заказов   \n",
            "5                      Добавить страницу отзывов клиентов о магазине, что позволит увеличить количество заказов   \n",
            "4                              Изменить цвет фона главной страницы, чтобы увеличить вовлеченность пользователей   \n",
            "\n",
            "     RICE  \n",
            "7 112.000  \n",
            "2  56.000  \n",
            "0  40.000  \n",
            "6  40.000  \n",
            "8  16.200  \n",
            "3   9.000  \n",
            "1   4.000  \n",
            "5   4.000  \n",
            "4   3.000  \n"
          ]
        }
      ],
      "source": [
        "hyp['RICE']=(hyp['reach']*hyp['impact']*hyp['confidence'])/hyp['efforts']\n",
        "print(hyp[['hypothesis','RICE']].sort_values(by='RICE', ascending=False))"
      ]
    },
    {
      "cell_type": "markdown",
      "metadata": {
        "id": "txLl5Xgm6ywl"
      },
      "source": [
        "<div class=\"alert alert-success\">\n",
        "<h2> Комментарий ревьюера <a class=\"tocSkip\"> </h2>\n",
        "\n",
        "<b>Все отлично!👍:</b> Приоритизация по RICE выполнена."
      ]
    },
    {
      "cell_type": "markdown",
      "metadata": {
        "id": "08pM7Xou6ywl"
      },
      "source": [
        "Здесь мы видим некоторые изменения, приоритет стоит отдать гипотезе номер 7, то есть стоит добавить форму подписки на все основные страницы, чтобы собрать базу клиентов для email-рассылок. Более того, приоритетная задача из предыдущего вывода находится на пятом месте из девяти возможных. Эта разница объясняется тем, что фреймворк RICE, помимо всего прочего, берет во внимание параметр reach, который обозначает охват пользователей. У предыдущей гипотезы охват минимальный, у гипотезы номер 7,в свою очередь, охват максимальный из возможных."
      ]
    },
    {
      "cell_type": "markdown",
      "metadata": {
        "id": "USKygmqR6ywl"
      },
      "source": [
        "Какой вывод мы можем сделать по результатам первой части нашего исследования?\n",
        "Я бы рекомендовала отдать приоритет гипотезам 7, 2, 0, 6, то есть тем, которые заняли лидирующие позиции фреймворка RICE."
      ]
    },
    {
      "cell_type": "markdown",
      "metadata": {
        "id": "185EIAw06ywl"
      },
      "source": [
        "<div class=\"alert alert-success\">\n",
        "<h2> Комментарий ревьюера <a class=\"tocSkip\"> </h2>\n",
        "\n",
        "<b>Все отлично!👍:</b> Пояснили различия фреймворков, а также интерпретировали различия в приоритетах гипотез - отлично!"
      ]
    },
    {
      "cell_type": "markdown",
      "metadata": {
        "id": "1sIB0HIf6ywm"
      },
      "source": [
        "Часть 2\n",
        "\n",
        "Для того, чтобы построить нужные нам графики, нам нужно собрать кумулятивные данные. Создадим датафрейм cumulative, в котором соберем все нужные значения со столбцами:\n",
        "\n",
        "- date — дата;\n",
        "- group — группа A/B-теста (A или B);\n",
        "- orders — кумулятивное количество заказов на указанную дату в указанной группе;\n",
        "- buyers — кумулятивное количество пользователей, совершивших хотя бы один заказ, на указанную дату в указанной группе;\n",
        "- revenue — кумулятивная выручка на указанную дату в указанной группе (средний чек);\n",
        "- visitors — кумулятивное количество посетителей интернет-магазина на указанную дату в определённой группе."
      ]
    },
    {
      "cell_type": "markdown",
      "metadata": {
        "id": "xohDCVZE6ywm"
      },
      "source": [
        "Для этого сначала оставим только уникальные пары значений дат и групп теста"
      ]
    },
    {
      "cell_type": "code",
      "execution_count": null,
      "metadata": {
        "id": "HOy_Abt66ywm"
      },
      "outputs": [],
      "source": [
        "dates_groups = orders[['date','group']].drop_duplicates()"
      ]
    },
    {
      "cell_type": "markdown",
      "metadata": {
        "id": "IG95QvFt6ywm"
      },
      "source": [
        "Далее создадим код, который выведет ежедневно обновляющиеся результаты теста по группам до максимальной даты в датафрейме включительно, поместим их в переменную orders_agg:"
      ]
    },
    {
      "cell_type": "code",
      "execution_count": null,
      "metadata": {
        "id": "nnlG_tXr6ywm"
      },
      "outputs": [],
      "source": [
        "orders_agg = dates_groups.apply(lambda x: orders[np.logical_and(orders['date'] <= x['date'], orders['group'] == x['group'])]\\\n",
        ".agg({'date' : 'max', 'group' : 'max', 'transaction_id' : 'nunique', 'visitor_id' : 'nunique', 'revenue' : 'sum'}), axis=1).sort_values(by=['date','group'])"
      ]
    },
    {
      "cell_type": "markdown",
      "metadata": {
        "id": "HrdZke0d6ywm"
      },
      "source": [
        "Аналогично получим агрегированные кумулятивные по дням данные о посетителях интернет-магазина:"
      ]
    },
    {
      "cell_type": "code",
      "execution_count": null,
      "metadata": {
        "id": "WAE-9jVt6ywm"
      },
      "outputs": [],
      "source": [
        "visitors_agg = dates_groups.apply(lambda x: visitors[np.logical_and(visitors['date'] <= x['date'], visitors['group'] == x['group'])].agg({'date' : 'max', 'group' : 'max', 'visitors' : 'sum'}), axis=1).sort_values(by=['date','group'])"
      ]
    },
    {
      "cell_type": "markdown",
      "metadata": {
        "id": "62bgokG46ywn"
      },
      "source": [
        "Объединим обе таблицы в одну:"
      ]
    },
    {
      "cell_type": "code",
      "execution_count": null,
      "metadata": {
        "id": "gWCh2sa76ywo",
        "outputId": "775ef742-f333-4b3e-9a82-1aa6e3004245"
      },
      "outputs": [
        {
          "name": "stdout",
          "output_type": "stream",
          "text": [
            "        date group  orders  buyers  revenue  visitors\n",
            "0 2019-08-01     A      23      19   142779       719\n",
            "1 2019-08-01     B      17      17    59758       713\n",
            "2 2019-08-02     A      42      36   234381      1338\n",
            "3 2019-08-02     B      40      39   221801      1294\n",
            "4 2019-08-03     A      66      60   346854      1845\n",
            "5 2019-08-03     B      54      53   288850      1803\n",
            "6 2019-08-04     A      77      71   388030      2562\n",
            "7 2019-08-04     B      68      66   385740      2573\n",
            "8 2019-08-05     A      99      92   474413      3318\n",
            "9 2019-08-05     B      89      87   475648      3280\n"
          ]
        }
      ],
      "source": [
        "cumulative = orders_agg.merge(visitors_agg, left_on=['date', 'group'], right_on=['date', 'group'])\n",
        "cumulative.columns = ['date', 'group', 'orders', 'buyers', 'revenue', 'visitors']\n",
        "\n",
        "print(cumulative.head(10))"
      ]
    },
    {
      "cell_type": "markdown",
      "metadata": {
        "id": "Jey3yxD46ywo"
      },
      "source": [
        "<div class=\"alert alert-success\">\n",
        "<h2> Комментарий ревьюера <a class=\"tocSkip\"> </h2>\n",
        "\n",
        "<b>Все отлично!👍:</b> Кумулятивные данные собрали - отлично!"
      ]
    },
    {
      "cell_type": "code",
      "execution_count": null,
      "metadata": {
        "id": "_YOo5o5g6ywo",
        "outputId": "b01d3db7-d4e9-489c-c99b-1e561bd6b527"
      },
      "outputs": [
        {
          "name": "stdout",
          "output_type": "stream",
          "text": [
            "максимальная дата: 2019-08-31 00:00:00\n",
            "минимальная дата: 2019-08-01 00:00:00\n"
          ]
        }
      ],
      "source": [
        "print('максимальная дата:', max(cumulative['date']))\n",
        "print('минимальная дата:', min(cumulative['date']))"
      ]
    },
    {
      "cell_type": "markdown",
      "metadata": {
        "id": "1iv8AGlo6ywo"
      },
      "source": [
        "Отлично, теперь можем приступать к построению графиков. Первым построим график кумулятивной выручки по группам."
      ]
    },
    {
      "cell_type": "code",
      "execution_count": null,
      "metadata": {
        "id": "25n25nTf6ywo",
        "outputId": "e1dc15fe-fbdf-470e-95a8-86e8b47e77f8"
      },
      "outputs": [
        {
          "data": {
            "image/png": "[encoded data removed]",
            "text/plain": [
              "<Figure size 648x360 with 1 Axes>"
            ]
          },
          "metadata": {},
          "output_type": "display_data"
        }
      ],
      "source": [
        "cumulative_revenueA= cumulative[cumulative['group']=='A'][['date', 'revenue', 'orders']]\n",
        "cumulative_revenueB=cumulative[cumulative['group']=='B'][['date','revenue','orders']]\n",
        "plt.plot(cumulative_revenueA['date'], cumulative_revenueA['revenue'], label='\"А\"')\n",
        "plt.plot(cumulative_revenueB['date'], cumulative_revenueB['revenue'], label= '\"B\"')\n",
        "plt.grid()\n",
        "plt.title(r'График кумулятивной выручки по группам')\n",
        "plt.xlabel(\"Дата\")\n",
        "# Поправила\n",
        "plt.ylabel(\"Выручка, млн.\")\n",
        "plt.xticks(rotation=30)\n",
        "plt.legend() ;"
      ]
    },
    {
      "cell_type": "markdown",
      "metadata": {
        "id": "9w1LbQrJ6ywo"
      },
      "source": [
        "<div class=\"alert alert-block alert-danger\">\n",
        "<h2> Комментарий ревьюера <a class=\"tocSkip\"></h2>\n",
        "\n",
        "    \n",
        "<b>На доработку❌:</b>\n",
        "\n",
        "Тут и далее убедись, пожалуйста, что подписаны оси Х и Y на всех графиках проекта."
      ]
    },
    {
      "cell_type": "markdown",
      "metadata": {
        "id": "4PftHO9g6ywp"
      },
      "source": [
        "<div class=\"alert alert-success\">\n",
        "<h2> Комментарий ревьюера v.2 <a class=\"tocSkip\"> </h2>\n",
        "\n",
        "<b>Все отлично!👍:</b> Учтено."
      ]
    },
    {
      "cell_type": "markdown",
      "metadata": {
        "id": "Wd2gW_qk6ywp"
      },
      "source": [
        "Выручка увеличивается в течение всего теста, это, безусловно, хороший знак, однако, группа \"B\" довольно заметно вырывается вперед на ~середине теста. Также резкие точки роста могут сигнализировать о выбросах, либо о резком увеличении числа заказов."
      ]
    },
    {
      "cell_type": "markdown",
      "metadata": {
        "id": "76twzwNv6ywp"
      },
      "source": [
        "Следующим построим график кумулятивного среднего чека по группам:"
      ]
    },
    {
      "cell_type": "code",
      "execution_count": null,
      "metadata": {
        "id": "9Ev1gM7w6ywp",
        "outputId": "f346aa06-1713-47d3-cb18-f4248d29125d"
      },
      "outputs": [
        {
          "data": {
            "image/png": "[encoded data removed]",
            "text/plain": [
              "<Figure size 648x360 with 1 Axes>"
            ]
          },
          "metadata": {},
          "output_type": "display_data"
        }
      ],
      "source": [
        "plt.plot(cumulative_revenueA['date'], cumulative_revenueA['revenue']/cumulative_revenueA['orders'], label='A')\n",
        "plt.plot(cumulative_revenueB['date'], cumulative_revenueB['revenue']/cumulative_revenueB['orders'], label='B')\n",
        "plt.grid()\n",
        "plt.title(r'График кумулятивного среднего чека по группам')\n",
        "plt.xlabel(\"Дата\")\n",
        "# Поправила\n",
        "plt.ylabel(\"Средний чек, руб\")\n",
        "plt.xticks(rotation=30)\n",
        "plt.legend() ;\n",
        "plt.legend() ;"
      ]
    },
    {
      "cell_type": "markdown",
      "metadata": {
        "id": "Du2Qut8R6ywp"
      },
      "source": [
        "Гипотеза о том, что в группе В есть выброс- значение, сильно выделяющееся на фоне других, подтверждается резким скачком на графике. Однако, на протяжении всего теста средний чек в обеих группах растет."
      ]
    },
    {
      "cell_type": "markdown",
      "metadata": {
        "id": "dLSl8glN6ywp"
      },
      "source": [
        "Следующим построим график относительного изменения кумулятивного среднего чека группы B к группе A."
      ]
    },
    {
      "cell_type": "code",
      "execution_count": null,
      "metadata": {
        "id": "wpWCWSwz6ywp",
        "outputId": "b1afc2a5-3d4b-4cf6-9dd6-86d3cc02fd11"
      },
      "outputs": [
        {
          "data": {
            "image/png": "[encoded data removed]",
            "text/plain": [
              "<Figure size 648x360 with 1 Axes>"
            ]
          },
          "metadata": {},
          "output_type": "display_data"
        }
      ],
      "source": [
        "cumulative_revenueAB= cumulative_revenueA.merge(cumulative_revenueB, left_on='date', right_on='date', how='left', suffixes=['A', 'B'])\n",
        "\n",
        "plt.plot(cumulative_revenueAB['date'], (cumulative_revenueAB['revenueB']/cumulative_revenueAB['ordersB'])/(cumulative_revenueAB['revenueA']/cumulative_revenueAB['ordersA'])-1)\n",
        "plt.grid()\n",
        "plt.title(r'График изменения кумулятивного среднего чека группы А к группе B')\n",
        "plt.xlabel('Дата')\n",
        "plt.ylabel('Средний чек')\n",
        "# Поправила\n",
        "plt.xticks(rotation=30)\n",
        "plt.axhline(y=0, color='black', linestyle='--');"
      ]
    },
    {
      "cell_type": "markdown",
      "metadata": {
        "id": "aZ_s5p5o6ywp"
      },
      "source": [
        "В некоторых точках особенно заметны выбросы - значения, слишком выбивающиеся из числа остальных. От них мы избавимся чуть позже."
      ]
    },
    {
      "cell_type": "markdown",
      "metadata": {
        "id": "tqzaBSrr6ywq"
      },
      "source": [
        "Cледующим построим график кумулятивного среднего количества заказов на посетителя по группам"
      ]
    },
    {
      "cell_type": "markdown",
      "metadata": {
        "id": "7-EvCafr6ywq"
      },
      "source": [
        "Исправила"
      ]
    },
    {
      "cell_type": "code",
      "execution_count": null,
      "metadata": {
        "id": "SdPNCqQa6ywq",
        "outputId": "313cbe3f-eb68-4781-e8c2-0fa0182659f0"
      },
      "outputs": [
        {
          "data": {
            "image/png": "[encoded data removed]",
            "text/plain": [
              "<Figure size 648x360 with 1 Axes>"
            ]
          },
          "metadata": {},
          "output_type": "display_data"
        }
      ],
      "source": [
        "cumulative['AVR'] = cumulative['orders']/cumulative['visitors']\n",
        "\n",
        "cumulative_dataA = cumulative[cumulative['group']=='A']\n",
        "cumulative_dataB = cumulative[cumulative['group']=='B']\n",
        "\n",
        "plt.plot(cumulative_dataA['date'], cumulative_dataA['AVR'], label='A')\n",
        "plt.plot(cumulative_dataB['date'], cumulative_dataB['AVR'], label='B')\n",
        "plt.grid()\n",
        "plt.title(r'График кумулятивного среднего количества заказов на посетителя по группам')\n",
        "plt.xlabel('Дата')\n",
        "plt.ylabel('Среднее количество заказов на посетителя')\n",
        "# Поправила\n",
        "plt.xticks(rotation=30)\n",
        "plt.legend();"
      ]
    },
    {
      "cell_type": "markdown",
      "metadata": {
        "id": "ZWNMWBtC6ywq"
      },
      "source": [
        "Этот график наиболее ярко показывает наличие выбросов в данных.\n",
        "\n",
        "Несмотря на скачки в начале, обе группы стабилизировались к концу теста.\n",
        "\n",
        "Среднее количество покупок на посетителя группы А стабильно ниже среднего количества покупок на посетителя группы B."
      ]
    },
    {
      "cell_type": "markdown",
      "metadata": {
        "id": "KhXpVDU36ywq"
      },
      "source": [
        "Поправила"
      ]
    },
    {
      "cell_type": "markdown",
      "metadata": {
        "id": "pdvgt7_p6ywq"
      },
      "source": [
        "<div class=\"alert alert-block alert-danger\">\n",
        "<h2> Комментарий ревьюера <a class=\"tocSkip\"></h2>\n",
        "\n",
        "    \n",
        "<b>На доработку❌:</b>\n",
        "\n",
        "Тут в целом верно, но в выводе ты пишешь про конверсию, а анализируешь среднее количество покупок на посетителя - стоит скорректировать атрибуты графика и выводы по нему.\n",
        "    \n",
        "Разница между конверсией и средним количеством заказов на посетителя в том, что в случае конверсии у нас и в числителе, и в знаменателе уникальные пользователи, а во втором случае уникальные пользователи только в числителе - в знаменателе у нас агрегированная информация, и каждый уникальный пользователь наверняка совершил ни один просмотр перед покупкой, то есть метрики в чём-то схожи, но всё же разные."
      ]
    },
    {
      "cell_type": "markdown",
      "metadata": {
        "id": "K89e0Ga16ywq"
      },
      "source": [
        "<div class=\"alert alert-block alert-danger\">\n",
        "<h2> Комментарий ревьюера v.2 <a class=\"tocSkip\"></h2>\n",
        "\n",
        "    \n",
        "<b>На доработку❌:</b>\n",
        "\n",
        "Обрати внимание, что на этом графике у нас по оси Y не изменение метрики (как на предыдущем, например), а сама метрика (как, например, первый и второй график). Обрати внимание на название графика (чтобы понять, что анализируем на графике) и подпиши в соответствии ось Y."
      ]
    },
    {
      "cell_type": "markdown",
      "metadata": {
        "id": "EH8tY6Y36ywq"
      },
      "source": [
        "<div class=\"alert alert-success\">\n",
        "<h2> Комментарий ревьюера v.3 <a class=\"tocSkip\"> </h2>\n",
        "\n",
        "<b>Все отлично!👍:</b> Учтено."
      ]
    },
    {
      "cell_type": "markdown",
      "metadata": {
        "id": "XQLaD3fM6ywr"
      },
      "source": [
        "Построим график относительного различия кумулятивных средних количества заказов на посетителя по группам"
      ]
    },
    {
      "cell_type": "code",
      "execution_count": null,
      "metadata": {
        "id": "KKxtwCqd6ywr",
        "outputId": "03bc8aca-2dd9-4f33-866c-d1dc12e430ed"
      },
      "outputs": [
        {
          "data": {
            "image/png": "[encoded data removed]",
            "text/plain": [
              "<Figure size 648x360 with 1 Axes>"
            ]
          },
          "metadata": {},
          "output_type": "display_data"
        }
      ],
      "source": [
        "cumulative_AVR_AB = (\n",
        "cumulative_dataA[['date','AVR']]\n",
        "    .merge(cumulative_dataB[['date','AVR']],\n",
        "           left_on='date',\n",
        "           right_on='date',\n",
        "           how='left',\n",
        "           suffixes=['A', 'B'])\n",
        ")\n",
        "plt.plot(cumulative_AVR_AB['date'],\n",
        "         cumulative_AVR_AB['AVRB']/\n",
        "         cumulative_AVR_AB['AVRA']-1, label=\"Относительный прирост кумулятивного среднего количества заказов на посетителя по группы B относительно группы A\")\n",
        "plt.legend()\n",
        "plt.xlabel('Дата')\n",
        "plt.ylabel('Количество заказов')\n",
        "# Поправила\n",
        "plt.axhline(y=0, color='black', linestyle='--')\n",
        "plt.axhline(y=0.15, color='grey', linestyle='--')\n",
        "plt.xticks(rotation=30);"
      ]
    },
    {
      "cell_type": "markdown",
      "metadata": {
        "id": "YqmzWHKO6yws"
      },
      "source": [
        "В начале теста группа B проигрывала группе А, но потом значительно вырвалась вперед. Но делать какие-либо выводы рано, сначала нужно избавиться от выбросов."
      ]
    },
    {
      "cell_type": "markdown",
      "metadata": {
        "id": "W6d_JnpL6yws"
      },
      "source": [
        "<div class=\"alert alert-block alert-danger\">\n",
        "<h2> Комментарий ревьюера <a class=\"tocSkip\"></h2>\n",
        "\n",
        "    \n",
        "<b>На доработку❌:</b>\n",
        "\n",
        "Аналогичное замечание про конверсию."
      ]
    },
    {
      "cell_type": "markdown",
      "metadata": {
        "id": "NkfLdBRW6yws"
      },
      "source": [
        "<div class=\"alert alert-success\">\n",
        "<h2> Комментарий ревьюера v.2 <a class=\"tocSkip\"> </h2>\n",
        "\n",
        "<b>Все отлично!👍:</b> Учтено."
      ]
    },
    {
      "cell_type": "markdown",
      "metadata": {
        "id": "rOV_DJj76yws"
      },
      "source": [
        "Далее посмотрим на распределение количества заказов по пользователям. Это необходимо для того, чтобы исключить тех пользователей, которые делали заказов больше, чем 90-95% пользователей."
      ]
    },
    {
      "cell_type": "markdown",
      "metadata": {
        "id": "HrqlCVS86yws"
      },
      "source": [
        "Это поможет нам избавиться от значений, которые искажают результат теста."
      ]
    },
    {
      "cell_type": "code",
      "execution_count": null,
      "metadata": {
        "id": "b40jYEv16ywt",
        "outputId": "e4b55d8b-864e-4a7e-8505-4b2aab731cb9"
      },
      "outputs": [
        {
          "data": {
            "text/plain": [
              "count   973.000\n",
              "mean      1.044\n",
              "std       0.238\n",
              "min       1.000\n",
              "25%       1.000\n",
              "50%       1.000\n",
              "75%       1.000\n",
              "max       3.000\n",
              "Name: orders, dtype: float64"
            ]
          },
          "metadata": {},
          "output_type": "display_data"
        },
        {
          "data": {
            "image/png": "[encoded data removed]",
            "text/plain": [
              "<Figure size 648x360 with 1 Axes>"
            ]
          },
          "metadata": {},
          "output_type": "display_data"
        }
      ],
      "source": [
        "orders_by_users = (\n",
        "    orders.groupby('visitor_id', as_index=False)\n",
        "    .agg({'transaction_id': 'nunique'})\n",
        ")\n",
        "orders_by_users.columns =  ['visitor_id', 'orders']\n",
        "display(orders_by_users['orders'].describe())\n",
        "\n",
        "plt.hist(orders_by_users['orders'], alpha=0.5)\n",
        "plt.title('Распределение количества заказов по пользователям')\n",
        "plt.xlabel('Количество заказов')\n",
        "plt.ylabel('Количество пользователей')\n",
        "plt.show()"
      ]
    },
    {
      "cell_type": "markdown",
      "metadata": {
        "id": "g3lEJRxA6ywt"
      },
      "source": [
        "В основном делают 1 заказ, но есть и те, кто делает 3 заказа в месяц. От этих значений мы тоже избавимся.\n",
        "\n",
        "Для более наглядной визуализации построим точечный график"
      ]
    },
    {
      "cell_type": "code",
      "execution_count": null,
      "metadata": {
        "id": "uwEeaUK66ywt",
        "outputId": "2d97a644-f5b2-4337-fe3a-b876e2276470"
      },
      "outputs": [
        {
          "data": {
            "image/png": "[encoded data removed]",
            "text/plain": [
              "<Figure size 648x360 with 1 Axes>"
            ]
          },
          "metadata": {},
          "output_type": "display_data"
        }
      ],
      "source": [
        "x_values = pd.Series(range(0,len(orders_by_users)))\n",
        "plt.scatter(x_values, orders_by_users['orders'], color='purple', alpha=0.5)\n",
        "plt.xlabel('Количество пользователей')\n",
        "plt.ylabel('Количество заказов')\n",
        "plt.title('Распределение количества заказов по пользователям')\n",
        "plt.show()"
      ]
    },
    {
      "cell_type": "markdown",
      "metadata": {
        "id": "9hMvQEH56ywt"
      },
      "source": [
        "<div class=\"alert alert-block alert-danger\">\n",
        "<h2> Комментарий ревьюера v.2 <a class=\"tocSkip\"></h2>\n",
        "\n",
        "    \n",
        "<b>На доработку❌:</b>\n",
        "\n",
        "На точечных графиках (этот и следующий) не подписаны оси Х и Y."
      ]
    },
    {
      "cell_type": "markdown",
      "metadata": {
        "id": "V4ZcIp3g6ywt"
      },
      "source": [
        "<div class=\"alert alert-success\">\n",
        "<h2> Комментарий ревьюера v.3 <a class=\"tocSkip\"> </h2>\n",
        "\n",
        "<b>Все отлично!👍:</b> Учтено."
      ]
    },
    {
      "cell_type": "markdown",
      "metadata": {
        "id": "valSonN56ywt"
      },
      "source": [
        "<div class=\"alert alert-success\">\n",
        "<h2> Комментарий ревьюера <a class=\"tocSkip\"> </h2>\n",
        "\n",
        "<b>Все отлично!👍:</b> Проанализировали распределение количества покупок на пользователя и нашли аномальных покупателей - отлично!"
      ]
    },
    {
      "cell_type": "markdown",
      "metadata": {
        "id": "vZz9TAE96ywt"
      },
      "source": [
        "Посчитаем 95-й и 99-й перцентили количества заказов на пользователя, чтобы точно определиться с долей пользователей с тем или иным количеством заказов."
      ]
    },
    {
      "cell_type": "code",
      "execution_count": null,
      "metadata": {
        "id": "C_AzIHnX6ywt",
        "outputId": "70cc6a80-6cea-4e34-9634-1775c4a31dba"
      },
      "outputs": [
        {
          "data": {
            "text/plain": [
              "array([1., 2.])"
            ]
          },
          "execution_count": 38,
          "metadata": {},
          "output_type": "execute_result"
        }
      ],
      "source": [
        "np.percentile(orders_by_users['orders'], [95, 99])"
      ]
    },
    {
      "cell_type": "markdown",
      "metadata": {
        "id": "Z6Eq13t86ywu"
      },
      "source": [
        "<div class=\"alert alert-success\">\n",
        "<h2> Комментарий ревьюера <a class=\"tocSkip\"> </h2>\n",
        "\n",
        "<b>Все отлично!👍:</b> Персентили посчитаны верно."
      ]
    },
    {
      "cell_type": "markdown",
      "metadata": {
        "id": "ILLefxh66ywu"
      },
      "source": [
        "Не более 1 процента пользователей делали более 2 заказов в месяц. Возьмем 2 за верхнюю границу в данном критерии."
      ]
    },
    {
      "cell_type": "markdown",
      "metadata": {
        "id": "r45W9fam6ywu"
      },
      "source": [
        "<div class=\"alert alert-success\">\n",
        "<h2> Комментарий ревьюера <a class=\"tocSkip\"> </h2>\n",
        "\n",
        "<b>Все отлично!👍:</b> Определили границу для фильтрации аномалий - отлично!"
      ]
    },
    {
      "cell_type": "markdown",
      "metadata": {
        "id": "dMFMbf-h6ywu"
      },
      "source": [
        "Посмотрим на стоимость заказов по пользователям."
      ]
    },
    {
      "cell_type": "code",
      "execution_count": null,
      "metadata": {
        "id": "8TlwI4l16ywu",
        "outputId": "c0a1ad10-9dc6-4f9c-f56b-5e3b78734b28"
      },
      "outputs": [
        {
          "data": {
            "text/plain": [
              "count       1,016.000\n",
              "mean        8,300.815\n",
              "std        42,121.992\n",
              "min            50.000\n",
              "25%         1,190.000\n",
              "50%         2,955.000\n",
              "75%         8,134.250\n",
              "max     1,294,500.000\n",
              "Name: revenue, dtype: float64"
            ]
          },
          "metadata": {},
          "output_type": "display_data"
        },
        {
          "data": {
            "image/png": "[encoded data removed]",
            "text/plain": [
              "<Figure size 648x360 with 1 Axes>"
            ]
          },
          "metadata": {},
          "output_type": "display_data"
        }
      ],
      "source": [
        "display(orders['revenue'].describe())\n",
        "plt.hist(orders['revenue'], alpha=0.5)\n",
        "plt.title('Распределение стоимости заказов по пользователям')\n",
        "plt.xlabel('Стоимость заказов')\n",
        "plt.ylabel('Количество пользователей')\n",
        "plt.show()"
      ]
    },
    {
      "cell_type": "markdown",
      "metadata": {
        "id": "2J-E_u6P6ywu"
      },
      "source": [
        "Один из заказов значительно отличается от остальных, почти 1.3 миллиона.. Конечно, этот заказ сильно повлияет на графики, от него нужно избавиться, иначе все результаты будут недостоверными."
      ]
    },
    {
      "cell_type": "code",
      "execution_count": null,
      "metadata": {
        "id": "dbxlXCOw6ywu",
        "outputId": "97843e13-6db1-45d5-8d41-74066a6da7d3"
      },
      "outputs": [
        {
          "data": {
            "image/png": "[encoded data removed]",
            "text/plain": [
              "<Figure size 648x360 with 1 Axes>"
            ]
          },
          "metadata": {},
          "output_type": "display_data"
        }
      ],
      "source": [
        "x_values = pd.Series(range(0,len(orders)))\n",
        "plt.scatter(x_values, orders['revenue'], color='purple', alpha=0.5)\n",
        "plt.xlabel('Количество пользователей')\n",
        "plt.ylabel('Стоимость заказов')\n",
        "plt.title('Распределение стоимости заказов по пользователям')\n",
        "plt.show()"
      ]
    },
    {
      "cell_type": "markdown",
      "metadata": {
        "id": "DCSR_tiq6ywv"
      },
      "source": [
        "На графике снова видно 1 выбивающееся значение-то самое, которое искажает все графики. Есть еще несколько значений, отличающихся от других. Посмотрим, что скажут проценты."
      ]
    },
    {
      "cell_type": "markdown",
      "metadata": {
        "id": "GAhNWilQ6ywv"
      },
      "source": [
        "<div class=\"alert alert-success\">\n",
        "<h2> Комментарий ревьюера <a class=\"tocSkip\"> </h2>\n",
        "\n",
        "<b>Все отлично!👍:</b> Проанализировали распределение стоимости заказов и нашли аномально дорогие заказы - отлично!"
      ]
    },
    {
      "cell_type": "code",
      "execution_count": null,
      "metadata": {
        "id": "O9RuDuXb6ywv",
        "outputId": "70984c6b-11b6-4225-a243-2e050b645e04"
      },
      "outputs": [
        {
          "data": {
            "text/plain": [
              "array([26785., 53904.])"
            ]
          },
          "execution_count": 41,
          "metadata": {},
          "output_type": "execute_result"
        }
      ],
      "source": [
        "np.percentile(orders['revenue'], [95, 99])"
      ]
    },
    {
      "cell_type": "markdown",
      "metadata": {
        "id": "VsNE6Oxy6ywv"
      },
      "source": [
        "<div class=\"alert alert-success\">\n",
        "<h2> Комментарий ревьюера <a class=\"tocSkip\"> </h2>\n",
        "\n",
        "<b>Все отлично!👍:</b> Персентили посчитаны верно."
      ]
    },
    {
      "cell_type": "markdown",
      "metadata": {
        "id": "RWYRuqZR6ywv"
      },
      "source": [
        "Определим верхней границей значение 99%, то есть 53000."
      ]
    },
    {
      "cell_type": "markdown",
      "metadata": {
        "id": "tuSE77lZ6ywv"
      },
      "source": [
        "<div class=\"alert alert-success\">\n",
        "<h2> Комментарий ревьюера <a class=\"tocSkip\"> </h2>\n",
        "\n",
        "<b>Все отлично!👍:</b> Определили границу для фильтрации аномалий - отлично!"
      ]
    },
    {
      "cell_type": "markdown",
      "metadata": {
        "id": "YiNLoPT-6ywv"
      },
      "source": [
        "<div class=\"alert alert-warning\">\n",
        "    <h2> Комментарий ревьюера <a class=\"tocSkip\"> </h2>\n",
        "    \n",
        "<b>Некоторые замечания и рекомендации⚠️:</b>\n",
        "\n",
        "Здесь рекомендую в качестве границ аномалий брать именно расчётное значение персентиля, по двум причинам:\n",
        "- если берёшь что-то с отступом от персентиля, будет тяжелее отвечать на вопрос коллег, знакомых со статистикой, `По какому персентилю отфильтрованы аномалии` (скорее всего, для рандомного значения ты не определишь точный персентиль), а также могут быть сложности с дальнейшими статистическими расчётами, где вещи вроде степеней свободы и размера персентиля важно знать как входной параметр;\n",
        "- вопрос автоматизации - проще указать как значение `np.percentile(x)`, чем каждый раз писать переменную руками.\n",
        "        \n",
        "</div>"
      ]
    },
    {
      "cell_type": "markdown",
      "metadata": {
        "id": "jQ2VZScQ6ywv"
      },
      "source": [
        "<div class=\"alert alert-warning\">\n",
        "    <h2> Комментарий ревьюера v.2 <a class=\"tocSkip\"> </h2>\n",
        "    \n",
        "<b>Некоторые замечания и рекомендации⚠️:</b>\n",
        "\n",
        "Не учтено."
      ]
    },
    {
      "cell_type": "markdown",
      "metadata": {
        "id": "fM3LQuJM6ywv"
      },
      "source": [
        "Имеется ввиду отдельное задание переменной под персентили? Ну это на будущее"
      ]
    },
    {
      "cell_type": "markdown",
      "metadata": {
        "id": "iaYxUrl86yww"
      },
      "source": [
        "<div class=\"alert alert-success\">\n",
        "<h2> Комментарий ревьюера v.3 <a class=\"tocSkip\"> </h2>\n",
        "\n",
        "<b>Все отлично!👍:</b> Имею в виду, что стоит взять, например, не 53000, как у тебя, а 53904, как получилось при расчёте персентилей."
      ]
    },
    {
      "cell_type": "markdown",
      "metadata": {
        "id": "1kGjxEaq6yww"
      },
      "source": [
        "Посчитаем статистическую значимость различий в среднем количестве заказов на посетителя между группами по «сырым» данным, то есть не удаляя пользователей, которые значительно выбиваются из числа остальных."
      ]
    },
    {
      "cell_type": "markdown",
      "metadata": {
        "id": "u2bXZDPA6yww"
      },
      "source": [
        "Использовать для этого мы будем тест Манна-Уитни, так как он непараметрический, то есть работает с рангами, — номерами значений в упорядоченном ряду, — никак не учитывая сами значения. Это подойдет и нам, так как работа с самими значениями невозможна из-за выбросов, сильно сдвигающих параметрические результаты."
      ]
    },
    {
      "cell_type": "markdown",
      "metadata": {
        "id": "I4HdyKSV6yww"
      },
      "source": [
        "<div class=\"alert alert-success\">\n",
        "<h2> Комментарий ревьюера <a class=\"tocSkip\"> </h2>\n",
        "\n",
        "<b>Все отлично!👍:</b> Указали и обосновали критерий проверки - отлично!"
      ]
    },
    {
      "cell_type": "markdown",
      "metadata": {
        "id": "--vG-Y2g6yww"
      },
      "source": [
        "Начнём с подготовки данных."
      ]
    },
    {
      "cell_type": "code",
      "execution_count": null,
      "metadata": {
        "id": "arlb-lzc6yww",
        "outputId": "3e8b358e-5aa7-4016-aee1-9575b0942cd4"
      },
      "outputs": [
        {
          "name": "stdout",
          "output_type": "stream",
          "text": [
            "        date  orders_per_dateA  revenue_per_dateA  orders_per_dateB  \\\n",
            "0 2019-08-01                23             142779                17   \n",
            "1 2019-08-02                19              91602                23   \n",
            "2 2019-08-03                24             112473                14   \n",
            "3 2019-08-04                11              41176                14   \n",
            "4 2019-08-05                22              86383                21   \n",
            "\n",
            "   revenue_per_dateB  orders_cummulativeA  revenue_cummulativeA  \\\n",
            "0              59758                   23                142779   \n",
            "1             162043                   42                234381   \n",
            "2              67049                   66                346854   \n",
            "3              96890                   77                388030   \n",
            "4              89908                   99                474413   \n",
            "\n",
            "   orders_cummulativeB  revenue_cummulativeB  visitors_per_dateA  \\\n",
            "0                   17                 59758                 719   \n",
            "1                   40                221801                 619   \n",
            "2                   54                288850                 507   \n",
            "3                   68                385740                 717   \n",
            "4                   89                475648                 756   \n",
            "\n",
            "   visitors_per_dateB  visitors_cummulativeA  visitors_cummulativeB  \n",
            "0                 713                    719                    713  \n",
            "1                 581                   1338                   1294  \n",
            "2                 509                   1845                   1803  \n",
            "3                 770                   2562                   2573  \n",
            "4                 707                   3318                   3280  \n"
          ]
        }
      ],
      "source": [
        "visitors_dailyA = visitors[visitors['group'] == 'A'][['date', 'visitors']]\n",
        "visitors_dailyA.columns = ['date', 'visitors_per_dateA']\n",
        "\n",
        "visitors_cummulativeA = visitors_dailyA.apply(\n",
        "    lambda x: visitors_dailyA[visitors_dailyA['date'] <= x['date']].agg(\n",
        "        {'date': 'max', 'visitors_per_dateA': 'sum'}\n",
        "    ),\n",
        "    axis=1,\n",
        ")\n",
        "visitors_cummulativeA.columns = ['date', 'visitors_cummulativeA']\n",
        "\n",
        "visitors_dailyB = visitors[visitors['group'] == 'B'][['date', 'visitors']]\n",
        "visitors_dailyB.columns = ['date', 'visitors_per_dateB']\n",
        "\n",
        "visitors_cummulativeB = visitors_dailyB.apply(\n",
        "    lambda x: visitors_dailyB[visitors_dailyB['date'] <= x['date']].agg(\n",
        "        {'date': 'max', 'visitors_per_dateB': 'sum'}\n",
        "    ),\n",
        "    axis=1,\n",
        ")\n",
        "visitors_cummulativeB.columns = ['date', 'visitors_cummulativeB']\n",
        "\n",
        "orders_dailyA = (\n",
        "    orders[orders['group'] == 'A'][['date', 'transaction_id', 'visitor_id', 'revenue']]\n",
        "    .groupby('date', as_index=False)\n",
        "    .agg({'transaction_id': pd.Series.nunique, 'revenue': 'sum'})\n",
        ")\n",
        "orders_dailyA.columns = ['date', 'orders_per_dateA', 'revenue_per_dateA']\n",
        "\n",
        "orders_cummulativeA = orders_dailyA.apply(\n",
        "    lambda x: orders_dailyA[orders_dailyA['date'] <= x['date']].agg(\n",
        "        {'date': 'max', 'orders_per_dateA': 'sum', 'revenue_per_dateA': 'sum'}\n",
        "     ),\n",
        "    axis=1,\n",
        ").sort_values(by=['date'])\n",
        "orders_cummulativeA.columns = [\n",
        "    'date',\n",
        "    'orders_cummulativeA',\n",
        "    'revenue_cummulativeA',\n",
        "]\n",
        "\n",
        "orders_dailyB = (\n",
        "    orders[orders['group'] == 'B'][['date', 'transaction_id', 'visitor_id', 'revenue']]\n",
        "    .groupby('date', as_index=False)\n",
        "    .agg({'transaction_id': pd.Series.nunique, 'revenue': 'sum'})\n",
        ")\n",
        "orders_dailyB.columns = ['date', 'orders_per_dateB', 'revenue_per_dateB']\n",
        "\n",
        "orders_cummulativeB = orders_dailyB.apply(\n",
        "    lambda x: orders_dailyB[orders_dailyB['date'] <= x['date']].agg(\n",
        "        {'date': 'max', 'orders_per_dateB': 'sum', 'revenue_per_dateB': 'sum'}\n",
        "    ),\n",
        "    axis=1,\n",
        ").sort_values(by=['date'])\n",
        "orders_cummulativeB.columns = [\n",
        "    'date',\n",
        "    'orders_cummulativeB',\n",
        "    'revenue_cummulativeB',\n",
        "]\n",
        "\n",
        "data = (\n",
        "    orders_dailyA.merge(\n",
        "        orders_dailyB, left_on='date', right_on='date', how='left'\n",
        "    )\n",
        "    .merge(orders_cummulativeA, left_on='date', right_on='date', how='left')\n",
        "    .merge(orders_cummulativeB, left_on='date', right_on='date', how='left')\n",
        "    .merge(visitors_dailyA, left_on='date', right_on='date', how='left')\n",
        "    .merge(visitors_dailyB, left_on='date', right_on='date', how='left')\n",
        "    .merge(visitors_cummulativeA, left_on='date', right_on='date', how='left')\n",
        "    .merge(visitors_cummulativeB, left_on='date', right_on='date', how='left')\n",
        ")\n",
        "\n",
        "print(data.head(5))"
      ]
    },
    {
      "cell_type": "markdown",
      "metadata": {
        "id": "bv_XVB2s6yww"
      },
      "source": [
        "Получилась у нас следующая таблица:\n",
        "- date — дата;\n",
        "- orders_per_dateA — количество заказов в выбранную дату в группе A;\n",
        "- revenue_per_dateA — суммарная выручка в выбранную дату в группе A;\n",
        "- orders_per_dateB — количество заказов в выбранную дату в группе B;\n",
        "- revenue_per_dateB — суммарная выручка в выбранную дату в группе B;\n",
        "- orders_cummulativeA — суммарное число заказов до выбранной даты включительно в группе A;\n",
        "- revenue_cummulativeA — суммарная выручка до выбранной даты включительно в группе A;\n",
        "- orders_cummulativeB — суммарное количество заказов до выбранной даты включительно в группе B;\n",
        "- revenue_cummulativeB — суммарная выручка до выбранной даты включительно в группе B;\n",
        "- visitors_per_dateA — количество пользователей в выбранную дату в группе A;\n",
        "- visitors_per_dateB — количество пользователей в выбранную дату в группе B;\n",
        "- visitors_cummulativeA — количество пользователей до выбранной даты включительно в группе A;\n",
        "- visitors_cummulativeB — количество пользователей до выбранной даты включительно в группе B.date — дата;"
      ]
    },
    {
      "cell_type": "markdown",
      "metadata": {
        "id": "mhLY-PGr6ywx"
      },
      "source": [
        "<div class=\"alert alert-warning\">\n",
        "    <h2> Комментарий ревьюера <a class=\"tocSkip\"> </h2>\n",
        "    \n",
        "<b>Некоторые замечания и рекомендации⚠️:</b>\n",
        "\n",
        "Здесь заново собираются кумулятивные данные: из переменной `data` далее в расчётах мы берём только количество посетителей в зависимости от группы - эти данные у нас уже есть в переменной `visitors`. Нет большого смысла писать полотно кода и тратить ресурсы на его выполнение, если эти данные есть в исходной таблице - давай попробуем использовать исходные данные?\n",
        "        \n",
        "</div>"
      ]
    },
    {
      "cell_type": "markdown",
      "metadata": {
        "id": "jGAByWuH6ywx"
      },
      "source": [
        "<div class=\"alert alert-warning\">\n",
        "    <h2> Комментарий ревьюера v.2 <a class=\"tocSkip\"> </h2>\n",
        "    \n",
        "<b>Некоторые замечания и рекомендации⚠️:</b> Немного подскажу.\n",
        "\n",
        "Далее переменная `data` используется только при создании переменных `sampleA` и `sampleB` в части общего количества посетителей - это следующие строки кода:\n",
        "\n",
        "    data['visitorsPerDateA'].sum()\n",
        "    data['visitorsPerDateA'].sum()\n",
        "        \n",
        "Аналогичную информацию мы можем получить из таблицы `visitors` - для этого её предварительно фильтруем по нужной нам группе и суммируем столбец `visitors`:\n",
        "        \n",
        "    visitors[visitors['group'] == 'A']['visitors'].sum()\n",
        "    visitors[visitors['group'] == 'B']['visitors'].sum()\n",
        "        \n",
        "Таким образом получаем аналогичые цифры, но не выполняем ненужный код и не забиваем память ненужными переменными."
      ]
    },
    {
      "cell_type": "markdown",
      "metadata": {
        "id": "f5IfRWrx6ywx"
      },
      "source": [
        "Т.е лучше работать с исходными данными, чем создавать много переменных? Это на будущее"
      ]
    },
    {
      "cell_type": "markdown",
      "metadata": {
        "id": "9wW-ZJNf6ywx"
      },
      "source": [
        "<div class=\"alert alert-success\">\n",
        "<h2> Комментарий ревьюера v.3 <a class=\"tocSkip\"> </h2>\n",
        "\n",
        "<b>Все отлично!👍:</b> Конечно, чем меньше лишних операций, тем лучше:)"
      ]
    },
    {
      "cell_type": "markdown",
      "metadata": {
        "id": "dhVZUSm16ywx"
      },
      "source": [
        "Теперь посчитаем статистическую значимость различия в среднем количестве заказов на посетителя между группами.\n",
        "Для этого сформируем основную и альтернативную гипотезу.\n",
        "\n",
        "Основная гипотеза будет звучать следующим образом:\n",
        "\n",
        "\"Разницы в среднем количестве заказов на посетителя между группами нет\"\n",
        "\n",
        "Альтернативной гипотезой будет:\n",
        "\n",
        "\"Разница в среднем количестве заказов на посетителя между группами есть\"\n",
        "\n",
        "Уровень статистической значимости я поставлю 0.05"
      ]
    },
    {
      "cell_type": "markdown",
      "metadata": {
        "id": "JhivVpuB6ywx"
      },
      "source": [
        "<div class=\"alert alert-success\">\n",
        "<h2> Комментарий ревьюера <a class=\"tocSkip\"> </h2>\n",
        "\n",
        "<b>Все отлично!👍:</b> Гипотезы сформулировали - отлично!"
      ]
    },
    {
      "cell_type": "markdown",
      "metadata": {
        "id": "zkst8i466ywz"
      },
      "source": [
        "<div class=\"alert alert-block alert-danger\">\n",
        "<h2> Комментарий ревьюера <a class=\"tocSkip\"></h2>\n",
        "\n",
        "    \n",
        "<b>На доработку❌:</b>\n",
        "    \n",
        "Обрати внимание, что в рамках проекта мы работаем не просто со средним количеством заказов, а со средним количеством заказов на посетителя - это две очень разные метрики. Текст гипотез и выводы по результатам их проверки нужно скорректировать."
      ]
    },
    {
      "cell_type": "markdown",
      "metadata": {
        "id": "Jz2NO64q6ywz"
      },
      "source": [
        "<div class=\"alert alert-success\">\n",
        "<h2> Комментарий ревьюера v.2 <a class=\"tocSkip\"> </h2>\n",
        "\n",
        "<b>Все отлично!👍:</b> Учтено."
      ]
    },
    {
      "cell_type": "markdown",
      "metadata": {
        "id": "UXwyvlaj6ywz"
      },
      "source": [
        "Создадим переменные orders_by_usersA и orders_by_usersA. В них для пользователей, которые заказывали хотя бы 1 раз, укажем число совершённых заказов."
      ]
    },
    {
      "cell_type": "code",
      "execution_count": null,
      "metadata": {
        "id": "b8xixmmI6ywz"
      },
      "outputs": [],
      "source": [
        "orders_by_usersA = (\n",
        "    orders[orders['group'] == 'A']\n",
        "    .groupby('visitor_id', as_index=False)\n",
        "    .agg({'transaction_id': 'nunique'})\n",
        ")\n",
        "orders_by_usersA.columns =  ['visitor_id', 'orders']\n",
        "\n",
        "orders_by_usersB = (\n",
        "    orders[orders['group'] == 'B']\n",
        "    .groupby('visitor_id', as_index=False)\n",
        "    .agg({'transaction_id': 'nunique'})\n",
        ")\n",
        "orders_by_usersB.columns =  ['visitor_id', 'orders']"
      ]
    },
    {
      "cell_type": "markdown",
      "metadata": {
        "id": "GYiPTv4g6ywz"
      },
      "source": [
        "Объявим переменные sampleA и sampleB, в которых пользователям из разных групп будет соответствовать количество заказов. Тем, кто ничего не заказал, будут соответствовать нули."
      ]
    },
    {
      "cell_type": "code",
      "execution_count": null,
      "metadata": {
        "id": "cC4C6HdU6ywz"
      },
      "outputs": [],
      "source": [
        "sampleA = pd.concat([orders_by_usersA['orders'],pd.Series(0, index=np.arange(data['visitors_per_dateA'].sum() - len(orders_by_usersA['orders'])), name='orders')],axis=0)\n",
        "\n",
        "sampleB = pd.concat([orders_by_usersB['orders'],pd.Series(0, index=np.arange(data['visitors_per_dateB'].sum() - len(orders_by_usersB['orders'])), name='orders')],axis=0)"
      ]
    },
    {
      "cell_type": "code",
      "execution_count": null,
      "metadata": {
        "id": "Bcyk3lX16yw0",
        "outputId": "b23651a4-1990-40e8-b947-f691ff21abca"
      },
      "outputs": [
        {
          "name": "stdout",
          "output_type": "stream",
          "text": [
            "P-value: 0.011\n",
            "Относительный прирост В к А: 15.980%\n"
          ]
        }
      ],
      "source": [
        "print(\"P-value: {0:.3f}\".format(st.mannwhitneyu(sampleA, sampleB)[1]))\n",
        "\n",
        "print(\"Относительный прирост В к А: {0:.3%}\".format(sampleB.mean() / sampleA.mean() - 1))"
      ]
    },
    {
      "cell_type": "markdown",
      "metadata": {
        "id": "J56VwBiE6yw0"
      },
      "source": [
        "Итак, p-value меньше 0.5, потому основную гипотезу \"Разницы в среднем количестве заказов на посетителя между группами нет\" мы отвергаем.\n",
        "При этом выигрыш группы B равен 15.98%"
      ]
    },
    {
      "cell_type": "markdown",
      "metadata": {
        "id": "UysmM3lw6yw0"
      },
      "source": [
        "<div class=\"alert alert-success\">\n",
        "<h2> Комментарий ревьюера <a class=\"tocSkip\"> </h2>\n",
        "\n",
        "<b>Все отлично!👍:</b> Оценили значимость различий среднего количества заказов на посетителя между группами на сырых данных - отлично!"
      ]
    },
    {
      "cell_type": "markdown",
      "metadata": {
        "id": "TFEAPo8-6yw0"
      },
      "source": [
        "<div class=\"alert alert-block alert-danger\">\n",
        "<h2> Комментарий ревьюера <a class=\"tocSkip\"></h2>\n",
        "\n",
        "    \n",
        "<b>На доработку❌:</b> Не забудь исправить метрику в выводе."
      ]
    },
    {
      "cell_type": "markdown",
      "metadata": {
        "id": "67hsLAf66yw0"
      },
      "source": [
        "<div class=\"alert alert-success\">\n",
        "<h2> Комментарий ревьюера v.2 <a class=\"tocSkip\"> </h2>\n",
        "\n",
        "<b>Все отлично!👍:</b> Учтено."
      ]
    },
    {
      "cell_type": "markdown",
      "metadata": {
        "id": "EgCdjYsb6yw0"
      },
      "source": [
        "Далее посчитаем статистическую значимость различий в среднем чеке заказа между группами по «сырым» данным.\n",
        "Основная гипотеза будет звучать следующим образом:\n",
        "\n",
        "\"Разницы в среднем чеке заказа между группами нет\"\n",
        "\n",
        "Альтернативной гипотезой будет:\n",
        "\n",
        "\"Разница в среднем чеке заказа между группами есть\""
      ]
    },
    {
      "cell_type": "code",
      "execution_count": null,
      "metadata": {
        "id": "tOXrIFON6yw0",
        "outputId": "9c926c38-5fc0-4fbc-b3ee-b3dd8b27ceab"
      },
      "outputs": [
        {
          "name": "stdout",
          "output_type": "stream",
          "text": [
            "P-value: 0.829\n",
            "Относительный прирост В к А: 28.660%\n"
          ]
        }
      ],
      "source": [
        "print('P-value: {0:.3f}'.format(st.mannwhitneyu(orders[orders['group']=='A']['revenue'], orders[orders['group']=='B']['revenue'])[1]))\n",
        "print('Относительный прирост В к А: {0:.3%}'.format(orders[orders['group']=='B']['revenue'].mean()/orders[orders['group']=='A']['revenue'].mean()-1))"
      ]
    },
    {
      "cell_type": "markdown",
      "metadata": {
        "id": "PF8etK_k6yw1"
      },
      "source": [
        "Итак, p-value значительно больше 0.5, потому основную гипотезу \"Разницы в среднем чеке заказа между группами нет\" мы отвергнуть не можем, на это нет оснований.\n",
        "Однако средний чек группы B выше на 28.6%"
      ]
    },
    {
      "cell_type": "markdown",
      "metadata": {
        "id": "eG-x_NUS6yw1"
      },
      "source": [
        "<div class=\"alert alert-success\">\n",
        "<h2> Комментарий ревьюера <a class=\"tocSkip\"> </h2>\n",
        "\n",
        "<b>Все отлично!👍:</b> Оценили значимость различий среднего чека между группами на сырых данных - отлично!"
      ]
    },
    {
      "cell_type": "markdown",
      "metadata": {
        "id": "SQjIc9TG6yw1"
      },
      "source": [
        "Сделаем то же самое с очищенными данными, то есть исключив все выбросы."
      ]
    },
    {
      "cell_type": "markdown",
      "metadata": {
        "id": "19-l8aCM6yw1"
      },
      "source": [
        "Примем за аномальных пользователей тех, кто совершил от 2 заказов или совершил заказ дороже 53000. Сделаем срезы пользователей с числом заказов больше 2 — too_many_orders и пользователей, совершивших заказы дороже 53000 — too_expensive. Объединим их в таблице abnormalUsers."
      ]
    },
    {
      "cell_type": "code",
      "execution_count": null,
      "metadata": {
        "id": "ZTWmkcSE6yw1",
        "outputId": "2f87f916-9338-4036-c727-7e13c7d8930f"
      },
      "outputs": [
        {
          "name": "stdout",
          "output_type": "stream",
          "text": [
            "1099    148427295\n",
            "33      249864742\n",
            "58      611059232\n",
            "949     887908475\n",
            "744     888512513\n",
            "Name: visitor_id, dtype: int64\n"
          ]
        }
      ],
      "source": [
        "too_many_orders = pd.concat(\n",
        "    [\n",
        "        orders_by_usersA[orders_by_usersA['orders'] > 2]['visitor_id'],\n",
        "        orders_by_usersB[orders_by_usersB['orders'] > 2]['visitor_id'],\n",
        "    ],\n",
        "    axis=0,\n",
        ")\n",
        "too_expensive = orders[orders['revenue'] > 53000]['visitor_id']\n",
        "abnormalUsers = (\n",
        "    pd.concat([too_many_orders, too_expensive], axis=0)\n",
        "    .drop_duplicates()\n",
        "    .sort_values()\n",
        ")\n",
        "print(abnormalUsers.head(5))"
      ]
    },
    {
      "cell_type": "markdown",
      "metadata": {
        "id": "vWFuPFRZ6yw1"
      },
      "source": [
        "<div class=\"alert alert-success\">\n",
        "<h2> Комментарий ревьюера <a class=\"tocSkip\"> </h2>\n",
        "\n",
        "<b>Все отлично!👍:</b> Отфильтровали аномалии  - отлично!"
      ]
    },
    {
      "cell_type": "markdown",
      "metadata": {
        "id": "MlR2IOtX6yw1"
      },
      "source": [
        "<div class=\"alert alert-warning\">\n",
        "    <h2> Комментарий ревьюера <a class=\"tocSkip\"> </h2>\n",
        "    \n",
        "<b>Некоторые замечания и рекомендации⚠️:</b>\n",
        "\n",
        "Значения границ для фильтрации заданы руками - такой подход делает твоё решение зависимым от внешних данных: при их изменении тебе придётся вносить изменения в код, чтобы текущее решение адекватно работало для других А/В тестов. Очень удобно использовать в качестве значения результат метода для расчёта персентилей.\n",
        "        \n",
        "Например вместо `orders > 2` лучше будет сделать `orders > np.percentile(x, 95)` - такой подход сделает решение более универсальным.\n",
        "        \n",
        "</div>"
      ]
    },
    {
      "cell_type": "markdown",
      "metadata": {
        "id": "-j9UJHcg6yw1"
      },
      "source": [
        "<div class=\"alert alert-warning\">\n",
        "    <h2> Комментарий ревьюера v.2 <a class=\"tocSkip\"> </h2>\n",
        "    \n",
        "<b>Некоторые замечания и рекомендации⚠️:</b>\n",
        "\n",
        "Не учтено."
      ]
    },
    {
      "cell_type": "markdown",
      "metadata": {
        "id": "gXeH-ph_6yw1"
      },
      "source": [
        "Автоматизация нужна для устранение путаницы в переменных и лишней рутины? Ну это на будущее"
      ]
    },
    {
      "cell_type": "markdown",
      "metadata": {
        "id": "OBnijm0F6yw2"
      },
      "source": [
        "Находим количество аномальных пользователей"
      ]
    },
    {
      "cell_type": "code",
      "execution_count": null,
      "metadata": {
        "id": "9hXuaWKO6yw2"
      },
      "outputs": [],
      "source": [
        "absolute_anomaly = abnormalUsers.shape[0]"
      ]
    },
    {
      "cell_type": "code",
      "execution_count": null,
      "metadata": {
        "id": "vDzmXB1T6yw2",
        "outputId": "c5196f2e-670c-4d91-810e-f08f8ca82e1c"
      },
      "outputs": [
        {
          "name": "stdout",
          "output_type": "stream",
          "text": [
            "19\n"
          ]
        }
      ],
      "source": [
        "print(absolute_anomaly)"
      ]
    },
    {
      "cell_type": "code",
      "execution_count": null,
      "metadata": {
        "id": "YD1X_PvA6yw2"
      },
      "outputs": [],
      "source": [
        "relative_anomaly = (absolute_anomaly / unique_orders) * 100"
      ]
    },
    {
      "cell_type": "code",
      "execution_count": null,
      "metadata": {
        "id": "8FMrC4Uw6yw2",
        "outputId": "5185c934-28f4-457c-fe87-fed97b552595"
      },
      "outputs": [
        {
          "name": "stdout",
          "output_type": "stream",
          "text": [
            "1.9527235354573484\n"
          ]
        }
      ],
      "source": [
        "print(relative_anomaly)"
      ]
    },
    {
      "cell_type": "markdown",
      "metadata": {
        "id": "w7V9B2ic6yw2"
      },
      "source": [
        "Количество аномальных пользователей составило 19, что является 2% от общего количества уникальных пользователей"
      ]
    },
    {
      "cell_type": "markdown",
      "metadata": {
        "id": "9GdBlRfC6yw2"
      },
      "source": [
        "<div class=\"alert alert-block alert-danger\">\n",
        "<h2> Комментарий ревьюера <a class=\"tocSkip\"></h2>\n",
        "\n",
        "    \n",
        "<b>На доработку❌:</b>\n",
        "\n",
        "Тут очень важно в явном виде (с помощью кода) посчитать потери пользователей. При этом важно сделать это как в абсолютном, так и относительном выражениях: любой вид потерь из этих двух сам по себе недостаточно информативен, а вот вместе они уже помогут читателю составить полную картину о масштабе потерь.\n",
        "    \n",
        "Напомню, что абсолютные потери - это количество аномальных пользователей, а относительные потери - это отношение количества аномальных пользователей к общем количеству пользователей из таблицы `orders`. В знаменателе важно учитывать уникальных пользователей, а не количество строк таблицы.\n",
        "        \n",
        "</div>"
      ]
    },
    {
      "cell_type": "markdown",
      "metadata": {
        "id": "HyvW5FWk6yw2"
      },
      "source": [
        "Не совсем понимаю, что от меня требуется..."
      ]
    },
    {
      "cell_type": "markdown",
      "metadata": {
        "id": "QrdGuD646yw2"
      },
      "source": [
        "<div class=\"alert alert-block alert-danger\">\n",
        "<h2> Комментарий ревьюера v.2 <a class=\"tocSkip\"></h2>\n",
        "\n",
        "    \n",
        "<b>На доработку❌:</b>\n",
        "\n",
        "Аналогично с замечанием по оценке доли пользователей из пересечения - выяснить, какая доля аномальных пользователей от общего количества уникальных пользователей из `orders`."
      ]
    },
    {
      "cell_type": "markdown",
      "metadata": {
        "id": "JkmlADs_6yw3"
      },
      "source": [
        "<div class=\"alert alert-success\">\n",
        "<h2> Комментарий ревьюера v.3 <a class=\"tocSkip\"> </h2>\n",
        "\n",
        "<b>Все отлично!👍:</b> Учтено."
      ]
    },
    {
      "cell_type": "code",
      "execution_count": null,
      "metadata": {
        "id": "sXLLmUvt6yw3"
      },
      "outputs": [],
      "source": [
        "sampleA_filtered = pd.concat(\n",
        "    [\n",
        "        orders_by_usersA[\n",
        "            np.logical_not(orders_by_usersA['visitor_id'].isin(abnormalUsers))\n",
        "        ]['orders'],\n",
        "        pd.Series(\n",
        "            0,\n",
        "            index=np.arange(\n",
        "                data['visitors_per_dateA'].sum() - len(orders_by_usersA['orders'])\n",
        "            ),\n",
        "            name='orders',\n",
        "        ),\n",
        "    ],\n",
        "    axis=0,\n",
        ")\n",
        "\n",
        "sampleB_filtered = pd.concat(\n",
        "    [\n",
        "        orders_by_usersB[\n",
        "            np.logical_not(orders_by_usersB['visitor_id'].isin(abnormalUsers))\n",
        "        ]['orders'],\n",
        "        pd.Series(\n",
        "            0,\n",
        "            index=np.arange(\n",
        "                data['visitors_per_dateB'].sum() - len(orders_by_usersB['orders'])\n",
        "            ),\n",
        "            name='orders',\n",
        "        ),\n",
        "    ],\n",
        "    axis=0,\n",
        ")"
      ]
    },
    {
      "cell_type": "markdown",
      "metadata": {
        "id": "WQn6Y5CN6yw3"
      },
      "source": [
        "Основная гипотеза будет звучать следующим образом:\n",
        "\n",
        "\"Разницы в среднем количестве заказов на посетителя между группами в очищенных данных нет\"\n",
        "\n",
        "Альтернативной гипотезой будет:\n",
        "\n",
        "\"Разница в среднем количестве заказов на посетителя между группами в очищенных данных есть\""
      ]
    },
    {
      "cell_type": "code",
      "execution_count": null,
      "metadata": {
        "id": "lWQSDeni6yw3",
        "outputId": "fa556ada-8ae0-4162-c030-efbcf8421f5f"
      },
      "outputs": [
        {
          "name": "stdout",
          "output_type": "stream",
          "text": [
            "P-value: 0.006\n",
            "Относительный прирост В к А: 19.226%\n"
          ]
        }
      ],
      "source": [
        "print('P-value: {0:.3f}'.format(st.mannwhitneyu(sampleA_filtered, sampleB_filtered)[1]))\n",
        "print('Относительный прирост В к А: {0:.3%}'.format(sampleB_filtered.mean()/sampleA_filtered.mean()-1))"
      ]
    },
    {
      "cell_type": "markdown",
      "metadata": {
        "id": "FA7AwP4N6yw3"
      },
      "source": [
        "Разница между группами по-прежнему есть, прирост группы B увеличился на 4%"
      ]
    },
    {
      "cell_type": "markdown",
      "metadata": {
        "id": "MWx69wmH6yw3"
      },
      "source": [
        "<div class=\"alert alert-success\">\n",
        "<h2> Комментарий ревьюера <a class=\"tocSkip\"> </h2>\n",
        "\n",
        "<b>Все отлично!👍:</b> Оценили значимость различий среднего количества заказов на посетителя между группами на очищеных данных - отлично!"
      ]
    },
    {
      "cell_type": "markdown",
      "metadata": {
        "id": "FXhuqxdD6yw3"
      },
      "source": [
        "Далее посчитаем статистическую значимость различий в среднем чеке заказа между группами по очищенным данным."
      ]
    },
    {
      "cell_type": "markdown",
      "metadata": {
        "id": "YRVe-dWQ6yw3"
      },
      "source": [
        "Основная гипотеза будет звучать следующим образом:\n",
        "\n",
        "\"Разницы в среднем чеке заказа между группами в очищенных данных нет\"\n",
        "\n",
        "Альтернативной гипотезой будет:\n",
        "\n",
        "\"Разница в среднем чеке заказа между группами в очищенных данных есть\""
      ]
    },
    {
      "cell_type": "code",
      "execution_count": null,
      "metadata": {
        "id": "Qo2LmAdr6yw4",
        "outputId": "76771423-5722-4f77-e94a-dc6eab5cec29"
      },
      "outputs": [
        {
          "name": "stdout",
          "output_type": "stream",
          "text": [
            "P-value: 0.842\n",
            "Относительный прирост В к А: -1.368%\n"
          ]
        }
      ],
      "source": [
        "print(\n",
        "    'P-value: {0:.3f}'.format(\n",
        "        st.mannwhitneyu(\n",
        "            orders[\n",
        "                np.logical_and(\n",
        "                    orders['group'] == 'A',\n",
        "                    np.logical_not(orders['visitor_id'].isin(abnormalUsers)),\n",
        "                )\n",
        "            ]['revenue'],\n",
        "            orders[\n",
        "                np.logical_and(\n",
        "                    orders['group'] == 'B',\n",
        "                    np.logical_not(orders['visitor_id'].isin(abnormalUsers)),\n",
        "                )\n",
        "            ]['revenue'],\n",
        "        )[1]\n",
        "    )\n",
        ")\n",
        "\n",
        "print(\n",
        "    \"Относительный прирост В к А: {0:.3%}\".format(\n",
        "        orders[\n",
        "            np.logical_and(\n",
        "                orders['group'] == 'B',\n",
        "                np.logical_not(orders['visitor_id'].isin(abnormalUsers)),\n",
        "            )\n",
        "        ]['revenue'].mean()\n",
        "        / orders[\n",
        "            np.logical_and(\n",
        "                orders['group'] == 'A',\n",
        "                np.logical_not(orders['visitor_id'].isin(abnormalUsers)),\n",
        "            )\n",
        "        ]['revenue'].mean()\n",
        "        - 1\n",
        "    )\n",
        ")"
      ]
    },
    {
      "cell_type": "markdown",
      "metadata": {
        "id": "0xJ587Hu6yw4"
      },
      "source": [
        "P-value значительно больше 0.05. Значит, причин отвергать нулевую гипотезу \"Разницы в среднем чеке заказа между группами в очищенных данных нет\" нет. Различие в средних чеках минимально."
      ]
    },
    {
      "cell_type": "markdown",
      "metadata": {
        "id": "DJCnjqmw6yw4"
      },
      "source": [
        "<div class=\"alert alert-success\">\n",
        "<h2> Комментарий ревьюера <a class=\"tocSkip\"> </h2>\n",
        "\n",
        "<b>Все отлично!👍:</b> Оценили значимость различий среднего чека между группами на очищенных данных - отлично!"
      ]
    },
    {
      "cell_type": "markdown",
      "metadata": {
        "id": "tEfJbrtO6yw4"
      },
      "source": [
        "Вывод данного этапа:\n",
        "\n",
        "Я проанализировал очищенные и сырые данные, посчитал статистическую значимость различий в среднем чеке и кумулятивного среднего количества заказов на посетителя по группам на очищенных и сырых данных.\n",
        "\n",
        "И на очищенных, и на сырых данных мы можем сделать одинаковый вывод:\n",
        "\n",
        "- Разница кумулятивного среднего количества заказов на посетителя по группам есть, у группы B среднего количество заказов на посетителя выше.\n",
        "\n",
        "- Разницы в среднем чеке заказа между группами нет, различие в средних чеках минимально"
      ]
    },
    {
      "cell_type": "markdown",
      "metadata": {
        "id": "_hU1R9qQ6yw4"
      },
      "source": [
        "<div class=\"alert alert-block alert-danger\">\n",
        "<h2> Комментарий ревьюера <a class=\"tocSkip\"></h2>\n",
        "\n",
        "    \n",
        "<b>На доработку❌:</b>\n",
        "\n",
        "Обрати внимание, что мы не работаем с конверсией в этом проекте - из вывода нужно убрать конверсию и заменить её на актуальную метрику проекта."
      ]
    },
    {
      "cell_type": "markdown",
      "metadata": {
        "id": "hTfb81jz6yw4"
      },
      "source": [
        "<div class=\"alert alert-success\">\n",
        "<h2> Комментарий ревьюера v.2 <a class=\"tocSkip\"> </h2>\n",
        "\n",
        "<b>Все отлично!👍:</b> Учтено."
      ]
    },
    {
      "cell_type": "markdown",
      "metadata": {
        "id": "2rUWvxUo6yw4"
      },
      "source": [
        "Вывод исследования:\n",
        "\n",
        "В рамках данного исследования я проанализировал 9 гипотез, а также запустил A/B тест и проанализировал его результаты.\n",
        "\n",
        "Исследование проходило в несколько этапов, и я сделал следующие шаги и получил следующие выводы:\n",
        "\n",
        "- Изучил данные и информацию о них, необходимую для анализа\n",
        "- Сделал предобработку данных для удобного и корректного их использования (изменил тип данных, отсеяла пользователей, которые попали в обе группы)\n",
        "- Применил фреймворки ICE и RICE к 9 гипотезам и выявил приоритетные\n",
        "\n",
        "Проанализировал A/B тест, а именно проанализировал следующие параметры по группам:\n",
        "\n",
        "- кумулятивную выручку\n",
        "- кумулятивный средний чек\n",
        "- кумулятивное среднее количество заказов на посетителя по группам\n",
        "- стоимость заказов\n",
        "\n",
        "\n",
        "- Посчитатал статистическую значимость различий в среднем количестве заказов на посетителя по группам на \"сырых\" и \"очищенных\" данных\n",
        "- Посчитал статистическую значимость различий в среднем чеке заказа на посетителя по группам на \"сырых\" и \"очищенных\" данных"
      ]
    },
    {
      "cell_type": "markdown",
      "metadata": {
        "id": "BuXOPk8w6yw4"
      },
      "source": [
        "Рекомендации по результатам данного исследования:\n",
        "\n",
        "Приоритет стоит отдать следующим гипотезам:\n",
        "- \"Запустить акцию, дающую скидку на товар в день рождения\",\n",
        "- \"Добавить два новых канала привлечения трафика, что позволит привлекать на 30% больше пользователей\",\n",
        "- \"Добавить форму подписки на все основные страницы, чтобы собрать базу клиентов для email-рассылок\"\n",
        "\n",
        "Если ранжирование гипотез должно включать в себя и охват пользователей интернет-магазина, то приоритет стоит отдать следующим гипотезам:\n",
        "- \"Добавить форму подписки на все основные страницы, чтобы собрать базу клиентов для email-рассылок\",\n",
        "- \"Добавить блоки рекомендаций товаров на сайт интернет магазина, чтобы повысить кумулятивное среднее количество заказов на посетителя по группам и средний чек заказа\",\n",
        "- \"Добавить два новых канала привлечения трафика, что позволит привлекать на 30% больше пользователей\"."
      ]
    },
    {
      "cell_type": "markdown",
      "metadata": {
        "id": "XYaO2Bi26yw4"
      },
      "source": [
        "A/B тест\n",
        "\n",
        "И на очищенных, и на сырых данных мы можем сделать одинаковый вывод:\n",
        "\n",
        "- Разница в кумулятивного среднего количества заказов на посетителя по группам есть, у группы B среднее количество заказов на посетителя выше.\n",
        "\n",
        "- Разницы в среднем чеке заказа между группами нет, различие в средних чеках минимально.\n",
        "\n",
        "График относительного изменения кумулятивного среднего количества заказов на посетителя группы B к группе A показывает, что результаты группы В стабильно лучше группы А\n",
        "\n",
        "Учитывая все вышеперечисленные выводы, наиболее верным мне кажется решение остановить тест, зафиксировав победу группы B, так как ее кумулятивное среднее количество заказов на посетителя значительно выше группы А.\n",
        "\n",
        "Дальше отдел маркетинга может начать работу по стимуляции к увеличению среднего чека."
      ]
    },
    {
      "cell_type": "markdown",
      "metadata": {
        "id": "Dsg5JKLP6yw5"
      },
      "source": [
        "<div class=\"alert alert-success\">\n",
        "<h2> Комментарий ревьюера <a class=\"tocSkip\"> </h2>\n",
        "\n",
        "<b>Все отлично!👍:</b> Решение по тесту принято верное - отличная работа!"
      ]
    },
    {
      "cell_type": "markdown",
      "metadata": {
        "id": "YDAVVz4l6yw5"
      },
      "source": [
        "<div class=\"alert alert-block alert-danger\">\n",
        "<h2> Комментарий ревьюера <a class=\"tocSkip\"></h2>\n",
        "\n",
        "    \n",
        "<b>На доработку❌:</b>\n",
        "\n",
        "Аналогично про конверсию."
      ]
    },
    {
      "cell_type": "markdown",
      "metadata": {
        "id": "AY4hg8r76yw5"
      },
      "source": [
        "<div class=\"alert alert-success\">\n",
        "<h2> Комментарий ревьюера v.2 <a class=\"tocSkip\"> </h2>\n",
        "\n",
        "<b>Все отлично!👍:</b> Учтено."
      ]
    },
    {
      "cell_type": "markdown",
      "metadata": {
        "id": "NL2KtEtl6yw5"
      },
      "source": [
        "<div style=\"border:solid Chocolate 2px; padding: 40px\">\n",
        "\n",
        "# Комментарий ревьюера: общий вывод по проекту.\n",
        "\n",
        "Вадим, проект получился на довольно хорошем уровне - отличная работа, молодец!\n",
        "\n",
        "Мне нравится твой аналитический подход к выполнению проекта, ты соблюдаешь структуру работы, выполняешь её последовательно - это очень хорошо! Шаги проекта выполнены по порядку согласно плану проекта, нет смысловых и структурных ям. Важно, что не забываешь про выводы.\n",
        "\n",
        "Работа с кумулятивными данными выполнена отлично - данные собраны корректно, графики построены верно, выводы сделаны корректные.\n",
        "    \n",
        "В блоке работы с А/В тестом были выбраны верные инструменты, сформулированы и корректно проверены гипотезы, получены правильные выводы.\n",
        "    \n",
        "Над проектом ещё стоит поработать - есть рекомендации по дополнению некоторых твоих шагов проекта. Такие рекомендации я отметил жёлтыми комментариями. Будет здорово, если ты учтёшь их - так проект станет структурно и содержательно более совершенным.\n",
        "    \n",
        "Также в работе есть критические замечания. К этим замечаниям я оставил пояснительные комментарии красного цвета, в которых перечислил возможные варианты дальнейших действий. Уверен, ты быстро с этим управишься:)\n",
        "    \n",
        "Если о том, что нужно сделать в рамках комментариев, будут возникать вопросы - оставь их, пожалуйста, в комментариях, и я отвечу на них во время следующего ревью.\n",
        "    \n",
        "Также буду рад ответить на любые твои вопросы по проекту или на какие-либо другие, если они у тебя имеются - оставь их в комментариях, и я постараюсь ответить:)\n",
        "    \n",
        "Жду твой проект на повторном ревью. До встречи:)"
      ]
    },
    {
      "cell_type": "markdown",
      "metadata": {
        "id": "omXeMWFm6yw5"
      },
      "source": [
        "<div style=\"border:solid Chocolate 2px; padding: 40px\">\n",
        "\n",
        "# Комментарий ревьюера: общий вывод по проекту v.2.\n",
        "\n",
        "Вадим, продолжаем работу над проектом - актуальные замечания отмечены комментариями с меткой `v.2`.\n",
        "    \n",
        "Жду тебя снова:)"
      ]
    },
    {
      "cell_type": "markdown",
      "metadata": {
        "id": "Agje39d46yw5"
      },
      "source": [
        "<div style=\"border:solid Chocolate 2px; padding: 40px\">\n",
        "\n",
        "# Комментарий ревьюера: общий вывод по проекту v.3.\n",
        "\n",
        "Вадим, все замечания учтены - проект принят!\n",
        "    \n",
        "Спасибо за хорошую работу над проектом, желаю успехов в дальнейшем обучении:)"
      ]
    }
  ],
  "metadata": {
    "ExecuteTimeLog": [
      {
        "duration": 82,
        "start_time": "2023-05-02T21:05:55.147Z"
      },
      {
        "duration": 1727,
        "start_time": "2023-05-02T21:06:04.497Z"
      },
      {
        "duration": 316,
        "start_time": "2023-05-02T21:06:08.699Z"
      },
      {
        "duration": 5,
        "start_time": "2023-05-02T21:06:29.839Z"
      },
      {
        "duration": 14,
        "start_time": "2023-05-02T21:06:45.897Z"
      },
      {
        "duration": 26,
        "start_time": "2023-05-02T21:06:55.176Z"
      },
      {
        "duration": 23,
        "start_time": "2023-05-02T21:07:35.976Z"
      },
      {
        "duration": 9,
        "start_time": "2023-05-02T21:07:46.101Z"
      },
      {
        "duration": 4,
        "start_time": "2023-05-02T21:08:03.007Z"
      },
      {
        "duration": 14,
        "start_time": "2023-05-02T21:08:12.776Z"
      },
      {
        "duration": 10,
        "start_time": "2023-05-02T21:08:21.325Z"
      },
      {
        "duration": 4,
        "start_time": "2023-05-02T21:08:31.518Z"
      },
      {
        "duration": 4,
        "start_time": "2023-05-02T21:09:55.236Z"
      },
      {
        "duration": 9,
        "start_time": "2023-05-02T21:11:04.768Z"
      },
      {
        "duration": 10,
        "start_time": "2023-05-02T21:11:26.933Z"
      },
      {
        "duration": 5,
        "start_time": "2023-05-02T21:11:49.430Z"
      },
      {
        "duration": 35,
        "start_time": "2023-05-02T21:12:19.980Z"
      },
      {
        "duration": 7,
        "start_time": "2023-05-02T21:12:32.184Z"
      },
      {
        "duration": 7,
        "start_time": "2023-05-02T21:13:29.527Z"
      },
      {
        "duration": 10,
        "start_time": "2023-05-02T21:14:41.369Z"
      },
      {
        "duration": 9,
        "start_time": "2023-05-02T21:16:31.878Z"
      },
      {
        "duration": 211,
        "start_time": "2023-05-02T21:16:58.881Z"
      },
      {
        "duration": 191,
        "start_time": "2023-05-02T21:17:33.728Z"
      },
      {
        "duration": 12,
        "start_time": "2023-05-02T21:17:53.131Z"
      },
      {
        "duration": 6,
        "start_time": "2023-05-02T21:18:02.308Z"
      },
      {
        "duration": 545,
        "start_time": "2023-05-02T21:18:31.404Z"
      },
      {
        "duration": 362,
        "start_time": "2023-05-02T21:19:11.713Z"
      },
      {
        "duration": 491,
        "start_time": "2023-05-02T21:21:09.037Z"
      },
      {
        "duration": 370,
        "start_time": "2023-05-02T21:21:46.223Z"
      },
      {
        "duration": 449,
        "start_time": "2023-05-02T21:22:30.485Z"
      },
      {
        "duration": 183,
        "start_time": "2023-05-02T21:22:59.906Z"
      },
      {
        "duration": 310,
        "start_time": "2023-05-02T21:23:41.688Z"
      },
      {
        "duration": 269,
        "start_time": "2023-05-02T21:24:10.738Z"
      },
      {
        "duration": 6,
        "start_time": "2023-05-02T21:24:30.893Z"
      },
      {
        "duration": 104,
        "start_time": "2023-05-02T21:26:01.414Z"
      },
      {
        "duration": 298,
        "start_time": "2023-05-02T21:26:21.649Z"
      },
      {
        "duration": 238,
        "start_time": "2023-05-02T21:26:44.934Z"
      },
      {
        "duration": 6,
        "start_time": "2023-05-02T21:27:08.596Z"
      },
      {
        "duration": 299,
        "start_time": "2023-05-02T21:28:14.484Z"
      },
      {
        "duration": 14,
        "start_time": "2023-05-02T21:29:42.073Z"
      },
      {
        "duration": 7,
        "start_time": "2023-05-02T21:31:09.315Z"
      },
      {
        "duration": 35,
        "start_time": "2023-05-02T21:31:24.048Z"
      },
      {
        "duration": 12,
        "start_time": "2023-05-02T21:31:59.592Z"
      },
      {
        "duration": 10,
        "start_time": "2023-05-02T21:32:55.705Z"
      },
      {
        "duration": 8,
        "start_time": "2023-05-02T21:33:08.727Z"
      },
      {
        "duration": 42,
        "start_time": "2023-05-02T21:33:32.845Z"
      },
      {
        "duration": 81,
        "start_time": "2023-05-02T21:33:54.288Z"
      },
      {
        "duration": 29,
        "start_time": "2023-05-02T21:34:27.347Z"
      },
      {
        "duration": 180,
        "start_time": "2023-05-02T21:34:51.926Z"
      },
      {
        "duration": 1514,
        "start_time": "2023-05-02T21:37:30.345Z"
      },
      {
        "duration": 138,
        "start_time": "2023-05-02T21:37:31.861Z"
      },
      {
        "duration": 4,
        "start_time": "2023-05-02T21:37:32.004Z"
      },
      {
        "duration": 28,
        "start_time": "2023-05-02T21:37:32.010Z"
      },
      {
        "duration": 19,
        "start_time": "2023-05-02T21:37:32.040Z"
      },
      {
        "duration": 71,
        "start_time": "2023-05-02T21:37:32.061Z"
      },
      {
        "duration": 29,
        "start_time": "2023-05-02T21:37:32.133Z"
      },
      {
        "duration": 70,
        "start_time": "2023-05-02T21:37:32.164Z"
      },
      {
        "duration": 95,
        "start_time": "2023-05-02T21:37:32.236Z"
      },
      {
        "duration": 83,
        "start_time": "2023-05-02T21:37:32.333Z"
      },
      {
        "duration": 15,
        "start_time": "2023-05-02T21:37:32.417Z"
      },
      {
        "duration": 79,
        "start_time": "2023-05-02T21:37:32.433Z"
      },
      {
        "duration": 27,
        "start_time": "2023-05-02T21:37:32.514Z"
      },
      {
        "duration": 37,
        "start_time": "2023-05-02T21:37:32.545Z"
      },
      {
        "duration": 46,
        "start_time": "2023-05-02T21:37:32.583Z"
      },
      {
        "duration": 25,
        "start_time": "2023-05-02T21:37:32.631Z"
      },
      {
        "duration": 63,
        "start_time": "2023-05-02T21:37:32.658Z"
      },
      {
        "duration": 17,
        "start_time": "2023-05-02T21:37:32.722Z"
      },
      {
        "duration": 15,
        "start_time": "2023-05-02T21:37:32.741Z"
      },
      {
        "duration": 65,
        "start_time": "2023-05-02T21:37:32.758Z"
      },
      {
        "duration": 279,
        "start_time": "2023-05-02T21:37:32.825Z"
      },
      {
        "duration": 177,
        "start_time": "2023-05-02T21:37:33.114Z"
      },
      {
        "duration": 13,
        "start_time": "2023-05-02T21:37:33.295Z"
      },
      {
        "duration": 33,
        "start_time": "2023-05-02T21:37:33.310Z"
      },
      {
        "duration": 565,
        "start_time": "2023-05-02T21:37:33.344Z"
      },
      {
        "duration": 330,
        "start_time": "2023-05-02T21:37:33.911Z"
      },
      {
        "duration": 385,
        "start_time": "2023-05-02T21:37:34.243Z"
      },
      {
        "duration": 382,
        "start_time": "2023-05-02T21:37:34.630Z"
      },
      {
        "duration": 487,
        "start_time": "2023-05-02T21:37:35.014Z"
      },
      {
        "duration": 375,
        "start_time": "2023-05-02T21:37:35.503Z"
      },
      {
        "duration": 258,
        "start_time": "2023-05-02T21:37:35.894Z"
      },
      {
        "duration": 13,
        "start_time": "2023-05-02T21:37:36.155Z"
      },
      {
        "duration": 365,
        "start_time": "2023-05-02T21:37:36.172Z"
      },
      {
        "duration": 251,
        "start_time": "2023-05-02T21:37:36.539Z"
      },
      {
        "duration": 8,
        "start_time": "2023-05-02T21:37:36.793Z"
      },
      {
        "duration": 323,
        "start_time": "2023-05-02T21:37:36.802Z"
      },
      {
        "duration": 20,
        "start_time": "2023-05-02T21:37:37.127Z"
      },
      {
        "duration": 78,
        "start_time": "2023-05-02T21:37:37.148Z"
      },
      {
        "duration": 42,
        "start_time": "2023-05-02T21:37:37.228Z"
      },
      {
        "duration": 16,
        "start_time": "2023-05-02T21:37:37.271Z"
      },
      {
        "duration": 41,
        "start_time": "2023-05-02T21:37:37.291Z"
      },
      {
        "duration": 95,
        "start_time": "2023-05-02T21:37:37.334Z"
      },
      {
        "duration": 56,
        "start_time": "2023-05-02T21:37:37.431Z"
      },
      {
        "duration": 48,
        "start_time": "2023-05-02T21:37:37.489Z"
      },
      {
        "duration": 45,
        "start_time": "2023-05-03T22:06:54.212Z"
      },
      {
        "duration": 1276,
        "start_time": "2023-05-03T22:07:06.493Z"
      },
      {
        "duration": 171,
        "start_time": "2023-05-03T22:07:07.771Z"
      },
      {
        "duration": 4,
        "start_time": "2023-05-03T22:07:07.944Z"
      },
      {
        "duration": 13,
        "start_time": "2023-05-03T22:07:07.950Z"
      },
      {
        "duration": 11,
        "start_time": "2023-05-03T22:07:07.964Z"
      },
      {
        "duration": 10,
        "start_time": "2023-05-03T22:07:07.977Z"
      },
      {
        "duration": 11,
        "start_time": "2023-05-03T22:07:07.988Z"
      },
      {
        "duration": 5,
        "start_time": "2023-05-03T22:07:08.001Z"
      },
      {
        "duration": 48,
        "start_time": "2023-05-03T22:07:08.008Z"
      },
      {
        "duration": 10,
        "start_time": "2023-05-03T22:07:08.059Z"
      },
      {
        "duration": 18,
        "start_time": "2023-05-03T22:07:08.071Z"
      },
      {
        "duration": 6,
        "start_time": "2023-05-03T22:07:08.091Z"
      },
      {
        "duration": 12,
        "start_time": "2023-05-03T22:07:08.099Z"
      },
      {
        "duration": 8,
        "start_time": "2023-05-03T22:07:08.113Z"
      },
      {
        "duration": 6,
        "start_time": "2023-05-03T22:07:08.157Z"
      },
      {
        "duration": 12,
        "start_time": "2023-05-03T22:07:08.165Z"
      },
      {
        "duration": 5,
        "start_time": "2023-05-03T22:07:08.179Z"
      },
      {
        "duration": 14,
        "start_time": "2023-05-03T22:07:08.186Z"
      },
      {
        "duration": 14,
        "start_time": "2023-05-03T22:07:08.202Z"
      },
      {
        "duration": 39,
        "start_time": "2023-05-03T22:07:08.219Z"
      },
      {
        "duration": 162,
        "start_time": "2023-05-03T22:07:08.260Z"
      },
      {
        "duration": 143,
        "start_time": "2023-05-03T22:07:08.423Z"
      },
      {
        "duration": 11,
        "start_time": "2023-05-03T22:07:08.568Z"
      },
      {
        "duration": 6,
        "start_time": "2023-05-03T22:07:08.580Z"
      },
      {
        "duration": 352,
        "start_time": "2023-05-03T22:07:08.588Z"
      },
      {
        "duration": 265,
        "start_time": "2023-05-03T22:07:08.942Z"
      },
      {
        "duration": 440,
        "start_time": "2023-05-03T22:07:09.208Z"
      },
      {
        "duration": 255,
        "start_time": "2023-05-03T22:07:09.655Z"
      },
      {
        "duration": 355,
        "start_time": "2023-05-03T22:07:09.912Z"
      },
      {
        "duration": 201,
        "start_time": "2023-05-03T22:07:10.269Z"
      },
      {
        "duration": 183,
        "start_time": "2023-05-03T22:07:10.472Z"
      },
      {
        "duration": 6,
        "start_time": "2023-05-03T22:07:10.658Z"
      },
      {
        "duration": 283,
        "start_time": "2023-05-03T22:07:10.665Z"
      },
      {
        "duration": 179,
        "start_time": "2023-05-03T22:07:10.950Z"
      },
      {
        "duration": 7,
        "start_time": "2023-05-03T22:07:11.130Z"
      },
      {
        "duration": 268,
        "start_time": "2023-05-03T22:07:11.140Z"
      },
      {
        "duration": 15,
        "start_time": "2023-05-03T22:07:11.411Z"
      },
      {
        "duration": 28,
        "start_time": "2023-05-03T22:07:11.428Z"
      },
      {
        "duration": 25,
        "start_time": "2023-05-03T22:07:11.458Z"
      },
      {
        "duration": 12,
        "start_time": "2023-05-03T22:07:11.485Z"
      },
      {
        "duration": 11,
        "start_time": "2023-05-03T22:07:11.499Z"
      },
      {
        "duration": 44,
        "start_time": "2023-05-03T22:07:11.512Z"
      },
      {
        "duration": 27,
        "start_time": "2023-05-03T22:07:11.558Z"
      },
      {
        "duration": 17,
        "start_time": "2023-05-03T22:07:11.588Z"
      },
      {
        "duration": 258,
        "start_time": "2023-05-03T22:08:07.408Z"
      },
      {
        "duration": 318,
        "start_time": "2023-05-03T22:08:27.757Z"
      },
      {
        "duration": 407,
        "start_time": "2023-05-03T22:11:33.216Z"
      },
      {
        "duration": 96,
        "start_time": "2023-05-03T22:21:22.277Z"
      },
      {
        "duration": 257,
        "start_time": "2023-05-03T22:21:38.122Z"
      },
      {
        "duration": 686,
        "start_time": "2023-05-03T22:21:45.300Z"
      },
      {
        "duration": 399,
        "start_time": "2023-05-03T22:24:03.739Z"
      },
      {
        "duration": 321,
        "start_time": "2023-05-03T22:26:11.987Z"
      },
      {
        "duration": 340,
        "start_time": "2023-05-03T22:27:08.964Z"
      },
      {
        "duration": 268,
        "start_time": "2023-05-03T22:27:42.543Z"
      },
      {
        "duration": 356,
        "start_time": "2023-05-03T22:31:50.866Z"
      },
      {
        "duration": 509,
        "start_time": "2023-05-03T22:37:46.141Z"
      },
      {
        "duration": 1260,
        "start_time": "2023-05-03T22:44:25.631Z"
      },
      {
        "duration": 64,
        "start_time": "2023-05-03T22:44:26.893Z"
      },
      {
        "duration": 4,
        "start_time": "2023-05-03T22:44:26.959Z"
      },
      {
        "duration": 15,
        "start_time": "2023-05-03T22:44:26.965Z"
      },
      {
        "duration": 13,
        "start_time": "2023-05-03T22:44:26.981Z"
      },
      {
        "duration": 12,
        "start_time": "2023-05-03T22:44:26.996Z"
      },
      {
        "duration": 11,
        "start_time": "2023-05-03T22:44:27.010Z"
      },
      {
        "duration": 33,
        "start_time": "2023-05-03T22:44:27.023Z"
      },
      {
        "duration": 14,
        "start_time": "2023-05-03T22:44:27.058Z"
      },
      {
        "duration": 12,
        "start_time": "2023-05-03T22:44:27.075Z"
      },
      {
        "duration": 15,
        "start_time": "2023-05-03T22:44:27.089Z"
      },
      {
        "duration": 9,
        "start_time": "2023-05-03T22:44:27.107Z"
      },
      {
        "duration": 31,
        "start_time": "2023-05-03T22:44:27.118Z"
      },
      {
        "duration": 27,
        "start_time": "2023-05-03T22:44:27.151Z"
      },
      {
        "duration": 10,
        "start_time": "2023-05-03T22:44:27.180Z"
      },
      {
        "duration": 12,
        "start_time": "2023-05-03T22:44:27.192Z"
      },
      {
        "duration": 6,
        "start_time": "2023-05-03T22:44:27.206Z"
      },
      {
        "duration": 12,
        "start_time": "2023-05-03T22:44:27.213Z"
      },
      {
        "duration": 18,
        "start_time": "2023-05-03T22:44:27.227Z"
      },
      {
        "duration": 17,
        "start_time": "2023-05-03T22:44:27.247Z"
      },
      {
        "duration": 192,
        "start_time": "2023-05-03T22:44:27.265Z"
      },
      {
        "duration": 137,
        "start_time": "2023-05-03T22:44:27.459Z"
      },
      {
        "duration": 10,
        "start_time": "2023-05-03T22:44:27.598Z"
      },
      {
        "duration": 7,
        "start_time": "2023-05-03T22:44:27.610Z"
      },
      {
        "duration": 393,
        "start_time": "2023-05-03T22:44:27.618Z"
      },
      {
        "duration": 310,
        "start_time": "2023-05-03T22:44:28.013Z"
      },
      {
        "duration": 419,
        "start_time": "2023-05-03T22:44:28.325Z"
      },
      {
        "duration": 297,
        "start_time": "2023-05-03T22:44:28.747Z"
      },
      {
        "duration": 428,
        "start_time": "2023-05-03T22:44:29.046Z"
      },
      {
        "duration": 219,
        "start_time": "2023-05-03T22:44:29.476Z"
      },
      {
        "duration": 177,
        "start_time": "2023-05-03T22:44:29.697Z"
      },
      {
        "duration": 5,
        "start_time": "2023-05-03T22:44:29.876Z"
      },
      {
        "duration": 299,
        "start_time": "2023-05-03T22:44:29.883Z"
      },
      {
        "duration": 184,
        "start_time": "2023-05-03T22:44:30.184Z"
      },
      {
        "duration": 5,
        "start_time": "2023-05-03T22:44:30.370Z"
      },
      {
        "duration": 236,
        "start_time": "2023-05-03T22:44:30.377Z"
      },
      {
        "duration": 12,
        "start_time": "2023-05-03T22:44:30.615Z"
      },
      {
        "duration": 23,
        "start_time": "2023-05-03T22:44:30.629Z"
      },
      {
        "duration": 50,
        "start_time": "2023-05-03T22:44:30.654Z"
      },
      {
        "duration": 19,
        "start_time": "2023-05-03T22:44:30.706Z"
      },
      {
        "duration": 46,
        "start_time": "2023-05-03T22:44:30.727Z"
      },
      {
        "duration": 41,
        "start_time": "2023-05-03T22:44:30.775Z"
      },
      {
        "duration": 68,
        "start_time": "2023-05-03T22:44:30.818Z"
      },
      {
        "duration": 19,
        "start_time": "2023-05-03T22:44:30.887Z"
      },
      {
        "duration": 107,
        "start_time": "2023-05-03T22:47:24.372Z"
      },
      {
        "duration": 12,
        "start_time": "2023-05-03T22:48:26.328Z"
      },
      {
        "duration": 736,
        "start_time": "2023-05-03T22:49:12.691Z"
      },
      {
        "duration": 16,
        "start_time": "2023-05-03T22:50:04.864Z"
      },
      {
        "duration": 49,
        "start_time": "2023-05-04T05:46:15.646Z"
      },
      {
        "duration": 6,
        "start_time": "2023-05-04T05:46:20.525Z"
      },
      {
        "duration": 1392,
        "start_time": "2023-05-04T05:46:25.691Z"
      },
      {
        "duration": 223,
        "start_time": "2023-05-04T05:46:27.085Z"
      },
      {
        "duration": 5,
        "start_time": "2023-05-04T05:46:27.309Z"
      },
      {
        "duration": 36,
        "start_time": "2023-05-04T05:46:27.316Z"
      },
      {
        "duration": 27,
        "start_time": "2023-05-04T05:46:27.353Z"
      },
      {
        "duration": 18,
        "start_time": "2023-05-04T05:46:27.382Z"
      },
      {
        "duration": 36,
        "start_time": "2023-05-04T05:46:27.402Z"
      },
      {
        "duration": 14,
        "start_time": "2023-05-04T05:46:27.440Z"
      },
      {
        "duration": 13,
        "start_time": "2023-05-04T05:46:27.456Z"
      },
      {
        "duration": 18,
        "start_time": "2023-05-04T05:46:27.471Z"
      },
      {
        "duration": 12,
        "start_time": "2023-05-04T05:46:27.491Z"
      },
      {
        "duration": 13,
        "start_time": "2023-05-04T05:46:27.504Z"
      },
      {
        "duration": 12,
        "start_time": "2023-05-04T05:46:27.519Z"
      },
      {
        "duration": 15,
        "start_time": "2023-05-04T05:46:27.532Z"
      },
      {
        "duration": 13,
        "start_time": "2023-05-04T05:46:27.549Z"
      },
      {
        "duration": 22,
        "start_time": "2023-05-04T05:46:27.563Z"
      },
      {
        "duration": 16,
        "start_time": "2023-05-04T05:46:27.587Z"
      },
      {
        "duration": 12,
        "start_time": "2023-05-04T05:46:27.605Z"
      },
      {
        "duration": 7,
        "start_time": "2023-05-04T05:46:27.619Z"
      },
      {
        "duration": 9,
        "start_time": "2023-05-04T05:46:27.627Z"
      },
      {
        "duration": 6,
        "start_time": "2023-05-04T05:46:27.638Z"
      },
      {
        "duration": 161,
        "start_time": "2023-05-04T05:46:27.646Z"
      },
      {
        "duration": 120,
        "start_time": "2023-05-04T05:46:27.809Z"
      },
      {
        "duration": 8,
        "start_time": "2023-05-04T05:46:27.931Z"
      },
      {
        "duration": 16,
        "start_time": "2023-05-04T05:46:27.941Z"
      },
      {
        "duration": 331,
        "start_time": "2023-05-04T05:46:27.959Z"
      },
      {
        "duration": 278,
        "start_time": "2023-05-04T05:46:28.292Z"
      },
      {
        "duration": 399,
        "start_time": "2023-05-04T05:46:28.573Z"
      },
      {
        "duration": 260,
        "start_time": "2023-05-04T05:46:28.973Z"
      },
      {
        "duration": 374,
        "start_time": "2023-05-04T05:46:29.235Z"
      },
      {
        "duration": 208,
        "start_time": "2023-05-04T05:46:29.610Z"
      },
      {
        "duration": 182,
        "start_time": "2023-05-04T05:46:29.820Z"
      },
      {
        "duration": 6,
        "start_time": "2023-05-04T05:46:30.005Z"
      },
      {
        "duration": 289,
        "start_time": "2023-05-04T05:46:30.013Z"
      },
      {
        "duration": 168,
        "start_time": "2023-05-04T05:46:30.304Z"
      },
      {
        "duration": 13,
        "start_time": "2023-05-04T05:46:30.473Z"
      },
      {
        "duration": 233,
        "start_time": "2023-05-04T05:46:30.488Z"
      },
      {
        "duration": 12,
        "start_time": "2023-05-04T05:46:30.722Z"
      },
      {
        "duration": 20,
        "start_time": "2023-05-04T05:46:30.736Z"
      },
      {
        "duration": 46,
        "start_time": "2023-05-04T05:46:30.758Z"
      },
      {
        "duration": 13,
        "start_time": "2023-05-04T05:46:30.806Z"
      },
      {
        "duration": 52,
        "start_time": "2023-05-04T05:46:30.821Z"
      },
      {
        "duration": 47,
        "start_time": "2023-05-04T05:46:30.875Z"
      },
      {
        "duration": 50,
        "start_time": "2023-05-04T05:46:30.924Z"
      },
      {
        "duration": 26,
        "start_time": "2023-05-04T05:46:30.976Z"
      },
      {
        "duration": 6,
        "start_time": "2023-05-04T05:47:36.836Z"
      },
      {
        "duration": 106,
        "start_time": "2023-05-04T05:48:27.557Z"
      },
      {
        "duration": 11,
        "start_time": "2023-05-04T05:48:45.289Z"
      },
      {
        "duration": 6,
        "start_time": "2023-05-04T05:49:47.700Z"
      },
      {
        "duration": 9,
        "start_time": "2023-05-04T06:00:38.137Z"
      },
      {
        "duration": 6,
        "start_time": "2023-05-04T06:00:41.759Z"
      },
      {
        "duration": 1392,
        "start_time": "2023-05-05T21:42:27.031Z"
      },
      {
        "duration": 198,
        "start_time": "2023-05-05T21:42:28.425Z"
      },
      {
        "duration": 4,
        "start_time": "2023-05-05T21:42:28.625Z"
      },
      {
        "duration": 20,
        "start_time": "2023-05-05T21:42:28.631Z"
      },
      {
        "duration": 22,
        "start_time": "2023-05-05T21:42:28.653Z"
      },
      {
        "duration": 11,
        "start_time": "2023-05-05T21:42:28.678Z"
      },
      {
        "duration": 11,
        "start_time": "2023-05-05T21:42:28.691Z"
      },
      {
        "duration": 8,
        "start_time": "2023-05-05T21:42:28.703Z"
      },
      {
        "duration": 13,
        "start_time": "2023-05-05T21:42:28.712Z"
      },
      {
        "duration": 12,
        "start_time": "2023-05-05T21:42:28.727Z"
      },
      {
        "duration": 18,
        "start_time": "2023-05-05T21:42:28.741Z"
      },
      {
        "duration": 10,
        "start_time": "2023-05-05T21:42:28.760Z"
      },
      {
        "duration": 15,
        "start_time": "2023-05-05T21:42:28.773Z"
      },
      {
        "duration": 7,
        "start_time": "2023-05-05T21:42:28.791Z"
      },
      {
        "duration": 9,
        "start_time": "2023-05-05T21:42:28.800Z"
      },
      {
        "duration": 8,
        "start_time": "2023-05-05T21:42:28.811Z"
      },
      {
        "duration": 5,
        "start_time": "2023-05-05T21:42:28.821Z"
      },
      {
        "duration": 14,
        "start_time": "2023-05-05T21:42:28.827Z"
      },
      {
        "duration": 21,
        "start_time": "2023-05-05T21:42:28.843Z"
      },
      {
        "duration": 11,
        "start_time": "2023-05-05T21:42:28.865Z"
      },
      {
        "duration": 171,
        "start_time": "2023-05-05T21:42:28.877Z"
      },
      {
        "duration": 151,
        "start_time": "2023-05-05T21:42:29.050Z"
      },
      {
        "duration": 12,
        "start_time": "2023-05-05T21:42:29.203Z"
      },
      {
        "duration": 7,
        "start_time": "2023-05-05T21:42:29.216Z"
      },
      {
        "duration": 428,
        "start_time": "2023-05-05T21:42:29.225Z"
      },
      {
        "duration": 319,
        "start_time": "2023-05-05T21:42:29.664Z"
      },
      {
        "duration": 420,
        "start_time": "2023-05-05T21:42:29.985Z"
      },
      {
        "duration": 362,
        "start_time": "2023-05-05T21:42:30.406Z"
      },
      {
        "duration": 453,
        "start_time": "2023-05-05T21:42:30.772Z"
      },
      {
        "duration": 270,
        "start_time": "2023-05-05T21:42:31.226Z"
      },
      {
        "duration": 209,
        "start_time": "2023-05-05T21:42:31.498Z"
      },
      {
        "duration": 6,
        "start_time": "2023-05-05T21:42:31.709Z"
      },
      {
        "duration": 311,
        "start_time": "2023-05-05T21:42:31.716Z"
      },
      {
        "duration": 205,
        "start_time": "2023-05-05T21:42:32.029Z"
      },
      {
        "duration": 7,
        "start_time": "2023-05-05T21:42:32.237Z"
      },
      {
        "duration": 233,
        "start_time": "2023-05-05T21:42:32.263Z"
      },
      {
        "duration": 11,
        "start_time": "2023-05-05T21:42:32.498Z"
      },
      {
        "duration": 6,
        "start_time": "2023-05-05T21:42:32.510Z"
      },
      {
        "duration": 25,
        "start_time": "2023-05-05T21:42:32.517Z"
      },
      {
        "duration": 23,
        "start_time": "2023-05-05T21:42:32.555Z"
      },
      {
        "duration": 24,
        "start_time": "2023-05-05T21:42:32.581Z"
      },
      {
        "duration": 10,
        "start_time": "2023-05-05T21:42:32.607Z"
      },
      {
        "duration": 28,
        "start_time": "2023-05-05T21:42:32.619Z"
      },
      {
        "duration": 26,
        "start_time": "2023-05-05T21:42:32.649Z"
      },
      {
        "duration": 4,
        "start_time": "2023-05-05T21:44:58.012Z"
      },
      {
        "duration": 6,
        "start_time": "2023-05-05T21:47:32.954Z"
      },
      {
        "duration": 3,
        "start_time": "2023-05-05T21:47:35.941Z"
      },
      {
        "duration": 105,
        "start_time": "2023-05-05T21:50:24.389Z"
      },
      {
        "duration": 11,
        "start_time": "2023-05-05T21:51:11.329Z"
      },
      {
        "duration": 15,
        "start_time": "2023-05-05T21:51:59.253Z"
      },
      {
        "duration": 20,
        "start_time": "2023-05-05T21:52:38.933Z"
      },
      {
        "duration": 7,
        "start_time": "2023-05-05T21:52:49.853Z"
      },
      {
        "duration": 9,
        "start_time": "2023-05-05T21:53:17.085Z"
      },
      {
        "duration": 4,
        "start_time": "2023-05-05T21:53:59.400Z"
      },
      {
        "duration": 6,
        "start_time": "2023-05-05T21:54:13.062Z"
      },
      {
        "duration": 3,
        "start_time": "2023-05-05T22:02:22.850Z"
      },
      {
        "duration": 5,
        "start_time": "2023-05-05T22:02:25.209Z"
      },
      {
        "duration": 3,
        "start_time": "2023-05-05T22:02:57.025Z"
      },
      {
        "duration": 3,
        "start_time": "2023-05-05T22:02:58.684Z"
      },
      {
        "duration": 3,
        "start_time": "2023-05-05T22:03:05.051Z"
      },
      {
        "duration": 3,
        "start_time": "2023-05-05T22:03:25.882Z"
      },
      {
        "duration": 252,
        "start_time": "2023-05-05T22:24:58.375Z"
      },
      {
        "duration": 345,
        "start_time": "2023-05-05T22:25:37.775Z"
      },
      {
        "duration": 245,
        "start_time": "2023-05-05T22:31:41.573Z"
      },
      {
        "duration": 356,
        "start_time": "2023-05-05T22:32:31.078Z"
      },
      {
        "duration": 385,
        "start_time": "2023-05-05T22:33:22.854Z"
      },
      {
        "duration": 163,
        "start_time": "2023-05-05T22:37:25.060Z"
      },
      {
        "duration": 168,
        "start_time": "2023-05-05T22:38:11.259Z"
      },
      {
        "duration": 3,
        "start_time": "2023-05-05T22:45:21.869Z"
      },
      {
        "duration": 3,
        "start_time": "2023-05-05T22:46:45.395Z"
      },
      {
        "duration": 2,
        "start_time": "2023-05-05T22:48:41.214Z"
      },
      {
        "duration": 4,
        "start_time": "2023-05-05T22:48:43.095Z"
      },
      {
        "duration": 3,
        "start_time": "2023-05-05T22:50:45.621Z"
      },
      {
        "duration": 3,
        "start_time": "2023-05-05T22:50:58.721Z"
      },
      {
        "duration": 366,
        "start_time": "2023-05-05T22:56:46.182Z"
      },
      {
        "duration": 1079,
        "start_time": "2023-05-05T22:59:10.868Z"
      },
      {
        "duration": 61,
        "start_time": "2023-05-05T22:59:11.949Z"
      },
      {
        "duration": 4,
        "start_time": "2023-05-05T22:59:12.011Z"
      },
      {
        "duration": 17,
        "start_time": "2023-05-05T22:59:12.016Z"
      },
      {
        "duration": 10,
        "start_time": "2023-05-05T22:59:12.035Z"
      },
      {
        "duration": 12,
        "start_time": "2023-05-05T22:59:12.047Z"
      },
      {
        "duration": 10,
        "start_time": "2023-05-05T22:59:12.060Z"
      },
      {
        "duration": 6,
        "start_time": "2023-05-05T22:59:12.072Z"
      },
      {
        "duration": 14,
        "start_time": "2023-05-05T22:59:12.079Z"
      },
      {
        "duration": 25,
        "start_time": "2023-05-05T22:59:12.094Z"
      },
      {
        "duration": 5,
        "start_time": "2023-05-05T22:59:12.120Z"
      },
      {
        "duration": 11,
        "start_time": "2023-05-05T22:59:12.127Z"
      },
      {
        "duration": 11,
        "start_time": "2023-05-05T22:59:12.140Z"
      },
      {
        "duration": 9,
        "start_time": "2023-05-05T22:59:12.158Z"
      },
      {
        "duration": 7,
        "start_time": "2023-05-05T22:59:12.168Z"
      },
      {
        "duration": 12,
        "start_time": "2023-05-05T22:59:12.177Z"
      },
      {
        "duration": 7,
        "start_time": "2023-05-05T22:59:12.191Z"
      },
      {
        "duration": 7,
        "start_time": "2023-05-05T22:59:12.200Z"
      },
      {
        "duration": 13,
        "start_time": "2023-05-05T22:59:12.209Z"
      },
      {
        "duration": 5,
        "start_time": "2023-05-05T22:59:12.224Z"
      },
      {
        "duration": 3,
        "start_time": "2023-05-05T22:59:12.257Z"
      },
      {
        "duration": 4,
        "start_time": "2023-05-05T22:59:12.262Z"
      },
      {
        "duration": 4,
        "start_time": "2023-05-05T22:59:12.268Z"
      },
      {
        "duration": 9,
        "start_time": "2023-05-05T22:59:12.273Z"
      },
      {
        "duration": 12,
        "start_time": "2023-05-05T22:59:12.284Z"
      },
      {
        "duration": 12,
        "start_time": "2023-05-05T22:59:12.298Z"
      },
      {
        "duration": 178,
        "start_time": "2023-05-05T22:59:12.312Z"
      },
      {
        "duration": 125,
        "start_time": "2023-05-05T22:59:12.492Z"
      },
      {
        "duration": 9,
        "start_time": "2023-05-05T22:59:12.619Z"
      },
      {
        "duration": 5,
        "start_time": "2023-05-05T22:59:12.630Z"
      },
      {
        "duration": 360,
        "start_time": "2023-05-05T22:59:12.637Z"
      },
      {
        "duration": 261,
        "start_time": "2023-05-05T22:59:12.999Z"
      },
      {
        "duration": 341,
        "start_time": "2023-05-05T22:59:13.261Z"
      },
      {
        "duration": 273,
        "start_time": "2023-05-05T22:59:13.603Z"
      },
      {
        "duration": 387,
        "start_time": "2023-05-05T22:59:13.877Z"
      },
      {
        "duration": 203,
        "start_time": "2023-05-05T22:59:14.266Z"
      },
      {
        "duration": 190,
        "start_time": "2023-05-05T22:59:14.471Z"
      },
      {
        "duration": 5,
        "start_time": "2023-05-05T22:59:14.663Z"
      },
      {
        "duration": 283,
        "start_time": "2023-05-05T22:59:14.669Z"
      },
      {
        "duration": 201,
        "start_time": "2023-05-05T22:59:14.955Z"
      },
      {
        "duration": 5,
        "start_time": "2023-05-05T22:59:15.160Z"
      },
      {
        "duration": 261,
        "start_time": "2023-05-05T22:59:15.167Z"
      },
      {
        "duration": 26,
        "start_time": "2023-05-05T22:59:15.430Z"
      },
      {
        "duration": 7,
        "start_time": "2023-05-05T22:59:15.458Z"
      },
      {
        "duration": 25,
        "start_time": "2023-05-05T22:59:15.467Z"
      },
      {
        "duration": 12,
        "start_time": "2023-05-05T22:59:15.494Z"
      },
      {
        "duration": 11,
        "start_time": "2023-05-05T22:59:15.508Z"
      },
      {
        "duration": 35,
        "start_time": "2023-05-05T22:59:15.521Z"
      },
      {
        "duration": 9,
        "start_time": "2023-05-05T22:59:15.559Z"
      },
      {
        "duration": 12,
        "start_time": "2023-05-05T22:59:15.569Z"
      },
      {
        "duration": 12,
        "start_time": "2023-05-05T22:59:15.583Z"
      },
      {
        "duration": 10,
        "start_time": "2023-05-05T22:59:15.597Z"
      },
      {
        "duration": 22,
        "start_time": "2023-05-05T22:59:15.609Z"
      },
      {
        "duration": 35,
        "start_time": "2023-05-05T22:59:15.633Z"
      },
      {
        "duration": 1332,
        "start_time": "2023-05-06T19:42:53.888Z"
      },
      {
        "duration": 289,
        "start_time": "2023-05-06T19:42:55.223Z"
      },
      {
        "duration": 4,
        "start_time": "2023-05-06T19:42:55.513Z"
      },
      {
        "duration": 46,
        "start_time": "2023-05-06T19:42:55.519Z"
      },
      {
        "duration": 15,
        "start_time": "2023-05-06T19:42:55.568Z"
      },
      {
        "duration": 17,
        "start_time": "2023-05-06T19:42:55.585Z"
      },
      {
        "duration": 12,
        "start_time": "2023-05-06T19:42:55.603Z"
      },
      {
        "duration": 15,
        "start_time": "2023-05-06T19:42:55.616Z"
      },
      {
        "duration": 26,
        "start_time": "2023-05-06T19:42:55.633Z"
      },
      {
        "duration": 47,
        "start_time": "2023-05-06T19:42:55.660Z"
      },
      {
        "duration": 11,
        "start_time": "2023-05-06T19:42:55.709Z"
      },
      {
        "duration": 6,
        "start_time": "2023-05-06T19:42:55.721Z"
      },
      {
        "duration": 10,
        "start_time": "2023-05-06T19:42:55.729Z"
      },
      {
        "duration": 16,
        "start_time": "2023-05-06T19:42:55.743Z"
      },
      {
        "duration": 41,
        "start_time": "2023-05-06T19:42:55.761Z"
      },
      {
        "duration": 14,
        "start_time": "2023-05-06T19:42:55.804Z"
      },
      {
        "duration": 7,
        "start_time": "2023-05-06T19:42:55.820Z"
      },
      {
        "duration": 6,
        "start_time": "2023-05-06T19:42:55.828Z"
      },
      {
        "duration": 6,
        "start_time": "2023-05-06T19:42:55.835Z"
      },
      {
        "duration": 5,
        "start_time": "2023-05-06T19:42:55.842Z"
      },
      {
        "duration": 49,
        "start_time": "2023-05-06T19:42:55.848Z"
      },
      {
        "duration": 4,
        "start_time": "2023-05-06T19:42:55.898Z"
      },
      {
        "duration": 5,
        "start_time": "2023-05-06T19:42:55.904Z"
      },
      {
        "duration": 12,
        "start_time": "2023-05-06T19:42:55.911Z"
      },
      {
        "duration": 9,
        "start_time": "2023-05-06T19:42:55.924Z"
      },
      {
        "duration": 6,
        "start_time": "2023-05-06T19:42:55.935Z"
      },
      {
        "duration": 181,
        "start_time": "2023-05-06T19:42:55.943Z"
      },
      {
        "duration": 148,
        "start_time": "2023-05-06T19:42:56.125Z"
      },
      {
        "duration": 11,
        "start_time": "2023-05-06T19:42:56.288Z"
      },
      {
        "duration": 8,
        "start_time": "2023-05-06T19:42:56.301Z"
      },
      {
        "duration": 396,
        "start_time": "2023-05-06T19:42:56.310Z"
      },
      {
        "duration": 300,
        "start_time": "2023-05-06T19:42:56.707Z"
      },
      {
        "duration": 419,
        "start_time": "2023-05-06T19:42:57.009Z"
      },
      {
        "duration": 300,
        "start_time": "2023-05-06T19:42:57.429Z"
      },
      {
        "duration": 471,
        "start_time": "2023-05-06T19:42:57.731Z"
      },
      {
        "duration": 219,
        "start_time": "2023-05-06T19:42:58.204Z"
      },
      {
        "duration": 196,
        "start_time": "2023-05-06T19:42:58.425Z"
      },
      {
        "duration": 5,
        "start_time": "2023-05-06T19:42:58.622Z"
      },
      {
        "duration": 281,
        "start_time": "2023-05-06T19:42:58.628Z"
      },
      {
        "duration": 203,
        "start_time": "2023-05-06T19:42:58.910Z"
      },
      {
        "duration": 5,
        "start_time": "2023-05-06T19:42:59.117Z"
      },
      {
        "duration": 243,
        "start_time": "2023-05-06T19:42:59.124Z"
      },
      {
        "duration": 22,
        "start_time": "2023-05-06T19:42:59.371Z"
      },
      {
        "duration": 11,
        "start_time": "2023-05-06T19:42:59.395Z"
      },
      {
        "duration": 21,
        "start_time": "2023-05-06T19:42:59.408Z"
      },
      {
        "duration": 10,
        "start_time": "2023-05-06T19:42:59.430Z"
      },
      {
        "duration": 9,
        "start_time": "2023-05-06T19:42:59.441Z"
      },
      {
        "duration": 52,
        "start_time": "2023-05-06T19:42:59.451Z"
      },
      {
        "duration": 5,
        "start_time": "2023-05-06T19:42:59.504Z"
      },
      {
        "duration": 12,
        "start_time": "2023-05-06T19:42:59.511Z"
      },
      {
        "duration": 5,
        "start_time": "2023-05-06T19:42:59.525Z"
      },
      {
        "duration": 9,
        "start_time": "2023-05-06T19:42:59.531Z"
      },
      {
        "duration": 42,
        "start_time": "2023-05-06T19:42:59.542Z"
      },
      {
        "duration": 25,
        "start_time": "2023-05-06T19:42:59.585Z"
      }
    ],
    "kernelspec": {
      "display_name": "Python 3 (ipykernel)",
      "language": "python",
      "name": "python3"
    },
    "language_info": {
      "codemirror_mode": {
        "name": "ipython",
        "version": 3
      },
      "file_extension": ".py",
      "mimetype": "text/x-python",
      "name": "python",
      "nbconvert_exporter": "python",
      "pygments_lexer": "ipython3",
      "version": "3.9.5"
    },
    "toc": {
      "base_numbering": 1,
      "nav_menu": {},
      "number_sections": true,
      "sideBar": true,
      "skip_h1_title": true,
      "title_cell": "Table of Contents",
      "title_sidebar": "Contents",
      "toc_cell": false,
      "toc_position": {},
      "toc_section_display": true,
      "toc_window_display": true
    },
    "colab": {
      "provenance": []
    }
  },
  "nbformat": 4,
  "nbformat_minor": 0
}