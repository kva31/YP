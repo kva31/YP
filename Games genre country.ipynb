{
  "cells": [
    {
      "cell_type": "markdown",
      "metadata": {
        "id": "9WCV-aV1-Mpu"
      },
      "source": [
        "**Вадим, привет!**\n",
        "\n",
        "Меня зовут Василий Митров и я буду проверять твой проект. Предлагаю общаться на «ты». Если это неприемлемо, то дай мне знать и мы перейдем на «вы». Моя основная цель — не указать на совершенные тобою ошибки, а поделиться своим опытом и помочь тебе стать аналитиком данных.\n",
        "\n",
        "Для удобства я оставлю комментарии в отдельных ячейках Markdown с заголовком «Комментарий ревьюера». Пожалуйста, не перемещай, не изменяй и не удаляй их - так наше общение будет более продуктивным. Я буду использовать цветовую разметку:\n",
        "\n",
        "<div class=\"alert alert-danger\">\n",
        "<b>Комментарий ревьюера</b>\n",
        "    \n",
        "✍ Так выделены самые важные замечания. Без их отработки проект не будет принят. При проверке я обращаю внимание не только на код, но и на интерпретацию и анализ результатов, а также соответствие данных техническому заданию.\n",
        "</div>\n",
        "\n",
        "<div class=\"alert alert-warning\">\n",
        "<b>Комментарий ревьюера</b>\n",
        "    \n",
        "📝 Так выделены небольшие замечания или рекомендации. Постарайся, пожалуйста, учесть эти комментарии в этом проекте или в будущих проектах.\n",
        "</div>\n",
        "\n",
        "<div class=\"alert alert-success\">\n",
        "<b>Комментарий ревьюера</b>\n",
        "    \n",
        "👍 Так выделены все остальные комментарии, включая рекомендации, позитивные моменты или какие-то рассуждения и пояснения.\n",
        "</div>\n",
        "\n",
        "Давай работать над проектом в диалоге: если ты что-то меняешь в проекте или отвечаешь на мои комментарии — пиши об этом. Мне будет легче отследить изменения, если ты выделишь свои комментарии:\n",
        "\n",
        "<div class=\"alert alert-info\">\n",
        "<b>Комментарий студента</b>\n",
        "    \n",
        "Например, вот так. Также, если есть какие-то вопросы, или что-то осталось непонятным по ревью - спрашивай в таких блоках и я постараюсь дать ответ.\n",
        "</div>\n",
        "\n",
        "---"
      ]
    },
    {
      "cell_type": "markdown",
      "metadata": {
        "id": "t7ruyyju-Mpx"
      },
      "source": [
        "**Инструкция по выполнению проекта**    \n",
        "*Шаг 1*. Откройте файл с данными и изучите общую информацию  \n",
        "Путь к файлу: /datasets/games.csv. Скачать датасет    \n",
        "*Шаг 2*. Подготовьте данные  \n",
        "Замените названия столбцов (приведите к нижнему регистру);  \n",
        "Преобразуйте данные в нужные типы. Опишите, в каких столбцах заменили тип данных и почему;  \n",
        "Обработайте пропуски при необходимости:  \n",
        "Объясните, почему заполнили пропуски определённым образом или почему не стали это делать;  \n",
        "Опишите причины, которые могли привести к пропускам;  \n",
        "Обратите внимание на аббревиатуру 'tbd' в столбце с оценкой пользователей. Отдельно разберите это значение и опишите, как его   обработать;  \n",
        "Посчитайте суммарные продажи во всех регионах и запишите их в отдельный столбец.  \n",
        "*Шаг 3*. Проведите исследовательский анализ данных  \n",
        "Посмотрите, сколько игр выпускалось в разные годы. Важны ли данные за все периоды?  \n",
        "Посмотрите, как менялись продажи по платформам. Выберите платформы с наибольшими суммарными продажами и постройте распределение по годам. За какой характерный срок появляются новые и исчезают старые платформы?  \n",
        "Возьмите данные за соответствующий актуальный период. Актуальный период определите самостоятельно в результате исследования  предыдущих вопросов. Основной фактор — эти данные помогут построить прогноз на 2017 год.  \n",
        "Не учитывайте в работе данные за предыдущие годы.  \n",
        "Какие платформы лидируют по продажам, растут или падают? Выберите несколько потенциально прибыльных платформ.  \n",
        "Постройте график «ящик с усами» по глобальным продажам игр в разбивке по платформам. Опишите результат.  \n",
        "Посмотрите, как влияют на продажи внутри одной популярной платформы отзывы пользователей и критиков. Постройте диаграмму рассеяния и посчитайте корреляцию между отзывами и продажами. Сформулируйте выводы.  \n",
        "Соотнесите выводы с продажами игр на других платформах.  \n",
        "Посмотрите на общее распределение игр по жанрам. Что можно сказать о самых прибыльных жанрах? Выделяются ли жанры с высокими и низкими продажами?  \n",
        "*Шаг 4*. Составьте портрет пользователя каждого региона  \n",
        "Определите для пользователя каждого региона (NA, EU, JP):  \n",
        "Самые популярные платформы (топ-5). Опишите различия в долях продаж.  \n",
        "Самые популярные жанры (топ-5). Поясните разницу.  \n",
        "Влияет ли рейтинг ESRB на продажи в отдельном регионе?  \n",
        "*Шаг 5*. Проверьте гипотезы  \n",
        "Средние пользовательские рейтинги платформ Xbox One и PC одинаковые;  \n",
        "Средние пользовательские рейтинги жанров Action (англ. «действие», экшен-игры) и Sports (англ. «спортивные соревнования»)   разные.  \n",
        "Задайте самостоятельно пороговое значение alpha.  \n",
        "Поясните:  \n",
        "Как вы сформулировали нулевую и альтернативную гипотезы;  \n",
        "Какой критерий применили для проверки гипотез и почему.  \n",
        "*Шаг 6*. Напишите общий вывод  \n",
        "Оформление: Выполните задание в Jupyter Notebook. Заполните программный код в ячейках типа code, текстовые пояснения — в ячейках типа markdown. Примените форматирование и заголовки.  \n",
        "**Описание данных**   \n",
        "Name — название игры  \n",
        "Platform — платформа  \n",
        "Year_of_Release — год выпуска  \n",
        "Genre — жанр игры  \n",
        "NA_sales — продажи в Северной Америке (миллионы проданных копий)  \n",
        "EU_sales — продажи в Европе (миллионы проданных копий)  \n",
        "JP_sales — продажи в Японии (миллионы проданных копий)  \n",
        "Other_sales — продажи в других странах (миллионы проданных копий)  \n",
        "Critic_Score — оценка критиков (максимум 100)  \n",
        "User_Score — оценка пользователей (максимум 10)  \n",
        "Rating — рейтинг от организации ESRB (англ. Entertainment Software Rating Board). Эта ассоциация определяет рейтинг компьютерных игр и присваивает им подходящую возрастную категорию.  \n",
        "Данные за 2016 год могут быть неполными.  "
      ]
    },
    {
      "cell_type": "markdown",
      "metadata": {
        "id": "lOhmN-nc-Mpx"
      },
      "source": [
        "<div class=\"alert alert-danger\">\n",
        "<b>Комментарий ревьюера v.1</b>\n",
        "    \n",
        "✍\n",
        "К сожалению отсутствует описание задачи. Это поможет быстро вспомнить, о чем проект, если ты к нему вернешься спустя какое-то время.\n",
        "\n",
        "Данный блок можно расширить при помощи плана работы и описания данных. Посмотреть подробнее про вступительный блок можно в разделе \"Полезные инструкции в учебе\" блока \"Оформление проекта\".\n",
        "</div>"
      ]
    },
    {
      "cell_type": "markdown",
      "metadata": {
        "id": "zH1kVTj6-Mpy"
      },
      "source": [
        "<div class=\"alert alert-success\">\n",
        "<b>Комментарий ревьюера v.2</b>\n",
        "    \n",
        "👍\n",
        "\n",
        "</div>"
      ]
    },
    {
      "cell_type": "markdown",
      "metadata": {
        "id": "eY3juqeu-Mpy"
      },
      "source": [
        "**ШАГ 1 ИЗУЧЕНИЕ ОБЩЕЙ ИНФОРМАЦИИ**"
      ]
    },
    {
      "cell_type": "code",
      "execution_count": null,
      "metadata": {
        "id": "QS10_epf-Mpy"
      },
      "outputs": [],
      "source": [
        "#Импортируем нужные библиотеки\n",
        "import pandas as pd\n",
        "import numpy as np\n",
        "import matplotlib.pyplot as plt\n",
        "import seaborn as sns\n",
        "from scipy import stats as st"
      ]
    },
    {
      "cell_type": "markdown",
      "metadata": {
        "id": "NqljTZTR-Mpz"
      },
      "source": [
        "<div class=\"alert alert-success\">\n",
        "<b>Комментарий ревьюера v.1</b>\n",
        "    \n",
        "👍\n",
        "Правильно, что весь импорт ты проводишь в первой ячейке работы. Так твой коллега, запускающий работу, будет в курсе используемых в ней библиотек и сможет при необходимости быстро настроить окружение.\n",
        "</div>"
      ]
    },
    {
      "cell_type": "code",
      "execution_count": null,
      "metadata": {
        "scrolled": true,
        "id": "NqKm-uhg-Mpz"
      },
      "outputs": [],
      "source": [
        "#Откроем наш датасет\n",
        "data = pd.read_csv('/datasets/games.csv')"
      ]
    },
    {
      "cell_type": "code",
      "execution_count": null,
      "metadata": {
        "id": "8wMxGcFC-Mpz",
        "outputId": "f90a48b6-a09a-4efe-8c1a-084411be7456"
      },
      "outputs": [
        {
          "name": "stdout",
          "output_type": "stream",
          "text": [
            "<class 'pandas.core.frame.DataFrame'>\n",
            "RangeIndex: 16715 entries, 0 to 16714\n",
            "Data columns (total 11 columns):\n",
            " #   Column           Non-Null Count  Dtype  \n",
            "---  ------           --------------  -----  \n",
            " 0   Name             16713 non-null  object \n",
            " 1   Platform         16715 non-null  object \n",
            " 2   Year_of_Release  16446 non-null  float64\n",
            " 3   Genre            16713 non-null  object \n",
            " 4   NA_sales         16715 non-null  float64\n",
            " 5   EU_sales         16715 non-null  float64\n",
            " 6   JP_sales         16715 non-null  float64\n",
            " 7   Other_sales      16715 non-null  float64\n",
            " 8   Critic_Score     8137 non-null   float64\n",
            " 9   User_Score       10014 non-null  object \n",
            " 10  Rating           9949 non-null   object \n",
            "dtypes: float64(6), object(5)\n",
            "memory usage: 1.4+ MB\n"
          ]
        }
      ],
      "source": [
        "#Посмотрим общую инфу\n",
        "data.info()"
      ]
    },
    {
      "cell_type": "code",
      "execution_count": null,
      "metadata": {
        "id": "P7O_VfeF-Mp0",
        "outputId": "7d501a70-f315-491e-b8e6-8742898b6c68"
      },
      "outputs": [
        {
          "data": {
            "text/html": [
              "<div>\n",
              "<style scoped>\n",
              "    .dataframe tbody tr th:only-of-type {\n",
              "        vertical-align: middle;\n",
              "    }\n",
              "\n",
              "    .dataframe tbody tr th {\n",
              "        vertical-align: top;\n",
              "    }\n",
              "\n",
              "    .dataframe thead th {\n",
              "        text-align: right;\n",
              "    }\n",
              "</style>\n",
              "<table border=\"1\" class=\"dataframe\">\n",
              "  <thead>\n",
              "    <tr style=\"text-align: right;\">\n",
              "      <th></th>\n",
              "      <th>Name</th>\n",
              "      <th>Platform</th>\n",
              "      <th>Year_of_Release</th>\n",
              "      <th>Genre</th>\n",
              "      <th>NA_sales</th>\n",
              "      <th>EU_sales</th>\n",
              "      <th>JP_sales</th>\n",
              "      <th>Other_sales</th>\n",
              "      <th>Critic_Score</th>\n",
              "      <th>User_Score</th>\n",
              "      <th>Rating</th>\n",
              "    </tr>\n",
              "  </thead>\n",
              "  <tbody>\n",
              "    <tr>\n",
              "      <th>0</th>\n",
              "      <td>Wii Sports</td>\n",
              "      <td>Wii</td>\n",
              "      <td>2006.0</td>\n",
              "      <td>Sports</td>\n",
              "      <td>41.36</td>\n",
              "      <td>28.96</td>\n",
              "      <td>3.77</td>\n",
              "      <td>8.45</td>\n",
              "      <td>76.0</td>\n",
              "      <td>8</td>\n",
              "      <td>E</td>\n",
              "    </tr>\n",
              "    <tr>\n",
              "      <th>1</th>\n",
              "      <td>Super Mario Bros.</td>\n",
              "      <td>NES</td>\n",
              "      <td>1985.0</td>\n",
              "      <td>Platform</td>\n",
              "      <td>29.08</td>\n",
              "      <td>3.58</td>\n",
              "      <td>6.81</td>\n",
              "      <td>0.77</td>\n",
              "      <td>NaN</td>\n",
              "      <td>NaN</td>\n",
              "      <td>NaN</td>\n",
              "    </tr>\n",
              "    <tr>\n",
              "      <th>2</th>\n",
              "      <td>Mario Kart Wii</td>\n",
              "      <td>Wii</td>\n",
              "      <td>2008.0</td>\n",
              "      <td>Racing</td>\n",
              "      <td>15.68</td>\n",
              "      <td>12.76</td>\n",
              "      <td>3.79</td>\n",
              "      <td>3.29</td>\n",
              "      <td>82.0</td>\n",
              "      <td>8.3</td>\n",
              "      <td>E</td>\n",
              "    </tr>\n",
              "    <tr>\n",
              "      <th>3</th>\n",
              "      <td>Wii Sports Resort</td>\n",
              "      <td>Wii</td>\n",
              "      <td>2009.0</td>\n",
              "      <td>Sports</td>\n",
              "      <td>15.61</td>\n",
              "      <td>10.93</td>\n",
              "      <td>3.28</td>\n",
              "      <td>2.95</td>\n",
              "      <td>80.0</td>\n",
              "      <td>8</td>\n",
              "      <td>E</td>\n",
              "    </tr>\n",
              "    <tr>\n",
              "      <th>4</th>\n",
              "      <td>Pokemon Red/Pokemon Blue</td>\n",
              "      <td>GB</td>\n",
              "      <td>1996.0</td>\n",
              "      <td>Role-Playing</td>\n",
              "      <td>11.27</td>\n",
              "      <td>8.89</td>\n",
              "      <td>10.22</td>\n",
              "      <td>1.00</td>\n",
              "      <td>NaN</td>\n",
              "      <td>NaN</td>\n",
              "      <td>NaN</td>\n",
              "    </tr>\n",
              "  </tbody>\n",
              "</table>\n",
              "</div>"
            ],
            "text/plain": [
              "                       Name Platform  Year_of_Release         Genre  NA_sales  \\\n",
              "0                Wii Sports      Wii           2006.0        Sports     41.36   \n",
              "1         Super Mario Bros.      NES           1985.0      Platform     29.08   \n",
              "2            Mario Kart Wii      Wii           2008.0        Racing     15.68   \n",
              "3         Wii Sports Resort      Wii           2009.0        Sports     15.61   \n",
              "4  Pokemon Red/Pokemon Blue       GB           1996.0  Role-Playing     11.27   \n",
              "\n",
              "   EU_sales  JP_sales  Other_sales  Critic_Score User_Score Rating  \n",
              "0     28.96      3.77         8.45          76.0          8      E  \n",
              "1      3.58      6.81         0.77           NaN        NaN    NaN  \n",
              "2     12.76      3.79         3.29          82.0        8.3      E  \n",
              "3     10.93      3.28         2.95          80.0          8      E  \n",
              "4      8.89     10.22         1.00           NaN        NaN    NaN  "
            ]
          },
          "execution_count": 4,
          "metadata": {},
          "output_type": "execute_result"
        }
      ],
      "source": [
        "#Посмотрим первые 5 строк таблицы\n",
        "data.head()"
      ]
    },
    {
      "cell_type": "code",
      "execution_count": null,
      "metadata": {
        "id": "XhE5UIv8-Mp0",
        "outputId": "d58001e3-a395-4ab3-8dcc-865889665557"
      },
      "outputs": [
        {
          "data": {
            "text/html": [
              "<div>\n",
              "<style scoped>\n",
              "    .dataframe tbody tr th:only-of-type {\n",
              "        vertical-align: middle;\n",
              "    }\n",
              "\n",
              "    .dataframe tbody tr th {\n",
              "        vertical-align: top;\n",
              "    }\n",
              "\n",
              "    .dataframe thead th {\n",
              "        text-align: right;\n",
              "    }\n",
              "</style>\n",
              "<table border=\"1\" class=\"dataframe\">\n",
              "  <thead>\n",
              "    <tr style=\"text-align: right;\">\n",
              "      <th></th>\n",
              "      <th>Name</th>\n",
              "      <th>Platform</th>\n",
              "      <th>Year_of_Release</th>\n",
              "      <th>Genre</th>\n",
              "      <th>NA_sales</th>\n",
              "      <th>EU_sales</th>\n",
              "      <th>JP_sales</th>\n",
              "      <th>Other_sales</th>\n",
              "      <th>Critic_Score</th>\n",
              "      <th>User_Score</th>\n",
              "      <th>Rating</th>\n",
              "    </tr>\n",
              "  </thead>\n",
              "  <tbody>\n",
              "    <tr>\n",
              "      <th>16710</th>\n",
              "      <td>Samurai Warriors: Sanada Maru</td>\n",
              "      <td>PS3</td>\n",
              "      <td>2016.0</td>\n",
              "      <td>Action</td>\n",
              "      <td>0.00</td>\n",
              "      <td>0.00</td>\n",
              "      <td>0.01</td>\n",
              "      <td>0.0</td>\n",
              "      <td>NaN</td>\n",
              "      <td>NaN</td>\n",
              "      <td>NaN</td>\n",
              "    </tr>\n",
              "    <tr>\n",
              "      <th>16711</th>\n",
              "      <td>LMA Manager 2007</td>\n",
              "      <td>X360</td>\n",
              "      <td>2006.0</td>\n",
              "      <td>Sports</td>\n",
              "      <td>0.00</td>\n",
              "      <td>0.01</td>\n",
              "      <td>0.00</td>\n",
              "      <td>0.0</td>\n",
              "      <td>NaN</td>\n",
              "      <td>NaN</td>\n",
              "      <td>NaN</td>\n",
              "    </tr>\n",
              "    <tr>\n",
              "      <th>16712</th>\n",
              "      <td>Haitaka no Psychedelica</td>\n",
              "      <td>PSV</td>\n",
              "      <td>2016.0</td>\n",
              "      <td>Adventure</td>\n",
              "      <td>0.00</td>\n",
              "      <td>0.00</td>\n",
              "      <td>0.01</td>\n",
              "      <td>0.0</td>\n",
              "      <td>NaN</td>\n",
              "      <td>NaN</td>\n",
              "      <td>NaN</td>\n",
              "    </tr>\n",
              "    <tr>\n",
              "      <th>16713</th>\n",
              "      <td>Spirits &amp; Spells</td>\n",
              "      <td>GBA</td>\n",
              "      <td>2003.0</td>\n",
              "      <td>Platform</td>\n",
              "      <td>0.01</td>\n",
              "      <td>0.00</td>\n",
              "      <td>0.00</td>\n",
              "      <td>0.0</td>\n",
              "      <td>NaN</td>\n",
              "      <td>NaN</td>\n",
              "      <td>NaN</td>\n",
              "    </tr>\n",
              "    <tr>\n",
              "      <th>16714</th>\n",
              "      <td>Winning Post 8 2016</td>\n",
              "      <td>PSV</td>\n",
              "      <td>2016.0</td>\n",
              "      <td>Simulation</td>\n",
              "      <td>0.00</td>\n",
              "      <td>0.00</td>\n",
              "      <td>0.01</td>\n",
              "      <td>0.0</td>\n",
              "      <td>NaN</td>\n",
              "      <td>NaN</td>\n",
              "      <td>NaN</td>\n",
              "    </tr>\n",
              "  </tbody>\n",
              "</table>\n",
              "</div>"
            ],
            "text/plain": [
              "                                Name Platform  Year_of_Release       Genre  \\\n",
              "16710  Samurai Warriors: Sanada Maru      PS3           2016.0      Action   \n",
              "16711               LMA Manager 2007     X360           2006.0      Sports   \n",
              "16712        Haitaka no Psychedelica      PSV           2016.0   Adventure   \n",
              "16713               Spirits & Spells      GBA           2003.0    Platform   \n",
              "16714            Winning Post 8 2016      PSV           2016.0  Simulation   \n",
              "\n",
              "       NA_sales  EU_sales  JP_sales  Other_sales  Critic_Score User_Score  \\\n",
              "16710      0.00      0.00      0.01          0.0           NaN        NaN   \n",
              "16711      0.00      0.01      0.00          0.0           NaN        NaN   \n",
              "16712      0.00      0.00      0.01          0.0           NaN        NaN   \n",
              "16713      0.01      0.00      0.00          0.0           NaN        NaN   \n",
              "16714      0.00      0.00      0.01          0.0           NaN        NaN   \n",
              "\n",
              "      Rating  \n",
              "16710    NaN  \n",
              "16711    NaN  \n",
              "16712    NaN  \n",
              "16713    NaN  \n",
              "16714    NaN  "
            ]
          },
          "execution_count": 5,
          "metadata": {},
          "output_type": "execute_result"
        }
      ],
      "source": [
        "#Посмотрим последние 5 строк таблицы\n",
        "data.tail()"
      ]
    },
    {
      "cell_type": "code",
      "execution_count": null,
      "metadata": {
        "id": "LB4vjCHn-Mp0",
        "outputId": "f89ee39f-f3c4-443e-a76d-209c7ef998c9"
      },
      "outputs": [
        {
          "data": {
            "text/plain": [
              "0"
            ]
          },
          "execution_count": 6,
          "metadata": {},
          "output_type": "execute_result"
        }
      ],
      "source": [
        "#Посчитаем количество дубликатов\n",
        "data.duplicated().sum()"
      ]
    },
    {
      "cell_type": "markdown",
      "metadata": {
        "id": "ttCI6x3Q-Mp0"
      },
      "source": [
        "<div class=\"alert alert-success\">\n",
        "<b>Комментарий ревьюера v.1</b>\n",
        "    \n",
        "👍\n",
        "Молодец, что не забываешь про явные дубликаты.\n",
        "</div>"
      ]
    },
    {
      "cell_type": "code",
      "execution_count": null,
      "metadata": {
        "id": "KaG4qtsd-Mp0",
        "outputId": "2e96f103-609a-4f76-cd6e-29c14c5baf4a"
      },
      "outputs": [
        {
          "data": {
            "text/plain": [
              "Name                  2\n",
              "Platform              0\n",
              "Year_of_Release     269\n",
              "Genre                 2\n",
              "NA_sales              0\n",
              "EU_sales              0\n",
              "JP_sales              0\n",
              "Other_sales           0\n",
              "Critic_Score       8578\n",
              "User_Score         6701\n",
              "Rating             6766\n",
              "dtype: int64"
            ]
          },
          "execution_count": 7,
          "metadata": {},
          "output_type": "execute_result"
        }
      ],
      "source": [
        "#Посчитаем количество пустых значений\n",
        "data.isna().sum()"
      ]
    },
    {
      "cell_type": "markdown",
      "metadata": {
        "id": "_xJLl6hF-Mp0"
      },
      "source": [
        "<div class=\"alert alert-warning\">\n",
        "<b>Комментарий ревьюера v.1</b>\n",
        "    \n",
        "📝\n",
        "Также мы можем посмотреть долю пропусков, и на основании этого принять решение о удалении, замене либо игнорировании пропусков, например: `pd.DataFrame(round(df.isna().mean()*100,1)).style.background_gradient('coolwarm')`\n",
        "</div>"
      ]
    },
    {
      "cell_type": "code",
      "execution_count": null,
      "metadata": {
        "id": "_RRO-7bs-Mp0",
        "outputId": "f86ec335-f2ce-4ebc-8f34-1ceb77c96276"
      },
      "outputs": [
        {
          "data": {
            "text/plain": [
              "Index(['Name', 'Platform', 'Year_of_Release', 'Genre', 'NA_sales', 'EU_sales',\n",
              "       'JP_sales', 'Other_sales', 'Critic_Score', 'User_Score', 'Rating'],\n",
              "      dtype='object')"
            ]
          },
          "execution_count": 8,
          "metadata": {},
          "output_type": "execute_result"
        }
      ],
      "source": [
        "#Посмотрим какие столбцы у нас имеются и все ли с ними впорядке\n",
        "data.columns"
      ]
    },
    {
      "cell_type": "code",
      "execution_count": null,
      "metadata": {
        "id": "kWbOBy-n-Mp1",
        "outputId": "e7faa12c-63db-4768-f76a-2dd89b8b1c79"
      },
      "outputs": [
        {
          "data": {
            "text/html": [
              "<div>\n",
              "<style scoped>\n",
              "    .dataframe tbody tr th:only-of-type {\n",
              "        vertical-align: middle;\n",
              "    }\n",
              "\n",
              "    .dataframe tbody tr th {\n",
              "        vertical-align: top;\n",
              "    }\n",
              "\n",
              "    .dataframe thead th {\n",
              "        text-align: right;\n",
              "    }\n",
              "</style>\n",
              "<table border=\"1\" class=\"dataframe\">\n",
              "  <thead>\n",
              "    <tr style=\"text-align: right;\">\n",
              "      <th></th>\n",
              "      <th>Name</th>\n",
              "      <th>Platform</th>\n",
              "      <th>Year_of_Release</th>\n",
              "      <th>Genre</th>\n",
              "      <th>NA_sales</th>\n",
              "      <th>EU_sales</th>\n",
              "      <th>JP_sales</th>\n",
              "      <th>Other_sales</th>\n",
              "      <th>Critic_Score</th>\n",
              "      <th>User_Score</th>\n",
              "      <th>Rating</th>\n",
              "    </tr>\n",
              "  </thead>\n",
              "  <tbody>\n",
              "    <tr>\n",
              "      <th>183</th>\n",
              "      <td>Madden NFL 2004</td>\n",
              "      <td>PS2</td>\n",
              "      <td>NaN</td>\n",
              "      <td>Sports</td>\n",
              "      <td>4.26</td>\n",
              "      <td>0.26</td>\n",
              "      <td>0.01</td>\n",
              "      <td>0.71</td>\n",
              "      <td>94.0</td>\n",
              "      <td>8.5</td>\n",
              "      <td>E</td>\n",
              "    </tr>\n",
              "    <tr>\n",
              "      <th>377</th>\n",
              "      <td>FIFA Soccer 2004</td>\n",
              "      <td>PS2</td>\n",
              "      <td>NaN</td>\n",
              "      <td>Sports</td>\n",
              "      <td>0.59</td>\n",
              "      <td>2.36</td>\n",
              "      <td>0.04</td>\n",
              "      <td>0.51</td>\n",
              "      <td>84.0</td>\n",
              "      <td>6.4</td>\n",
              "      <td>E</td>\n",
              "    </tr>\n",
              "    <tr>\n",
              "      <th>456</th>\n",
              "      <td>LEGO Batman: The Videogame</td>\n",
              "      <td>Wii</td>\n",
              "      <td>NaN</td>\n",
              "      <td>Action</td>\n",
              "      <td>1.80</td>\n",
              "      <td>0.97</td>\n",
              "      <td>0.00</td>\n",
              "      <td>0.29</td>\n",
              "      <td>74.0</td>\n",
              "      <td>7.9</td>\n",
              "      <td>E10+</td>\n",
              "    </tr>\n",
              "    <tr>\n",
              "      <th>475</th>\n",
              "      <td>wwe Smackdown vs. Raw 2006</td>\n",
              "      <td>PS2</td>\n",
              "      <td>NaN</td>\n",
              "      <td>Fighting</td>\n",
              "      <td>1.57</td>\n",
              "      <td>1.02</td>\n",
              "      <td>0.00</td>\n",
              "      <td>0.41</td>\n",
              "      <td>NaN</td>\n",
              "      <td>NaN</td>\n",
              "      <td>NaN</td>\n",
              "    </tr>\n",
              "    <tr>\n",
              "      <th>609</th>\n",
              "      <td>Space Invaders</td>\n",
              "      <td>2600</td>\n",
              "      <td>NaN</td>\n",
              "      <td>Shooter</td>\n",
              "      <td>2.36</td>\n",
              "      <td>0.14</td>\n",
              "      <td>0.00</td>\n",
              "      <td>0.03</td>\n",
              "      <td>NaN</td>\n",
              "      <td>NaN</td>\n",
              "      <td>NaN</td>\n",
              "    </tr>\n",
              "    <tr>\n",
              "      <th>...</th>\n",
              "      <td>...</td>\n",
              "      <td>...</td>\n",
              "      <td>...</td>\n",
              "      <td>...</td>\n",
              "      <td>...</td>\n",
              "      <td>...</td>\n",
              "      <td>...</td>\n",
              "      <td>...</td>\n",
              "      <td>...</td>\n",
              "      <td>...</td>\n",
              "      <td>...</td>\n",
              "    </tr>\n",
              "    <tr>\n",
              "      <th>16373</th>\n",
              "      <td>PDC World Championship Darts 2008</td>\n",
              "      <td>PSP</td>\n",
              "      <td>NaN</td>\n",
              "      <td>Sports</td>\n",
              "      <td>0.01</td>\n",
              "      <td>0.00</td>\n",
              "      <td>0.00</td>\n",
              "      <td>0.00</td>\n",
              "      <td>43.0</td>\n",
              "      <td>tbd</td>\n",
              "      <td>E10+</td>\n",
              "    </tr>\n",
              "    <tr>\n",
              "      <th>16405</th>\n",
              "      <td>Freaky Flyers</td>\n",
              "      <td>GC</td>\n",
              "      <td>NaN</td>\n",
              "      <td>Racing</td>\n",
              "      <td>0.01</td>\n",
              "      <td>0.00</td>\n",
              "      <td>0.00</td>\n",
              "      <td>0.00</td>\n",
              "      <td>69.0</td>\n",
              "      <td>6.5</td>\n",
              "      <td>T</td>\n",
              "    </tr>\n",
              "    <tr>\n",
              "      <th>16448</th>\n",
              "      <td>Inversion</td>\n",
              "      <td>PC</td>\n",
              "      <td>NaN</td>\n",
              "      <td>Shooter</td>\n",
              "      <td>0.01</td>\n",
              "      <td>0.00</td>\n",
              "      <td>0.00</td>\n",
              "      <td>0.00</td>\n",
              "      <td>59.0</td>\n",
              "      <td>6.7</td>\n",
              "      <td>M</td>\n",
              "    </tr>\n",
              "    <tr>\n",
              "      <th>16458</th>\n",
              "      <td>Hakuouki: Shinsengumi Kitan</td>\n",
              "      <td>PS3</td>\n",
              "      <td>NaN</td>\n",
              "      <td>Adventure</td>\n",
              "      <td>0.01</td>\n",
              "      <td>0.00</td>\n",
              "      <td>0.00</td>\n",
              "      <td>0.00</td>\n",
              "      <td>NaN</td>\n",
              "      <td>NaN</td>\n",
              "      <td>NaN</td>\n",
              "    </tr>\n",
              "    <tr>\n",
              "      <th>16522</th>\n",
              "      <td>Virtua Quest</td>\n",
              "      <td>GC</td>\n",
              "      <td>NaN</td>\n",
              "      <td>Role-Playing</td>\n",
              "      <td>0.01</td>\n",
              "      <td>0.00</td>\n",
              "      <td>0.00</td>\n",
              "      <td>0.00</td>\n",
              "      <td>55.0</td>\n",
              "      <td>5.5</td>\n",
              "      <td>T</td>\n",
              "    </tr>\n",
              "  </tbody>\n",
              "</table>\n",
              "<p>269 rows × 11 columns</p>\n",
              "</div>"
            ],
            "text/plain": [
              "                                    Name Platform  Year_of_Release  \\\n",
              "183                      Madden NFL 2004      PS2              NaN   \n",
              "377                     FIFA Soccer 2004      PS2              NaN   \n",
              "456           LEGO Batman: The Videogame      Wii              NaN   \n",
              "475           wwe Smackdown vs. Raw 2006      PS2              NaN   \n",
              "609                       Space Invaders     2600              NaN   \n",
              "...                                  ...      ...              ...   \n",
              "16373  PDC World Championship Darts 2008      PSP              NaN   \n",
              "16405                      Freaky Flyers       GC              NaN   \n",
              "16448                          Inversion       PC              NaN   \n",
              "16458        Hakuouki: Shinsengumi Kitan      PS3              NaN   \n",
              "16522                       Virtua Quest       GC              NaN   \n",
              "\n",
              "              Genre  NA_sales  EU_sales  JP_sales  Other_sales  Critic_Score  \\\n",
              "183          Sports      4.26      0.26      0.01         0.71          94.0   \n",
              "377          Sports      0.59      2.36      0.04         0.51          84.0   \n",
              "456          Action      1.80      0.97      0.00         0.29          74.0   \n",
              "475        Fighting      1.57      1.02      0.00         0.41           NaN   \n",
              "609         Shooter      2.36      0.14      0.00         0.03           NaN   \n",
              "...             ...       ...       ...       ...          ...           ...   \n",
              "16373        Sports      0.01      0.00      0.00         0.00          43.0   \n",
              "16405        Racing      0.01      0.00      0.00         0.00          69.0   \n",
              "16448       Shooter      0.01      0.00      0.00         0.00          59.0   \n",
              "16458     Adventure      0.01      0.00      0.00         0.00           NaN   \n",
              "16522  Role-Playing      0.01      0.00      0.00         0.00          55.0   \n",
              "\n",
              "      User_Score Rating  \n",
              "183          8.5      E  \n",
              "377          6.4      E  \n",
              "456          7.9   E10+  \n",
              "475          NaN    NaN  \n",
              "609          NaN    NaN  \n",
              "...          ...    ...  \n",
              "16373        tbd   E10+  \n",
              "16405        6.5      T  \n",
              "16448        6.7      M  \n",
              "16458        NaN    NaN  \n",
              "16522        5.5      T  \n",
              "\n",
              "[269 rows x 11 columns]"
            ]
          },
          "execution_count": 9,
          "metadata": {},
          "output_type": "execute_result"
        }
      ],
      "source": [
        "#Посмотрим на таблицу, где имеются пустые значения в столбце year_of_release\n",
        "data[data['Year_of_Release'].isna()]"
      ]
    },
    {
      "cell_type": "code",
      "execution_count": null,
      "metadata": {
        "id": "LItS4vS9-Mp1",
        "outputId": "5aa9a374-d501-43fc-adf7-a5234fb61568"
      },
      "outputs": [
        {
          "data": {
            "text/html": [
              "<div>\n",
              "<style scoped>\n",
              "    .dataframe tbody tr th:only-of-type {\n",
              "        vertical-align: middle;\n",
              "    }\n",
              "\n",
              "    .dataframe tbody tr th {\n",
              "        vertical-align: top;\n",
              "    }\n",
              "\n",
              "    .dataframe thead th {\n",
              "        text-align: right;\n",
              "    }\n",
              "</style>\n",
              "<table border=\"1\" class=\"dataframe\">\n",
              "  <thead>\n",
              "    <tr style=\"text-align: right;\">\n",
              "      <th></th>\n",
              "      <th>Name</th>\n",
              "      <th>Platform</th>\n",
              "      <th>Year_of_Release</th>\n",
              "      <th>Genre</th>\n",
              "      <th>NA_sales</th>\n",
              "      <th>EU_sales</th>\n",
              "      <th>JP_sales</th>\n",
              "      <th>Other_sales</th>\n",
              "      <th>Critic_Score</th>\n",
              "      <th>User_Score</th>\n",
              "      <th>Rating</th>\n",
              "    </tr>\n",
              "  </thead>\n",
              "  <tbody>\n",
              "    <tr>\n",
              "      <th>1</th>\n",
              "      <td>Super Mario Bros.</td>\n",
              "      <td>NES</td>\n",
              "      <td>1985.0</td>\n",
              "      <td>Platform</td>\n",
              "      <td>29.08</td>\n",
              "      <td>3.58</td>\n",
              "      <td>6.81</td>\n",
              "      <td>0.77</td>\n",
              "      <td>NaN</td>\n",
              "      <td>NaN</td>\n",
              "      <td>NaN</td>\n",
              "    </tr>\n",
              "    <tr>\n",
              "      <th>4</th>\n",
              "      <td>Pokemon Red/Pokemon Blue</td>\n",
              "      <td>GB</td>\n",
              "      <td>1996.0</td>\n",
              "      <td>Role-Playing</td>\n",
              "      <td>11.27</td>\n",
              "      <td>8.89</td>\n",
              "      <td>10.22</td>\n",
              "      <td>1.00</td>\n",
              "      <td>NaN</td>\n",
              "      <td>NaN</td>\n",
              "      <td>NaN</td>\n",
              "    </tr>\n",
              "    <tr>\n",
              "      <th>5</th>\n",
              "      <td>Tetris</td>\n",
              "      <td>GB</td>\n",
              "      <td>1989.0</td>\n",
              "      <td>Puzzle</td>\n",
              "      <td>23.20</td>\n",
              "      <td>2.26</td>\n",
              "      <td>4.22</td>\n",
              "      <td>0.58</td>\n",
              "      <td>NaN</td>\n",
              "      <td>NaN</td>\n",
              "      <td>NaN</td>\n",
              "    </tr>\n",
              "    <tr>\n",
              "      <th>9</th>\n",
              "      <td>Duck Hunt</td>\n",
              "      <td>NES</td>\n",
              "      <td>1984.0</td>\n",
              "      <td>Shooter</td>\n",
              "      <td>26.93</td>\n",
              "      <td>0.63</td>\n",
              "      <td>0.28</td>\n",
              "      <td>0.47</td>\n",
              "      <td>NaN</td>\n",
              "      <td>NaN</td>\n",
              "      <td>NaN</td>\n",
              "    </tr>\n",
              "    <tr>\n",
              "      <th>10</th>\n",
              "      <td>Nintendogs</td>\n",
              "      <td>DS</td>\n",
              "      <td>2005.0</td>\n",
              "      <td>Simulation</td>\n",
              "      <td>9.05</td>\n",
              "      <td>10.95</td>\n",
              "      <td>1.93</td>\n",
              "      <td>2.74</td>\n",
              "      <td>NaN</td>\n",
              "      <td>NaN</td>\n",
              "      <td>NaN</td>\n",
              "    </tr>\n",
              "    <tr>\n",
              "      <th>...</th>\n",
              "      <td>...</td>\n",
              "      <td>...</td>\n",
              "      <td>...</td>\n",
              "      <td>...</td>\n",
              "      <td>...</td>\n",
              "      <td>...</td>\n",
              "      <td>...</td>\n",
              "      <td>...</td>\n",
              "      <td>...</td>\n",
              "      <td>...</td>\n",
              "      <td>...</td>\n",
              "    </tr>\n",
              "    <tr>\n",
              "      <th>16710</th>\n",
              "      <td>Samurai Warriors: Sanada Maru</td>\n",
              "      <td>PS3</td>\n",
              "      <td>2016.0</td>\n",
              "      <td>Action</td>\n",
              "      <td>0.00</td>\n",
              "      <td>0.00</td>\n",
              "      <td>0.01</td>\n",
              "      <td>0.00</td>\n",
              "      <td>NaN</td>\n",
              "      <td>NaN</td>\n",
              "      <td>NaN</td>\n",
              "    </tr>\n",
              "    <tr>\n",
              "      <th>16711</th>\n",
              "      <td>LMA Manager 2007</td>\n",
              "      <td>X360</td>\n",
              "      <td>2006.0</td>\n",
              "      <td>Sports</td>\n",
              "      <td>0.00</td>\n",
              "      <td>0.01</td>\n",
              "      <td>0.00</td>\n",
              "      <td>0.00</td>\n",
              "      <td>NaN</td>\n",
              "      <td>NaN</td>\n",
              "      <td>NaN</td>\n",
              "    </tr>\n",
              "    <tr>\n",
              "      <th>16712</th>\n",
              "      <td>Haitaka no Psychedelica</td>\n",
              "      <td>PSV</td>\n",
              "      <td>2016.0</td>\n",
              "      <td>Adventure</td>\n",
              "      <td>0.00</td>\n",
              "      <td>0.00</td>\n",
              "      <td>0.01</td>\n",
              "      <td>0.00</td>\n",
              "      <td>NaN</td>\n",
              "      <td>NaN</td>\n",
              "      <td>NaN</td>\n",
              "    </tr>\n",
              "    <tr>\n",
              "      <th>16713</th>\n",
              "      <td>Spirits &amp; Spells</td>\n",
              "      <td>GBA</td>\n",
              "      <td>2003.0</td>\n",
              "      <td>Platform</td>\n",
              "      <td>0.01</td>\n",
              "      <td>0.00</td>\n",
              "      <td>0.00</td>\n",
              "      <td>0.00</td>\n",
              "      <td>NaN</td>\n",
              "      <td>NaN</td>\n",
              "      <td>NaN</td>\n",
              "    </tr>\n",
              "    <tr>\n",
              "      <th>16714</th>\n",
              "      <td>Winning Post 8 2016</td>\n",
              "      <td>PSV</td>\n",
              "      <td>2016.0</td>\n",
              "      <td>Simulation</td>\n",
              "      <td>0.00</td>\n",
              "      <td>0.00</td>\n",
              "      <td>0.01</td>\n",
              "      <td>0.00</td>\n",
              "      <td>NaN</td>\n",
              "      <td>NaN</td>\n",
              "      <td>NaN</td>\n",
              "    </tr>\n",
              "  </tbody>\n",
              "</table>\n",
              "<p>6766 rows × 11 columns</p>\n",
              "</div>"
            ],
            "text/plain": [
              "                                Name Platform  Year_of_Release         Genre  \\\n",
              "1                  Super Mario Bros.      NES           1985.0      Platform   \n",
              "4           Pokemon Red/Pokemon Blue       GB           1996.0  Role-Playing   \n",
              "5                             Tetris       GB           1989.0        Puzzle   \n",
              "9                          Duck Hunt      NES           1984.0       Shooter   \n",
              "10                        Nintendogs       DS           2005.0    Simulation   \n",
              "...                              ...      ...              ...           ...   \n",
              "16710  Samurai Warriors: Sanada Maru      PS3           2016.0        Action   \n",
              "16711               LMA Manager 2007     X360           2006.0        Sports   \n",
              "16712        Haitaka no Psychedelica      PSV           2016.0     Adventure   \n",
              "16713               Spirits & Spells      GBA           2003.0      Platform   \n",
              "16714            Winning Post 8 2016      PSV           2016.0    Simulation   \n",
              "\n",
              "       NA_sales  EU_sales  JP_sales  Other_sales  Critic_Score User_Score  \\\n",
              "1         29.08      3.58      6.81         0.77           NaN        NaN   \n",
              "4         11.27      8.89     10.22         1.00           NaN        NaN   \n",
              "5         23.20      2.26      4.22         0.58           NaN        NaN   \n",
              "9         26.93      0.63      0.28         0.47           NaN        NaN   \n",
              "10         9.05     10.95      1.93         2.74           NaN        NaN   \n",
              "...         ...       ...       ...          ...           ...        ...   \n",
              "16710      0.00      0.00      0.01         0.00           NaN        NaN   \n",
              "16711      0.00      0.01      0.00         0.00           NaN        NaN   \n",
              "16712      0.00      0.00      0.01         0.00           NaN        NaN   \n",
              "16713      0.01      0.00      0.00         0.00           NaN        NaN   \n",
              "16714      0.00      0.00      0.01         0.00           NaN        NaN   \n",
              "\n",
              "      Rating  \n",
              "1        NaN  \n",
              "4        NaN  \n",
              "5        NaN  \n",
              "9        NaN  \n",
              "10       NaN  \n",
              "...      ...  \n",
              "16710    NaN  \n",
              "16711    NaN  \n",
              "16712    NaN  \n",
              "16713    NaN  \n",
              "16714    NaN  \n",
              "\n",
              "[6766 rows x 11 columns]"
            ]
          },
          "execution_count": 10,
          "metadata": {},
          "output_type": "execute_result"
        }
      ],
      "source": [
        "#Посмотрим на таблицу, где имеются пустые значения в столбце rating\n",
        "data[data['Rating'].isna()]"
      ]
    },
    {
      "cell_type": "code",
      "execution_count": null,
      "metadata": {
        "id": "jdlAWNQV-Mp1",
        "outputId": "35c076a6-8125-4c14-c49b-199f7cb630ac"
      },
      "outputs": [
        {
          "data": {
            "text/html": [
              "<div>\n",
              "<style scoped>\n",
              "    .dataframe tbody tr th:only-of-type {\n",
              "        vertical-align: middle;\n",
              "    }\n",
              "\n",
              "    .dataframe tbody tr th {\n",
              "        vertical-align: top;\n",
              "    }\n",
              "\n",
              "    .dataframe thead th {\n",
              "        text-align: right;\n",
              "    }\n",
              "</style>\n",
              "<table border=\"1\" class=\"dataframe\">\n",
              "  <thead>\n",
              "    <tr style=\"text-align: right;\">\n",
              "      <th></th>\n",
              "      <th>Name</th>\n",
              "      <th>Platform</th>\n",
              "      <th>Year_of_Release</th>\n",
              "      <th>Genre</th>\n",
              "      <th>NA_sales</th>\n",
              "      <th>EU_sales</th>\n",
              "      <th>JP_sales</th>\n",
              "      <th>Other_sales</th>\n",
              "      <th>Critic_Score</th>\n",
              "      <th>User_Score</th>\n",
              "      <th>Rating</th>\n",
              "    </tr>\n",
              "  </thead>\n",
              "  <tbody>\n",
              "    <tr>\n",
              "      <th>1</th>\n",
              "      <td>Super Mario Bros.</td>\n",
              "      <td>NES</td>\n",
              "      <td>1985.0</td>\n",
              "      <td>Platform</td>\n",
              "      <td>29.08</td>\n",
              "      <td>3.58</td>\n",
              "      <td>6.81</td>\n",
              "      <td>0.77</td>\n",
              "      <td>NaN</td>\n",
              "      <td>NaN</td>\n",
              "      <td>NaN</td>\n",
              "    </tr>\n",
              "    <tr>\n",
              "      <th>4</th>\n",
              "      <td>Pokemon Red/Pokemon Blue</td>\n",
              "      <td>GB</td>\n",
              "      <td>1996.0</td>\n",
              "      <td>Role-Playing</td>\n",
              "      <td>11.27</td>\n",
              "      <td>8.89</td>\n",
              "      <td>10.22</td>\n",
              "      <td>1.00</td>\n",
              "      <td>NaN</td>\n",
              "      <td>NaN</td>\n",
              "      <td>NaN</td>\n",
              "    </tr>\n",
              "    <tr>\n",
              "      <th>5</th>\n",
              "      <td>Tetris</td>\n",
              "      <td>GB</td>\n",
              "      <td>1989.0</td>\n",
              "      <td>Puzzle</td>\n",
              "      <td>23.20</td>\n",
              "      <td>2.26</td>\n",
              "      <td>4.22</td>\n",
              "      <td>0.58</td>\n",
              "      <td>NaN</td>\n",
              "      <td>NaN</td>\n",
              "      <td>NaN</td>\n",
              "    </tr>\n",
              "    <tr>\n",
              "      <th>9</th>\n",
              "      <td>Duck Hunt</td>\n",
              "      <td>NES</td>\n",
              "      <td>1984.0</td>\n",
              "      <td>Shooter</td>\n",
              "      <td>26.93</td>\n",
              "      <td>0.63</td>\n",
              "      <td>0.28</td>\n",
              "      <td>0.47</td>\n",
              "      <td>NaN</td>\n",
              "      <td>NaN</td>\n",
              "      <td>NaN</td>\n",
              "    </tr>\n",
              "    <tr>\n",
              "      <th>10</th>\n",
              "      <td>Nintendogs</td>\n",
              "      <td>DS</td>\n",
              "      <td>2005.0</td>\n",
              "      <td>Simulation</td>\n",
              "      <td>9.05</td>\n",
              "      <td>10.95</td>\n",
              "      <td>1.93</td>\n",
              "      <td>2.74</td>\n",
              "      <td>NaN</td>\n",
              "      <td>NaN</td>\n",
              "      <td>NaN</td>\n",
              "    </tr>\n",
              "    <tr>\n",
              "      <th>...</th>\n",
              "      <td>...</td>\n",
              "      <td>...</td>\n",
              "      <td>...</td>\n",
              "      <td>...</td>\n",
              "      <td>...</td>\n",
              "      <td>...</td>\n",
              "      <td>...</td>\n",
              "      <td>...</td>\n",
              "      <td>...</td>\n",
              "      <td>...</td>\n",
              "      <td>...</td>\n",
              "    </tr>\n",
              "    <tr>\n",
              "      <th>16710</th>\n",
              "      <td>Samurai Warriors: Sanada Maru</td>\n",
              "      <td>PS3</td>\n",
              "      <td>2016.0</td>\n",
              "      <td>Action</td>\n",
              "      <td>0.00</td>\n",
              "      <td>0.00</td>\n",
              "      <td>0.01</td>\n",
              "      <td>0.00</td>\n",
              "      <td>NaN</td>\n",
              "      <td>NaN</td>\n",
              "      <td>NaN</td>\n",
              "    </tr>\n",
              "    <tr>\n",
              "      <th>16711</th>\n",
              "      <td>LMA Manager 2007</td>\n",
              "      <td>X360</td>\n",
              "      <td>2006.0</td>\n",
              "      <td>Sports</td>\n",
              "      <td>0.00</td>\n",
              "      <td>0.01</td>\n",
              "      <td>0.00</td>\n",
              "      <td>0.00</td>\n",
              "      <td>NaN</td>\n",
              "      <td>NaN</td>\n",
              "      <td>NaN</td>\n",
              "    </tr>\n",
              "    <tr>\n",
              "      <th>16712</th>\n",
              "      <td>Haitaka no Psychedelica</td>\n",
              "      <td>PSV</td>\n",
              "      <td>2016.0</td>\n",
              "      <td>Adventure</td>\n",
              "      <td>0.00</td>\n",
              "      <td>0.00</td>\n",
              "      <td>0.01</td>\n",
              "      <td>0.00</td>\n",
              "      <td>NaN</td>\n",
              "      <td>NaN</td>\n",
              "      <td>NaN</td>\n",
              "    </tr>\n",
              "    <tr>\n",
              "      <th>16713</th>\n",
              "      <td>Spirits &amp; Spells</td>\n",
              "      <td>GBA</td>\n",
              "      <td>2003.0</td>\n",
              "      <td>Platform</td>\n",
              "      <td>0.01</td>\n",
              "      <td>0.00</td>\n",
              "      <td>0.00</td>\n",
              "      <td>0.00</td>\n",
              "      <td>NaN</td>\n",
              "      <td>NaN</td>\n",
              "      <td>NaN</td>\n",
              "    </tr>\n",
              "    <tr>\n",
              "      <th>16714</th>\n",
              "      <td>Winning Post 8 2016</td>\n",
              "      <td>PSV</td>\n",
              "      <td>2016.0</td>\n",
              "      <td>Simulation</td>\n",
              "      <td>0.00</td>\n",
              "      <td>0.00</td>\n",
              "      <td>0.01</td>\n",
              "      <td>0.00</td>\n",
              "      <td>NaN</td>\n",
              "      <td>NaN</td>\n",
              "      <td>NaN</td>\n",
              "    </tr>\n",
              "  </tbody>\n",
              "</table>\n",
              "<p>6701 rows × 11 columns</p>\n",
              "</div>"
            ],
            "text/plain": [
              "                                Name Platform  Year_of_Release         Genre  \\\n",
              "1                  Super Mario Bros.      NES           1985.0      Platform   \n",
              "4           Pokemon Red/Pokemon Blue       GB           1996.0  Role-Playing   \n",
              "5                             Tetris       GB           1989.0        Puzzle   \n",
              "9                          Duck Hunt      NES           1984.0       Shooter   \n",
              "10                        Nintendogs       DS           2005.0    Simulation   \n",
              "...                              ...      ...              ...           ...   \n",
              "16710  Samurai Warriors: Sanada Maru      PS3           2016.0        Action   \n",
              "16711               LMA Manager 2007     X360           2006.0        Sports   \n",
              "16712        Haitaka no Psychedelica      PSV           2016.0     Adventure   \n",
              "16713               Spirits & Spells      GBA           2003.0      Platform   \n",
              "16714            Winning Post 8 2016      PSV           2016.0    Simulation   \n",
              "\n",
              "       NA_sales  EU_sales  JP_sales  Other_sales  Critic_Score User_Score  \\\n",
              "1         29.08      3.58      6.81         0.77           NaN        NaN   \n",
              "4         11.27      8.89     10.22         1.00           NaN        NaN   \n",
              "5         23.20      2.26      4.22         0.58           NaN        NaN   \n",
              "9         26.93      0.63      0.28         0.47           NaN        NaN   \n",
              "10         9.05     10.95      1.93         2.74           NaN        NaN   \n",
              "...         ...       ...       ...          ...           ...        ...   \n",
              "16710      0.00      0.00      0.01         0.00           NaN        NaN   \n",
              "16711      0.00      0.01      0.00         0.00           NaN        NaN   \n",
              "16712      0.00      0.00      0.01         0.00           NaN        NaN   \n",
              "16713      0.01      0.00      0.00         0.00           NaN        NaN   \n",
              "16714      0.00      0.00      0.01         0.00           NaN        NaN   \n",
              "\n",
              "      Rating  \n",
              "1        NaN  \n",
              "4        NaN  \n",
              "5        NaN  \n",
              "9        NaN  \n",
              "10       NaN  \n",
              "...      ...  \n",
              "16710    NaN  \n",
              "16711    NaN  \n",
              "16712    NaN  \n",
              "16713    NaN  \n",
              "16714    NaN  \n",
              "\n",
              "[6701 rows x 11 columns]"
            ]
          },
          "execution_count": 11,
          "metadata": {},
          "output_type": "execute_result"
        }
      ],
      "source": [
        "#Посмотрим на таблицу, где имеются пустые значения в столбце user_score\n",
        "data[data['User_Score'].isna()]"
      ]
    },
    {
      "cell_type": "code",
      "execution_count": null,
      "metadata": {
        "id": "r-Y8LA1D-Mp1",
        "outputId": "ec8c6403-7767-46d9-97e3-327278223067"
      },
      "outputs": [
        {
          "data": {
            "text/html": [
              "<div>\n",
              "<style scoped>\n",
              "    .dataframe tbody tr th:only-of-type {\n",
              "        vertical-align: middle;\n",
              "    }\n",
              "\n",
              "    .dataframe tbody tr th {\n",
              "        vertical-align: top;\n",
              "    }\n",
              "\n",
              "    .dataframe thead th {\n",
              "        text-align: right;\n",
              "    }\n",
              "</style>\n",
              "<table border=\"1\" class=\"dataframe\">\n",
              "  <thead>\n",
              "    <tr style=\"text-align: right;\">\n",
              "      <th></th>\n",
              "      <th>Name</th>\n",
              "      <th>Platform</th>\n",
              "      <th>Year_of_Release</th>\n",
              "      <th>Genre</th>\n",
              "      <th>NA_sales</th>\n",
              "      <th>EU_sales</th>\n",
              "      <th>JP_sales</th>\n",
              "      <th>Other_sales</th>\n",
              "      <th>Critic_Score</th>\n",
              "      <th>User_Score</th>\n",
              "      <th>Rating</th>\n",
              "    </tr>\n",
              "  </thead>\n",
              "  <tbody>\n",
              "    <tr>\n",
              "      <th>1</th>\n",
              "      <td>Super Mario Bros.</td>\n",
              "      <td>NES</td>\n",
              "      <td>1985.0</td>\n",
              "      <td>Platform</td>\n",
              "      <td>29.08</td>\n",
              "      <td>3.58</td>\n",
              "      <td>6.81</td>\n",
              "      <td>0.77</td>\n",
              "      <td>NaN</td>\n",
              "      <td>NaN</td>\n",
              "      <td>NaN</td>\n",
              "    </tr>\n",
              "    <tr>\n",
              "      <th>4</th>\n",
              "      <td>Pokemon Red/Pokemon Blue</td>\n",
              "      <td>GB</td>\n",
              "      <td>1996.0</td>\n",
              "      <td>Role-Playing</td>\n",
              "      <td>11.27</td>\n",
              "      <td>8.89</td>\n",
              "      <td>10.22</td>\n",
              "      <td>1.00</td>\n",
              "      <td>NaN</td>\n",
              "      <td>NaN</td>\n",
              "      <td>NaN</td>\n",
              "    </tr>\n",
              "    <tr>\n",
              "      <th>5</th>\n",
              "      <td>Tetris</td>\n",
              "      <td>GB</td>\n",
              "      <td>1989.0</td>\n",
              "      <td>Puzzle</td>\n",
              "      <td>23.20</td>\n",
              "      <td>2.26</td>\n",
              "      <td>4.22</td>\n",
              "      <td>0.58</td>\n",
              "      <td>NaN</td>\n",
              "      <td>NaN</td>\n",
              "      <td>NaN</td>\n",
              "    </tr>\n",
              "    <tr>\n",
              "      <th>9</th>\n",
              "      <td>Duck Hunt</td>\n",
              "      <td>NES</td>\n",
              "      <td>1984.0</td>\n",
              "      <td>Shooter</td>\n",
              "      <td>26.93</td>\n",
              "      <td>0.63</td>\n",
              "      <td>0.28</td>\n",
              "      <td>0.47</td>\n",
              "      <td>NaN</td>\n",
              "      <td>NaN</td>\n",
              "      <td>NaN</td>\n",
              "    </tr>\n",
              "    <tr>\n",
              "      <th>10</th>\n",
              "      <td>Nintendogs</td>\n",
              "      <td>DS</td>\n",
              "      <td>2005.0</td>\n",
              "      <td>Simulation</td>\n",
              "      <td>9.05</td>\n",
              "      <td>10.95</td>\n",
              "      <td>1.93</td>\n",
              "      <td>2.74</td>\n",
              "      <td>NaN</td>\n",
              "      <td>NaN</td>\n",
              "      <td>NaN</td>\n",
              "    </tr>\n",
              "    <tr>\n",
              "      <th>...</th>\n",
              "      <td>...</td>\n",
              "      <td>...</td>\n",
              "      <td>...</td>\n",
              "      <td>...</td>\n",
              "      <td>...</td>\n",
              "      <td>...</td>\n",
              "      <td>...</td>\n",
              "      <td>...</td>\n",
              "      <td>...</td>\n",
              "      <td>...</td>\n",
              "      <td>...</td>\n",
              "    </tr>\n",
              "    <tr>\n",
              "      <th>16710</th>\n",
              "      <td>Samurai Warriors: Sanada Maru</td>\n",
              "      <td>PS3</td>\n",
              "      <td>2016.0</td>\n",
              "      <td>Action</td>\n",
              "      <td>0.00</td>\n",
              "      <td>0.00</td>\n",
              "      <td>0.01</td>\n",
              "      <td>0.00</td>\n",
              "      <td>NaN</td>\n",
              "      <td>NaN</td>\n",
              "      <td>NaN</td>\n",
              "    </tr>\n",
              "    <tr>\n",
              "      <th>16711</th>\n",
              "      <td>LMA Manager 2007</td>\n",
              "      <td>X360</td>\n",
              "      <td>2006.0</td>\n",
              "      <td>Sports</td>\n",
              "      <td>0.00</td>\n",
              "      <td>0.01</td>\n",
              "      <td>0.00</td>\n",
              "      <td>0.00</td>\n",
              "      <td>NaN</td>\n",
              "      <td>NaN</td>\n",
              "      <td>NaN</td>\n",
              "    </tr>\n",
              "    <tr>\n",
              "      <th>16712</th>\n",
              "      <td>Haitaka no Psychedelica</td>\n",
              "      <td>PSV</td>\n",
              "      <td>2016.0</td>\n",
              "      <td>Adventure</td>\n",
              "      <td>0.00</td>\n",
              "      <td>0.00</td>\n",
              "      <td>0.01</td>\n",
              "      <td>0.00</td>\n",
              "      <td>NaN</td>\n",
              "      <td>NaN</td>\n",
              "      <td>NaN</td>\n",
              "    </tr>\n",
              "    <tr>\n",
              "      <th>16713</th>\n",
              "      <td>Spirits &amp; Spells</td>\n",
              "      <td>GBA</td>\n",
              "      <td>2003.0</td>\n",
              "      <td>Platform</td>\n",
              "      <td>0.01</td>\n",
              "      <td>0.00</td>\n",
              "      <td>0.00</td>\n",
              "      <td>0.00</td>\n",
              "      <td>NaN</td>\n",
              "      <td>NaN</td>\n",
              "      <td>NaN</td>\n",
              "    </tr>\n",
              "    <tr>\n",
              "      <th>16714</th>\n",
              "      <td>Winning Post 8 2016</td>\n",
              "      <td>PSV</td>\n",
              "      <td>2016.0</td>\n",
              "      <td>Simulation</td>\n",
              "      <td>0.00</td>\n",
              "      <td>0.00</td>\n",
              "      <td>0.01</td>\n",
              "      <td>0.00</td>\n",
              "      <td>NaN</td>\n",
              "      <td>NaN</td>\n",
              "      <td>NaN</td>\n",
              "    </tr>\n",
              "  </tbody>\n",
              "</table>\n",
              "<p>8578 rows × 11 columns</p>\n",
              "</div>"
            ],
            "text/plain": [
              "                                Name Platform  Year_of_Release         Genre  \\\n",
              "1                  Super Mario Bros.      NES           1985.0      Platform   \n",
              "4           Pokemon Red/Pokemon Blue       GB           1996.0  Role-Playing   \n",
              "5                             Tetris       GB           1989.0        Puzzle   \n",
              "9                          Duck Hunt      NES           1984.0       Shooter   \n",
              "10                        Nintendogs       DS           2005.0    Simulation   \n",
              "...                              ...      ...              ...           ...   \n",
              "16710  Samurai Warriors: Sanada Maru      PS3           2016.0        Action   \n",
              "16711               LMA Manager 2007     X360           2006.0        Sports   \n",
              "16712        Haitaka no Psychedelica      PSV           2016.0     Adventure   \n",
              "16713               Spirits & Spells      GBA           2003.0      Platform   \n",
              "16714            Winning Post 8 2016      PSV           2016.0    Simulation   \n",
              "\n",
              "       NA_sales  EU_sales  JP_sales  Other_sales  Critic_Score User_Score  \\\n",
              "1         29.08      3.58      6.81         0.77           NaN        NaN   \n",
              "4         11.27      8.89     10.22         1.00           NaN        NaN   \n",
              "5         23.20      2.26      4.22         0.58           NaN        NaN   \n",
              "9         26.93      0.63      0.28         0.47           NaN        NaN   \n",
              "10         9.05     10.95      1.93         2.74           NaN        NaN   \n",
              "...         ...       ...       ...          ...           ...        ...   \n",
              "16710      0.00      0.00      0.01         0.00           NaN        NaN   \n",
              "16711      0.00      0.01      0.00         0.00           NaN        NaN   \n",
              "16712      0.00      0.00      0.01         0.00           NaN        NaN   \n",
              "16713      0.01      0.00      0.00         0.00           NaN        NaN   \n",
              "16714      0.00      0.00      0.01         0.00           NaN        NaN   \n",
              "\n",
              "      Rating  \n",
              "1        NaN  \n",
              "4        NaN  \n",
              "5        NaN  \n",
              "9        NaN  \n",
              "10       NaN  \n",
              "...      ...  \n",
              "16710    NaN  \n",
              "16711    NaN  \n",
              "16712    NaN  \n",
              "16713    NaN  \n",
              "16714    NaN  \n",
              "\n",
              "[8578 rows x 11 columns]"
            ]
          },
          "execution_count": 12,
          "metadata": {},
          "output_type": "execute_result"
        }
      ],
      "source": [
        "#Посмотрим на таблицу, где имеются пустые значения в столбце critic_score\n",
        "data[data['Critic_Score'].isna()]"
      ]
    },
    {
      "cell_type": "code",
      "execution_count": null,
      "metadata": {
        "id": "qVFMc3pn-Mp1",
        "outputId": "69445f44-afb2-4bcf-e375-184013ec89cd"
      },
      "outputs": [
        {
          "data": {
            "text/plain": [
              "PS2     2161\n",
              "DS      2151\n",
              "PS3     1331\n",
              "Wii     1320\n",
              "X360    1262\n",
              "PSP     1209\n",
              "PS      1197\n",
              "PC       974\n",
              "XB       824\n",
              "GBA      822\n",
              "GC       556\n",
              "3DS      520\n",
              "PSV      430\n",
              "PS4      392\n",
              "N64      319\n",
              "XOne     247\n",
              "SNES     239\n",
              "SAT      173\n",
              "WiiU     147\n",
              "2600     133\n",
              "GB        98\n",
              "NES       98\n",
              "DC        52\n",
              "GEN       29\n",
              "NG        12\n",
              "WS         6\n",
              "SCD        6\n",
              "3DO        3\n",
              "TG16       2\n",
              "PCFX       1\n",
              "GG         1\n",
              "Name: Platform, dtype: int64"
            ]
          },
          "execution_count": 13,
          "metadata": {},
          "output_type": "execute_result"
        }
      ],
      "source": [
        "#Посмотрим какие платформы для игры у нас имеются и нет ли повторений\n",
        "data['Platform'].value_counts()"
      ]
    },
    {
      "cell_type": "code",
      "execution_count": null,
      "metadata": {
        "id": "kszEm4Xn-Mp1",
        "outputId": "e7fa2b2a-5265-4129-daa9-4a50925df038"
      },
      "outputs": [
        {
          "data": {
            "text/plain": [
              "Action          3369\n",
              "Sports          2348\n",
              "Misc            1750\n",
              "Role-Playing    1498\n",
              "Shooter         1323\n",
              "Adventure       1303\n",
              "Racing          1249\n",
              "Platform         888\n",
              "Simulation       873\n",
              "Fighting         849\n",
              "Strategy         683\n",
              "Puzzle           580\n",
              "Name: Genre, dtype: int64"
            ]
          },
          "execution_count": 14,
          "metadata": {},
          "output_type": "execute_result"
        }
      ],
      "source": [
        "#Посмотрим какие жанры игр мы имеем и нет ли повторений\n",
        "data['Genre'].value_counts()"
      ]
    },
    {
      "cell_type": "markdown",
      "metadata": {
        "id": "IHcuUgRW-Mp2"
      },
      "source": [
        "**Вывод по шагу 1**  \n",
        "Необходимо:\n",
        " 1) Заполнить и обработать пропущенные значения в столбцах rating, user_score, critic_score, year of release  \n",
        " 2) Привести к правильному типу столбец: year of release  \n",
        " 3) Привести к нижнему регистру столбцы нашей таблицы, а так же сами названия колонок  \n",
        "Так же стоит смотреть что дубликатов в таблице нету, что говорит о том, что с этим не придется заниматься  "
      ]
    },
    {
      "cell_type": "markdown",
      "metadata": {
        "id": "UlFtCy4x-Mp2"
      },
      "source": [
        "<div class=\"alert alert-success\">\n",
        "<b>Комментарий ревьюера v.1</b>\n",
        "    \n",
        "👍\n",
        "\n",
        "\n",
        "Рекомендую создать универсальную функцию, которая будет принимать на вход датафрейм, а на выходе она будет выводить всего нужные характеристики, например, head, describe, info, дубликаты и т.п.\n",
        "</div>"
      ]
    },
    {
      "cell_type": "markdown",
      "metadata": {
        "id": "w6akUJ0e-Mp2"
      },
      "source": [
        "**ШАГ 2 ПРЕДОБРАБОТКА ДАННЫХ**"
      ]
    },
    {
      "cell_type": "markdown",
      "metadata": {
        "id": "Klo4faBk-Mp2"
      },
      "source": [
        "Заменим названия столбцов (приведём к нижнему регистру)"
      ]
    },
    {
      "cell_type": "code",
      "execution_count": null,
      "metadata": {
        "id": "RbKzjfuE-Mp2",
        "outputId": "3c02b473-a423-4702-cd14-823822c64f3b"
      },
      "outputs": [
        {
          "data": {
            "text/html": [
              "<div>\n",
              "<style scoped>\n",
              "    .dataframe tbody tr th:only-of-type {\n",
              "        vertical-align: middle;\n",
              "    }\n",
              "\n",
              "    .dataframe tbody tr th {\n",
              "        vertical-align: top;\n",
              "    }\n",
              "\n",
              "    .dataframe thead th {\n",
              "        text-align: right;\n",
              "    }\n",
              "</style>\n",
              "<table border=\"1\" class=\"dataframe\">\n",
              "  <thead>\n",
              "    <tr style=\"text-align: right;\">\n",
              "      <th></th>\n",
              "      <th>name</th>\n",
              "      <th>platform</th>\n",
              "      <th>year_of_release</th>\n",
              "      <th>genre</th>\n",
              "      <th>na_sales</th>\n",
              "      <th>eu_sales</th>\n",
              "      <th>jp_sales</th>\n",
              "      <th>other_sales</th>\n",
              "      <th>critic_score</th>\n",
              "      <th>user_score</th>\n",
              "      <th>rating</th>\n",
              "    </tr>\n",
              "  </thead>\n",
              "  <tbody>\n",
              "    <tr>\n",
              "      <th>0</th>\n",
              "      <td>Wii Sports</td>\n",
              "      <td>Wii</td>\n",
              "      <td>2006.0</td>\n",
              "      <td>Sports</td>\n",
              "      <td>41.36</td>\n",
              "      <td>28.96</td>\n",
              "      <td>3.77</td>\n",
              "      <td>8.45</td>\n",
              "      <td>76.0</td>\n",
              "      <td>8</td>\n",
              "      <td>E</td>\n",
              "    </tr>\n",
              "    <tr>\n",
              "      <th>1</th>\n",
              "      <td>Super Mario Bros.</td>\n",
              "      <td>NES</td>\n",
              "      <td>1985.0</td>\n",
              "      <td>Platform</td>\n",
              "      <td>29.08</td>\n",
              "      <td>3.58</td>\n",
              "      <td>6.81</td>\n",
              "      <td>0.77</td>\n",
              "      <td>NaN</td>\n",
              "      <td>NaN</td>\n",
              "      <td>NaN</td>\n",
              "    </tr>\n",
              "    <tr>\n",
              "      <th>2</th>\n",
              "      <td>Mario Kart Wii</td>\n",
              "      <td>Wii</td>\n",
              "      <td>2008.0</td>\n",
              "      <td>Racing</td>\n",
              "      <td>15.68</td>\n",
              "      <td>12.76</td>\n",
              "      <td>3.79</td>\n",
              "      <td>3.29</td>\n",
              "      <td>82.0</td>\n",
              "      <td>8.3</td>\n",
              "      <td>E</td>\n",
              "    </tr>\n",
              "    <tr>\n",
              "      <th>3</th>\n",
              "      <td>Wii Sports Resort</td>\n",
              "      <td>Wii</td>\n",
              "      <td>2009.0</td>\n",
              "      <td>Sports</td>\n",
              "      <td>15.61</td>\n",
              "      <td>10.93</td>\n",
              "      <td>3.28</td>\n",
              "      <td>2.95</td>\n",
              "      <td>80.0</td>\n",
              "      <td>8</td>\n",
              "      <td>E</td>\n",
              "    </tr>\n",
              "    <tr>\n",
              "      <th>4</th>\n",
              "      <td>Pokemon Red/Pokemon Blue</td>\n",
              "      <td>GB</td>\n",
              "      <td>1996.0</td>\n",
              "      <td>Role-Playing</td>\n",
              "      <td>11.27</td>\n",
              "      <td>8.89</td>\n",
              "      <td>10.22</td>\n",
              "      <td>1.00</td>\n",
              "      <td>NaN</td>\n",
              "      <td>NaN</td>\n",
              "      <td>NaN</td>\n",
              "    </tr>\n",
              "  </tbody>\n",
              "</table>\n",
              "</div>"
            ],
            "text/plain": [
              "                       name platform  year_of_release         genre  na_sales  \\\n",
              "0                Wii Sports      Wii           2006.0        Sports     41.36   \n",
              "1         Super Mario Bros.      NES           1985.0      Platform     29.08   \n",
              "2            Mario Kart Wii      Wii           2008.0        Racing     15.68   \n",
              "3         Wii Sports Resort      Wii           2009.0        Sports     15.61   \n",
              "4  Pokemon Red/Pokemon Blue       GB           1996.0  Role-Playing     11.27   \n",
              "\n",
              "   eu_sales  jp_sales  other_sales  critic_score user_score rating  \n",
              "0     28.96      3.77         8.45          76.0          8      E  \n",
              "1      3.58      6.81         0.77           NaN        NaN    NaN  \n",
              "2     12.76      3.79         3.29          82.0        8.3      E  \n",
              "3     10.93      3.28         2.95          80.0          8      E  \n",
              "4      8.89     10.22         1.00           NaN        NaN    NaN  "
            ]
          },
          "execution_count": 15,
          "metadata": {},
          "output_type": "execute_result"
        }
      ],
      "source": [
        "#Приведем название столбцов к нижнему регистру\n",
        "data.columns = data.columns.str.lower()\n",
        "#Посмотрим первые 5 строк измененной таблицы\n",
        "data.head()"
      ]
    },
    {
      "cell_type": "code",
      "execution_count": null,
      "metadata": {
        "id": "OtZV6Mhu-Mp2"
      },
      "outputs": [],
      "source": [
        "#Приведем к нижнему регистру следующие столбцы:\n",
        "for column in data[['name','platform','genre','rating']]:\n",
        "    data[column] = data[column].str.lower()"
      ]
    },
    {
      "cell_type": "code",
      "execution_count": null,
      "metadata": {
        "id": "2GnIdvLK-Mp2",
        "outputId": "c207715d-1cc9-4c64-9959-6ba5979b02e9"
      },
      "outputs": [
        {
          "data": {
            "text/html": [
              "<div>\n",
              "<style scoped>\n",
              "    .dataframe tbody tr th:only-of-type {\n",
              "        vertical-align: middle;\n",
              "    }\n",
              "\n",
              "    .dataframe tbody tr th {\n",
              "        vertical-align: top;\n",
              "    }\n",
              "\n",
              "    .dataframe thead th {\n",
              "        text-align: right;\n",
              "    }\n",
              "</style>\n",
              "<table border=\"1\" class=\"dataframe\">\n",
              "  <thead>\n",
              "    <tr style=\"text-align: right;\">\n",
              "      <th></th>\n",
              "      <th>name</th>\n",
              "      <th>platform</th>\n",
              "      <th>year_of_release</th>\n",
              "      <th>genre</th>\n",
              "      <th>na_sales</th>\n",
              "      <th>eu_sales</th>\n",
              "      <th>jp_sales</th>\n",
              "      <th>other_sales</th>\n",
              "      <th>critic_score</th>\n",
              "      <th>user_score</th>\n",
              "      <th>rating</th>\n",
              "    </tr>\n",
              "  </thead>\n",
              "  <tbody>\n",
              "    <tr>\n",
              "      <th>0</th>\n",
              "      <td>wii sports</td>\n",
              "      <td>wii</td>\n",
              "      <td>2006.0</td>\n",
              "      <td>sports</td>\n",
              "      <td>41.36</td>\n",
              "      <td>28.96</td>\n",
              "      <td>3.77</td>\n",
              "      <td>8.45</td>\n",
              "      <td>76.0</td>\n",
              "      <td>8</td>\n",
              "      <td>e</td>\n",
              "    </tr>\n",
              "    <tr>\n",
              "      <th>1</th>\n",
              "      <td>super mario bros.</td>\n",
              "      <td>nes</td>\n",
              "      <td>1985.0</td>\n",
              "      <td>platform</td>\n",
              "      <td>29.08</td>\n",
              "      <td>3.58</td>\n",
              "      <td>6.81</td>\n",
              "      <td>0.77</td>\n",
              "      <td>NaN</td>\n",
              "      <td>NaN</td>\n",
              "      <td>NaN</td>\n",
              "    </tr>\n",
              "    <tr>\n",
              "      <th>2</th>\n",
              "      <td>mario kart wii</td>\n",
              "      <td>wii</td>\n",
              "      <td>2008.0</td>\n",
              "      <td>racing</td>\n",
              "      <td>15.68</td>\n",
              "      <td>12.76</td>\n",
              "      <td>3.79</td>\n",
              "      <td>3.29</td>\n",
              "      <td>82.0</td>\n",
              "      <td>8.3</td>\n",
              "      <td>e</td>\n",
              "    </tr>\n",
              "    <tr>\n",
              "      <th>3</th>\n",
              "      <td>wii sports resort</td>\n",
              "      <td>wii</td>\n",
              "      <td>2009.0</td>\n",
              "      <td>sports</td>\n",
              "      <td>15.61</td>\n",
              "      <td>10.93</td>\n",
              "      <td>3.28</td>\n",
              "      <td>2.95</td>\n",
              "      <td>80.0</td>\n",
              "      <td>8</td>\n",
              "      <td>e</td>\n",
              "    </tr>\n",
              "    <tr>\n",
              "      <th>4</th>\n",
              "      <td>pokemon red/pokemon blue</td>\n",
              "      <td>gb</td>\n",
              "      <td>1996.0</td>\n",
              "      <td>role-playing</td>\n",
              "      <td>11.27</td>\n",
              "      <td>8.89</td>\n",
              "      <td>10.22</td>\n",
              "      <td>1.00</td>\n",
              "      <td>NaN</td>\n",
              "      <td>NaN</td>\n",
              "      <td>NaN</td>\n",
              "    </tr>\n",
              "    <tr>\n",
              "      <th>...</th>\n",
              "      <td>...</td>\n",
              "      <td>...</td>\n",
              "      <td>...</td>\n",
              "      <td>...</td>\n",
              "      <td>...</td>\n",
              "      <td>...</td>\n",
              "      <td>...</td>\n",
              "      <td>...</td>\n",
              "      <td>...</td>\n",
              "      <td>...</td>\n",
              "      <td>...</td>\n",
              "    </tr>\n",
              "    <tr>\n",
              "      <th>16710</th>\n",
              "      <td>samurai warriors: sanada maru</td>\n",
              "      <td>ps3</td>\n",
              "      <td>2016.0</td>\n",
              "      <td>action</td>\n",
              "      <td>0.00</td>\n",
              "      <td>0.00</td>\n",
              "      <td>0.01</td>\n",
              "      <td>0.00</td>\n",
              "      <td>NaN</td>\n",
              "      <td>NaN</td>\n",
              "      <td>NaN</td>\n",
              "    </tr>\n",
              "    <tr>\n",
              "      <th>16711</th>\n",
              "      <td>lma manager 2007</td>\n",
              "      <td>x360</td>\n",
              "      <td>2006.0</td>\n",
              "      <td>sports</td>\n",
              "      <td>0.00</td>\n",
              "      <td>0.01</td>\n",
              "      <td>0.00</td>\n",
              "      <td>0.00</td>\n",
              "      <td>NaN</td>\n",
              "      <td>NaN</td>\n",
              "      <td>NaN</td>\n",
              "    </tr>\n",
              "    <tr>\n",
              "      <th>16712</th>\n",
              "      <td>haitaka no psychedelica</td>\n",
              "      <td>psv</td>\n",
              "      <td>2016.0</td>\n",
              "      <td>adventure</td>\n",
              "      <td>0.00</td>\n",
              "      <td>0.00</td>\n",
              "      <td>0.01</td>\n",
              "      <td>0.00</td>\n",
              "      <td>NaN</td>\n",
              "      <td>NaN</td>\n",
              "      <td>NaN</td>\n",
              "    </tr>\n",
              "    <tr>\n",
              "      <th>16713</th>\n",
              "      <td>spirits &amp; spells</td>\n",
              "      <td>gba</td>\n",
              "      <td>2003.0</td>\n",
              "      <td>platform</td>\n",
              "      <td>0.01</td>\n",
              "      <td>0.00</td>\n",
              "      <td>0.00</td>\n",
              "      <td>0.00</td>\n",
              "      <td>NaN</td>\n",
              "      <td>NaN</td>\n",
              "      <td>NaN</td>\n",
              "    </tr>\n",
              "    <tr>\n",
              "      <th>16714</th>\n",
              "      <td>winning post 8 2016</td>\n",
              "      <td>psv</td>\n",
              "      <td>2016.0</td>\n",
              "      <td>simulation</td>\n",
              "      <td>0.00</td>\n",
              "      <td>0.00</td>\n",
              "      <td>0.01</td>\n",
              "      <td>0.00</td>\n",
              "      <td>NaN</td>\n",
              "      <td>NaN</td>\n",
              "      <td>NaN</td>\n",
              "    </tr>\n",
              "  </tbody>\n",
              "</table>\n",
              "<p>16715 rows × 11 columns</p>\n",
              "</div>"
            ],
            "text/plain": [
              "                                name platform  year_of_release         genre  \\\n",
              "0                         wii sports      wii           2006.0        sports   \n",
              "1                  super mario bros.      nes           1985.0      platform   \n",
              "2                     mario kart wii      wii           2008.0        racing   \n",
              "3                  wii sports resort      wii           2009.0        sports   \n",
              "4           pokemon red/pokemon blue       gb           1996.0  role-playing   \n",
              "...                              ...      ...              ...           ...   \n",
              "16710  samurai warriors: sanada maru      ps3           2016.0        action   \n",
              "16711               lma manager 2007     x360           2006.0        sports   \n",
              "16712        haitaka no psychedelica      psv           2016.0     adventure   \n",
              "16713               spirits & spells      gba           2003.0      platform   \n",
              "16714            winning post 8 2016      psv           2016.0    simulation   \n",
              "\n",
              "       na_sales  eu_sales  jp_sales  other_sales  critic_score user_score  \\\n",
              "0         41.36     28.96      3.77         8.45          76.0          8   \n",
              "1         29.08      3.58      6.81         0.77           NaN        NaN   \n",
              "2         15.68     12.76      3.79         3.29          82.0        8.3   \n",
              "3         15.61     10.93      3.28         2.95          80.0          8   \n",
              "4         11.27      8.89     10.22         1.00           NaN        NaN   \n",
              "...         ...       ...       ...          ...           ...        ...   \n",
              "16710      0.00      0.00      0.01         0.00           NaN        NaN   \n",
              "16711      0.00      0.01      0.00         0.00           NaN        NaN   \n",
              "16712      0.00      0.00      0.01         0.00           NaN        NaN   \n",
              "16713      0.01      0.00      0.00         0.00           NaN        NaN   \n",
              "16714      0.00      0.00      0.01         0.00           NaN        NaN   \n",
              "\n",
              "      rating  \n",
              "0          e  \n",
              "1        NaN  \n",
              "2          e  \n",
              "3          e  \n",
              "4        NaN  \n",
              "...      ...  \n",
              "16710    NaN  \n",
              "16711    NaN  \n",
              "16712    NaN  \n",
              "16713    NaN  \n",
              "16714    NaN  \n",
              "\n",
              "[16715 rows x 11 columns]"
            ]
          },
          "execution_count": 17,
          "metadata": {},
          "output_type": "execute_result"
        }
      ],
      "source": [
        "#Проверим\n",
        "data"
      ]
    },
    {
      "cell_type": "markdown",
      "metadata": {
        "id": "gXXAxU8G-Mp2"
      },
      "source": [
        "Преобразуем данные в нужные типы. Опишем, в каких столбцах заменили тип данных и почему"
      ]
    },
    {
      "cell_type": "code",
      "execution_count": null,
      "metadata": {
        "id": "XVb54B0Q-Mp2",
        "outputId": "eff91840-2229-49b6-8898-b700fb6bee50"
      },
      "outputs": [
        {
          "data": {
            "text/plain": [
              "array([2006., 1985., 2008., 2009., 1996., 1989., 1984., 2005., 1999.,\n",
              "       2007., 2010., 2013., 2004., 1990., 1988., 2002., 2001., 2011.,\n",
              "       1998., 2015., 2012., 2014., 1992., 1997., 1993., 1994., 1982.,\n",
              "       2016., 2003., 1986., 2000.,   nan, 1995., 1991., 1981., 1987.,\n",
              "       1980., 1983.])"
            ]
          },
          "execution_count": 18,
          "metadata": {},
          "output_type": "execute_result"
        }
      ],
      "source": [
        "# Начнем с уникальных значений. Посмотрим уникальные значения year_of_release\n",
        "data['year_of_release'].unique()"
      ]
    },
    {
      "cell_type": "code",
      "execution_count": null,
      "metadata": {
        "id": "dvw8jLZ_-Mp3",
        "outputId": "fb27805b-d8d7-40ba-ee56-6d8095a407e2"
      },
      "outputs": [
        {
          "data": {
            "text/plain": [
              "0    2006.0\n",
              "1    1985.0\n",
              "2    2008.0\n",
              "3    2009.0\n",
              "4    1996.0\n",
              "Name: year_of_release, dtype: float64"
            ]
          },
          "execution_count": 19,
          "metadata": {},
          "output_type": "execute_result"
        }
      ],
      "source": [
        "#Поменяем тип данных в столбце year_of_release\n",
        "data['year_of_release'] = data['year_of_release'].astype('float64')\n",
        "#Проверим\n",
        "data['year_of_release'].head()"
      ]
    },
    {
      "cell_type": "markdown",
      "metadata": {
        "id": "pwymjjgS-Mp3"
      },
      "source": [
        "Аномалий не наблюдается"
      ]
    },
    {
      "cell_type": "code",
      "execution_count": null,
      "metadata": {
        "id": "lDhLZLvJ-Mp3",
        "outputId": "d61a796c-4008-40ad-b419-c587b8464810"
      },
      "outputs": [
        {
          "data": {
            "text/plain": [
              "array([76., nan, 82., 80., 89., 58., 87., 91., 61., 97., 95., 77., 88.,\n",
              "       83., 94., 93., 85., 86., 98., 96., 90., 84., 73., 74., 78., 92.,\n",
              "       71., 72., 68., 62., 49., 67., 81., 66., 56., 79., 70., 59., 64.,\n",
              "       75., 60., 63., 69., 50., 25., 42., 44., 55., 48., 57., 29., 47.,\n",
              "       65., 54., 20., 53., 37., 38., 33., 52., 30., 32., 43., 45., 51.,\n",
              "       40., 46., 39., 34., 35., 41., 36., 28., 31., 27., 26., 19., 23.,\n",
              "       24., 21., 17., 22., 13.])"
            ]
          },
          "execution_count": 20,
          "metadata": {},
          "output_type": "execute_result"
        }
      ],
      "source": [
        "#Посмотрим уникальные значения critic_score\n",
        "data['critic_score'].unique()"
      ]
    },
    {
      "cell_type": "markdown",
      "metadata": {
        "id": "jGVVOl46-Mp3"
      },
      "source": [
        "Аномалий тоже нет. Поменяем тип данных на int64 и проверим"
      ]
    },
    {
      "cell_type": "code",
      "execution_count": null,
      "metadata": {
        "id": "b20gCzYU-Mp3",
        "outputId": "d72258e4-5a84-426d-da29-05d54713d1f2"
      },
      "outputs": [
        {
          "data": {
            "text/plain": [
              "0      76\n",
              "1    <NA>\n",
              "2      82\n",
              "3      80\n",
              "4    <NA>\n",
              "Name: critic_score, dtype: Int64"
            ]
          },
          "execution_count": 21,
          "metadata": {},
          "output_type": "execute_result"
        }
      ],
      "source": [
        "#Поменяем тип данных в столбце critic_score\n",
        "data['critic_score'] = data['critic_score'].astype('Int64')\n",
        "\n",
        "data['critic_score'].head()"
      ]
    },
    {
      "cell_type": "code",
      "execution_count": null,
      "metadata": {
        "id": "MLKPE7Is-Mp3",
        "outputId": "218d5db9-276b-4e6c-c500-806bace5939f"
      },
      "outputs": [
        {
          "data": {
            "text/plain": [
              "array(['8', nan, '8.3', '8.5', '6.6', '8.4', '8.6', '7.7', '6.3', '7.4',\n",
              "       '8.2', '9', '7.9', '8.1', '8.7', '7.1', '3.4', '5.3', '4.8', '3.2',\n",
              "       '8.9', '6.4', '7.8', '7.5', '2.6', '7.2', '9.2', '7', '7.3', '4.3',\n",
              "       '7.6', '5.7', '5', '9.1', '6.5', 'tbd', '8.8', '6.9', '9.4', '6.8',\n",
              "       '6.1', '6.7', '5.4', '4', '4.9', '4.5', '9.3', '6.2', '4.2', '6',\n",
              "       '3.7', '4.1', '5.8', '5.6', '5.5', '4.4', '4.6', '5.9', '3.9',\n",
              "       '3.1', '2.9', '5.2', '3.3', '4.7', '5.1', '3.5', '2.5', '1.9', '3',\n",
              "       '2.7', '2.2', '2', '9.5', '2.1', '3.6', '2.8', '1.8', '3.8', '0',\n",
              "       '1.6', '9.6', '2.4', '1.7', '1.1', '0.3', '1.5', '0.7', '1.2',\n",
              "       '2.3', '0.5', '1.3', '0.2', '0.6', '1.4', '0.9', '1', '9.7'],\n",
              "      dtype=object)"
            ]
          },
          "execution_count": 22,
          "metadata": {},
          "output_type": "execute_result"
        }
      ],
      "source": [
        "#Посмотрим уникальные значения user_score\n",
        "data['user_score'].unique()"
      ]
    },
    {
      "cell_type": "markdown",
      "metadata": {
        "id": "Pohr-boj-Mp3"
      },
      "source": [
        "А вот это уже интересно. Во первых тип object наверное стоит поменять на другой, например float, а так же у нас есть аномальное значение 'tbd'"
      ]
    },
    {
      "cell_type": "code",
      "execution_count": null,
      "metadata": {
        "id": "OKwCvFTV-Mp3",
        "outputId": "a8e4a8df-bba5-49d4-9237-57e86f7d99a8"
      },
      "outputs": [
        {
          "data": {
            "text/plain": [
              "name               2424\n",
              "platform           2424\n",
              "year_of_release    2376\n",
              "genre              2424\n",
              "na_sales           2424\n",
              "eu_sales           2424\n",
              "jp_sales           2424\n",
              "other_sales        2424\n",
              "critic_score       1082\n",
              "user_score         2424\n",
              "rating             2374\n",
              "dtype: int64"
            ]
          },
          "metadata": {},
          "output_type": "display_data"
        }
      ],
      "source": [
        "#Посмотрим, сколько раз встречается tbd\n",
        "display(data[data['user_score'] == 'tbd'].count())"
      ]
    },
    {
      "cell_type": "markdown",
      "metadata": {
        "id": "fttRydL9-Mp7"
      },
      "source": [
        "TBD - аббревиатура от английского To Be Determined (будет определено) или To Be Decided (будет решено)\n",
        "Это может означать что или отзывов не было , или их было очень мало что бы составить рейтинг\n",
        "Есть смысл заменить значение \"tbd\" - \"to be determined\" на NaN (пропуск)"
      ]
    },
    {
      "cell_type": "code",
      "execution_count": null,
      "metadata": {
        "id": "M8p-1dfs-Mp7"
      },
      "outputs": [],
      "source": [
        "#Заменим tbd на Nan\n",
        "data['user_score'] = data['user_score'].replace('tbd', np.nan, regex=True)"
      ]
    },
    {
      "cell_type": "markdown",
      "metadata": {
        "id": "JOzbmXxM-Mp7"
      },
      "source": [
        "<div class=\"alert alert-success\">\n",
        "<b>Комментарий ревьюера v.1</b>\n",
        "    \n",
        "👍 Верно, `tbd` означает `To Be Determined`, т.к. игра ещё не выпущена. Тут можно заменить заглушкой, а можно привести в nan\n",
        "</div>"
      ]
    },
    {
      "cell_type": "code",
      "execution_count": null,
      "metadata": {
        "id": "W8k8S7M--Mp8",
        "outputId": "38798bd6-331b-4f69-946d-0b099c4bcc66"
      },
      "outputs": [
        {
          "data": {
            "text/plain": [
              "dtype('float64')"
            ]
          },
          "execution_count": 25,
          "metadata": {},
          "output_type": "execute_result"
        }
      ],
      "source": [
        "#Поменяем тип данных столбца user_score на float и сразу проверим\n",
        "data['user_score'] = data['user_score'].astype('float')\n",
        "data['user_score'].dtype"
      ]
    },
    {
      "cell_type": "code",
      "execution_count": null,
      "metadata": {
        "id": "HaPeIdCk-Mp8",
        "outputId": "aaa8dd63-557c-4134-ceb3-d323a50a1feb"
      },
      "outputs": [
        {
          "data": {
            "text/html": [
              "<div>\n",
              "<style scoped>\n",
              "    .dataframe tbody tr th:only-of-type {\n",
              "        vertical-align: middle;\n",
              "    }\n",
              "\n",
              "    .dataframe tbody tr th {\n",
              "        vertical-align: top;\n",
              "    }\n",
              "\n",
              "    .dataframe thead th {\n",
              "        text-align: right;\n",
              "    }\n",
              "</style>\n",
              "<table border=\"1\" class=\"dataframe\">\n",
              "  <thead>\n",
              "    <tr style=\"text-align: right;\">\n",
              "      <th></th>\n",
              "      <th>name</th>\n",
              "      <th>platform</th>\n",
              "      <th>year_of_release</th>\n",
              "      <th>genre</th>\n",
              "      <th>na_sales</th>\n",
              "      <th>eu_sales</th>\n",
              "      <th>jp_sales</th>\n",
              "      <th>other_sales</th>\n",
              "      <th>critic_score</th>\n",
              "      <th>user_score</th>\n",
              "      <th>rating</th>\n",
              "      <th>world_sales</th>\n",
              "    </tr>\n",
              "  </thead>\n",
              "  <tbody>\n",
              "    <tr>\n",
              "      <th>0</th>\n",
              "      <td>wii sports</td>\n",
              "      <td>wii</td>\n",
              "      <td>2006.0</td>\n",
              "      <td>sports</td>\n",
              "      <td>41.36</td>\n",
              "      <td>28.96</td>\n",
              "      <td>3.77</td>\n",
              "      <td>8.45</td>\n",
              "      <td>76</td>\n",
              "      <td>8.0</td>\n",
              "      <td>e</td>\n",
              "      <td>82.54</td>\n",
              "    </tr>\n",
              "    <tr>\n",
              "      <th>1</th>\n",
              "      <td>super mario bros.</td>\n",
              "      <td>nes</td>\n",
              "      <td>1985.0</td>\n",
              "      <td>platform</td>\n",
              "      <td>29.08</td>\n",
              "      <td>3.58</td>\n",
              "      <td>6.81</td>\n",
              "      <td>0.77</td>\n",
              "      <td>&lt;NA&gt;</td>\n",
              "      <td>NaN</td>\n",
              "      <td>NaN</td>\n",
              "      <td>40.24</td>\n",
              "    </tr>\n",
              "    <tr>\n",
              "      <th>2</th>\n",
              "      <td>mario kart wii</td>\n",
              "      <td>wii</td>\n",
              "      <td>2008.0</td>\n",
              "      <td>racing</td>\n",
              "      <td>15.68</td>\n",
              "      <td>12.76</td>\n",
              "      <td>3.79</td>\n",
              "      <td>3.29</td>\n",
              "      <td>82</td>\n",
              "      <td>8.3</td>\n",
              "      <td>e</td>\n",
              "      <td>35.52</td>\n",
              "    </tr>\n",
              "    <tr>\n",
              "      <th>3</th>\n",
              "      <td>wii sports resort</td>\n",
              "      <td>wii</td>\n",
              "      <td>2009.0</td>\n",
              "      <td>sports</td>\n",
              "      <td>15.61</td>\n",
              "      <td>10.93</td>\n",
              "      <td>3.28</td>\n",
              "      <td>2.95</td>\n",
              "      <td>80</td>\n",
              "      <td>8.0</td>\n",
              "      <td>e</td>\n",
              "      <td>32.77</td>\n",
              "    </tr>\n",
              "    <tr>\n",
              "      <th>4</th>\n",
              "      <td>pokemon red/pokemon blue</td>\n",
              "      <td>gb</td>\n",
              "      <td>1996.0</td>\n",
              "      <td>role-playing</td>\n",
              "      <td>11.27</td>\n",
              "      <td>8.89</td>\n",
              "      <td>10.22</td>\n",
              "      <td>1.00</td>\n",
              "      <td>&lt;NA&gt;</td>\n",
              "      <td>NaN</td>\n",
              "      <td>NaN</td>\n",
              "      <td>31.38</td>\n",
              "    </tr>\n",
              "  </tbody>\n",
              "</table>\n",
              "</div>"
            ],
            "text/plain": [
              "                       name platform  year_of_release         genre  na_sales  \\\n",
              "0                wii sports      wii           2006.0        sports     41.36   \n",
              "1         super mario bros.      nes           1985.0      platform     29.08   \n",
              "2            mario kart wii      wii           2008.0        racing     15.68   \n",
              "3         wii sports resort      wii           2009.0        sports     15.61   \n",
              "4  pokemon red/pokemon blue       gb           1996.0  role-playing     11.27   \n",
              "\n",
              "   eu_sales  jp_sales  other_sales  critic_score  user_score rating  \\\n",
              "0     28.96      3.77         8.45            76         8.0      e   \n",
              "1      3.58      6.81         0.77          <NA>         NaN    NaN   \n",
              "2     12.76      3.79         3.29            82         8.3      e   \n",
              "3     10.93      3.28         2.95            80         8.0      e   \n",
              "4      8.89     10.22         1.00          <NA>         NaN    NaN   \n",
              "\n",
              "   world_sales  \n",
              "0        82.54  \n",
              "1        40.24  \n",
              "2        35.52  \n",
              "3        32.77  \n",
              "4        31.38  "
            ]
          },
          "execution_count": 26,
          "metadata": {},
          "output_type": "execute_result"
        }
      ],
      "source": [
        "#Создадим отдельный столбец с суммой продаж по всем регионам 'world_sales'\n",
        "data['world_sales'] = data['na_sales'] + data['eu_sales'] + data['jp_sales'] + data['other_sales']\n",
        "#Проверим\n",
        "data.head()"
      ]
    },
    {
      "cell_type": "markdown",
      "metadata": {
        "id": "DpKSuags-Mp8"
      },
      "source": [
        "<div class=\"alert alert-success\">\n",
        "<b>Комментарий ревьюера v.1</b>\n",
        "    \n",
        "👍\n",
        "Мы молодцы, не забыли создать колонку с общими продажами.  <br> А можно использовать вот такой код:</font><br>\n",
        "` = data[['na_sales','eu_sales','jp_sales', 'other_sales']].sum(axis = 1)`\n",
        "</div>"
      ]
    },
    {
      "cell_type": "code",
      "execution_count": null,
      "metadata": {
        "id": "VnbPuYt4-Mp8",
        "outputId": "d686f16d-e1ce-4242-e8e0-40f1deee2021"
      },
      "outputs": [
        {
          "data": {
            "text/html": [
              "<div>\n",
              "<style scoped>\n",
              "    .dataframe tbody tr th:only-of-type {\n",
              "        vertical-align: middle;\n",
              "    }\n",
              "\n",
              "    .dataframe tbody tr th {\n",
              "        vertical-align: top;\n",
              "    }\n",
              "\n",
              "    .dataframe thead th {\n",
              "        text-align: right;\n",
              "    }\n",
              "</style>\n",
              "<table border=\"1\" class=\"dataframe\">\n",
              "  <thead>\n",
              "    <tr style=\"text-align: right;\">\n",
              "      <th></th>\n",
              "      <th>name</th>\n",
              "      <th>platform</th>\n",
              "      <th>year_of_release</th>\n",
              "      <th>genre</th>\n",
              "      <th>na_sales</th>\n",
              "      <th>eu_sales</th>\n",
              "      <th>jp_sales</th>\n",
              "      <th>other_sales</th>\n",
              "      <th>critic_score</th>\n",
              "      <th>user_score</th>\n",
              "      <th>rating</th>\n",
              "      <th>world_sales</th>\n",
              "    </tr>\n",
              "  </thead>\n",
              "  <tbody>\n",
              "    <tr>\n",
              "      <th>0</th>\n",
              "      <td>wii sports</td>\n",
              "      <td>wii</td>\n",
              "      <td>2006.0</td>\n",
              "      <td>sports</td>\n",
              "      <td>41.36</td>\n",
              "      <td>28.96</td>\n",
              "      <td>3.77</td>\n",
              "      <td>8.45</td>\n",
              "      <td>76</td>\n",
              "      <td>8.0</td>\n",
              "      <td>e</td>\n",
              "      <td>82.54</td>\n",
              "    </tr>\n",
              "    <tr>\n",
              "      <th>1</th>\n",
              "      <td>super mario bros.</td>\n",
              "      <td>nes</td>\n",
              "      <td>1985.0</td>\n",
              "      <td>platform</td>\n",
              "      <td>29.08</td>\n",
              "      <td>3.58</td>\n",
              "      <td>6.81</td>\n",
              "      <td>0.77</td>\n",
              "      <td>&lt;NA&gt;</td>\n",
              "      <td>NaN</td>\n",
              "      <td>uknown</td>\n",
              "      <td>40.24</td>\n",
              "    </tr>\n",
              "    <tr>\n",
              "      <th>2</th>\n",
              "      <td>mario kart wii</td>\n",
              "      <td>wii</td>\n",
              "      <td>2008.0</td>\n",
              "      <td>racing</td>\n",
              "      <td>15.68</td>\n",
              "      <td>12.76</td>\n",
              "      <td>3.79</td>\n",
              "      <td>3.29</td>\n",
              "      <td>82</td>\n",
              "      <td>8.3</td>\n",
              "      <td>e</td>\n",
              "      <td>35.52</td>\n",
              "    </tr>\n",
              "    <tr>\n",
              "      <th>3</th>\n",
              "      <td>wii sports resort</td>\n",
              "      <td>wii</td>\n",
              "      <td>2009.0</td>\n",
              "      <td>sports</td>\n",
              "      <td>15.61</td>\n",
              "      <td>10.93</td>\n",
              "      <td>3.28</td>\n",
              "      <td>2.95</td>\n",
              "      <td>80</td>\n",
              "      <td>8.0</td>\n",
              "      <td>e</td>\n",
              "      <td>32.77</td>\n",
              "    </tr>\n",
              "    <tr>\n",
              "      <th>4</th>\n",
              "      <td>pokemon red/pokemon blue</td>\n",
              "      <td>gb</td>\n",
              "      <td>1996.0</td>\n",
              "      <td>role-playing</td>\n",
              "      <td>11.27</td>\n",
              "      <td>8.89</td>\n",
              "      <td>10.22</td>\n",
              "      <td>1.00</td>\n",
              "      <td>&lt;NA&gt;</td>\n",
              "      <td>NaN</td>\n",
              "      <td>uknown</td>\n",
              "      <td>31.38</td>\n",
              "    </tr>\n",
              "  </tbody>\n",
              "</table>\n",
              "</div>"
            ],
            "text/plain": [
              "                       name platform  year_of_release         genre  na_sales  \\\n",
              "0                wii sports      wii           2006.0        sports     41.36   \n",
              "1         super mario bros.      nes           1985.0      platform     29.08   \n",
              "2            mario kart wii      wii           2008.0        racing     15.68   \n",
              "3         wii sports resort      wii           2009.0        sports     15.61   \n",
              "4  pokemon red/pokemon blue       gb           1996.0  role-playing     11.27   \n",
              "\n",
              "   eu_sales  jp_sales  other_sales  critic_score  user_score  rating  \\\n",
              "0     28.96      3.77         8.45            76         8.0       e   \n",
              "1      3.58      6.81         0.77          <NA>         NaN  uknown   \n",
              "2     12.76      3.79         3.29            82         8.3       e   \n",
              "3     10.93      3.28         2.95            80         8.0       e   \n",
              "4      8.89     10.22         1.00          <NA>         NaN  uknown   \n",
              "\n",
              "   world_sales  \n",
              "0        82.54  \n",
              "1        40.24  \n",
              "2        35.52  \n",
              "3        32.77  \n",
              "4        31.38  "
            ]
          },
          "execution_count": 27,
          "metadata": {},
          "output_type": "execute_result"
        }
      ],
      "source": [
        "#Заменим пропущенные значения rating на uknown\n",
        "data['rating'] = data['rating'].fillna('uknown')\n",
        "#Проверим\n",
        "data.head()"
      ]
    },
    {
      "cell_type": "markdown",
      "metadata": {
        "id": "QIvHsm3t-Mp8"
      },
      "source": [
        "<div class=\"alert alert-success\">\n",
        "<b>Комментарий ревьюера v.1</b>\n",
        "    \n",
        "👍\n",
        "Верное решение.\n",
        "</div>"
      ]
    },
    {
      "cell_type": "markdown",
      "metadata": {
        "id": "_V0Wny6o-Mp8"
      },
      "source": [
        "**Вывод по 2 ШАГУ:**  \n",
        "1) Мы привели к нижнему регистру столбцы 'name','platform','genre','rating'.  \n",
        "2) Проверили на аномалии столбцы 'year_of_release', 'critic_score', 'user_score'  \n",
        "3) Поменяли типы данных для удобства работы с данными  \n",
        "4) Заменили пропущенные значения в 'user_score', 'rating'.   \n",
        "*Не все пропуски удалось заменить корректно, например  'critic_score', 'year_of_release', т.к пропусков слишком много и большинство пропущенно одновременно  \n",
        "Возможная причина пропусков-отсутствие отзывов и оценок для старых игр впринципе. Возможно, сайт начал работу с в более поздний период, а игры уже исчезали из продаж. Как допустим на кинопоиске нет оценок к очень старым фильмам. Если посмотреть таблицу, у нас большинство значений пропусков находится в 80-90х годах, когда интернет еще был не так развит, как сейчас.   \n",
        "Вторая гипотетическая причина пропусков-некорректная выгрузка данных на сайт.  \n",
        "Мы не имеем возможности корректно заполнить такое количество значение, т.к это повлияет на итоговые результаты. Принято решение не удалять эти пропуски, т.к есть полезные данные в других столбцах, которые нам понадобятся.*    \n",
        "\n",
        "5) Создали отдельный столбец с суммой продаж по всем регионам 'world_sales'  "
      ]
    },
    {
      "cell_type": "markdown",
      "metadata": {
        "id": "MYV33wH1-Mp9"
      },
      "source": [
        "<div class=\"alert alert-danger\">\n",
        "<b>Комментарий ревьюера v.1</b>\n",
        "    \n",
        "✍\n",
        "К сожалению не хватает возможных причин появления пропусков.\n",
        "</div>"
      ]
    },
    {
      "cell_type": "markdown",
      "metadata": {
        "id": "q02DcjsT-Mp9"
      },
      "source": [
        "<div class=\"alert alert-success\">\n",
        "<b>Комментарий ревьюера v.2</b>\n",
        "    \n",
        "👍\n",
        "\n",
        "</div>"
      ]
    },
    {
      "cell_type": "markdown",
      "metadata": {
        "id": "ppJf08mi-Mp9"
      },
      "source": [
        "**ШАГ 3 ИССЛЕДОВАТЕЛЬСКИЙ АНАЛИЗ ДАННЫХ**"
      ]
    },
    {
      "cell_type": "code",
      "execution_count": null,
      "metadata": {
        "id": "OADsrPj0-Mp9",
        "outputId": "6ea2fae5-f6d2-4e8a-e946-46bf4f87edb7"
      },
      "outputs": [
        {
          "data": {
            "text/plain": [
              "<matplotlib.legend.Legend at 0x7f98e949c460>"
            ]
          },
          "execution_count": 28,
          "metadata": {},
          "output_type": "execute_result"
        },
        {
          "data": {
            "image/png": "[encoded data removed]",
            "text/plain": [
              "<Figure size 864x432 with 1 Axes>"
            ]
          },
          "metadata": {
            "needs_background": "light"
          },
          "output_type": "display_data"
        }
      ],
      "source": [
        "# Создадим график, чтобы просмотреть как менялось количество выпускаемых игр\n",
        "period_games = data.pivot_table(index='year_of_release', values='name', aggfunc='count')\n",
        "plt.figure(figsize=(12,6))\n",
        "sns.lineplot(data=period_games)\n",
        "plt.title(\"Количество выпускаемых игр по годам\")\n",
        "plt.xlabel(\"Год выпуска\")\n",
        "plt.ylabel(\"Количество выпущенных игр\")\n",
        "plt.legend('')"
      ]
    },
    {
      "cell_type": "markdown",
      "metadata": {
        "id": "EG9dMMGu-Mp9"
      },
      "source": [
        " Очевидно, что количество игр на игровые приставки и компьютеры начало расти с большой скоростью с 90х годов до 2008 года, на период неактивно развитого интернета\n",
        " С 2008 года, после того как появились первые сенсорные смартфоны и стал развиваться интернет, виден резкий спад консольных игр."
      ]
    },
    {
      "cell_type": "code",
      "execution_count": null,
      "metadata": {
        "id": "Ac3hQCx2-Mp9",
        "outputId": "2bc6711f-98cf-480c-b80e-e3df2a90ff16"
      },
      "outputs": [
        {
          "data": {
            "image/png": "[encoded data removed]",
            "text/plain": [
              "<Figure size 720x360 with 1 Axes>"
            ]
          },
          "metadata": {
            "needs_background": "light"
          },
          "output_type": "display_data"
        }
      ],
      "source": [
        "#Создадим график динамики продаж по рынкам\n",
        "data.groupby('year_of_release').agg({'world_sales' : 'sum'})\\\n",
        ".plot(xlabel='Год', ylabel='Количество проданных игр', title='Название', figsize=(10,5), grid=True);"
      ]
    },
    {
      "cell_type": "markdown",
      "metadata": {
        "id": "r9hRFlil-Mp9"
      },
      "source": [
        "Кажется, график общих продаж по миру корреллируется с графиком количества выпускаемых игр. Пик приходится на 2008 год, возможно потом стало процветать пиратство и торренты, что так же повлияло на продажи как и развитие мобильных игр"
      ]
    },
    {
      "cell_type": "code",
      "execution_count": null,
      "metadata": {
        "id": "-GKu8TIT-Mp-",
        "outputId": "09fc69a8-fdd4-4c15-a218-7958d27ec83a"
      },
      "outputs": [
        {
          "data": {
            "text/plain": [
              "Text(0, 0.5, 'Количество проданных приставок')"
            ]
          },
          "execution_count": 30,
          "metadata": {},
          "output_type": "execute_result"
        },
        {
          "data": {
            "image/png": "[encoded data removed]",
            "text/plain": [
              "<Figure size 936x432 with 1 Axes>"
            ]
          },
          "metadata": {
            "needs_background": "light"
          },
          "output_type": "display_data"
        }
      ],
      "source": [
        "#Посмотрим, какие модели приставок лидируют по продажам\n",
        "sales_platform = data.pivot_table(\n",
        "    index='platform', values='world_sales', aggfunc='sum').sort_values(by='world_sales', ascending=False)\n",
        "\n",
        "plt.figure(figsize=(13,6))\n",
        "sns.barplot(x=sales_platform.index,y=sales_platform['world_sales'])\n",
        "plt.title(\"Количество  проданных приставок по моделям за весь период\")\n",
        "plt.xlabel(\"Модели приставок\")\n",
        "plt.ylabel(\"Количество проданных приставок\")"
      ]
    },
    {
      "cell_type": "markdown",
      "metadata": {
        "id": "HjnumjEJ-Mp-"
      },
      "source": [
        "Очевидно, что популярными по продажам были плойка 1, 2, 3, нинтендо ds и wii и иксбокс360"
      ]
    },
    {
      "cell_type": "markdown",
      "metadata": {
        "id": "B6A8tNBz-Mp-"
      },
      "source": [
        "Исходя из задания будем опираться на 2017г. и будем проверять данные начиная с 2013 по 2016гг."
      ]
    },
    {
      "cell_type": "code",
      "execution_count": null,
      "metadata": {
        "id": "6zOQBx1D-Mp-",
        "outputId": "dead902d-8a53-48cf-bffd-5aec218b5641"
      },
      "outputs": [
        {
          "name": "stdout",
          "output_type": "stream",
          "text": [
            "<class 'pandas.core.frame.DataFrame'>\n",
            "RangeIndex: 2233 entries, 0 to 2232\n",
            "Data columns (total 12 columns):\n",
            " #   Column           Non-Null Count  Dtype  \n",
            "---  ------           --------------  -----  \n",
            " 0   name             2233 non-null   object \n",
            " 1   platform         2233 non-null   object \n",
            " 2   year_of_release  2233 non-null   float64\n",
            " 3   genre            2233 non-null   object \n",
            " 4   na_sales         2233 non-null   float64\n",
            " 5   eu_sales         2233 non-null   float64\n",
            " 6   jp_sales         2233 non-null   float64\n",
            " 7   other_sales      2233 non-null   float64\n",
            " 8   critic_score     991 non-null    Int64  \n",
            " 9   user_score       1192 non-null   float64\n",
            " 10  rating           2233 non-null   object \n",
            " 11  world_sales      2233 non-null   float64\n",
            "dtypes: Int64(1), float64(7), object(4)\n",
            "memory usage: 211.6+ KB\n"
          ]
        }
      ],
      "source": [
        "#Убираем данные до 2013г. Сохраним в таблице data_games\n",
        "data_games = data[data['year_of_release'] >= 2013].reset_index(drop=True)\n",
        "data_games.info()"
      ]
    },
    {
      "cell_type": "markdown",
      "metadata": {
        "id": "5Xgw_jbe-Mp-"
      },
      "source": [
        "<div class=\"alert alert-success\">\n",
        "<b>Комментарий ревьюера v.1</b>\n",
        "    \n",
        "👍\n",
        "Если это актуальный период, то верно. Для целей прогнозирования продаж на следующий год даже в традиционных бизнесах редко берут данные более чем за 2-3 года. А в такой динамично меняющейся индустрии, как компьютерные игры и вовсе не стоит брать слишком большой временной интервал - иначе обязательно захватим уже отжившие тренды. Но и очень короткий период не подходит для прогнозирования, так что надо выбирать золотую середину (но не менее 2-х полных лет и не более 5 лет).\n",
        "</div>"
      ]
    },
    {
      "cell_type": "code",
      "execution_count": null,
      "metadata": {
        "scrolled": true,
        "id": "Dt1U5NhT-Mp-",
        "outputId": "90851166-bc35-4547-bc20-a9931114000f"
      },
      "outputs": [
        {
          "data": {
            "image/png": "[encoded data removed]",
            "text/plain": [
              "<Figure size 432x288 with 1 Axes>"
            ]
          },
          "metadata": {
            "needs_background": "light"
          },
          "output_type": "display_data"
        }
      ],
      "source": [
        "#Построим график зависимости продаж от типа платформ за актуальный период 2013-2016\n",
        "data_games_platform = data_games.pivot_table(index='platform', values='world_sales', aggfunc='sum').sort_values('world_sales', ascending=False).plot(kind='bar')"
      ]
    },
    {
      "cell_type": "markdown",
      "metadata": {
        "id": "6iiPK7in-Mp-"
      },
      "source": [
        "Очевидно, лидирует плойка 4, за ней плойка 3, далее идут xone, 3ds и xbox360"
      ]
    },
    {
      "cell_type": "code",
      "execution_count": null,
      "metadata": {
        "id": "ZH1UKJCk-Mp_",
        "outputId": "8ef9a1b5-d984-4b8e-e236-4a76da08a958"
      },
      "outputs": [
        {
          "data": {
            "image/png": "[encoded data removed]",
            "text/plain": [
              "<Figure size 1080x504 with 1 Axes>"
            ]
          },
          "metadata": {
            "needs_background": "light"
          },
          "output_type": "display_data"
        }
      ],
      "source": [
        "#Выставим период, который нас интересует\n",
        "data_games = data_games.query(\"2013 <= year_of_release <= 2016\")\n",
        "#Построим график распределения по годам\n",
        "data_games.pivot_table(index='year_of_release', columns = 'platform', values='world_sales', aggfunc='sum').plot(grid=True, figsize=(15, 7))\n",
        "plt.show()"
      ]
    },
    {
      "cell_type": "markdown",
      "metadata": {
        "id": "7B_0A8qY-Mp_"
      },
      "source": [
        "Исходя из графика видно (несмотря на то , что данные за 2016 год неполные):\n",
        "\n",
        "Закат платформ, у которых наблюдается тенденция к  стабильному снижению продаж: 3DS, WiiU, PS3, X360, PC, Wii, PSV.\n",
        "Перспективные платформы (находятся в зоне роста или стагнации по продажам): PS4, XOne.\n",
        "Объёмы продаж PS4 в два раза больше, чем у XOne."
      ]
    },
    {
      "cell_type": "code",
      "execution_count": null,
      "metadata": {
        "id": "7pUAJojb-Mp_",
        "outputId": "9e036b85-cc6f-4cef-b7ec-51d27acd54ac"
      },
      "outputs": [
        {
          "data": {
            "image/png": "[encoded data removed]",
            "text/plain": [
              "<Figure size 1440x720 with 1 Axes>"
            ]
          },
          "metadata": {
            "needs_background": "light"
          },
          "output_type": "display_data"
        }
      ],
      "source": [
        "#Построим диаграмму размаха по глобальным продажам игр в разбивке по платформам\n",
        "plt.figure(figsize=(20, 10))\n",
        "\n",
        "sns.boxplot(data=data_games, x='platform', y='world_sales')\n",
        "\n",
        "plt.ylim(0, .85)\n",
        "\n",
        "plt.title('\"Ящики с усами\" по глобальным продажам игр')\n",
        "plt.xlabel('Продажи, млн. шт.')\n",
        "plt.ylabel('Платформы')\n",
        "\n",
        "plt.show()"
      ]
    },
    {
      "cell_type": "code",
      "execution_count": null,
      "metadata": {
        "id": "BFTekA-3-Mp_",
        "outputId": "7d7408cb-1e2e-47bb-c2c3-6557f49b9fbd"
      },
      "outputs": [
        {
          "data": {
            "text/html": [
              "<div>\n",
              "<style scoped>\n",
              "    .dataframe tbody tr th:only-of-type {\n",
              "        vertical-align: middle;\n",
              "    }\n",
              "\n",
              "    .dataframe tbody tr th {\n",
              "        vertical-align: top;\n",
              "    }\n",
              "\n",
              "    .dataframe thead th {\n",
              "        text-align: right;\n",
              "    }\n",
              "</style>\n",
              "<table border=\"1\" class=\"dataframe\">\n",
              "  <thead>\n",
              "    <tr style=\"text-align: right;\">\n",
              "      <th></th>\n",
              "      <th>count</th>\n",
              "      <th>mean</th>\n",
              "      <th>std</th>\n",
              "      <th>min</th>\n",
              "      <th>25%</th>\n",
              "      <th>50%</th>\n",
              "      <th>75%</th>\n",
              "      <th>max</th>\n",
              "    </tr>\n",
              "    <tr>\n",
              "      <th>platform</th>\n",
              "      <th></th>\n",
              "      <th></th>\n",
              "      <th></th>\n",
              "      <th></th>\n",
              "      <th></th>\n",
              "      <th></th>\n",
              "      <th></th>\n",
              "      <th></th>\n",
              "    </tr>\n",
              "  </thead>\n",
              "  <tbody>\n",
              "    <tr>\n",
              "      <th>3ds</th>\n",
              "      <td>303.0</td>\n",
              "      <td>0.472772</td>\n",
              "      <td>1.381347</td>\n",
              "      <td>0.01</td>\n",
              "      <td>0.0400</td>\n",
              "      <td>0.090</td>\n",
              "      <td>0.2800</td>\n",
              "      <td>14.60</td>\n",
              "    </tr>\n",
              "    <tr>\n",
              "      <th>ds</th>\n",
              "      <td>8.0</td>\n",
              "      <td>0.192500</td>\n",
              "      <td>0.172026</td>\n",
              "      <td>0.03</td>\n",
              "      <td>0.0675</td>\n",
              "      <td>0.150</td>\n",
              "      <td>0.2525</td>\n",
              "      <td>0.51</td>\n",
              "    </tr>\n",
              "    <tr>\n",
              "      <th>pc</th>\n",
              "      <td>189.0</td>\n",
              "      <td>0.208624</td>\n",
              "      <td>0.352304</td>\n",
              "      <td>0.01</td>\n",
              "      <td>0.0300</td>\n",
              "      <td>0.080</td>\n",
              "      <td>0.2300</td>\n",
              "      <td>3.05</td>\n",
              "    </tr>\n",
              "    <tr>\n",
              "      <th>ps3</th>\n",
              "      <td>345.0</td>\n",
              "      <td>0.525884</td>\n",
              "      <td>1.451939</td>\n",
              "      <td>0.01</td>\n",
              "      <td>0.0400</td>\n",
              "      <td>0.150</td>\n",
              "      <td>0.5100</td>\n",
              "      <td>21.05</td>\n",
              "    </tr>\n",
              "    <tr>\n",
              "      <th>ps4</th>\n",
              "      <td>392.0</td>\n",
              "      <td>0.801378</td>\n",
              "      <td>1.609456</td>\n",
              "      <td>0.01</td>\n",
              "      <td>0.0600</td>\n",
              "      <td>0.200</td>\n",
              "      <td>0.7300</td>\n",
              "      <td>14.63</td>\n",
              "    </tr>\n",
              "    <tr>\n",
              "      <th>psp</th>\n",
              "      <td>67.0</td>\n",
              "      <td>0.052239</td>\n",
              "      <td>0.059768</td>\n",
              "      <td>0.01</td>\n",
              "      <td>0.0150</td>\n",
              "      <td>0.020</td>\n",
              "      <td>0.0700</td>\n",
              "      <td>0.24</td>\n",
              "    </tr>\n",
              "    <tr>\n",
              "      <th>psv</th>\n",
              "      <td>358.0</td>\n",
              "      <td>0.092151</td>\n",
              "      <td>0.153816</td>\n",
              "      <td>0.01</td>\n",
              "      <td>0.0200</td>\n",
              "      <td>0.040</td>\n",
              "      <td>0.1100</td>\n",
              "      <td>1.96</td>\n",
              "    </tr>\n",
              "    <tr>\n",
              "      <th>wii</th>\n",
              "      <td>23.0</td>\n",
              "      <td>0.593913</td>\n",
              "      <td>0.915432</td>\n",
              "      <td>0.01</td>\n",
              "      <td>0.0450</td>\n",
              "      <td>0.180</td>\n",
              "      <td>0.7550</td>\n",
              "      <td>3.58</td>\n",
              "    </tr>\n",
              "    <tr>\n",
              "      <th>wiiu</th>\n",
              "      <td>115.0</td>\n",
              "      <td>0.562000</td>\n",
              "      <td>1.038778</td>\n",
              "      <td>0.01</td>\n",
              "      <td>0.0600</td>\n",
              "      <td>0.200</td>\n",
              "      <td>0.5950</td>\n",
              "      <td>7.09</td>\n",
              "    </tr>\n",
              "    <tr>\n",
              "      <th>x360</th>\n",
              "      <td>186.0</td>\n",
              "      <td>0.735484</td>\n",
              "      <td>1.663275</td>\n",
              "      <td>0.01</td>\n",
              "      <td>0.0800</td>\n",
              "      <td>0.265</td>\n",
              "      <td>0.7950</td>\n",
              "      <td>16.27</td>\n",
              "    </tr>\n",
              "    <tr>\n",
              "      <th>xone</th>\n",
              "      <td>247.0</td>\n",
              "      <td>0.645020</td>\n",
              "      <td>1.036139</td>\n",
              "      <td>0.01</td>\n",
              "      <td>0.0600</td>\n",
              "      <td>0.220</td>\n",
              "      <td>0.6850</td>\n",
              "      <td>7.39</td>\n",
              "    </tr>\n",
              "  </tbody>\n",
              "</table>\n",
              "</div>"
            ],
            "text/plain": [
              "          count      mean       std   min     25%    50%     75%    max\n",
              "platform                                                               \n",
              "3ds       303.0  0.472772  1.381347  0.01  0.0400  0.090  0.2800  14.60\n",
              "ds          8.0  0.192500  0.172026  0.03  0.0675  0.150  0.2525   0.51\n",
              "pc        189.0  0.208624  0.352304  0.01  0.0300  0.080  0.2300   3.05\n",
              "ps3       345.0  0.525884  1.451939  0.01  0.0400  0.150  0.5100  21.05\n",
              "ps4       392.0  0.801378  1.609456  0.01  0.0600  0.200  0.7300  14.63\n",
              "psp        67.0  0.052239  0.059768  0.01  0.0150  0.020  0.0700   0.24\n",
              "psv       358.0  0.092151  0.153816  0.01  0.0200  0.040  0.1100   1.96\n",
              "wii        23.0  0.593913  0.915432  0.01  0.0450  0.180  0.7550   3.58\n",
              "wiiu      115.0  0.562000  1.038778  0.01  0.0600  0.200  0.5950   7.09\n",
              "x360      186.0  0.735484  1.663275  0.01  0.0800  0.265  0.7950  16.27\n",
              "xone      247.0  0.645020  1.036139  0.01  0.0600  0.220  0.6850   7.39"
            ]
          },
          "execution_count": 35,
          "metadata": {},
          "output_type": "execute_result"
        }
      ],
      "source": [
        "data_games.groupby('platform')['world_sales'].describe()"
      ]
    },
    {
      "cell_type": "markdown",
      "metadata": {
        "id": "0Nd1LLNe-Mp_"
      },
      "source": [
        "У всех платформ среднее значение продаж значительно больше медианного. Наибольшее медианное значение наблюдается у платформ ps4 и  x360"
      ]
    },
    {
      "cell_type": "markdown",
      "metadata": {
        "id": "NyYR9DMo-Mp_"
      },
      "source": [
        "<div class=\"alert alert-success\">\n",
        "<b>Комментарий ревьюера v.1</b>\n",
        "    \n",
        "👍\n",
        "Здесь все корректно.\n",
        "</div>"
      ]
    },
    {
      "cell_type": "markdown",
      "metadata": {
        "id": "MyK1m7IQ-Mp_"
      },
      "source": [
        "Посмотрим, как влияют на продажи внутри одной популярной платформы отзывы пользователей и критиков. За основу возьмем PS4, т.к она превосходит всех по продажам.  "
      ]
    },
    {
      "cell_type": "code",
      "execution_count": null,
      "metadata": {
        "id": "RGv0lB47-MqA",
        "outputId": "726ccd16-107d-4596-dd14-1f83ede5be8e"
      },
      "outputs": [
        {
          "data": {
            "text/plain": [
              "Text(0.5, 1.0, 'Влияние отзывов критиков на продажи')"
            ]
          },
          "execution_count": 36,
          "metadata": {},
          "output_type": "execute_result"
        },
        {
          "data": {
            "image/png": "[encoded data removed]",
            "text/plain": [
              "<Figure size 432x288 with 1 Axes>"
            ]
          },
          "metadata": {
            "needs_background": "light"
          },
          "output_type": "display_data"
        },
        {
          "data": {
            "image/png": "[encoded data removed]",
            "text/plain": [
              "<Figure size 432x288 with 1 Axes>"
            ]
          },
          "metadata": {
            "needs_background": "light"
          },
          "output_type": "display_data"
        }
      ],
      "source": [
        "#Построим диаграмму рассеяния и посчитаем корреляцию между отзывами и продажами\n",
        "data_games[data_games['platform'] == 'ps4'].plot(x='world_sales', y='user_score', kind='scatter')\n",
        "plt.title('Влияние отзывов пользователей на продажи')\n",
        "data_games[data_games['platform'] == 'ps4'].plot(x='world_sales', y='critic_score', kind='scatter')\n",
        "plt.title('Влияние отзывов критиков на продажи')"
      ]
    },
    {
      "cell_type": "code",
      "execution_count": null,
      "metadata": {
        "id": "VNQTYH_w-MqA",
        "outputId": "21dd5a3e-364c-430b-9d1f-c5458a38c69f"
      },
      "outputs": [
        {
          "data": {
            "text/plain": [
              "'Коэффициент корреляции Пирсона между продажами и оценкой пользователей: '"
            ]
          },
          "metadata": {},
          "output_type": "display_data"
        },
        {
          "data": {
            "text/plain": [
              "-0.031957110204556376"
            ]
          },
          "metadata": {},
          "output_type": "display_data"
        }
      ],
      "source": [
        "#Вычислим коэффициент корреляции Пирсона между продажами и оценкой пользователей\n",
        "display(\"Коэффициент корреляции Пирсона между продажами и оценкой пользователей: \",\n",
        "    data_games[data_games['platform'] == 'ps4']['world_sales']\n",
        "        .corr(data_games[data_games['platform'] == 'ps4']['user_score'])\n",
        ")"
      ]
    },
    {
      "cell_type": "code",
      "execution_count": null,
      "metadata": {
        "id": "bVljkXTK-MqA",
        "outputId": "1f1be258-1d08-44ea-c6ff-9df0a1149e76"
      },
      "outputs": [
        {
          "data": {
            "text/plain": [
              "'Коэффициент корреляции Пирсона между продажами и оценкой критиков: '"
            ]
          },
          "metadata": {},
          "output_type": "display_data"
        },
        {
          "data": {
            "text/plain": [
              "0.406567902061781"
            ]
          },
          "metadata": {},
          "output_type": "display_data"
        }
      ],
      "source": [
        "#Небольшой костыль что бы привести к типу float64\n",
        "data_games['critic_score'] = data_games['critic_score'].astype('float64')\n",
        "#Вычислим коэффициент корреляции Пирсона между продажами и оценкой критиков\n",
        "display(\"Коэффициент корреляции Пирсона между продажами и оценкой критиков: \",\n",
        "    data_games[data_games['platform'] == 'ps4']['world_sales']\n",
        "        .corr(data_games[data_games['platform'] == 'ps4']['critic_score'])\n",
        ")"
      ]
    },
    {
      "cell_type": "markdown",
      "metadata": {
        "id": "N2eIP5Kd-MqA"
      },
      "source": [
        "Объём продаж и оценки пользователей практически не коррелируют. Между объёмом продаж и оценками критиков наблюдается прямая корреляция."
      ]
    },
    {
      "cell_type": "markdown",
      "metadata": {
        "id": "o-fN9Hqu-MqA"
      },
      "source": [
        "Влияние отзывов критиков и пользователей на продажи игр на остальных платформах"
      ]
    },
    {
      "cell_type": "code",
      "execution_count": null,
      "metadata": {
        "id": "nt-T-PNi-MqA",
        "outputId": "eadf13da-1569-4a9b-cf70-a5c5e245c786"
      },
      "outputs": [
        {
          "data": {
            "text/plain": [
              "'Коэффициент корреляции Пирсона между продажами и оценкой пользователей на других платформах: '"
            ]
          },
          "metadata": {},
          "output_type": "display_data"
        },
        {
          "data": {
            "text/plain": [
              "-0.0011216242093378534"
            ]
          },
          "metadata": {},
          "output_type": "display_data"
        }
      ],
      "source": [
        "#Вычислим коэффициент корреляции Пирсона между продажами и оценкой пользователей для оценки влияния на остальных платформах\n",
        "display(\"Коэффициент корреляции Пирсона между продажами и оценкой пользователей на других платформах: \",\n",
        "    data_games[data_games['platform'] != 'ps4']['world_sales']\n",
        "        .corr(data_games[data_games['platform'] != 'ps4']['user_score'])\n",
        ")"
      ]
    },
    {
      "cell_type": "code",
      "execution_count": null,
      "metadata": {
        "id": "UFhp2ZUs-MqB",
        "outputId": "d49a412b-1cc1-413f-971a-7c1e1f918471"
      },
      "outputs": [
        {
          "data": {
            "text/plain": [
              "'Коэффициент корреляции Пирсона между продажами и оценкой критиков на других платформах: '"
            ]
          },
          "metadata": {},
          "output_type": "display_data"
        },
        {
          "data": {
            "text/plain": [
              "0.2812510848217566"
            ]
          },
          "metadata": {},
          "output_type": "display_data"
        }
      ],
      "source": [
        "#Вычислим коэффициент корреляции Пирсона между продажами и оценкой критиков для оценки влияния на остальных платформах\n",
        "display(\"Коэффициент корреляции Пирсона между продажами и оценкой критиков на других платформах: \",\n",
        "    data_games[data_games['platform'] != 'ps4']['world_sales']\n",
        "        .corr(data_games[data_games['platform'] != 'ps4']['critic_score'])\n",
        ")"
      ]
    },
    {
      "cell_type": "markdown",
      "metadata": {
        "id": "oRzets3k-MqB"
      },
      "source": [
        "Для остальных платформ выводы по корреляции такие же: практически нет связи между продажами и оценкой пользователей, и есть прямая связь между продажами и оценками критиков."
      ]
    },
    {
      "cell_type": "markdown",
      "metadata": {
        "id": "WalO8zCn-MqB"
      },
      "source": [
        "<div class=\"alert alert-success\">\n",
        "<b>Комментарий ревьюера v.1</b>\n",
        "    \n",
        "👍\n",
        "Верно. Оценка критиков имеет слабое влияние на продажи, оценка пользователей на продажи не влияет.\n",
        "</div>"
      ]
    },
    {
      "cell_type": "markdown",
      "metadata": {
        "id": "afBfYLDh-MqB"
      },
      "source": [
        "Анализ общего распределения по жанрам"
      ]
    },
    {
      "cell_type": "code",
      "execution_count": null,
      "metadata": {
        "id": "D3tBmt-H-MqB",
        "outputId": "fde9ed04-4c4c-4601-b66f-7806f15adbab"
      },
      "outputs": [
        {
          "data": {
            "text/html": [
              "<div>\n",
              "<style scoped>\n",
              "    .dataframe tbody tr th:only-of-type {\n",
              "        vertical-align: middle;\n",
              "    }\n",
              "\n",
              "    .dataframe tbody tr th {\n",
              "        vertical-align: top;\n",
              "    }\n",
              "\n",
              "    .dataframe thead th {\n",
              "        text-align: right;\n",
              "    }\n",
              "</style>\n",
              "<table border=\"1\" class=\"dataframe\">\n",
              "  <thead>\n",
              "    <tr style=\"text-align: right;\">\n",
              "      <th></th>\n",
              "      <th>genre</th>\n",
              "      <th>world_sales</th>\n",
              "    </tr>\n",
              "  </thead>\n",
              "  <tbody>\n",
              "    <tr>\n",
              "      <th>0</th>\n",
              "      <td>action</td>\n",
              "      <td>1744.17</td>\n",
              "    </tr>\n",
              "    <tr>\n",
              "      <th>1</th>\n",
              "      <td>sports</td>\n",
              "      <td>1331.27</td>\n",
              "    </tr>\n",
              "    <tr>\n",
              "      <th>2</th>\n",
              "      <td>shooter</td>\n",
              "      <td>1052.45</td>\n",
              "    </tr>\n",
              "    <tr>\n",
              "      <th>3</th>\n",
              "      <td>role-playing</td>\n",
              "      <td>934.56</td>\n",
              "    </tr>\n",
              "    <tr>\n",
              "      <th>4</th>\n",
              "      <td>platform</td>\n",
              "      <td>827.77</td>\n",
              "    </tr>\n",
              "    <tr>\n",
              "      <th>5</th>\n",
              "      <td>misc</td>\n",
              "      <td>802.51</td>\n",
              "    </tr>\n",
              "    <tr>\n",
              "      <th>6</th>\n",
              "      <td>racing</td>\n",
              "      <td>728.67</td>\n",
              "    </tr>\n",
              "    <tr>\n",
              "      <th>7</th>\n",
              "      <td>fighting</td>\n",
              "      <td>447.53</td>\n",
              "    </tr>\n",
              "    <tr>\n",
              "      <th>8</th>\n",
              "      <td>simulation</td>\n",
              "      <td>389.97</td>\n",
              "    </tr>\n",
              "    <tr>\n",
              "      <th>9</th>\n",
              "      <td>puzzle</td>\n",
              "      <td>242.57</td>\n",
              "    </tr>\n",
              "    <tr>\n",
              "      <th>10</th>\n",
              "      <td>adventure</td>\n",
              "      <td>237.59</td>\n",
              "    </tr>\n",
              "    <tr>\n",
              "      <th>11</th>\n",
              "      <td>strategy</td>\n",
              "      <td>174.23</td>\n",
              "    </tr>\n",
              "  </tbody>\n",
              "</table>\n",
              "</div>"
            ],
            "text/plain": [
              "           genre  world_sales\n",
              "0         action      1744.17\n",
              "1         sports      1331.27\n",
              "2        shooter      1052.45\n",
              "3   role-playing       934.56\n",
              "4       platform       827.77\n",
              "5           misc       802.51\n",
              "6         racing       728.67\n",
              "7       fighting       447.53\n",
              "8     simulation       389.97\n",
              "9         puzzle       242.57\n",
              "10     adventure       237.59\n",
              "11      strategy       174.23"
            ]
          },
          "execution_count": 41,
          "metadata": {},
          "output_type": "execute_result"
        }
      ],
      "source": [
        "#Методом сводных таблиц выведем жанры и их продажи\n",
        "main_genre = data.pivot_table(\n",
        "    index='genre', values='world_sales', aggfunc='sum').sort_values(by='world_sales', ascending=False)\n",
        "main_genre = main_genre.reset_index().rename_axis(None, axis=1)\n",
        "main_genre"
      ]
    },
    {
      "cell_type": "code",
      "execution_count": null,
      "metadata": {
        "id": "WiK1bJw--MqB",
        "outputId": "05212de5-9bc3-4125-f64f-e6e4c074b344"
      },
      "outputs": [
        {
          "data": {
            "text/plain": [
              "Text(0, 0.5, 'Продажи')"
            ]
          },
          "execution_count": 42,
          "metadata": {},
          "output_type": "execute_result"
        },
        {
          "data": {
            "image/png": "[encoded data removed]",
            "text/plain": [
              "<Figure size 864x432 with 1 Axes>"
            ]
          },
          "metadata": {
            "needs_background": "light"
          },
          "output_type": "display_data"
        }
      ],
      "source": [
        "#Составим барплот чтобы оценить, какие жанры популярнее других в плане продаж, а какие менее\n",
        "plt.figure(figsize=(12,6))\n",
        "plt.title('Распределение игр по жанрам ',fontsize=15)\n",
        "sns.barplot(data=main_genre, x='genre', y='world_sales')\n",
        "plt.xlabel('Жанры игр',fontsize=12)\n",
        "plt.ylabel('Продажи',fontsize=12)"
      ]
    },
    {
      "cell_type": "markdown",
      "metadata": {
        "id": "SaRgk303-MqB"
      },
      "source": [
        "Лучше всех по продажам оказались жанры экшен, спортивные симуляторы и шутеры. Наименее раскупаемые - паззлы, приключения и стратегии"
      ]
    },
    {
      "cell_type": "code",
      "execution_count": null,
      "metadata": {
        "id": "xIE1Xlpm-MqC",
        "outputId": "b4ea42ab-940d-4729-fbad-7f2f681f7404"
      },
      "outputs": [
        {
          "data": {
            "text/html": [
              "<div>\n",
              "<style scoped>\n",
              "    .dataframe tbody tr th:only-of-type {\n",
              "        vertical-align: middle;\n",
              "    }\n",
              "\n",
              "    .dataframe tbody tr th {\n",
              "        vertical-align: top;\n",
              "    }\n",
              "\n",
              "    .dataframe thead th {\n",
              "        text-align: right;\n",
              "    }\n",
              "</style>\n",
              "<table border=\"1\" class=\"dataframe\">\n",
              "  <thead>\n",
              "    <tr style=\"text-align: right;\">\n",
              "      <th></th>\n",
              "      <th>count</th>\n",
              "      <th>mean</th>\n",
              "      <th>std</th>\n",
              "      <th>min</th>\n",
              "      <th>25%</th>\n",
              "      <th>50%</th>\n",
              "      <th>75%</th>\n",
              "      <th>max</th>\n",
              "    </tr>\n",
              "    <tr>\n",
              "      <th>genre</th>\n",
              "      <th></th>\n",
              "      <th></th>\n",
              "      <th></th>\n",
              "      <th></th>\n",
              "      <th></th>\n",
              "      <th></th>\n",
              "      <th></th>\n",
              "      <th></th>\n",
              "    </tr>\n",
              "  </thead>\n",
              "  <tbody>\n",
              "    <tr>\n",
              "      <th>action</th>\n",
              "      <td>3369.0</td>\n",
              "      <td>0.517711</td>\n",
              "      <td>1.145597</td>\n",
              "      <td>0.01</td>\n",
              "      <td>0.07</td>\n",
              "      <td>0.19</td>\n",
              "      <td>0.4900</td>\n",
              "      <td>21.05</td>\n",
              "    </tr>\n",
              "    <tr>\n",
              "      <th>adventure</th>\n",
              "      <td>1303.0</td>\n",
              "      <td>0.182341</td>\n",
              "      <td>0.508533</td>\n",
              "      <td>0.01</td>\n",
              "      <td>0.02</td>\n",
              "      <td>0.05</td>\n",
              "      <td>0.1500</td>\n",
              "      <td>11.18</td>\n",
              "    </tr>\n",
              "    <tr>\n",
              "      <th>fighting</th>\n",
              "      <td>849.0</td>\n",
              "      <td>0.527126</td>\n",
              "      <td>0.952304</td>\n",
              "      <td>0.01</td>\n",
              "      <td>0.08</td>\n",
              "      <td>0.21</td>\n",
              "      <td>0.5500</td>\n",
              "      <td>12.84</td>\n",
              "    </tr>\n",
              "    <tr>\n",
              "      <th>misc</th>\n",
              "      <td>1750.0</td>\n",
              "      <td>0.458577</td>\n",
              "      <td>1.304635</td>\n",
              "      <td>0.01</td>\n",
              "      <td>0.06</td>\n",
              "      <td>0.16</td>\n",
              "      <td>0.4000</td>\n",
              "      <td>28.91</td>\n",
              "    </tr>\n",
              "    <tr>\n",
              "      <th>platform</th>\n",
              "      <td>888.0</td>\n",
              "      <td>0.932173</td>\n",
              "      <td>2.574506</td>\n",
              "      <td>0.01</td>\n",
              "      <td>0.09</td>\n",
              "      <td>0.27</td>\n",
              "      <td>0.7825</td>\n",
              "      <td>40.24</td>\n",
              "    </tr>\n",
              "    <tr>\n",
              "      <th>puzzle</th>\n",
              "      <td>580.0</td>\n",
              "      <td>0.418224</td>\n",
              "      <td>1.562444</td>\n",
              "      <td>0.01</td>\n",
              "      <td>0.04</td>\n",
              "      <td>0.11</td>\n",
              "      <td>0.3025</td>\n",
              "      <td>30.26</td>\n",
              "    </tr>\n",
              "    <tr>\n",
              "      <th>racing</th>\n",
              "      <td>1249.0</td>\n",
              "      <td>0.583403</td>\n",
              "      <td>1.656602</td>\n",
              "      <td>0.00</td>\n",
              "      <td>0.07</td>\n",
              "      <td>0.19</td>\n",
              "      <td>0.5300</td>\n",
              "      <td>35.52</td>\n",
              "    </tr>\n",
              "    <tr>\n",
              "      <th>role-playing</th>\n",
              "      <td>1498.0</td>\n",
              "      <td>0.623872</td>\n",
              "      <td>1.710178</td>\n",
              "      <td>0.01</td>\n",
              "      <td>0.07</td>\n",
              "      <td>0.18</td>\n",
              "      <td>0.5200</td>\n",
              "      <td>31.38</td>\n",
              "    </tr>\n",
              "    <tr>\n",
              "      <th>shooter</th>\n",
              "      <td>1323.0</td>\n",
              "      <td>0.795503</td>\n",
              "      <td>1.816425</td>\n",
              "      <td>0.01</td>\n",
              "      <td>0.08</td>\n",
              "      <td>0.24</td>\n",
              "      <td>0.7300</td>\n",
              "      <td>28.31</td>\n",
              "    </tr>\n",
              "    <tr>\n",
              "      <th>simulation</th>\n",
              "      <td>873.0</td>\n",
              "      <td>0.446701</td>\n",
              "      <td>1.186820</td>\n",
              "      <td>0.01</td>\n",
              "      <td>0.05</td>\n",
              "      <td>0.15</td>\n",
              "      <td>0.4200</td>\n",
              "      <td>24.67</td>\n",
              "    </tr>\n",
              "    <tr>\n",
              "      <th>sports</th>\n",
              "      <td>2348.0</td>\n",
              "      <td>0.566980</td>\n",
              "      <td>2.084778</td>\n",
              "      <td>0.00</td>\n",
              "      <td>0.09</td>\n",
              "      <td>0.22</td>\n",
              "      <td>0.5500</td>\n",
              "      <td>82.54</td>\n",
              "    </tr>\n",
              "    <tr>\n",
              "      <th>strategy</th>\n",
              "      <td>683.0</td>\n",
              "      <td>0.255095</td>\n",
              "      <td>0.518998</td>\n",
              "      <td>0.01</td>\n",
              "      <td>0.04</td>\n",
              "      <td>0.10</td>\n",
              "      <td>0.2650</td>\n",
              "      <td>5.45</td>\n",
              "    </tr>\n",
              "  </tbody>\n",
              "</table>\n",
              "</div>"
            ],
            "text/plain": [
              "               count      mean       std   min   25%   50%     75%    max\n",
              "genre                                                                    \n",
              "action        3369.0  0.517711  1.145597  0.01  0.07  0.19  0.4900  21.05\n",
              "adventure     1303.0  0.182341  0.508533  0.01  0.02  0.05  0.1500  11.18\n",
              "fighting       849.0  0.527126  0.952304  0.01  0.08  0.21  0.5500  12.84\n",
              "misc          1750.0  0.458577  1.304635  0.01  0.06  0.16  0.4000  28.91\n",
              "platform       888.0  0.932173  2.574506  0.01  0.09  0.27  0.7825  40.24\n",
              "puzzle         580.0  0.418224  1.562444  0.01  0.04  0.11  0.3025  30.26\n",
              "racing        1249.0  0.583403  1.656602  0.00  0.07  0.19  0.5300  35.52\n",
              "role-playing  1498.0  0.623872  1.710178  0.01  0.07  0.18  0.5200  31.38\n",
              "shooter       1323.0  0.795503  1.816425  0.01  0.08  0.24  0.7300  28.31\n",
              "simulation     873.0  0.446701  1.186820  0.01  0.05  0.15  0.4200  24.67\n",
              "sports        2348.0  0.566980  2.084778  0.00  0.09  0.22  0.5500  82.54\n",
              "strategy       683.0  0.255095  0.518998  0.01  0.04  0.10  0.2650   5.45"
            ]
          },
          "execution_count": 43,
          "metadata": {},
          "output_type": "execute_result"
        }
      ],
      "source": [
        "#Посмотрим на числовое описание всех данных по продажам игр в различных жанрах\n",
        "data.groupby('genre')['world_sales'].describe()"
      ]
    },
    {
      "cell_type": "markdown",
      "metadata": {
        "id": "VmT2CV3f-MqC"
      },
      "source": [
        "После рассмотрения медианных и средних значений при учете стандартных отклонений можно сделать вывод, что жанром-лидером со стабильными продажами с большим отрывом от конкурентов является Shooter"
      ]
    },
    {
      "cell_type": "code",
      "execution_count": null,
      "metadata": {
        "id": "8LLwYMeD-MqC",
        "outputId": "b2aa1318-e645-49f3-9828-cf3e53072745"
      },
      "outputs": [
        {
          "data": {
            "text/html": [
              "<div>\n",
              "<style scoped>\n",
              "    .dataframe tbody tr th:only-of-type {\n",
              "        vertical-align: middle;\n",
              "    }\n",
              "\n",
              "    .dataframe tbody tr th {\n",
              "        vertical-align: top;\n",
              "    }\n",
              "\n",
              "    .dataframe thead th {\n",
              "        text-align: right;\n",
              "    }\n",
              "</style>\n",
              "<table border=\"1\" class=\"dataframe\">\n",
              "  <thead>\n",
              "    <tr style=\"text-align: right;\">\n",
              "      <th></th>\n",
              "      <th>world_sales</th>\n",
              "    </tr>\n",
              "    <tr>\n",
              "      <th>genre</th>\n",
              "      <th></th>\n",
              "    </tr>\n",
              "  </thead>\n",
              "  <tbody>\n",
              "    <tr>\n",
              "      <th>action</th>\n",
              "      <td>321.87</td>\n",
              "    </tr>\n",
              "    <tr>\n",
              "      <th>shooter</th>\n",
              "      <td>232.98</td>\n",
              "    </tr>\n",
              "    <tr>\n",
              "      <th>sports</th>\n",
              "      <td>150.65</td>\n",
              "    </tr>\n",
              "    <tr>\n",
              "      <th>role-playing</th>\n",
              "      <td>145.89</td>\n",
              "    </tr>\n",
              "    <tr>\n",
              "      <th>misc</th>\n",
              "      <td>62.82</td>\n",
              "    </tr>\n",
              "    <tr>\n",
              "      <th>platform</th>\n",
              "      <td>42.63</td>\n",
              "    </tr>\n",
              "    <tr>\n",
              "      <th>racing</th>\n",
              "      <td>39.89</td>\n",
              "    </tr>\n",
              "    <tr>\n",
              "      <th>fighting</th>\n",
              "      <td>35.31</td>\n",
              "    </tr>\n",
              "    <tr>\n",
              "      <th>adventure</th>\n",
              "      <td>23.64</td>\n",
              "    </tr>\n",
              "    <tr>\n",
              "      <th>simulation</th>\n",
              "      <td>21.76</td>\n",
              "    </tr>\n",
              "    <tr>\n",
              "      <th>strategy</th>\n",
              "      <td>10.08</td>\n",
              "    </tr>\n",
              "    <tr>\n",
              "      <th>puzzle</th>\n",
              "      <td>3.17</td>\n",
              "    </tr>\n",
              "  </tbody>\n",
              "</table>\n",
              "</div>"
            ],
            "text/plain": [
              "              world_sales\n",
              "genre                    \n",
              "action             321.87\n",
              "shooter            232.98\n",
              "sports             150.65\n",
              "role-playing       145.89\n",
              "misc                62.82\n",
              "platform            42.63\n",
              "racing              39.89\n",
              "fighting            35.31\n",
              "adventure           23.64\n",
              "simulation          21.76\n",
              "strategy            10.08\n",
              "puzzle               3.17"
            ]
          },
          "execution_count": 44,
          "metadata": {},
          "output_type": "execute_result"
        }
      ],
      "source": [
        "#Проверим объёмы продаж по жанрам\n",
        "(\n",
        "    data_games\n",
        "    .pivot_table(index='genre', values='world_sales', aggfunc='sum')\n",
        "    .sort_values('world_sales', ascending=False)\n",
        ")"
      ]
    },
    {
      "cell_type": "markdown",
      "metadata": {
        "id": "tW0f_QPu-MqC"
      },
      "source": [
        "Наиболее прибыльные жанры: Action, Shooter, Sports, Role-Playing"
      ]
    },
    {
      "cell_type": "markdown",
      "metadata": {
        "id": "7DP3jkl_-MqC"
      },
      "source": [
        "Теперь посмотрим относительно выбранного нами участка времени 2013-2016 г.г"
      ]
    },
    {
      "cell_type": "code",
      "execution_count": null,
      "metadata": {
        "id": "qQefb08K-MqC",
        "outputId": "75f9b397-561c-4429-da8a-e07c3c3f08f9"
      },
      "outputs": [
        {
          "data": {
            "text/plain": [
              "<AxesSubplot:title={'center':'Распределение количества игр по жанрам'}>"
            ]
          },
          "execution_count": 45,
          "metadata": {},
          "output_type": "execute_result"
        },
        {
          "data": {
            "image/png": "[encoded data removed]",
            "text/plain": [
              "<Figure size 432x288 with 1 Axes>"
            ]
          },
          "metadata": {
            "needs_background": "light"
          },
          "output_type": "display_data"
        }
      ],
      "source": [
        "#Составим барплот чтобы оценить, какие жанры популярнее других в плане продаж, а какие менее в период 2013-2016гг\n",
        "data_games.genre.value_counts().plot(kind='bar', title ='Распределение количества игр по жанрам')\n"
      ]
    },
    {
      "cell_type": "code",
      "execution_count": null,
      "metadata": {
        "id": "WMI0qY9m-MqC",
        "outputId": "53a3f49f-2a84-4db6-adf6-ad84eedb5cdd"
      },
      "outputs": [
        {
          "data": {
            "text/plain": [
              "<AxesSubplot:title={'center':'Распределение медианного количества продаж по жанрам'}, xlabel='genre'>"
            ]
          },
          "execution_count": 46,
          "metadata": {},
          "output_type": "execute_result"
        },
        {
          "data": {
            "image/png": "[encoded data removed]",
            "text/plain": [
              "<Figure size 432x288 with 1 Axes>"
            ]
          },
          "metadata": {
            "needs_background": "light"
          },
          "output_type": "display_data"
        }
      ],
      "source": [
        "#Определим наиболее прибыльные жанры 2013-2016 г.г.\n",
        "(\n",
        "    data_games\n",
        "    .pivot_table(index='genre', values='world_sales', aggfunc='median')\n",
        "    .sort_values('world_sales', ascending=False)\n",
        "    .plot(kind='bar', title ='Распределение медианного количества продаж по жанрам')\n",
        ")"
      ]
    },
    {
      "cell_type": "code",
      "execution_count": null,
      "metadata": {
        "id": "pshIdsuF-MqD"
      },
      "outputs": [],
      "source": [
        "#Рассмотрим ежегодные продажи внутри каждого жанра\n",
        "purchase_genres = (\n",
        "    data_games\n",
        "    .pivot_table(index='genre', values='world_sales', aggfunc='median')\n",
        "    .sort_values('world_sales', ascending=False)\n",
        "    .index)"
      ]
    },
    {
      "cell_type": "code",
      "execution_count": null,
      "metadata": {
        "scrolled": true,
        "id": "QP79yPkb-MqD",
        "outputId": "a007a238-7edf-494d-fbde-896ab2610f16"
      },
      "outputs": [
        {
          "data": {
            "image/png": "[encoded data removed]",
            "text/plain": [
              "<Figure size 576x288 with 1 Axes>"
            ]
          },
          "metadata": {
            "needs_background": "light"
          },
          "output_type": "display_data"
        },
        {
          "data": {
            "image/png": "[encoded data removed]",
            "text/plain": [
              "<Figure size 576x288 with 1 Axes>"
            ]
          },
          "metadata": {
            "needs_background": "light"
          },
          "output_type": "display_data"
        },
        {
          "data": {
            "image/png": "[encoded data removed]",
            "text/plain": [
              "<Figure size 576x288 with 1 Axes>"
            ]
          },
          "metadata": {
            "needs_background": "light"
          },
          "output_type": "display_data"
        },
        {
          "data": {
            "image/png": "[encoded data removed]",
            "text/plain": [
              "<Figure size 576x288 with 1 Axes>"
            ]
          },
          "metadata": {
            "needs_background": "light"
          },
          "output_type": "display_data"
        },
        {
          "data": {
            "image/png": "[encoded data removed]",
            "text/plain": [
              "<Figure size 576x288 with 1 Axes>"
            ]
          },
          "metadata": {
            "needs_background": "light"
          },
          "output_type": "display_data"
        },
        {
          "data": {
            "image/png": "[encoded data removed]",
            "text/plain": [
              "<Figure size 576x288 with 1 Axes>"
            ]
          },
          "metadata": {
            "needs_background": "light"
          },
          "output_type": "display_data"
        },
        {
          "data": {
            "image/png": "[encoded data removed]",
            "text/plain": [
              "<Figure size 576x288 with 1 Axes>"
            ]
          },
          "metadata": {
            "needs_background": "light"
          },
          "output_type": "display_data"
        },
        {
          "data": {
            "image/png": "[encoded data removed]",
            "text/plain": [
              "<Figure size 576x288 with 1 Axes>"
            ]
          },
          "metadata": {
            "needs_background": "light"
          },
          "output_type": "display_data"
        },
        {
          "data": {
            "image/png": "[encoded data removed]",
            "text/plain": [
              "<Figure size 576x288 with 1 Axes>"
            ]
          },
          "metadata": {
            "needs_background": "light"
          },
          "output_type": "display_data"
        },
        {
          "data": {
            "image/png": "[encoded data removed]",
            "text/plain": [
              "<Figure size 576x288 with 1 Axes>"
            ]
          },
          "metadata": {
            "needs_background": "light"
          },
          "output_type": "display_data"
        },
        {
          "data": {
            "image/png": "[encoded data removed]",
            "text/plain": [
              "<Figure size 576x288 with 1 Axes>"
            ]
          },
          "metadata": {
            "needs_background": "light"
          },
          "output_type": "display_data"
        },
        {
          "data": {
            "image/png": "[encoded data removed]",
            "text/plain": [
              "<Figure size 576x288 with 1 Axes>"
            ]
          },
          "metadata": {
            "needs_background": "light"
          },
          "output_type": "display_data"
        }
      ],
      "source": [
        "for i in purchase_genres:\n",
        "    (\n",
        "        data_games.query('genre == @i')\n",
        "        .pivot_table(index='year_of_release', values='world_sales', aggfunc='median')\n",
        "        .sort_values(by ='year_of_release')\n",
        "        .plot(kind='bar', figsize=(8, 4), title=i)\n",
        "    );"
      ]
    },
    {
      "cell_type": "markdown",
      "metadata": {
        "id": "fR6lq2ls-MqD"
      },
      "source": [
        "*Дополнительно построим диаграммы размаха жля жанров*"
      ]
    },
    {
      "cell_type": "code",
      "execution_count": null,
      "metadata": {
        "id": "_Zx2TFJI-MqD"
      },
      "outputs": [],
      "source": [
        "#Переменная для сортировки ящиков с усами по порядку медианного значения\n",
        "order = (\n",
        "    data_games\n",
        "    .pivot_table(index='genre', values='world_sales', aggfunc='median')\n",
        "    .sort_values(by='world_sales', ascending=False)\n",
        "    .index)"
      ]
    },
    {
      "cell_type": "code",
      "execution_count": null,
      "metadata": {
        "scrolled": false,
        "id": "0hF7oI6e-MqD",
        "outputId": "fb5392a9-dc88-428e-e819-49bb47604329"
      },
      "outputs": [
        {
          "data": {
            "image/png": "[encoded data removed]",
            "text/plain": [
              "<Figure size 1440x720 with 1 Axes>"
            ]
          },
          "metadata": {
            "needs_background": "light"
          },
          "output_type": "display_data"
        }
      ],
      "source": [
        "plt.figure(figsize=(20, 10))\n",
        "sns.boxplot(data=data_games, x='genre', y='world_sales', order=order, showfliers=False, palette='mako_r');"
      ]
    },
    {
      "cell_type": "markdown",
      "metadata": {
        "id": "Ep6NwTBI-MqD"
      },
      "source": [
        "*Исходя из ящиков с усами по медианным значениям за 2013-2016 гг. можно прийти к выводу, что перспективными и прибыльными жанрами\n",
        "являются shooter, sports и platform.*"
      ]
    },
    {
      "cell_type": "code",
      "execution_count": null,
      "metadata": {
        "id": "UNLWyrX--MqD"
      },
      "outputs": [],
      "source": [
        "#Можно еще такой ящик с усами рассмотреть\n",
        "#plt.figure(figsize=(20, 10))\n",
        "\n",
        "#sns.boxplot(data=data_games, x='genre', y='world_sales')\n",
        "\n",
        "#plt.ylim(0, .85)\n",
        "\n",
        "#plt.title('\"Ящики с усами\" по продаже игр по жанрам')\n",
        "#plt.xlabel('Продажи, млн. шт.')\n",
        "#plt.ylabel('Жанры игр')\n",
        "\n",
        "#plt.show()"
      ]
    },
    {
      "cell_type": "markdown",
      "metadata": {
        "id": "nHswhK19-MqD"
      },
      "source": [
        "<div class=\"alert alert-danger\">\n",
        "<b>Комментарий ревьюера v.1</b>\n",
        "    \n",
        "✍\n",
        "Общие продажи - плохая метрика для поиска наиболее прибыльного жанра. За высокими показателями общих продаж может скрываться множество мелких игр с низкими продажами. Или 2-3 звезды и куча провалов. Лучше найти жанр, где игры стабильно приносят высокий доход - для этого стоит рассмотреть средние или медианные продажи. По этому нам лучше добавить сравнение медианных продаж, проиллюстрировав их диаграммами размаха и изменить промежуточные выводы. Сделаем?\n",
        "</div>"
      ]
    },
    {
      "cell_type": "markdown",
      "metadata": {
        "id": "QUlyu3mu-MqE"
      },
      "source": [
        "<div class=\"alert alert-danger\">\n",
        "<b>Комментарий ревьюера v.1</b>\n",
        "    \n",
        "✍\n",
        "И здесь код падает с ошибкой :( Поправь его, пожалуйста и пришли работу на повторное ревью. Буду ждать :)\n",
        "</div>"
      ]
    },
    {
      "cell_type": "markdown",
      "metadata": {
        "id": "zZ8GEa1--MqE"
      },
      "source": [
        "<div class=\"alert alert-success\">\n",
        "<b>Комментарий ревьюера v.2</b>\n",
        "    \n",
        "👍\n",
        "Да, теперь все верно.\n",
        "</div>"
      ]
    },
    {
      "cell_type": "markdown",
      "metadata": {
        "id": "nGiaWztp-MqE"
      },
      "source": [
        "**Вывод:**  \n",
        "Все время:  \n",
        "Лучше всех по продажам оказались жанры Action, Shooter и  Sports  \n",
        "Наиболее прибыльные жанры: Action, Shooter, Sports и Role-Playing  \n",
        "Самым стабильным жанром по продажам относительно статистических данных оказался Shooter  \n",
        "\n",
        "2013-2016гг:    \n",
        "*Лучшие по продажам: Shooter, Sports и Platform*    \n",
        "Количество продаж по всем играм уменьшается, однако в целом стабильно прибыльно себя показывают жанры Shooter, Sports, Platform, Role-Playing и Fighting  "
      ]
    },
    {
      "cell_type": "markdown",
      "metadata": {
        "id": "l2OuBJCr-MqE"
      },
      "source": [
        "**Выводы по шагу 3:**    \n",
        "Большая часть выпущенных игр в представленной выборке приходится на период с 2013 до 2016 года.  \n",
        "Перспективные платформы (находятся в зоне роста или стагнации по продажам): PS4, XOne.  \n",
        "Вычисление коэффициентов корреляции Пирсона дало следующие результаты:  \n",
        "Практически нет связи между продажами и оценкой пользователей.  \n",
        "Есть прямая связь между продажами и оценками критиков.  \n",
        "Жанры-лидеры по представленности в выборке - Action, Role-Playing, Sports, Shooter.  \n",
        "Наиболее прибыльныe жанры: Shooter, Sports и Platform.  "
      ]
    },
    {
      "cell_type": "markdown",
      "metadata": {
        "id": "X6h-4wVV-MqE"
      },
      "source": [
        "**ШАГ 4 ПОРТРЕТ ПОЛЬЗОВАТЕЛЯ КАЖДОГО РЕГИОНА**"
      ]
    },
    {
      "cell_type": "markdown",
      "metadata": {
        "id": "rI9sUeLT-MqE"
      },
      "source": [
        "Определим для пользователей каждого региона самые популярные платформы"
      ]
    },
    {
      "cell_type": "code",
      "execution_count": null,
      "metadata": {
        "id": "v3i5xy3q-MqE",
        "outputId": "b04c772c-4e1b-44c7-b6db-4e4f1056deac"
      },
      "outputs": [
        {
          "data": {
            "image/png": "[encoded data removed]",
            "text/plain": [
              "<Figure size 864x576 with 1 Axes>"
            ]
          },
          "metadata": {
            "needs_background": "light"
          },
          "output_type": "display_data"
        }
      ],
      "source": [
        "#Сумма проданных копий для Северной Америки по платформам\n",
        "na_platf = data_games.groupby(['platform'])['na_sales'].agg(['sum'])\n",
        "#Cумма проданных копий для Европы по платформам\n",
        "eu_platf = data_games.groupby(['platform'])['eu_sales'].agg(['sum'])\n",
        "#Cумма проданных копий для Японии по платформам\n",
        "jp_platf = data_games.groupby(['platform'])['jp_sales'].agg(['sum'])\n",
        "#Oбъединяем Series\n",
        "users_platf = pd.concat([na_platf, eu_platf, jp_platf], axis=1).reset_index()\n",
        "users_platf.columns = ['platform', 'american_user', 'europe_user', 'japan_user']\n",
        "users_platf = users_platf.sort_values(by='american_user', ascending=False)\n",
        "#Cтроим barplot\n",
        "users_platf.plot.bar(x=\"platform\", rot=0, figsize =(12, 8))\n",
        "plt.title('Сравнение популярности платформ в разных странах', fontsize=13)\n",
        "plt.xlabel('Платформы', fontsize=10)\n",
        "plt.ylabel('Продажи, млн шт',fontsize=13)\n",
        "plt.show()"
      ]
    },
    {
      "cell_type": "markdown",
      "metadata": {
        "id": "CHoxpb5V-MqE"
      },
      "source": [
        "Из графика видно:  \n",
        "Для пользователей Америки самыми популярными платформами являются ps4 (более 100 млн. шт), xone (более 90 млн. шт), x360 (80 млн.шт) Самыми непопулярными платформами являются ds, wii, psv и psp.  \n",
        "Для пользователей Европы самыми популярными платформами также являются ps4 (140 млн. шт) и xone (50 млн. шт) и не потеряла актуальность ps3 (более 60 млн. шт). Самыми непопулярными платформами так же являются ds, wii, psv и psp.  \n",
        "Для пользователей Японии самой популярной платформой является 3DS (более 60 млн. шт). Самыми непопулярными платформами являются xone, x360, wii, ds и pc.  "
      ]
    },
    {
      "cell_type": "markdown",
      "metadata": {
        "id": "_vufhbMP-MqF"
      },
      "source": [
        "<div class=\"alert alert-success\">\n",
        "<b>Комментарий ревьюера v.2</b>\n",
        "    \n",
        "👍\n",
        "Верная интерпретация полученных данных.\n",
        "</div>"
      ]
    },
    {
      "cell_type": "markdown",
      "metadata": {
        "id": "n1J5uwkQ-MqF"
      },
      "source": [
        "Определим для пользователей каждого региона самые популярные жанры игр"
      ]
    },
    {
      "cell_type": "code",
      "execution_count": null,
      "metadata": {
        "id": "Vjd6FuOJ-MqF",
        "outputId": "24e51040-38c5-44a0-8256-34515a752769"
      },
      "outputs": [
        {
          "data": {
            "image/png": "[encoded data removed]",
            "text/plain": [
              "<Figure size 1080x576 with 1 Axes>"
            ]
          },
          "metadata": {
            "needs_background": "light"
          },
          "output_type": "display_data"
        }
      ],
      "source": [
        "#Cумма проданных копий для Северной Америки по жанрам\n",
        "na_genre = data_games.groupby(['genre'])['na_sales'].agg(['sum'])\n",
        "#Cумма проданных копий для Европы по жанрам\n",
        "eu_genre = data_games.groupby(['genre'])['eu_sales'].agg(['sum'])\n",
        "#Cумма проданных копий для Японии по жанрам\n",
        "jp_genre = data_games.groupby(['genre'])['jp_sales'].agg(['sum'])\n",
        "#Объединяем Series\n",
        "users_genre = pd.concat([na_genre, eu_genre, jp_genre], axis=1).reset_index()\n",
        "users_genre.columns = ['genre', 'american_user', 'europe_user', 'japan_user']\n",
        "users_genre = users_genre.sort_values(by='american_user', ascending=False)\n",
        "#Cтроим barplot\n",
        "users_genre.plot.bar(x=\"genre\", rot=0, figsize =(15, 8))\n",
        "plt.title('Сравнение популярности жанров в разных странах', fontsize=14)\n",
        "plt.xlabel('Жанры', fontsize=10)\n",
        "plt.ylabel('Продажи, млн шт',fontsize=12)\n",
        "plt.show()"
      ]
    },
    {
      "cell_type": "markdown",
      "metadata": {
        "id": "ePYmr2RW-MqF"
      },
      "source": [
        "Из графика видно:  \n",
        "Для пользователей Америки самыми популярными жанрами являются Shooter (более 100 млн. шт), Sports (более 60 млн. шт) и Action (более 120 млн. шт). Самыми непопулярными жанрами в Америке являются Strategy и Puzzle.  \n",
        "Для пользователей Европы самыми популярными жанрами также являются Action (более 110 млн. шт) и Shooter (более 80 млн. шт) и  Sports (60 млн. шт). Самыми непопулярными жанрами в Европе также являются Strategy и Puzzle.  \n",
        "Для пользователей Японии самыми популярными жанрами с подавляющим преимуществом являются Role-Playing (около 50 млн. шт) и Action (40 млн. шт). Самыми непопулярными жанрами в Японии являются Strategy, Racing и Puzzle.  "
      ]
    },
    {
      "cell_type": "markdown",
      "metadata": {
        "id": "6ElEK5Cu-MqF"
      },
      "source": [
        "Определим влияние рейтинга ESRB на продажи в отдельном регионе"
      ]
    },
    {
      "cell_type": "code",
      "execution_count": null,
      "metadata": {
        "id": "MUH7Q53h-MqF",
        "outputId": "7764b30a-4413-4a3c-d97f-bdaa43229c0e"
      },
      "outputs": [
        {
          "data": {
            "image/png": "[encoded data removed]",
            "text/plain": [
              "<Figure size 1080x576 with 1 Axes>"
            ]
          },
          "metadata": {
            "needs_background": "light"
          },
          "output_type": "display_data"
        }
      ],
      "source": [
        "#Cумма проданных копий для Северной Америки по рейтингу\n",
        "na_rating = data_games.groupby(['rating'])['na_sales'].agg(['sum'])\n",
        "#Cумма проданных копий для Европы по рейтингу\n",
        "eu_rating = data_games.groupby(['rating'])['eu_sales'].agg(['sum'])\n",
        "#Cумма проданных копий для Японии по рейтингу\n",
        "jp_rating = data_games.groupby(['rating'])['jp_sales'].agg(['sum'])\n",
        "#Oбъединяем Series\n",
        "users_rat = pd.concat([na_rating, eu_rating, jp_rating], axis=1).reset_index()\n",
        "users_rat.columns = ['rating', 'american_user', 'europe_user', 'japan_user']\n",
        "users_rat = users_rat.sort_values(by='american_user', ascending=False)\n",
        "users_rat\n",
        "#Cтроим barplot\n",
        "users_rat.plot.bar(x=\"rating\", rot=0, figsize =(15, 8))\n",
        "plt.title('Сравнение популярности рейтингов игр в разных странах', fontsize=14)\n",
        "plt.xlabel('Рейтинг', fontsize=10)\n",
        "plt.ylabel('Продажи, млн шт',fontsize=12)\n",
        "plt.show()"
      ]
    },
    {
      "cell_type": "markdown",
      "metadata": {
        "id": "kRLQe_eR-MqF"
      },
      "source": [
        "Из графика видно:  \n",
        "Для пользователей Америки и Европы самые популярные игры с рейтингом М (более 140 млн. шт), затем следуют игры с неопределенным рейтингом Unknown (около 80 млн. шт), далее соответственно с рейтингом Е, Т и Е10+. Можно сказать, что в Америке и Европе пользователи отдают предпочтение похожим играм с одним и тем же рейтингом.  \n",
        "Для пользователей Японии все не как у обычных людей: самыми популярными являются игры с рейтингом Unknown (около 80 млн. шт), затем с рейтингом t, е, m и е10+ соответственно.  "
      ]
    },
    {
      "cell_type": "markdown",
      "metadata": {
        "id": "adi87rU6-MqF"
      },
      "source": [
        "**Выводы по шагу 4:**  \n",
        "В данном пункте проведены исследования для определения портрета пользователя каждого региона. Можно отметить, что предпочтения пользователей Америки и Европы во многом схожи, самыми популярными платформами являются PS4 и XOne, любимые жанры - Shooter и Action, игры с рейтингом М и Unknown.   \n",
        "В связи с многочисленностью пользователей в данных регионах бизнесу повышенное внимание в первую очередь стоит обратить на указанные платформы и жанры игр.   \n",
        "Предпочтения пользователей из Японии существенно отличаются, самой популярной платформой являются 3DS, любимые жанры - Role-Playing и Action и игры с рейтингом Unknown."
      ]
    },
    {
      "cell_type": "markdown",
      "metadata": {
        "id": "CPPwNgaN-MqG"
      },
      "source": [
        "<div class=\"alert alert-success\">\n",
        "<b>Комментарий ревьюера v.2</b>\n",
        "    \n",
        "👍\n",
        "Правильно, что мы при предобработке данных поставили заглушку на пропуски в рейтинге ESRB. Иначе игры без рейтинга оказались бы полностью исключенными из анализа. Но продажи именно этих игр могут указать на ключевое различие в регионах.\n",
        "</div>"
      ]
    },
    {
      "cell_type": "markdown",
      "metadata": {
        "id": "vdbO5wUS-MqG"
      },
      "source": [
        "**ШАГ 5 ГИПОТЕЗЫ**"
      ]
    },
    {
      "cell_type": "markdown",
      "metadata": {
        "id": "mxhT2zeV-MqG"
      },
      "source": [
        "Проверим гипотезу **\"Средние пользовательские рейтинги платформ Xbox One и PC одинаковые\"**"
      ]
    },
    {
      "cell_type": "markdown",
      "metadata": {
        "id": "83qjdi2C-MqG"
      },
      "source": [
        "Сформируем нулевую гипотезу:  \n",
        "    *H0: Средние пользовательские рейтинги Xbox One и PC одинаковые*  \n",
        "Альтернативная гипотеза:  \n",
        "    *H1: Средние пользовательские рейтинги Xbox One и PC не равны*"
      ]
    },
    {
      "cell_type": "markdown",
      "metadata": {
        "id": "mEqyFtXO-MqG"
      },
      "source": [
        "<div class=\"alert alert-success\">\n",
        "<b>Комментарий ревьюера v.2</b>\n",
        "    \n",
        "👍\n",
        "Гипотезы сформулированы верно.\n",
        "</div>"
      ]
    },
    {
      "cell_type": "code",
      "execution_count": null,
      "metadata": {
        "id": "_Nrq-N0J-MqG",
        "outputId": "ffc8bfa2-7937-4c82-9d2e-eb0ba4aa3202"
      },
      "outputs": [
        {
          "name": "stdout",
          "output_type": "stream",
          "text": [
            "p-значение: 0.1475959401343032\n",
            "Не получилось отвергнуть нулевую гипотезу\n"
          ]
        }
      ],
      "source": [
        "#Проверим гипотезу с помощью т-теста Стьюдента:\n",
        "\n",
        "#Удаляем значения-заглушки\n",
        "data_games[data_games['user_score'] != -10]\n",
        "\n",
        "results = st.ttest_ind(data_games.query('platform == \"xone\"')['user_score'], data_games.query('platform == \"pc\"')['user_score'], nan_policy=\"omit\", equal_var=False)\n",
        "\n",
        "alpha = 0.05\n",
        "print('p-значение:', results.pvalue)\n",
        "\n",
        "if results.pvalue < alpha:\n",
        "    print(\"Отвергаем нулевую гипотезу\")\n",
        "else:\n",
        "    print(\"Не получилось отвергнуть нулевую гипотезу\")"
      ]
    },
    {
      "cell_type": "markdown",
      "metadata": {
        "id": "AIfaaVwx-MqG"
      },
      "source": [
        "**Вывод:**    \n",
        "По результатам т-теста Стьюдента, p-значимость равна 0.15, что означает, что вероятность получить такое или более экстремальное значение статистики при заданном законе распределения равна 16%, при условии что нулевая гипотеза верна. Это значение ощутимо больше установленного уровня значимости. У нас нет достаточных оснований отвергнуть нулевую гипотезу, поэтому принимаем, что средние пользовательские рейтинги платформ Xbox One и PC равны."
      ]
    },
    {
      "cell_type": "markdown",
      "metadata": {
        "id": "7gPnM19G-MqG"
      },
      "source": [
        "Проверим гипотезу **\"Средние пользовательские рейтинги жанров Action и Sports разные\"**\n",
        "\n",
        "Сформируем нулевую гипотезу:   \n",
        "*H0: Средние пользовательские рейтинги жанров Action и Sports равны*   \n",
        "Альтернативная гипотеза:   \n",
        "*H1: Средние пользовательские рейтинги жанров Action и Sports не равны*"
      ]
    },
    {
      "cell_type": "code",
      "execution_count": null,
      "metadata": {
        "id": "gdLfjW_f-MqH"
      },
      "outputs": [],
      "source": [
        "#Костыль что бы убрать значение nan :D\n",
        "data_action = data_games.query('genre == \"action\" and user_score!=\"nan\"')\n",
        "data_sports = data_games.query('genre == \"sports\" and user_score!=\"nan\"')"
      ]
    },
    {
      "cell_type": "code",
      "execution_count": null,
      "metadata": {
        "id": "pxfU-SrH-MqH",
        "outputId": "69bfd452-7ce4-4d72-e40b-b258e193630d"
      },
      "outputs": [
        {
          "name": "stdout",
          "output_type": "stream",
          "text": [
            "p-значение: 1.4460039700703482e-20\n",
            "Отвергаем нулевую гипотезу\n"
          ]
        }
      ],
      "source": [
        "#Проверим гипотезу с помощью т-теста Стьюдента:\n",
        "\n",
        "\n",
        "results = st.ttest_ind(data_action['user_score'], data_sports['user_score'], nan_policy=\"omit\", equal_var=False)\n",
        "\n",
        "alpha = 0.05\n",
        "print('p-значение:', results.pvalue)\n",
        "\n",
        "if results.pvalue < alpha:\n",
        "    print(\"Отвергаем нулевую гипотезу\")\n",
        "else:\n",
        "    print(\"Не получилось отвергнуть нулевую гипотезу\")"
      ]
    },
    {
      "cell_type": "markdown",
      "metadata": {
        "id": "9Xc2xfGC-MqH"
      },
      "source": [
        "**Вывод:**   \n",
        "По результатам т-теста Стьюдента, p-значимость равна 1.4460039700703482e-20, что означает, что вероятность получить такое или более экстремальное значение статистики при заданном законе распределения близка к нулю, при условии что нулевая гипотеза верна. Это значение ничтожно мало в сравнении с установленным уровнем значимости, поэтому мы отвергаем нулевую гипотезу и принимаем альтернативную. А это говорит о том, что в исходной формулировке вопроса \"Средние пользовательские рейтинги жанров Action и Sports разные\" соответствует положительному ответу"
      ]
    },
    {
      "cell_type": "markdown",
      "metadata": {
        "id": "_HisLOV8-MqH"
      },
      "source": [
        "<div class=\"alert alert-success\">\n",
        "<b>Комментарий ревьюера v.1</b>\n",
        "    \n",
        "👍\n",
        "* Правильно, что для тестирования гипотез использован двусторонний t-тест Стьюдента.\n",
        "\n",
        "* Хорошо, что использован параметр отфильтровывющий пропуски.\n",
        "</div>"
      ]
    },
    {
      "cell_type": "markdown",
      "metadata": {
        "id": "77AB4uhk-MqH"
      },
      "source": [
        "**ОБЩИЙ ВЫВОД**"
      ]
    },
    {
      "cell_type": "markdown",
      "metadata": {
        "id": "Jypl0yC2-MqH"
      },
      "source": [
        "**Шаг 1. Изучение общей информации**  \n",
        "Ознакомились с данными, посмотрели на общую информацию о датасете, выявили пропуски и несоответствие типов данных.  \n",
        "Обнаружили что дубликатов нет  \n",
        "**Шаг 2. Предобработка данных**   \n",
        "Мы привели к нижнему регистру столбцы 'name','platform','genre','rating'.   \n",
        "Проверили на аномалии столбцы 'year_of_release', 'critic_score', 'user_score'.   \n",
        "Поменяли типы данных для удобства работы с данными.   \n",
        "Обнаружили аномальное значение tbd, заменили на nan.  \n",
        "Заменили пропущенные значения в некоторых местах. Многие пропуски, например в столбцах оценок мы оставили незаполненными, чтобы не исказить статистику.  Причиной пропусков может быть угасшая популярность игр (игры 80-90х годов) на момент появления сайта или ошибки выгрузки данных.   \n",
        "Также на данном этапе мы посчитали общее количество продаж по всем регионам и записали результат в столбец 'world_sales'.  \n",
        "**Шаг 3. Исследовательский анализ данных**      \n",
        "Было обнаружено, что рост выпуска игр приходится на 1994 год, а пик на 2008-2009 гг.  \n",
        "Характерный срок жизни платформы - 10 лет, поэтому оставим данные с 2013 по 2016 гг.  \n",
        "2 потенциально прибыльных платформы - PS4 и XOne.  \n",
        "Наибольшие медианные продажи у платформ X360 и PS4.  \n",
        "Есть прямая связь между продажами и оценками критиков.  \n",
        "Жанры-лидеры по количеству выпускаемых игр  - Action, Role-Playing, Sports, Shooter.  \n",
        "Наиболее прибыльныe жанры: Shooter, Sports и Platform. Самый перспективный Shooter.  \n",
        "**Шаг 4. Портрет пользователя региона**     \n",
        "Для пользователей США самыми популярными платформами являются ps4 , xone  и x360.  \n",
        "Для пользователей Европы самыми популярными платформами также являются ps4  и xone и не потеряла актуальность ps3.  \n",
        "Для пользователей Японии самой популярной платформой является 3DS.  \n",
        "В США и в Европе самые популярные жанры практически совпадают -Shooter, Sports и Action. шт В JP вкусы отличаются- Role-Playing и Action соответственно  \n",
        "Во всех регионах лидируют игры с рейтингом \"Unknown\". \"М\" преобладает в США и Европе   \n",
        "**Шаг 5. Проверка гипотез**    \n",
        "Средние пользовательские рейтинги платформ Xbox One и PC одинаковые. Гипотеза не подтвердилась.  \n",
        "Средние пользовательские рейтинги жанров Action и Sports разные. Гипотеза подтвердилась.  "
      ]
    },
    {
      "cell_type": "markdown",
      "metadata": {
        "id": "Ux9-Y9uc-MqH"
      },
      "source": [
        "<div class=\"alert alert-success\">\n",
        "<b>Комментарий ревьюера v.2</b>\n",
        "    \n",
        "👍\n",
        "Выводы понятны и логичны, а самое главное подкреплены выявленными фактами.\n",
        "    \n",
        "Ты очень серьезно подходишь к визуализации.\n",
        "\n",
        "Вот пара ссылок на полезные источники:https://habr.com/ru/company/otus/blog/540526/, https://pythonru.com/biblioteki/seaborn-plot\n",
        "</div>"
      ]
    },
    {
      "cell_type": "markdown",
      "metadata": {
        "id": "xa0g3M88-MqH"
      },
      "source": [
        "<div style=\"border:solid blue 3px; padding: 20px\">\n",
        "<div class=\"alert alert-success\">\n",
        "<b>Обратная связь v.1</b>\n",
        "    \n",
        "👋  \n",
        "Вадим, замечательная работа, ты мыслишь нестандартно, это отличный навык, который у тебя уже есть, ты последователен и вдумчив. Твою работу очень интересно читать и проверять.  Я готов принять твой проект и если у тебя не осталось каких-либо вопросов, то пришли свой проект на повторное ревью и он будет принят 😊"
      ]
    },
    {
      "cell_type": "markdown",
      "metadata": {
        "id": "CGFnVuhW-MqI"
      },
      "source": [
        "<div style=\"border:solid blue 3px; padding: 20px\">\n",
        "<div class=\"alert alert-success\">\n",
        "<b>Обратная связь v.2</b>\n",
        "    \n",
        "👋\n",
        "      \n",
        "Вадим, спасибо за хорошую работу.\n",
        "    \n",
        "Поздравляю с успешным завершением проекта 😊👍\n",
        "    \n",
        "И желаю успехов в новых работах 😊"
      ]
    }
  ],
  "metadata": {
    "ExecuteTimeLog": [
      {
        "duration": 51,
        "start_time": "2023-01-27T22:14:59.649Z"
      },
      {
        "duration": 58,
        "start_time": "2023-01-28T10:16:22.069Z"
      },
      {
        "duration": 1509,
        "start_time": "2023-01-28T10:17:54.216Z"
      },
      {
        "duration": 110,
        "start_time": "2023-01-28T10:17:55.727Z"
      },
      {
        "duration": 23,
        "start_time": "2023-01-28T10:17:55.839Z"
      },
      {
        "duration": 26,
        "start_time": "2023-01-28T10:17:55.864Z"
      },
      {
        "duration": 19,
        "start_time": "2023-01-28T10:17:55.893Z"
      },
      {
        "duration": 12,
        "start_time": "2023-01-28T10:17:55.914Z"
      },
      {
        "duration": 44,
        "start_time": "2023-01-28T21:23:11.141Z"
      },
      {
        "duration": 1268,
        "start_time": "2023-01-28T21:23:18.982Z"
      },
      {
        "duration": 197,
        "start_time": "2023-01-28T21:23:20.252Z"
      },
      {
        "duration": 14,
        "start_time": "2023-01-28T21:23:20.451Z"
      },
      {
        "duration": 16,
        "start_time": "2023-01-28T21:23:20.466Z"
      },
      {
        "duration": 14,
        "start_time": "2023-01-28T21:23:20.484Z"
      },
      {
        "duration": 9,
        "start_time": "2023-01-28T21:23:20.499Z"
      },
      {
        "duration": 3,
        "start_time": "2023-01-28T21:23:20.510Z"
      },
      {
        "duration": 13,
        "start_time": "2023-01-28T21:31:07.105Z"
      },
      {
        "duration": 29,
        "start_time": "2023-01-28T22:28:33.060Z"
      },
      {
        "duration": 18,
        "start_time": "2023-01-28T22:29:14.541Z"
      },
      {
        "duration": 27,
        "start_time": "2023-01-28T22:29:34.698Z"
      },
      {
        "duration": 27,
        "start_time": "2023-01-28T22:30:13.534Z"
      },
      {
        "duration": 10,
        "start_time": "2023-01-28T22:30:38.166Z"
      },
      {
        "duration": 9,
        "start_time": "2023-01-28T22:30:49.159Z"
      },
      {
        "duration": 7,
        "start_time": "2023-01-28T22:31:14.971Z"
      },
      {
        "duration": 49,
        "start_time": "2023-01-29T07:50:11.727Z"
      },
      {
        "duration": 1332,
        "start_time": "2023-01-29T07:50:19.289Z"
      },
      {
        "duration": 96,
        "start_time": "2023-01-29T07:50:20.624Z"
      },
      {
        "duration": 17,
        "start_time": "2023-01-29T07:50:20.722Z"
      },
      {
        "duration": 20,
        "start_time": "2023-01-29T07:50:20.741Z"
      },
      {
        "duration": 14,
        "start_time": "2023-01-29T07:50:20.763Z"
      },
      {
        "duration": 27,
        "start_time": "2023-01-29T07:50:20.779Z"
      },
      {
        "duration": 9,
        "start_time": "2023-01-29T07:50:20.808Z"
      },
      {
        "duration": 22,
        "start_time": "2023-01-29T07:50:20.819Z"
      },
      {
        "duration": 25,
        "start_time": "2023-01-29T07:50:20.843Z"
      },
      {
        "duration": 21,
        "start_time": "2023-01-29T07:50:20.870Z"
      },
      {
        "duration": 20,
        "start_time": "2023-01-29T07:50:20.892Z"
      },
      {
        "duration": 45,
        "start_time": "2023-01-29T07:50:20.913Z"
      },
      {
        "duration": 7,
        "start_time": "2023-01-29T07:50:20.960Z"
      },
      {
        "duration": 14,
        "start_time": "2023-01-29T07:50:20.970Z"
      },
      {
        "duration": 19,
        "start_time": "2023-01-29T07:50:20.985Z"
      },
      {
        "duration": 109,
        "start_time": "2023-01-29T07:55:03.751Z"
      },
      {
        "duration": 25,
        "start_time": "2023-01-29T07:55:16.816Z"
      },
      {
        "duration": 22,
        "start_time": "2023-01-29T07:55:23.104Z"
      },
      {
        "duration": 21,
        "start_time": "2023-01-29T07:55:42.589Z"
      },
      {
        "duration": 51,
        "start_time": "2023-01-29T10:45:33.902Z"
      },
      {
        "duration": 1407,
        "start_time": "2023-01-29T10:45:38.461Z"
      },
      {
        "duration": 197,
        "start_time": "2023-01-29T10:45:39.870Z"
      },
      {
        "duration": 17,
        "start_time": "2023-01-29T10:45:40.068Z"
      },
      {
        "duration": 20,
        "start_time": "2023-01-29T10:45:40.087Z"
      },
      {
        "duration": 18,
        "start_time": "2023-01-29T10:45:40.109Z"
      },
      {
        "duration": 29,
        "start_time": "2023-01-29T10:45:40.129Z"
      },
      {
        "duration": 14,
        "start_time": "2023-01-29T10:45:40.160Z"
      },
      {
        "duration": 5,
        "start_time": "2023-01-29T10:45:40.177Z"
      },
      {
        "duration": 42,
        "start_time": "2023-01-29T10:45:40.184Z"
      },
      {
        "duration": 32,
        "start_time": "2023-01-29T10:45:40.229Z"
      },
      {
        "duration": 36,
        "start_time": "2023-01-29T10:45:40.263Z"
      },
      {
        "duration": 28,
        "start_time": "2023-01-29T10:45:40.322Z"
      },
      {
        "duration": 7,
        "start_time": "2023-01-29T10:45:40.353Z"
      },
      {
        "duration": 17,
        "start_time": "2023-01-29T10:45:40.363Z"
      },
      {
        "duration": 39,
        "start_time": "2023-01-29T10:45:40.383Z"
      },
      {
        "duration": 38,
        "start_time": "2023-01-29T10:45:40.425Z"
      },
      {
        "duration": 23,
        "start_time": "2023-01-29T10:45:40.464Z"
      },
      {
        "duration": 18,
        "start_time": "2023-01-29T10:45:40.489Z"
      },
      {
        "duration": 6,
        "start_time": "2023-01-29T10:48:49.593Z"
      },
      {
        "duration": 5,
        "start_time": "2023-01-29T10:50:54.648Z"
      },
      {
        "duration": 15,
        "start_time": "2023-01-29T10:54:47.755Z"
      },
      {
        "duration": 68,
        "start_time": "2023-01-29T18:40:55.074Z"
      },
      {
        "duration": 1262,
        "start_time": "2023-01-29T18:41:00.879Z"
      },
      {
        "duration": 299,
        "start_time": "2023-01-29T18:41:02.143Z"
      },
      {
        "duration": 15,
        "start_time": "2023-01-29T18:41:02.443Z"
      },
      {
        "duration": 21,
        "start_time": "2023-01-29T18:41:02.461Z"
      },
      {
        "duration": 13,
        "start_time": "2023-01-29T18:41:02.484Z"
      },
      {
        "duration": 30,
        "start_time": "2023-01-29T18:41:02.498Z"
      },
      {
        "duration": 9,
        "start_time": "2023-01-29T18:41:02.529Z"
      },
      {
        "duration": 10,
        "start_time": "2023-01-29T18:41:02.539Z"
      },
      {
        "duration": 29,
        "start_time": "2023-01-29T18:41:02.551Z"
      },
      {
        "duration": 25,
        "start_time": "2023-01-29T18:41:02.582Z"
      },
      {
        "duration": 32,
        "start_time": "2023-01-29T18:41:02.608Z"
      },
      {
        "duration": 19,
        "start_time": "2023-01-29T18:41:02.642Z"
      },
      {
        "duration": 7,
        "start_time": "2023-01-29T18:41:02.662Z"
      },
      {
        "duration": 12,
        "start_time": "2023-01-29T18:41:02.670Z"
      },
      {
        "duration": 42,
        "start_time": "2023-01-29T18:41:02.684Z"
      },
      {
        "duration": 37,
        "start_time": "2023-01-29T18:41:02.727Z"
      },
      {
        "duration": 18,
        "start_time": "2023-01-29T18:41:02.766Z"
      },
      {
        "duration": 12,
        "start_time": "2023-01-29T18:41:02.786Z"
      },
      {
        "duration": 20,
        "start_time": "2023-01-29T18:41:02.799Z"
      },
      {
        "duration": 18,
        "start_time": "2023-01-29T18:41:02.820Z"
      },
      {
        "duration": 18,
        "start_time": "2023-01-29T18:41:02.840Z"
      },
      {
        "duration": 17,
        "start_time": "2023-01-29T18:41:02.859Z"
      },
      {
        "duration": 22,
        "start_time": "2023-01-29T18:41:40.248Z"
      },
      {
        "duration": 7,
        "start_time": "2023-01-29T18:42:11.455Z"
      },
      {
        "duration": 107,
        "start_time": "2023-01-29T20:41:49.037Z"
      },
      {
        "duration": 5,
        "start_time": "2023-01-29T20:41:57.910Z"
      },
      {
        "duration": 23,
        "start_time": "2023-01-29T20:42:55.565Z"
      },
      {
        "duration": 8,
        "start_time": "2023-01-29T20:44:04.797Z"
      },
      {
        "duration": 7,
        "start_time": "2023-01-29T20:44:29.375Z"
      },
      {
        "duration": 7,
        "start_time": "2023-01-29T20:49:05.956Z"
      },
      {
        "duration": 4,
        "start_time": "2023-01-29T20:49:14.914Z"
      },
      {
        "duration": 23,
        "start_time": "2023-01-29T20:49:23.807Z"
      },
      {
        "duration": 7,
        "start_time": "2023-01-29T20:51:48.012Z"
      },
      {
        "duration": 7,
        "start_time": "2023-01-29T20:51:55.033Z"
      },
      {
        "duration": 7,
        "start_time": "2023-01-29T20:52:07.063Z"
      },
      {
        "duration": 13,
        "start_time": "2023-01-29T20:52:19.764Z"
      },
      {
        "duration": 8,
        "start_time": "2023-01-29T20:52:28.059Z"
      },
      {
        "duration": 7,
        "start_time": "2023-01-29T20:52:46.785Z"
      },
      {
        "duration": 19,
        "start_time": "2023-01-29T20:54:01.787Z"
      },
      {
        "duration": 7,
        "start_time": "2023-01-29T20:54:23.412Z"
      },
      {
        "duration": 6,
        "start_time": "2023-01-29T20:55:29.651Z"
      },
      {
        "duration": 6,
        "start_time": "2023-01-29T20:55:42.532Z"
      },
      {
        "duration": 1100,
        "start_time": "2023-01-29T20:55:46.821Z"
      },
      {
        "duration": 52,
        "start_time": "2023-01-29T20:55:47.923Z"
      },
      {
        "duration": 15,
        "start_time": "2023-01-29T20:55:47.977Z"
      },
      {
        "duration": 21,
        "start_time": "2023-01-29T20:55:47.993Z"
      },
      {
        "duration": 14,
        "start_time": "2023-01-29T20:55:48.016Z"
      },
      {
        "duration": 16,
        "start_time": "2023-01-29T20:55:48.032Z"
      },
      {
        "duration": 11,
        "start_time": "2023-01-29T20:55:48.049Z"
      },
      {
        "duration": 5,
        "start_time": "2023-01-29T20:55:48.061Z"
      },
      {
        "duration": 22,
        "start_time": "2023-01-29T20:55:48.067Z"
      },
      {
        "duration": 49,
        "start_time": "2023-01-29T20:55:48.090Z"
      },
      {
        "duration": 20,
        "start_time": "2023-01-29T20:55:48.141Z"
      },
      {
        "duration": 19,
        "start_time": "2023-01-29T20:55:48.162Z"
      },
      {
        "duration": 6,
        "start_time": "2023-01-29T20:55:48.183Z"
      },
      {
        "duration": 33,
        "start_time": "2023-01-29T20:55:48.192Z"
      },
      {
        "duration": 17,
        "start_time": "2023-01-29T20:55:48.227Z"
      },
      {
        "duration": 23,
        "start_time": "2023-01-29T20:55:48.245Z"
      },
      {
        "duration": 18,
        "start_time": "2023-01-29T20:55:48.270Z"
      },
      {
        "duration": 5,
        "start_time": "2023-01-29T20:55:48.289Z"
      },
      {
        "duration": 30,
        "start_time": "2023-01-29T20:55:48.296Z"
      },
      {
        "duration": 54,
        "start_time": "2023-01-29T20:55:48.328Z"
      },
      {
        "duration": 24,
        "start_time": "2023-01-29T20:55:48.383Z"
      },
      {
        "duration": 8,
        "start_time": "2023-01-29T20:55:48.408Z"
      },
      {
        "duration": 13,
        "start_time": "2023-01-29T20:55:48.417Z"
      },
      {
        "duration": 15,
        "start_time": "2023-01-29T20:55:48.432Z"
      },
      {
        "duration": 10,
        "start_time": "2023-01-29T20:55:48.449Z"
      },
      {
        "duration": 16,
        "start_time": "2023-01-29T20:55:48.461Z"
      },
      {
        "duration": 7,
        "start_time": "2023-01-29T20:55:48.479Z"
      },
      {
        "duration": 17,
        "start_time": "2023-01-29T20:56:13.017Z"
      },
      {
        "duration": 1200,
        "start_time": "2023-01-29T21:16:21.246Z"
      },
      {
        "duration": 59,
        "start_time": "2023-01-29T21:16:22.448Z"
      },
      {
        "duration": 16,
        "start_time": "2023-01-29T21:16:22.509Z"
      },
      {
        "duration": 17,
        "start_time": "2023-01-29T21:16:22.527Z"
      },
      {
        "duration": 14,
        "start_time": "2023-01-29T21:16:22.546Z"
      },
      {
        "duration": 18,
        "start_time": "2023-01-29T21:16:22.562Z"
      },
      {
        "duration": 9,
        "start_time": "2023-01-29T21:16:22.581Z"
      },
      {
        "duration": 30,
        "start_time": "2023-01-29T21:16:22.592Z"
      },
      {
        "duration": 20,
        "start_time": "2023-01-29T21:16:22.624Z"
      },
      {
        "duration": 23,
        "start_time": "2023-01-29T21:16:22.646Z"
      },
      {
        "duration": 21,
        "start_time": "2023-01-29T21:16:22.670Z"
      },
      {
        "duration": 45,
        "start_time": "2023-01-29T21:16:22.693Z"
      },
      {
        "duration": 9,
        "start_time": "2023-01-29T21:16:22.740Z"
      },
      {
        "duration": 10,
        "start_time": "2023-01-29T21:16:22.752Z"
      },
      {
        "duration": 16,
        "start_time": "2023-01-29T21:16:22.764Z"
      },
      {
        "duration": 63,
        "start_time": "2023-01-29T21:16:22.782Z"
      },
      {
        "duration": 20,
        "start_time": "2023-01-29T21:16:22.847Z"
      },
      {
        "duration": 12,
        "start_time": "2023-01-29T21:16:22.868Z"
      },
      {
        "duration": 8,
        "start_time": "2023-01-29T21:16:22.882Z"
      },
      {
        "duration": 7,
        "start_time": "2023-01-29T21:16:22.892Z"
      },
      {
        "duration": 6,
        "start_time": "2023-01-29T21:16:22.921Z"
      },
      {
        "duration": 7,
        "start_time": "2023-01-29T21:16:22.929Z"
      },
      {
        "duration": 12,
        "start_time": "2023-01-29T21:16:22.938Z"
      },
      {
        "duration": 19,
        "start_time": "2023-01-29T21:16:22.952Z"
      },
      {
        "duration": 18,
        "start_time": "2023-01-29T21:16:22.972Z"
      },
      {
        "duration": 44,
        "start_time": "2023-01-29T21:16:22.991Z"
      },
      {
        "duration": 15,
        "start_time": "2023-01-29T21:16:23.037Z"
      },
      {
        "duration": 52,
        "start_time": "2023-01-29T21:58:33.839Z"
      },
      {
        "duration": 1336,
        "start_time": "2023-01-29T21:58:39.917Z"
      },
      {
        "duration": 201,
        "start_time": "2023-01-29T21:58:41.255Z"
      },
      {
        "duration": 15,
        "start_time": "2023-01-29T21:58:41.458Z"
      },
      {
        "duration": 19,
        "start_time": "2023-01-29T21:58:41.475Z"
      },
      {
        "duration": 14,
        "start_time": "2023-01-29T21:58:41.497Z"
      },
      {
        "duration": 17,
        "start_time": "2023-01-29T21:58:41.521Z"
      },
      {
        "duration": 11,
        "start_time": "2023-01-29T21:58:41.540Z"
      },
      {
        "duration": 6,
        "start_time": "2023-01-29T21:58:41.553Z"
      },
      {
        "duration": 24,
        "start_time": "2023-01-29T21:58:41.561Z"
      },
      {
        "duration": 54,
        "start_time": "2023-01-29T21:58:41.587Z"
      },
      {
        "duration": 23,
        "start_time": "2023-01-29T21:58:41.642Z"
      },
      {
        "duration": 20,
        "start_time": "2023-01-29T21:58:41.667Z"
      },
      {
        "duration": 33,
        "start_time": "2023-01-29T21:58:41.689Z"
      },
      {
        "duration": 7,
        "start_time": "2023-01-29T21:58:41.725Z"
      },
      {
        "duration": 18,
        "start_time": "2023-01-29T21:58:41.734Z"
      },
      {
        "duration": 31,
        "start_time": "2023-01-29T21:58:41.754Z"
      },
      {
        "duration": 35,
        "start_time": "2023-01-29T21:58:41.787Z"
      },
      {
        "duration": 5,
        "start_time": "2023-01-29T21:58:41.824Z"
      },
      {
        "duration": 10,
        "start_time": "2023-01-29T21:58:41.831Z"
      },
      {
        "duration": 5,
        "start_time": "2023-01-29T21:58:41.843Z"
      },
      {
        "duration": 9,
        "start_time": "2023-01-29T21:58:41.849Z"
      },
      {
        "duration": 5,
        "start_time": "2023-01-29T21:58:41.860Z"
      },
      {
        "duration": 14,
        "start_time": "2023-01-29T21:58:41.866Z"
      },
      {
        "duration": 51,
        "start_time": "2023-01-29T21:58:41.881Z"
      },
      {
        "duration": 14,
        "start_time": "2023-01-29T21:58:41.934Z"
      },
      {
        "duration": 39,
        "start_time": "2023-01-29T21:58:41.949Z"
      },
      {
        "duration": 17,
        "start_time": "2023-01-29T21:58:41.990Z"
      },
      {
        "duration": 231,
        "start_time": "2023-01-29T21:58:42.009Z"
      },
      {
        "duration": 233,
        "start_time": "2023-01-29T21:58:42.465Z"
      },
      {
        "duration": 204,
        "start_time": "2023-01-29T22:01:15.287Z"
      },
      {
        "duration": 114,
        "start_time": "2023-01-29T22:08:09.016Z"
      },
      {
        "duration": 1200,
        "start_time": "2023-01-29T22:08:46.263Z"
      },
      {
        "duration": 56,
        "start_time": "2023-01-29T22:08:47.466Z"
      },
      {
        "duration": 24,
        "start_time": "2023-01-29T22:08:47.525Z"
      },
      {
        "duration": 17,
        "start_time": "2023-01-29T22:08:47.553Z"
      },
      {
        "duration": 16,
        "start_time": "2023-01-29T22:08:47.572Z"
      },
      {
        "duration": 46,
        "start_time": "2023-01-29T22:08:47.590Z"
      },
      {
        "duration": 8,
        "start_time": "2023-01-29T22:08:47.638Z"
      },
      {
        "duration": 6,
        "start_time": "2023-01-29T22:08:47.648Z"
      },
      {
        "duration": 20,
        "start_time": "2023-01-29T22:08:47.656Z"
      },
      {
        "duration": 45,
        "start_time": "2023-01-29T22:08:47.677Z"
      },
      {
        "duration": 26,
        "start_time": "2023-01-29T22:08:47.724Z"
      },
      {
        "duration": 20,
        "start_time": "2023-01-29T22:08:47.752Z"
      },
      {
        "duration": 6,
        "start_time": "2023-01-29T22:08:47.774Z"
      },
      {
        "duration": 10,
        "start_time": "2023-01-29T22:08:47.783Z"
      },
      {
        "duration": 31,
        "start_time": "2023-01-29T22:08:47.820Z"
      },
      {
        "duration": 28,
        "start_time": "2023-01-29T22:08:47.853Z"
      },
      {
        "duration": 22,
        "start_time": "2023-01-29T22:08:47.883Z"
      },
      {
        "duration": 19,
        "start_time": "2023-01-29T22:08:47.907Z"
      },
      {
        "duration": 18,
        "start_time": "2023-01-29T22:08:47.928Z"
      },
      {
        "duration": 5,
        "start_time": "2023-01-29T22:08:47.947Z"
      },
      {
        "duration": 8,
        "start_time": "2023-01-29T22:08:47.954Z"
      },
      {
        "duration": 5,
        "start_time": "2023-01-29T22:08:47.963Z"
      },
      {
        "duration": 11,
        "start_time": "2023-01-29T22:08:47.970Z"
      },
      {
        "duration": 51,
        "start_time": "2023-01-29T22:08:47.983Z"
      },
      {
        "duration": 20,
        "start_time": "2023-01-29T22:08:48.036Z"
      },
      {
        "duration": 19,
        "start_time": "2023-01-29T22:08:48.058Z"
      },
      {
        "duration": 18,
        "start_time": "2023-01-29T22:08:48.079Z"
      },
      {
        "duration": 146,
        "start_time": "2023-01-29T22:08:48.098Z"
      },
      {
        "duration": 0,
        "start_time": "2023-01-29T22:08:48.246Z"
      },
      {
        "duration": 13,
        "start_time": "2023-01-29T22:08:58.099Z"
      },
      {
        "duration": 19,
        "start_time": "2023-01-29T22:09:01.880Z"
      },
      {
        "duration": 256,
        "start_time": "2023-01-29T22:09:26.875Z"
      },
      {
        "duration": 202,
        "start_time": "2023-01-29T22:09:50.007Z"
      },
      {
        "duration": 226,
        "start_time": "2023-01-29T22:10:54.240Z"
      },
      {
        "duration": 249,
        "start_time": "2023-01-29T22:17:55.015Z"
      },
      {
        "duration": 16,
        "start_time": "2023-01-29T22:18:04.941Z"
      },
      {
        "duration": 27,
        "start_time": "2023-01-29T22:18:22.469Z"
      },
      {
        "duration": 21,
        "start_time": "2023-01-29T22:18:37.226Z"
      },
      {
        "duration": 1246,
        "start_time": "2023-01-29T22:18:51.957Z"
      },
      {
        "duration": 61,
        "start_time": "2023-01-29T22:18:53.205Z"
      },
      {
        "duration": 20,
        "start_time": "2023-01-29T22:18:53.268Z"
      },
      {
        "duration": 19,
        "start_time": "2023-01-29T22:18:53.291Z"
      },
      {
        "duration": 16,
        "start_time": "2023-01-29T22:18:53.322Z"
      },
      {
        "duration": 21,
        "start_time": "2023-01-29T22:18:53.341Z"
      },
      {
        "duration": 12,
        "start_time": "2023-01-29T22:18:53.363Z"
      },
      {
        "duration": 8,
        "start_time": "2023-01-29T22:18:53.377Z"
      },
      {
        "duration": 54,
        "start_time": "2023-01-29T22:18:53.387Z"
      },
      {
        "duration": 27,
        "start_time": "2023-01-29T22:18:53.442Z"
      },
      {
        "duration": 51,
        "start_time": "2023-01-29T22:18:53.471Z"
      },
      {
        "duration": 23,
        "start_time": "2023-01-29T22:18:53.524Z"
      },
      {
        "duration": 6,
        "start_time": "2023-01-29T22:18:53.549Z"
      },
      {
        "duration": 8,
        "start_time": "2023-01-29T22:18:53.560Z"
      },
      {
        "duration": 23,
        "start_time": "2023-01-29T22:18:53.570Z"
      },
      {
        "duration": 28,
        "start_time": "2023-01-29T22:18:53.621Z"
      },
      {
        "duration": 21,
        "start_time": "2023-01-29T22:18:53.651Z"
      },
      {
        "duration": 4,
        "start_time": "2023-01-29T22:18:53.674Z"
      },
      {
        "duration": 10,
        "start_time": "2023-01-29T22:18:53.680Z"
      },
      {
        "duration": 32,
        "start_time": "2023-01-29T22:18:53.691Z"
      },
      {
        "duration": 8,
        "start_time": "2023-01-29T22:18:53.725Z"
      },
      {
        "duration": 5,
        "start_time": "2023-01-29T22:18:53.734Z"
      },
      {
        "duration": 14,
        "start_time": "2023-01-29T22:18:53.741Z"
      },
      {
        "duration": 18,
        "start_time": "2023-01-29T22:18:53.757Z"
      },
      {
        "duration": 8,
        "start_time": "2023-01-29T22:18:53.777Z"
      },
      {
        "duration": 19,
        "start_time": "2023-01-29T22:18:53.822Z"
      },
      {
        "duration": 18,
        "start_time": "2023-01-29T22:18:53.842Z"
      },
      {
        "duration": 140,
        "start_time": "2023-01-29T22:18:53.862Z"
      },
      {
        "duration": 0,
        "start_time": "2023-01-29T22:18:54.004Z"
      },
      {
        "duration": 0,
        "start_time": "2023-01-29T22:18:54.005Z"
      },
      {
        "duration": 24,
        "start_time": "2023-01-29T22:18:54.815Z"
      },
      {
        "duration": 229,
        "start_time": "2023-01-29T22:19:22.030Z"
      },
      {
        "duration": 370,
        "start_time": "2023-01-29T22:19:26.735Z"
      },
      {
        "duration": 353,
        "start_time": "2023-01-29T22:22:51.049Z"
      },
      {
        "duration": 360,
        "start_time": "2023-01-29T22:23:09.107Z"
      },
      {
        "duration": 6,
        "start_time": "2023-01-29T22:56:57.513Z"
      },
      {
        "duration": 8,
        "start_time": "2023-01-29T22:58:08.572Z"
      },
      {
        "duration": 85,
        "start_time": "2023-01-29T23:00:32.567Z"
      },
      {
        "duration": 177,
        "start_time": "2023-01-29T23:01:05.142Z"
      },
      {
        "duration": 19,
        "start_time": "2023-01-29T23:04:16.664Z"
      },
      {
        "duration": 23,
        "start_time": "2023-01-29T23:04:27.673Z"
      },
      {
        "duration": 21,
        "start_time": "2023-01-29T23:05:08.452Z"
      },
      {
        "duration": 20,
        "start_time": "2023-01-29T23:05:18.547Z"
      },
      {
        "duration": 21,
        "start_time": "2023-01-29T23:06:51.340Z"
      },
      {
        "duration": 1311,
        "start_time": "2023-01-29T23:07:17.213Z"
      },
      {
        "duration": 20,
        "start_time": "2023-01-29T23:08:19.486Z"
      },
      {
        "duration": 1158,
        "start_time": "2023-01-29T23:08:35.472Z"
      },
      {
        "duration": 54,
        "start_time": "2023-01-29T23:08:36.632Z"
      },
      {
        "duration": 14,
        "start_time": "2023-01-29T23:08:36.687Z"
      },
      {
        "duration": 16,
        "start_time": "2023-01-29T23:08:36.702Z"
      },
      {
        "duration": 12,
        "start_time": "2023-01-29T23:08:36.720Z"
      },
      {
        "duration": 17,
        "start_time": "2023-01-29T23:08:36.733Z"
      },
      {
        "duration": 8,
        "start_time": "2023-01-29T23:08:36.751Z"
      },
      {
        "duration": 5,
        "start_time": "2023-01-29T23:08:36.761Z"
      },
      {
        "duration": 22,
        "start_time": "2023-01-29T23:08:36.768Z"
      },
      {
        "duration": 41,
        "start_time": "2023-01-29T23:08:36.791Z"
      },
      {
        "duration": 21,
        "start_time": "2023-01-29T23:08:36.834Z"
      },
      {
        "duration": 19,
        "start_time": "2023-01-29T23:08:36.857Z"
      },
      {
        "duration": 7,
        "start_time": "2023-01-29T23:08:36.878Z"
      },
      {
        "duration": 38,
        "start_time": "2023-01-29T23:08:36.888Z"
      },
      {
        "duration": 18,
        "start_time": "2023-01-29T23:08:36.928Z"
      },
      {
        "duration": 25,
        "start_time": "2023-01-29T23:08:36.947Z"
      },
      {
        "duration": 21,
        "start_time": "2023-01-29T23:08:36.973Z"
      },
      {
        "duration": 27,
        "start_time": "2023-01-29T23:08:36.996Z"
      },
      {
        "duration": 8,
        "start_time": "2023-01-29T23:08:37.024Z"
      },
      {
        "duration": 5,
        "start_time": "2023-01-29T23:08:37.033Z"
      },
      {
        "duration": 6,
        "start_time": "2023-01-29T23:08:37.040Z"
      },
      {
        "duration": 5,
        "start_time": "2023-01-29T23:08:37.048Z"
      },
      {
        "duration": 11,
        "start_time": "2023-01-29T23:08:37.054Z"
      },
      {
        "duration": 17,
        "start_time": "2023-01-29T23:08:37.066Z"
      },
      {
        "duration": 7,
        "start_time": "2023-01-29T23:08:37.121Z"
      },
      {
        "duration": 20,
        "start_time": "2023-01-29T23:08:37.130Z"
      },
      {
        "duration": 15,
        "start_time": "2023-01-29T23:08:37.152Z"
      },
      {
        "duration": 227,
        "start_time": "2023-01-29T23:08:37.168Z"
      },
      {
        "duration": 199,
        "start_time": "2023-01-29T23:08:37.397Z"
      },
      {
        "duration": 339,
        "start_time": "2023-01-29T23:08:37.598Z"
      },
      {
        "duration": 7,
        "start_time": "2023-01-29T23:08:37.938Z"
      },
      {
        "duration": 175,
        "start_time": "2023-01-29T23:08:37.947Z"
      },
      {
        "duration": 124,
        "start_time": "2023-01-29T23:08:38.124Z"
      },
      {
        "duration": 1465,
        "start_time": "2023-01-30T17:52:23.740Z"
      },
      {
        "duration": 106,
        "start_time": "2023-01-30T17:52:25.207Z"
      },
      {
        "duration": 21,
        "start_time": "2023-01-30T17:52:25.315Z"
      },
      {
        "duration": 26,
        "start_time": "2023-01-30T17:52:25.339Z"
      },
      {
        "duration": 38,
        "start_time": "2023-01-30T17:52:25.368Z"
      },
      {
        "duration": 33,
        "start_time": "2023-01-30T17:52:25.408Z"
      },
      {
        "duration": 10,
        "start_time": "2023-01-30T17:52:25.443Z"
      },
      {
        "duration": 8,
        "start_time": "2023-01-30T17:52:25.454Z"
      },
      {
        "duration": 27,
        "start_time": "2023-01-30T17:52:25.463Z"
      },
      {
        "duration": 57,
        "start_time": "2023-01-30T17:52:25.493Z"
      },
      {
        "duration": 24,
        "start_time": "2023-01-30T17:52:25.552Z"
      },
      {
        "duration": 51,
        "start_time": "2023-01-30T17:52:25.578Z"
      },
      {
        "duration": 9,
        "start_time": "2023-01-30T17:52:25.631Z"
      },
      {
        "duration": 22,
        "start_time": "2023-01-30T17:52:25.642Z"
      },
      {
        "duration": 37,
        "start_time": "2023-01-30T17:52:25.667Z"
      },
      {
        "duration": 45,
        "start_time": "2023-01-30T17:52:25.707Z"
      },
      {
        "duration": 30,
        "start_time": "2023-01-30T17:52:25.754Z"
      },
      {
        "duration": 13,
        "start_time": "2023-01-30T17:52:25.786Z"
      },
      {
        "duration": 28,
        "start_time": "2023-01-30T17:52:25.802Z"
      },
      {
        "duration": 17,
        "start_time": "2023-01-30T17:52:25.832Z"
      },
      {
        "duration": 11,
        "start_time": "2023-01-30T17:52:25.851Z"
      },
      {
        "duration": 14,
        "start_time": "2023-01-30T17:52:25.864Z"
      },
      {
        "duration": 38,
        "start_time": "2023-01-30T17:52:25.880Z"
      },
      {
        "duration": 24,
        "start_time": "2023-01-30T17:52:25.920Z"
      },
      {
        "duration": 8,
        "start_time": "2023-01-30T17:52:25.946Z"
      },
      {
        "duration": 25,
        "start_time": "2023-01-30T17:52:25.956Z"
      },
      {
        "duration": 18,
        "start_time": "2023-01-30T17:52:25.983Z"
      },
      {
        "duration": 279,
        "start_time": "2023-01-30T17:52:26.006Z"
      },
      {
        "duration": 268,
        "start_time": "2023-01-30T17:52:26.287Z"
      },
      {
        "duration": 379,
        "start_time": "2023-01-30T17:52:26.557Z"
      },
      {
        "duration": 8,
        "start_time": "2023-01-30T17:52:26.938Z"
      },
      {
        "duration": 189,
        "start_time": "2023-01-30T17:52:26.948Z"
      },
      {
        "duration": 125,
        "start_time": "2023-01-30T17:52:27.140Z"
      },
      {
        "duration": 20,
        "start_time": "2023-01-30T17:58:56.724Z"
      },
      {
        "duration": 15,
        "start_time": "2023-01-30T17:59:27.445Z"
      },
      {
        "duration": 21,
        "start_time": "2023-01-30T17:59:37.108Z"
      },
      {
        "duration": 108,
        "start_time": "2023-01-30T18:03:05.408Z"
      },
      {
        "duration": 120,
        "start_time": "2023-01-30T18:03:30.714Z"
      },
      {
        "duration": 840,
        "start_time": "2023-01-30T18:05:11.038Z"
      },
      {
        "duration": 9,
        "start_time": "2023-01-30T18:07:23.486Z"
      },
      {
        "duration": 371,
        "start_time": "2023-01-30T18:07:32.239Z"
      },
      {
        "duration": 19,
        "start_time": "2023-01-30T18:09:08.151Z"
      },
      {
        "duration": 6,
        "start_time": "2023-01-30T18:12:18.227Z"
      },
      {
        "duration": 7,
        "start_time": "2023-01-30T18:37:46.786Z"
      },
      {
        "duration": 6,
        "start_time": "2023-01-30T18:37:55.440Z"
      },
      {
        "duration": 1234,
        "start_time": "2023-01-30T18:38:01.519Z"
      },
      {
        "duration": 48,
        "start_time": "2023-01-30T18:38:02.755Z"
      },
      {
        "duration": 14,
        "start_time": "2023-01-30T18:38:02.804Z"
      },
      {
        "duration": 35,
        "start_time": "2023-01-30T18:38:02.819Z"
      },
      {
        "duration": 18,
        "start_time": "2023-01-30T18:38:02.856Z"
      },
      {
        "duration": 32,
        "start_time": "2023-01-30T18:38:02.875Z"
      },
      {
        "duration": 13,
        "start_time": "2023-01-30T18:38:02.910Z"
      },
      {
        "duration": 25,
        "start_time": "2023-01-30T18:38:02.925Z"
      },
      {
        "duration": 39,
        "start_time": "2023-01-30T18:38:02.952Z"
      },
      {
        "duration": 48,
        "start_time": "2023-01-30T18:38:02.993Z"
      },
      {
        "duration": 27,
        "start_time": "2023-01-30T18:38:03.043Z"
      },
      {
        "duration": 25,
        "start_time": "2023-01-30T18:38:03.072Z"
      },
      {
        "duration": 56,
        "start_time": "2023-01-30T18:38:03.098Z"
      },
      {
        "duration": 32,
        "start_time": "2023-01-30T18:38:03.157Z"
      },
      {
        "duration": 17,
        "start_time": "2023-01-30T18:38:03.191Z"
      },
      {
        "duration": 50,
        "start_time": "2023-01-30T18:38:03.210Z"
      },
      {
        "duration": 22,
        "start_time": "2023-01-30T18:38:03.261Z"
      },
      {
        "duration": 29,
        "start_time": "2023-01-30T18:38:03.284Z"
      },
      {
        "duration": 15,
        "start_time": "2023-01-30T18:38:03.315Z"
      },
      {
        "duration": 16,
        "start_time": "2023-01-30T18:38:03.339Z"
      },
      {
        "duration": 30,
        "start_time": "2023-01-30T18:38:03.357Z"
      },
      {
        "duration": 5,
        "start_time": "2023-01-30T18:38:03.389Z"
      },
      {
        "duration": 18,
        "start_time": "2023-01-30T18:38:03.396Z"
      },
      {
        "duration": 40,
        "start_time": "2023-01-30T18:38:03.416Z"
      },
      {
        "duration": 22,
        "start_time": "2023-01-30T18:38:03.457Z"
      },
      {
        "duration": 64,
        "start_time": "2023-01-30T18:38:03.481Z"
      },
      {
        "duration": 33,
        "start_time": "2023-01-30T18:38:03.547Z"
      },
      {
        "duration": 236,
        "start_time": "2023-01-30T18:38:03.582Z"
      },
      {
        "duration": 193,
        "start_time": "2023-01-30T18:38:03.819Z"
      },
      {
        "duration": 362,
        "start_time": "2023-01-30T18:38:04.014Z"
      },
      {
        "duration": 8,
        "start_time": "2023-01-30T18:38:04.377Z"
      },
      {
        "duration": 182,
        "start_time": "2023-01-30T18:38:04.386Z"
      },
      {
        "duration": 5,
        "start_time": "2023-01-30T18:38:04.569Z"
      },
      {
        "duration": 149,
        "start_time": "2023-01-30T18:38:40.245Z"
      },
      {
        "duration": 13,
        "start_time": "2023-01-30T18:39:18.754Z"
      },
      {
        "duration": 15,
        "start_time": "2023-01-30T18:39:23.076Z"
      },
      {
        "duration": 26,
        "start_time": "2023-01-30T18:40:03.698Z"
      },
      {
        "duration": 186,
        "start_time": "2023-01-30T18:52:25.873Z"
      },
      {
        "duration": 25,
        "start_time": "2023-01-30T18:54:56.322Z"
      },
      {
        "duration": 1161,
        "start_time": "2023-01-30T18:55:16.448Z"
      },
      {
        "duration": 48,
        "start_time": "2023-01-30T18:55:17.611Z"
      },
      {
        "duration": 17,
        "start_time": "2023-01-30T18:55:17.661Z"
      },
      {
        "duration": 18,
        "start_time": "2023-01-30T18:55:17.680Z"
      },
      {
        "duration": 27,
        "start_time": "2023-01-30T18:55:17.701Z"
      },
      {
        "duration": 24,
        "start_time": "2023-01-30T18:55:17.731Z"
      },
      {
        "duration": 11,
        "start_time": "2023-01-30T18:55:17.757Z"
      },
      {
        "duration": 23,
        "start_time": "2023-01-30T18:55:17.770Z"
      },
      {
        "duration": 32,
        "start_time": "2023-01-30T18:55:17.795Z"
      },
      {
        "duration": 21,
        "start_time": "2023-01-30T18:55:17.830Z"
      },
      {
        "duration": 21,
        "start_time": "2023-01-30T18:55:17.853Z"
      },
      {
        "duration": 21,
        "start_time": "2023-01-30T18:55:17.875Z"
      },
      {
        "duration": 33,
        "start_time": "2023-01-30T18:55:17.898Z"
      },
      {
        "duration": 9,
        "start_time": "2023-01-30T18:55:17.933Z"
      },
      {
        "duration": 16,
        "start_time": "2023-01-30T18:55:17.943Z"
      },
      {
        "duration": 25,
        "start_time": "2023-01-30T18:55:17.961Z"
      },
      {
        "duration": 48,
        "start_time": "2023-01-30T18:55:17.987Z"
      },
      {
        "duration": 6,
        "start_time": "2023-01-30T18:55:18.037Z"
      },
      {
        "duration": 122,
        "start_time": "2023-01-30T18:55:18.044Z"
      },
      {
        "duration": 0,
        "start_time": "2023-01-30T18:55:18.168Z"
      },
      {
        "duration": 0,
        "start_time": "2023-01-30T18:55:18.169Z"
      },
      {
        "duration": 0,
        "start_time": "2023-01-30T18:55:18.171Z"
      },
      {
        "duration": 0,
        "start_time": "2023-01-30T18:55:18.172Z"
      },
      {
        "duration": 0,
        "start_time": "2023-01-30T18:55:18.173Z"
      },
      {
        "duration": 0,
        "start_time": "2023-01-30T18:55:18.174Z"
      },
      {
        "duration": 0,
        "start_time": "2023-01-30T18:55:18.175Z"
      },
      {
        "duration": 0,
        "start_time": "2023-01-30T18:55:18.177Z"
      },
      {
        "duration": 0,
        "start_time": "2023-01-30T18:55:18.178Z"
      },
      {
        "duration": 0,
        "start_time": "2023-01-30T18:55:18.179Z"
      },
      {
        "duration": 0,
        "start_time": "2023-01-30T18:55:18.180Z"
      },
      {
        "duration": 0,
        "start_time": "2023-01-30T18:55:18.182Z"
      },
      {
        "duration": 0,
        "start_time": "2023-01-30T18:55:18.183Z"
      },
      {
        "duration": 0,
        "start_time": "2023-01-30T18:55:18.184Z"
      },
      {
        "duration": 0,
        "start_time": "2023-01-30T18:55:18.186Z"
      },
      {
        "duration": 16,
        "start_time": "2023-01-30T18:56:00.348Z"
      },
      {
        "duration": 5,
        "start_time": "2023-01-30T18:56:18.877Z"
      },
      {
        "duration": 11,
        "start_time": "2023-01-30T18:56:36.538Z"
      },
      {
        "duration": 17,
        "start_time": "2023-01-30T18:56:40.360Z"
      },
      {
        "duration": 14,
        "start_time": "2023-01-30T18:56:45.538Z"
      },
      {
        "duration": 1112,
        "start_time": "2023-01-30T18:56:56.867Z"
      },
      {
        "duration": 48,
        "start_time": "2023-01-30T18:56:57.981Z"
      },
      {
        "duration": 15,
        "start_time": "2023-01-30T18:56:58.031Z"
      },
      {
        "duration": 27,
        "start_time": "2023-01-30T18:56:58.047Z"
      },
      {
        "duration": 23,
        "start_time": "2023-01-30T18:56:58.076Z"
      },
      {
        "duration": 22,
        "start_time": "2023-01-30T18:56:58.101Z"
      },
      {
        "duration": 17,
        "start_time": "2023-01-30T18:56:58.125Z"
      },
      {
        "duration": 12,
        "start_time": "2023-01-30T18:56:58.144Z"
      },
      {
        "duration": 31,
        "start_time": "2023-01-30T18:56:58.157Z"
      },
      {
        "duration": 20,
        "start_time": "2023-01-30T18:56:58.190Z"
      },
      {
        "duration": 26,
        "start_time": "2023-01-30T18:56:58.213Z"
      },
      {
        "duration": 21,
        "start_time": "2023-01-30T18:56:58.241Z"
      },
      {
        "duration": 6,
        "start_time": "2023-01-30T18:56:58.263Z"
      },
      {
        "duration": 10,
        "start_time": "2023-01-30T18:56:58.272Z"
      },
      {
        "duration": 25,
        "start_time": "2023-01-30T18:56:58.284Z"
      },
      {
        "duration": 34,
        "start_time": "2023-01-30T18:56:58.310Z"
      },
      {
        "duration": 21,
        "start_time": "2023-01-30T18:56:58.346Z"
      },
      {
        "duration": 6,
        "start_time": "2023-01-30T18:56:58.369Z"
      },
      {
        "duration": 10,
        "start_time": "2023-01-30T18:56:58.376Z"
      },
      {
        "duration": 10,
        "start_time": "2023-01-30T18:56:58.388Z"
      },
      {
        "duration": 29,
        "start_time": "2023-01-30T18:56:58.400Z"
      },
      {
        "duration": 11,
        "start_time": "2023-01-30T18:56:58.430Z"
      },
      {
        "duration": 15,
        "start_time": "2023-01-30T18:56:58.443Z"
      },
      {
        "duration": 33,
        "start_time": "2023-01-30T18:56:58.460Z"
      },
      {
        "duration": 10,
        "start_time": "2023-01-30T18:56:58.495Z"
      },
      {
        "duration": 36,
        "start_time": "2023-01-30T18:56:58.507Z"
      },
      {
        "duration": 18,
        "start_time": "2023-01-30T18:56:58.544Z"
      },
      {
        "duration": 245,
        "start_time": "2023-01-30T18:56:58.563Z"
      },
      {
        "duration": 185,
        "start_time": "2023-01-30T18:56:58.810Z"
      },
      {
        "duration": 361,
        "start_time": "2023-01-30T18:56:58.997Z"
      },
      {
        "duration": 8,
        "start_time": "2023-01-30T18:56:59.360Z"
      },
      {
        "duration": 177,
        "start_time": "2023-01-30T18:56:59.370Z"
      },
      {
        "duration": 7,
        "start_time": "2023-01-30T18:56:59.548Z"
      },
      {
        "duration": 291,
        "start_time": "2023-01-30T18:56:59.556Z"
      },
      {
        "duration": 651,
        "start_time": "2023-01-30T18:58:21.953Z"
      },
      {
        "duration": 6,
        "start_time": "2023-01-30T18:58:33.926Z"
      },
      {
        "duration": 18,
        "start_time": "2023-01-30T18:59:21.077Z"
      },
      {
        "duration": 1179,
        "start_time": "2023-01-30T18:59:31.680Z"
      },
      {
        "duration": 50,
        "start_time": "2023-01-30T18:59:32.861Z"
      },
      {
        "duration": 15,
        "start_time": "2023-01-30T18:59:32.913Z"
      },
      {
        "duration": 18,
        "start_time": "2023-01-30T18:59:32.931Z"
      },
      {
        "duration": 16,
        "start_time": "2023-01-30T18:59:32.951Z"
      },
      {
        "duration": 21,
        "start_time": "2023-01-30T18:59:32.969Z"
      },
      {
        "duration": 10,
        "start_time": "2023-01-30T18:59:32.993Z"
      },
      {
        "duration": 5,
        "start_time": "2023-01-30T18:59:33.027Z"
      },
      {
        "duration": 34,
        "start_time": "2023-01-30T18:59:33.034Z"
      },
      {
        "duration": 23,
        "start_time": "2023-01-30T18:59:33.070Z"
      },
      {
        "duration": 38,
        "start_time": "2023-01-30T18:59:33.095Z"
      },
      {
        "duration": 22,
        "start_time": "2023-01-30T18:59:33.135Z"
      },
      {
        "duration": 7,
        "start_time": "2023-01-30T18:59:33.159Z"
      },
      {
        "duration": 8,
        "start_time": "2023-01-30T18:59:33.168Z"
      },
      {
        "duration": 19,
        "start_time": "2023-01-30T18:59:33.178Z"
      },
      {
        "duration": 49,
        "start_time": "2023-01-30T18:59:33.199Z"
      },
      {
        "duration": 22,
        "start_time": "2023-01-30T18:59:33.250Z"
      },
      {
        "duration": 13,
        "start_time": "2023-01-30T18:59:33.273Z"
      },
      {
        "duration": 121,
        "start_time": "2023-01-30T18:59:33.288Z"
      },
      {
        "duration": 0,
        "start_time": "2023-01-30T18:59:33.411Z"
      },
      {
        "duration": 0,
        "start_time": "2023-01-30T18:59:33.412Z"
      },
      {
        "duration": 0,
        "start_time": "2023-01-30T18:59:33.413Z"
      },
      {
        "duration": 0,
        "start_time": "2023-01-30T18:59:33.415Z"
      },
      {
        "duration": 0,
        "start_time": "2023-01-30T18:59:33.416Z"
      },
      {
        "duration": 0,
        "start_time": "2023-01-30T18:59:33.427Z"
      },
      {
        "duration": 0,
        "start_time": "2023-01-30T18:59:33.428Z"
      },
      {
        "duration": 0,
        "start_time": "2023-01-30T18:59:33.429Z"
      },
      {
        "duration": 0,
        "start_time": "2023-01-30T18:59:33.430Z"
      },
      {
        "duration": 0,
        "start_time": "2023-01-30T18:59:33.431Z"
      },
      {
        "duration": 0,
        "start_time": "2023-01-30T18:59:33.432Z"
      },
      {
        "duration": 0,
        "start_time": "2023-01-30T18:59:33.433Z"
      },
      {
        "duration": 0,
        "start_time": "2023-01-30T18:59:33.434Z"
      },
      {
        "duration": 0,
        "start_time": "2023-01-30T18:59:33.436Z"
      },
      {
        "duration": 0,
        "start_time": "2023-01-30T18:59:33.437Z"
      },
      {
        "duration": 6,
        "start_time": "2023-01-30T18:59:52.592Z"
      },
      {
        "duration": 10,
        "start_time": "2023-01-30T18:59:59.340Z"
      },
      {
        "duration": 9,
        "start_time": "2023-01-30T19:01:51.648Z"
      },
      {
        "duration": 15,
        "start_time": "2023-01-30T19:02:01.365Z"
      },
      {
        "duration": 11,
        "start_time": "2023-01-30T19:02:12.718Z"
      },
      {
        "duration": 8,
        "start_time": "2023-01-30T19:02:18.706Z"
      },
      {
        "duration": 13,
        "start_time": "2023-01-30T19:02:20.450Z"
      },
      {
        "duration": 1169,
        "start_time": "2023-01-30T19:04:41.786Z"
      },
      {
        "duration": 49,
        "start_time": "2023-01-30T19:04:42.958Z"
      },
      {
        "duration": 15,
        "start_time": "2023-01-30T19:04:43.009Z"
      },
      {
        "duration": 43,
        "start_time": "2023-01-30T19:04:43.026Z"
      },
      {
        "duration": 17,
        "start_time": "2023-01-30T19:04:43.071Z"
      },
      {
        "duration": 43,
        "start_time": "2023-01-30T19:04:43.090Z"
      },
      {
        "duration": 23,
        "start_time": "2023-01-30T19:04:43.135Z"
      },
      {
        "duration": 16,
        "start_time": "2023-01-30T19:04:43.160Z"
      },
      {
        "duration": 45,
        "start_time": "2023-01-30T19:04:43.178Z"
      },
      {
        "duration": 30,
        "start_time": "2023-01-30T19:04:43.226Z"
      },
      {
        "duration": 21,
        "start_time": "2023-01-30T19:04:43.257Z"
      },
      {
        "duration": 36,
        "start_time": "2023-01-30T19:04:43.280Z"
      },
      {
        "duration": 10,
        "start_time": "2023-01-30T19:04:43.317Z"
      },
      {
        "duration": 41,
        "start_time": "2023-01-30T19:04:43.329Z"
      },
      {
        "duration": 38,
        "start_time": "2023-01-30T19:04:43.371Z"
      },
      {
        "duration": 51,
        "start_time": "2023-01-30T19:04:43.411Z"
      },
      {
        "duration": 39,
        "start_time": "2023-01-30T19:04:43.463Z"
      },
      {
        "duration": 20,
        "start_time": "2023-01-30T19:04:43.504Z"
      },
      {
        "duration": 23,
        "start_time": "2023-01-30T19:04:43.526Z"
      },
      {
        "duration": 26,
        "start_time": "2023-01-30T19:04:43.551Z"
      },
      {
        "duration": 21,
        "start_time": "2023-01-30T19:04:43.579Z"
      },
      {
        "duration": 20,
        "start_time": "2023-01-30T19:04:43.602Z"
      },
      {
        "duration": 26,
        "start_time": "2023-01-30T19:04:43.625Z"
      },
      {
        "duration": 46,
        "start_time": "2023-01-30T19:04:43.654Z"
      },
      {
        "duration": 56,
        "start_time": "2023-01-30T19:04:43.703Z"
      },
      {
        "duration": 32,
        "start_time": "2023-01-30T19:04:43.761Z"
      },
      {
        "duration": 51,
        "start_time": "2023-01-30T19:04:43.795Z"
      },
      {
        "duration": 247,
        "start_time": "2023-01-30T19:04:43.850Z"
      },
      {
        "duration": 202,
        "start_time": "2023-01-30T19:04:44.099Z"
      },
      {
        "duration": 373,
        "start_time": "2023-01-30T19:04:44.303Z"
      },
      {
        "duration": 8,
        "start_time": "2023-01-30T19:04:44.678Z"
      },
      {
        "duration": 181,
        "start_time": "2023-01-30T19:04:44.688Z"
      },
      {
        "duration": 5,
        "start_time": "2023-01-30T19:04:44.871Z"
      },
      {
        "duration": 19,
        "start_time": "2023-01-30T19:04:44.878Z"
      },
      {
        "duration": 11,
        "start_time": "2023-01-30T19:04:54.591Z"
      },
      {
        "duration": 8,
        "start_time": "2023-01-30T19:05:08.104Z"
      },
      {
        "duration": 6,
        "start_time": "2023-01-30T19:09:28.202Z"
      },
      {
        "duration": 822,
        "start_time": "2023-01-30T19:10:15.433Z"
      },
      {
        "duration": 13,
        "start_time": "2023-01-30T19:11:42.278Z"
      },
      {
        "duration": 691,
        "start_time": "2023-01-30T19:11:48.928Z"
      },
      {
        "duration": 158,
        "start_time": "2023-01-30T19:12:01.904Z"
      },
      {
        "duration": 16,
        "start_time": "2023-01-30T19:12:13.399Z"
      },
      {
        "duration": 176,
        "start_time": "2023-01-30T19:12:16.087Z"
      },
      {
        "duration": 847,
        "start_time": "2023-01-30T19:13:31.729Z"
      },
      {
        "duration": 22,
        "start_time": "2023-01-30T19:15:32.937Z"
      },
      {
        "duration": 713,
        "start_time": "2023-01-30T19:15:40.590Z"
      },
      {
        "duration": 714,
        "start_time": "2023-01-30T19:17:06.022Z"
      },
      {
        "duration": 694,
        "start_time": "2023-01-30T19:17:13.081Z"
      },
      {
        "duration": 748,
        "start_time": "2023-01-30T19:17:41.904Z"
      },
      {
        "duration": 730,
        "start_time": "2023-01-30T19:17:51.430Z"
      },
      {
        "duration": 336,
        "start_time": "2023-01-30T19:19:14.823Z"
      },
      {
        "duration": 23,
        "start_time": "2023-01-30T19:22:15.357Z"
      },
      {
        "duration": 11,
        "start_time": "2023-01-30T19:47:42.899Z"
      },
      {
        "duration": 11,
        "start_time": "2023-01-30T19:48:05.176Z"
      },
      {
        "duration": 22,
        "start_time": "2023-01-30T19:48:15.517Z"
      },
      {
        "duration": 12,
        "start_time": "2023-01-30T19:49:12.904Z"
      },
      {
        "duration": 94,
        "start_time": "2023-01-30T19:49:29.894Z"
      },
      {
        "duration": 8,
        "start_time": "2023-01-30T19:50:44.369Z"
      },
      {
        "duration": 1269,
        "start_time": "2023-01-30T19:50:53.131Z"
      },
      {
        "duration": 55,
        "start_time": "2023-01-30T19:50:54.402Z"
      },
      {
        "duration": 15,
        "start_time": "2023-01-30T19:50:54.459Z"
      },
      {
        "duration": 33,
        "start_time": "2023-01-30T19:50:54.476Z"
      },
      {
        "duration": 61,
        "start_time": "2023-01-30T19:50:54.513Z"
      },
      {
        "duration": 39,
        "start_time": "2023-01-30T19:50:54.577Z"
      },
      {
        "duration": 19,
        "start_time": "2023-01-30T19:50:54.618Z"
      },
      {
        "duration": 39,
        "start_time": "2023-01-30T19:50:54.639Z"
      },
      {
        "duration": 50,
        "start_time": "2023-01-30T19:50:54.681Z"
      },
      {
        "duration": 51,
        "start_time": "2023-01-30T19:50:54.739Z"
      },
      {
        "duration": 31,
        "start_time": "2023-01-30T19:50:54.793Z"
      },
      {
        "duration": 45,
        "start_time": "2023-01-30T19:50:54.828Z"
      },
      {
        "duration": 9,
        "start_time": "2023-01-30T19:50:54.876Z"
      },
      {
        "duration": 48,
        "start_time": "2023-01-30T19:50:54.888Z"
      },
      {
        "duration": 51,
        "start_time": "2023-01-30T19:50:54.939Z"
      },
      {
        "duration": 84,
        "start_time": "2023-01-30T19:50:54.992Z"
      },
      {
        "duration": 85,
        "start_time": "2023-01-30T19:50:55.078Z"
      },
      {
        "duration": 24,
        "start_time": "2023-01-30T19:50:55.166Z"
      },
      {
        "duration": 91,
        "start_time": "2023-01-30T19:50:55.192Z"
      },
      {
        "duration": 87,
        "start_time": "2023-01-30T19:50:55.285Z"
      },
      {
        "duration": 64,
        "start_time": "2023-01-30T19:50:55.373Z"
      },
      {
        "duration": 75,
        "start_time": "2023-01-30T19:50:55.446Z"
      },
      {
        "duration": 72,
        "start_time": "2023-01-30T19:50:55.523Z"
      },
      {
        "duration": 75,
        "start_time": "2023-01-30T19:50:55.598Z"
      },
      {
        "duration": 75,
        "start_time": "2023-01-30T19:50:55.675Z"
      },
      {
        "duration": 152,
        "start_time": "2023-01-30T19:50:55.752Z"
      },
      {
        "duration": 0,
        "start_time": "2023-01-30T19:50:55.906Z"
      },
      {
        "duration": 0,
        "start_time": "2023-01-30T19:50:55.908Z"
      },
      {
        "duration": 0,
        "start_time": "2023-01-30T19:50:55.910Z"
      },
      {
        "duration": 0,
        "start_time": "2023-01-30T19:50:55.911Z"
      },
      {
        "duration": 0,
        "start_time": "2023-01-30T19:50:55.913Z"
      },
      {
        "duration": 0,
        "start_time": "2023-01-30T19:50:55.932Z"
      },
      {
        "duration": 0,
        "start_time": "2023-01-30T19:50:55.933Z"
      },
      {
        "duration": 0,
        "start_time": "2023-01-30T19:50:55.934Z"
      },
      {
        "duration": 0,
        "start_time": "2023-01-30T19:50:55.935Z"
      },
      {
        "duration": 9,
        "start_time": "2023-01-30T19:51:13.843Z"
      },
      {
        "duration": 1207,
        "start_time": "2023-01-30T19:52:16.624Z"
      },
      {
        "duration": 56,
        "start_time": "2023-01-30T19:52:17.838Z"
      },
      {
        "duration": 16,
        "start_time": "2023-01-30T19:52:17.896Z"
      },
      {
        "duration": 21,
        "start_time": "2023-01-30T19:52:17.914Z"
      },
      {
        "duration": 44,
        "start_time": "2023-01-30T19:52:17.937Z"
      },
      {
        "duration": 22,
        "start_time": "2023-01-30T19:52:17.984Z"
      },
      {
        "duration": 9,
        "start_time": "2023-01-30T19:52:18.007Z"
      },
      {
        "duration": 4,
        "start_time": "2023-01-30T19:52:18.017Z"
      },
      {
        "duration": 26,
        "start_time": "2023-01-30T19:52:18.023Z"
      },
      {
        "duration": 30,
        "start_time": "2023-01-30T19:52:18.052Z"
      },
      {
        "duration": 23,
        "start_time": "2023-01-30T19:52:18.084Z"
      },
      {
        "duration": 50,
        "start_time": "2023-01-30T19:52:18.109Z"
      },
      {
        "duration": 7,
        "start_time": "2023-01-30T19:52:18.161Z"
      },
      {
        "duration": 9,
        "start_time": "2023-01-30T19:52:18.170Z"
      },
      {
        "duration": 28,
        "start_time": "2023-01-30T19:52:18.181Z"
      },
      {
        "duration": 40,
        "start_time": "2023-01-30T19:52:18.211Z"
      },
      {
        "duration": 20,
        "start_time": "2023-01-30T19:52:18.253Z"
      },
      {
        "duration": 7,
        "start_time": "2023-01-30T19:52:18.275Z"
      },
      {
        "duration": 28,
        "start_time": "2023-01-30T19:52:18.283Z"
      },
      {
        "duration": 7,
        "start_time": "2023-01-30T19:52:18.313Z"
      },
      {
        "duration": 18,
        "start_time": "2023-01-30T19:52:18.322Z"
      },
      {
        "duration": 19,
        "start_time": "2023-01-30T19:52:18.342Z"
      },
      {
        "duration": 13,
        "start_time": "2023-01-30T19:52:18.363Z"
      },
      {
        "duration": 16,
        "start_time": "2023-01-30T19:52:18.378Z"
      },
      {
        "duration": 10,
        "start_time": "2023-01-30T19:52:18.396Z"
      },
      {
        "duration": 107,
        "start_time": "2023-01-30T19:52:18.407Z"
      },
      {
        "duration": 0,
        "start_time": "2023-01-30T19:52:18.516Z"
      },
      {
        "duration": 0,
        "start_time": "2023-01-30T19:52:18.517Z"
      },
      {
        "duration": 0,
        "start_time": "2023-01-30T19:52:18.534Z"
      },
      {
        "duration": 1,
        "start_time": "2023-01-30T19:52:18.534Z"
      },
      {
        "duration": 0,
        "start_time": "2023-01-30T19:52:18.535Z"
      },
      {
        "duration": 0,
        "start_time": "2023-01-30T19:52:18.536Z"
      },
      {
        "duration": 0,
        "start_time": "2023-01-30T19:52:18.537Z"
      },
      {
        "duration": 0,
        "start_time": "2023-01-30T19:52:18.539Z"
      },
      {
        "duration": 0,
        "start_time": "2023-01-30T19:52:18.540Z"
      },
      {
        "duration": 91,
        "start_time": "2023-01-30T19:52:26.994Z"
      },
      {
        "duration": 6,
        "start_time": "2023-01-30T19:52:33.193Z"
      },
      {
        "duration": 7,
        "start_time": "2023-01-30T19:52:41.341Z"
      },
      {
        "duration": 1224,
        "start_time": "2023-01-30T19:52:45.660Z"
      },
      {
        "duration": 59,
        "start_time": "2023-01-30T19:52:46.886Z"
      },
      {
        "duration": 24,
        "start_time": "2023-01-30T19:52:46.948Z"
      },
      {
        "duration": 29,
        "start_time": "2023-01-30T19:52:46.974Z"
      },
      {
        "duration": 38,
        "start_time": "2023-01-30T19:52:47.005Z"
      },
      {
        "duration": 63,
        "start_time": "2023-01-30T19:52:47.045Z"
      },
      {
        "duration": 14,
        "start_time": "2023-01-30T19:52:47.110Z"
      },
      {
        "duration": 33,
        "start_time": "2023-01-30T19:52:47.125Z"
      },
      {
        "duration": 60,
        "start_time": "2023-01-30T19:52:47.161Z"
      },
      {
        "duration": 44,
        "start_time": "2023-01-30T19:52:47.222Z"
      },
      {
        "duration": 24,
        "start_time": "2023-01-30T19:52:47.267Z"
      },
      {
        "duration": 30,
        "start_time": "2023-01-30T19:52:47.293Z"
      },
      {
        "duration": 31,
        "start_time": "2023-01-30T19:52:47.325Z"
      },
      {
        "duration": 26,
        "start_time": "2023-01-30T19:52:47.359Z"
      },
      {
        "duration": 52,
        "start_time": "2023-01-30T19:52:47.387Z"
      },
      {
        "duration": 79,
        "start_time": "2023-01-30T19:52:47.440Z"
      },
      {
        "duration": 75,
        "start_time": "2023-01-30T19:52:47.521Z"
      },
      {
        "duration": 69,
        "start_time": "2023-01-30T19:52:47.597Z"
      },
      {
        "duration": 21,
        "start_time": "2023-01-30T19:52:47.668Z"
      },
      {
        "duration": 24,
        "start_time": "2023-01-30T19:52:47.691Z"
      },
      {
        "duration": 49,
        "start_time": "2023-01-30T19:52:47.717Z"
      },
      {
        "duration": 24,
        "start_time": "2023-01-30T19:52:47.768Z"
      },
      {
        "duration": 25,
        "start_time": "2023-01-30T19:52:47.794Z"
      },
      {
        "duration": 62,
        "start_time": "2023-01-30T19:52:47.821Z"
      },
      {
        "duration": 17,
        "start_time": "2023-01-30T19:52:47.885Z"
      },
      {
        "duration": 121,
        "start_time": "2023-01-30T19:52:47.904Z"
      },
      {
        "duration": 0,
        "start_time": "2023-01-30T19:52:48.028Z"
      },
      {
        "duration": 0,
        "start_time": "2023-01-30T19:52:48.029Z"
      },
      {
        "duration": 0,
        "start_time": "2023-01-30T19:52:48.031Z"
      },
      {
        "duration": 0,
        "start_time": "2023-01-30T19:52:48.032Z"
      },
      {
        "duration": 0,
        "start_time": "2023-01-30T19:52:48.033Z"
      },
      {
        "duration": 0,
        "start_time": "2023-01-30T19:52:48.034Z"
      },
      {
        "duration": 0,
        "start_time": "2023-01-30T19:52:48.035Z"
      },
      {
        "duration": 0,
        "start_time": "2023-01-30T19:52:48.035Z"
      },
      {
        "duration": 0,
        "start_time": "2023-01-30T19:52:48.036Z"
      },
      {
        "duration": 16,
        "start_time": "2023-01-30T19:52:52.454Z"
      },
      {
        "duration": 17,
        "start_time": "2023-01-30T19:52:57.632Z"
      },
      {
        "duration": 9,
        "start_time": "2023-01-30T19:53:01.775Z"
      },
      {
        "duration": 16,
        "start_time": "2023-01-30T19:53:11.254Z"
      },
      {
        "duration": 23,
        "start_time": "2023-01-30T19:53:15.015Z"
      },
      {
        "duration": 11,
        "start_time": "2023-01-30T19:53:26.244Z"
      },
      {
        "duration": 29,
        "start_time": "2023-01-30T19:55:33.176Z"
      },
      {
        "duration": 19,
        "start_time": "2023-01-30T19:55:37.272Z"
      },
      {
        "duration": 20,
        "start_time": "2023-01-30T19:55:41.920Z"
      },
      {
        "duration": 6,
        "start_time": "2023-01-30T19:55:52.817Z"
      },
      {
        "duration": 16,
        "start_time": "2023-01-30T19:55:56.060Z"
      },
      {
        "duration": 302,
        "start_time": "2023-01-30T19:56:12.352Z"
      },
      {
        "duration": 275,
        "start_time": "2023-01-30T19:56:15.824Z"
      },
      {
        "duration": 496,
        "start_time": "2023-01-30T19:56:19.055Z"
      },
      {
        "duration": 19,
        "start_time": "2023-01-30T19:56:22.552Z"
      },
      {
        "duration": 232,
        "start_time": "2023-01-30T19:56:27.383Z"
      },
      {
        "duration": 6,
        "start_time": "2023-01-30T19:56:32.818Z"
      },
      {
        "duration": 394,
        "start_time": "2023-01-30T20:11:39.969Z"
      },
      {
        "duration": 351,
        "start_time": "2023-01-30T20:22:07.441Z"
      },
      {
        "duration": 38,
        "start_time": "2023-01-30T20:23:44.274Z"
      },
      {
        "duration": 450,
        "start_time": "2023-01-30T20:56:00.417Z"
      },
      {
        "duration": 196,
        "start_time": "2023-01-30T20:59:01.090Z"
      },
      {
        "duration": 9,
        "start_time": "2023-01-30T21:04:35.566Z"
      },
      {
        "duration": 176,
        "start_time": "2023-01-30T21:06:54.303Z"
      },
      {
        "duration": 20,
        "start_time": "2023-01-30T21:07:06.288Z"
      },
      {
        "duration": 26,
        "start_time": "2023-01-30T21:07:19.121Z"
      },
      {
        "duration": 184,
        "start_time": "2023-01-30T21:07:29.266Z"
      },
      {
        "duration": 14,
        "start_time": "2023-01-30T21:08:07.553Z"
      },
      {
        "duration": 10,
        "start_time": "2023-01-30T21:09:11.279Z"
      },
      {
        "duration": 10,
        "start_time": "2023-01-30T21:13:29.437Z"
      },
      {
        "duration": 10,
        "start_time": "2023-01-30T21:13:46.044Z"
      },
      {
        "duration": 11,
        "start_time": "2023-01-30T21:15:19.349Z"
      },
      {
        "duration": 10,
        "start_time": "2023-01-30T21:15:53.865Z"
      },
      {
        "duration": 18,
        "start_time": "2023-01-30T21:19:43.089Z"
      },
      {
        "duration": 213,
        "start_time": "2023-01-30T21:22:03.204Z"
      },
      {
        "duration": 18,
        "start_time": "2023-01-30T21:26:24.028Z"
      },
      {
        "duration": 39,
        "start_time": "2023-01-30T21:29:41.192Z"
      },
      {
        "duration": 40,
        "start_time": "2023-01-30T21:30:04.510Z"
      },
      {
        "duration": 17,
        "start_time": "2023-01-30T22:08:18.125Z"
      },
      {
        "duration": 144,
        "start_time": "2023-01-30T22:11:02.831Z"
      },
      {
        "duration": 10,
        "start_time": "2023-01-30T22:12:45.390Z"
      },
      {
        "duration": 14,
        "start_time": "2023-01-30T22:13:58.797Z"
      },
      {
        "duration": 175,
        "start_time": "2023-01-30T22:14:24.283Z"
      },
      {
        "duration": 174,
        "start_time": "2023-01-30T22:16:38.224Z"
      },
      {
        "duration": 199,
        "start_time": "2023-01-30T22:16:54.570Z"
      },
      {
        "duration": 178,
        "start_time": "2023-01-30T22:17:21.607Z"
      },
      {
        "duration": 12,
        "start_time": "2023-01-30T22:21:40.307Z"
      },
      {
        "duration": 1858,
        "start_time": "2023-01-30T22:25:44.154Z"
      },
      {
        "duration": 251,
        "start_time": "2023-01-30T22:44:21.630Z"
      },
      {
        "duration": 265,
        "start_time": "2023-01-30T22:44:44.896Z"
      },
      {
        "duration": 265,
        "start_time": "2023-01-30T22:44:57.663Z"
      },
      {
        "duration": 270,
        "start_time": "2023-01-30T22:57:11.204Z"
      },
      {
        "duration": 217,
        "start_time": "2023-01-30T23:04:57.444Z"
      },
      {
        "duration": 16,
        "start_time": "2023-01-30T23:33:08.559Z"
      },
      {
        "duration": 11,
        "start_time": "2023-01-30T23:33:40.591Z"
      },
      {
        "duration": 4,
        "start_time": "2023-01-30T23:34:16.713Z"
      },
      {
        "duration": 4,
        "start_time": "2023-01-30T23:34:33.046Z"
      },
      {
        "duration": 15,
        "start_time": "2023-01-30T23:36:56.019Z"
      },
      {
        "duration": 13,
        "start_time": "2023-01-30T23:37:07.112Z"
      },
      {
        "duration": 11,
        "start_time": "2023-01-30T23:37:32.755Z"
      },
      {
        "duration": 13,
        "start_time": "2023-01-30T23:39:34.172Z"
      },
      {
        "duration": 17,
        "start_time": "2023-01-30T23:50:10.300Z"
      },
      {
        "duration": 10,
        "start_time": "2023-01-31T00:00:29.144Z"
      },
      {
        "duration": 10,
        "start_time": "2023-01-31T00:01:01.392Z"
      },
      {
        "duration": 14,
        "start_time": "2023-01-31T00:01:38.389Z"
      },
      {
        "duration": 9,
        "start_time": "2023-01-31T00:11:47.653Z"
      },
      {
        "duration": 13,
        "start_time": "2023-01-31T00:13:16.113Z"
      },
      {
        "duration": 9,
        "start_time": "2023-01-31T00:13:22.144Z"
      },
      {
        "duration": 5,
        "start_time": "2023-01-31T00:13:59.674Z"
      },
      {
        "duration": 13,
        "start_time": "2023-01-31T00:14:25.117Z"
      },
      {
        "duration": 12,
        "start_time": "2023-01-31T00:14:33.607Z"
      },
      {
        "duration": 47,
        "start_time": "2023-01-31T00:22:40.876Z"
      },
      {
        "duration": 9,
        "start_time": "2023-01-31T00:22:47.717Z"
      },
      {
        "duration": 9,
        "start_time": "2023-01-31T00:23:55.780Z"
      },
      {
        "duration": 11,
        "start_time": "2023-01-31T00:24:04.682Z"
      },
      {
        "duration": 1205,
        "start_time": "2023-01-31T00:24:26.170Z"
      },
      {
        "duration": 55,
        "start_time": "2023-01-31T00:24:27.377Z"
      },
      {
        "duration": 20,
        "start_time": "2023-01-31T00:24:27.438Z"
      },
      {
        "duration": 30,
        "start_time": "2023-01-31T00:24:27.460Z"
      },
      {
        "duration": 23,
        "start_time": "2023-01-31T00:24:27.492Z"
      },
      {
        "duration": 56,
        "start_time": "2023-01-31T00:24:27.517Z"
      },
      {
        "duration": 26,
        "start_time": "2023-01-31T00:24:27.575Z"
      },
      {
        "duration": 18,
        "start_time": "2023-01-31T00:24:27.603Z"
      },
      {
        "duration": 76,
        "start_time": "2023-01-31T00:24:27.623Z"
      },
      {
        "duration": 37,
        "start_time": "2023-01-31T00:24:27.701Z"
      },
      {
        "duration": 44,
        "start_time": "2023-01-31T00:24:27.748Z"
      },
      {
        "duration": 24,
        "start_time": "2023-01-31T00:24:27.795Z"
      },
      {
        "duration": 14,
        "start_time": "2023-01-31T00:24:27.821Z"
      },
      {
        "duration": 21,
        "start_time": "2023-01-31T00:24:27.838Z"
      },
      {
        "duration": 17,
        "start_time": "2023-01-31T00:24:27.861Z"
      },
      {
        "duration": 35,
        "start_time": "2023-01-31T00:24:27.880Z"
      },
      {
        "duration": 29,
        "start_time": "2023-01-31T00:24:27.916Z"
      },
      {
        "duration": 11,
        "start_time": "2023-01-31T00:24:27.946Z"
      },
      {
        "duration": 10,
        "start_time": "2023-01-31T00:24:27.959Z"
      },
      {
        "duration": 6,
        "start_time": "2023-01-31T00:24:27.971Z"
      },
      {
        "duration": 12,
        "start_time": "2023-01-31T00:24:27.979Z"
      },
      {
        "duration": 7,
        "start_time": "2023-01-31T00:24:27.993Z"
      },
      {
        "duration": 34,
        "start_time": "2023-01-31T00:24:28.002Z"
      },
      {
        "duration": 19,
        "start_time": "2023-01-31T00:24:28.040Z"
      },
      {
        "duration": 13,
        "start_time": "2023-01-31T00:24:28.061Z"
      },
      {
        "duration": 19,
        "start_time": "2023-01-31T00:24:28.076Z"
      },
      {
        "duration": 48,
        "start_time": "2023-01-31T00:24:28.097Z"
      },
      {
        "duration": 228,
        "start_time": "2023-01-31T00:24:28.147Z"
      },
      {
        "duration": 198,
        "start_time": "2023-01-31T00:24:28.377Z"
      },
      {
        "duration": 401,
        "start_time": "2023-01-31T00:24:28.576Z"
      },
      {
        "duration": 15,
        "start_time": "2023-01-31T00:24:28.979Z"
      },
      {
        "duration": 188,
        "start_time": "2023-01-31T00:24:28.996Z"
      },
      {
        "duration": 359,
        "start_time": "2023-01-31T00:24:29.186Z"
      },
      {
        "duration": 355,
        "start_time": "2023-01-31T00:24:29.548Z"
      },
      {
        "duration": 53,
        "start_time": "2023-01-31T00:24:29.905Z"
      },
      {
        "duration": 438,
        "start_time": "2023-01-31T00:24:29.960Z"
      },
      {
        "duration": 14,
        "start_time": "2023-01-31T00:24:30.400Z"
      },
      {
        "duration": 63,
        "start_time": "2023-01-31T00:24:30.431Z"
      },
      {
        "duration": 106,
        "start_time": "2023-01-31T00:24:30.496Z"
      },
      {
        "duration": 50,
        "start_time": "2023-01-31T00:24:30.604Z"
      },
      {
        "duration": 57,
        "start_time": "2023-01-31T00:24:30.660Z"
      },
      {
        "duration": 278,
        "start_time": "2023-01-31T00:24:30.720Z"
      },
      {
        "duration": 69,
        "start_time": "2023-01-31T00:24:31.000Z"
      },
      {
        "duration": 19,
        "start_time": "2023-01-31T00:24:31.072Z"
      },
      {
        "duration": 270,
        "start_time": "2023-01-31T00:24:31.093Z"
      },
      {
        "duration": 201,
        "start_time": "2023-01-31T00:24:31.365Z"
      },
      {
        "duration": 11,
        "start_time": "2023-01-31T00:24:31.568Z"
      },
      {
        "duration": 136,
        "start_time": "2023-01-31T00:24:31.581Z"
      },
      {
        "duration": 0,
        "start_time": "2023-01-31T00:24:31.719Z"
      },
      {
        "duration": 0,
        "start_time": "2023-01-31T00:24:31.720Z"
      },
      {
        "duration": 0,
        "start_time": "2023-01-31T00:24:31.721Z"
      },
      {
        "duration": 0,
        "start_time": "2023-01-31T00:24:31.721Z"
      },
      {
        "duration": 0,
        "start_time": "2023-01-31T00:24:31.728Z"
      },
      {
        "duration": 0,
        "start_time": "2023-01-31T00:24:31.731Z"
      },
      {
        "duration": 9,
        "start_time": "2023-01-31T00:24:37.059Z"
      },
      {
        "duration": 7,
        "start_time": "2023-01-31T00:24:38.861Z"
      },
      {
        "duration": 11,
        "start_time": "2023-01-31T00:59:51.462Z"
      },
      {
        "duration": 21,
        "start_time": "2023-01-31T00:59:54.856Z"
      },
      {
        "duration": 11,
        "start_time": "2023-01-31T00:59:58.691Z"
      },
      {
        "duration": 1105,
        "start_time": "2023-01-31T01:10:42.539Z"
      },
      {
        "duration": 51,
        "start_time": "2023-01-31T01:10:43.646Z"
      },
      {
        "duration": 13,
        "start_time": "2023-01-31T01:10:43.699Z"
      },
      {
        "duration": 43,
        "start_time": "2023-01-31T01:10:43.714Z"
      },
      {
        "duration": 32,
        "start_time": "2023-01-31T01:10:43.759Z"
      },
      {
        "duration": 33,
        "start_time": "2023-01-31T01:10:43.793Z"
      },
      {
        "duration": 46,
        "start_time": "2023-01-31T01:10:43.828Z"
      },
      {
        "duration": 25,
        "start_time": "2023-01-31T01:10:43.875Z"
      },
      {
        "duration": 48,
        "start_time": "2023-01-31T01:10:43.902Z"
      },
      {
        "duration": 21,
        "start_time": "2023-01-31T01:10:43.953Z"
      },
      {
        "duration": 36,
        "start_time": "2023-01-31T01:10:43.976Z"
      },
      {
        "duration": 40,
        "start_time": "2023-01-31T01:10:44.014Z"
      },
      {
        "duration": 17,
        "start_time": "2023-01-31T01:10:44.056Z"
      },
      {
        "duration": 29,
        "start_time": "2023-01-31T01:10:44.074Z"
      },
      {
        "duration": 50,
        "start_time": "2023-01-31T01:10:44.105Z"
      },
      {
        "duration": 39,
        "start_time": "2023-01-31T01:10:44.157Z"
      },
      {
        "duration": 32,
        "start_time": "2023-01-31T01:10:44.198Z"
      },
      {
        "duration": 32,
        "start_time": "2023-01-31T01:10:44.232Z"
      },
      {
        "duration": 42,
        "start_time": "2023-01-31T01:10:44.266Z"
      },
      {
        "duration": 38,
        "start_time": "2023-01-31T01:10:44.310Z"
      },
      {
        "duration": 36,
        "start_time": "2023-01-31T01:10:44.350Z"
      },
      {
        "duration": 29,
        "start_time": "2023-01-31T01:10:44.388Z"
      },
      {
        "duration": 22,
        "start_time": "2023-01-31T01:10:44.419Z"
      },
      {
        "duration": 20,
        "start_time": "2023-01-31T01:10:44.443Z"
      },
      {
        "duration": 26,
        "start_time": "2023-01-31T01:10:44.465Z"
      },
      {
        "duration": 48,
        "start_time": "2023-01-31T01:10:44.493Z"
      },
      {
        "duration": 25,
        "start_time": "2023-01-31T01:10:44.543Z"
      },
      {
        "duration": 210,
        "start_time": "2023-01-31T01:10:44.572Z"
      },
      {
        "duration": 188,
        "start_time": "2023-01-31T01:10:44.784Z"
      },
      {
        "duration": 330,
        "start_time": "2023-01-31T01:10:44.974Z"
      },
      {
        "duration": 21,
        "start_time": "2023-01-31T01:10:45.306Z"
      },
      {
        "duration": 163,
        "start_time": "2023-01-31T01:10:45.329Z"
      },
      {
        "duration": 325,
        "start_time": "2023-01-31T01:10:45.494Z"
      },
      {
        "duration": 326,
        "start_time": "2023-01-31T01:10:45.821Z"
      },
      {
        "duration": 39,
        "start_time": "2023-01-31T01:10:46.148Z"
      },
      {
        "duration": 418,
        "start_time": "2023-01-31T01:10:46.189Z"
      },
      {
        "duration": 10,
        "start_time": "2023-01-31T01:10:46.608Z"
      },
      {
        "duration": 13,
        "start_time": "2023-01-31T01:10:46.627Z"
      },
      {
        "duration": 16,
        "start_time": "2023-01-31T01:10:46.642Z"
      },
      {
        "duration": 41,
        "start_time": "2023-01-31T01:10:46.660Z"
      },
      {
        "duration": 22,
        "start_time": "2023-01-31T01:10:46.703Z"
      },
      {
        "duration": 214,
        "start_time": "2023-01-31T01:10:46.727Z"
      },
      {
        "duration": 43,
        "start_time": "2023-01-31T01:10:46.943Z"
      },
      {
        "duration": 16,
        "start_time": "2023-01-31T01:10:46.988Z"
      },
      {
        "duration": 210,
        "start_time": "2023-01-31T01:10:47.005Z"
      },
      {
        "duration": 184,
        "start_time": "2023-01-31T01:10:47.217Z"
      },
      {
        "duration": 11,
        "start_time": "2023-01-31T01:10:47.403Z"
      },
      {
        "duration": 139,
        "start_time": "2023-01-31T01:10:47.415Z"
      },
      {
        "duration": 0,
        "start_time": "2023-01-31T01:10:47.555Z"
      },
      {
        "duration": 0,
        "start_time": "2023-01-31T01:10:47.556Z"
      },
      {
        "duration": 0,
        "start_time": "2023-01-31T01:10:47.557Z"
      },
      {
        "duration": 0,
        "start_time": "2023-01-31T01:10:47.558Z"
      },
      {
        "duration": 0,
        "start_time": "2023-01-31T01:10:47.559Z"
      },
      {
        "duration": 0,
        "start_time": "2023-01-31T01:10:47.560Z"
      },
      {
        "duration": 0,
        "start_time": "2023-01-31T01:10:47.561Z"
      },
      {
        "duration": 10,
        "start_time": "2023-01-31T01:11:25.626Z"
      },
      {
        "duration": 10,
        "start_time": "2023-01-31T01:11:28.608Z"
      },
      {
        "duration": 22,
        "start_time": "2023-01-31T01:11:29.907Z"
      },
      {
        "duration": 44,
        "start_time": "2023-01-31T01:14:22.997Z"
      },
      {
        "duration": 1151,
        "start_time": "2023-01-31T01:17:49.204Z"
      },
      {
        "duration": 51,
        "start_time": "2023-01-31T01:17:50.357Z"
      },
      {
        "duration": 14,
        "start_time": "2023-01-31T01:17:50.411Z"
      },
      {
        "duration": 20,
        "start_time": "2023-01-31T01:17:50.427Z"
      },
      {
        "duration": 13,
        "start_time": "2023-01-31T01:17:50.448Z"
      },
      {
        "duration": 23,
        "start_time": "2023-01-31T01:17:50.463Z"
      },
      {
        "duration": 8,
        "start_time": "2023-01-31T01:17:50.487Z"
      },
      {
        "duration": 16,
        "start_time": "2023-01-31T01:17:50.497Z"
      },
      {
        "duration": 30,
        "start_time": "2023-01-31T01:17:50.515Z"
      },
      {
        "duration": 19,
        "start_time": "2023-01-31T01:17:50.546Z"
      },
      {
        "duration": 21,
        "start_time": "2023-01-31T01:17:50.567Z"
      },
      {
        "duration": 40,
        "start_time": "2023-01-31T01:17:50.589Z"
      },
      {
        "duration": 8,
        "start_time": "2023-01-31T01:17:50.633Z"
      },
      {
        "duration": 14,
        "start_time": "2023-01-31T01:17:50.643Z"
      },
      {
        "duration": 19,
        "start_time": "2023-01-31T01:17:50.659Z"
      },
      {
        "duration": 28,
        "start_time": "2023-01-31T01:17:50.679Z"
      },
      {
        "duration": 35,
        "start_time": "2023-01-31T01:17:50.709Z"
      },
      {
        "duration": 4,
        "start_time": "2023-01-31T01:17:50.746Z"
      },
      {
        "duration": 7,
        "start_time": "2023-01-31T01:17:50.751Z"
      },
      {
        "duration": 6,
        "start_time": "2023-01-31T01:17:50.760Z"
      },
      {
        "duration": 8,
        "start_time": "2023-01-31T01:17:50.767Z"
      },
      {
        "duration": 5,
        "start_time": "2023-01-31T01:17:50.777Z"
      },
      {
        "duration": 11,
        "start_time": "2023-01-31T01:17:50.783Z"
      },
      {
        "duration": 16,
        "start_time": "2023-01-31T01:17:50.827Z"
      },
      {
        "duration": 8,
        "start_time": "2023-01-31T01:17:50.845Z"
      },
      {
        "duration": 21,
        "start_time": "2023-01-31T01:17:50.854Z"
      },
      {
        "duration": 17,
        "start_time": "2023-01-31T01:17:50.876Z"
      },
      {
        "duration": 226,
        "start_time": "2023-01-31T01:17:50.895Z"
      },
      {
        "duration": 179,
        "start_time": "2023-01-31T01:17:51.127Z"
      },
      {
        "duration": 334,
        "start_time": "2023-01-31T01:17:51.307Z"
      },
      {
        "duration": 14,
        "start_time": "2023-01-31T01:17:51.643Z"
      },
      {
        "duration": 180,
        "start_time": "2023-01-31T01:17:51.659Z"
      },
      {
        "duration": 346,
        "start_time": "2023-01-31T01:17:51.841Z"
      },
      {
        "duration": 385,
        "start_time": "2023-01-31T01:17:52.189Z"
      },
      {
        "duration": 51,
        "start_time": "2023-01-31T01:17:52.576Z"
      },
      {
        "duration": 389,
        "start_time": "2023-01-31T01:17:52.629Z"
      },
      {
        "duration": 15,
        "start_time": "2023-01-31T01:17:53.020Z"
      },
      {
        "duration": 10,
        "start_time": "2023-01-31T01:17:53.037Z"
      },
      {
        "duration": 10,
        "start_time": "2023-01-31T01:17:53.049Z"
      },
      {
        "duration": 9,
        "start_time": "2023-01-31T01:17:53.064Z"
      },
      {
        "duration": 58,
        "start_time": "2023-01-31T01:17:53.075Z"
      },
      {
        "duration": 216,
        "start_time": "2023-01-31T01:17:53.135Z"
      },
      {
        "duration": 41,
        "start_time": "2023-01-31T01:17:53.353Z"
      },
      {
        "duration": 32,
        "start_time": "2023-01-31T01:17:53.396Z"
      },
      {
        "duration": 179,
        "start_time": "2023-01-31T01:17:53.430Z"
      },
      {
        "duration": 184,
        "start_time": "2023-01-31T01:17:53.611Z"
      },
      {
        "duration": 10,
        "start_time": "2023-01-31T01:17:53.796Z"
      },
      {
        "duration": 20,
        "start_time": "2023-01-31T01:17:53.808Z"
      },
      {
        "duration": 125,
        "start_time": "2023-01-31T01:17:53.830Z"
      },
      {
        "duration": 0,
        "start_time": "2023-01-31T01:17:53.956Z"
      },
      {
        "duration": 0,
        "start_time": "2023-01-31T01:17:53.957Z"
      },
      {
        "duration": 0,
        "start_time": "2023-01-31T01:17:53.958Z"
      },
      {
        "duration": 0,
        "start_time": "2023-01-31T01:17:53.959Z"
      },
      {
        "duration": 0,
        "start_time": "2023-01-31T01:17:53.960Z"
      },
      {
        "duration": 0,
        "start_time": "2023-01-31T01:17:53.961Z"
      },
      {
        "duration": 0,
        "start_time": "2023-01-31T01:17:53.961Z"
      },
      {
        "duration": 21,
        "start_time": "2023-01-31T01:19:20.674Z"
      },
      {
        "duration": 10,
        "start_time": "2023-01-31T01:19:23.651Z"
      },
      {
        "duration": 5,
        "start_time": "2023-01-31T01:19:25.275Z"
      },
      {
        "duration": 3,
        "start_time": "2023-01-31T01:19:54.421Z"
      },
      {
        "duration": 10,
        "start_time": "2023-01-31T01:20:22.044Z"
      },
      {
        "duration": 22,
        "start_time": "2023-01-31T01:20:28.132Z"
      },
      {
        "duration": 10,
        "start_time": "2023-01-31T01:20:35.246Z"
      },
      {
        "duration": 20,
        "start_time": "2023-01-31T01:21:06.450Z"
      },
      {
        "duration": 189,
        "start_time": "2023-01-31T01:24:39.516Z"
      },
      {
        "duration": 24,
        "start_time": "2023-01-31T01:25:44.342Z"
      },
      {
        "duration": 10,
        "start_time": "2023-01-31T01:27:48.802Z"
      },
      {
        "duration": 4,
        "start_time": "2023-01-31T01:30:51.096Z"
      },
      {
        "duration": 20,
        "start_time": "2023-01-31T01:30:55.776Z"
      },
      {
        "duration": 1080,
        "start_time": "2023-01-31T01:31:46.450Z"
      },
      {
        "duration": 48,
        "start_time": "2023-01-31T01:31:47.531Z"
      },
      {
        "duration": 14,
        "start_time": "2023-01-31T01:31:47.580Z"
      },
      {
        "duration": 16,
        "start_time": "2023-01-31T01:31:47.597Z"
      },
      {
        "duration": 13,
        "start_time": "2023-01-31T01:31:47.614Z"
      },
      {
        "duration": 20,
        "start_time": "2023-01-31T01:31:47.629Z"
      },
      {
        "duration": 8,
        "start_time": "2023-01-31T01:31:47.651Z"
      },
      {
        "duration": 5,
        "start_time": "2023-01-31T01:31:47.660Z"
      },
      {
        "duration": 30,
        "start_time": "2023-01-31T01:31:47.666Z"
      },
      {
        "duration": 39,
        "start_time": "2023-01-31T01:31:47.698Z"
      },
      {
        "duration": 20,
        "start_time": "2023-01-31T01:31:47.738Z"
      },
      {
        "duration": 19,
        "start_time": "2023-01-31T01:31:47.759Z"
      },
      {
        "duration": 5,
        "start_time": "2023-01-31T01:31:47.780Z"
      },
      {
        "duration": 9,
        "start_time": "2023-01-31T01:31:47.787Z"
      },
      {
        "duration": 38,
        "start_time": "2023-01-31T01:31:47.797Z"
      },
      {
        "duration": 24,
        "start_time": "2023-01-31T01:31:47.836Z"
      },
      {
        "duration": 21,
        "start_time": "2023-01-31T01:31:47.861Z"
      },
      {
        "duration": 6,
        "start_time": "2023-01-31T01:31:47.883Z"
      },
      {
        "duration": 37,
        "start_time": "2023-01-31T01:31:47.891Z"
      },
      {
        "duration": 6,
        "start_time": "2023-01-31T01:31:47.929Z"
      },
      {
        "duration": 16,
        "start_time": "2023-01-31T01:31:47.936Z"
      },
      {
        "duration": 7,
        "start_time": "2023-01-31T01:31:47.953Z"
      },
      {
        "duration": 12,
        "start_time": "2023-01-31T01:31:47.961Z"
      },
      {
        "duration": 15,
        "start_time": "2023-01-31T01:31:47.975Z"
      },
      {
        "duration": 11,
        "start_time": "2023-01-31T01:31:47.991Z"
      },
      {
        "duration": 37,
        "start_time": "2023-01-31T01:31:48.004Z"
      },
      {
        "duration": 17,
        "start_time": "2023-01-31T01:31:48.043Z"
      },
      {
        "duration": 219,
        "start_time": "2023-01-31T01:31:48.064Z"
      },
      {
        "duration": 191,
        "start_time": "2023-01-31T01:31:48.285Z"
      },
      {
        "duration": 322,
        "start_time": "2023-01-31T01:31:48.478Z"
      },
      {
        "duration": 26,
        "start_time": "2023-01-31T01:31:48.802Z"
      },
      {
        "duration": 162,
        "start_time": "2023-01-31T01:31:48.830Z"
      },
      {
        "duration": 313,
        "start_time": "2023-01-31T01:31:48.994Z"
      },
      {
        "duration": 296,
        "start_time": "2023-01-31T01:31:49.309Z"
      },
      {
        "duration": 46,
        "start_time": "2023-01-31T01:31:49.606Z"
      },
      {
        "duration": 358,
        "start_time": "2023-01-31T01:31:49.653Z"
      },
      {
        "duration": 14,
        "start_time": "2023-01-31T01:31:50.013Z"
      },
      {
        "duration": 21,
        "start_time": "2023-01-31T01:31:50.028Z"
      },
      {
        "duration": 8,
        "start_time": "2023-01-31T01:31:50.051Z"
      },
      {
        "duration": 9,
        "start_time": "2023-01-31T01:31:50.060Z"
      },
      {
        "duration": 16,
        "start_time": "2023-01-31T01:31:50.071Z"
      },
      {
        "duration": 253,
        "start_time": "2023-01-31T01:31:50.089Z"
      },
      {
        "duration": 41,
        "start_time": "2023-01-31T01:31:50.344Z"
      },
      {
        "duration": 13,
        "start_time": "2023-01-31T01:31:50.387Z"
      },
      {
        "duration": 190,
        "start_time": "2023-01-31T01:31:50.402Z"
      },
      {
        "duration": 202,
        "start_time": "2023-01-31T01:31:50.594Z"
      },
      {
        "duration": 9,
        "start_time": "2023-01-31T01:31:50.798Z"
      },
      {
        "duration": 14,
        "start_time": "2023-01-31T01:31:50.808Z"
      },
      {
        "duration": 120,
        "start_time": "2023-01-31T01:31:50.826Z"
      },
      {
        "duration": 0,
        "start_time": "2023-01-31T01:31:50.947Z"
      },
      {
        "duration": 0,
        "start_time": "2023-01-31T01:31:50.948Z"
      },
      {
        "duration": 0,
        "start_time": "2023-01-31T01:31:50.949Z"
      },
      {
        "duration": 0,
        "start_time": "2023-01-31T01:31:50.950Z"
      },
      {
        "duration": 0,
        "start_time": "2023-01-31T01:31:50.951Z"
      },
      {
        "duration": 0,
        "start_time": "2023-01-31T01:31:50.952Z"
      },
      {
        "duration": 0,
        "start_time": "2023-01-31T01:31:50.953Z"
      },
      {
        "duration": 11,
        "start_time": "2023-01-31T01:32:37.043Z"
      },
      {
        "duration": 1335,
        "start_time": "2023-01-31T05:21:18.121Z"
      },
      {
        "duration": 265,
        "start_time": "2023-01-31T05:21:19.463Z"
      },
      {
        "duration": 14,
        "start_time": "2023-01-31T05:21:19.729Z"
      },
      {
        "duration": 48,
        "start_time": "2023-01-31T05:21:19.750Z"
      },
      {
        "duration": 14,
        "start_time": "2023-01-31T05:21:19.800Z"
      },
      {
        "duration": 43,
        "start_time": "2023-01-31T05:21:19.817Z"
      },
      {
        "duration": 29,
        "start_time": "2023-01-31T05:21:19.862Z"
      },
      {
        "duration": 17,
        "start_time": "2023-01-31T05:21:19.892Z"
      },
      {
        "duration": 35,
        "start_time": "2023-01-31T05:21:19.910Z"
      },
      {
        "duration": 38,
        "start_time": "2023-01-31T05:21:19.947Z"
      },
      {
        "duration": 29,
        "start_time": "2023-01-31T05:21:19.987Z"
      },
      {
        "duration": 35,
        "start_time": "2023-01-31T05:21:20.018Z"
      },
      {
        "duration": 28,
        "start_time": "2023-01-31T05:21:20.055Z"
      },
      {
        "duration": 19,
        "start_time": "2023-01-31T05:21:20.085Z"
      },
      {
        "duration": 23,
        "start_time": "2023-01-31T05:21:20.105Z"
      },
      {
        "duration": 60,
        "start_time": "2023-01-31T05:21:20.130Z"
      },
      {
        "duration": 38,
        "start_time": "2023-01-31T05:21:20.192Z"
      },
      {
        "duration": 59,
        "start_time": "2023-01-31T05:21:20.231Z"
      },
      {
        "duration": 17,
        "start_time": "2023-01-31T05:21:20.291Z"
      },
      {
        "duration": 21,
        "start_time": "2023-01-31T05:21:20.310Z"
      },
      {
        "duration": 45,
        "start_time": "2023-01-31T05:21:20.333Z"
      },
      {
        "duration": 17,
        "start_time": "2023-01-31T05:21:20.380Z"
      },
      {
        "duration": 40,
        "start_time": "2023-01-31T05:21:20.399Z"
      },
      {
        "duration": 71,
        "start_time": "2023-01-31T05:21:20.441Z"
      },
      {
        "duration": 7,
        "start_time": "2023-01-31T05:21:20.514Z"
      },
      {
        "duration": 34,
        "start_time": "2023-01-31T05:21:20.522Z"
      },
      {
        "duration": 46,
        "start_time": "2023-01-31T05:21:20.560Z"
      },
      {
        "duration": 249,
        "start_time": "2023-01-31T05:21:20.608Z"
      },
      {
        "duration": 212,
        "start_time": "2023-01-31T05:21:20.858Z"
      },
      {
        "duration": 335,
        "start_time": "2023-01-31T05:21:21.072Z"
      },
      {
        "duration": 11,
        "start_time": "2023-01-31T05:21:21.409Z"
      },
      {
        "duration": 181,
        "start_time": "2023-01-31T05:21:21.422Z"
      },
      {
        "duration": 372,
        "start_time": "2023-01-31T05:21:21.605Z"
      },
      {
        "duration": 318,
        "start_time": "2023-01-31T05:21:21.979Z"
      },
      {
        "duration": 33,
        "start_time": "2023-01-31T05:21:22.299Z"
      },
      {
        "duration": 378,
        "start_time": "2023-01-31T05:21:22.348Z"
      },
      {
        "duration": 9,
        "start_time": "2023-01-31T05:21:22.727Z"
      },
      {
        "duration": 29,
        "start_time": "2023-01-31T05:21:22.747Z"
      },
      {
        "duration": 17,
        "start_time": "2023-01-31T05:21:22.777Z"
      },
      {
        "duration": 8,
        "start_time": "2023-01-31T05:21:22.796Z"
      },
      {
        "duration": 15,
        "start_time": "2023-01-31T05:21:22.808Z"
      },
      {
        "duration": 201,
        "start_time": "2023-01-31T05:21:22.824Z"
      },
      {
        "duration": 56,
        "start_time": "2023-01-31T05:21:23.027Z"
      },
      {
        "duration": 12,
        "start_time": "2023-01-31T05:21:23.084Z"
      },
      {
        "duration": 183,
        "start_time": "2023-01-31T05:21:23.098Z"
      },
      {
        "duration": 190,
        "start_time": "2023-01-31T05:21:23.283Z"
      },
      {
        "duration": 13,
        "start_time": "2023-01-31T05:21:23.478Z"
      },
      {
        "duration": 23,
        "start_time": "2023-01-31T05:21:23.492Z"
      },
      {
        "duration": 129,
        "start_time": "2023-01-31T05:21:23.517Z"
      },
      {
        "duration": 0,
        "start_time": "2023-01-31T05:21:23.648Z"
      },
      {
        "duration": 0,
        "start_time": "2023-01-31T05:21:23.648Z"
      },
      {
        "duration": 0,
        "start_time": "2023-01-31T05:21:23.649Z"
      },
      {
        "duration": 0,
        "start_time": "2023-01-31T05:21:23.649Z"
      },
      {
        "duration": 0,
        "start_time": "2023-01-31T05:21:23.650Z"
      },
      {
        "duration": 0,
        "start_time": "2023-01-31T05:21:23.652Z"
      },
      {
        "duration": 0,
        "start_time": "2023-01-31T05:21:23.656Z"
      },
      {
        "duration": 50,
        "start_time": "2023-01-31T14:14:43.805Z"
      },
      {
        "duration": 1380,
        "start_time": "2023-01-31T14:14:52.829Z"
      },
      {
        "duration": 93,
        "start_time": "2023-01-31T14:14:54.212Z"
      },
      {
        "duration": 15,
        "start_time": "2023-01-31T14:14:54.307Z"
      },
      {
        "duration": 19,
        "start_time": "2023-01-31T14:14:54.324Z"
      },
      {
        "duration": 36,
        "start_time": "2023-01-31T14:14:54.345Z"
      },
      {
        "duration": 41,
        "start_time": "2023-01-31T14:14:54.383Z"
      },
      {
        "duration": 12,
        "start_time": "2023-01-31T14:14:54.426Z"
      },
      {
        "duration": 45,
        "start_time": "2023-01-31T14:14:54.439Z"
      },
      {
        "duration": 33,
        "start_time": "2023-01-31T14:14:54.486Z"
      },
      {
        "duration": 26,
        "start_time": "2023-01-31T14:14:54.523Z"
      },
      {
        "duration": 31,
        "start_time": "2023-01-31T14:14:54.551Z"
      },
      {
        "duration": 20,
        "start_time": "2023-01-31T14:14:54.584Z"
      },
      {
        "duration": 17,
        "start_time": "2023-01-31T14:14:54.605Z"
      },
      {
        "duration": 35,
        "start_time": "2023-01-31T14:14:54.624Z"
      },
      {
        "duration": 33,
        "start_time": "2023-01-31T14:14:54.661Z"
      },
      {
        "duration": 67,
        "start_time": "2023-01-31T14:14:54.697Z"
      },
      {
        "duration": 53,
        "start_time": "2023-01-31T14:14:54.766Z"
      },
      {
        "duration": 20,
        "start_time": "2023-01-31T14:14:54.821Z"
      },
      {
        "duration": 42,
        "start_time": "2023-01-31T14:14:54.843Z"
      },
      {
        "duration": 24,
        "start_time": "2023-01-31T14:14:54.887Z"
      },
      {
        "duration": 24,
        "start_time": "2023-01-31T14:14:54.913Z"
      },
      {
        "duration": 31,
        "start_time": "2023-01-31T14:14:54.938Z"
      },
      {
        "duration": 37,
        "start_time": "2023-01-31T14:14:54.971Z"
      },
      {
        "duration": 46,
        "start_time": "2023-01-31T14:14:55.010Z"
      },
      {
        "duration": 29,
        "start_time": "2023-01-31T14:14:55.058Z"
      },
      {
        "duration": 32,
        "start_time": "2023-01-31T14:14:55.089Z"
      },
      {
        "duration": 34,
        "start_time": "2023-01-31T14:14:55.123Z"
      },
      {
        "duration": 227,
        "start_time": "2023-01-31T14:14:55.161Z"
      },
      {
        "duration": 218,
        "start_time": "2023-01-31T14:14:55.390Z"
      },
      {
        "duration": 391,
        "start_time": "2023-01-31T14:14:55.610Z"
      },
      {
        "duration": 16,
        "start_time": "2023-01-31T14:14:56.003Z"
      },
      {
        "duration": 200,
        "start_time": "2023-01-31T14:14:56.021Z"
      },
      {
        "duration": 374,
        "start_time": "2023-01-31T14:14:56.224Z"
      },
      {
        "duration": 380,
        "start_time": "2023-01-31T14:14:56.600Z"
      },
      {
        "duration": 38,
        "start_time": "2023-01-31T14:14:56.982Z"
      },
      {
        "duration": 314,
        "start_time": "2023-01-31T14:14:57.022Z"
      },
      {
        "duration": 16,
        "start_time": "2023-01-31T14:14:57.338Z"
      },
      {
        "duration": 27,
        "start_time": "2023-01-31T14:14:57.356Z"
      },
      {
        "duration": 39,
        "start_time": "2023-01-31T14:14:57.385Z"
      },
      {
        "duration": 26,
        "start_time": "2023-01-31T14:14:57.426Z"
      },
      {
        "duration": 37,
        "start_time": "2023-01-31T14:14:57.454Z"
      },
      {
        "duration": 280,
        "start_time": "2023-01-31T14:14:57.493Z"
      },
      {
        "duration": 46,
        "start_time": "2023-01-31T14:14:57.775Z"
      },
      {
        "duration": 31,
        "start_time": "2023-01-31T14:14:57.822Z"
      },
      {
        "duration": 177,
        "start_time": "2023-01-31T14:14:57.855Z"
      },
      {
        "duration": 192,
        "start_time": "2023-01-31T14:14:58.034Z"
      },
      {
        "duration": 11,
        "start_time": "2023-01-31T14:14:58.227Z"
      },
      {
        "duration": 14,
        "start_time": "2023-01-31T14:14:58.240Z"
      },
      {
        "duration": 120,
        "start_time": "2023-01-31T14:14:58.256Z"
      },
      {
        "duration": 0,
        "start_time": "2023-01-31T14:14:58.377Z"
      },
      {
        "duration": 0,
        "start_time": "2023-01-31T14:14:58.378Z"
      },
      {
        "duration": 0,
        "start_time": "2023-01-31T14:14:58.379Z"
      },
      {
        "duration": 0,
        "start_time": "2023-01-31T14:14:58.380Z"
      },
      {
        "duration": 0,
        "start_time": "2023-01-31T14:14:58.381Z"
      },
      {
        "duration": 0,
        "start_time": "2023-01-31T14:14:58.382Z"
      },
      {
        "duration": 0,
        "start_time": "2023-01-31T14:14:58.383Z"
      },
      {
        "duration": 23,
        "start_time": "2023-01-31T14:17:18.070Z"
      },
      {
        "duration": 19,
        "start_time": "2023-01-31T14:17:21.838Z"
      },
      {
        "duration": 10,
        "start_time": "2023-01-31T14:18:11.609Z"
      },
      {
        "duration": 10,
        "start_time": "2023-01-31T14:19:00.801Z"
      },
      {
        "duration": 200,
        "start_time": "2023-01-31T14:19:26.331Z"
      },
      {
        "duration": 11,
        "start_time": "2023-01-31T14:20:59.855Z"
      },
      {
        "duration": 9,
        "start_time": "2023-01-31T14:21:38.110Z"
      },
      {
        "duration": 79,
        "start_time": "2023-01-31T14:21:45.523Z"
      },
      {
        "duration": 1859,
        "start_time": "2023-01-31T14:21:50.755Z"
      },
      {
        "duration": 11,
        "start_time": "2023-01-31T14:26:13.656Z"
      },
      {
        "duration": 22,
        "start_time": "2023-01-31T14:28:32.484Z"
      },
      {
        "duration": 9,
        "start_time": "2023-01-31T14:29:27.191Z"
      },
      {
        "duration": 13,
        "start_time": "2023-01-31T14:29:31.994Z"
      },
      {
        "duration": 13,
        "start_time": "2023-01-31T14:30:23.139Z"
      },
      {
        "duration": 10,
        "start_time": "2023-01-31T14:32:24.050Z"
      },
      {
        "duration": 15,
        "start_time": "2023-01-31T14:32:26.895Z"
      },
      {
        "duration": 10,
        "start_time": "2023-01-31T14:32:52.727Z"
      },
      {
        "duration": 14,
        "start_time": "2023-01-31T14:33:03.126Z"
      },
      {
        "duration": 14,
        "start_time": "2023-01-31T14:33:10.101Z"
      },
      {
        "duration": 248,
        "start_time": "2023-01-31T14:35:00.341Z"
      },
      {
        "duration": 336,
        "start_time": "2023-01-31T14:37:31.227Z"
      },
      {
        "duration": 278,
        "start_time": "2023-01-31T14:38:10.592Z"
      },
      {
        "duration": 3,
        "start_time": "2023-01-31T14:39:14.242Z"
      },
      {
        "duration": 1188,
        "start_time": "2023-01-31T15:01:38.283Z"
      },
      {
        "duration": 51,
        "start_time": "2023-01-31T15:01:39.473Z"
      },
      {
        "duration": 17,
        "start_time": "2023-01-31T15:01:39.526Z"
      },
      {
        "duration": 21,
        "start_time": "2023-01-31T15:01:39.546Z"
      },
      {
        "duration": 18,
        "start_time": "2023-01-31T15:01:39.569Z"
      },
      {
        "duration": 34,
        "start_time": "2023-01-31T15:01:39.590Z"
      },
      {
        "duration": 12,
        "start_time": "2023-01-31T15:01:39.626Z"
      },
      {
        "duration": 8,
        "start_time": "2023-01-31T15:01:39.639Z"
      },
      {
        "duration": 32,
        "start_time": "2023-01-31T15:01:39.648Z"
      },
      {
        "duration": 22,
        "start_time": "2023-01-31T15:01:39.683Z"
      },
      {
        "duration": 23,
        "start_time": "2023-01-31T15:01:39.707Z"
      },
      {
        "duration": 42,
        "start_time": "2023-01-31T15:01:39.732Z"
      },
      {
        "duration": 7,
        "start_time": "2023-01-31T15:01:39.776Z"
      },
      {
        "duration": 16,
        "start_time": "2023-01-31T15:01:39.785Z"
      },
      {
        "duration": 27,
        "start_time": "2023-01-31T15:01:39.804Z"
      },
      {
        "duration": 41,
        "start_time": "2023-01-31T15:01:39.834Z"
      },
      {
        "duration": 24,
        "start_time": "2023-01-31T15:01:39.876Z"
      },
      {
        "duration": 7,
        "start_time": "2023-01-31T15:01:39.902Z"
      },
      {
        "duration": 11,
        "start_time": "2023-01-31T15:01:39.910Z"
      },
      {
        "duration": 20,
        "start_time": "2023-01-31T15:01:39.923Z"
      },
      {
        "duration": 13,
        "start_time": "2023-01-31T15:01:39.945Z"
      },
      {
        "duration": 17,
        "start_time": "2023-01-31T15:01:39.960Z"
      },
      {
        "duration": 24,
        "start_time": "2023-01-31T15:01:39.979Z"
      },
      {
        "duration": 18,
        "start_time": "2023-01-31T15:01:40.005Z"
      },
      {
        "duration": 28,
        "start_time": "2023-01-31T15:01:40.025Z"
      },
      {
        "duration": 29,
        "start_time": "2023-01-31T15:01:40.055Z"
      },
      {
        "duration": 18,
        "start_time": "2023-01-31T15:01:40.085Z"
      },
      {
        "duration": 226,
        "start_time": "2023-01-31T15:01:40.106Z"
      },
      {
        "duration": 176,
        "start_time": "2023-01-31T15:01:40.334Z"
      },
      {
        "duration": 343,
        "start_time": "2023-01-31T15:01:40.512Z"
      },
      {
        "duration": 13,
        "start_time": "2023-01-31T15:01:40.857Z"
      },
      {
        "duration": 181,
        "start_time": "2023-01-31T15:01:40.872Z"
      },
      {
        "duration": 355,
        "start_time": "2023-01-31T15:01:41.055Z"
      },
      {
        "duration": 326,
        "start_time": "2023-01-31T15:01:41.412Z"
      },
      {
        "duration": 45,
        "start_time": "2023-01-31T15:01:41.740Z"
      },
      {
        "duration": 379,
        "start_time": "2023-01-31T15:01:41.786Z"
      },
      {
        "duration": 9,
        "start_time": "2023-01-31T15:01:42.167Z"
      },
      {
        "duration": 11,
        "start_time": "2023-01-31T15:01:42.178Z"
      },
      {
        "duration": 10,
        "start_time": "2023-01-31T15:01:42.190Z"
      },
      {
        "duration": 9,
        "start_time": "2023-01-31T15:01:42.202Z"
      },
      {
        "duration": 54,
        "start_time": "2023-01-31T15:01:42.213Z"
      },
      {
        "duration": 233,
        "start_time": "2023-01-31T15:01:42.269Z"
      },
      {
        "duration": 51,
        "start_time": "2023-01-31T15:01:42.504Z"
      },
      {
        "duration": 15,
        "start_time": "2023-01-31T15:01:42.556Z"
      },
      {
        "duration": 197,
        "start_time": "2023-01-31T15:01:42.572Z"
      },
      {
        "duration": 197,
        "start_time": "2023-01-31T15:01:42.771Z"
      },
      {
        "duration": 11,
        "start_time": "2023-01-31T15:01:42.970Z"
      },
      {
        "duration": 1728,
        "start_time": "2023-01-31T15:01:42.983Z"
      },
      {
        "duration": 11,
        "start_time": "2023-01-31T15:01:44.712Z"
      },
      {
        "duration": 415,
        "start_time": "2023-01-31T15:01:44.724Z"
      },
      {
        "duration": 3,
        "start_time": "2023-01-31T15:01:45.141Z"
      },
      {
        "duration": 283,
        "start_time": "2023-01-31T15:01:45.154Z"
      },
      {
        "duration": 300,
        "start_time": "2023-01-31T15:01:45.439Z"
      },
      {
        "duration": 235,
        "start_time": "2023-01-31T15:01:45.740Z"
      },
      {
        "duration": 13,
        "start_time": "2023-01-31T15:01:45.978Z"
      },
      {
        "duration": 20,
        "start_time": "2023-01-31T15:01:45.993Z"
      },
      {
        "duration": 15,
        "start_time": "2023-01-31T15:01:46.015Z"
      },
      {
        "duration": 1278,
        "start_time": "2023-01-31T17:50:55.606Z"
      },
      {
        "duration": 195,
        "start_time": "2023-01-31T17:50:56.886Z"
      },
      {
        "duration": 13,
        "start_time": "2023-01-31T17:50:57.083Z"
      },
      {
        "duration": 15,
        "start_time": "2023-01-31T17:50:57.099Z"
      },
      {
        "duration": 13,
        "start_time": "2023-01-31T17:50:57.115Z"
      },
      {
        "duration": 14,
        "start_time": "2023-01-31T17:50:57.130Z"
      },
      {
        "duration": 8,
        "start_time": "2023-01-31T17:50:57.145Z"
      },
      {
        "duration": 4,
        "start_time": "2023-01-31T17:50:57.154Z"
      },
      {
        "duration": 47,
        "start_time": "2023-01-31T17:50:57.160Z"
      },
      {
        "duration": 19,
        "start_time": "2023-01-31T17:50:57.210Z"
      },
      {
        "duration": 22,
        "start_time": "2023-01-31T17:50:57.231Z"
      },
      {
        "duration": 43,
        "start_time": "2023-01-31T17:50:57.255Z"
      },
      {
        "duration": 6,
        "start_time": "2023-01-31T17:50:57.300Z"
      },
      {
        "duration": 10,
        "start_time": "2023-01-31T17:50:57.308Z"
      },
      {
        "duration": 24,
        "start_time": "2023-01-31T17:50:57.319Z"
      },
      {
        "duration": 25,
        "start_time": "2023-01-31T17:50:57.344Z"
      },
      {
        "duration": 31,
        "start_time": "2023-01-31T17:50:57.371Z"
      },
      {
        "duration": 12,
        "start_time": "2023-01-31T17:50:57.403Z"
      },
      {
        "duration": 10,
        "start_time": "2023-01-31T17:50:57.416Z"
      },
      {
        "duration": 7,
        "start_time": "2023-01-31T17:50:57.427Z"
      },
      {
        "duration": 6,
        "start_time": "2023-01-31T17:50:57.436Z"
      },
      {
        "duration": 6,
        "start_time": "2023-01-31T17:50:57.443Z"
      },
      {
        "duration": 11,
        "start_time": "2023-01-31T17:50:57.450Z"
      },
      {
        "duration": 41,
        "start_time": "2023-01-31T17:50:57.463Z"
      },
      {
        "duration": 8,
        "start_time": "2023-01-31T17:50:57.506Z"
      },
      {
        "duration": 17,
        "start_time": "2023-01-31T17:50:57.515Z"
      },
      {
        "duration": 14,
        "start_time": "2023-01-31T17:50:57.533Z"
      },
      {
        "duration": 214,
        "start_time": "2023-01-31T17:50:57.551Z"
      },
      {
        "duration": 192,
        "start_time": "2023-01-31T17:50:57.767Z"
      },
      {
        "duration": 323,
        "start_time": "2023-01-31T17:50:57.961Z"
      },
      {
        "duration": 15,
        "start_time": "2023-01-31T17:50:58.286Z"
      },
      {
        "duration": 156,
        "start_time": "2023-01-31T17:50:58.303Z"
      },
      {
        "duration": 306,
        "start_time": "2023-01-31T17:50:58.462Z"
      },
      {
        "duration": 362,
        "start_time": "2023-01-31T17:50:58.770Z"
      },
      {
        "duration": 36,
        "start_time": "2023-01-31T17:50:59.134Z"
      },
      {
        "duration": 309,
        "start_time": "2023-01-31T17:50:59.172Z"
      },
      {
        "duration": 13,
        "start_time": "2023-01-31T17:50:59.483Z"
      },
      {
        "duration": 10,
        "start_time": "2023-01-31T17:50:59.498Z"
      },
      {
        "duration": 11,
        "start_time": "2023-01-31T17:50:59.509Z"
      },
      {
        "duration": 8,
        "start_time": "2023-01-31T17:50:59.528Z"
      },
      {
        "duration": 17,
        "start_time": "2023-01-31T17:50:59.538Z"
      },
      {
        "duration": 230,
        "start_time": "2023-01-31T17:50:59.556Z"
      },
      {
        "duration": 41,
        "start_time": "2023-01-31T17:50:59.791Z"
      },
      {
        "duration": 13,
        "start_time": "2023-01-31T17:50:59.834Z"
      },
      {
        "duration": 189,
        "start_time": "2023-01-31T17:50:59.848Z"
      },
      {
        "duration": 184,
        "start_time": "2023-01-31T17:51:00.039Z"
      },
      {
        "duration": 10,
        "start_time": "2023-01-31T17:51:00.224Z"
      },
      {
        "duration": 1749,
        "start_time": "2023-01-31T17:51:00.236Z"
      },
      {
        "duration": 10,
        "start_time": "2023-01-31T17:51:01.987Z"
      },
      {
        "duration": 422,
        "start_time": "2023-01-31T17:51:01.998Z"
      },
      {
        "duration": 3,
        "start_time": "2023-01-31T17:51:02.422Z"
      },
      {
        "duration": 275,
        "start_time": "2023-01-31T17:51:02.427Z"
      },
      {
        "duration": 294,
        "start_time": "2023-01-31T17:51:02.704Z"
      },
      {
        "duration": 222,
        "start_time": "2023-01-31T17:51:03.001Z"
      },
      {
        "duration": 13,
        "start_time": "2023-01-31T17:51:03.224Z"
      },
      {
        "duration": 13,
        "start_time": "2023-01-31T17:51:03.238Z"
      },
      {
        "duration": 7,
        "start_time": "2023-01-31T17:51:03.253Z"
      }
    ],
    "kernelspec": {
      "display_name": "Python 3 (ipykernel)",
      "language": "python",
      "name": "python3"
    },
    "language_info": {
      "codemirror_mode": {
        "name": "ipython",
        "version": 3
      },
      "file_extension": ".py",
      "mimetype": "text/x-python",
      "name": "python",
      "nbconvert_exporter": "python",
      "pygments_lexer": "ipython3",
      "version": "3.9.5"
    },
    "toc": {
      "base_numbering": 1,
      "nav_menu": {},
      "number_sections": true,
      "sideBar": true,
      "skip_h1_title": true,
      "title_cell": "Table of Contents",
      "title_sidebar": "Contents",
      "toc_cell": false,
      "toc_position": {},
      "toc_section_display": true,
      "toc_window_display": false
    },
    "colab": {
      "provenance": []
    }
  },
  "nbformat": 4,
  "nbformat_minor": 0
}