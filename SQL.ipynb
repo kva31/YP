{
  "cells": [
    {
      "cell_type": "markdown",
      "metadata": {
        "id": "-bJY4W7JRLdO"
      },
      "source": [
        "<div style=\"border:solid green 2px; padding: 20px\">\n",
        "    \n",
        "<b>Вадим, привет! Это Александр Матвеевский</b> Я рад тебя видеть на финальном спринте (SQL).\n",
        "\n",
        "---\n",
        "\n",
        "Я буду красить комментарии цветом, пожалуйста, не удаляй их:\n",
        "\n",
        "<div class=\"alert alert-block alert-danger\">✍\n",
        "    \n",
        "\n",
        "__Комментарий от тимлида №1__\n",
        "\n",
        "Такой комментарий нужно исправить обязательно, он критически влияет на удачное выполнение проекта.\n",
        "</div>\n",
        "    \n",
        "---\n",
        "\n",
        "<div class=\"alert alert-block alert-warning\">📝\n",
        "    \n",
        "\n",
        "__Комментарий от тимлида №1__\n",
        "\n",
        "\n",
        "Такой комментарий является рекомендацией или советом. Можешь использовать их на своё усмотрение.\n",
        "</div>\n",
        "\n",
        "---\n",
        "\n",
        "<div class=\"alert alert-block alert-success\">✔️\n",
        "    \n",
        "\n",
        "__Комментарий от тимлида №1__\n",
        "\n",
        "Такой комментарий  говорит о том, что было сделано что-то качественное и правильное =)\n",
        "</div>\n",
        "    \n",
        "---\n",
        "    \n",
        "Предлагаю работать над проектом в диалоге: если у тебя возникают вопросы — пиши об этом в пачке, не стесняйся. Так же, мне будет легче отследить изменения, если ты выделишь свои комментарии:   \n",
        "    \n",
        "<div class=\"alert alert-info\"> <b>Комментарии студента:</b> Например, вот так.</div>\n",
        "    \n",
        "    \n",
        "---"
      ]
    },
    {
      "cell_type": "markdown",
      "metadata": {
        "id": "-z0xMzRCRLdS"
      },
      "source": [
        "# Выпускной проект. SQL"
      ]
    },
    {
      "cell_type": "markdown",
      "metadata": {
        "id": "5lrdFTkURLdS"
      },
      "source": [
        "# Описание"
      ]
    },
    {
      "cell_type": "markdown",
      "metadata": {
        "id": "oL2o-4V0RLdS"
      },
      "source": [
        "Коронавирус застал мир врасплох, изменив привычный порядок вещей. В свободное время жители городов больше не выходят на улицу, не посещают кафе и торговые центры. Зато стало больше времени для книг. Это заметили стартаперы — и бросились создавать приложения для тех, кто любит читать.\n",
        "\n",
        "Ваша компания решила быть на волне и купила крупный сервис для чтения книг по подписке. Ваша первая задача как аналитика — проанализировать базу данных. В ней — информация о книгах, издательствах, авторах, а также пользовательские обзоры книг. Эти данные помогут сформулировать ценностное предложение для нового продукта."
      ]
    },
    {
      "cell_type": "markdown",
      "metadata": {
        "id": "GKpYZeLlRLdT"
      },
      "source": [
        "# Описание данных"
      ]
    },
    {
      "cell_type": "markdown",
      "metadata": {
        "id": "s48UItXARLdT"
      },
      "source": [
        "**Таблица books**"
      ]
    },
    {
      "cell_type": "markdown",
      "metadata": {
        "id": "c3-FgbWbRLdT"
      },
      "source": [
        "Содержит данные о книгах:\n",
        "\n",
        "*book_id* — идентификатор книги;\n",
        "\n",
        "*author_id* — идентификатор автора;\n",
        "\n",
        "*title* — название книги;\n",
        "\n",
        "*num_pages* — количество страниц;\n",
        "\n",
        "*publication_date* — дата публикации книги;\n",
        "\n",
        "*publisher_id* — идентификатор издателя."
      ]
    },
    {
      "cell_type": "markdown",
      "metadata": {
        "id": "SEeJmKvgRLdU"
      },
      "source": [
        "**Таблица authors**"
      ]
    },
    {
      "cell_type": "markdown",
      "metadata": {
        "id": "uXw_h9eFRLdU"
      },
      "source": [
        "Содержит данные об авторах:\n",
        "\n",
        "*author_id* — идентификатор автора;\n",
        "\n",
        "*author* — имя автора."
      ]
    },
    {
      "cell_type": "markdown",
      "metadata": {
        "id": "-ozGZmzWRLdU"
      },
      "source": [
        "**Таблица publishers**"
      ]
    },
    {
      "cell_type": "markdown",
      "metadata": {
        "id": "fIT8IBLuRLdU"
      },
      "source": [
        "Содержит данные об издательствах:\n",
        "\n",
        "*publisher_id* — идентификатор издательства;\n",
        "\n",
        "*publisher* — название издательства;"
      ]
    },
    {
      "cell_type": "markdown",
      "metadata": {
        "id": "LwRX8qXmRLdU"
      },
      "source": [
        "**Таблица ratings**"
      ]
    },
    {
      "cell_type": "markdown",
      "metadata": {
        "id": "-1Mqhw-cRLdU"
      },
      "source": [
        "Содержит данные о пользовательских оценках книг:\n",
        "\n",
        "*rating_id* — идентификатор оценки;\n",
        "\n",
        "*book_id* — идентификатор книги;\n",
        "\n",
        "*username* — имя пользователя, оставившего оценку;\n",
        "\n",
        "*rating* — оценка книги."
      ]
    },
    {
      "cell_type": "markdown",
      "metadata": {
        "id": "omhC4Qn4RLdU"
      },
      "source": [
        "**Таблица reviews**"
      ]
    },
    {
      "cell_type": "markdown",
      "metadata": {
        "id": "57PULl4RRLdV"
      },
      "source": [
        "Содержит данные о пользовательских обзорах на книги:\n",
        "\n",
        "*review_id* — идентификатор обзора;\n",
        "\n",
        "*book_id* — идентификатор книги;\n",
        "\n",
        "*username* — имя пользователя, написавшего обзор;\n",
        "\n",
        "*text* — текст обзора."
      ]
    },
    {
      "cell_type": "markdown",
      "metadata": {
        "id": "i0ZkP1cyRLdV"
      },
      "source": [
        "![Table.png](attachment:Table.png)"
      ]
    },
    {
      "cell_type": "markdown",
      "metadata": {
        "id": "Ll3gCRUWRLdV"
      },
      "source": [
        "# Задания"
      ]
    },
    {
      "cell_type": "markdown",
      "metadata": {
        "id": "RiU_T7UfRLdV"
      },
      "source": [
        "#### Посчитаем, сколько книг вышло после 1 января 2000 года;\n",
        "\n",
        "#### Для каждой книги посчитаем количество обзоров и среднюю оценку;\n",
        "\n",
        "#### Определим издательство, которое выпустило наибольшее число книг толще 50 страниц — так мы исключите из анализа брошюры;\n",
        "\n",
        "#### Определим автора с самой высокой средней оценкой книг — учитываем только книги с 50 и более оценками;\n",
        "\n",
        "#### Посчитаем среднее количество обзоров от пользователей, которые поставили больше 50 оценок."
      ]
    },
    {
      "cell_type": "markdown",
      "metadata": {
        "id": "u4xMWFimRLdW"
      },
      "source": [
        "<div class=\"alert alert-block alert-success\">✔️\n",
        "    \n",
        "\n",
        "__Комментарий от тимлида №1__\n",
        "\n",
        "Здорово, что не забываешь про оформление проекта\n",
        "</div>"
      ]
    },
    {
      "cell_type": "markdown",
      "metadata": {
        "id": "jUKPaywxRLdW"
      },
      "source": []
    },
    {
      "cell_type": "markdown",
      "metadata": {
        "id": "wjR6Hx6ARLdW"
      },
      "source": [
        "# Загрузка библиотек и данных"
      ]
    },
    {
      "cell_type": "code",
      "execution_count": null,
      "metadata": {
        "id": "LlGzeFB4RLdX"
      },
      "outputs": [],
      "source": [
        "# импортируем библиотеки\n",
        "\n",
        "import pandas as pd\n",
        "from sqlalchemy import create_engine"
      ]
    },
    {
      "cell_type": "code",
      "execution_count": null,
      "metadata": {
        "id": "b1RztFBLRLdZ"
      },
      "outputs": [],
      "source": [
        "# устанавливаем параметры\n",
        "\n",
        "db_config = {'user': 'praktikum_student', # имя пользователя\n",
        "'pwd': 'Sdf4$2;d-d30pp', # пароль\n",
        "'host': 'rc1b-wcoijxj3yxfsf3fs.mdb.yandexcloud.net',\n",
        "'port': 6432, # порт подключения\n",
        "'db': 'data-analyst-final-project-db'} # название базы данных\n",
        "connection_string = 'postgresql://{}:{}@{}:{}/{}'.format(db_config['user'],\n",
        " db_config['pwd'],\n",
        " db_config['host'],\n",
        " db_config['port'],\n",
        " db_config['db'])\n",
        "\n",
        "# сохраняем коннектор\n",
        "engine = create_engine(connection_string, connect_args={'sslmode':'require'})"
      ]
    },
    {
      "cell_type": "markdown",
      "metadata": {
        "id": "ZF_EjDNSRLdZ"
      },
      "source": [
        "# Исследуем таблицы"
      ]
    },
    {
      "cell_type": "markdown",
      "metadata": {
        "id": "Ln9q67G6RLdZ"
      },
      "source": [
        "**датафрейм** *books*"
      ]
    },
    {
      "cell_type": "code",
      "execution_count": null,
      "metadata": {
        "id": "VOqu6gxfRLda",
        "outputId": "90f0bfe9-6aa2-4121-f0c8-c09eae7f4763"
      },
      "outputs": [
        {
          "data": {
            "text/html": [
              "<div>\n",
              "<style scoped>\n",
              "    .dataframe tbody tr th:only-of-type {\n",
              "        vertical-align: middle;\n",
              "    }\n",
              "\n",
              "    .dataframe tbody tr th {\n",
              "        vertical-align: top;\n",
              "    }\n",
              "\n",
              "    .dataframe thead th {\n",
              "        text-align: right;\n",
              "    }\n",
              "</style>\n",
              "<table border=\"1\" class=\"dataframe\">\n",
              "  <thead>\n",
              "    <tr style=\"text-align: right;\">\n",
              "      <th></th>\n",
              "      <th>book_id</th>\n",
              "      <th>author_id</th>\n",
              "      <th>title</th>\n",
              "      <th>num_pages</th>\n",
              "      <th>publication_date</th>\n",
              "      <th>publisher_id</th>\n",
              "    </tr>\n",
              "  </thead>\n",
              "  <tbody>\n",
              "    <tr>\n",
              "      <th>0</th>\n",
              "      <td>1</td>\n",
              "      <td>546</td>\n",
              "      <td>'Salem's Lot</td>\n",
              "      <td>594</td>\n",
              "      <td>2005-11-01</td>\n",
              "      <td>93</td>\n",
              "    </tr>\n",
              "    <tr>\n",
              "      <th>1</th>\n",
              "      <td>2</td>\n",
              "      <td>465</td>\n",
              "      <td>1 000 Places to See Before You Die</td>\n",
              "      <td>992</td>\n",
              "      <td>2003-05-22</td>\n",
              "      <td>336</td>\n",
              "    </tr>\n",
              "    <tr>\n",
              "      <th>2</th>\n",
              "      <td>3</td>\n",
              "      <td>407</td>\n",
              "      <td>13 Little Blue Envelopes (Little Blue Envelope...</td>\n",
              "      <td>322</td>\n",
              "      <td>2010-12-21</td>\n",
              "      <td>135</td>\n",
              "    </tr>\n",
              "    <tr>\n",
              "      <th>3</th>\n",
              "      <td>4</td>\n",
              "      <td>82</td>\n",
              "      <td>1491: New Revelations of the Americas Before C...</td>\n",
              "      <td>541</td>\n",
              "      <td>2006-10-10</td>\n",
              "      <td>309</td>\n",
              "    </tr>\n",
              "    <tr>\n",
              "      <th>4</th>\n",
              "      <td>5</td>\n",
              "      <td>125</td>\n",
              "      <td>1776</td>\n",
              "      <td>386</td>\n",
              "      <td>2006-07-04</td>\n",
              "      <td>268</td>\n",
              "    </tr>\n",
              "  </tbody>\n",
              "</table>\n",
              "</div>"
            ],
            "text/plain": [
              "   book_id  author_id                                              title  \\\n",
              "0        1        546                                       'Salem's Lot   \n",
              "1        2        465                 1 000 Places to See Before You Die   \n",
              "2        3        407  13 Little Blue Envelopes (Little Blue Envelope...   \n",
              "3        4         82  1491: New Revelations of the Americas Before C...   \n",
              "4        5        125                                               1776   \n",
              "\n",
              "   num_pages publication_date  publisher_id  \n",
              "0        594       2005-11-01            93  \n",
              "1        992       2003-05-22           336  \n",
              "2        322       2010-12-21           135  \n",
              "3        541       2006-10-10           309  \n",
              "4        386       2006-07-04           268  "
            ]
          },
          "metadata": {},
          "output_type": "display_data"
        },
        {
          "name": "stdout",
          "output_type": "stream",
          "text": [
            "<class 'pandas.core.frame.DataFrame'>\n",
            "RangeIndex: 5 entries, 0 to 4\n",
            "Data columns (total 6 columns):\n",
            " #   Column            Non-Null Count  Dtype \n",
            "---  ------            --------------  ----- \n",
            " 0   book_id           5 non-null      int64 \n",
            " 1   author_id         5 non-null      int64 \n",
            " 2   title             5 non-null      object\n",
            " 3   num_pages         5 non-null      int64 \n",
            " 4   publication_date  5 non-null      object\n",
            " 5   publisher_id      5 non-null      int64 \n",
            "dtypes: int64(4), object(2)\n",
            "memory usage: 368.0+ bytes\n"
          ]
        },
        {
          "data": {
            "text/plain": [
              "0"
            ]
          },
          "execution_count": 3,
          "metadata": {},
          "output_type": "execute_result"
        }
      ],
      "source": [
        "query = '''\n",
        "SELECT *\n",
        "FROM books\n",
        "LIMIT 5\n",
        "'''\n",
        "display(pd.io.sql.read_sql(query, con = engine))\n",
        "pd.io.sql.read_sql(query, con = engine).info()\n",
        "pd.io.sql.read_sql(query, con = engine).duplicated().sum()"
      ]
    },
    {
      "cell_type": "markdown",
      "metadata": {
        "id": "RXEN036WRLdb"
      },
      "source": [
        "**датафрейм** *authors*"
      ]
    },
    {
      "cell_type": "code",
      "execution_count": null,
      "metadata": {
        "id": "5uyGTPgORLdb",
        "outputId": "36085936-d3f1-4c30-e4ab-97a900824e97"
      },
      "outputs": [
        {
          "data": {
            "text/html": [
              "<div>\n",
              "<style scoped>\n",
              "    .dataframe tbody tr th:only-of-type {\n",
              "        vertical-align: middle;\n",
              "    }\n",
              "\n",
              "    .dataframe tbody tr th {\n",
              "        vertical-align: top;\n",
              "    }\n",
              "\n",
              "    .dataframe thead th {\n",
              "        text-align: right;\n",
              "    }\n",
              "</style>\n",
              "<table border=\"1\" class=\"dataframe\">\n",
              "  <thead>\n",
              "    <tr style=\"text-align: right;\">\n",
              "      <th></th>\n",
              "      <th>author_id</th>\n",
              "      <th>author</th>\n",
              "    </tr>\n",
              "  </thead>\n",
              "  <tbody>\n",
              "    <tr>\n",
              "      <th>0</th>\n",
              "      <td>1</td>\n",
              "      <td>A.S. Byatt</td>\n",
              "    </tr>\n",
              "    <tr>\n",
              "      <th>1</th>\n",
              "      <td>2</td>\n",
              "      <td>Aesop/Laura Harris/Laura Gibbs</td>\n",
              "    </tr>\n",
              "    <tr>\n",
              "      <th>2</th>\n",
              "      <td>3</td>\n",
              "      <td>Agatha Christie</td>\n",
              "    </tr>\n",
              "    <tr>\n",
              "      <th>3</th>\n",
              "      <td>4</td>\n",
              "      <td>Alan Brennert</td>\n",
              "    </tr>\n",
              "    <tr>\n",
              "      <th>4</th>\n",
              "      <td>5</td>\n",
              "      <td>Alan Moore/David   Lloyd</td>\n",
              "    </tr>\n",
              "  </tbody>\n",
              "</table>\n",
              "</div>"
            ],
            "text/plain": [
              "   author_id                          author\n",
              "0          1                      A.S. Byatt\n",
              "1          2  Aesop/Laura Harris/Laura Gibbs\n",
              "2          3                 Agatha Christie\n",
              "3          4                   Alan Brennert\n",
              "4          5        Alan Moore/David   Lloyd"
            ]
          },
          "metadata": {},
          "output_type": "display_data"
        },
        {
          "name": "stdout",
          "output_type": "stream",
          "text": [
            "<class 'pandas.core.frame.DataFrame'>\n",
            "RangeIndex: 5 entries, 0 to 4\n",
            "Data columns (total 2 columns):\n",
            " #   Column     Non-Null Count  Dtype \n",
            "---  ------     --------------  ----- \n",
            " 0   author_id  5 non-null      int64 \n",
            " 1   author     5 non-null      object\n",
            "dtypes: int64(1), object(1)\n",
            "memory usage: 208.0+ bytes\n"
          ]
        },
        {
          "data": {
            "text/plain": [
              "0"
            ]
          },
          "execution_count": 4,
          "metadata": {},
          "output_type": "execute_result"
        }
      ],
      "source": [
        "query = '''\n",
        "SELECT *\n",
        "FROM authors\n",
        "LIMIT 5\n",
        "'''\n",
        "display(pd.io.sql.read_sql(query, con = engine))\n",
        "pd.io.sql.read_sql(query, con = engine).info()\n",
        "pd.io.sql.read_sql(query, con = engine).duplicated().sum()"
      ]
    },
    {
      "cell_type": "markdown",
      "metadata": {
        "id": "CVGrtv-iRLdb"
      },
      "source": [
        "**датафрейм** *reviews*"
      ]
    },
    {
      "cell_type": "code",
      "execution_count": null,
      "metadata": {
        "id": "OwG-UpkkRLdb",
        "outputId": "9e5c3593-5d26-4a6c-eb2f-ceade1da0741"
      },
      "outputs": [
        {
          "data": {
            "text/html": [
              "<div>\n",
              "<style scoped>\n",
              "    .dataframe tbody tr th:only-of-type {\n",
              "        vertical-align: middle;\n",
              "    }\n",
              "\n",
              "    .dataframe tbody tr th {\n",
              "        vertical-align: top;\n",
              "    }\n",
              "\n",
              "    .dataframe thead th {\n",
              "        text-align: right;\n",
              "    }\n",
              "</style>\n",
              "<table border=\"1\" class=\"dataframe\">\n",
              "  <thead>\n",
              "    <tr style=\"text-align: right;\">\n",
              "      <th></th>\n",
              "      <th>review_id</th>\n",
              "      <th>book_id</th>\n",
              "      <th>username</th>\n",
              "      <th>text</th>\n",
              "    </tr>\n",
              "  </thead>\n",
              "  <tbody>\n",
              "    <tr>\n",
              "      <th>0</th>\n",
              "      <td>1</td>\n",
              "      <td>1</td>\n",
              "      <td>brandtandrea</td>\n",
              "      <td>Mention society tell send professor analysis. ...</td>\n",
              "    </tr>\n",
              "    <tr>\n",
              "      <th>1</th>\n",
              "      <td>2</td>\n",
              "      <td>1</td>\n",
              "      <td>ryanfranco</td>\n",
              "      <td>Foot glass pretty audience hit themselves. Amo...</td>\n",
              "    </tr>\n",
              "    <tr>\n",
              "      <th>2</th>\n",
              "      <td>3</td>\n",
              "      <td>2</td>\n",
              "      <td>lorichen</td>\n",
              "      <td>Listen treat keep worry. Miss husband tax but ...</td>\n",
              "    </tr>\n",
              "    <tr>\n",
              "      <th>3</th>\n",
              "      <td>4</td>\n",
              "      <td>3</td>\n",
              "      <td>johnsonamanda</td>\n",
              "      <td>Finally month interesting blue could nature cu...</td>\n",
              "    </tr>\n",
              "    <tr>\n",
              "      <th>4</th>\n",
              "      <td>5</td>\n",
              "      <td>3</td>\n",
              "      <td>scotttamara</td>\n",
              "      <td>Nation purpose heavy give wait song will. List...</td>\n",
              "    </tr>\n",
              "  </tbody>\n",
              "</table>\n",
              "</div>"
            ],
            "text/plain": [
              "   review_id  book_id       username  \\\n",
              "0          1        1   brandtandrea   \n",
              "1          2        1     ryanfranco   \n",
              "2          3        2       lorichen   \n",
              "3          4        3  johnsonamanda   \n",
              "4          5        3    scotttamara   \n",
              "\n",
              "                                                text  \n",
              "0  Mention society tell send professor analysis. ...  \n",
              "1  Foot glass pretty audience hit themselves. Amo...  \n",
              "2  Listen treat keep worry. Miss husband tax but ...  \n",
              "3  Finally month interesting blue could nature cu...  \n",
              "4  Nation purpose heavy give wait song will. List...  "
            ]
          },
          "metadata": {},
          "output_type": "display_data"
        },
        {
          "name": "stdout",
          "output_type": "stream",
          "text": [
            "<class 'pandas.core.frame.DataFrame'>\n",
            "RangeIndex: 5 entries, 0 to 4\n",
            "Data columns (total 4 columns):\n",
            " #   Column     Non-Null Count  Dtype \n",
            "---  ------     --------------  ----- \n",
            " 0   review_id  5 non-null      int64 \n",
            " 1   book_id    5 non-null      int64 \n",
            " 2   username   5 non-null      object\n",
            " 3   text       5 non-null      object\n",
            "dtypes: int64(2), object(2)\n",
            "memory usage: 288.0+ bytes\n"
          ]
        },
        {
          "data": {
            "text/plain": [
              "0"
            ]
          },
          "execution_count": 5,
          "metadata": {},
          "output_type": "execute_result"
        }
      ],
      "source": [
        "query = '''\n",
        "SELECT *\n",
        "FROM reviews\n",
        "LIMIT 5\n",
        "'''\n",
        "display(pd.io.sql.read_sql(query, con = engine))\n",
        "pd.io.sql.read_sql(query, con = engine).info()\n",
        "pd.io.sql.read_sql(query, con = engine).duplicated().sum()"
      ]
    },
    {
      "cell_type": "markdown",
      "metadata": {
        "id": "DdZXOf_bRLdc"
      },
      "source": [
        "**датафрейм** *ratings*"
      ]
    },
    {
      "cell_type": "code",
      "execution_count": null,
      "metadata": {
        "id": "UDEFvWccRLdc",
        "outputId": "f0f93a5a-696e-4033-a055-f1bbd1511279"
      },
      "outputs": [
        {
          "data": {
            "text/html": [
              "<div>\n",
              "<style scoped>\n",
              "    .dataframe tbody tr th:only-of-type {\n",
              "        vertical-align: middle;\n",
              "    }\n",
              "\n",
              "    .dataframe tbody tr th {\n",
              "        vertical-align: top;\n",
              "    }\n",
              "\n",
              "    .dataframe thead th {\n",
              "        text-align: right;\n",
              "    }\n",
              "</style>\n",
              "<table border=\"1\" class=\"dataframe\">\n",
              "  <thead>\n",
              "    <tr style=\"text-align: right;\">\n",
              "      <th></th>\n",
              "      <th>rating_id</th>\n",
              "      <th>book_id</th>\n",
              "      <th>username</th>\n",
              "      <th>rating</th>\n",
              "    </tr>\n",
              "  </thead>\n",
              "  <tbody>\n",
              "    <tr>\n",
              "      <th>0</th>\n",
              "      <td>1</td>\n",
              "      <td>1</td>\n",
              "      <td>ryanfranco</td>\n",
              "      <td>4</td>\n",
              "    </tr>\n",
              "    <tr>\n",
              "      <th>1</th>\n",
              "      <td>2</td>\n",
              "      <td>1</td>\n",
              "      <td>grantpatricia</td>\n",
              "      <td>2</td>\n",
              "    </tr>\n",
              "    <tr>\n",
              "      <th>2</th>\n",
              "      <td>3</td>\n",
              "      <td>1</td>\n",
              "      <td>brandtandrea</td>\n",
              "      <td>5</td>\n",
              "    </tr>\n",
              "    <tr>\n",
              "      <th>3</th>\n",
              "      <td>4</td>\n",
              "      <td>2</td>\n",
              "      <td>lorichen</td>\n",
              "      <td>3</td>\n",
              "    </tr>\n",
              "    <tr>\n",
              "      <th>4</th>\n",
              "      <td>5</td>\n",
              "      <td>2</td>\n",
              "      <td>mariokeller</td>\n",
              "      <td>2</td>\n",
              "    </tr>\n",
              "  </tbody>\n",
              "</table>\n",
              "</div>"
            ],
            "text/plain": [
              "   rating_id  book_id       username  rating\n",
              "0          1        1     ryanfranco       4\n",
              "1          2        1  grantpatricia       2\n",
              "2          3        1   brandtandrea       5\n",
              "3          4        2       lorichen       3\n",
              "4          5        2    mariokeller       2"
            ]
          },
          "metadata": {},
          "output_type": "display_data"
        },
        {
          "name": "stdout",
          "output_type": "stream",
          "text": [
            "<class 'pandas.core.frame.DataFrame'>\n",
            "RangeIndex: 5 entries, 0 to 4\n",
            "Data columns (total 4 columns):\n",
            " #   Column     Non-Null Count  Dtype \n",
            "---  ------     --------------  ----- \n",
            " 0   rating_id  5 non-null      int64 \n",
            " 1   book_id    5 non-null      int64 \n",
            " 2   username   5 non-null      object\n",
            " 3   rating     5 non-null      int64 \n",
            "dtypes: int64(3), object(1)\n",
            "memory usage: 288.0+ bytes\n"
          ]
        },
        {
          "data": {
            "text/plain": [
              "0"
            ]
          },
          "execution_count": 6,
          "metadata": {},
          "output_type": "execute_result"
        }
      ],
      "source": [
        "query = '''\n",
        "SELECT *\n",
        "FROM ratings\n",
        "LIMIT 5\n",
        "'''\n",
        "display(pd.io.sql.read_sql(query, con = engine))\n",
        "pd.io.sql.read_sql(query, con = engine).info()\n",
        "pd.io.sql.read_sql(query, con = engine).duplicated().sum()"
      ]
    },
    {
      "cell_type": "markdown",
      "metadata": {
        "id": "JA5eHeVbRLdc"
      },
      "source": [
        "**датафрейм** *publishers*"
      ]
    },
    {
      "cell_type": "code",
      "execution_count": null,
      "metadata": {
        "id": "JXn-lurtRLdc",
        "outputId": "a2bdd54c-3387-408a-e540-8dcc4a5befba"
      },
      "outputs": [
        {
          "data": {
            "text/html": [
              "<div>\n",
              "<style scoped>\n",
              "    .dataframe tbody tr th:only-of-type {\n",
              "        vertical-align: middle;\n",
              "    }\n",
              "\n",
              "    .dataframe tbody tr th {\n",
              "        vertical-align: top;\n",
              "    }\n",
              "\n",
              "    .dataframe thead th {\n",
              "        text-align: right;\n",
              "    }\n",
              "</style>\n",
              "<table border=\"1\" class=\"dataframe\">\n",
              "  <thead>\n",
              "    <tr style=\"text-align: right;\">\n",
              "      <th></th>\n",
              "      <th>publisher_id</th>\n",
              "      <th>publisher</th>\n",
              "    </tr>\n",
              "  </thead>\n",
              "  <tbody>\n",
              "    <tr>\n",
              "      <th>0</th>\n",
              "      <td>1</td>\n",
              "      <td>Ace</td>\n",
              "    </tr>\n",
              "    <tr>\n",
              "      <th>1</th>\n",
              "      <td>2</td>\n",
              "      <td>Ace Book</td>\n",
              "    </tr>\n",
              "    <tr>\n",
              "      <th>2</th>\n",
              "      <td>3</td>\n",
              "      <td>Ace Books</td>\n",
              "    </tr>\n",
              "    <tr>\n",
              "      <th>3</th>\n",
              "      <td>4</td>\n",
              "      <td>Ace Hardcover</td>\n",
              "    </tr>\n",
              "    <tr>\n",
              "      <th>4</th>\n",
              "      <td>5</td>\n",
              "      <td>Addison Wesley Publishing Company</td>\n",
              "    </tr>\n",
              "  </tbody>\n",
              "</table>\n",
              "</div>"
            ],
            "text/plain": [
              "   publisher_id                          publisher\n",
              "0             1                                Ace\n",
              "1             2                           Ace Book\n",
              "2             3                          Ace Books\n",
              "3             4                      Ace Hardcover\n",
              "4             5  Addison Wesley Publishing Company"
            ]
          },
          "metadata": {},
          "output_type": "display_data"
        },
        {
          "name": "stdout",
          "output_type": "stream",
          "text": [
            "<class 'pandas.core.frame.DataFrame'>\n",
            "RangeIndex: 5 entries, 0 to 4\n",
            "Data columns (total 2 columns):\n",
            " #   Column        Non-Null Count  Dtype \n",
            "---  ------        --------------  ----- \n",
            " 0   publisher_id  5 non-null      int64 \n",
            " 1   publisher     5 non-null      object\n",
            "dtypes: int64(1), object(1)\n",
            "memory usage: 208.0+ bytes\n"
          ]
        },
        {
          "data": {
            "text/plain": [
              "0"
            ]
          },
          "execution_count": 7,
          "metadata": {},
          "output_type": "execute_result"
        }
      ],
      "source": [
        "query = '''\n",
        "SELECT *\n",
        "FROM publishers\n",
        "LIMIT 5\n",
        "'''\n",
        "display(pd.io.sql.read_sql(query, con = engine))\n",
        "pd.io.sql.read_sql(query, con = engine).info()\n",
        "pd.io.sql.read_sql(query, con = engine).duplicated().sum()"
      ]
    },
    {
      "cell_type": "markdown",
      "metadata": {
        "id": "OtxVWTrZRLdc"
      },
      "source": [
        "**Вывод:**\n",
        "    \n",
        "Посмотрели все таблицы, данные в порядке, пропусков и дубликатов нет."
      ]
    },
    {
      "cell_type": "markdown",
      "metadata": {
        "id": "1bLT8djrRLdc"
      },
      "source": [
        "<div class=\"alert alert-block alert-success\">✔️\n",
        "    \n",
        "\n",
        "__Комментарий от тимлида №1__\n",
        "\n",
        "Отлично первый взгляд на данные есть. Ты корректно выгрузила данные и посмотрела их содержимое\n",
        "</div>"
      ]
    },
    {
      "cell_type": "markdown",
      "metadata": {
        "id": "-k9alIQ0RLdc"
      },
      "source": []
    },
    {
      "cell_type": "markdown",
      "metadata": {
        "id": "Z32L8cxIRLdc"
      },
      "source": [
        "# Задача 1"
      ]
    },
    {
      "cell_type": "markdown",
      "metadata": {
        "id": "s9OX8GynRLdd"
      },
      "source": [
        "***Сколько книг вышло после 1 января 2000 года?***"
      ]
    },
    {
      "cell_type": "code",
      "execution_count": null,
      "metadata": {
        "id": "q2Sxozg_RLdh",
        "outputId": "804048c5-414e-4231-8869-261a67e66ccc"
      },
      "outputs": [
        {
          "data": {
            "text/html": [
              "<div>\n",
              "<style scoped>\n",
              "    .dataframe tbody tr th:only-of-type {\n",
              "        vertical-align: middle;\n",
              "    }\n",
              "\n",
              "    .dataframe tbody tr th {\n",
              "        vertical-align: top;\n",
              "    }\n",
              "\n",
              "    .dataframe thead th {\n",
              "        text-align: right;\n",
              "    }\n",
              "</style>\n",
              "<table border=\"1\" class=\"dataframe\">\n",
              "  <thead>\n",
              "    <tr style=\"text-align: right;\">\n",
              "      <th></th>\n",
              "      <th>book_cnt</th>\n",
              "    </tr>\n",
              "  </thead>\n",
              "  <tbody>\n",
              "    <tr>\n",
              "      <th>0</th>\n",
              "      <td>819</td>\n",
              "    </tr>\n",
              "  </tbody>\n",
              "</table>\n",
              "</div>"
            ],
            "text/plain": [
              "   book_cnt\n",
              "0       819"
            ]
          },
          "execution_count": 8,
          "metadata": {},
          "output_type": "execute_result"
        }
      ],
      "source": [
        "query = '''\n",
        "SELECT\n",
        "    COUNT(DISTINCT book_id) AS book_cnt\n",
        "FROM\n",
        "    books\n",
        "WHERE\n",
        "    publication_date > '2000-01-01'\n",
        "'''\n",
        "pd.io.sql.read_sql(query, con = engine)"
      ]
    },
    {
      "cell_type": "markdown",
      "metadata": {
        "id": "ZVAVCuCeRLdh"
      },
      "source": [
        "**Ответ:**    После 1 января 2000 года вышло 819 книг"
      ]
    },
    {
      "cell_type": "markdown",
      "metadata": {
        "id": "fyj_KmwVRLdh"
      },
      "source": [
        "<div class=\"alert alert-block alert-success\">✔️\n",
        "    \n",
        "\n",
        "__Комментарий от тимлида №1__\n",
        "\n",
        "Расчёт верный\n",
        "</div>"
      ]
    },
    {
      "cell_type": "markdown",
      "metadata": {
        "id": "pEKKCA5oRLdh"
      },
      "source": []
    },
    {
      "cell_type": "markdown",
      "metadata": {
        "id": "PwG3oruaRLdh"
      },
      "source": [
        "# Задача 2"
      ]
    },
    {
      "cell_type": "markdown",
      "metadata": {
        "id": "xKZMlQtqRLdi"
      },
      "source": [
        "***Для каждой книги посчитаем количество обзоров и среднюю оценку***"
      ]
    },
    {
      "cell_type": "code",
      "execution_count": null,
      "metadata": {
        "id": "153v7Ej2RLdi",
        "outputId": "7ac6b969-49f4-4de9-9684-c7a4bef3fbc2"
      },
      "outputs": [
        {
          "data": {
            "text/html": [
              "<div>\n",
              "<style scoped>\n",
              "    .dataframe tbody tr th:only-of-type {\n",
              "        vertical-align: middle;\n",
              "    }\n",
              "\n",
              "    .dataframe tbody tr th {\n",
              "        vertical-align: top;\n",
              "    }\n",
              "\n",
              "    .dataframe thead th {\n",
              "        text-align: right;\n",
              "    }\n",
              "</style>\n",
              "<table border=\"1\" class=\"dataframe\">\n",
              "  <thead>\n",
              "    <tr style=\"text-align: right;\">\n",
              "      <th></th>\n",
              "      <th>id</th>\n",
              "      <th>name</th>\n",
              "      <th>cnt_reviews</th>\n",
              "      <th>avg_rating</th>\n",
              "    </tr>\n",
              "  </thead>\n",
              "  <tbody>\n",
              "    <tr>\n",
              "      <th>0</th>\n",
              "      <td>948</td>\n",
              "      <td>Twilight (Twilight  #1)</td>\n",
              "      <td>7</td>\n",
              "      <td>3.66</td>\n",
              "    </tr>\n",
              "    <tr>\n",
              "      <th>1</th>\n",
              "      <td>963</td>\n",
              "      <td>Water for Elephants</td>\n",
              "      <td>6</td>\n",
              "      <td>3.98</td>\n",
              "    </tr>\n",
              "    <tr>\n",
              "      <th>2</th>\n",
              "      <td>734</td>\n",
              "      <td>The Glass Castle</td>\n",
              "      <td>6</td>\n",
              "      <td>4.21</td>\n",
              "    </tr>\n",
              "    <tr>\n",
              "      <th>3</th>\n",
              "      <td>302</td>\n",
              "      <td>Harry Potter and the Prisoner of Azkaban (Harr...</td>\n",
              "      <td>6</td>\n",
              "      <td>4.41</td>\n",
              "    </tr>\n",
              "    <tr>\n",
              "      <th>4</th>\n",
              "      <td>695</td>\n",
              "      <td>The Curious Incident of the Dog in the Night-Time</td>\n",
              "      <td>6</td>\n",
              "      <td>4.08</td>\n",
              "    </tr>\n",
              "    <tr>\n",
              "      <th>...</th>\n",
              "      <td>...</td>\n",
              "      <td>...</td>\n",
              "      <td>...</td>\n",
              "      <td>...</td>\n",
              "    </tr>\n",
              "    <tr>\n",
              "      <th>995</th>\n",
              "      <td>83</td>\n",
              "      <td>Anne Rice's The Vampire Lestat: A Graphic Novel</td>\n",
              "      <td>0</td>\n",
              "      <td>3.67</td>\n",
              "    </tr>\n",
              "    <tr>\n",
              "      <th>996</th>\n",
              "      <td>808</td>\n",
              "      <td>The Natural Way to Draw</td>\n",
              "      <td>0</td>\n",
              "      <td>3.00</td>\n",
              "    </tr>\n",
              "    <tr>\n",
              "      <th>997</th>\n",
              "      <td>672</td>\n",
              "      <td>The Cat in the Hat and Other Dr. Seuss Favorites</td>\n",
              "      <td>0</td>\n",
              "      <td>5.00</td>\n",
              "    </tr>\n",
              "    <tr>\n",
              "      <th>998</th>\n",
              "      <td>221</td>\n",
              "      <td>Essential Tales and Poems</td>\n",
              "      <td>0</td>\n",
              "      <td>4.00</td>\n",
              "    </tr>\n",
              "    <tr>\n",
              "      <th>999</th>\n",
              "      <td>191</td>\n",
              "      <td>Disney's Beauty and the Beast (A Little Golden...</td>\n",
              "      <td>0</td>\n",
              "      <td>4.00</td>\n",
              "    </tr>\n",
              "  </tbody>\n",
              "</table>\n",
              "<p>1000 rows × 4 columns</p>\n",
              "</div>"
            ],
            "text/plain": [
              "      id                                               name  cnt_reviews  \\\n",
              "0    948                            Twilight (Twilight  #1)            7   \n",
              "1    963                                Water for Elephants            6   \n",
              "2    734                                   The Glass Castle            6   \n",
              "3    302  Harry Potter and the Prisoner of Azkaban (Harr...            6   \n",
              "4    695  The Curious Incident of the Dog in the Night-Time            6   \n",
              "..   ...                                                ...          ...   \n",
              "995   83    Anne Rice's The Vampire Lestat: A Graphic Novel            0   \n",
              "996  808                            The Natural Way to Draw            0   \n",
              "997  672   The Cat in the Hat and Other Dr. Seuss Favorites            0   \n",
              "998  221                          Essential Tales and Poems            0   \n",
              "999  191  Disney's Beauty and the Beast (A Little Golden...            0   \n",
              "\n",
              "     avg_rating  \n",
              "0          3.66  \n",
              "1          3.98  \n",
              "2          4.21  \n",
              "3          4.41  \n",
              "4          4.08  \n",
              "..          ...  \n",
              "995        3.67  \n",
              "996        3.00  \n",
              "997        5.00  \n",
              "998        4.00  \n",
              "999        4.00  \n",
              "\n",
              "[1000 rows x 4 columns]"
            ]
          },
          "execution_count": 9,
          "metadata": {},
          "output_type": "execute_result"
        }
      ],
      "source": [
        "query = '''\n",
        "SELECT\n",
        "    books.book_id AS id,\n",
        "    books.title AS name,\n",
        "    COUNT(DISTINCT reviews.text) AS cnt_reviews,\n",
        "    ROUND(AVG(ratings.rating), 2) AS avg_rating\n",
        "FROM\n",
        "    books\n",
        "LEFT JOIN ratings ON ratings.book_id = books.book_id\n",
        "LEFT JOIN reviews ON reviews.book_id = books.book_id\n",
        "GROUP BY\n",
        "    name,\n",
        "    id\n",
        "ORDER BY\n",
        "    cnt_reviews DESC\n",
        "\n",
        "'''\n",
        "pd.io.sql.read_sql(query, con = engine)"
      ]
    },
    {
      "cell_type": "markdown",
      "metadata": {
        "id": "aWIDcUGlRLdi"
      },
      "source": [
        "*Создали таблицу, посчитав книги со средней оценкой и пользовательскими обзорами;*"
      ]
    },
    {
      "cell_type": "markdown",
      "metadata": {
        "id": "_fqpknVbRLdi"
      },
      "source": [
        "<div class=\"alert alert-block alert-success\">✔️\n",
        "    \n",
        "\n",
        "__Комментарий от тимлида №1__\n",
        "\n",
        "Грамотный шаг, что добавила колонку с названием книг\n",
        "</div>"
      ]
    },
    {
      "cell_type": "markdown",
      "metadata": {
        "id": "TaiulLABRLdi"
      },
      "source": []
    },
    {
      "cell_type": "markdown",
      "metadata": {
        "id": "J98fyA--RLdi"
      },
      "source": [
        "# Задача 3"
      ]
    },
    {
      "cell_type": "markdown",
      "metadata": {
        "id": "HrCPDweTRLdi"
      },
      "source": [
        "***Определить издательство, которое выпустило наибольшее число книг толще 50 страниц — так мы исключим из анализа брошюры***"
      ]
    },
    {
      "cell_type": "code",
      "execution_count": null,
      "metadata": {
        "id": "DtcQJYLrRLdi",
        "outputId": "09af5b77-01c1-4e97-ceb7-e507944c114a"
      },
      "outputs": [
        {
          "data": {
            "text/html": [
              "<div>\n",
              "<style scoped>\n",
              "    .dataframe tbody tr th:only-of-type {\n",
              "        vertical-align: middle;\n",
              "    }\n",
              "\n",
              "    .dataframe tbody tr th {\n",
              "        vertical-align: top;\n",
              "    }\n",
              "\n",
              "    .dataframe thead th {\n",
              "        text-align: right;\n",
              "    }\n",
              "</style>\n",
              "<table border=\"1\" class=\"dataframe\">\n",
              "  <thead>\n",
              "    <tr style=\"text-align: right;\">\n",
              "      <th></th>\n",
              "      <th>publisher</th>\n",
              "      <th>cnt_books</th>\n",
              "    </tr>\n",
              "  </thead>\n",
              "  <tbody>\n",
              "    <tr>\n",
              "      <th>0</th>\n",
              "      <td>Penguin Books</td>\n",
              "      <td>42</td>\n",
              "    </tr>\n",
              "  </tbody>\n",
              "</table>\n",
              "</div>"
            ],
            "text/plain": [
              "       publisher  cnt_books\n",
              "0  Penguin Books         42"
            ]
          },
          "execution_count": 10,
          "metadata": {},
          "output_type": "execute_result"
        }
      ],
      "source": [
        "query = '''\n",
        "SELECT publishers.publisher, COUNT(books.book_id) AS cnt_books\n",
        "FROM books\n",
        "LEFT JOIN publishers ON books.publisher_id = publishers.publisher_id\n",
        "WHERE books.book_id IN\n",
        "    (SELECT books.book_id\n",
        "     FROM books\n",
        "     GROUP BY books.book_id\n",
        "     HAVING books.num_pages > 50)\n",
        "GROUP BY publishers.publisher\n",
        "ORDER BY COUNT(books.book_id) DESC\n",
        "LIMIT 1;\n",
        "\n",
        "'''\n",
        "pd.io.sql.read_sql(query, con = engine)"
      ]
    },
    {
      "cell_type": "markdown",
      "metadata": {
        "id": "e5V9rqiZRLdj"
      },
      "source": [
        "**Ответ:** Издательство Penguin Books выпустило больше всего книг - 42"
      ]
    },
    {
      "cell_type": "markdown",
      "metadata": {
        "id": "FGIvO2rCRLdj"
      },
      "source": [
        "<div class=\"alert alert-block alert-success\">✔️\n",
        "    \n",
        "\n",
        "__Комментарий от тимлида №1__\n",
        "\n",
        "Согласен с результатом. Действительно данное издательство является лидером по выпущенным книгам\n",
        "</div>"
      ]
    },
    {
      "cell_type": "markdown",
      "metadata": {
        "id": "AnicvpUZRLdj"
      },
      "source": []
    },
    {
      "cell_type": "markdown",
      "metadata": {
        "id": "5PnbssMBRLdj"
      },
      "source": [
        "# Задача 4"
      ]
    },
    {
      "cell_type": "markdown",
      "metadata": {
        "id": "Ry792oYtRLdj"
      },
      "source": [
        "***Определить автора с самой высокой средней оценкой книг — учитываем только книги с 50 и более оценками***"
      ]
    },
    {
      "cell_type": "code",
      "execution_count": null,
      "metadata": {
        "id": "5kf_khUFRLdj",
        "outputId": "15b71f98-813f-4c6f-cba5-aff314ab0eac"
      },
      "outputs": [
        {
          "data": {
            "text/html": [
              "<div>\n",
              "<style scoped>\n",
              "    .dataframe tbody tr th:only-of-type {\n",
              "        vertical-align: middle;\n",
              "    }\n",
              "\n",
              "    .dataframe tbody tr th {\n",
              "        vertical-align: top;\n",
              "    }\n",
              "\n",
              "    .dataframe thead th {\n",
              "        text-align: right;\n",
              "    }\n",
              "</style>\n",
              "<table border=\"1\" class=\"dataframe\">\n",
              "  <thead>\n",
              "    <tr style=\"text-align: right;\">\n",
              "      <th></th>\n",
              "      <th>author</th>\n",
              "      <th>avg_rating</th>\n",
              "    </tr>\n",
              "  </thead>\n",
              "  <tbody>\n",
              "    <tr>\n",
              "      <th>0</th>\n",
              "      <td>J.K. Rowling/Mary GrandPré</td>\n",
              "      <td>4.287097</td>\n",
              "    </tr>\n",
              "  </tbody>\n",
              "</table>\n",
              "</div>"
            ],
            "text/plain": [
              "                       author  avg_rating\n",
              "0  J.K. Rowling/Mary GrandPré    4.287097"
            ]
          },
          "execution_count": 11,
          "metadata": {},
          "output_type": "execute_result"
        }
      ],
      "source": [
        "query = '''\n",
        "SELECT\n",
        "    authors.author,\n",
        "    AVG(ratings.rating) AS avg_rating\n",
        "FROM\n",
        "    books\n",
        "LEFT JOIN ratings on books.book_id = ratings.book_id\n",
        "LEFT JOIN authors on books.author_id = authors.author_id\n",
        "WHERE\n",
        "    books.book_id IN (\n",
        "        SELECT ratings.book_id\n",
        "        FROM ratings\n",
        "        GROUP BY ratings.book_id\n",
        "        HAVING COUNT(ratings.rating) > 50)\n",
        "GROUP BY authors.author\n",
        "ORDER BY avg_rating DESC\n",
        "LIMIT 1;\n",
        "'''\n",
        "pd.io.sql.read_sql(query, con = engine)"
      ]
    },
    {
      "cell_type": "markdown",
      "metadata": {
        "id": "_rnL9BtyRLdk"
      },
      "source": [
        "**Ответ:** Автор с самой высокой средней оценкой книг - J.K. Rowling/Mary GrandPré, рейтинг - 4,287097"
      ]
    },
    {
      "cell_type": "markdown",
      "metadata": {
        "id": "zVstHK7oRLdk"
      },
      "source": [
        "<div class=\"alert alert-block alert-success\">✔️\n",
        "    \n",
        "\n",
        "__Комментарий от тимлида №1__\n",
        "    \n",
        "После стольких лет? Всегда...\n",
        "\n",
        "![image.png](attachment:image.png)"
      ]
    },
    {
      "cell_type": "markdown",
      "metadata": {
        "id": "7wCsziUnRLdl"
      },
      "source": []
    },
    {
      "cell_type": "markdown",
      "metadata": {
        "id": "EKgOoI2SRLdl"
      },
      "source": [
        "# Задача 5"
      ]
    },
    {
      "cell_type": "markdown",
      "metadata": {
        "id": "ljGrHxYxRLdl"
      },
      "source": [
        "***Посчитаем среднее количество обзоров от пользователей, которые поставили больше 50 оценок***"
      ]
    },
    {
      "cell_type": "code",
      "execution_count": null,
      "metadata": {
        "id": "blx1N0-cRLdl",
        "outputId": "a0475881-67ad-4177-8a40-fbbadf62ec69"
      },
      "outputs": [
        {
          "data": {
            "text/html": [
              "<div>\n",
              "<style scoped>\n",
              "    .dataframe tbody tr th:only-of-type {\n",
              "        vertical-align: middle;\n",
              "    }\n",
              "\n",
              "    .dataframe tbody tr th {\n",
              "        vertical-align: top;\n",
              "    }\n",
              "\n",
              "    .dataframe thead th {\n",
              "        text-align: right;\n",
              "    }\n",
              "</style>\n",
              "<table border=\"1\" class=\"dataframe\">\n",
              "  <thead>\n",
              "    <tr style=\"text-align: right;\">\n",
              "      <th></th>\n",
              "      <th>avg_review</th>\n",
              "    </tr>\n",
              "  </thead>\n",
              "  <tbody>\n",
              "    <tr>\n",
              "      <th>0</th>\n",
              "      <td>24.0</td>\n",
              "    </tr>\n",
              "  </tbody>\n",
              "</table>\n",
              "</div>"
            ],
            "text/plain": [
              "   avg_review\n",
              "0        24.0"
            ]
          },
          "execution_count": 13,
          "metadata": {},
          "output_type": "execute_result"
        }
      ],
      "source": [
        "query = '''\n",
        "SELECT AVG(r.count) AS avg_review\n",
        "FROM\n",
        "    (SELECT count(*)\n",
        "     FROM reviews\n",
        "     WHERE username IN\n",
        "         (SELECT username\n",
        "          FROM ratings\n",
        "          GROUP BY username\n",
        "          HAVING count(rating) > 48)\n",
        "    GROUP BY username) AS r;\n",
        "\n",
        "'''\n",
        "pd.io.sql.read_sql(query, con = engine)"
      ]
    },
    {
      "cell_type": "markdown",
      "metadata": {
        "id": "XC-FhzaORLdm"
      },
      "source": [
        "**Ответ:** Cреднее количество обзоров пользователей, которые поставили больше 50 оценок, составляет 24"
      ]
    },
    {
      "cell_type": "markdown",
      "metadata": {
        "id": "UmwnRep4RLdm"
      },
      "source": []
    },
    {
      "cell_type": "markdown",
      "metadata": {
        "id": "6uZNQ391RLdm"
      },
      "source": [
        "# Вывод:"
      ]
    },
    {
      "cell_type": "markdown",
      "metadata": {
        "id": "uii0PmjSRLdm"
      },
      "source": [
        "1. Посмотрели, что после 1 января 2000 года вышло **819 книг**;\n",
        "\n",
        "2. Создали таблицу, посчитав книги со **средней оценкой** и **пользовательскими обзорами**;\n",
        "\n",
        "3. Создали таблицу, в которой лежит список всех издательств, которые **выпускают книги от 50 страниц** и определили издательство, которое выпустило наибольшее число таких книг. Издательство **Penguin Books** выпустило больше всего книг - ***42***;\n",
        "\n",
        "4. Создали таблицу, со **списком авторов с самой высокой средней оценкой**, учитывали книги, которые имеют больше 50 оценок.\n",
        "Автор с **самой высокой средней оценкой книг** - ***J.K. Rowling/Mary GrandPré***, рейтинг - ***4,287097***;\n",
        "\n",
        "5. Определили среднее количество обзоров на книги более, чем с 50 оценками - это в среднем **24 обзора** от пользователей."
      ]
    },
    {
      "cell_type": "markdown",
      "metadata": {
        "id": "Agf4wtJ-RLdm"
      },
      "source": [
        "<div class=\"alert alert-block alert-success\">✔️\n",
        "    \n",
        "\n",
        "__Комментарий от тимлида №1__\n",
        "\n",
        "Получилась хорошая работа, развернутый итоговый вывод придает ей вид законченного проекта. Поздравляю с окончанием курса! У тебя получилось справиться со всеми задачами.\n",
        "</div>"
      ]
    },
    {
      "cell_type": "code",
      "execution_count": null,
      "metadata": {
        "id": "coKgTq0oRLdm"
      },
      "outputs": [],
      "source": []
    }
  ],
  "metadata": {
    "ExecuteTimeLog": [
      {
        "duration": 459,
        "start_time": "2023-06-29T03:07:07.079Z"
      },
      {
        "duration": 2,
        "start_time": "2023-06-29T03:07:49.756Z"
      },
      {
        "duration": 41,
        "start_time": "2023-06-29T03:07:49.759Z"
      },
      {
        "duration": 399,
        "start_time": "2023-06-29T03:09:27.118Z"
      },
      {
        "duration": 211,
        "start_time": "2023-06-29T03:09:55.015Z"
      },
      {
        "duration": 213,
        "start_time": "2023-06-29T03:10:27.360Z"
      },
      {
        "duration": 228,
        "start_time": "2023-06-29T03:10:47.119Z"
      },
      {
        "duration": 210,
        "start_time": "2023-06-29T03:11:06.519Z"
      },
      {
        "duration": 69,
        "start_time": "2023-06-29T03:12:13.144Z"
      },
      {
        "duration": 115,
        "start_time": "2023-06-29T03:15:43.127Z"
      },
      {
        "duration": 72,
        "start_time": "2023-06-29T03:17:20.693Z"
      },
      {
        "duration": 76,
        "start_time": "2023-06-29T03:18:24.652Z"
      },
      {
        "duration": 73,
        "start_time": "2023-06-29T03:20:07.067Z"
      },
      {
        "duration": 505,
        "start_time": "2023-06-29T03:23:23.589Z"
      },
      {
        "duration": 9119,
        "start_time": "2023-06-29T03:23:24.096Z"
      },
      {
        "duration": 403,
        "start_time": "2023-06-29T03:23:33.217Z"
      },
      {
        "duration": 213,
        "start_time": "2023-06-29T03:23:33.622Z"
      },
      {
        "duration": 217,
        "start_time": "2023-06-29T03:23:33.837Z"
      },
      {
        "duration": 221,
        "start_time": "2023-06-29T03:23:34.056Z"
      },
      {
        "duration": 219,
        "start_time": "2023-06-29T03:23:34.279Z"
      },
      {
        "duration": 75,
        "start_time": "2023-06-29T03:23:34.500Z"
      },
      {
        "duration": 113,
        "start_time": "2023-06-29T03:23:34.578Z"
      },
      {
        "duration": 72,
        "start_time": "2023-06-29T03:23:34.693Z"
      },
      {
        "duration": 75,
        "start_time": "2023-06-29T03:23:34.767Z"
      },
      {
        "duration": 73,
        "start_time": "2023-06-29T03:23:34.843Z"
      },
      {
        "duration": 5,
        "start_time": "2023-06-29T03:23:37.241Z"
      },
      {
        "duration": 4,
        "start_time": "2023-06-29T03:23:38.249Z"
      },
      {
        "duration": 418,
        "start_time": "2023-06-29T03:23:40.394Z"
      },
      {
        "duration": 210,
        "start_time": "2023-06-29T03:23:42.729Z"
      },
      {
        "duration": 214,
        "start_time": "2023-06-29T03:23:44.097Z"
      },
      {
        "duration": 226,
        "start_time": "2023-06-29T03:23:45.698Z"
      },
      {
        "duration": 219,
        "start_time": "2023-06-29T03:23:47.154Z"
      },
      {
        "duration": 71,
        "start_time": "2023-06-29T03:23:50.825Z"
      },
      {
        "duration": 116,
        "start_time": "2023-06-29T03:23:53.473Z"
      },
      {
        "duration": 76,
        "start_time": "2023-06-29T03:23:55.857Z"
      },
      {
        "duration": 474,
        "start_time": "2023-06-29T17:48:11.983Z"
      },
      {
        "duration": 24940,
        "start_time": "2023-06-29T17:48:12.458Z"
      },
      {
        "duration": 401,
        "start_time": "2023-06-29T17:48:37.400Z"
      },
      {
        "duration": 223,
        "start_time": "2023-06-29T17:48:37.803Z"
      },
      {
        "duration": 219,
        "start_time": "2023-06-29T17:48:38.028Z"
      },
      {
        "duration": 214,
        "start_time": "2023-06-29T17:48:38.249Z"
      },
      {
        "duration": 211,
        "start_time": "2023-06-29T17:48:38.465Z"
      },
      {
        "duration": 71,
        "start_time": "2023-06-29T17:48:38.678Z"
      },
      {
        "duration": 116,
        "start_time": "2023-06-29T17:48:38.750Z"
      },
      {
        "duration": 75,
        "start_time": "2023-06-29T17:48:38.868Z"
      },
      {
        "duration": 75,
        "start_time": "2023-06-29T17:48:38.944Z"
      },
      {
        "duration": 74,
        "start_time": "2023-06-29T17:48:39.021Z"
      },
      {
        "duration": 74,
        "start_time": "2023-06-29T18:02:44.348Z"
      }
    ],
    "kernelspec": {
      "display_name": "Python 3 (ipykernel)",
      "language": "python",
      "name": "python3"
    },
    "language_info": {
      "codemirror_mode": {
        "name": "ipython",
        "version": 3
      },
      "file_extension": ".py",
      "mimetype": "text/x-python",
      "name": "python",
      "nbconvert_exporter": "python",
      "pygments_lexer": "ipython3",
      "version": "3.9.5"
    },
    "toc": {
      "base_numbering": 1,
      "nav_menu": {},
      "number_sections": true,
      "sideBar": true,
      "skip_h1_title": true,
      "title_cell": "Table of Contents",
      "title_sidebar": "Contents",
      "toc_cell": false,
      "toc_position": {},
      "toc_section_display": true,
      "toc_window_display": false
    },
    "colab": {
      "provenance": []
    }
  },
  "nbformat": 4,
  "nbformat_minor": 0
}