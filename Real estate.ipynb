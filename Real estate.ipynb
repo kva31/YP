{
  "cells": [
    {
      "cell_type": "markdown",
      "metadata": {
        "id": "R1XQWA9w_B5s"
      },
      "source": [
        "<div style=\"border:solid green 2px; padding: 20px\">\n",
        "    \n",
        "<b>Вадим, привет!</b> Мы рады тебя видеть на территории код-ревьюеров. Ты проделала большую работу над проектом, но давай познакомимся и сделаем его еще лучше! У нас тут своя атмосфера и несколько правил:\n",
        "\n",
        "\n",
        "1. Меня зовут Александр Матвеевский. Я работаю код-ревьюером, моя основная цель — не указать на совершенные тобою ошибки, а поделиться своим опытом и помочь тебе стать аналитиком данных.\n",
        "2. Общаемся на ты.\n",
        "3. Если хочешь написать, спросить - не нужно стесняться. Только выбери свой цвет для комментария.  \n",
        "4. Это учебный проект, тут можно не бояться сделать ошибку.  \n",
        "5. У тебя неограниченное количество попыток для сдачи проекта.  \n",
        "6. Let's Go!\n",
        "\n",
        "---\n",
        "\n",
        "Я буду красить комментарии цветом, пожалуйста, не удаляй их:\n",
        "\n",
        "<div class=\"alert alert-block alert-danger\">✍\n",
        "    \n",
        "\n",
        "__Комментарий от ревьюера №1__\n",
        "\n",
        "Такой комментарий нужно исправить обязательно, он критически влияет на удачное выполнение проекта.\n",
        "</div>\n",
        "    \n",
        "---\n",
        "\n",
        "<div class=\"alert alert-block alert-warning\">📝\n",
        "    \n",
        "\n",
        "__Комментарий от ревьюера №1__\n",
        "\n",
        "\n",
        "Такой комментарий является рекомендацией или советом. Можешь использовать их на своё усмотрение.\n",
        "</div>\n",
        "\n",
        "---\n",
        "\n",
        "<div class=\"alert alert-block alert-success\">✔️\n",
        "    \n",
        "\n",
        "__Комментарий от ревьюера №1__\n",
        "\n",
        "Такой комментарий  говорит о том, что было сделано что-то качественное и правильное =)\n",
        "</div>\n",
        "    \n",
        "---\n",
        "    \n",
        "Предлагаю работать над проектом в диалоге: если ты что-то меняешь в проекте или отвечаешь на мои комментарии — пиши об этом. Мне будет легче отследить изменения, если ты выделишь свои комментарии:   \n",
        "    \n",
        "<div class=\"alert alert-info\"> <b>Комментарии студента:</b> Например, вот так.</div>\n",
        "    \n",
        "Всё это поможет выполнить повторную проверку твоего проекта оперативнее. Если будут какие-нибудь вопросы по моим комментариям, пиши, будем разбираться вместе :)    \n",
        "    \n",
        "---"
      ]
    },
    {
      "cell_type": "markdown",
      "metadata": {
        "id": "EfLJvJQ2_B5u"
      },
      "source": [
        "# Исследование объявлений о продаже квартир\n",
        "\n",
        "В вашем распоряжении данные сервиса Яндекс.Недвижимость — архив объявлений о продаже квартир в Санкт-Петербурге и соседних населённых пунктов за несколько лет. Нужно научиться определять рыночную стоимость объектов недвижимости. Ваша задача — установить параметры. Это позволит построить автоматизированную систему: она отследит аномалии и мошенническую деятельность.\n",
        "\n",
        "По каждой квартире на продажу доступны два вида данных. Первые вписаны пользователем, вторые — получены автоматически на основе картографических данных. Например, расстояние до центра, аэропорта, ближайшего парка и водоёма."
      ]
    },
    {
      "cell_type": "markdown",
      "metadata": {
        "id": "LfwgI8E5_B5v"
      },
      "source": [
        "<div class=\"alert alert-block alert-warning\">📝\n",
        "    \n",
        "\n",
        "__Комментарий от ревьюера №1__\n",
        "\n",
        "\n",
        "Отличная практика - расписывать цель и основные этапы своими словами (этот навык очень поможет на фильнальном проекте). Хорошо было бы добавить ход и цель исследования. Вот мой личный пример:\n",
        "    \n",
        "![image.png](attachment:image.png)\n",
        "</div>"
      ]
    },
    {
      "cell_type": "markdown",
      "metadata": {
        "id": "EFGzJ59f_B5v"
      },
      "source": []
    },
    {
      "cell_type": "markdown",
      "metadata": {
        "id": "T3nxKMuu_B5v"
      },
      "source": [
        "### Откройте файл с данными и изучите общую информацию."
      ]
    },
    {
      "cell_type": "code",
      "execution_count": null,
      "metadata": {
        "id": "6yWfymJW_B5v"
      },
      "outputs": [],
      "source": [
        "import pandas as pd # Импорт библиотеки Пандас\n",
        "import matplotlib.pyplot as plt # Импорт библиотеки Матплотлиб\n",
        "import numpy as np # Импорт библиотеки Нампай\n",
        "data = pd.read_csv('/datasets/real_estate_data.csv', sep='\\t') # Открываем файл real_estate_data и присваиваем его data"
      ]
    },
    {
      "cell_type": "code",
      "execution_count": null,
      "metadata": {
        "id": "mdhgNYe2_B5w",
        "outputId": "77ce166a-9cc5-4de7-db60-a929651974c1"
      },
      "outputs": [
        {
          "data": {
            "text/html": [
              "<div>\n",
              "<style scoped>\n",
              "    .dataframe tbody tr th:only-of-type {\n",
              "        vertical-align: middle;\n",
              "    }\n",
              "\n",
              "    .dataframe tbody tr th {\n",
              "        vertical-align: top;\n",
              "    }\n",
              "\n",
              "    .dataframe thead th {\n",
              "        text-align: right;\n",
              "    }\n",
              "</style>\n",
              "<table border=\"1\" class=\"dataframe\">\n",
              "  <thead>\n",
              "    <tr style=\"text-align: right;\">\n",
              "      <th></th>\n",
              "      <th>total_images</th>\n",
              "      <th>last_price</th>\n",
              "      <th>total_area</th>\n",
              "      <th>first_day_exposition</th>\n",
              "      <th>rooms</th>\n",
              "      <th>ceiling_height</th>\n",
              "      <th>floors_total</th>\n",
              "      <th>living_area</th>\n",
              "      <th>floor</th>\n",
              "      <th>is_apartment</th>\n",
              "      <th>...</th>\n",
              "      <th>kitchen_area</th>\n",
              "      <th>balcony</th>\n",
              "      <th>locality_name</th>\n",
              "      <th>airports_nearest</th>\n",
              "      <th>cityCenters_nearest</th>\n",
              "      <th>parks_around3000</th>\n",
              "      <th>parks_nearest</th>\n",
              "      <th>ponds_around3000</th>\n",
              "      <th>ponds_nearest</th>\n",
              "      <th>days_exposition</th>\n",
              "    </tr>\n",
              "  </thead>\n",
              "  <tbody>\n",
              "    <tr>\n",
              "      <th>0</th>\n",
              "      <td>20</td>\n",
              "      <td>13000000.0</td>\n",
              "      <td>108.0</td>\n",
              "      <td>2019-03-07T00:00:00</td>\n",
              "      <td>3</td>\n",
              "      <td>2.70</td>\n",
              "      <td>16.0</td>\n",
              "      <td>51.0</td>\n",
              "      <td>8</td>\n",
              "      <td>NaN</td>\n",
              "      <td>...</td>\n",
              "      <td>25.0</td>\n",
              "      <td>NaN</td>\n",
              "      <td>Санкт-Петербург</td>\n",
              "      <td>18863.0</td>\n",
              "      <td>16028.0</td>\n",
              "      <td>1.0</td>\n",
              "      <td>482.0</td>\n",
              "      <td>2.0</td>\n",
              "      <td>755.0</td>\n",
              "      <td>NaN</td>\n",
              "    </tr>\n",
              "    <tr>\n",
              "      <th>1</th>\n",
              "      <td>7</td>\n",
              "      <td>3350000.0</td>\n",
              "      <td>40.4</td>\n",
              "      <td>2018-12-04T00:00:00</td>\n",
              "      <td>1</td>\n",
              "      <td>NaN</td>\n",
              "      <td>11.0</td>\n",
              "      <td>18.6</td>\n",
              "      <td>1</td>\n",
              "      <td>NaN</td>\n",
              "      <td>...</td>\n",
              "      <td>11.0</td>\n",
              "      <td>2.0</td>\n",
              "      <td>посёлок Шушары</td>\n",
              "      <td>12817.0</td>\n",
              "      <td>18603.0</td>\n",
              "      <td>0.0</td>\n",
              "      <td>NaN</td>\n",
              "      <td>0.0</td>\n",
              "      <td>NaN</td>\n",
              "      <td>81.0</td>\n",
              "    </tr>\n",
              "    <tr>\n",
              "      <th>2</th>\n",
              "      <td>10</td>\n",
              "      <td>5196000.0</td>\n",
              "      <td>56.0</td>\n",
              "      <td>2015-08-20T00:00:00</td>\n",
              "      <td>2</td>\n",
              "      <td>NaN</td>\n",
              "      <td>5.0</td>\n",
              "      <td>34.3</td>\n",
              "      <td>4</td>\n",
              "      <td>NaN</td>\n",
              "      <td>...</td>\n",
              "      <td>8.3</td>\n",
              "      <td>0.0</td>\n",
              "      <td>Санкт-Петербург</td>\n",
              "      <td>21741.0</td>\n",
              "      <td>13933.0</td>\n",
              "      <td>1.0</td>\n",
              "      <td>90.0</td>\n",
              "      <td>2.0</td>\n",
              "      <td>574.0</td>\n",
              "      <td>558.0</td>\n",
              "    </tr>\n",
              "    <tr>\n",
              "      <th>3</th>\n",
              "      <td>0</td>\n",
              "      <td>64900000.0</td>\n",
              "      <td>159.0</td>\n",
              "      <td>2015-07-24T00:00:00</td>\n",
              "      <td>3</td>\n",
              "      <td>NaN</td>\n",
              "      <td>14.0</td>\n",
              "      <td>NaN</td>\n",
              "      <td>9</td>\n",
              "      <td>NaN</td>\n",
              "      <td>...</td>\n",
              "      <td>NaN</td>\n",
              "      <td>0.0</td>\n",
              "      <td>Санкт-Петербург</td>\n",
              "      <td>28098.0</td>\n",
              "      <td>6800.0</td>\n",
              "      <td>2.0</td>\n",
              "      <td>84.0</td>\n",
              "      <td>3.0</td>\n",
              "      <td>234.0</td>\n",
              "      <td>424.0</td>\n",
              "    </tr>\n",
              "    <tr>\n",
              "      <th>4</th>\n",
              "      <td>2</td>\n",
              "      <td>10000000.0</td>\n",
              "      <td>100.0</td>\n",
              "      <td>2018-06-19T00:00:00</td>\n",
              "      <td>2</td>\n",
              "      <td>3.03</td>\n",
              "      <td>14.0</td>\n",
              "      <td>32.0</td>\n",
              "      <td>13</td>\n",
              "      <td>NaN</td>\n",
              "      <td>...</td>\n",
              "      <td>41.0</td>\n",
              "      <td>NaN</td>\n",
              "      <td>Санкт-Петербург</td>\n",
              "      <td>31856.0</td>\n",
              "      <td>8098.0</td>\n",
              "      <td>2.0</td>\n",
              "      <td>112.0</td>\n",
              "      <td>1.0</td>\n",
              "      <td>48.0</td>\n",
              "      <td>121.0</td>\n",
              "    </tr>\n",
              "  </tbody>\n",
              "</table>\n",
              "<p>5 rows × 22 columns</p>\n",
              "</div>"
            ],
            "text/plain": [
              "   total_images  last_price  total_area first_day_exposition  rooms  \\\n",
              "0            20  13000000.0       108.0  2019-03-07T00:00:00      3   \n",
              "1             7   3350000.0        40.4  2018-12-04T00:00:00      1   \n",
              "2            10   5196000.0        56.0  2015-08-20T00:00:00      2   \n",
              "3             0  64900000.0       159.0  2015-07-24T00:00:00      3   \n",
              "4             2  10000000.0       100.0  2018-06-19T00:00:00      2   \n",
              "\n",
              "   ceiling_height  floors_total  living_area  floor is_apartment  ...  \\\n",
              "0            2.70          16.0         51.0      8          NaN  ...   \n",
              "1             NaN          11.0         18.6      1          NaN  ...   \n",
              "2             NaN           5.0         34.3      4          NaN  ...   \n",
              "3             NaN          14.0          NaN      9          NaN  ...   \n",
              "4            3.03          14.0         32.0     13          NaN  ...   \n",
              "\n",
              "   kitchen_area  balcony    locality_name  airports_nearest  \\\n",
              "0          25.0      NaN  Санкт-Петербург           18863.0   \n",
              "1          11.0      2.0   посёлок Шушары           12817.0   \n",
              "2           8.3      0.0  Санкт-Петербург           21741.0   \n",
              "3           NaN      0.0  Санкт-Петербург           28098.0   \n",
              "4          41.0      NaN  Санкт-Петербург           31856.0   \n",
              "\n",
              "  cityCenters_nearest  parks_around3000  parks_nearest  ponds_around3000  \\\n",
              "0             16028.0               1.0          482.0               2.0   \n",
              "1             18603.0               0.0            NaN               0.0   \n",
              "2             13933.0               1.0           90.0               2.0   \n",
              "3              6800.0               2.0           84.0               3.0   \n",
              "4              8098.0               2.0          112.0               1.0   \n",
              "\n",
              "   ponds_nearest  days_exposition  \n",
              "0          755.0              NaN  \n",
              "1            NaN             81.0  \n",
              "2          574.0            558.0  \n",
              "3          234.0            424.0  \n",
              "4           48.0            121.0  \n",
              "\n",
              "[5 rows x 22 columns]"
            ]
          },
          "execution_count": 2,
          "metadata": {},
          "output_type": "execute_result"
        }
      ],
      "source": [
        "#Выводим первые 5 строк на экран\n",
        "data.head()"
      ]
    },
    {
      "cell_type": "code",
      "execution_count": null,
      "metadata": {
        "id": "ZvEErycq_B5w",
        "outputId": "db29c151-1a50-445a-a224-e828fb1f7efd"
      },
      "outputs": [
        {
          "name": "stdout",
          "output_type": "stream",
          "text": [
            "<class 'pandas.core.frame.DataFrame'>\n",
            "RangeIndex: 23699 entries, 0 to 23698\n",
            "Data columns (total 22 columns):\n",
            " #   Column                Non-Null Count  Dtype  \n",
            "---  ------                --------------  -----  \n",
            " 0   total_images          23699 non-null  int64  \n",
            " 1   last_price            23699 non-null  float64\n",
            " 2   total_area            23699 non-null  float64\n",
            " 3   first_day_exposition  23699 non-null  object \n",
            " 4   rooms                 23699 non-null  int64  \n",
            " 5   ceiling_height        14504 non-null  float64\n",
            " 6   floors_total          23613 non-null  float64\n",
            " 7   living_area           21796 non-null  float64\n",
            " 8   floor                 23699 non-null  int64  \n",
            " 9   is_apartment          2775 non-null   object \n",
            " 10  studio                23699 non-null  bool   \n",
            " 11  open_plan             23699 non-null  bool   \n",
            " 12  kitchen_area          21421 non-null  float64\n",
            " 13  balcony               12180 non-null  float64\n",
            " 14  locality_name         23650 non-null  object \n",
            " 15  airports_nearest      18157 non-null  float64\n",
            " 16  cityCenters_nearest   18180 non-null  float64\n",
            " 17  parks_around3000      18181 non-null  float64\n",
            " 18  parks_nearest         8079 non-null   float64\n",
            " 19  ponds_around3000      18181 non-null  float64\n",
            " 20  ponds_nearest         9110 non-null   float64\n",
            " 21  days_exposition       20518 non-null  float64\n",
            "dtypes: bool(2), float64(14), int64(3), object(3)\n",
            "memory usage: 3.7+ MB\n"
          ]
        }
      ],
      "source": [
        "#Выводим основную инфу\n",
        "data.info()"
      ]
    },
    {
      "cell_type": "code",
      "execution_count": null,
      "metadata": {
        "id": "hwLJqMd4_B5x",
        "outputId": "dc7f850c-4e8c-48a2-c72b-c141891d750e"
      },
      "outputs": [
        {
          "data": {
            "text/html": [
              "<div>\n",
              "<style scoped>\n",
              "    .dataframe tbody tr th:only-of-type {\n",
              "        vertical-align: middle;\n",
              "    }\n",
              "\n",
              "    .dataframe tbody tr th {\n",
              "        vertical-align: top;\n",
              "    }\n",
              "\n",
              "    .dataframe thead th {\n",
              "        text-align: right;\n",
              "    }\n",
              "</style>\n",
              "<table border=\"1\" class=\"dataframe\">\n",
              "  <thead>\n",
              "    <tr style=\"text-align: right;\">\n",
              "      <th></th>\n",
              "      <th>total_images</th>\n",
              "      <th>last_price</th>\n",
              "      <th>total_area</th>\n",
              "      <th>first_day_exposition</th>\n",
              "      <th>rooms</th>\n",
              "      <th>ceiling_height</th>\n",
              "      <th>floors_total</th>\n",
              "      <th>living_area</th>\n",
              "      <th>floor</th>\n",
              "      <th>is_apartment</th>\n",
              "      <th>...</th>\n",
              "      <th>kitchen_area</th>\n",
              "      <th>balcony</th>\n",
              "      <th>locality_name</th>\n",
              "      <th>airports_nearest</th>\n",
              "      <th>cityCenters_nearest</th>\n",
              "      <th>parks_around3000</th>\n",
              "      <th>parks_nearest</th>\n",
              "      <th>ponds_around3000</th>\n",
              "      <th>ponds_nearest</th>\n",
              "      <th>days_exposition</th>\n",
              "    </tr>\n",
              "  </thead>\n",
              "  <tbody>\n",
              "    <tr>\n",
              "      <th>23694</th>\n",
              "      <td>9</td>\n",
              "      <td>9700000.0</td>\n",
              "      <td>133.81</td>\n",
              "      <td>2017-03-21T00:00:00</td>\n",
              "      <td>3</td>\n",
              "      <td>3.7</td>\n",
              "      <td>5.0</td>\n",
              "      <td>73.3</td>\n",
              "      <td>3</td>\n",
              "      <td>NaN</td>\n",
              "      <td>...</td>\n",
              "      <td>13.83</td>\n",
              "      <td>NaN</td>\n",
              "      <td>Санкт-Петербург</td>\n",
              "      <td>24665.0</td>\n",
              "      <td>4232.0</td>\n",
              "      <td>1.0</td>\n",
              "      <td>796.0</td>\n",
              "      <td>3.0</td>\n",
              "      <td>381.0</td>\n",
              "      <td>NaN</td>\n",
              "    </tr>\n",
              "    <tr>\n",
              "      <th>23695</th>\n",
              "      <td>14</td>\n",
              "      <td>3100000.0</td>\n",
              "      <td>59.00</td>\n",
              "      <td>2018-01-15T00:00:00</td>\n",
              "      <td>3</td>\n",
              "      <td>NaN</td>\n",
              "      <td>5.0</td>\n",
              "      <td>38.0</td>\n",
              "      <td>4</td>\n",
              "      <td>NaN</td>\n",
              "      <td>...</td>\n",
              "      <td>8.50</td>\n",
              "      <td>NaN</td>\n",
              "      <td>Тосно</td>\n",
              "      <td>NaN</td>\n",
              "      <td>NaN</td>\n",
              "      <td>NaN</td>\n",
              "      <td>NaN</td>\n",
              "      <td>NaN</td>\n",
              "      <td>NaN</td>\n",
              "      <td>45.0</td>\n",
              "    </tr>\n",
              "    <tr>\n",
              "      <th>23696</th>\n",
              "      <td>18</td>\n",
              "      <td>2500000.0</td>\n",
              "      <td>56.70</td>\n",
              "      <td>2018-02-11T00:00:00</td>\n",
              "      <td>2</td>\n",
              "      <td>NaN</td>\n",
              "      <td>3.0</td>\n",
              "      <td>29.7</td>\n",
              "      <td>1</td>\n",
              "      <td>NaN</td>\n",
              "      <td>...</td>\n",
              "      <td>NaN</td>\n",
              "      <td>NaN</td>\n",
              "      <td>село Рождествено</td>\n",
              "      <td>NaN</td>\n",
              "      <td>NaN</td>\n",
              "      <td>NaN</td>\n",
              "      <td>NaN</td>\n",
              "      <td>NaN</td>\n",
              "      <td>NaN</td>\n",
              "      <td>NaN</td>\n",
              "    </tr>\n",
              "    <tr>\n",
              "      <th>23697</th>\n",
              "      <td>13</td>\n",
              "      <td>11475000.0</td>\n",
              "      <td>76.75</td>\n",
              "      <td>2017-03-28T00:00:00</td>\n",
              "      <td>2</td>\n",
              "      <td>3.0</td>\n",
              "      <td>17.0</td>\n",
              "      <td>NaN</td>\n",
              "      <td>12</td>\n",
              "      <td>NaN</td>\n",
              "      <td>...</td>\n",
              "      <td>23.30</td>\n",
              "      <td>2.0</td>\n",
              "      <td>Санкт-Петербург</td>\n",
              "      <td>39140.0</td>\n",
              "      <td>10364.0</td>\n",
              "      <td>2.0</td>\n",
              "      <td>173.0</td>\n",
              "      <td>3.0</td>\n",
              "      <td>196.0</td>\n",
              "      <td>602.0</td>\n",
              "    </tr>\n",
              "    <tr>\n",
              "      <th>23698</th>\n",
              "      <td>4</td>\n",
              "      <td>1350000.0</td>\n",
              "      <td>32.30</td>\n",
              "      <td>2017-07-21T00:00:00</td>\n",
              "      <td>1</td>\n",
              "      <td>2.5</td>\n",
              "      <td>5.0</td>\n",
              "      <td>12.3</td>\n",
              "      <td>1</td>\n",
              "      <td>NaN</td>\n",
              "      <td>...</td>\n",
              "      <td>9.00</td>\n",
              "      <td>NaN</td>\n",
              "      <td>поселок Новый Учхоз</td>\n",
              "      <td>NaN</td>\n",
              "      <td>NaN</td>\n",
              "      <td>NaN</td>\n",
              "      <td>NaN</td>\n",
              "      <td>NaN</td>\n",
              "      <td>NaN</td>\n",
              "      <td>NaN</td>\n",
              "    </tr>\n",
              "  </tbody>\n",
              "</table>\n",
              "<p>5 rows × 22 columns</p>\n",
              "</div>"
            ],
            "text/plain": [
              "       total_images  last_price  total_area first_day_exposition  rooms  \\\n",
              "23694             9   9700000.0      133.81  2017-03-21T00:00:00      3   \n",
              "23695            14   3100000.0       59.00  2018-01-15T00:00:00      3   \n",
              "23696            18   2500000.0       56.70  2018-02-11T00:00:00      2   \n",
              "23697            13  11475000.0       76.75  2017-03-28T00:00:00      2   \n",
              "23698             4   1350000.0       32.30  2017-07-21T00:00:00      1   \n",
              "\n",
              "       ceiling_height  floors_total  living_area  floor is_apartment  ...  \\\n",
              "23694             3.7           5.0         73.3      3          NaN  ...   \n",
              "23695             NaN           5.0         38.0      4          NaN  ...   \n",
              "23696             NaN           3.0         29.7      1          NaN  ...   \n",
              "23697             3.0          17.0          NaN     12          NaN  ...   \n",
              "23698             2.5           5.0         12.3      1          NaN  ...   \n",
              "\n",
              "       kitchen_area  balcony        locality_name  airports_nearest  \\\n",
              "23694         13.83      NaN      Санкт-Петербург           24665.0   \n",
              "23695          8.50      NaN                Тосно               NaN   \n",
              "23696           NaN      NaN     село Рождествено               NaN   \n",
              "23697         23.30      2.0      Санкт-Петербург           39140.0   \n",
              "23698          9.00      NaN  поселок Новый Учхоз               NaN   \n",
              "\n",
              "      cityCenters_nearest  parks_around3000  parks_nearest  ponds_around3000  \\\n",
              "23694              4232.0               1.0          796.0               3.0   \n",
              "23695                 NaN               NaN            NaN               NaN   \n",
              "23696                 NaN               NaN            NaN               NaN   \n",
              "23697             10364.0               2.0          173.0               3.0   \n",
              "23698                 NaN               NaN            NaN               NaN   \n",
              "\n",
              "       ponds_nearest  days_exposition  \n",
              "23694          381.0              NaN  \n",
              "23695            NaN             45.0  \n",
              "23696            NaN              NaN  \n",
              "23697          196.0            602.0  \n",
              "23698            NaN              NaN  \n",
              "\n",
              "[5 rows x 22 columns]"
            ]
          },
          "execution_count": 4,
          "metadata": {},
          "output_type": "execute_result"
        }
      ],
      "source": [
        "#Выводим последние 5 строк на экран\n",
        "data.tail()"
      ]
    },
    {
      "cell_type": "code",
      "execution_count": null,
      "metadata": {
        "id": "ufTQh0mg_B5x",
        "outputId": "7a565742-7dcb-4000-da68-1a7ec82ad36a"
      },
      "outputs": [
        {
          "data": {
            "image/png": "[encoded data removed]",
            "text/plain": [
              "<Figure size 1080x1440 with 20 Axes>"
            ]
          },
          "metadata": {
            "needs_background": "light"
          },
          "output_type": "display_data"
        }
      ],
      "source": [
        "#Выводим гистограммы\n",
        "data.hist(figsize=(15, 20));"
      ]
    },
    {
      "cell_type": "markdown",
      "metadata": {
        "id": "ZWYaXf69_B5x"
      },
      "source": [
        "Похоже , что гистограммы  соответствуют нормальному распределению"
      ]
    },
    {
      "cell_type": "markdown",
      "metadata": {
        "id": "7WmE8V9t_B5x"
      },
      "source": [
        "<div class=\"alert alert-block alert-success\">✔️\n",
        "    \n",
        "__Комментарий от ревьюера №1__\n",
        "    \n",
        "Отлично! Первый взгляд на данные есть"
      ]
    },
    {
      "cell_type": "markdown",
      "metadata": {
        "id": "7WqAmuQ5_B5y"
      },
      "source": [
        "### Предобработка данных"
      ]
    },
    {
      "cell_type": "code",
      "execution_count": null,
      "metadata": {
        "id": "28bASacP_B5y",
        "outputId": "b080aaac-abd5-4229-ee22-87214ac2bf56"
      },
      "outputs": [
        {
          "data": {
            "text/html": [
              "<style  type=\"text/css\" >\n",
              "#T_aa53d_row0_col0,#T_aa53d_row1_col0,#T_aa53d_row2_col0,#T_aa53d_row3_col0,#T_aa53d_row4_col0,#T_aa53d_row6_col0,#T_aa53d_row8_col0,#T_aa53d_row10_col0,#T_aa53d_row11_col0,#T_aa53d_row14_col0{\n",
              "            background-color:  #3b4cc0;\n",
              "            color:  #f1f1f1;\n",
              "        }#T_aa53d_row5_col0{\n",
              "            background-color:  #cdd9ec;\n",
              "            color:  #000000;\n",
              "        }#T_aa53d_row7_col0{\n",
              "            background-color:  #5673e0;\n",
              "            color:  #000000;\n",
              "        }#T_aa53d_row9_col0{\n",
              "            background-color:  #b40426;\n",
              "            color:  #f1f1f1;\n",
              "        }#T_aa53d_row12_col0{\n",
              "            background-color:  #5e7de7;\n",
              "            color:  #000000;\n",
              "        }#T_aa53d_row13_col0{\n",
              "            background-color:  #ead4c8;\n",
              "            color:  #000000;\n",
              "        }#T_aa53d_row15_col0,#T_aa53d_row16_col0,#T_aa53d_row17_col0,#T_aa53d_row19_col0{\n",
              "            background-color:  #90b2fe;\n",
              "            color:  #000000;\n",
              "        }#T_aa53d_row18_col0{\n",
              "            background-color:  #f4987a;\n",
              "            color:  #000000;\n",
              "        }#T_aa53d_row20_col0{\n",
              "            background-color:  #f7aa8c;\n",
              "            color:  #000000;\n",
              "        }#T_aa53d_row21_col0{\n",
              "            background-color:  #688aef;\n",
              "            color:  #000000;\n",
              "        }</style><table id=\"T_aa53d_\" ><thead>    <tr>        <th class=\"blank level0\" ></th>        <th class=\"col_heading level0 col0\" >0</th>    </tr></thead><tbody>\n",
              "                <tr>\n",
              "                        <th id=\"T_aa53d_level0_row0\" class=\"row_heading level0 row0\" >total_images</th>\n",
              "                        <td id=\"T_aa53d_row0_col0\" class=\"data row0 col0\" >0.000000</td>\n",
              "            </tr>\n",
              "            <tr>\n",
              "                        <th id=\"T_aa53d_level0_row1\" class=\"row_heading level0 row1\" >last_price</th>\n",
              "                        <td id=\"T_aa53d_row1_col0\" class=\"data row1 col0\" >0.000000</td>\n",
              "            </tr>\n",
              "            <tr>\n",
              "                        <th id=\"T_aa53d_level0_row2\" class=\"row_heading level0 row2\" >total_area</th>\n",
              "                        <td id=\"T_aa53d_row2_col0\" class=\"data row2 col0\" >0.000000</td>\n",
              "            </tr>\n",
              "            <tr>\n",
              "                        <th id=\"T_aa53d_level0_row3\" class=\"row_heading level0 row3\" >first_day_exposition</th>\n",
              "                        <td id=\"T_aa53d_row3_col0\" class=\"data row3 col0\" >0.000000</td>\n",
              "            </tr>\n",
              "            <tr>\n",
              "                        <th id=\"T_aa53d_level0_row4\" class=\"row_heading level0 row4\" >rooms</th>\n",
              "                        <td id=\"T_aa53d_row4_col0\" class=\"data row4 col0\" >0.000000</td>\n",
              "            </tr>\n",
              "            <tr>\n",
              "                        <th id=\"T_aa53d_level0_row5\" class=\"row_heading level0 row5\" >ceiling_height</th>\n",
              "                        <td id=\"T_aa53d_row5_col0\" class=\"data row5 col0\" >39.000000</td>\n",
              "            </tr>\n",
              "            <tr>\n",
              "                        <th id=\"T_aa53d_level0_row6\" class=\"row_heading level0 row6\" >floors_total</th>\n",
              "                        <td id=\"T_aa53d_row6_col0\" class=\"data row6 col0\" >0.000000</td>\n",
              "            </tr>\n",
              "            <tr>\n",
              "                        <th id=\"T_aa53d_level0_row7\" class=\"row_heading level0 row7\" >living_area</th>\n",
              "                        <td id=\"T_aa53d_row7_col0\" class=\"data row7 col0\" >8.000000</td>\n",
              "            </tr>\n",
              "            <tr>\n",
              "                        <th id=\"T_aa53d_level0_row8\" class=\"row_heading level0 row8\" >floor</th>\n",
              "                        <td id=\"T_aa53d_row8_col0\" class=\"data row8 col0\" >0.000000</td>\n",
              "            </tr>\n",
              "            <tr>\n",
              "                        <th id=\"T_aa53d_level0_row9\" class=\"row_heading level0 row9\" >is_apartment</th>\n",
              "                        <td id=\"T_aa53d_row9_col0\" class=\"data row9 col0\" >88.000000</td>\n",
              "            </tr>\n",
              "            <tr>\n",
              "                        <th id=\"T_aa53d_level0_row10\" class=\"row_heading level0 row10\" >studio</th>\n",
              "                        <td id=\"T_aa53d_row10_col0\" class=\"data row10 col0\" >0.000000</td>\n",
              "            </tr>\n",
              "            <tr>\n",
              "                        <th id=\"T_aa53d_level0_row11\" class=\"row_heading level0 row11\" >open_plan</th>\n",
              "                        <td id=\"T_aa53d_row11_col0\" class=\"data row11 col0\" >0.000000</td>\n",
              "            </tr>\n",
              "            <tr>\n",
              "                        <th id=\"T_aa53d_level0_row12\" class=\"row_heading level0 row12\" >kitchen_area</th>\n",
              "                        <td id=\"T_aa53d_row12_col0\" class=\"data row12 col0\" >10.000000</td>\n",
              "            </tr>\n",
              "            <tr>\n",
              "                        <th id=\"T_aa53d_level0_row13\" class=\"row_heading level0 row13\" >balcony</th>\n",
              "                        <td id=\"T_aa53d_row13_col0\" class=\"data row13 col0\" >49.000000</td>\n",
              "            </tr>\n",
              "            <tr>\n",
              "                        <th id=\"T_aa53d_level0_row14\" class=\"row_heading level0 row14\" >locality_name</th>\n",
              "                        <td id=\"T_aa53d_row14_col0\" class=\"data row14 col0\" >0.000000</td>\n",
              "            </tr>\n",
              "            <tr>\n",
              "                        <th id=\"T_aa53d_level0_row15\" class=\"row_heading level0 row15\" >airports_nearest</th>\n",
              "                        <td id=\"T_aa53d_row15_col0\" class=\"data row15 col0\" >23.000000</td>\n",
              "            </tr>\n",
              "            <tr>\n",
              "                        <th id=\"T_aa53d_level0_row16\" class=\"row_heading level0 row16\" >cityCenters_nearest</th>\n",
              "                        <td id=\"T_aa53d_row16_col0\" class=\"data row16 col0\" >23.000000</td>\n",
              "            </tr>\n",
              "            <tr>\n",
              "                        <th id=\"T_aa53d_level0_row17\" class=\"row_heading level0 row17\" >parks_around3000</th>\n",
              "                        <td id=\"T_aa53d_row17_col0\" class=\"data row17 col0\" >23.000000</td>\n",
              "            </tr>\n",
              "            <tr>\n",
              "                        <th id=\"T_aa53d_level0_row18\" class=\"row_heading level0 row18\" >parks_nearest</th>\n",
              "                        <td id=\"T_aa53d_row18_col0\" class=\"data row18 col0\" >66.000000</td>\n",
              "            </tr>\n",
              "            <tr>\n",
              "                        <th id=\"T_aa53d_level0_row19\" class=\"row_heading level0 row19\" >ponds_around3000</th>\n",
              "                        <td id=\"T_aa53d_row19_col0\" class=\"data row19 col0\" >23.000000</td>\n",
              "            </tr>\n",
              "            <tr>\n",
              "                        <th id=\"T_aa53d_level0_row20\" class=\"row_heading level0 row20\" >ponds_nearest</th>\n",
              "                        <td id=\"T_aa53d_row20_col0\" class=\"data row20 col0\" >62.000000</td>\n",
              "            </tr>\n",
              "            <tr>\n",
              "                        <th id=\"T_aa53d_level0_row21\" class=\"row_heading level0 row21\" >days_exposition</th>\n",
              "                        <td id=\"T_aa53d_row21_col0\" class=\"data row21 col0\" >13.000000</td>\n",
              "            </tr>\n",
              "    </tbody></table>"
            ],
            "text/plain": [
              "<pandas.io.formats.style.Styler at 0x7fa984cd0700>"
            ]
          },
          "execution_count": 6,
          "metadata": {},
          "output_type": "execute_result"
        }
      ],
      "source": [
        "# Выводим количество пропущенных значений для каждого столбца\n",
        "pd.DataFrame(round(data.isna().mean()*100,)).style.background_gradient('coolwarm')"
      ]
    },
    {
      "cell_type": "markdown",
      "metadata": {
        "id": "K_pSZYPY_B5y"
      },
      "source": [
        "<div class=\"alert alert-block alert-success\">✔️\n",
        "    \n",
        "__Комментарий от ревьюера №1__\n",
        "    \n",
        "Красиво)"
      ]
    },
    {
      "cell_type": "code",
      "execution_count": null,
      "metadata": {
        "id": "ztGmYUq1_B5y"
      },
      "outputs": [],
      "source": [
        "#Столбец first_day_exposition необходимо привести к  datetime для удобства работы далее\n",
        "data['first_day_exposition'] = pd.to_datetime(data['first_day_exposition'], format='%Y-%m-%dT%H:%M:%S')"
      ]
    },
    {
      "cell_type": "code",
      "execution_count": null,
      "metadata": {
        "id": "EaJcIj2l_B5y"
      },
      "outputs": [],
      "source": [
        "#Столбец \"is_apartment\" заполним значением \"False\" вместо пропущенных значений\n",
        "data.is_apartment.fillna(False, inplace=True)\n",
        "data.is_apartment = data.is_apartment.astype('bool')"
      ]
    },
    {
      "cell_type": "code",
      "execution_count": null,
      "metadata": {
        "id": "j1pX093-_B5y"
      },
      "outputs": [],
      "source": [
        "# Столбец \"last_price\" приводим в целочисленный тип\n",
        "data['last_price'] = data['last_price'].astype(int)"
      ]
    },
    {
      "cell_type": "code",
      "execution_count": null,
      "metadata": {
        "id": "pZJZk8JB_B5y"
      },
      "outputs": [],
      "source": [
        "# Столбец 'balcony' приводим в целочисленный тип количество балконов. Заменяем пропущенные значения на 0\n",
        "data['balcony'] = data['balcony'].fillna(value=0).astype(int)"
      ]
    },
    {
      "cell_type": "markdown",
      "metadata": {
        "id": "RiFt0qrR_B5y"
      },
      "source": [
        "<div class=\"alert alert-block alert-success\">✔️\n",
        "    \n",
        "\n",
        "__Комментарий от ревьюера №1__\n",
        "\n",
        "Согласен, если пропуск - вероятнее всего балкон отсутствует"
      ]
    },
    {
      "cell_type": "code",
      "execution_count": null,
      "metadata": {
        "id": "hwkHeS___B5z",
        "outputId": "b9fe8012-7342-4db3-fee0-23d58c407c43"
      },
      "outputs": [
        {
          "data": {
            "text/plain": [
              "count    14504.000000\n",
              "mean         2.771499\n",
              "std          1.261056\n",
              "min          1.000000\n",
              "25%          2.520000\n",
              "50%          2.650000\n",
              "75%          2.800000\n",
              "max        100.000000\n",
              "Name: ceiling_height, dtype: float64"
            ]
          },
          "execution_count": 11,
          "metadata": {},
          "output_type": "execute_result"
        }
      ],
      "source": [
        "# Посмотрим столбец с высотой потолков\n",
        "data.ceiling_height.describe()"
      ]
    },
    {
      "cell_type": "code",
      "execution_count": null,
      "metadata": {
        "id": "GMiMMyIQ_B5z",
        "outputId": "75911d19-5ccc-49d6-a84b-5745939754a0"
      },
      "outputs": [
        {
          "data": {
            "image/png": "[encoded data removed]",
            "text/plain": [
              "<Figure size 432x288 with 1 Axes>"
            ]
          },
          "metadata": {
            "needs_background": "light"
          },
          "output_type": "display_data"
        }
      ],
      "source": [
        "#Посмотрим как на диаграмме выглядит распределение  с высотой потолков\n",
        "data.boxplot(column='ceiling_height')\n",
        "plt.ylim(0, 35);"
      ]
    },
    {
      "cell_type": "code",
      "execution_count": null,
      "metadata": {
        "id": "VTu6_liW_B5z"
      },
      "outputs": [],
      "source": [
        "# Исходя из диаграммы можно отсечь нестандартные значения выше 20, приведем к медианным значениям\n",
        "data.loc[data['ceiling_height'] >= 20, 'ceiling_height'] = data.loc[data['ceiling_height'] >= 20, 'ceiling_height'] / 10\n",
        "data.ceiling_height.fillna(data['ceiling_height'].mean(), inplace=True)"
      ]
    },
    {
      "cell_type": "markdown",
      "metadata": {
        "id": "Q2pFinJE_B5z"
      },
      "source": [
        "<div class=\"alert alert-block alert-success\">✔️\n",
        "    \n",
        "\n",
        "__Комментарий от ревьюера №1__\n",
        "\n",
        "Здорово, что не хардкодишь, а используешь условие"
      ]
    },
    {
      "cell_type": "code",
      "execution_count": null,
      "metadata": {
        "scrolled": true,
        "id": "JTdYXKz-_B5z",
        "outputId": "71d5d270-8efa-4839-b09f-48abe1039151"
      },
      "outputs": [
        {
          "data": {
            "text/html": [
              "<div>\n",
              "<style scoped>\n",
              "    .dataframe tbody tr th:only-of-type {\n",
              "        vertical-align: middle;\n",
              "    }\n",
              "\n",
              "    .dataframe tbody tr th {\n",
              "        vertical-align: top;\n",
              "    }\n",
              "\n",
              "    .dataframe thead th {\n",
              "        text-align: right;\n",
              "    }\n",
              "</style>\n",
              "<table border=\"1\" class=\"dataframe\">\n",
              "  <thead>\n",
              "    <tr style=\"text-align: right;\">\n",
              "      <th></th>\n",
              "      <th>total_area</th>\n",
              "      <th>living_area</th>\n",
              "    </tr>\n",
              "  </thead>\n",
              "  <tbody>\n",
              "    <tr>\n",
              "      <th>total_area</th>\n",
              "      <td>1.000000</td>\n",
              "      <td>0.939537</td>\n",
              "    </tr>\n",
              "    <tr>\n",
              "      <th>living_area</th>\n",
              "      <td>0.939537</td>\n",
              "      <td>1.000000</td>\n",
              "    </tr>\n",
              "  </tbody>\n",
              "</table>\n",
              "</div>"
            ],
            "text/plain": [
              "             total_area  living_area\n",
              "total_area     1.000000     0.939537\n",
              "living_area    0.939537     1.000000"
            ]
          },
          "execution_count": 14,
          "metadata": {},
          "output_type": "execute_result"
        }
      ],
      "source": [
        "#Можно заметить очень выраженную корреляцию в значениях общей площади и жилой площади\n",
        "data[['total_area', 'living_area']].corr()"
      ]
    },
    {
      "cell_type": "code",
      "execution_count": null,
      "metadata": {
        "id": "75CjsY0i_B5z"
      },
      "outputs": [],
      "source": [
        "#Заполним пропуски жилой площади значениями, соответствующими общей:\n",
        "data.living_area = data.living_area.fillna(data.groupby(pd.qcut(data.total_area, 50)).living_area.transform('median'))"
      ]
    },
    {
      "cell_type": "code",
      "execution_count": null,
      "metadata": {
        "scrolled": true,
        "id": "pQ-4BnQ9_B5z",
        "outputId": "7f2a26ef-ab65-4ae3-adc2-73d472ee783c"
      },
      "outputs": [
        {
          "data": {
            "text/html": [
              "<div>\n",
              "<style scoped>\n",
              "    .dataframe tbody tr th:only-of-type {\n",
              "        vertical-align: middle;\n",
              "    }\n",
              "\n",
              "    .dataframe tbody tr th {\n",
              "        vertical-align: top;\n",
              "    }\n",
              "\n",
              "    .dataframe thead th {\n",
              "        text-align: right;\n",
              "    }\n",
              "</style>\n",
              "<table border=\"1\" class=\"dataframe\">\n",
              "  <thead>\n",
              "    <tr style=\"text-align: right;\">\n",
              "      <th></th>\n",
              "      <th>total_area</th>\n",
              "      <th>living_area</th>\n",
              "      <th>kitchen_area</th>\n",
              "    </tr>\n",
              "  </thead>\n",
              "  <tbody>\n",
              "    <tr>\n",
              "      <th>count</th>\n",
              "      <td>23699.000000</td>\n",
              "      <td>23699.000000</td>\n",
              "      <td>21421.000000</td>\n",
              "    </tr>\n",
              "    <tr>\n",
              "      <th>mean</th>\n",
              "      <td>60.348651</td>\n",
              "      <td>34.560621</td>\n",
              "      <td>10.569807</td>\n",
              "    </tr>\n",
              "    <tr>\n",
              "      <th>std</th>\n",
              "      <td>35.654083</td>\n",
              "      <td>21.928828</td>\n",
              "      <td>5.905438</td>\n",
              "    </tr>\n",
              "    <tr>\n",
              "      <th>min</th>\n",
              "      <td>12.000000</td>\n",
              "      <td>2.000000</td>\n",
              "      <td>1.300000</td>\n",
              "    </tr>\n",
              "    <tr>\n",
              "      <th>25%</th>\n",
              "      <td>40.000000</td>\n",
              "      <td>18.600000</td>\n",
              "      <td>7.000000</td>\n",
              "    </tr>\n",
              "    <tr>\n",
              "      <th>50%</th>\n",
              "      <td>52.000000</td>\n",
              "      <td>30.000000</td>\n",
              "      <td>9.100000</td>\n",
              "    </tr>\n",
              "    <tr>\n",
              "      <th>75%</th>\n",
              "      <td>69.900000</td>\n",
              "      <td>42.300000</td>\n",
              "      <td>12.000000</td>\n",
              "    </tr>\n",
              "    <tr>\n",
              "      <th>max</th>\n",
              "      <td>900.000000</td>\n",
              "      <td>409.700000</td>\n",
              "      <td>112.000000</td>\n",
              "    </tr>\n",
              "  </tbody>\n",
              "</table>\n",
              "</div>"
            ],
            "text/plain": [
              "         total_area   living_area  kitchen_area\n",
              "count  23699.000000  23699.000000  21421.000000\n",
              "mean      60.348651     34.560621     10.569807\n",
              "std       35.654083     21.928828      5.905438\n",
              "min       12.000000      2.000000      1.300000\n",
              "25%       40.000000     18.600000      7.000000\n",
              "50%       52.000000     30.000000      9.100000\n",
              "75%       69.900000     42.300000     12.000000\n",
              "max      900.000000    409.700000    112.000000"
            ]
          },
          "execution_count": 16,
          "metadata": {},
          "output_type": "execute_result"
        }
      ],
      "source": [
        "#Из квартилей общей, жилой и площади кухни, можно заметить,\n",
        "#что общая площадь примерно равна сумме жилой площади и кухни, помноженной на 2,5:\n",
        "data[['total_area', 'living_area', 'kitchen_area']].describe()"
      ]
    },
    {
      "cell_type": "code",
      "execution_count": null,
      "metadata": {
        "id": "NsAT89JM_B50"
      },
      "outputs": [],
      "source": [
        "#Заменим пропуски соответствующими значениями:\n",
        "data.kitchen_area = data.kitchen_area.fillna((data.total_area - data.living_area)/2.5)"
      ]
    },
    {
      "cell_type": "code",
      "execution_count": null,
      "metadata": {
        "scrolled": true,
        "id": "IcA6U6Dj_B50",
        "outputId": "2f6803be-914d-4faa-bf57-cfec2695f737"
      },
      "outputs": [
        {
          "data": {
            "text/plain": [
              "count    23699.000000\n",
              "mean        10.464856\n",
              "std          6.278529\n",
              "min         -1.580000\n",
              "25%          7.000000\n",
              "50%          9.000000\n",
              "75%         11.900000\n",
              "max        151.360000\n",
              "Name: kitchen_area, dtype: float64"
            ]
          },
          "execution_count": 18,
          "metadata": {},
          "output_type": "execute_result"
        }
      ],
      "source": [
        "#Как можем заметить, квартили площади кухни изменилось незначительно,\n",
        "#значит, новые значения не будут искажать статистику:\n",
        "data.kitchen_area.describe()"
      ]
    },
    {
      "cell_type": "code",
      "execution_count": null,
      "metadata": {
        "id": "FQ_2dXc9_B50"
      },
      "outputs": [],
      "source": [
        "# Некоторые пропуски можно удалить, например этажность домов\n",
        "data = data.dropna(subset=['floors_total'])\n",
        "data['floors_total'] = data.floors_total.astype('int')"
      ]
    },
    {
      "cell_type": "code",
      "execution_count": null,
      "metadata": {
        "id": "5bHBlNK0_B50"
      },
      "outputs": [],
      "source": [
        "# Пропуски в обозначении локации также удалим\n",
        "data.dropna(subset=['locality_name'], inplace=True)"
      ]
    },
    {
      "cell_type": "markdown",
      "metadata": {
        "id": "hgI75or4_B50"
      },
      "source": [
        "<div class=\"alert alert-block alert-success\">✔️\n",
        "    \n",
        "\n",
        "__Комментарий от ревьюера №1__\n",
        "\n",
        "Верно, если пропусков меньше 5-10% их лучше сразу удалить, дабы сэкономить время"
      ]
    },
    {
      "cell_type": "code",
      "execution_count": null,
      "metadata": {
        "id": "UqQR8CPa_B50",
        "outputId": "3e2e0b65-a529-4a7e-a380-f4dd3ffbf2af"
      },
      "outputs": [
        {
          "name": "stdout",
          "output_type": "stream",
          "text": [
            "<class 'pandas.core.frame.DataFrame'>\n",
            "Int64Index: 23565 entries, 0 to 23698\n",
            "Data columns (total 22 columns):\n",
            " #   Column                Non-Null Count  Dtype         \n",
            "---  ------                --------------  -----         \n",
            " 0   total_images          23565 non-null  int64         \n",
            " 1   last_price            23565 non-null  int64         \n",
            " 2   total_area            23565 non-null  float64       \n",
            " 3   first_day_exposition  23565 non-null  datetime64[ns]\n",
            " 4   rooms                 23565 non-null  int64         \n",
            " 5   ceiling_height        23565 non-null  float64       \n",
            " 6   floors_total          23565 non-null  int64         \n",
            " 7   living_area           23565 non-null  float64       \n",
            " 8   floor                 23565 non-null  int64         \n",
            " 9   is_apartment          23565 non-null  bool          \n",
            " 10  studio                23565 non-null  bool          \n",
            " 11  open_plan             23565 non-null  bool          \n",
            " 12  kitchen_area          23565 non-null  float64       \n",
            " 13  balcony               23565 non-null  int64         \n",
            " 14  locality_name         23565 non-null  object        \n",
            " 15  airports_nearest      18041 non-null  float64       \n",
            " 16  cityCenters_nearest   18064 non-null  float64       \n",
            " 17  parks_around3000      18065 non-null  float64       \n",
            " 18  parks_nearest         8030 non-null   float64       \n",
            " 19  ponds_around3000      18065 non-null  float64       \n",
            " 20  ponds_nearest         9036 non-null   float64       \n",
            " 21  days_exposition       20394 non-null  float64       \n",
            "dtypes: bool(3), datetime64[ns](1), float64(11), int64(6), object(1)\n",
            "memory usage: 3.7+ MB\n"
          ]
        }
      ],
      "source": [
        "# Посмотрим инфу в обновленной таблице\n",
        "data.info()"
      ]
    },
    {
      "cell_type": "code",
      "execution_count": null,
      "metadata": {
        "id": "i2SxPfyH_B50",
        "outputId": "fd40fc28-4e6f-4788-9881-2c99cebf7d38"
      },
      "outputs": [
        {
          "data": {
            "text/plain": [
              "array(['Санкт-Петербург', 'посёлок Шушары', 'городской посёлок Янино-1',\n",
              "       'посёлок Парголово', 'посёлок Мурино', 'Ломоносов', 'Сертолово',\n",
              "       'Петергоф', 'Пушкин', 'деревня Кудрово', 'Коммунар', 'Колпино',\n",
              "       'поселок городского типа Красный Бор', 'Гатчина', 'поселок Мурино',\n",
              "       'деревня Фёдоровское', 'Выборг', 'Кронштадт', 'Кировск',\n",
              "       'деревня Новое Девяткино', 'посёлок Металлострой',\n",
              "       'посёлок городского типа Лебяжье',\n",
              "       'посёлок городского типа Сиверский', 'поселок Молодцово',\n",
              "       'поселок городского типа Кузьмоловский',\n",
              "       'садовое товарищество Новая Ропша', 'Павловск',\n",
              "       'деревня Пикколово', 'Всеволожск', 'Волхов', 'Кингисепп',\n",
              "       'Приозерск', 'Сестрорецк', 'деревня Куттузи', 'посёлок Аннино',\n",
              "       'поселок городского типа Ефимовский', 'посёлок Плодовое',\n",
              "       'деревня Заклинье', 'поселок Торковичи', 'поселок Первомайское',\n",
              "       'Красное Село', 'посёлок Понтонный', 'Сясьстрой', 'деревня Старая',\n",
              "       'деревня Лесколово', 'посёлок Новый Свет', 'Сланцы',\n",
              "       'село Путилово', 'Ивангород', 'Мурино', 'Шлиссельбург',\n",
              "       'Никольское', 'Зеленогорск', 'Сосновый Бор', 'поселок Новый Свет',\n",
              "       'деревня Оржицы', 'деревня Кальтино', 'Кудрово',\n",
              "       'поселок Романовка', 'посёлок Бугры', 'поселок Бугры',\n",
              "       'поселок городского типа Рощино', 'Кириши', 'Луга', 'Волосово',\n",
              "       'Отрадное', 'село Павлово', 'поселок Оредеж', 'село Копорье',\n",
              "       'посёлок городского типа Красный Бор', 'посёлок Молодёжное',\n",
              "       'Тихвин', 'посёлок Победа', 'деревня Нурма',\n",
              "       'поселок городского типа Синявино', 'Тосно',\n",
              "       'посёлок городского типа Кузьмоловский', 'посёлок Стрельна',\n",
              "       'Бокситогорск', 'посёлок Александровская', 'деревня Лопухинка',\n",
              "       'Пикалёво', 'поселок Терволово',\n",
              "       'поселок городского типа Советский', 'Подпорожье',\n",
              "       'посёлок Петровское', 'посёлок городского типа Токсово',\n",
              "       'поселок Сельцо', 'посёлок городского типа Вырица',\n",
              "       'деревня Кипень', 'деревня Келози', 'деревня Вартемяги',\n",
              "       'посёлок Тельмана', 'поселок Севастьяново',\n",
              "       'городской поселок Большая Ижора', 'городской посёлок Павлово',\n",
              "       'деревня Агалатово', 'посёлок Новогорелово',\n",
              "       'городской посёлок Лесогорский', 'деревня Лаголово',\n",
              "       'поселок Цвелодубово', 'поселок городского типа Рахья',\n",
              "       'поселок городского типа Вырица', 'деревня Белогорка',\n",
              "       'поселок Заводской', 'городской посёлок Новоселье',\n",
              "       'деревня Большие Колпаны', 'деревня Горбунки', 'деревня Батово',\n",
              "       'деревня Заневка', 'деревня Иссад', 'Приморск',\n",
              "       'городской посёлок Фёдоровское', 'деревня Мистолово',\n",
              "       'Новая Ладога', 'поселок Зимитицы', 'поселок Барышево',\n",
              "       'деревня Разметелево', 'поселок городского типа имени Свердлова',\n",
              "       'деревня Пеники', 'поселок Рябово', 'деревня Пудомяги',\n",
              "       'поселок станции Корнево', 'деревня Низино', 'деревня Бегуницы',\n",
              "       'посёлок Поляны', 'городской посёлок Мга', 'поселок Елизаветино',\n",
              "       'посёлок городского типа Кузнечное', 'деревня Колтуши',\n",
              "       'поселок Запорожское', 'посёлок городского типа Рощино',\n",
              "       'деревня Гостилицы', 'деревня Малое Карлино',\n",
              "       'посёлок Мичуринское', 'посёлок городского типа имени Морозова',\n",
              "       'посёлок Песочный', 'посёлок Сосново', 'деревня Аро',\n",
              "       'поселок Ильичёво', 'посёлок городского типа Тайцы',\n",
              "       'деревня Малое Верево', 'деревня Извара', 'поселок станции Вещево',\n",
              "       'село Паша', 'деревня Калитино',\n",
              "       'посёлок городского типа Ульяновка', 'деревня Чудской Бор',\n",
              "       'поселок городского типа Дубровка', 'деревня Мины',\n",
              "       'поселок Войсковицы', 'посёлок городского типа имени Свердлова',\n",
              "       'деревня Коркино', 'посёлок Ропша',\n",
              "       'поселок городского типа Приладожский', 'посёлок Щеглово',\n",
              "       'посёлок Гаврилово', 'Лодейное Поле', 'деревня Рабитицы',\n",
              "       'поселок городского типа Никольский', 'деревня Кузьмолово',\n",
              "       'деревня Малые Колпаны', 'поселок Тельмана',\n",
              "       'посёлок Петро-Славянка', 'городской посёлок Назия',\n",
              "       'посёлок Репино', 'посёлок Ильичёво', 'поселок Углово',\n",
              "       'поселок Старая Малукса', 'садовое товарищество Рахья',\n",
              "       'поселок Аннино', 'поселок Победа', 'деревня Меньково',\n",
              "       'деревня Старые Бегуницы', 'посёлок Сапёрный', 'поселок Семрино',\n",
              "       'поселок Гаврилово', 'поселок Глажево', 'поселок Кобринское',\n",
              "       'деревня Гарболово', 'деревня Юкки',\n",
              "       'поселок станции Приветнинское', 'деревня Мануйлово',\n",
              "       'деревня Пчева', 'поселок Поляны', 'поселок Цвылёво',\n",
              "       'поселок Мельниково', 'посёлок Пудость', 'посёлок Усть-Луга',\n",
              "       'Светогорск', 'Любань', 'поселок Селезнёво',\n",
              "       'поселок городского типа Рябово', 'Каменногорск', 'деревня Кривко',\n",
              "       'поселок Глебычево', 'деревня Парицы', 'поселок Жилпосёлок',\n",
              "       'посёлок городского типа Мга', 'городской поселок Янино-1',\n",
              "       'посёлок Войскорово', 'село Никольское', 'посёлок Терволово',\n",
              "       'поселок Стеклянный', 'посёлок городского типа Важины',\n",
              "       'посёлок Мыза-Ивановка', 'село Русско-Высоцкое',\n",
              "       'поселок городского типа Лебяжье',\n",
              "       'поселок городского типа Форносово', 'село Старая Ладога',\n",
              "       'поселок Житково', 'городской посёлок Виллози', 'деревня Лампово',\n",
              "       'деревня Шпаньково', 'деревня Лаврики', 'посёлок Сумино',\n",
              "       'посёлок Возрождение', 'деревня Старосиверская',\n",
              "       'посёлок Кикерино', 'поселок Возрождение',\n",
              "       'деревня Старое Хинколово', 'посёлок Пригородный',\n",
              "       'посёлок Торфяное', 'городской посёлок Будогощь',\n",
              "       'поселок Суходолье', 'поселок Красная Долина', 'деревня Хапо-Ое',\n",
              "       'поселок городского типа Дружная Горка', 'поселок Лисий Нос',\n",
              "       'деревня Яльгелево', 'посёлок Стеклянный', 'село Рождествено',\n",
              "       'деревня Старополье', 'посёлок Левашово', 'деревня Сяськелево',\n",
              "       'деревня Камышовка',\n",
              "       'садоводческое некоммерческое товарищество Лесная Поляна',\n",
              "       'деревня Хязельки', 'поселок Жилгородок',\n",
              "       'посёлок городского типа Павлово', 'деревня Ялгино',\n",
              "       'поселок Новый Учхоз', 'городской посёлок Рощино',\n",
              "       'поселок Гончарово', 'поселок Почап', 'посёлок Сапёрное',\n",
              "       'посёлок Платформа 69-й километр', 'поселок Каложицы',\n",
              "       'деревня Фалилеево', 'деревня Пельгора',\n",
              "       'поселок городского типа Лесогорский', 'деревня Торошковичи',\n",
              "       'посёлок Белоостров', 'посёлок Алексеевка', 'поселок Серебрянский',\n",
              "       'поселок Лукаши', 'поселок Петровское', 'деревня Щеглово',\n",
              "       'поселок Мичуринское', 'деревня Тарасово', 'поселок Кингисеппский',\n",
              "       'посёлок при железнодорожной станции Вещево', 'поселок Ушаки',\n",
              "       'деревня Котлы', 'деревня Сижно', 'деревня Торосово',\n",
              "       'посёлок Форт Красная Горка', 'деревня Новолисино',\n",
              "       'посёлок станции Громово', 'деревня Глинка', 'посёлок Мельниково',\n",
              "       'поселок городского типа Назия', 'деревня Старая Пустошь',\n",
              "       'поселок Коммунары', 'поселок Починок',\n",
              "       'посёлок городского типа Вознесенье', 'деревня Разбегаево',\n",
              "       'посёлок городского типа Рябово', 'поселок Гладкое',\n",
              "       'посёлок при железнодорожной станции Приветнинское',\n",
              "       'поселок Тёсово-4', 'посёлок Жилгородок', 'деревня Бор',\n",
              "       'посёлок Коробицыно', 'деревня Большая Вруда', 'деревня Курковицы',\n",
              "       'посёлок Лисий Нос', 'городской посёлок Советский',\n",
              "       'посёлок Кобралово', 'деревня Суоранда', 'поселок Кобралово',\n",
              "       'поселок городского типа Кондратьево',\n",
              "       'коттеджный поселок Счастье', 'поселок Любань', 'деревня Реброво',\n",
              "       'деревня Зимитицы', 'деревня Тойворово', 'поселок Семиозерье',\n",
              "       'поселок Лесное', 'поселок Совхозный', 'поселок Усть-Луга',\n",
              "       'посёлок Ленинское', 'посёлок Суйда',\n",
              "       'посёлок городского типа Форносово', 'деревня Нижние Осельки',\n",
              "       'посёлок станции Свирь', 'поселок Перово', 'Высоцк',\n",
              "       'поселок Гарболово', 'село Шум', 'поселок Котельский',\n",
              "       'поселок станции Лужайка', 'деревня Большая Пустомержа',\n",
              "       'поселок Красносельское', 'деревня Вахнова Кара', 'деревня Пижма',\n",
              "       'коттеджный поселок Кивеннапа Север', 'поселок Коробицыно',\n",
              "       'поселок Ромашки', 'посёлок Перово', 'деревня Каськово',\n",
              "       'деревня Куровицы', 'посёлок Плоское', 'поселок Сумино',\n",
              "       'поселок городского типа Большая Ижора', 'поселок Кирпичное',\n",
              "       'деревня Ям-Тесово', 'деревня Раздолье', 'деревня Терпилицы',\n",
              "       'поселок городского типа Токсово', 'посёлок Шугозеро',\n",
              "       'деревня Ваганово', 'поселок Пушное', 'садовое товарищество Садко',\n",
              "       'посёлок Усть-Ижора', 'деревня Выскатка',\n",
              "       'городской посёлок Свирьстрой', 'поселок Громово',\n",
              "       'деревня Кисельня', 'посёлок Старая Малукса',\n",
              "       'деревня Трубников Бор', 'поселок Калитино',\n",
              "       'посёлок Высокоключевой', 'садовое товарищество Приладожский',\n",
              "       'посёлок Пансионат Зелёный Бор', 'деревня Ненимяки',\n",
              "       'поселок Пансионат Зелёный Бор', 'деревня Снегирёвка',\n",
              "       'деревня Рапполово', 'деревня Пустынка', 'поселок Рабитицы',\n",
              "       'деревня Большой Сабск', 'деревня Русско', 'деревня Лупполово',\n",
              "       'деревня Большое Рейзино', 'деревня Малая Романовка',\n",
              "       'поселок Дружноселье', 'поселок Пчевжа', 'поселок Володарское',\n",
              "       'деревня Нижняя', 'коттеджный посёлок Лесное', 'деревня Тихковицы',\n",
              "       'деревня Борисова Грива', 'посёлок Дзержинского'], dtype=object)"
            ]
          },
          "execution_count": 22,
          "metadata": {},
          "output_type": "execute_result"
        }
      ],
      "source": [
        "# Настало время удаления дубликатов\n",
        "# выведем уникальные значения\n",
        "data.locality_name.unique()"
      ]
    },
    {
      "cell_type": "code",
      "execution_count": null,
      "metadata": {
        "id": "gZkE-uRu_B50",
        "outputId": "3e8a60a9-036e-4f95-d391-70dbc96ca49a"
      },
      "outputs": [
        {
          "data": {
            "text/plain": [
              "364"
            ]
          },
          "execution_count": 23,
          "metadata": {},
          "output_type": "execute_result"
        }
      ],
      "source": [
        "# Проверим количество уникальных значений\n",
        "len(data.locality_name.unique())"
      ]
    },
    {
      "cell_type": "code",
      "execution_count": null,
      "metadata": {
        "id": "8npbvWUV_B51"
      },
      "outputs": [],
      "source": [
        "# Поменяем все \"ё\" на \"е\"\n",
        "data.locality_name = data.locality_name.str.replace('ё', 'е')\n",
        "# Создадим переменную, которая будет содержать \"неудобные\" слова\n",
        "inconvenient_values = ['поселок', 'городской', 'городского',\n",
        "              'деревня', 'типа', 'садовое', 'товарищество',\n",
        "              'село', 'имени', 'станции', 'садоводческое',\n",
        "              'некоммерческое', 'при', 'железнодорожной']\n",
        "# Заменим значения на пустые строки\n",
        "for i in inconvenient_values:\n",
        "    data.locality_name = data.locality_name.replace({i: ''}, regex=True)\n",
        "# Удалим лишние пробелы в начале и конце строк\n",
        "data.locality_name = data.locality_name.str.strip()"
      ]
    },
    {
      "cell_type": "markdown",
      "metadata": {
        "id": "p_K1ipNW_B51"
      },
      "source": [
        "<div class=\"alert alert-block alert-success\">✔️\n",
        "    \n",
        "\n",
        "__Комментарий от ревьюера №1__\n",
        "\n",
        "Отличный код"
      ]
    },
    {
      "cell_type": "code",
      "execution_count": null,
      "metadata": {
        "id": "H0Igc8R0_B51",
        "outputId": "cd9e0b9a-a675-4841-896d-ee5b1146921a"
      },
      "outputs": [
        {
          "data": {
            "text/plain": [
              "array(['Санкт-Петербург', 'Шушары', 'Янино-1', 'Парголово', 'Мурино',\n",
              "       'Ломоносов', 'Сертолово', 'Петергоф', 'Пушкин', 'Кудрово',\n",
              "       'Коммунар', 'Колпино', 'Красный Бор', 'Гатчина', 'Федоровское',\n",
              "       'Выборг', 'Кронштадт', 'Кировск', 'Новое Девяткино',\n",
              "       'Металлострой', 'Лебяжье', 'Сиверский', 'Молодцово',\n",
              "       'Кузьмоловский', 'Новая Ропша', 'Павловск', 'Пикколово',\n",
              "       'Всеволожск', 'Волхов', 'Кингисепп', 'Приозерск', 'Сестрорецк',\n",
              "       'Куттузи', 'Аннино', 'Ефимовский', 'Плодовое', 'Заклинье',\n",
              "       'Торковичи', 'Первомайское', 'Красное Село', 'Понтонный',\n",
              "       'Сясьстрой', 'Старая', 'Лесколово', 'Новый Свет', 'Сланцы',\n",
              "       'Путилово', 'Ивангород', 'Шлиссельбург', 'Никольское',\n",
              "       'Зеленогорск', 'Сосновый Бор', 'Оржицы', 'Кальтино', 'Романовка',\n",
              "       'Бугры', 'Рощино', 'Кириши', 'Луга', 'Волосово', 'Отрадное',\n",
              "       'Павлово', 'Оредеж', 'Копорье', 'Молодежное', 'Тихвин', 'Победа',\n",
              "       'Нурма', 'Синявино', 'Тосно', 'Стрельна', 'Бокситогорск',\n",
              "       'Александровская', 'Лопухинка', 'Пикалево', 'Терволово',\n",
              "       'Советский', 'Подпорожье', 'Петровское', 'Токсово', 'Сельцо',\n",
              "       'Вырица', 'Кипень', 'Келози', 'Вартемяги', 'Тельмана',\n",
              "       'Севастьяново', 'Большая Ижора', 'Агалатово', 'Новогорелово',\n",
              "       'Лесогорский', 'Лаголово', 'Цвелодубово', 'Рахья', 'Белогорка',\n",
              "       'Заводской', 'Новоселье', 'Большие Колпаны', 'Горбунки', 'Батово',\n",
              "       'Заневка', 'Иссад', 'Приморск', 'Мистолово', 'Новая Ладога',\n",
              "       'Зимитицы', 'Барышево', 'Разметелево', 'Свердлова', 'Пеники',\n",
              "       'Рябово', 'Пудомяги', 'Корнево', 'Низино', 'Бегуницы', 'Поляны',\n",
              "       'Мга', 'Елизаветино', 'Кузнечное', 'Колтуши', 'Запорожское',\n",
              "       'Гостилицы', 'Малое Карлино', 'Мичуринское', 'Морозова',\n",
              "       'Песочный', 'Сосново', 'Аро', 'Ильичево', 'Тайцы', 'Малое Верево',\n",
              "       'Извара', 'Вещево', 'Паша', 'Калитино', 'Ульяновка', 'Чудской Бор',\n",
              "       'Дубровка', 'Мины', 'Войсковицы', 'Коркино', 'Ропша',\n",
              "       'Приладожский', 'Щеглово', 'Гаврилово', 'Лодейное Поле',\n",
              "       'Рабитицы', 'Никольский', 'Кузьмолово', 'Малые Колпаны',\n",
              "       'Петро-Славянка', 'Назия', 'Репино', 'Углово', 'Старая Малукса',\n",
              "       'Меньково', 'Старые Бегуницы', 'Саперный', 'Семрино', 'Глажево',\n",
              "       'Кобринское', 'Гарболово', 'Юкки', 'Приветнинское', 'Мануйлово',\n",
              "       'Пчева', 'Цвылево', 'Мельниково', 'Пудость', 'Усть-Луга',\n",
              "       'Светогорск', 'Любань', 'Селезнево', 'Каменногорск', 'Кривко',\n",
              "       'Глебычево', 'Парицы', 'Жил', 'Войскорово', 'Стеклянный', 'Важины',\n",
              "       'Мыза-Ивановка', 'Русско-Высоцкое', 'Форносово', 'Старая Ладога',\n",
              "       'Житково', 'Виллози', 'Лампово', 'Шпаньково', 'Лаврики', 'Сумино',\n",
              "       'Возрождение', 'Старосиверская', 'Кикерино', 'Старое Хинколово',\n",
              "       'Пригородный', 'Торфяное', 'Будогощь', 'Суходолье',\n",
              "       'Красная Долина', 'Хапо-Ое', 'Дружная Горка', 'Лисий Нос',\n",
              "       'Яльгелево', 'Рождествено', 'Старополье', 'Левашово', 'Сяськелево',\n",
              "       'Камышовка', 'Лесная Поляна', 'Хязельки', 'Жилгородок', 'Ялгино',\n",
              "       'Новый Учхоз', 'Гончарово', 'Почап', 'Саперное',\n",
              "       'Платформа 69-й километр', 'Каложицы', 'Фалилеево', 'Пельгора',\n",
              "       'Торошковичи', 'Белоостров', 'Алексеевка', 'Серебрянский',\n",
              "       'Лукаши', 'Тарасово', 'Кингисеппский', 'Ушаки', 'Котлы', 'Сижно',\n",
              "       'Торосово', 'Форт Красная Горка', 'Новолисино', 'Громово',\n",
              "       'Глинка', 'Старая Пустошь', 'Коммунары', 'Починок', 'Вознесенье',\n",
              "       'Разбегаево', 'Гладкое', 'Тесово-4', 'Бор', 'Коробицыно',\n",
              "       'Большая Вруда', 'Курковицы', 'Кобралово', 'Суоранда',\n",
              "       'Кондратьево', 'коттеджный  Счастье', 'Реброво', 'Тойворово',\n",
              "       'Семиозерье', 'Лесное', 'Совхозный', 'Ленинское', 'Суйда',\n",
              "       'Нижние Осельки', 'Свирь', 'Перово', 'Высоцк', 'Шум', 'Котельский',\n",
              "       'Лужайка', 'Большая Пустомержа', 'Красносельское', 'Вахнова Кара',\n",
              "       'Пижма', 'коттеджный  Кивеннапа Север', 'Ромашки', 'Каськово',\n",
              "       'Куровицы', 'Плоское', 'Кирпичное', 'Ям-Тесово', 'Раздолье',\n",
              "       'Терпилицы', 'Шугозеро', 'Ваганово', 'Пушное', 'Садко',\n",
              "       'Усть-Ижора', 'Выскатка', 'Свирьстрой', 'Кисельня',\n",
              "       'Трубников Бор', 'Высокоключевой', 'Пансионат Зеленый Бор',\n",
              "       'Ненимяки', 'Снегиревка', 'Рапполово', 'Пустынка', 'Большой Сабск',\n",
              "       'Русско', 'Лупполово', 'Большое Рейзино', 'Малая Романовка',\n",
              "       'Дружноселье', 'Пчевжа', 'Володарское', 'Нижняя',\n",
              "       'коттеджный  Лесное', 'Тихковицы', 'Борисова Грива',\n",
              "       'Дзержинского'], dtype=object)"
            ]
          },
          "execution_count": 25,
          "metadata": {},
          "output_type": "execute_result"
        }
      ],
      "source": [
        "# Cнова проверим уникальные значения\n",
        "data.locality_name.unique()"
      ]
    },
    {
      "cell_type": "code",
      "execution_count": null,
      "metadata": {
        "id": "O-QYkWtu_B51",
        "outputId": "3a654064-f265-44bb-c736-38e423cb35fc"
      },
      "outputs": [
        {
          "data": {
            "text/plain": [
              "306"
            ]
          },
          "execution_count": 29,
          "metadata": {},
          "output_type": "execute_result"
        }
      ],
      "source": [
        "# И снова проверим количество уникальных значений\n",
        "len(data.locality_name.unique())"
      ]
    },
    {
      "cell_type": "code",
      "execution_count": null,
      "metadata": {
        "id": "IhlLOIWb_B55",
        "outputId": "ab6d365b-f4db-400e-a82d-c96126a4359b"
      },
      "outputs": [
        {
          "data": {
            "text/plain": [
              "0"
            ]
          },
          "execution_count": 31,
          "metadata": {},
          "output_type": "execute_result"
        }
      ],
      "source": []
    },
    {
      "cell_type": "code",
      "execution_count": null,
      "metadata": {
        "id": "tY-dIK7K_B55",
        "outputId": "f7aa4fb0-6c4b-4623-bd5d-17f46361f4c3"
      },
      "outputs": [
        {
          "data": {
            "text/html": [
              "<div>\n",
              "<style scoped>\n",
              "    .dataframe tbody tr th:only-of-type {\n",
              "        vertical-align: middle;\n",
              "    }\n",
              "\n",
              "    .dataframe tbody tr th {\n",
              "        vertical-align: top;\n",
              "    }\n",
              "\n",
              "    .dataframe thead th {\n",
              "        text-align: right;\n",
              "    }\n",
              "</style>\n",
              "<table border=\"1\" class=\"dataframe\">\n",
              "  <thead>\n",
              "    <tr style=\"text-align: right;\">\n",
              "      <th></th>\n",
              "      <th>total_images</th>\n",
              "      <th>last_price</th>\n",
              "      <th>total_area</th>\n",
              "      <th>first_day_exposition</th>\n",
              "      <th>rooms</th>\n",
              "      <th>ceiling_height</th>\n",
              "      <th>floors_total</th>\n",
              "      <th>living_area</th>\n",
              "      <th>floor</th>\n",
              "      <th>is_apartment</th>\n",
              "      <th>...</th>\n",
              "      <th>kitchen_area</th>\n",
              "      <th>balcony</th>\n",
              "      <th>locality_name</th>\n",
              "      <th>airports_nearest</th>\n",
              "      <th>cityCenters_nearest</th>\n",
              "      <th>parks_around3000</th>\n",
              "      <th>parks_nearest</th>\n",
              "      <th>ponds_around3000</th>\n",
              "      <th>ponds_nearest</th>\n",
              "      <th>days_exposition</th>\n",
              "    </tr>\n",
              "  </thead>\n",
              "  <tbody>\n",
              "  </tbody>\n",
              "</table>\n",
              "<p>0 rows × 22 columns</p>\n",
              "</div>"
            ],
            "text/plain": [
              "Empty DataFrame\n",
              "Columns: [total_images, last_price, total_area, first_day_exposition, rooms, ceiling_height, floors_total, living_area, floor, is_apartment, studio, open_plan, kitchen_area, balcony, locality_name, airports_nearest, cityCenters_nearest, parks_around3000, parks_nearest, ponds_around3000, ponds_nearest, days_exposition]\n",
              "Index: []\n",
              "\n",
              "[0 rows x 22 columns]"
            ]
          },
          "execution_count": 30,
          "metadata": {},
          "output_type": "execute_result"
        }
      ],
      "source": [
        "#Проверка на явные дубликаты\n",
        "data[data.duplicated() == True]"
      ]
    },
    {
      "cell_type": "code",
      "execution_count": null,
      "metadata": {
        "scrolled": true,
        "id": "D8fUocb3_B55",
        "outputId": "ea72e649-2a55-4c2d-822f-2026283be052"
      },
      "outputs": [
        {
          "data": {
            "text/plain": [
              "0"
            ]
          },
          "execution_count": 33,
          "metadata": {},
          "output_type": "execute_result"
        }
      ],
      "source": [
        "#Дополнительная проверка на количествно явных дубликатов\n",
        "data.duplicated().sum()"
      ]
    },
    {
      "cell_type": "markdown",
      "metadata": {
        "id": "sKFGgVSf_B55"
      },
      "source": [
        "Явных дубликатов нету. Но если бы они были, я бы их удалил с помощью \"data = data.drop_duplicates().reset_index(drop=True)\" и проверила бы еще раз через \"data.duplicated().sum()\""
      ]
    },
    {
      "cell_type": "markdown",
      "metadata": {
        "id": "c8PYn7XJ_B55"
      },
      "source": [
        "<div class=\"alert alert-block alert-success\">✔️\n",
        "    \n",
        "\n",
        "__Комментарий от ревьюера №3__\n",
        "\n",
        "Хорошо. Проверка на дубликаты - основа предобработки данных\n",
        "</div>"
      ]
    },
    {
      "cell_type": "code",
      "execution_count": null,
      "metadata": {
        "id": "pXe1EgXA_B55"
      },
      "outputs": [],
      "source": [
        "#Поиск и удаление аномальных значений\n",
        "#Рассмотрим столбец total_area"
      ]
    },
    {
      "cell_type": "code",
      "execution_count": null,
      "metadata": {
        "scrolled": true,
        "id": "8LtyfXkw_B56"
      },
      "outputs": [],
      "source": [
        "data.boxplot(column='total_area');"
      ]
    },
    {
      "cell_type": "code",
      "execution_count": null,
      "metadata": {
        "id": "KFor6Z7E_B56"
      },
      "outputs": [],
      "source": [
        "#Удалим значения, площадь которых более 200 метров\n",
        "data = data.query('total_area <= 200')"
      ]
    },
    {
      "cell_type": "code",
      "execution_count": null,
      "metadata": {
        "id": "w6Vl2QKU_B56"
      },
      "outputs": [],
      "source": [
        "#Рассмотрим столбец last_price\n",
        "data.boxplot(column='last_price')\n",
        "plt.ylim(0, 20000000);"
      ]
    },
    {
      "cell_type": "code",
      "execution_count": null,
      "metadata": {
        "id": "D81y2tAz_B56"
      },
      "outputs": [],
      "source": [
        "#Удалим значения, которые на гистограмме оказались близки к нулю, начиная с отметки 20млн\n",
        "data = data.query('last_price <= 20000000')"
      ]
    },
    {
      "cell_type": "code",
      "execution_count": null,
      "metadata": {
        "scrolled": true,
        "id": "QU94A3ZR_B56"
      },
      "outputs": [],
      "source": [
        "#Рассмотрим столбец rooms\n",
        "data.boxplot(column='rooms')"
      ]
    },
    {
      "cell_type": "code",
      "execution_count": null,
      "metadata": {
        "id": "7Tlt2HZR_B56"
      },
      "outputs": [],
      "source": [
        "#Удалим значения более 6\n",
        "data = data.query('rooms <= 6')"
      ]
    },
    {
      "cell_type": "code",
      "execution_count": null,
      "metadata": {
        "scrolled": false,
        "id": "MEis646J_B56"
      },
      "outputs": [],
      "source": [
        "#Рассмотрим столбец ceiling_height\n",
        "data.boxplot(column='ceiling_height')"
      ]
    },
    {
      "cell_type": "code",
      "execution_count": null,
      "metadata": {
        "scrolled": true,
        "id": "Kfqo0AO6_B57"
      },
      "outputs": [],
      "source": [
        "#Построим гистограмму\n",
        "data.ceiling_height.hist(range=(0, 6), bins=30);"
      ]
    },
    {
      "cell_type": "code",
      "execution_count": null,
      "metadata": {
        "id": "YrAguQkg_B57"
      },
      "outputs": [],
      "source": [
        "data = data.query('ceiling_height <= 4 and ceiling_height >= 2.4')"
      ]
    },
    {
      "cell_type": "code",
      "execution_count": null,
      "metadata": {
        "scrolled": true,
        "id": "Ckw_PvKY_B57"
      },
      "outputs": [],
      "source": [
        "#Рассмотрим столбец floors_total\n",
        "data.boxplot(column='floors_total')"
      ]
    },
    {
      "cell_type": "code",
      "execution_count": null,
      "metadata": {
        "scrolled": true,
        "id": "Mpv0ajle_B57"
      },
      "outputs": [],
      "source": [
        "#Построим гистограмму\n",
        "data.floors_total.hist(range=(0, 40), bins=20)"
      ]
    },
    {
      "cell_type": "code",
      "execution_count": null,
      "metadata": {
        "id": "K98jnOyd_B57"
      },
      "outputs": [],
      "source": [
        "#Удалим значения больше 31\n",
        "data = data.query('floors_total < 31')"
      ]
    },
    {
      "cell_type": "code",
      "execution_count": null,
      "metadata": {
        "scrolled": true,
        "id": "n9kzRVMO_B57"
      },
      "outputs": [],
      "source": [
        "#Рассмотрим столбец living_area\n",
        "data.boxplot(column='living_area')"
      ]
    },
    {
      "cell_type": "code",
      "execution_count": null,
      "metadata": {
        "scrolled": false,
        "id": "oKuRd3gH_B57"
      },
      "outputs": [],
      "source": [
        "#Построим гистограмму\n",
        "data.living_area.hist(range=(0, 200), bins=30)"
      ]
    },
    {
      "cell_type": "code",
      "execution_count": null,
      "metadata": {
        "id": "SYKs5jYr_B57"
      },
      "outputs": [],
      "source": [
        "#Удалим значения более 100\n",
        "data = data.query('living_area <= 100')"
      ]
    },
    {
      "cell_type": "code",
      "execution_count": null,
      "metadata": {
        "id": "x0nllid0_B58"
      },
      "outputs": [],
      "source": [
        "#Рассмотрим столбец floor\n",
        "data.boxplot(column='floor')"
      ]
    },
    {
      "cell_type": "code",
      "execution_count": null,
      "metadata": {
        "id": "FgPKvQyy_B58"
      },
      "outputs": [],
      "source": [
        "#Ранее мы удалили максимальную этажность более 32, здесь будем придерживаться той же цифры\n",
        "data = data.query('floor <= 32')"
      ]
    },
    {
      "cell_type": "code",
      "execution_count": null,
      "metadata": {
        "scrolled": true,
        "id": "59lRmZgR_B58"
      },
      "outputs": [],
      "source": [
        "#Рассмотрим столбец kitchen_area\n",
        "data.boxplot(column='kitchen_area')"
      ]
    },
    {
      "cell_type": "code",
      "execution_count": null,
      "metadata": {
        "id": "2Rs6UnmK_B58"
      },
      "outputs": [],
      "source": [
        "#Построим гистограмму\n",
        "data.kitchen_area.hist(range=(0, 60), bins=30)"
      ]
    },
    {
      "cell_type": "code",
      "execution_count": null,
      "metadata": {
        "id": "NM6AMYUN_B58"
      },
      "outputs": [],
      "source": [
        "#Удалим значения более 25\n",
        "data = data.query('kitchen_area <= 25')"
      ]
    },
    {
      "cell_type": "code",
      "execution_count": null,
      "metadata": {
        "scrolled": true,
        "id": "k1NSOqzA_B58"
      },
      "outputs": [],
      "source": [
        "#Рассмотрим столбец balcony\n",
        "data.boxplot(column='balcony')"
      ]
    },
    {
      "cell_type": "code",
      "execution_count": null,
      "metadata": {
        "scrolled": true,
        "id": "7GMX3_gn_B58"
      },
      "outputs": [],
      "source": [
        "#Построим гистограмму\n",
        "data.balcony.hist(range=(0, 6), bins=30)"
      ]
    },
    {
      "cell_type": "code",
      "execution_count": null,
      "metadata": {
        "id": "tpPGZDnb_B58"
      },
      "outputs": [],
      "source": [
        "#Удалим значения больше 3\n",
        "data = data.query('balcony <= 3')"
      ]
    },
    {
      "cell_type": "code",
      "execution_count": null,
      "metadata": {
        "scrolled": true,
        "id": "8casy6h9_B59"
      },
      "outputs": [],
      "source": [
        "# Проверим еще раз инфу\n",
        "data.info()"
      ]
    },
    {
      "cell_type": "markdown",
      "metadata": {
        "id": "2FgAG_yZ_B59"
      },
      "source": [
        "Вывод\n",
        "Практически во всех числовых столбцах были значения, выходящие за пределы нормальных значений. Как правило, их количество составляло от 500 до 2000 строк.\n",
        "\n",
        "Чтобы не было больших потерь данных, я приняла решение сверять распределение по гистограммам соответствующих столбцов, а в качестве предельных значений выбирать усредненное значение."
      ]
    },
    {
      "cell_type": "markdown",
      "metadata": {
        "id": "q1RSzAKZ_B59"
      },
      "source": [
        "<div class=\"alert alert-block alert-danger\">✍\n",
        "    \n",
        "\n",
        "__Комментарий от ревьюера №2__\n",
        "\n",
        "Вадим, не увидел проверки на явные дубликаты. (Это когда одна строка датасета на 100% схожа с другой, другми строками)\n",
        "</div>"
      ]
    },
    {
      "cell_type": "markdown",
      "metadata": {
        "id": "b_7_LfQ4_B59"
      },
      "source": [
        "<div class=\"alert alert-block alert-danger\">✍\n",
        "    \n",
        "\n",
        "__Комментарий от ревьюера №1__\n",
        "\n",
        "Отсутствует проверка на явные дубликаты, поправишь, пожалуйста?\n",
        "    \n",
        "---\n",
        "    \n",
        "Так же отсутствует вывод после раздела (можно описать качество исходных данных). Поправишь, этот момент в проекте?\n",
        "</div>"
      ]
    },
    {
      "cell_type": "markdown",
      "metadata": {
        "id": "MOT6QSi6_B59"
      },
      "source": []
    },
    {
      "cell_type": "markdown",
      "metadata": {
        "id": "mjKqj0vG_B59"
      },
      "source": [
        "### Посчитайте и добавьте в таблицу новые столбцы"
      ]
    },
    {
      "cell_type": "code",
      "execution_count": null,
      "metadata": {
        "id": "CFUyZaS9_B59"
      },
      "outputs": [],
      "source": [
        "# Цена квадратного метра жилья:\n",
        "data['square_meter'] = data['last_price']/data['total_area']\n",
        "data['square_meter'] = data['square_meter'].astype('int')\n",
        "data.head()"
      ]
    },
    {
      "cell_type": "code",
      "execution_count": null,
      "metadata": {
        "id": "syjdBCT7_B59"
      },
      "outputs": [],
      "source": [
        "data['square_meter'].mean().round(1)"
      ]
    },
    {
      "cell_type": "markdown",
      "metadata": {
        "id": "hUnFN8jc_B5-"
      },
      "source": [
        " Вывод: квартиры в среднем стоят около 100к за квадрат в общей массе"
      ]
    },
    {
      "cell_type": "code",
      "execution_count": null,
      "metadata": {
        "id": "rTp_NWK3_B5-"
      },
      "outputs": [],
      "source": [
        "# Добавим в таблицу день недели, месяц и год публикации объявления\n",
        "data['day_of_week']= data['first_day_exposition'].dt.weekday\n",
        "data['month']=data['first_day_exposition'].dt.month\n",
        "data['years']=data['first_day_exposition'].dt.year\n",
        "data.head()"
      ]
    },
    {
      "cell_type": "markdown",
      "metadata": {
        "id": "Y2eBvlIN_B5-"
      },
      "source": [
        "<div class=\"alert alert-block alert-warning\">📝\n",
        "    \n",
        "\n",
        "__Комментарий от ревьюера №1__\n",
        "\n",
        "Совет на будущие работы (в этом проекте этот метод не нужен): обычно в датафреймах содержатся данные за несколько лет. Важно выбрать корректный метод для вычленения месяца, иначе месяца разных годов могут стать одним месяцем. Обрати внимание на метод astype('datetime64[M]'). Для его использования не нужно обращаться к pd.DatetimeIndex.\n",
        "    \n",
        "Вот хорошая статья на этот счёт:\n",
        "    \n",
        "    https://runebook.dev/ru/docs/numpy/reference/arrays.datetime\n",
        "    \n",
        "    и\n",
        "    \n",
        "    https://stackoverflow.com/questions/70901855/get-hour-and-minutes-and-seconds-from-numpy-datetime64\n",
        "</div>"
      ]
    },
    {
      "cell_type": "markdown",
      "metadata": {
        "id": "mdqQLOyt_B5-"
      },
      "source": [
        "<div class=\"alert alert-block alert-success\">✔️\n",
        "    \n",
        "\n",
        "__Комментарий от ревьюера №2__\n",
        "\n",
        "Этот метод нужен для визуализации динамики по неделям, месяцам или годам (смотря какой метод выберешь)\n",
        "    \n",
        "Код выглядит так:\n",
        "    \n",
        "        df['first_day_exposition'].dt.date #приводим к временному формату\n",
        "        df['first_day_exposition'].astype('datetime64[M]')\n",
        "    \n",
        "Если года разные, то в новой колонке месяца у тебя отобразится первый день месяца ('2019-05-01')\n",
        "</div>"
      ]
    },
    {
      "cell_type": "markdown",
      "metadata": {
        "id": "79v97Sm0_B5-"
      },
      "source": []
    },
    {
      "cell_type": "code",
      "execution_count": null,
      "metadata": {
        "id": "kL_6cORs_B5-"
      },
      "outputs": [],
      "source": [
        "data['years'].value_counts()"
      ]
    },
    {
      "cell_type": "markdown",
      "metadata": {
        "id": "4pZIkict_B5-"
      },
      "source": [
        "Количество предложений на рынке недвижимости было лучше значением в 2017 и 2018 годах, а вот в 2019 количество предложений сократилось в 4 раза и вернулось на уровень 2016 года"
      ]
    },
    {
      "cell_type": "code",
      "execution_count": null,
      "metadata": {
        "id": "WPkm7hsV_B5-"
      },
      "outputs": [],
      "source": [
        "# Тип этажа:\n",
        "data['floor_type'] = ''\n",
        "data['floor_type'] = np.where(data['floor'] == data['floors_total'], 'последний', 'другой')\n",
        "data['floor_type'] = data['floor_type'].where(data['floor'] != 1, 'первый')\n",
        "data[['floor', 'floors_total', 'floor_type']]"
      ]
    },
    {
      "cell_type": "code",
      "execution_count": null,
      "metadata": {
        "id": "hzNnB4yr_B5_"
      },
      "outputs": [],
      "source": [
        "data['city_km'] = data.cityCenters_nearest // 1000\n",
        "data[['cityCenters_nearest', 'city_km']]"
      ]
    },
    {
      "cell_type": "markdown",
      "metadata": {
        "id": "nUHfLccg_B5_"
      },
      "source": [
        "Выводы:\n",
        "Жилье активнее начало продаваться с 2017 года,\n",
        "Cредняя цена за кв.метр равна 100 тыс.руб.\n",
        "Первые и последние этажи в сумме по количеству объявлений уступают любому другому больше,\n",
        "чем в три раза от всего количества объявлений."
      ]
    },
    {
      "cell_type": "markdown",
      "metadata": {
        "id": "0Ltk0FnJ_B5_"
      },
      "source": [
        "<div class=\"alert alert-block alert-success\">✔️\n",
        "    \n",
        "\n",
        "__Комментарий от ревьюера №1__\n",
        "\n",
        "Этот раздел выполнен качественно\n",
        "</div>"
      ]
    },
    {
      "cell_type": "markdown",
      "metadata": {
        "id": "o4mA5oeG_B5_"
      },
      "source": []
    },
    {
      "cell_type": "markdown",
      "metadata": {
        "id": "yWtGld1E_B5_"
      },
      "source": [
        "### Проведите исследовательский анализ данных"
      ]
    },
    {
      "cell_type": "code",
      "execution_count": null,
      "metadata": {
        "id": "AOcmVA_U_B5_"
      },
      "outputs": [],
      "source": [
        "data.describe()"
      ]
    },
    {
      "cell_type": "code",
      "execution_count": null,
      "metadata": {
        "id": "1SEVGGeq_B5_"
      },
      "outputs": [],
      "source": [
        "# Общая площадь\n",
        "data.total_area.hist(bins=20)"
      ]
    },
    {
      "cell_type": "markdown",
      "metadata": {
        "id": "Mgj80qiw_B5_"
      },
      "source": [
        "<div class=\"alert alert-block alert-success\">✔️\n",
        "    \n",
        "\n",
        "__Комментарий от ревьюера №1__\n",
        "\n",
        "Здорово, что используешь метод range() для определения пиковых значений\n",
        "</div>"
      ]
    },
    {
      "cell_type": "code",
      "execution_count": null,
      "metadata": {
        "id": "UKHjYeFz_B6A"
      },
      "outputs": [],
      "source": [
        "data.total_area.describe()"
      ]
    },
    {
      "cell_type": "markdown",
      "metadata": {
        "id": "7PNYOz89_B6A"
      },
      "source": [
        "Гистограмма распределена нормально, самое большое количество значений находится в области 30-50 кв.м.\n",
        "\n",
        "Среднее арифметическое 54м, медиана 50м."
      ]
    },
    {
      "cell_type": "code",
      "execution_count": null,
      "metadata": {
        "id": "mKo5dQ1t_B6A"
      },
      "outputs": [],
      "source": [
        "#Рассмотрим жилую площадь\n",
        "data.living_area.hist(bins=30)"
      ]
    },
    {
      "cell_type": "code",
      "execution_count": null,
      "metadata": {
        "id": "DClkqptq_B6A"
      },
      "outputs": [],
      "source": [
        "data.living_area.describe()"
      ]
    },
    {
      "cell_type": "markdown",
      "metadata": {
        "id": "EWySLgBm_B6A"
      },
      "source": [
        "Гистограмма распределена практически нормально, есть просадка в значениях 20-25м. Мода в области 15-30м.\n",
        "\n",
        "Среднее арифметическое 31м, медиана 30м."
      ]
    },
    {
      "cell_type": "code",
      "execution_count": null,
      "metadata": {
        "id": "FrdXSMho_B6A"
      },
      "outputs": [],
      "source": [
        "#Рассмотрим площадь кухни\n",
        "data.kitchen_area.hist(bins=20)"
      ]
    },
    {
      "cell_type": "code",
      "execution_count": null,
      "metadata": {
        "id": "kfwTCNNl_B6A"
      },
      "outputs": [],
      "source": [
        "data.kitchen_area.describe()"
      ]
    },
    {
      "cell_type": "markdown",
      "metadata": {
        "id": "Nngrisvs_B6A"
      },
      "source": [
        "Гистограмма распределена нормально.\n",
        "Среднее арифметическое 10м, медиана 9м."
      ]
    },
    {
      "cell_type": "code",
      "execution_count": null,
      "metadata": {
        "id": "IU0Jhpll_B6A"
      },
      "outputs": [],
      "source": [
        "#Рассмотрим цену объекта\n",
        "data.last_price.hist(bins=30)"
      ]
    },
    {
      "cell_type": "code",
      "execution_count": null,
      "metadata": {
        "scrolled": true,
        "id": "v5RTmW0U_B6B"
      },
      "outputs": [],
      "source": [
        "data.last_price.describe()"
      ]
    },
    {
      "cell_type": "markdown",
      "metadata": {
        "id": "8FiBuD1N_B6B"
      },
      "source": [
        "Гистограмма распределена нормально. Мода в области 3-5млн.\n",
        "\n",
        "Среднее арифметическое 5млн, медиана 5млн."
      ]
    },
    {
      "cell_type": "code",
      "execution_count": null,
      "metadata": {
        "scrolled": true,
        "id": "VqKZBGdE_B6B"
      },
      "outputs": [],
      "source": [
        "#Рассмотрим количество комнат\n",
        "data.rooms.hist(bins=13);"
      ]
    },
    {
      "cell_type": "code",
      "execution_count": null,
      "metadata": {
        "scrolled": true,
        "id": "rWnSDpAa_B6B"
      },
      "outputs": [],
      "source": [
        "data.rooms.describe()"
      ]
    },
    {
      "cell_type": "markdown",
      "metadata": {
        "id": "TCqma6dY_B6B"
      },
      "source": [
        "Гистограмма распределена нормально. Мода в области 1-2 комнат.\n",
        "\n",
        "Среднее арифметическое 2 комнаты, медиана 2 комнаты."
      ]
    },
    {
      "cell_type": "code",
      "execution_count": null,
      "metadata": {
        "scrolled": true,
        "id": "ZHdnbvm5_B6B"
      },
      "outputs": [],
      "source": [
        "#Рассмотрим высоту потолков\n",
        "data.ceiling_height.hist(bins=10)"
      ]
    },
    {
      "cell_type": "code",
      "execution_count": null,
      "metadata": {
        "scrolled": true,
        "id": "MfHqn57__B6C"
      },
      "outputs": [],
      "source": [
        "data.ceiling_height.describe()"
      ]
    },
    {
      "cell_type": "markdown",
      "metadata": {
        "id": "I90DpsqM_B6C"
      },
      "source": [
        "Большая часть значений оказалась в диапазоне 2,5 - 2,8м, что обусловлено большим количеством пропусков,\n",
        "заполненных медианным значением.\n",
        "Впрочем, данная высота и правда является стандартной в большинстве квартир"
      ]
    },
    {
      "cell_type": "code",
      "execution_count": null,
      "metadata": {
        "id": "cULzbvWD_B6C"
      },
      "outputs": [],
      "source": [
        "#Рассмотрим этаж квартиры\n",
        "data.floor.hist(bins=27)"
      ]
    },
    {
      "cell_type": "code",
      "execution_count": null,
      "metadata": {
        "id": "xMMOMR_o_B6C"
      },
      "outputs": [],
      "source": [
        "data.floor.describe()"
      ]
    },
    {
      "cell_type": "markdown",
      "metadata": {
        "id": "eC0F1RKu_B6C"
      },
      "source": [
        "Гистограмма распределена нормально. Мода в области 1-5 этажа.\n",
        "\n",
        "Среднее арифметическое 5 этажей, медиана 4 этажа."
      ]
    },
    {
      "cell_type": "code",
      "execution_count": null,
      "metadata": {
        "scrolled": true,
        "id": "yMIsyEjF_B6C"
      },
      "outputs": [],
      "source": [
        "#Рассмотрим тип этажа квартиры\n",
        "data.floor_type.hist(bins=5, figsize=(4, 4));"
      ]
    },
    {
      "cell_type": "code",
      "execution_count": null,
      "metadata": {
        "id": "kFlU8BZx_B6C"
      },
      "outputs": [],
      "source": [
        "data.floor_type.value_counts()"
      ]
    },
    {
      "cell_type": "markdown",
      "metadata": {
        "id": "hD-sTYre_B6C"
      },
      "source": [
        "Можно заметить, что большинство квартир находится \"в середине\" - не первый и не последний этаж.\n",
        "А вот число квартир на перовм и последнем этажах практически равно"
      ]
    },
    {
      "cell_type": "markdown",
      "metadata": {
        "id": "WArbv2d8_B6C"
      },
      "source": [
        "<div class=\"alert alert-block alert-danger\">✍\n",
        "    \n",
        "\n",
        "__Комментарий от ревьюера №1__\n",
        "\n",
        "Оставлю общий комментарий по проекту. Давай все выводы и ходы действий перенесем в обычную ячейку markdown. Комментировать стоит лишь сам код\n",
        "</div>"
      ]
    },
    {
      "cell_type": "markdown",
      "metadata": {
        "id": "Q7cQVrl0_B6D"
      },
      "source": [
        "<div class=\"alert alert-block alert-success\">✔️\n",
        "    \n",
        "\n",
        "__Комментарий от ревьюера №2__\n",
        "\n",
        "Спасибо за правки. Так лучше\n",
        "</div>"
      ]
    },
    {
      "cell_type": "code",
      "execution_count": null,
      "metadata": {
        "scrolled": true,
        "id": "UqtQNT7p_B6D"
      },
      "outputs": [],
      "source": [
        "#Рассмотрим общее количество этажей в доме\n",
        "data.floors_total.hist(bins=30)"
      ]
    },
    {
      "cell_type": "code",
      "execution_count": null,
      "metadata": {
        "id": "G9HDftGe_B6D"
      },
      "outputs": [],
      "source": [
        "data.floors_total.describe()"
      ]
    },
    {
      "cell_type": "markdown",
      "metadata": {
        "id": "qaOHglzZ_B6D"
      },
      "source": [
        "Общее очертание гистограммы нормальное.\n",
        "\n",
        "Среднее арифметическое 11 этажей, медиана 9 этажей."
      ]
    },
    {
      "cell_type": "code",
      "execution_count": null,
      "metadata": {
        "scrolled": true,
        "id": "bJaUf6s9_B6D"
      },
      "outputs": [],
      "source": [
        "#Рассмотрим расстояние до центра города\n",
        "data.cityCenters_nearest.hist(bins=30);"
      ]
    },
    {
      "cell_type": "code",
      "execution_count": null,
      "metadata": {
        "id": "-LxlBM6m_B6D"
      },
      "outputs": [],
      "source": [
        "data.cityCenters_nearest.describe()"
      ]
    },
    {
      "cell_type": "markdown",
      "metadata": {
        "id": "25kv-2jv_B6D"
      },
      "source": [
        "Общее очертание гистограммы практически нормально\n",
        "\n",
        "Среднее арифметическое 15км, медиана 13км."
      ]
    },
    {
      "cell_type": "code",
      "execution_count": null,
      "metadata": {
        "scrolled": true,
        "id": "joHrW_u9_B6D"
      },
      "outputs": [],
      "source": [
        "#Рассмотрим расстояние до ближайшего аэропорта\n",
        "data.airports_nearest.hist(bins=30)"
      ]
    },
    {
      "cell_type": "code",
      "execution_count": null,
      "metadata": {
        "scrolled": true,
        "id": "mC8IG8cy_B6D"
      },
      "outputs": [],
      "source": [
        "data.airports_nearest.describe()"
      ]
    },
    {
      "cell_type": "markdown",
      "metadata": {
        "id": "lmYQPSpR_B6E"
      },
      "source": [
        "Гистограмма распределена нормально, наблюдается минимальое количество жилья в радиусе 5км от аэропорта.\n",
        "Мода в области 10-30км.\n",
        "\n",
        "Среднее арифметическое 29км, медиана 27км."
      ]
    },
    {
      "cell_type": "code",
      "execution_count": null,
      "metadata": {
        "scrolled": true,
        "id": "Y4FyeUQA_B6E"
      },
      "outputs": [],
      "source": [
        "#Рассмотрим расстояние до ближайшего парка\n",
        "data.parks_nearest.hist(bins=30)"
      ]
    },
    {
      "cell_type": "code",
      "execution_count": null,
      "metadata": {
        "id": "v25Raqp__B6E"
      },
      "outputs": [],
      "source": [
        "data.parks_nearest.describe()"
      ]
    },
    {
      "cell_type": "markdown",
      "metadata": {
        "id": "B35QR9dZ_B6E"
      },
      "source": [
        "Гистограмма распределена практически нормально, наблюдается просадка в области более 1км, т.е.\n",
        "практически всегда в радиусе 1км от жилья находится хотябы 1 парк. Мода в области 300-600м.\n",
        "Среднее арифметическое 500м, медиана 450м."
      ]
    },
    {
      "cell_type": "code",
      "execution_count": null,
      "metadata": {
        "id": "sd0dP_ig_B6E"
      },
      "outputs": [],
      "source": [
        "#Рассмотрим день публикации объявления\n",
        "data.day_of_week.hist(bins=13, figsize=(5, 5))"
      ]
    },
    {
      "cell_type": "code",
      "execution_count": null,
      "metadata": {
        "id": "aFRnSNrG_B6E"
      },
      "outputs": [],
      "source": [
        "data.day_of_week.value_counts()"
      ]
    },
    {
      "cell_type": "markdown",
      "metadata": {
        "id": "VeSmzsJ1_B6E"
      },
      "source": [
        "Похоже, что объявления публикуются в будни, и очевидно реже по выходным"
      ]
    },
    {
      "cell_type": "code",
      "execution_count": null,
      "metadata": {
        "scrolled": true,
        "id": "4jZFxA-Q_B6E"
      },
      "outputs": [],
      "source": [
        "#Рассмотрим месяц публикации объявления\n",
        "data.month.hist(bins=24)"
      ]
    },
    {
      "cell_type": "markdown",
      "metadata": {
        "id": "DQyYWXcg_B6E"
      },
      "source": [
        "<div class=\"alert alert-block alert-success\">✔️\n",
        "    \n",
        "\n",
        "__Комментарий от ревьюера №1__\n",
        "\n",
        "В мае не до продаж, все на огородах =)\n",
        "</div>"
      ]
    },
    {
      "cell_type": "code",
      "execution_count": null,
      "metadata": {
        "scrolled": false,
        "id": "RjiLVJOK_B6F"
      },
      "outputs": [],
      "source": [
        "data.pivot_table(index='month', values='day_of_week', aggfunc='count')"
      ]
    },
    {
      "cell_type": "code",
      "execution_count": null,
      "metadata": {
        "id": "trj00V4z_B6F"
      },
      "outputs": [],
      "source": [
        "#Похоже, что активная фаза в феврале-апреле, а также в сентябре-ноябре. Меньше всего объявлений можно увидеть в январе и апреле"
      ]
    },
    {
      "cell_type": "code",
      "execution_count": null,
      "metadata": {
        "scrolled": true,
        "id": "bNz_3xis_B6F"
      },
      "outputs": [],
      "source": [
        "#Раcсмотрим скорость продажи квартиры\n",
        "data.days_exposition.hist(bins=200, figsize=(15, 5), range=(0, 200))"
      ]
    },
    {
      "cell_type": "markdown",
      "metadata": {
        "id": "3gwy1Crs_B6F"
      },
      "source": [
        "Исходя из графика можно сделать вывод, что  большинство квартир продаются довольно быстро, самое большое приходится на значения до 70 дней.\n",
        "Далее, чем больше проходит дней, тем меньшее количество продаж.\n",
        "\n",
        "Обнаружены выбросы в зоне 45 и 60 дней, многократно превышающие окружающие значения\n",
        "Возможно, объявление было снято по причине окончания срока действия"
      ]
    },
    {
      "cell_type": "markdown",
      "metadata": {
        "id": "BSpWWwwW_B6F"
      },
      "source": []
    },
    {
      "cell_type": "markdown",
      "metadata": {
        "id": "8pCGMXit_B6F"
      },
      "source": [
        "<div class=\"alert alert-block alert-warning\">📝\n",
        "    \n",
        "\n",
        "__Комментарий от ревьюера №1__\n",
        "\n",
        "Тут важно порассуждать как аналитик, почему именно 45 и 60 дней? С чем это связано?\n",
        "\n",
        "</div>"
      ]
    },
    {
      "cell_type": "code",
      "execution_count": null,
      "metadata": {
        "scrolled": true,
        "id": "ce4bUeAx_B6F"
      },
      "outputs": [],
      "source": [
        "data.days_exposition.describe()"
      ]
    },
    {
      "cell_type": "markdown",
      "metadata": {
        "id": "gS8kmdki_B6F"
      },
      "source": [
        "Быстрыми продажами следует считать продажи, занявшие до 44 дней. Медленными же будут продажи более 223 дней"
      ]
    },
    {
      "cell_type": "markdown",
      "metadata": {
        "id": "QVvyqR68_B6F"
      },
      "source": [
        "<div class=\"alert alert-block alert-success\">✔️\n",
        "    \n",
        "\n",
        "__Комментарий от ревьюера №1__\n",
        "\n",
        "Да, до 1.5 месяцев можно назвать быстрой продажей\n",
        "</div>"
      ]
    },
    {
      "cell_type": "markdown",
      "metadata": {
        "id": "JG4DMSmx_B6G"
      },
      "source": [
        "Вывод\n",
        "\n",
        "В ходе исследования было выявлено, что большинство квартир имеют:\n",
        "\n",
        "-общую площадь 30-50кв.м.\n",
        "-жилую площадь 15-30м\n",
        "-площадь кухни 5-10м\n",
        "-цену 3-5млн\n",
        "-1-2 комнаты\n",
        "-высоту потолков 2,5-2,8м\n",
        "\n",
        "Квартиры находятся:\n",
        "\n",
        "-на 1-5 этажах\n",
        "-между первым и последним этажами\n",
        "-в 5-10 этажных зданиях\n",
        "-в 12-15км от центра города\n",
        "-в 10-30км от аэропорта\n",
        "-в 300-600м от парка\n",
        "\n",
        "Объявления чаще публикуются в будни, весной и осенью"
      ]
    },
    {
      "cell_type": "code",
      "execution_count": null,
      "metadata": {
        "id": "XgB_PnRT_B6G"
      },
      "outputs": [],
      "source": [
        "#Расcмотрим, какие факторы больше всего влияют на стоимость"
      ]
    },
    {
      "cell_type": "code",
      "execution_count": null,
      "metadata": {
        "scrolled": true,
        "id": "q28JAVdx_B6G"
      },
      "outputs": [],
      "source": [
        "#Общая площадь\n",
        "data.plot(x='total_area', y='last_price', kind='scatter', alpha=0.3)"
      ]
    },
    {
      "cell_type": "markdown",
      "metadata": {
        "id": "_718vM5l_B6G"
      },
      "source": [
        "<div class=\"alert alert-block alert-success\">✔️\n",
        "    \n",
        "\n",
        "__Комментарий от ревьюера №1__\n",
        "\n",
        "Здорово, что зависимость переменных рассматриваешь через тип графика scatter\n",
        "</div>"
      ]
    },
    {
      "cell_type": "code",
      "execution_count": null,
      "metadata": {
        "id": "bmEs9mys_B6G"
      },
      "outputs": [],
      "source": [
        "data['last_price'].corr(data['total_area'])"
      ]
    },
    {
      "cell_type": "markdown",
      "metadata": {
        "id": "rrjK4VMu_B6G"
      },
      "source": [
        "Как мы можем видеть по графику, существует прямая зависимость между ценой и общей площадью. Численно корреляция равна 0,65"
      ]
    },
    {
      "cell_type": "markdown",
      "metadata": {
        "id": "iDjG6f2S_B6G"
      },
      "source": []
    },
    {
      "cell_type": "code",
      "execution_count": null,
      "metadata": {
        "scrolled": true,
        "id": "AX2BgGc4_B6G"
      },
      "outputs": [],
      "source": [
        "#Жилая площадь\n",
        "data.plot(x='living_area', y='last_price', kind='scatter', alpha=0.3)"
      ]
    },
    {
      "cell_type": "code",
      "execution_count": null,
      "metadata": {
        "id": "tv8iBmZM_B6G"
      },
      "outputs": [],
      "source": [
        "data['last_price'].corr(data['living_area'])"
      ]
    },
    {
      "cell_type": "markdown",
      "metadata": {
        "id": "ycLJYJ6i_B6H"
      },
      "source": [
        "Как мы можем видеть по графику, также существует прямая зависимость между ценой и жилой площадью,\n",
        "но уже менее выраженно. Численно корреляция равна 0,59"
      ]
    },
    {
      "cell_type": "markdown",
      "metadata": {
        "id": "JbHy3STD_B6H"
      },
      "source": [
        "<div class=\"alert alert-block alert-success\">✔️\n",
        "    \n",
        "\n",
        "__Комментарий от ревьюера №1__\n",
        "\n",
        "Верная интерпретация значений корреляции Пирсона. Ты молодец =)\n",
        "</div>"
      ]
    },
    {
      "cell_type": "code",
      "execution_count": null,
      "metadata": {
        "scrolled": false,
        "id": "Tq1KTDJY_B6H"
      },
      "outputs": [],
      "source": [
        "#Площадь кухни\n",
        "data.plot(x='kitchen_area', y='last_price', kind='scatter', alpha=0.3)"
      ]
    },
    {
      "cell_type": "code",
      "execution_count": null,
      "metadata": {
        "id": "z9cf6m0X_B6H"
      },
      "outputs": [],
      "source": [
        "data['last_price'].corr(data['kitchen_area'])"
      ]
    },
    {
      "cell_type": "markdown",
      "metadata": {
        "id": "7pTsDBDj_B6H"
      },
      "source": [
        "Как мы можем видеть по графику, также существует прямая зависимость между ценой и площадью кухни, но еще менее выраженно. Численно корреляция равна 0,51"
      ]
    },
    {
      "cell_type": "code",
      "execution_count": null,
      "metadata": {
        "scrolled": true,
        "id": "sWvhc1Ft_B6H"
      },
      "outputs": [],
      "source": [
        "#Количество комнат\n",
        "data.pivot_table(index='rooms', values='last_price', aggfunc='median').plot(kind='bar', legend=False);\n",
        "plt.ylabel('last_price')"
      ]
    },
    {
      "cell_type": "code",
      "execution_count": null,
      "metadata": {
        "id": "m3lXWTI__B6H"
      },
      "outputs": [],
      "source": [
        "data['last_price'].corr(data['rooms'])"
      ]
    },
    {
      "cell_type": "markdown",
      "metadata": {
        "id": "F3CYayx-_B6H"
      },
      "source": [
        "Несмотря на аномальное значение,  мы можем видеть по графику, существует прямая зависимость между ценой и количеством комнат.\n",
        "Чем больше комнат, тем выше стоимость. Численно корреляция равна 0,36"
      ]
    },
    {
      "cell_type": "code",
      "execution_count": null,
      "metadata": {
        "scrolled": true,
        "id": "F2PlCbbd_B6H"
      },
      "outputs": [],
      "source": [
        "#Тип этажа\n",
        "data.pivot_table(index='floor_type', values='last_price', aggfunc='median').plot(kind='bar', legend=False, figsize=(3, 4));\n",
        "plt.ylabel('last_price');"
      ]
    },
    {
      "cell_type": "code",
      "execution_count": null,
      "metadata": {
        "scrolled": true,
        "id": "8dbrXDLL_B6I"
      },
      "outputs": [],
      "source": [
        "#data['last_price'].corr(data['kitchen_area']) // Неправильно сделала"
      ]
    },
    {
      "cell_type": "markdown",
      "metadata": {
        "id": "LnJyOE5P_B6I"
      },
      "source": [
        "Как мы можем видеть по графику, также существует прямая зависимость между ценой и типом этажа.\n",
        "В среднем, дешевле всего получается первый этаж, далее последний, а самыми дорогими обычно являются квартиры посередине.\n"
      ]
    },
    {
      "cell_type": "markdown",
      "metadata": {
        "id": "JTfKEGfK_B6I"
      },
      "source": [
        "<div class=\"alert alert-block alert-danger\">✍\n",
        "    \n",
        "\n",
        "__Комментарий от ревьюера №1__\n",
        "\n",
        "Тут не стоит считать корреляцию (т.к. это категоральный столбец) + ты считаешь по кухне, а рассматриваем тип этажа\n",
        "</div>"
      ]
    },
    {
      "cell_type": "markdown",
      "metadata": {
        "id": "XfXzYlaK_B6I"
      },
      "source": [
        "<div class=\"alert alert-block alert-success\">✔️\n",
        "    \n",
        "\n",
        "__Комментарий от ревьюера №1__\n",
        "\n",
        "Как в песне, \"первый и последний этаж не предлагать\". Традиционно, квартиры на первом и последнем этажах считаются самыми неудобными для жизни и это отражается на их стоимости.\n",
        "</div>"
      ]
    },
    {
      "cell_type": "code",
      "execution_count": null,
      "metadata": {
        "scrolled": true,
        "id": "GorFAIlw_B6I"
      },
      "outputs": [],
      "source": [
        "#День недели, месяц и год\n",
        "data.pivot_table(index='day_of_week', values='last_price', aggfunc='median').plot(kind='bar', legend=False);\n",
        "plt.ylabel('last_price')"
      ]
    },
    {
      "cell_type": "code",
      "execution_count": null,
      "metadata": {
        "id": "XWnb_x8J_B6I"
      },
      "outputs": [],
      "source": [
        "data['last_price'].corr(data['day_of_week'])"
      ]
    },
    {
      "cell_type": "markdown",
      "metadata": {
        "id": "PLJavzyF_B6I"
      },
      "source": [
        "Как мы можем видеть по графику, корреляция цены к дню публикации практически равна нулю."
      ]
    },
    {
      "cell_type": "code",
      "execution_count": null,
      "metadata": {
        "scrolled": true,
        "id": "F8USZYZu_B6I"
      },
      "outputs": [],
      "source": [
        "data.pivot_table(index='month', values='last_price', aggfunc='median').plot(kind='bar', legend=False);\n",
        "plt.ylabel('last_price')"
      ]
    },
    {
      "cell_type": "code",
      "execution_count": null,
      "metadata": {
        "id": "dykqR9LH_B6I"
      },
      "outputs": [],
      "source": [
        "#data['last_price'].corr(data['month'])"
      ]
    },
    {
      "cell_type": "markdown",
      "metadata": {
        "id": "Urh0d5V4_B6J"
      },
      "source": [
        "Как мы можем видеть по графику, корреляция цены к месяцу публикации также практически равна нулю."
      ]
    },
    {
      "cell_type": "code",
      "execution_count": null,
      "metadata": {
        "id": "s5GfonHx_B6J"
      },
      "outputs": [],
      "source": [
        "data.pivot_table(index='years', values='last_price', aggfunc='median').plot(kind='bar', legend=False);\n",
        "plt.ylabel('last_price')"
      ]
    },
    {
      "cell_type": "code",
      "execution_count": null,
      "metadata": {
        "id": "BoPJ8Xsc_B6J"
      },
      "outputs": [],
      "source": [
        "#Как мы можем видеть по графикам, медианные цены на квартиры падали с 2014 по 2017 года, однако далее,\n",
        "#в 2018 и 2019 годах, начали расти"
      ]
    },
    {
      "cell_type": "code",
      "execution_count": null,
      "metadata": {
        "id": "nmNap9U6_B6J"
      },
      "outputs": [],
      "source": [
        "data.pivot_table(index='years', values='total_area', aggfunc='median').plot(kind='bar', legend=False);\n",
        "plt.ylabel('total_area')"
      ]
    },
    {
      "cell_type": "markdown",
      "metadata": {
        "id": "Um56CVE2_B6J"
      },
      "source": [
        "Как мы видим из графика соотношения площадей квартир по годам, площади также падали в диапазоне 2014-2017 годов.\n",
        "Однако в 2017-2019 годах роста площадей не было замечено, в отличие от роста цен."
      ]
    },
    {
      "cell_type": "markdown",
      "metadata": {
        "id": "2hzo5gkL_B6J"
      },
      "source": [
        "<div class=\"alert alert-block alert-success\">✔️\n",
        "    \n",
        "\n",
        "__Комментарий от ревьюера №1__\n",
        "\n",
        "Отличный инсайд для заказчика!) Молодец\n",
        "</div>"
      ]
    },
    {
      "cell_type": "markdown",
      "metadata": {
        "id": "5IeY_DrE_B6J"
      },
      "source": [
        "Выводы:\n",
        "\n",
        "Стало понятно, что сильнее всего на стоимость влияют:\n",
        "-площадь\n",
        "-количество комнат\n",
        "-тип этажа\n",
        "-год публикации\n",
        "-день и месяц публикации практически не влияют на стоиомость\n",
        "\n",
        "Изменение тенденций в годах:\n",
        "-с 2014 по 2017 наблюдается уменьшение площадей продаваемых квартир\n",
        "-с 2017 по 2019 наблюдается небольшое повышение цен"
      ]
    },
    {
      "cell_type": "code",
      "execution_count": null,
      "metadata": {
        "scrolled": true,
        "id": "ByFdRta0_B6J"
      },
      "outputs": [],
      "source": [
        "#Средняя цена 1 кв.м. в топ 10 городах\n",
        "(\n",
        "    data\n",
        "    .pivot_table(index='locality_name', values='square_meter', aggfunc=('count', 'median'))\n",
        "    .sort_values(by='count', ascending=False).head(10)\n",
        ")"
      ]
    },
    {
      "cell_type": "markdown",
      "metadata": {
        "id": "OKXn2n33_B6J"
      },
      "source": [
        "<div class=\"alert alert-block alert-success\">✔️\n",
        "    \n",
        "\n",
        "__Комментарий от ревьюера №1__\n",
        "\n",
        "Таблица верна. Совет: на общие продажи лучше смотреть через призму медианы. Она более устойчива к выбросам\n",
        "</div>"
      ]
    },
    {
      "cell_type": "markdown",
      "metadata": {
        "id": "zj4J_QI-_B6K"
      },
      "source": [
        "Как можно увидеть по сводной табице, самая высокая цена 1 квадратного метра в г. Санкт-Петербург, со значением 104т.р.\n",
        "\n",
        "Далее идут Мурино и Кудрово со стоимостью 86т.р. и 96т.р. соответственно\n",
        "\n",
        "Замыкают топ объявлений Гатчина и Выборг со стоиомстю 68т.р. и 58т.р. за 1кв.м."
      ]
    },
    {
      "cell_type": "code",
      "execution_count": null,
      "metadata": {
        "id": "eE10g2GS_B6K"
      },
      "outputs": [],
      "source": [
        "#Средняя цена километра удаленности от центра\n",
        "#Cоздадим новую таблицу, куда сохраним необходимые данные\n",
        "km = (\n",
        "    data\n",
        "    .query('locality_name == \"Санкт-Петербург\"')\n",
        "    .pivot_table(index='city_km', values='last_price', aggfunc=['count', 'sum'])\n",
        ")"
      ]
    },
    {
      "cell_type": "code",
      "execution_count": null,
      "metadata": {
        "id": "L_NYE553_B6K"
      },
      "outputs": [],
      "source": [
        "#Cоздадим новый столбец со средней ценой каждого километра\n",
        "km['price'] = km['sum'] / km['count']\n",
        "#Обнулим индексы\n",
        "km = km.reset_index()"
      ]
    },
    {
      "cell_type": "code",
      "execution_count": null,
      "metadata": {
        "scrolled": false,
        "id": "XzQ0K7jg_B6K"
      },
      "outputs": [],
      "source": [
        "#Посмотрим первые 5 строк\n",
        "km.head()"
      ]
    },
    {
      "cell_type": "code",
      "execution_count": null,
      "metadata": {
        "scrolled": true,
        "id": "1OiJFG5k_B6K"
      },
      "outputs": [],
      "source": [
        "#Создадим столбчатую диаграмму\n",
        "km.plot(x='city_km', y='price', kind='bar', legend=False, figsize=(10, 5), title = 'Средняя цена километра удаленности от центра г.Санкт-Петербург');\n",
        "plt.xlabel('Километраж');\n",
        "plt.ylabel('Расценки');"
      ]
    },
    {
      "cell_type": "markdown",
      "metadata": {
        "id": "3mjHFNmE_B6K"
      },
      "source": [
        "Чем дальше от центра Питера, тем цена каждого следующего километра снижается. Выбросы 20.0 и 27.0-28.0 могут намекать на жилье богатых и успешных"
      ]
    },
    {
      "cell_type": "markdown",
      "metadata": {
        "id": "G5WArQJF_B6K"
      },
      "source": [
        "Вывод:\n",
        "\n",
        "Самые дорогие квартиры находятся в г.Санкт-Петербург\n",
        "Чем дальше квартира от центра, тем ниже ее стоимость"
      ]
    },
    {
      "cell_type": "markdown",
      "metadata": {
        "id": "BIuYtBUc_B6K"
      },
      "source": [
        "<div class=\"alert alert-block alert-danger\">✍\n",
        "    \n",
        "\n",
        "__Комментарий от ревьюера №1__\n",
        "\n",
        "Нет решения по шагу брифа 4.5\n",
        "    \n",
        "Давай сделаем проект сильнее, и сделаем сводную таблицу (удалённость в км от центра Питера, и средняя цена на этом км). И уже по этой сводной таблице построим линейную или столбчатую диграмму для визуализации динамики цены относительно удалённости\n",
        "</div>"
      ]
    },
    {
      "cell_type": "markdown",
      "metadata": {
        "id": "zukX3oiE_B6K"
      },
      "source": [
        "<div class=\"alert alert-block alert-success\">✔️\n",
        "    \n",
        "\n",
        "__Комментарий от ревьюера №2__\n",
        "\n",
        "Отличный и наглядный график 👍\n",
        "    \n",
        "Здорово, когда он подписан. Так быстрее понять о чем идёт речь на нём.\n",
        "    \n",
        "</div>"
      ]
    },
    {
      "cell_type": "markdown",
      "metadata": {
        "id": "wdB2W-DS_B6L"
      },
      "source": [
        "### Общий вывод"
      ]
    },
    {
      "cell_type": "markdown",
      "metadata": {
        "id": "7ft9xlxN_B6L"
      },
      "source": [
        "#В ходе исследования было выявлено, что большинство квартир имеют схожие характеристики:\n",
        "\n",
        "Oбщая площадь 30-50кв.м.;\n",
        "Цена 3-5млн;\n",
        "1-2 комнаты;\n",
        "Такие квартиры обычно находятся в срединных этажах 5-10 этажных зданий, в радиусе 300-600м которых есть парки.\n",
        "\n",
        "Изменение тенденций в годах:\n",
        "с 2014 по 2017 наблюдается уменьшение площадей продаваемых квартир;\n",
        "с 2017 по 2019 наблюдается небольшое повышение цен;\n",
        "\n",
        "Были выявлены факторы, влияющие на стоимость квартиры:\n",
        "Чем больше площадь, тем выше стоимость;\n",
        "Чем больше количество комнат, тем выше стоимость;\n",
        "Квартиры первых и последних этажей стоят дешевле, срединных этажей - дороже;\n",
        "Cамые дорогие квартиры находятся в г. Санкт-Петербург;\n",
        "Чем ближе квартира к центру города, тем выше ее стоимость;\n",
        "\n",
        "Все эти парамаетры напрямую влияют на образование стоимости квартиры\n",
        "\n",
        "В дальнейшем, результаты этого исследования могут стать системой, которая, учитывая все эти факторы одновременно, сможет прогнозировать цену для любой квартиры, принадлежащей к любому сочетанию рассмотренных свойств.\n",
        "\n",
        "В ходе исследования было выявлено большое количество пропусков в геоданных. Природа этих пропусков не ясна, возможно сбои при копировании/чтении данных"
      ]
    },
    {
      "cell_type": "markdown",
      "metadata": {
        "id": "VMmyo0rR_B6L"
      },
      "source": [
        "<div class=\"alert alert-block alert-warning\">📝\n",
        "    \n",
        "\n",
        "__Комментарий от ревьюера №1__\n",
        "\n",
        "Шикарный вывод и рекомендации для бизнеса. Кстати, хорошей практикой является написание в общем выводе всех твоих действий (кратко) по проекту. Ведь вывод раскрывает для заказчика всю твою проделанную работу и за что он платит деньги, даже если ему не интересен весь процесс исследования, то в отчёт он заглянет обязательно.\n",
        "</div>"
      ]
    },
    {
      "cell_type": "markdown",
      "metadata": {
        "id": "c6JLRUWC_B6L"
      },
      "source": []
    },
    {
      "cell_type": "markdown",
      "metadata": {
        "id": "UxuuEfK2_B6L"
      },
      "source": []
    },
    {
      "cell_type": "markdown",
      "metadata": {
        "id": "ed6VGfsX_B6L"
      },
      "source": [
        "<div class=\"alert alert-block alert-warning\">📝\n",
        "Комментарий от ревьюера №1 </b>\n",
        "\n",
        "\n",
        "\n",
        "У тебя получилась очень сильная и хорошая работа. Здорово, что расчеты ты сопровождаешь иллюстрациями, а так же не забываешь про комментарии, твой проект интересно проверять.\n",
        "\n",
        "---\n",
        "\n",
        "Нужно поправить:\n",
        "\n",
        "1) Оформление проекта\n",
        "\n",
        "2) Проверка на дубликаты\n",
        "\n",
        "3) В последнем шаге добавить линейную или столбчатую диаграмму\n",
        "\n",
        "4) После каждого раздела / графика (или серии тестов) писать вывод по полученным данным с учетом поставленной бизнес задачи\n",
        "\n",
        "5) Подправить выводы, после изменений\n",
        "\n",
        "----\n",
        "\n",
        "\n",
        "Если у тебя будут какие-то вопросы по моим комментариям - обязательно пиши! Буду ждать работу на повторное ревью :)</div>"
      ]
    },
    {
      "cell_type": "markdown",
      "metadata": {
        "id": "HCo3v4ED_B6L"
      },
      "source": [
        "<div class=\"alert alert-block alert-warning\">📝\n",
        "Комментарий от ревьюера №2 </b>\n",
        "\n",
        "\n",
        "\n",
        "Отличная работа, осталось поправить один момент:\n",
        "\n",
        "---\n",
        "\n",
        "Нужно поправить:\n",
        "\n",
        "\n",
        "1) Проверка на дубликаты\n",
        "\n",
        "\n",
        "----\n",
        "\n",
        "\n",
        "Если у тебя будут какие-то вопросы по моим комментариям - обязательно пиши! Буду ждать работу на повторное ревью :)</div>"
      ]
    },
    {
      "cell_type": "markdown",
      "metadata": {
        "id": "Q_grf0ZG_B6L"
      },
      "source": [
        "<div style=\"border:solid blue 3px; padding: 20px\">\n",
        "<div class=\"alert alert-block alert-success\">✔️\n",
        "    \n",
        "\n",
        "__Коментарий от ревьюера №3__\n",
        "\n",
        "\n",
        "В остальном всё чудно😊. Твой проект так и просится на github =)   \n",
        "    \n",
        "Поздравляю с успешным завершением проекта 😊👍\n",
        "И желаю успехов в новых работах 😊\n",
        "    \n",
        "---\n",
        "    \n",
        "От себя хочу порекомендовать тебе отличную книгу про язык Python. Она очень классная (можно купить как новую, так и на Авито попадается. Вот ссылка на pdf этой книги)\n",
        "    \n",
        "https://monster-book.com/avtomatizaciya-zadach-s-python\n",
        "</div>"
      ]
    },
    {
      "cell_type": "markdown",
      "metadata": {
        "id": "gyySEFRq_B6L"
      },
      "source": [
        "**Чек-лист готовности проекта**\n",
        "\n",
        "Поставьте 'x' в выполненных пунктах. Далее нажмите Shift+Enter."
      ]
    },
    {
      "cell_type": "markdown",
      "metadata": {
        "id": "aovH_uJd_B6M"
      },
      "source": [
        "- [x]  открыт файл\n",
        "- [x]  файлы изучены (выведены первые строки, метод `info()`, гистограммы и т.д.)\n",
        "- [x]  определены пропущенные значения\n",
        "- [x]  заполнены пропущенные значения там, где это возможно\n",
        "- [x]  есть пояснение, какие пропущенные значения обнаружены\n",
        "- [x]  изменены типы данных\n",
        "- [x]  есть пояснение, в каких столбцах изменены типы и почему\n",
        "- [x]  устранены неявные дубликаты в названиях населённых пунктов\n",
        "- [x]  устранены редкие и выбивающиеся значения (аномалии) во всех столбцах\n",
        "- [x]  посчитано и добавлено в таблицу: цена одного квадратного метра\n",
        "- [x]  посчитано и добавлено в таблицу: день публикации объявления (0 - понедельник, 1 - вторник и т.д.)\n",
        "- [x]  посчитано и добавлено в таблицу: месяц публикации объявления\n",
        "- [x]  посчитано и добавлено в таблицу: год публикации объявления\n",
        "- [x]  посчитано и добавлено в таблицу: тип этажа квартиры (значения — «первый», «последний», «другой»)\n",
        "- [x]  посчитано и добавлено в таблицу: расстояние в км до центра города\n",
        "- [x]  изучены и описаны следующие параметры:\n",
        "        - общая площадь;\n",
        "        - жилая площадь;\n",
        "        - площадь кухни;\n",
        "        - цена объекта;\n",
        "        - количество комнат;\n",
        "        - высота потолков;\n",
        "        - этаж квартиры;\n",
        "        - тип этажа квартиры («первый», «последний», «другой»);\n",
        "        - общее количество этажей в доме;\n",
        "        - расстояние до центра города в метрах;\n",
        "        - расстояние до ближайшего аэропорта;\n",
        "        - расстояние до ближайшего парка;\n",
        "        - день и месяц публикации объявления\n",
        "- [x]  построены гистограммы для каждого параметра\n",
        "- [x]  выполнено задание: \"Изучите, как быстро продавались квартиры (столбец days_exposition). Этот параметр показывает, сколько дней «висело» каждое объявление.\n",
        "    - Постройте гистограмму.\n",
        "    - Посчитайте среднее и медиану.\n",
        "    - В ячейке типа markdown опишите, сколько обычно занимает продажа. Какие продажи можно считать быстрыми, а какие — необычно долгими?\"\n",
        "- [x]  выполнено задание: \"Какие факторы больше всего влияют на общую (полную) стоимость объекта? Постройте графики, которые покажут зависимость цены от указанных ниже параметров. Для подготовки данных перед визуализацией вы можете использовать сводные таблицы.\"\n",
        "        - общей площади;\n",
        "        - жилой площади;\n",
        "        - площади кухни;\n",
        "        - количество комнат;\n",
        "        - типа этажа, на котором расположена квартира (первый, последний, другой);\n",
        "        - даты размещения (день недели, месяц, год);\n",
        "- [x]  выполнено задание: \"Посчитайте среднюю цену одного квадратного метра в 10 населённых пунктах с наибольшим числом объявлений. Выделите населённые пункты с самой высокой и низкой стоимостью квадратного метра. Эти данные можно найти по имени в столбце `locality_name`.\"\n",
        "- [x]  выполнено задание: \"Ранее вы посчитали расстояние до центра в километрах. Теперь выделите квартиры в Санкт-Петербурге с помощью столбца `locality_name` и вычислите среднюю цену каждого километра. Опишите, как стоимость объектов зависит от расстояния до центра города.\"\n",
        "- [x]  в каждом этапе есть промежуточные выводы\n",
        "- [x]  есть общий вывод"
      ]
    },
    {
      "cell_type": "code",
      "execution_count": null,
      "metadata": {
        "id": "flg-O8M0_B6M"
      },
      "outputs": [],
      "source": []
    }
  ],
  "metadata": {
    "ExecuteTimeLog": [
      {
        "duration": 737,
        "start_time": "2022-12-23T05:18:29.873Z"
      },
      {
        "duration": 741,
        "start_time": "2022-12-25T08:12:17.529Z"
      },
      {
        "duration": 44,
        "start_time": "2022-12-25T08:14:02.959Z"
      },
      {
        "duration": 93,
        "start_time": "2022-12-25T08:14:20.850Z"
      },
      {
        "duration": 32,
        "start_time": "2022-12-25T08:14:44.865Z"
      },
      {
        "duration": 36,
        "start_time": "2022-12-25T08:14:49.700Z"
      },
      {
        "duration": 32,
        "start_time": "2022-12-25T08:16:48.097Z"
      },
      {
        "duration": 31,
        "start_time": "2022-12-25T08:20:49.090Z"
      },
      {
        "duration": 45,
        "start_time": "2022-12-25T08:21:56.094Z"
      },
      {
        "duration": 32,
        "start_time": "2022-12-25T08:27:49.022Z"
      },
      {
        "duration": 30,
        "start_time": "2022-12-25T08:29:03.829Z"
      },
      {
        "duration": 296,
        "start_time": "2022-12-25T08:31:42.754Z"
      },
      {
        "duration": 1094,
        "start_time": "2022-12-26T03:34:35.074Z"
      },
      {
        "duration": 100,
        "start_time": "2022-12-26T03:34:55.060Z"
      },
      {
        "duration": 113,
        "start_time": "2022-12-26T03:35:10.731Z"
      },
      {
        "duration": 55,
        "start_time": "2023-01-16T19:13:51.988Z"
      },
      {
        "duration": 1162,
        "start_time": "2023-01-16T19:14:05.283Z"
      },
      {
        "duration": 10,
        "start_time": "2023-01-16T19:14:06.447Z"
      },
      {
        "duration": 65,
        "start_time": "2023-01-16T20:21:50.171Z"
      },
      {
        "duration": 2076,
        "start_time": "2023-01-16T20:23:28.292Z"
      },
      {
        "duration": 1822,
        "start_time": "2023-01-16T20:28:41.674Z"
      },
      {
        "duration": 717,
        "start_time": "2023-01-16T20:28:47.113Z"
      },
      {
        "duration": 30,
        "start_time": "2023-01-16T20:28:47.832Z"
      },
      {
        "duration": 18,
        "start_time": "2023-01-16T20:28:47.864Z"
      },
      {
        "duration": 25,
        "start_time": "2023-01-16T20:28:47.883Z"
      },
      {
        "duration": 1862,
        "start_time": "2023-01-16T20:28:47.910Z"
      },
      {
        "duration": 34,
        "start_time": "2023-01-16T20:28:49.773Z"
      },
      {
        "duration": 704,
        "start_time": "2023-01-16T20:29:22.638Z"
      },
      {
        "duration": 28,
        "start_time": "2023-01-16T20:29:23.343Z"
      },
      {
        "duration": 16,
        "start_time": "2023-01-16T20:29:23.372Z"
      },
      {
        "duration": 34,
        "start_time": "2023-01-16T20:29:23.390Z"
      },
      {
        "duration": 1921,
        "start_time": "2023-01-16T20:29:23.427Z"
      },
      {
        "duration": 11,
        "start_time": "2023-01-16T20:29:25.350Z"
      },
      {
        "duration": 46,
        "start_time": "2023-01-16T20:29:25.363Z"
      },
      {
        "duration": 1108,
        "start_time": "2023-01-19T19:59:32.920Z"
      },
      {
        "duration": 31,
        "start_time": "2023-01-19T19:59:34.031Z"
      },
      {
        "duration": 17,
        "start_time": "2023-01-19T19:59:34.064Z"
      },
      {
        "duration": 26,
        "start_time": "2023-01-19T19:59:34.083Z"
      },
      {
        "duration": 2129,
        "start_time": "2023-01-19T19:59:34.111Z"
      },
      {
        "duration": 74,
        "start_time": "2023-01-19T19:59:36.242Z"
      },
      {
        "duration": 0,
        "start_time": "2023-01-19T19:59:36.317Z"
      },
      {
        "duration": 7,
        "start_time": "2023-01-19T20:00:11.964Z"
      },
      {
        "duration": 10,
        "start_time": "2023-01-19T20:00:28.738Z"
      },
      {
        "duration": 56,
        "start_time": "2023-01-19T20:00:53.134Z"
      },
      {
        "duration": 2,
        "start_time": "2023-01-19T20:08:50.977Z"
      },
      {
        "duration": 10,
        "start_time": "2023-01-19T20:09:52.451Z"
      },
      {
        "duration": 8,
        "start_time": "2023-01-19T20:10:07.972Z"
      },
      {
        "duration": 15,
        "start_time": "2023-01-19T20:10:15.013Z"
      },
      {
        "duration": 7,
        "start_time": "2023-01-19T20:12:43.439Z"
      },
      {
        "duration": 709,
        "start_time": "2023-01-19T20:12:51.981Z"
      },
      {
        "duration": 27,
        "start_time": "2023-01-19T20:12:52.692Z"
      },
      {
        "duration": 14,
        "start_time": "2023-01-19T20:12:52.721Z"
      },
      {
        "duration": 51,
        "start_time": "2023-01-19T20:12:52.737Z"
      },
      {
        "duration": 2066,
        "start_time": "2023-01-19T20:12:52.790Z"
      },
      {
        "duration": 3,
        "start_time": "2023-01-19T20:12:54.859Z"
      },
      {
        "duration": 87,
        "start_time": "2023-01-19T20:12:54.864Z"
      },
      {
        "duration": 11,
        "start_time": "2023-01-19T20:12:54.953Z"
      },
      {
        "duration": 30,
        "start_time": "2023-01-19T20:12:54.965Z"
      },
      {
        "duration": 17,
        "start_time": "2023-01-19T20:51:55.042Z"
      },
      {
        "duration": 5,
        "start_time": "2023-01-19T20:51:55.665Z"
      },
      {
        "duration": 51,
        "start_time": "2023-01-20T09:44:25.664Z"
      },
      {
        "duration": 939,
        "start_time": "2023-01-20T09:44:31.982Z"
      },
      {
        "duration": 29,
        "start_time": "2023-01-20T09:44:32.924Z"
      },
      {
        "duration": 15,
        "start_time": "2023-01-20T09:44:32.955Z"
      },
      {
        "duration": 23,
        "start_time": "2023-01-20T09:44:32.972Z"
      },
      {
        "duration": 1874,
        "start_time": "2023-01-20T09:44:32.996Z"
      },
      {
        "duration": 4,
        "start_time": "2023-01-20T09:44:34.872Z"
      },
      {
        "duration": 53,
        "start_time": "2023-01-20T09:44:34.877Z"
      },
      {
        "duration": 8,
        "start_time": "2023-01-20T09:44:34.931Z"
      },
      {
        "duration": 10,
        "start_time": "2023-01-20T09:44:34.941Z"
      },
      {
        "duration": 7,
        "start_time": "2023-01-20T09:44:34.953Z"
      },
      {
        "duration": 7,
        "start_time": "2023-01-20T09:44:34.962Z"
      },
      {
        "duration": 4,
        "start_time": "2023-01-20T09:44:39.165Z"
      },
      {
        "duration": 12,
        "start_time": "2023-01-20T09:50:37.430Z"
      },
      {
        "duration": 78,
        "start_time": "2023-01-20T10:07:12.293Z"
      },
      {
        "duration": 116,
        "start_time": "2023-01-20T10:07:19.676Z"
      },
      {
        "duration": 3,
        "start_time": "2023-01-20T11:53:21.609Z"
      },
      {
        "duration": 9,
        "start_time": "2023-01-20T11:53:28.230Z"
      },
      {
        "duration": 9,
        "start_time": "2023-01-20T11:53:44.478Z"
      },
      {
        "duration": 8,
        "start_time": "2023-01-20T11:53:48.818Z"
      },
      {
        "duration": 6,
        "start_time": "2023-01-20T11:58:22.613Z"
      },
      {
        "duration": 11,
        "start_time": "2023-01-20T11:58:54.037Z"
      },
      {
        "duration": 8,
        "start_time": "2023-01-20T12:01:56.530Z"
      },
      {
        "duration": 8,
        "start_time": "2023-01-20T12:15:16.010Z"
      },
      {
        "duration": 10,
        "start_time": "2023-01-20T12:16:59.225Z"
      },
      {
        "duration": 8,
        "start_time": "2023-01-20T13:11:52.433Z"
      },
      {
        "duration": 8,
        "start_time": "2023-01-20T13:12:06.667Z"
      },
      {
        "duration": 7,
        "start_time": "2023-01-20T13:13:42.888Z"
      },
      {
        "duration": 8,
        "start_time": "2023-01-20T13:17:12.503Z"
      },
      {
        "duration": 40,
        "start_time": "2023-01-20T13:17:19.097Z"
      },
      {
        "duration": 2,
        "start_time": "2023-01-20T13:23:52.029Z"
      },
      {
        "duration": 13,
        "start_time": "2023-01-20T13:24:02.003Z"
      },
      {
        "duration": 8,
        "start_time": "2023-01-20T13:48:03.292Z"
      },
      {
        "duration": 7,
        "start_time": "2023-01-20T13:50:15.275Z"
      },
      {
        "duration": 12,
        "start_time": "2023-01-20T14:32:03.985Z"
      },
      {
        "duration": 444,
        "start_time": "2023-01-20T14:32:37.387Z"
      },
      {
        "duration": 364,
        "start_time": "2023-01-20T14:32:39.716Z"
      },
      {
        "duration": 507,
        "start_time": "2023-01-20T14:33:27.515Z"
      },
      {
        "duration": 8,
        "start_time": "2023-01-20T14:33:45.991Z"
      },
      {
        "duration": 8,
        "start_time": "2023-01-20T14:33:53.234Z"
      },
      {
        "duration": 8,
        "start_time": "2023-01-20T14:34:32.372Z"
      },
      {
        "duration": 29,
        "start_time": "2023-01-20T14:37:49.424Z"
      },
      {
        "duration": 10,
        "start_time": "2023-01-20T14:40:03.560Z"
      },
      {
        "duration": 14,
        "start_time": "2023-01-20T14:40:27.155Z"
      },
      {
        "duration": 9,
        "start_time": "2023-01-20T15:12:16.702Z"
      },
      {
        "duration": 10,
        "start_time": "2023-01-20T15:12:29.622Z"
      },
      {
        "duration": 11,
        "start_time": "2023-01-20T15:12:41.860Z"
      },
      {
        "duration": 1040,
        "start_time": "2023-01-20T22:11:29.297Z"
      },
      {
        "duration": 35,
        "start_time": "2023-01-20T22:11:30.340Z"
      },
      {
        "duration": 16,
        "start_time": "2023-01-20T22:11:30.378Z"
      },
      {
        "duration": 54,
        "start_time": "2023-01-20T22:11:30.397Z"
      },
      {
        "duration": 2136,
        "start_time": "2023-01-20T22:11:30.457Z"
      },
      {
        "duration": 3,
        "start_time": "2023-01-20T22:11:32.595Z"
      },
      {
        "duration": 86,
        "start_time": "2023-01-20T22:11:32.600Z"
      },
      {
        "duration": 8,
        "start_time": "2023-01-20T22:11:32.687Z"
      },
      {
        "duration": 36,
        "start_time": "2023-01-20T22:11:32.696Z"
      },
      {
        "duration": 42,
        "start_time": "2023-01-20T22:11:32.735Z"
      },
      {
        "duration": 37,
        "start_time": "2023-01-20T22:11:32.779Z"
      },
      {
        "duration": 47,
        "start_time": "2023-01-20T22:11:32.817Z"
      },
      {
        "duration": 162,
        "start_time": "2023-01-20T22:11:32.865Z"
      },
      {
        "duration": 21,
        "start_time": "2023-01-20T22:11:33.029Z"
      },
      {
        "duration": 56,
        "start_time": "2023-01-20T22:11:33.053Z"
      },
      {
        "duration": 26,
        "start_time": "2023-01-20T22:11:33.111Z"
      },
      {
        "duration": 30,
        "start_time": "2023-01-20T22:11:33.139Z"
      },
      {
        "duration": 29,
        "start_time": "2023-01-20T22:11:33.171Z"
      },
      {
        "duration": 11,
        "start_time": "2023-01-20T22:11:33.202Z"
      },
      {
        "duration": 25,
        "start_time": "2023-01-20T22:11:33.215Z"
      },
      {
        "duration": 351,
        "start_time": "2023-01-20T22:11:33.246Z"
      },
      {
        "duration": 6,
        "start_time": "2023-01-20T22:11:33.599Z"
      },
      {
        "duration": 23,
        "start_time": "2023-01-20T22:11:33.607Z"
      },
      {
        "duration": 91,
        "start_time": "2023-01-20T22:11:33.632Z"
      },
      {
        "duration": 1047,
        "start_time": "2023-01-22T13:06:41.736Z"
      },
      {
        "duration": 32,
        "start_time": "2023-01-22T13:06:42.785Z"
      },
      {
        "duration": 18,
        "start_time": "2023-01-22T13:06:42.820Z"
      },
      {
        "duration": 29,
        "start_time": "2023-01-22T13:06:42.840Z"
      },
      {
        "duration": 2200,
        "start_time": "2023-01-22T13:06:42.871Z"
      },
      {
        "duration": 3,
        "start_time": "2023-01-22T13:06:45.073Z"
      },
      {
        "duration": 81,
        "start_time": "2023-01-22T13:06:45.077Z"
      },
      {
        "duration": 8,
        "start_time": "2023-01-22T13:06:45.160Z"
      },
      {
        "duration": 31,
        "start_time": "2023-01-22T13:06:45.170Z"
      },
      {
        "duration": 39,
        "start_time": "2023-01-22T13:06:45.203Z"
      },
      {
        "duration": 40,
        "start_time": "2023-01-22T13:06:45.243Z"
      },
      {
        "duration": 36,
        "start_time": "2023-01-22T13:06:45.284Z"
      },
      {
        "duration": 124,
        "start_time": "2023-01-22T13:06:45.321Z"
      },
      {
        "duration": 8,
        "start_time": "2023-01-22T13:06:45.447Z"
      },
      {
        "duration": 43,
        "start_time": "2023-01-22T13:06:45.456Z"
      },
      {
        "duration": 33,
        "start_time": "2023-01-22T13:06:45.501Z"
      },
      {
        "duration": 19,
        "start_time": "2023-01-22T13:06:45.536Z"
      },
      {
        "duration": 33,
        "start_time": "2023-01-22T13:06:45.557Z"
      },
      {
        "duration": 34,
        "start_time": "2023-01-22T13:06:45.592Z"
      },
      {
        "duration": 34,
        "start_time": "2023-01-22T13:06:45.628Z"
      },
      {
        "duration": 363,
        "start_time": "2023-01-22T13:06:45.663Z"
      },
      {
        "duration": 7,
        "start_time": "2023-01-22T13:06:46.028Z"
      },
      {
        "duration": 40,
        "start_time": "2023-01-22T13:06:46.037Z"
      },
      {
        "duration": 109,
        "start_time": "2023-01-22T13:06:46.079Z"
      },
      {
        "duration": 745,
        "start_time": "2023-01-22T14:10:28.981Z"
      },
      {
        "duration": 29,
        "start_time": "2023-01-22T14:10:29.728Z"
      },
      {
        "duration": 15,
        "start_time": "2023-01-22T14:10:29.760Z"
      },
      {
        "duration": 46,
        "start_time": "2023-01-22T14:10:29.778Z"
      },
      {
        "duration": 2135,
        "start_time": "2023-01-22T14:10:29.825Z"
      },
      {
        "duration": 2,
        "start_time": "2023-01-22T14:10:31.963Z"
      },
      {
        "duration": 76,
        "start_time": "2023-01-22T14:10:31.967Z"
      },
      {
        "duration": 10,
        "start_time": "2023-01-22T14:10:32.044Z"
      },
      {
        "duration": 16,
        "start_time": "2023-01-22T14:10:32.056Z"
      },
      {
        "duration": 30,
        "start_time": "2023-01-22T14:10:32.075Z"
      },
      {
        "duration": 7,
        "start_time": "2023-01-22T14:10:32.107Z"
      },
      {
        "duration": 12,
        "start_time": "2023-01-22T14:10:32.117Z"
      },
      {
        "duration": 127,
        "start_time": "2023-01-22T14:10:32.130Z"
      },
      {
        "duration": 6,
        "start_time": "2023-01-22T14:10:32.259Z"
      },
      {
        "duration": 54,
        "start_time": "2023-01-22T14:10:32.267Z"
      },
      {
        "duration": 74,
        "start_time": "2023-01-22T14:10:32.323Z"
      },
      {
        "duration": 15,
        "start_time": "2023-01-22T14:10:32.399Z"
      },
      {
        "duration": 26,
        "start_time": "2023-01-22T14:10:32.416Z"
      },
      {
        "duration": 14,
        "start_time": "2023-01-22T14:10:32.444Z"
      },
      {
        "duration": 28,
        "start_time": "2023-01-22T14:10:32.459Z"
      },
      {
        "duration": 323,
        "start_time": "2023-01-22T14:10:32.489Z"
      },
      {
        "duration": 7,
        "start_time": "2023-01-22T14:10:32.814Z"
      },
      {
        "duration": 59,
        "start_time": "2023-01-22T14:10:32.822Z"
      },
      {
        "duration": 43,
        "start_time": "2023-01-22T14:10:32.883Z"
      },
      {
        "duration": 3,
        "start_time": "2023-01-22T14:10:40.259Z"
      },
      {
        "duration": 25,
        "start_time": "2023-01-22T14:15:31.809Z"
      },
      {
        "duration": 6,
        "start_time": "2023-01-22T14:15:58.368Z"
      },
      {
        "duration": 46,
        "start_time": "2023-01-22T16:27:44.961Z"
      },
      {
        "duration": 933,
        "start_time": "2023-01-22T16:27:54.921Z"
      },
      {
        "duration": 28,
        "start_time": "2023-01-22T16:27:55.857Z"
      },
      {
        "duration": 14,
        "start_time": "2023-01-22T16:27:55.887Z"
      },
      {
        "duration": 28,
        "start_time": "2023-01-22T16:27:55.903Z"
      },
      {
        "duration": 1983,
        "start_time": "2023-01-22T16:27:55.932Z"
      },
      {
        "duration": 2,
        "start_time": "2023-01-22T16:27:57.917Z"
      },
      {
        "duration": 63,
        "start_time": "2023-01-22T16:27:57.921Z"
      },
      {
        "duration": 8,
        "start_time": "2023-01-22T16:27:57.985Z"
      },
      {
        "duration": 13,
        "start_time": "2023-01-22T16:27:57.994Z"
      },
      {
        "duration": 9,
        "start_time": "2023-01-22T16:27:58.009Z"
      },
      {
        "duration": 12,
        "start_time": "2023-01-22T16:27:58.020Z"
      },
      {
        "duration": 13,
        "start_time": "2023-01-22T16:27:58.033Z"
      },
      {
        "duration": 126,
        "start_time": "2023-01-22T16:27:58.047Z"
      },
      {
        "duration": 7,
        "start_time": "2023-01-22T16:27:58.175Z"
      },
      {
        "duration": 8,
        "start_time": "2023-01-22T16:27:58.184Z"
      },
      {
        "duration": 10,
        "start_time": "2023-01-22T16:27:58.194Z"
      },
      {
        "duration": 8,
        "start_time": "2023-01-22T16:27:58.226Z"
      },
      {
        "duration": 12,
        "start_time": "2023-01-22T16:27:58.236Z"
      },
      {
        "duration": 6,
        "start_time": "2023-01-22T16:27:58.250Z"
      },
      {
        "duration": 5,
        "start_time": "2023-01-22T16:27:58.258Z"
      },
      {
        "duration": 314,
        "start_time": "2023-01-22T16:27:58.264Z"
      },
      {
        "duration": 6,
        "start_time": "2023-01-22T16:27:58.580Z"
      },
      {
        "duration": 5,
        "start_time": "2023-01-22T16:27:58.587Z"
      },
      {
        "duration": 43,
        "start_time": "2023-01-22T16:27:58.594Z"
      },
      {
        "duration": 5,
        "start_time": "2023-01-22T16:27:58.639Z"
      },
      {
        "duration": 7,
        "start_time": "2023-01-22T16:27:58.646Z"
      },
      {
        "duration": 43,
        "start_time": "2023-01-22T16:27:58.654Z"
      },
      {
        "duration": 727,
        "start_time": "2023-01-22T16:41:15.409Z"
      },
      {
        "duration": 32,
        "start_time": "2023-01-22T16:41:16.139Z"
      },
      {
        "duration": 16,
        "start_time": "2023-01-22T16:41:16.173Z"
      },
      {
        "duration": 46,
        "start_time": "2023-01-22T16:41:16.191Z"
      },
      {
        "duration": 2024,
        "start_time": "2023-01-22T16:41:16.239Z"
      },
      {
        "duration": 2,
        "start_time": "2023-01-22T16:41:18.265Z"
      },
      {
        "duration": 54,
        "start_time": "2023-01-22T16:41:18.268Z"
      },
      {
        "duration": 7,
        "start_time": "2023-01-22T16:41:18.323Z"
      },
      {
        "duration": 8,
        "start_time": "2023-01-22T16:41:18.332Z"
      },
      {
        "duration": 6,
        "start_time": "2023-01-22T16:41:18.342Z"
      },
      {
        "duration": 5,
        "start_time": "2023-01-22T16:41:18.350Z"
      },
      {
        "duration": 9,
        "start_time": "2023-01-22T16:41:18.357Z"
      },
      {
        "duration": 142,
        "start_time": "2023-01-22T16:41:18.367Z"
      },
      {
        "duration": 15,
        "start_time": "2023-01-22T16:41:18.512Z"
      },
      {
        "duration": 6,
        "start_time": "2023-01-22T16:41:18.529Z"
      },
      {
        "duration": 12,
        "start_time": "2023-01-22T16:41:18.537Z"
      },
      {
        "duration": 7,
        "start_time": "2023-01-22T16:41:18.550Z"
      },
      {
        "duration": 12,
        "start_time": "2023-01-22T16:41:18.559Z"
      },
      {
        "duration": 6,
        "start_time": "2023-01-22T16:41:18.573Z"
      },
      {
        "duration": 5,
        "start_time": "2023-01-22T16:41:18.581Z"
      },
      {
        "duration": 385,
        "start_time": "2023-01-22T16:41:18.588Z"
      },
      {
        "duration": 7,
        "start_time": "2023-01-22T16:41:18.974Z"
      },
      {
        "duration": 8,
        "start_time": "2023-01-22T16:41:18.983Z"
      },
      {
        "duration": 59,
        "start_time": "2023-01-22T16:41:18.993Z"
      },
      {
        "duration": 5,
        "start_time": "2023-01-22T16:41:19.055Z"
      },
      {
        "duration": 8,
        "start_time": "2023-01-22T16:41:19.062Z"
      },
      {
        "duration": 34,
        "start_time": "2023-01-22T16:41:19.071Z"
      },
      {
        "duration": 23,
        "start_time": "2023-01-22T16:41:19.106Z"
      },
      {
        "duration": 5,
        "start_time": "2023-01-22T16:41:19.130Z"
      },
      {
        "duration": 3,
        "start_time": "2023-01-22T16:43:54.599Z"
      },
      {
        "duration": 40,
        "start_time": "2023-01-22T16:45:22.183Z"
      },
      {
        "duration": 728,
        "start_time": "2023-01-22T16:46:00.588Z"
      },
      {
        "duration": 33,
        "start_time": "2023-01-22T16:46:01.318Z"
      },
      {
        "duration": 24,
        "start_time": "2023-01-22T16:46:01.353Z"
      },
      {
        "duration": 41,
        "start_time": "2023-01-22T16:46:01.380Z"
      },
      {
        "duration": 2016,
        "start_time": "2023-01-22T16:46:01.423Z"
      },
      {
        "duration": 3,
        "start_time": "2023-01-22T16:46:03.441Z"
      },
      {
        "duration": 86,
        "start_time": "2023-01-22T16:46:03.445Z"
      },
      {
        "duration": 8,
        "start_time": "2023-01-22T16:46:03.533Z"
      },
      {
        "duration": 22,
        "start_time": "2023-01-22T16:46:03.542Z"
      },
      {
        "duration": 30,
        "start_time": "2023-01-22T16:46:03.566Z"
      },
      {
        "duration": 11,
        "start_time": "2023-01-22T16:46:03.597Z"
      },
      {
        "duration": 29,
        "start_time": "2023-01-22T16:46:03.610Z"
      },
      {
        "duration": 117,
        "start_time": "2023-01-22T16:46:03.641Z"
      },
      {
        "duration": 6,
        "start_time": "2023-01-22T16:46:03.760Z"
      },
      {
        "duration": 7,
        "start_time": "2023-01-22T16:46:03.768Z"
      },
      {
        "duration": 10,
        "start_time": "2023-01-22T16:46:03.777Z"
      },
      {
        "duration": 8,
        "start_time": "2023-01-22T16:46:03.789Z"
      },
      {
        "duration": 35,
        "start_time": "2023-01-22T16:46:03.798Z"
      },
      {
        "duration": 6,
        "start_time": "2023-01-22T16:46:03.835Z"
      },
      {
        "duration": 5,
        "start_time": "2023-01-22T16:46:03.843Z"
      },
      {
        "duration": 311,
        "start_time": "2023-01-22T16:46:03.850Z"
      },
      {
        "duration": 6,
        "start_time": "2023-01-22T16:46:04.163Z"
      },
      {
        "duration": 9,
        "start_time": "2023-01-22T16:46:04.171Z"
      },
      {
        "duration": 26,
        "start_time": "2023-01-22T16:46:04.181Z"
      },
      {
        "duration": 5,
        "start_time": "2023-01-22T16:46:04.226Z"
      },
      {
        "duration": 5,
        "start_time": "2023-01-22T16:46:04.232Z"
      },
      {
        "duration": 34,
        "start_time": "2023-01-22T16:46:04.238Z"
      },
      {
        "duration": 5,
        "start_time": "2023-01-22T16:46:04.275Z"
      },
      {
        "duration": 28,
        "start_time": "2023-01-22T16:46:04.281Z"
      },
      {
        "duration": 35,
        "start_time": "2023-01-22T16:46:04.311Z"
      },
      {
        "duration": 75,
        "start_time": "2023-01-22T16:49:08.070Z"
      },
      {
        "duration": 9,
        "start_time": "2023-01-22T16:51:51.258Z"
      },
      {
        "duration": 10,
        "start_time": "2023-01-22T16:52:01.282Z"
      },
      {
        "duration": 18,
        "start_time": "2023-01-22T16:52:10.479Z"
      },
      {
        "duration": 88,
        "start_time": "2023-01-22T17:26:30.565Z"
      },
      {
        "duration": 133,
        "start_time": "2023-01-22T17:27:55.400Z"
      },
      {
        "duration": 147,
        "start_time": "2023-01-22T17:27:59.696Z"
      },
      {
        "duration": 158,
        "start_time": "2023-01-22T17:28:05.849Z"
      },
      {
        "duration": 10,
        "start_time": "2023-01-22T17:29:27.833Z"
      },
      {
        "duration": 179,
        "start_time": "2023-01-22T17:30:27.720Z"
      },
      {
        "duration": 9,
        "start_time": "2023-01-22T17:34:33.576Z"
      },
      {
        "duration": 239,
        "start_time": "2023-01-22T17:35:22.809Z"
      },
      {
        "duration": 10,
        "start_time": "2023-01-22T17:35:46.155Z"
      },
      {
        "duration": 164,
        "start_time": "2023-01-22T17:38:08.022Z"
      },
      {
        "duration": 158,
        "start_time": "2023-01-22T17:38:52.906Z"
      },
      {
        "duration": 9,
        "start_time": "2023-01-22T17:39:20.771Z"
      },
      {
        "duration": 214,
        "start_time": "2023-01-22T17:40:49.624Z"
      },
      {
        "duration": 143,
        "start_time": "2023-01-22T17:41:55.633Z"
      },
      {
        "duration": 9,
        "start_time": "2023-01-22T17:42:16.047Z"
      },
      {
        "duration": 197,
        "start_time": "2023-01-22T17:47:26.153Z"
      },
      {
        "duration": 12,
        "start_time": "2023-01-22T17:47:49.191Z"
      },
      {
        "duration": 159,
        "start_time": "2023-01-22T17:48:53.700Z"
      },
      {
        "duration": 9,
        "start_time": "2023-01-22T17:49:11.636Z"
      },
      {
        "duration": 7,
        "start_time": "2023-01-22T17:50:26.486Z"
      },
      {
        "duration": 144,
        "start_time": "2023-01-22T17:50:35.477Z"
      },
      {
        "duration": 113,
        "start_time": "2023-01-22T17:51:04.670Z"
      },
      {
        "duration": 10,
        "start_time": "2023-01-22T17:51:17.870Z"
      },
      {
        "duration": 8,
        "start_time": "2023-01-22T17:51:22.277Z"
      },
      {
        "duration": 8,
        "start_time": "2023-01-22T17:53:23.547Z"
      },
      {
        "duration": 162,
        "start_time": "2023-01-22T17:53:27.636Z"
      },
      {
        "duration": 10,
        "start_time": "2023-01-22T17:54:36.637Z"
      },
      {
        "duration": 11,
        "start_time": "2023-01-22T17:56:30.529Z"
      },
      {
        "duration": 153,
        "start_time": "2023-01-22T17:56:41.133Z"
      },
      {
        "duration": 8,
        "start_time": "2023-01-22T17:57:37.980Z"
      },
      {
        "duration": 10,
        "start_time": "2023-01-22T17:57:42.932Z"
      },
      {
        "duration": 254,
        "start_time": "2023-01-22T18:46:22.907Z"
      },
      {
        "duration": 10,
        "start_time": "2023-01-22T18:46:37.667Z"
      },
      {
        "duration": 187,
        "start_time": "2023-01-22T18:47:46.391Z"
      },
      {
        "duration": 9,
        "start_time": "2023-01-22T18:48:07.412Z"
      },
      {
        "duration": 9,
        "start_time": "2023-01-22T18:49:14.757Z"
      },
      {
        "duration": 170,
        "start_time": "2023-01-22T18:50:44.026Z"
      },
      {
        "duration": 9,
        "start_time": "2023-01-22T18:52:42.979Z"
      },
      {
        "duration": 6,
        "start_time": "2023-01-22T18:52:52.546Z"
      },
      {
        "duration": 160,
        "start_time": "2023-01-22T18:54:10.440Z"
      },
      {
        "duration": 24,
        "start_time": "2023-01-22T18:54:44.216Z"
      },
      {
        "duration": 404,
        "start_time": "2023-01-22T18:56:41.393Z"
      },
      {
        "duration": 9,
        "start_time": "2023-01-22T18:59:22.451Z"
      },
      {
        "duration": 8,
        "start_time": "2023-01-22T19:22:15.042Z"
      },
      {
        "duration": 2,
        "start_time": "2023-01-22T19:23:29.140Z"
      },
      {
        "duration": 197,
        "start_time": "2023-01-22T19:30:26.044Z"
      },
      {
        "duration": 5,
        "start_time": "2023-01-22T19:30:55.841Z"
      },
      {
        "duration": 6,
        "start_time": "2023-01-22T19:31:17.924Z"
      },
      {
        "duration": 11,
        "start_time": "2023-01-22T19:32:20.422Z"
      },
      {
        "duration": 202,
        "start_time": "2023-01-22T19:32:27.268Z"
      },
      {
        "duration": 5,
        "start_time": "2023-01-22T19:36:04.967Z"
      },
      {
        "duration": 9,
        "start_time": "2023-01-22T20:17:09.279Z"
      },
      {
        "duration": 228,
        "start_time": "2023-01-22T20:17:23.893Z"
      },
      {
        "duration": 8,
        "start_time": "2023-01-22T20:17:48.722Z"
      },
      {
        "duration": 12,
        "start_time": "2023-01-22T20:17:53.612Z"
      },
      {
        "duration": 218,
        "start_time": "2023-01-22T20:19:13.344Z"
      },
      {
        "duration": 8,
        "start_time": "2023-01-22T20:19:48.344Z"
      },
      {
        "duration": 232,
        "start_time": "2023-01-22T20:21:27.066Z"
      },
      {
        "duration": 6,
        "start_time": "2023-01-22T20:21:46.544Z"
      },
      {
        "duration": 145,
        "start_time": "2023-01-22T20:23:25.185Z"
      },
      {
        "duration": 10,
        "start_time": "2023-01-22T20:24:01.216Z"
      },
      {
        "duration": 189,
        "start_time": "2023-01-22T20:24:37.749Z"
      },
      {
        "duration": 6,
        "start_time": "2023-01-22T20:24:58.104Z"
      },
      {
        "duration": 16,
        "start_time": "2023-01-22T20:26:27.371Z"
      },
      {
        "duration": 184,
        "start_time": "2023-01-22T20:27:10.152Z"
      },
      {
        "duration": 11,
        "start_time": "2023-01-22T20:28:09.257Z"
      },
      {
        "duration": 205,
        "start_time": "2023-01-22T20:28:16.379Z"
      },
      {
        "duration": 181,
        "start_time": "2023-01-22T20:31:04.811Z"
      },
      {
        "duration": 72,
        "start_time": "2023-01-22T20:33:00.053Z"
      },
      {
        "duration": 15,
        "start_time": "2023-01-22T20:33:06.972Z"
      },
      {
        "duration": 13,
        "start_time": "2023-01-22T20:33:21.077Z"
      },
      {
        "duration": 19,
        "start_time": "2023-01-22T20:33:24.324Z"
      },
      {
        "duration": 12,
        "start_time": "2023-01-22T20:33:44.764Z"
      },
      {
        "duration": 34,
        "start_time": "2023-01-22T20:37:56.053Z"
      },
      {
        "duration": 24,
        "start_time": "2023-01-22T20:40:14.495Z"
      },
      {
        "duration": 20,
        "start_time": "2023-01-22T20:40:18.071Z"
      },
      {
        "duration": 9,
        "start_time": "2023-01-22T20:40:34.516Z"
      },
      {
        "duration": 10,
        "start_time": "2023-01-22T20:40:44.608Z"
      },
      {
        "duration": 783,
        "start_time": "2023-01-22T21:06:57.731Z"
      },
      {
        "duration": 32,
        "start_time": "2023-01-22T21:06:58.516Z"
      },
      {
        "duration": 15,
        "start_time": "2023-01-22T21:06:58.550Z"
      },
      {
        "duration": 25,
        "start_time": "2023-01-22T21:06:58.567Z"
      },
      {
        "duration": 2005,
        "start_time": "2023-01-22T21:06:58.594Z"
      },
      {
        "duration": 2,
        "start_time": "2023-01-22T21:07:00.601Z"
      },
      {
        "duration": 74,
        "start_time": "2023-01-22T21:07:00.605Z"
      },
      {
        "duration": 8,
        "start_time": "2023-01-22T21:07:00.680Z"
      },
      {
        "duration": 24,
        "start_time": "2023-01-22T21:07:00.689Z"
      },
      {
        "duration": 47,
        "start_time": "2023-01-22T21:07:00.714Z"
      },
      {
        "duration": 9,
        "start_time": "2023-01-22T21:07:00.762Z"
      },
      {
        "duration": 28,
        "start_time": "2023-01-22T21:07:00.772Z"
      },
      {
        "duration": 140,
        "start_time": "2023-01-22T21:07:00.801Z"
      },
      {
        "duration": 8,
        "start_time": "2023-01-22T21:07:00.945Z"
      },
      {
        "duration": 23,
        "start_time": "2023-01-22T21:07:00.954Z"
      },
      {
        "duration": 17,
        "start_time": "2023-01-22T21:07:00.978Z"
      },
      {
        "duration": 16,
        "start_time": "2023-01-22T21:07:00.997Z"
      },
      {
        "duration": 31,
        "start_time": "2023-01-22T21:07:01.015Z"
      },
      {
        "duration": 21,
        "start_time": "2023-01-22T21:07:01.048Z"
      },
      {
        "duration": 13,
        "start_time": "2023-01-22T21:07:01.071Z"
      },
      {
        "duration": 298,
        "start_time": "2023-01-22T21:07:01.086Z"
      },
      {
        "duration": 7,
        "start_time": "2023-01-22T21:07:01.386Z"
      },
      {
        "duration": 11,
        "start_time": "2023-01-22T21:07:01.394Z"
      },
      {
        "duration": 50,
        "start_time": "2023-01-22T21:07:01.407Z"
      },
      {
        "duration": 10,
        "start_time": "2023-01-22T21:07:01.459Z"
      },
      {
        "duration": 5,
        "start_time": "2023-01-22T21:07:01.471Z"
      },
      {
        "duration": 48,
        "start_time": "2023-01-22T21:07:01.478Z"
      },
      {
        "duration": 6,
        "start_time": "2023-01-22T21:07:01.528Z"
      },
      {
        "duration": 28,
        "start_time": "2023-01-22T21:07:01.536Z"
      },
      {
        "duration": 49,
        "start_time": "2023-01-22T21:07:01.565Z"
      },
      {
        "duration": 14,
        "start_time": "2023-01-22T21:07:01.616Z"
      },
      {
        "duration": 12,
        "start_time": "2023-01-22T21:07:01.632Z"
      },
      {
        "duration": 102,
        "start_time": "2023-01-22T21:07:01.646Z"
      },
      {
        "duration": 145,
        "start_time": "2023-01-22T21:07:01.750Z"
      },
      {
        "duration": 8,
        "start_time": "2023-01-22T21:07:01.897Z"
      },
      {
        "duration": 14,
        "start_time": "2023-01-22T21:07:01.907Z"
      },
      {
        "duration": 168,
        "start_time": "2023-01-22T21:07:01.923Z"
      },
      {
        "duration": 10,
        "start_time": "2023-01-22T21:07:02.092Z"
      },
      {
        "duration": 3,
        "start_time": "2023-01-22T21:07:02.104Z"
      },
      {
        "duration": 146,
        "start_time": "2023-01-22T21:07:02.121Z"
      },
      {
        "duration": 10,
        "start_time": "2023-01-22T21:07:02.272Z"
      },
      {
        "duration": 4,
        "start_time": "2023-01-22T21:07:02.283Z"
      },
      {
        "duration": 222,
        "start_time": "2023-01-22T21:07:02.289Z"
      },
      {
        "duration": 9,
        "start_time": "2023-01-22T21:07:02.512Z"
      },
      {
        "duration": 2,
        "start_time": "2023-01-22T21:07:02.523Z"
      },
      {
        "duration": 243,
        "start_time": "2023-01-22T21:07:02.527Z"
      },
      {
        "duration": 7,
        "start_time": "2023-01-22T21:07:02.772Z"
      },
      {
        "duration": 2,
        "start_time": "2023-01-22T21:07:02.780Z"
      },
      {
        "duration": 139,
        "start_time": "2023-01-22T21:07:02.784Z"
      },
      {
        "duration": 9,
        "start_time": "2023-01-22T21:07:02.924Z"
      },
      {
        "duration": 3,
        "start_time": "2023-01-22T21:07:02.934Z"
      },
      {
        "duration": 163,
        "start_time": "2023-01-22T21:07:02.938Z"
      },
      {
        "duration": 8,
        "start_time": "2023-01-22T21:07:03.103Z"
      },
      {
        "duration": 2,
        "start_time": "2023-01-22T21:07:03.121Z"
      },
      {
        "duration": 123,
        "start_time": "2023-01-22T21:07:03.125Z"
      },
      {
        "duration": 8,
        "start_time": "2023-01-22T21:07:03.250Z"
      },
      {
        "duration": 6,
        "start_time": "2023-01-22T21:07:03.259Z"
      },
      {
        "duration": 179,
        "start_time": "2023-01-22T21:07:03.266Z"
      },
      {
        "duration": 8,
        "start_time": "2023-01-22T21:07:03.446Z"
      },
      {
        "duration": 2,
        "start_time": "2023-01-22T21:07:03.456Z"
      },
      {
        "duration": 176,
        "start_time": "2023-01-22T21:07:03.459Z"
      },
      {
        "duration": 9,
        "start_time": "2023-01-22T21:07:03.637Z"
      },
      {
        "duration": 2,
        "start_time": "2023-01-22T21:07:03.648Z"
      },
      {
        "duration": 172,
        "start_time": "2023-01-22T21:07:03.652Z"
      },
      {
        "duration": 9,
        "start_time": "2023-01-22T21:07:03.826Z"
      },
      {
        "duration": 1,
        "start_time": "2023-01-22T21:07:03.837Z"
      },
      {
        "duration": 170,
        "start_time": "2023-01-22T21:07:03.840Z"
      },
      {
        "duration": 16,
        "start_time": "2023-01-22T21:07:04.012Z"
      },
      {
        "duration": 2,
        "start_time": "2023-01-22T21:07:04.029Z"
      },
      {
        "duration": 179,
        "start_time": "2023-01-22T21:07:04.033Z"
      },
      {
        "duration": 10,
        "start_time": "2023-01-22T21:07:04.214Z"
      },
      {
        "duration": 8,
        "start_time": "2023-01-22T21:07:04.225Z"
      },
      {
        "duration": 157,
        "start_time": "2023-01-22T21:07:04.234Z"
      },
      {
        "duration": 12,
        "start_time": "2023-01-22T21:07:04.392Z"
      },
      {
        "duration": 15,
        "start_time": "2023-01-22T21:07:04.406Z"
      },
      {
        "duration": 534,
        "start_time": "2023-01-22T21:07:04.423Z"
      },
      {
        "duration": 3,
        "start_time": "2023-01-22T21:07:04.958Z"
      },
      {
        "duration": 11,
        "start_time": "2023-01-22T21:07:04.963Z"
      },
      {
        "duration": 2,
        "start_time": "2023-01-22T21:07:04.976Z"
      },
      {
        "duration": 5,
        "start_time": "2023-01-22T21:07:04.980Z"
      },
      {
        "duration": 8,
        "start_time": "2023-01-22T21:07:04.987Z"
      },
      {
        "duration": 237,
        "start_time": "2023-01-22T21:07:04.997Z"
      },
      {
        "duration": 5,
        "start_time": "2023-01-22T21:07:05.236Z"
      },
      {
        "duration": 3,
        "start_time": "2023-01-22T21:07:05.242Z"
      },
      {
        "duration": 213,
        "start_time": "2023-01-22T21:07:05.247Z"
      },
      {
        "duration": 5,
        "start_time": "2023-01-22T21:07:05.462Z"
      },
      {
        "duration": 6,
        "start_time": "2023-01-22T21:07:05.469Z"
      },
      {
        "duration": 214,
        "start_time": "2023-01-22T21:07:05.477Z"
      },
      {
        "duration": 6,
        "start_time": "2023-01-22T21:07:05.692Z"
      },
      {
        "duration": 5,
        "start_time": "2023-01-22T21:07:05.699Z"
      },
      {
        "duration": 210,
        "start_time": "2023-01-22T21:07:05.706Z"
      },
      {
        "duration": 6,
        "start_time": "2023-01-22T21:07:05.920Z"
      },
      {
        "duration": 11,
        "start_time": "2023-01-22T21:07:05.927Z"
      },
      {
        "duration": 118,
        "start_time": "2023-01-22T21:07:05.940Z"
      },
      {
        "duration": 4,
        "start_time": "2023-01-22T21:07:06.060Z"
      },
      {
        "duration": 21,
        "start_time": "2023-01-22T21:07:06.066Z"
      },
      {
        "duration": 125,
        "start_time": "2023-01-22T21:07:06.089Z"
      },
      {
        "duration": 5,
        "start_time": "2023-01-22T21:07:06.220Z"
      },
      {
        "duration": 3,
        "start_time": "2023-01-22T21:07:06.227Z"
      },
      {
        "duration": 173,
        "start_time": "2023-01-22T21:07:06.231Z"
      },
      {
        "duration": 5,
        "start_time": "2023-01-22T21:07:06.406Z"
      },
      {
        "duration": 9,
        "start_time": "2023-01-22T21:07:06.413Z"
      },
      {
        "duration": 159,
        "start_time": "2023-01-22T21:07:06.423Z"
      },
      {
        "duration": 3,
        "start_time": "2023-01-22T21:07:06.583Z"
      },
      {
        "duration": 148,
        "start_time": "2023-01-22T21:07:06.587Z"
      },
      {
        "duration": 2,
        "start_time": "2023-01-22T21:07:06.737Z"
      },
      {
        "duration": 7,
        "start_time": "2023-01-22T21:07:06.740Z"
      },
      {
        "duration": 29,
        "start_time": "2023-01-22T21:07:06.748Z"
      },
      {
        "duration": 3,
        "start_time": "2023-01-22T21:07:06.779Z"
      },
      {
        "duration": 6,
        "start_time": "2023-01-22T21:07:06.784Z"
      },
      {
        "duration": 16,
        "start_time": "2023-01-22T21:08:56.931Z"
      },
      {
        "duration": 4,
        "start_time": "2023-01-24T21:26:39.519Z"
      },
      {
        "duration": 47,
        "start_time": "2023-01-24T22:18:42.015Z"
      },
      {
        "duration": 6,
        "start_time": "2023-01-24T22:18:52.328Z"
      },
      {
        "duration": 992,
        "start_time": "2023-01-24T22:19:02.251Z"
      },
      {
        "duration": 31,
        "start_time": "2023-01-24T22:19:03.246Z"
      },
      {
        "duration": 17,
        "start_time": "2023-01-24T22:19:03.279Z"
      },
      {
        "duration": 47,
        "start_time": "2023-01-24T22:19:03.299Z"
      },
      {
        "duration": 2025,
        "start_time": "2023-01-24T22:19:03.348Z"
      },
      {
        "duration": 2,
        "start_time": "2023-01-24T22:19:05.375Z"
      },
      {
        "duration": 87,
        "start_time": "2023-01-24T22:19:05.379Z"
      },
      {
        "duration": 9,
        "start_time": "2023-01-24T22:19:05.467Z"
      },
      {
        "duration": 38,
        "start_time": "2023-01-24T22:19:05.477Z"
      },
      {
        "duration": 32,
        "start_time": "2023-01-24T22:19:05.517Z"
      },
      {
        "duration": 21,
        "start_time": "2023-01-24T22:19:05.551Z"
      },
      {
        "duration": 28,
        "start_time": "2023-01-24T22:19:05.574Z"
      },
      {
        "duration": 117,
        "start_time": "2023-01-24T22:19:05.604Z"
      },
      {
        "duration": 7,
        "start_time": "2023-01-24T22:19:05.722Z"
      },
      {
        "duration": 20,
        "start_time": "2023-01-24T22:19:05.739Z"
      },
      {
        "duration": 24,
        "start_time": "2023-01-24T22:19:05.761Z"
      },
      {
        "duration": 14,
        "start_time": "2023-01-24T22:19:05.786Z"
      },
      {
        "duration": 38,
        "start_time": "2023-01-24T22:19:05.802Z"
      },
      {
        "duration": 16,
        "start_time": "2023-01-24T22:19:05.842Z"
      },
      {
        "duration": 27,
        "start_time": "2023-01-24T22:19:05.860Z"
      },
      {
        "duration": 309,
        "start_time": "2023-01-24T22:19:05.889Z"
      },
      {
        "duration": 6,
        "start_time": "2023-01-24T22:19:06.200Z"
      },
      {
        "duration": 40,
        "start_time": "2023-01-24T22:19:06.208Z"
      },
      {
        "duration": 32,
        "start_time": "2023-01-24T22:19:06.250Z"
      },
      {
        "duration": 5,
        "start_time": "2023-01-24T22:19:06.284Z"
      },
      {
        "duration": 50,
        "start_time": "2023-01-24T22:19:06.291Z"
      },
      {
        "duration": 56,
        "start_time": "2023-01-24T22:19:06.343Z"
      },
      {
        "duration": 7,
        "start_time": "2023-01-24T22:19:06.403Z"
      },
      {
        "duration": 18,
        "start_time": "2023-01-24T22:19:06.412Z"
      },
      {
        "duration": 50,
        "start_time": "2023-01-24T22:19:06.432Z"
      },
      {
        "duration": 19,
        "start_time": "2023-01-24T22:19:06.483Z"
      },
      {
        "duration": 20,
        "start_time": "2023-01-24T22:19:06.503Z"
      },
      {
        "duration": 123,
        "start_time": "2023-01-24T22:19:06.524Z"
      },
      {
        "duration": 154,
        "start_time": "2023-01-24T22:19:06.648Z"
      },
      {
        "duration": 8,
        "start_time": "2023-01-24T22:19:06.805Z"
      },
      {
        "duration": 10,
        "start_time": "2023-01-24T22:19:06.815Z"
      },
      {
        "duration": 169,
        "start_time": "2023-01-24T22:19:06.827Z"
      },
      {
        "duration": 9,
        "start_time": "2023-01-24T22:19:06.999Z"
      },
      {
        "duration": 17,
        "start_time": "2023-01-24T22:19:07.010Z"
      },
      {
        "duration": 177,
        "start_time": "2023-01-24T22:19:07.029Z"
      },
      {
        "duration": 10,
        "start_time": "2023-01-24T22:19:07.208Z"
      },
      {
        "duration": 15,
        "start_time": "2023-01-24T22:19:07.220Z"
      },
      {
        "duration": 274,
        "start_time": "2023-01-24T22:19:07.240Z"
      },
      {
        "duration": 9,
        "start_time": "2023-01-24T22:19:07.516Z"
      },
      {
        "duration": 7,
        "start_time": "2023-01-24T22:19:07.539Z"
      },
      {
        "duration": 160,
        "start_time": "2023-01-24T22:19:07.548Z"
      },
      {
        "duration": 9,
        "start_time": "2023-01-24T22:19:07.710Z"
      },
      {
        "duration": 2,
        "start_time": "2023-01-24T22:19:07.721Z"
      },
      {
        "duration": 130,
        "start_time": "2023-01-24T22:19:07.739Z"
      },
      {
        "duration": 10,
        "start_time": "2023-01-24T22:19:07.871Z"
      },
      {
        "duration": 3,
        "start_time": "2023-01-24T22:19:07.883Z"
      },
      {
        "duration": 175,
        "start_time": "2023-01-24T22:19:07.887Z"
      },
      {
        "duration": 9,
        "start_time": "2023-01-24T22:19:08.064Z"
      },
      {
        "duration": 2,
        "start_time": "2023-01-24T22:19:08.075Z"
      },
      {
        "duration": 142,
        "start_time": "2023-01-24T22:19:08.078Z"
      },
      {
        "duration": 21,
        "start_time": "2023-01-24T22:19:08.223Z"
      },
      {
        "duration": 11,
        "start_time": "2023-01-24T22:19:08.246Z"
      },
      {
        "duration": 171,
        "start_time": "2023-01-24T22:19:08.259Z"
      },
      {
        "duration": 15,
        "start_time": "2023-01-24T22:19:08.432Z"
      },
      {
        "duration": 7,
        "start_time": "2023-01-24T22:19:08.449Z"
      },
      {
        "duration": 162,
        "start_time": "2023-01-24T22:19:08.458Z"
      },
      {
        "duration": 23,
        "start_time": "2023-01-24T22:19:08.622Z"
      },
      {
        "duration": 2,
        "start_time": "2023-01-24T22:19:08.648Z"
      },
      {
        "duration": 193,
        "start_time": "2023-01-24T22:19:08.652Z"
      },
      {
        "duration": 13,
        "start_time": "2023-01-24T22:19:08.846Z"
      },
      {
        "duration": 5,
        "start_time": "2023-01-24T22:19:08.861Z"
      },
      {
        "duration": 208,
        "start_time": "2023-01-24T22:19:08.869Z"
      },
      {
        "duration": 9,
        "start_time": "2023-01-24T22:19:09.078Z"
      },
      {
        "duration": 4,
        "start_time": "2023-01-24T22:19:09.088Z"
      },
      {
        "duration": 165,
        "start_time": "2023-01-24T22:19:09.094Z"
      },
      {
        "duration": 5,
        "start_time": "2023-01-24T22:19:09.261Z"
      },
      {
        "duration": 42,
        "start_time": "2023-01-24T22:19:09.268Z"
      },
      {
        "duration": 166,
        "start_time": "2023-01-24T22:19:09.312Z"
      },
      {
        "duration": 12,
        "start_time": "2023-01-24T22:19:09.480Z"
      },
      {
        "duration": 3,
        "start_time": "2023-01-24T22:19:09.494Z"
      },
      {
        "duration": 461,
        "start_time": "2023-01-24T22:19:09.499Z"
      },
      {
        "duration": 3,
        "start_time": "2023-01-24T22:19:09.962Z"
      },
      {
        "duration": 18,
        "start_time": "2023-01-24T22:19:09.967Z"
      },
      {
        "duration": 3,
        "start_time": "2023-01-24T22:19:09.987Z"
      },
      {
        "duration": 5,
        "start_time": "2023-01-24T22:19:09.992Z"
      },
      {
        "duration": 10,
        "start_time": "2023-01-24T22:19:09.998Z"
      },
      {
        "duration": 214,
        "start_time": "2023-01-24T22:19:10.015Z"
      },
      {
        "duration": 12,
        "start_time": "2023-01-24T22:19:10.231Z"
      },
      {
        "duration": 4,
        "start_time": "2023-01-24T22:19:10.245Z"
      },
      {
        "duration": 213,
        "start_time": "2023-01-24T22:19:10.251Z"
      },
      {
        "duration": 5,
        "start_time": "2023-01-24T22:19:10.466Z"
      },
      {
        "duration": 4,
        "start_time": "2023-01-24T22:19:10.472Z"
      },
      {
        "duration": 206,
        "start_time": "2023-01-24T22:19:10.477Z"
      },
      {
        "duration": 5,
        "start_time": "2023-01-24T22:19:10.685Z"
      },
      {
        "duration": 9,
        "start_time": "2023-01-24T22:19:10.692Z"
      },
      {
        "duration": 213,
        "start_time": "2023-01-24T22:19:10.703Z"
      },
      {
        "duration": 5,
        "start_time": "2023-01-24T22:19:10.918Z"
      },
      {
        "duration": 15,
        "start_time": "2023-01-24T22:19:10.925Z"
      },
      {
        "duration": 113,
        "start_time": "2023-01-24T22:19:10.942Z"
      },
      {
        "duration": 5,
        "start_time": "2023-01-24T22:19:11.057Z"
      },
      {
        "duration": 6,
        "start_time": "2023-01-24T22:19:11.063Z"
      },
      {
        "duration": 144,
        "start_time": "2023-01-24T22:19:11.070Z"
      },
      {
        "duration": 5,
        "start_time": "2023-01-24T22:19:11.216Z"
      },
      {
        "duration": 5,
        "start_time": "2023-01-24T22:19:11.223Z"
      },
      {
        "duration": 167,
        "start_time": "2023-01-24T22:19:11.239Z"
      },
      {
        "duration": 2,
        "start_time": "2023-01-24T22:19:11.408Z"
      },
      {
        "duration": 63,
        "start_time": "2023-01-24T22:19:11.412Z"
      },
      {
        "duration": 157,
        "start_time": "2023-01-24T22:19:11.477Z"
      },
      {
        "duration": 2,
        "start_time": "2023-01-24T22:19:11.639Z"
      },
      {
        "duration": 247,
        "start_time": "2023-01-24T22:19:11.643Z"
      },
      {
        "duration": 2,
        "start_time": "2023-01-24T22:19:11.892Z"
      },
      {
        "duration": 6,
        "start_time": "2023-01-24T22:19:11.896Z"
      },
      {
        "duration": 42,
        "start_time": "2023-01-24T22:19:11.903Z"
      },
      {
        "duration": 5,
        "start_time": "2023-01-24T22:19:11.946Z"
      },
      {
        "duration": 28,
        "start_time": "2023-01-24T22:19:11.952Z"
      },
      {
        "duration": 2,
        "start_time": "2023-01-24T22:19:11.982Z"
      },
      {
        "duration": 20,
        "start_time": "2023-01-24T22:19:17.397Z"
      },
      {
        "duration": 78,
        "start_time": "2023-01-24T22:20:34.828Z"
      },
      {
        "duration": 12,
        "start_time": "2023-01-24T22:20:42.084Z"
      },
      {
        "duration": 8,
        "start_time": "2023-01-24T22:21:09.068Z"
      },
      {
        "duration": 9,
        "start_time": "2023-01-24T22:21:13.756Z"
      },
      {
        "duration": 264,
        "start_time": "2023-01-24T22:22:39.077Z"
      },
      {
        "duration": 3,
        "start_time": "2023-01-24T22:25:51.130Z"
      },
      {
        "duration": 7,
        "start_time": "2023-01-24T22:48:17.907Z"
      },
      {
        "duration": 10,
        "start_time": "2023-01-24T22:48:24.037Z"
      },
      {
        "duration": 20,
        "start_time": "2023-01-24T22:49:24.321Z"
      },
      {
        "duration": 8,
        "start_time": "2023-01-24T22:50:14.722Z"
      },
      {
        "duration": 22,
        "start_time": "2023-01-24T22:50:19.567Z"
      },
      {
        "duration": 5,
        "start_time": "2023-01-24T22:51:10.719Z"
      },
      {
        "duration": 8,
        "start_time": "2023-01-24T22:51:47.976Z"
      },
      {
        "duration": 46,
        "start_time": "2023-01-24T22:52:48.526Z"
      },
      {
        "duration": 13,
        "start_time": "2023-01-24T22:54:07.993Z"
      },
      {
        "duration": 15,
        "start_time": "2023-01-24T22:54:55.917Z"
      },
      {
        "duration": 111,
        "start_time": "2023-01-24T22:57:20.274Z"
      },
      {
        "duration": 10,
        "start_time": "2023-01-24T22:57:50.364Z"
      },
      {
        "duration": 27,
        "start_time": "2023-01-24T22:58:12.011Z"
      },
      {
        "duration": 11,
        "start_time": "2023-01-24T22:59:10.391Z"
      },
      {
        "duration": 129,
        "start_time": "2023-01-24T22:59:54.752Z"
      },
      {
        "duration": 8,
        "start_time": "2023-01-24T23:00:46.730Z"
      },
      {
        "duration": 11,
        "start_time": "2023-01-24T23:00:56.706Z"
      },
      {
        "duration": 109,
        "start_time": "2023-01-24T23:02:48.593Z"
      },
      {
        "duration": 11,
        "start_time": "2023-01-24T23:03:44.861Z"
      },
      {
        "duration": 113,
        "start_time": "2023-01-24T23:04:26.916Z"
      },
      {
        "duration": 155,
        "start_time": "2023-01-24T23:06:00.016Z"
      },
      {
        "duration": 11,
        "start_time": "2023-01-24T23:06:35.484Z"
      },
      {
        "duration": 120,
        "start_time": "2023-01-24T23:07:20.142Z"
      },
      {
        "duration": 176,
        "start_time": "2023-01-24T23:07:50.235Z"
      },
      {
        "duration": 9,
        "start_time": "2023-01-24T23:09:05.335Z"
      },
      {
        "duration": 11,
        "start_time": "2023-01-24T23:09:16.858Z"
      },
      {
        "duration": 131,
        "start_time": "2023-01-24T23:10:10.065Z"
      },
      {
        "duration": 163,
        "start_time": "2023-01-24T23:10:54.163Z"
      },
      {
        "duration": 10,
        "start_time": "2023-01-24T23:11:42.184Z"
      },
      {
        "duration": 111,
        "start_time": "2023-01-24T23:12:12.913Z"
      },
      {
        "duration": 11,
        "start_time": "2023-01-24T23:12:56.221Z"
      },
      {
        "duration": 116,
        "start_time": "2023-01-24T23:13:25.567Z"
      },
      {
        "duration": 288,
        "start_time": "2023-01-24T23:13:58.856Z"
      },
      {
        "duration": 7,
        "start_time": "2023-01-24T23:14:51.447Z"
      },
      {
        "duration": 9,
        "start_time": "2023-01-24T23:14:58.650Z"
      },
      {
        "duration": 106,
        "start_time": "2023-01-24T23:15:43.919Z"
      },
      {
        "duration": 164,
        "start_time": "2023-01-24T23:16:05.447Z"
      },
      {
        "duration": 10,
        "start_time": "2023-01-24T23:16:42.944Z"
      },
      {
        "duration": 10,
        "start_time": "2023-01-24T23:16:49.612Z"
      },
      {
        "duration": 15,
        "start_time": "2023-01-24T23:18:51.237Z"
      },
      {
        "duration": 14,
        "start_time": "2023-01-24T23:20:54.479Z"
      },
      {
        "duration": 23,
        "start_time": "2023-01-24T23:22:25.754Z"
      },
      {
        "duration": 25,
        "start_time": "2023-01-24T23:23:12.705Z"
      },
      {
        "duration": 306,
        "start_time": "2023-01-24T23:30:39.811Z"
      },
      {
        "duration": 3,
        "start_time": "2023-01-24T23:30:49.104Z"
      },
      {
        "duration": 8,
        "start_time": "2023-01-24T23:33:33.264Z"
      },
      {
        "duration": 17,
        "start_time": "2023-01-24T23:38:15.885Z"
      },
      {
        "duration": 18,
        "start_time": "2023-01-24T23:39:23.170Z"
      },
      {
        "duration": 19,
        "start_time": "2023-01-24T23:39:31.595Z"
      },
      {
        "duration": 173,
        "start_time": "2023-01-24T23:41:23.632Z"
      },
      {
        "duration": 10,
        "start_time": "2023-01-24T23:41:33.504Z"
      },
      {
        "duration": 9,
        "start_time": "2023-01-24T23:41:54.246Z"
      },
      {
        "duration": 10,
        "start_time": "2023-01-24T23:42:08.456Z"
      },
      {
        "duration": 9,
        "start_time": "2023-01-24T23:42:11.306Z"
      },
      {
        "duration": 5,
        "start_time": "2023-01-24T23:43:11.322Z"
      },
      {
        "duration": 9,
        "start_time": "2023-01-24T23:43:14.338Z"
      },
      {
        "duration": 259,
        "start_time": "2023-01-24T23:43:26.105Z"
      },
      {
        "duration": 265,
        "start_time": "2023-01-24T23:43:58.384Z"
      },
      {
        "duration": 749,
        "start_time": "2023-01-25T10:32:02.291Z"
      },
      {
        "duration": 45,
        "start_time": "2023-01-25T10:32:03.043Z"
      },
      {
        "duration": 19,
        "start_time": "2023-01-25T10:32:03.091Z"
      },
      {
        "duration": 42,
        "start_time": "2023-01-25T10:32:03.111Z"
      },
      {
        "duration": 2136,
        "start_time": "2023-01-25T10:32:03.155Z"
      },
      {
        "duration": 66,
        "start_time": "2023-01-25T10:32:05.294Z"
      },
      {
        "duration": 18,
        "start_time": "2023-01-25T10:32:05.362Z"
      },
      {
        "duration": 23,
        "start_time": "2023-01-25T10:32:05.390Z"
      },
      {
        "duration": 8,
        "start_time": "2023-01-25T10:32:05.415Z"
      },
      {
        "duration": 12,
        "start_time": "2023-01-25T10:32:05.426Z"
      },
      {
        "duration": 13,
        "start_time": "2023-01-25T10:32:05.440Z"
      },
      {
        "duration": 170,
        "start_time": "2023-01-25T10:32:05.455Z"
      },
      {
        "duration": 7,
        "start_time": "2023-01-25T10:32:05.627Z"
      },
      {
        "duration": 12,
        "start_time": "2023-01-25T10:32:05.638Z"
      },
      {
        "duration": 26,
        "start_time": "2023-01-25T10:32:05.673Z"
      },
      {
        "duration": 33,
        "start_time": "2023-01-25T10:32:05.702Z"
      },
      {
        "duration": 4,
        "start_time": "2023-01-25T10:32:05.737Z"
      },
      {
        "duration": 10,
        "start_time": "2023-01-25T10:32:05.743Z"
      },
      {
        "duration": 23,
        "start_time": "2023-01-25T10:32:05.754Z"
      },
      {
        "duration": 19,
        "start_time": "2023-01-25T10:32:05.778Z"
      },
      {
        "duration": 22,
        "start_time": "2023-01-25T10:32:05.799Z"
      },
      {
        "duration": 9,
        "start_time": "2023-01-25T10:32:05.822Z"
      },
      {
        "duration": 8,
        "start_time": "2023-01-25T10:32:05.832Z"
      },
      {
        "duration": 370,
        "start_time": "2023-01-25T10:32:05.841Z"
      },
      {
        "duration": 6,
        "start_time": "2023-01-25T10:32:06.213Z"
      },
      {
        "duration": 40,
        "start_time": "2023-01-25T10:32:06.221Z"
      },
      {
        "duration": 36,
        "start_time": "2023-01-25T10:32:06.263Z"
      },
      {
        "duration": 130,
        "start_time": "2023-01-25T10:32:06.301Z"
      },
      {
        "duration": 9,
        "start_time": "2023-01-25T10:32:06.432Z"
      },
      {
        "duration": 197,
        "start_time": "2023-01-25T10:32:06.442Z"
      },
      {
        "duration": 9,
        "start_time": "2023-01-25T10:32:06.641Z"
      },
      {
        "duration": 138,
        "start_time": "2023-01-25T10:32:06.651Z"
      },
      {
        "duration": 9,
        "start_time": "2023-01-25T10:32:06.791Z"
      },
      {
        "duration": 139,
        "start_time": "2023-01-25T10:32:06.802Z"
      },
      {
        "duration": 262,
        "start_time": "2023-01-25T10:32:06.943Z"
      },
      {
        "duration": 9,
        "start_time": "2023-01-25T10:32:07.206Z"
      },
      {
        "duration": 122,
        "start_time": "2023-01-25T10:32:07.217Z"
      },
      {
        "duration": 161,
        "start_time": "2023-01-25T10:32:07.340Z"
      },
      {
        "duration": 7,
        "start_time": "2023-01-25T10:32:07.503Z"
      },
      {
        "duration": 124,
        "start_time": "2023-01-25T10:32:07.511Z"
      },
      {
        "duration": 183,
        "start_time": "2023-01-25T10:32:07.641Z"
      },
      {
        "duration": 10,
        "start_time": "2023-01-25T10:32:07.826Z"
      },
      {
        "duration": 124,
        "start_time": "2023-01-25T10:32:07.837Z"
      },
      {
        "duration": 18,
        "start_time": "2023-01-25T10:32:07.962Z"
      },
      {
        "duration": 117,
        "start_time": "2023-01-25T10:32:07.989Z"
      },
      {
        "duration": 181,
        "start_time": "2023-01-25T10:32:08.107Z"
      },
      {
        "duration": 8,
        "start_time": "2023-01-25T10:32:08.294Z"
      },
      {
        "duration": 106,
        "start_time": "2023-01-25T10:32:08.304Z"
      },
      {
        "duration": 184,
        "start_time": "2023-01-25T10:32:08.411Z"
      },
      {
        "duration": 9,
        "start_time": "2023-01-25T10:32:08.597Z"
      },
      {
        "duration": 17,
        "start_time": "2023-01-25T10:32:08.607Z"
      },
      {
        "duration": 25,
        "start_time": "2023-01-25T10:32:08.626Z"
      },
      {
        "duration": 5,
        "start_time": "2023-01-25T10:32:08.653Z"
      },
      {
        "duration": 35,
        "start_time": "2023-01-25T10:32:08.667Z"
      },
      {
        "duration": 4,
        "start_time": "2023-01-25T10:32:08.704Z"
      },
      {
        "duration": 17,
        "start_time": "2023-01-25T10:32:08.710Z"
      },
      {
        "duration": 40,
        "start_time": "2023-01-25T10:32:08.729Z"
      },
      {
        "duration": 85,
        "start_time": "2023-01-25T10:32:08.775Z"
      },
      {
        "duration": 159,
        "start_time": "2023-01-25T10:32:08.861Z"
      },
      {
        "duration": 9,
        "start_time": "2023-01-25T10:32:09.022Z"
      },
      {
        "duration": 227,
        "start_time": "2023-01-25T10:32:09.033Z"
      },
      {
        "duration": 28,
        "start_time": "2023-01-25T10:32:09.262Z"
      },
      {
        "duration": 133,
        "start_time": "2023-01-25T10:32:09.292Z"
      },
      {
        "duration": 8,
        "start_time": "2023-01-25T10:32:09.426Z"
      },
      {
        "duration": 189,
        "start_time": "2023-01-25T10:32:09.435Z"
      },
      {
        "duration": 7,
        "start_time": "2023-01-25T10:32:09.626Z"
      },
      {
        "duration": 161,
        "start_time": "2023-01-25T10:32:09.634Z"
      },
      {
        "duration": 7,
        "start_time": "2023-01-25T10:32:09.796Z"
      },
      {
        "duration": 149,
        "start_time": "2023-01-25T10:32:09.805Z"
      },
      {
        "duration": 23,
        "start_time": "2023-01-25T10:32:09.955Z"
      },
      {
        "duration": 148,
        "start_time": "2023-01-25T10:32:09.980Z"
      },
      {
        "duration": 7,
        "start_time": "2023-01-25T10:32:10.130Z"
      },
      {
        "duration": 135,
        "start_time": "2023-01-25T10:32:10.138Z"
      },
      {
        "duration": 16,
        "start_time": "2023-01-25T10:32:10.280Z"
      },
      {
        "duration": 158,
        "start_time": "2023-01-25T10:32:10.298Z"
      },
      {
        "duration": 25,
        "start_time": "2023-01-25T10:32:10.457Z"
      },
      {
        "duration": 152,
        "start_time": "2023-01-25T10:32:10.483Z"
      },
      {
        "duration": 9,
        "start_time": "2023-01-25T10:32:10.636Z"
      },
      {
        "duration": 169,
        "start_time": "2023-01-25T10:32:10.647Z"
      },
      {
        "duration": 8,
        "start_time": "2023-01-25T10:32:10.818Z"
      },
      {
        "duration": 183,
        "start_time": "2023-01-25T10:32:10.827Z"
      },
      {
        "duration": 9,
        "start_time": "2023-01-25T10:32:11.012Z"
      },
      {
        "duration": 236,
        "start_time": "2023-01-25T10:32:11.023Z"
      },
      {
        "duration": 16,
        "start_time": "2023-01-25T10:32:11.268Z"
      },
      {
        "duration": 156,
        "start_time": "2023-01-25T10:32:11.285Z"
      },
      {
        "duration": 12,
        "start_time": "2023-01-25T10:32:11.442Z"
      },
      {
        "duration": 7,
        "start_time": "2023-01-25T10:32:11.468Z"
      },
      {
        "duration": 375,
        "start_time": "2023-01-25T10:32:11.483Z"
      },
      {
        "duration": 24,
        "start_time": "2023-01-25T10:32:11.867Z"
      },
      {
        "duration": 9,
        "start_time": "2023-01-25T10:32:11.893Z"
      },
      {
        "duration": 201,
        "start_time": "2023-01-25T10:32:11.904Z"
      },
      {
        "duration": 4,
        "start_time": "2023-01-25T10:32:12.107Z"
      },
      {
        "duration": 210,
        "start_time": "2023-01-25T10:32:12.113Z"
      },
      {
        "duration": 5,
        "start_time": "2023-01-25T10:32:12.325Z"
      },
      {
        "duration": 213,
        "start_time": "2023-01-25T10:32:12.331Z"
      },
      {
        "duration": 5,
        "start_time": "2023-01-25T10:32:12.545Z"
      },
      {
        "duration": 150,
        "start_time": "2023-01-25T10:32:12.552Z"
      },
      {
        "duration": 5,
        "start_time": "2023-01-25T10:32:12.704Z"
      },
      {
        "duration": 129,
        "start_time": "2023-01-25T10:32:12.711Z"
      },
      {
        "duration": 2,
        "start_time": "2023-01-25T10:32:12.842Z"
      },
      {
        "duration": 148,
        "start_time": "2023-01-25T10:32:12.845Z"
      },
      {
        "duration": 5,
        "start_time": "2023-01-25T10:32:12.995Z"
      },
      {
        "duration": 259,
        "start_time": "2023-01-25T10:32:13.002Z"
      },
      {
        "duration": 4,
        "start_time": "2023-01-25T10:32:13.266Z"
      },
      {
        "duration": 153,
        "start_time": "2023-01-25T10:32:13.279Z"
      },
      {
        "duration": 2,
        "start_time": "2023-01-25T10:32:13.434Z"
      },
      {
        "duration": 156,
        "start_time": "2023-01-25T10:32:13.438Z"
      },
      {
        "duration": 24,
        "start_time": "2023-01-25T10:32:13.596Z"
      },
      {
        "duration": 20,
        "start_time": "2023-01-25T10:32:13.621Z"
      },
      {
        "duration": 7,
        "start_time": "2023-01-25T10:32:13.642Z"
      },
      {
        "duration": 30,
        "start_time": "2023-01-25T10:32:13.650Z"
      },
      {
        "duration": 292,
        "start_time": "2023-01-25T10:32:13.683Z"
      },
      {
        "duration": 5,
        "start_time": "2023-01-25T13:09:06.125Z"
      },
      {
        "duration": 54,
        "start_time": "2023-01-25T13:09:15.539Z"
      },
      {
        "duration": 7,
        "start_time": "2023-01-25T13:09:24.595Z"
      },
      {
        "duration": 2,
        "start_time": "2023-01-25T13:09:25.675Z"
      },
      {
        "duration": 7,
        "start_time": "2023-01-25T13:09:30.155Z"
      },
      {
        "duration": 1015,
        "start_time": "2023-01-25T13:09:34.527Z"
      },
      {
        "duration": 35,
        "start_time": "2023-01-25T13:09:35.544Z"
      },
      {
        "duration": 28,
        "start_time": "2023-01-25T13:09:35.583Z"
      },
      {
        "duration": 30,
        "start_time": "2023-01-25T13:09:35.614Z"
      },
      {
        "duration": 2232,
        "start_time": "2023-01-25T13:09:35.646Z"
      },
      {
        "duration": 58,
        "start_time": "2023-01-25T13:09:37.879Z"
      },
      {
        "duration": 8,
        "start_time": "2023-01-25T13:09:37.939Z"
      },
      {
        "duration": 11,
        "start_time": "2023-01-25T13:09:37.949Z"
      },
      {
        "duration": 22,
        "start_time": "2023-01-25T13:09:37.962Z"
      },
      {
        "duration": 6,
        "start_time": "2023-01-25T13:09:37.987Z"
      },
      {
        "duration": 15,
        "start_time": "2023-01-25T13:09:37.994Z"
      },
      {
        "duration": 131,
        "start_time": "2023-01-25T13:09:38.010Z"
      },
      {
        "duration": 6,
        "start_time": "2023-01-25T13:09:38.143Z"
      },
      {
        "duration": 13,
        "start_time": "2023-01-25T13:09:38.151Z"
      },
      {
        "duration": 34,
        "start_time": "2023-01-25T13:09:38.166Z"
      },
      {
        "duration": 23,
        "start_time": "2023-01-25T13:09:38.202Z"
      },
      {
        "duration": 4,
        "start_time": "2023-01-25T13:09:38.227Z"
      },
      {
        "duration": 13,
        "start_time": "2023-01-25T13:09:38.233Z"
      },
      {
        "duration": 36,
        "start_time": "2023-01-25T13:09:38.248Z"
      },
      {
        "duration": 9,
        "start_time": "2023-01-25T13:09:38.286Z"
      },
      {
        "duration": 19,
        "start_time": "2023-01-25T13:09:38.298Z"
      },
      {
        "duration": 9,
        "start_time": "2023-01-25T13:09:38.319Z"
      },
      {
        "duration": 6,
        "start_time": "2023-01-25T13:09:38.330Z"
      },
      {
        "duration": 356,
        "start_time": "2023-01-25T13:09:38.338Z"
      },
      {
        "duration": 8,
        "start_time": "2023-01-25T13:09:38.696Z"
      },
      {
        "duration": 16,
        "start_time": "2023-01-25T13:09:38.706Z"
      },
      {
        "duration": 90,
        "start_time": "2023-01-25T13:09:38.724Z"
      },
      {
        "duration": 0,
        "start_time": "2023-01-25T13:09:38.819Z"
      },
      {
        "duration": 0,
        "start_time": "2023-01-25T13:09:38.820Z"
      },
      {
        "duration": 0,
        "start_time": "2023-01-25T13:09:38.822Z"
      },
      {
        "duration": 0,
        "start_time": "2023-01-25T13:09:38.823Z"
      },
      {
        "duration": 0,
        "start_time": "2023-01-25T13:09:38.824Z"
      },
      {
        "duration": 0,
        "start_time": "2023-01-25T13:09:38.825Z"
      },
      {
        "duration": 0,
        "start_time": "2023-01-25T13:09:38.826Z"
      },
      {
        "duration": 0,
        "start_time": "2023-01-25T13:09:38.827Z"
      },
      {
        "duration": 0,
        "start_time": "2023-01-25T13:09:38.828Z"
      },
      {
        "duration": 0,
        "start_time": "2023-01-25T13:09:38.830Z"
      },
      {
        "duration": 0,
        "start_time": "2023-01-25T13:09:38.831Z"
      },
      {
        "duration": 0,
        "start_time": "2023-01-25T13:09:38.832Z"
      },
      {
        "duration": 0,
        "start_time": "2023-01-25T13:09:38.834Z"
      },
      {
        "duration": 0,
        "start_time": "2023-01-25T13:09:38.835Z"
      },
      {
        "duration": 0,
        "start_time": "2023-01-25T13:09:38.837Z"
      },
      {
        "duration": 0,
        "start_time": "2023-01-25T13:09:38.839Z"
      },
      {
        "duration": 0,
        "start_time": "2023-01-25T13:09:38.840Z"
      },
      {
        "duration": 0,
        "start_time": "2023-01-25T13:09:38.842Z"
      },
      {
        "duration": 0,
        "start_time": "2023-01-25T13:09:38.843Z"
      },
      {
        "duration": 0,
        "start_time": "2023-01-25T13:09:38.844Z"
      },
      {
        "duration": 0,
        "start_time": "2023-01-25T13:09:38.885Z"
      },
      {
        "duration": 0,
        "start_time": "2023-01-25T13:09:38.887Z"
      },
      {
        "duration": 0,
        "start_time": "2023-01-25T13:09:38.888Z"
      },
      {
        "duration": 0,
        "start_time": "2023-01-25T13:09:38.889Z"
      },
      {
        "duration": 0,
        "start_time": "2023-01-25T13:09:38.891Z"
      },
      {
        "duration": 0,
        "start_time": "2023-01-25T13:09:38.893Z"
      },
      {
        "duration": 0,
        "start_time": "2023-01-25T13:09:38.894Z"
      },
      {
        "duration": 0,
        "start_time": "2023-01-25T13:09:38.895Z"
      },
      {
        "duration": 0,
        "start_time": "2023-01-25T13:09:38.897Z"
      },
      {
        "duration": 0,
        "start_time": "2023-01-25T13:09:38.898Z"
      },
      {
        "duration": 0,
        "start_time": "2023-01-25T13:09:38.900Z"
      },
      {
        "duration": 0,
        "start_time": "2023-01-25T13:09:38.901Z"
      },
      {
        "duration": 1,
        "start_time": "2023-01-25T13:09:38.902Z"
      },
      {
        "duration": 0,
        "start_time": "2023-01-25T13:09:38.904Z"
      },
      {
        "duration": 0,
        "start_time": "2023-01-25T13:09:38.905Z"
      },
      {
        "duration": 0,
        "start_time": "2023-01-25T13:09:38.907Z"
      },
      {
        "duration": 0,
        "start_time": "2023-01-25T13:09:38.908Z"
      },
      {
        "duration": 0,
        "start_time": "2023-01-25T13:09:38.909Z"
      },
      {
        "duration": 0,
        "start_time": "2023-01-25T13:09:38.910Z"
      },
      {
        "duration": 0,
        "start_time": "2023-01-25T13:09:38.912Z"
      },
      {
        "duration": 0,
        "start_time": "2023-01-25T13:09:38.913Z"
      },
      {
        "duration": 0,
        "start_time": "2023-01-25T13:09:38.914Z"
      },
      {
        "duration": 0,
        "start_time": "2023-01-25T13:09:38.915Z"
      },
      {
        "duration": 0,
        "start_time": "2023-01-25T13:09:38.916Z"
      },
      {
        "duration": 0,
        "start_time": "2023-01-25T13:09:38.917Z"
      },
      {
        "duration": 0,
        "start_time": "2023-01-25T13:09:38.918Z"
      },
      {
        "duration": 0,
        "start_time": "2023-01-25T13:09:38.920Z"
      },
      {
        "duration": 0,
        "start_time": "2023-01-25T13:09:38.921Z"
      },
      {
        "duration": 0,
        "start_time": "2023-01-25T13:09:38.922Z"
      },
      {
        "duration": 0,
        "start_time": "2023-01-25T13:09:38.984Z"
      },
      {
        "duration": 0,
        "start_time": "2023-01-25T13:09:38.986Z"
      },
      {
        "duration": 0,
        "start_time": "2023-01-25T13:09:38.987Z"
      },
      {
        "duration": 0,
        "start_time": "2023-01-25T13:09:38.988Z"
      },
      {
        "duration": 0,
        "start_time": "2023-01-25T13:09:38.989Z"
      },
      {
        "duration": 0,
        "start_time": "2023-01-25T13:09:38.990Z"
      },
      {
        "duration": 0,
        "start_time": "2023-01-25T13:09:38.991Z"
      },
      {
        "duration": 0,
        "start_time": "2023-01-25T13:09:38.992Z"
      },
      {
        "duration": 0,
        "start_time": "2023-01-25T13:09:38.993Z"
      },
      {
        "duration": 0,
        "start_time": "2023-01-25T13:09:38.995Z"
      },
      {
        "duration": 0,
        "start_time": "2023-01-25T13:09:38.996Z"
      },
      {
        "duration": 0,
        "start_time": "2023-01-25T13:09:38.997Z"
      },
      {
        "duration": 0,
        "start_time": "2023-01-25T13:09:38.998Z"
      },
      {
        "duration": 0,
        "start_time": "2023-01-25T13:09:39.000Z"
      },
      {
        "duration": 0,
        "start_time": "2023-01-25T13:09:39.001Z"
      },
      {
        "duration": 1,
        "start_time": "2023-01-25T13:09:39.002Z"
      },
      {
        "duration": 0,
        "start_time": "2023-01-25T13:09:39.004Z"
      },
      {
        "duration": 0,
        "start_time": "2023-01-25T13:09:39.005Z"
      },
      {
        "duration": 0,
        "start_time": "2023-01-25T13:09:39.007Z"
      },
      {
        "duration": 0,
        "start_time": "2023-01-25T13:09:39.009Z"
      },
      {
        "duration": 0,
        "start_time": "2023-01-25T13:09:39.011Z"
      },
      {
        "duration": 0,
        "start_time": "2023-01-25T13:09:39.013Z"
      },
      {
        "duration": 0,
        "start_time": "2023-01-25T13:09:39.014Z"
      },
      {
        "duration": 0,
        "start_time": "2023-01-25T13:09:39.015Z"
      },
      {
        "duration": 0,
        "start_time": "2023-01-25T13:09:39.017Z"
      },
      {
        "duration": 0,
        "start_time": "2023-01-25T13:09:39.018Z"
      },
      {
        "duration": 0,
        "start_time": "2023-01-25T13:09:39.020Z"
      },
      {
        "duration": 0,
        "start_time": "2023-01-25T13:09:39.085Z"
      },
      {
        "duration": 0,
        "start_time": "2023-01-25T13:09:39.087Z"
      },
      {
        "duration": 0,
        "start_time": "2023-01-25T13:09:39.088Z"
      },
      {
        "duration": 0,
        "start_time": "2023-01-25T13:09:39.090Z"
      },
      {
        "duration": 0,
        "start_time": "2023-01-25T13:09:39.091Z"
      },
      {
        "duration": 0,
        "start_time": "2023-01-25T13:09:39.093Z"
      },
      {
        "duration": 0,
        "start_time": "2023-01-25T13:09:39.095Z"
      },
      {
        "duration": 0,
        "start_time": "2023-01-25T13:09:39.096Z"
      },
      {
        "duration": 0,
        "start_time": "2023-01-25T13:09:39.098Z"
      },
      {
        "duration": 0,
        "start_time": "2023-01-25T13:09:39.099Z"
      },
      {
        "duration": 9,
        "start_time": "2023-01-25T13:10:26.547Z"
      },
      {
        "duration": 6,
        "start_time": "2023-01-25T13:10:36.052Z"
      },
      {
        "duration": 34,
        "start_time": "2023-01-25T13:11:33.888Z"
      },
      {
        "duration": 22,
        "start_time": "2023-01-25T13:12:11.233Z"
      },
      {
        "duration": 4,
        "start_time": "2023-01-25T13:12:48.662Z"
      },
      {
        "duration": 21,
        "start_time": "2023-01-25T13:12:53.361Z"
      }
    ],
    "kernelspec": {
      "display_name": "Python 3 (ipykernel)",
      "language": "python",
      "name": "python3"
    },
    "language_info": {
      "codemirror_mode": {
        "name": "ipython",
        "version": 3
      },
      "file_extension": ".py",
      "mimetype": "text/x-python",
      "name": "python",
      "nbconvert_exporter": "python",
      "pygments_lexer": "ipython3",
      "version": "3.9.5"
    },
    "toc": {
      "base_numbering": 1,
      "nav_menu": {},
      "number_sections": true,
      "sideBar": true,
      "skip_h1_title": true,
      "title_cell": "Table of Contents",
      "title_sidebar": "Contents",
      "toc_cell": false,
      "toc_position": {},
      "toc_section_display": true,
      "toc_window_display": true
    },
    "colab": {
      "provenance": []
    }
  },
  "nbformat": 4,
  "nbformat_minor": 0
}